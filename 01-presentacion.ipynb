{
 "cells": [
  {
   "cell_type": "code",
   "execution_count": 2,
   "id": "69a5728d",
   "metadata": {
    "slideshow": {
     "slide_type": "skip"
    }
   },
   "outputs": [],
   "source": [
    "import matplotlib.pyplot as plt\n",
    "from mpl_toolkits.mplot3d import axes3d\n",
    "import numpy as np\n",
    "import sympy as sp\n",
    "import pandas as pd\n",
    "from ipywidgets import interact\n",
    "from IPython.display import display\n",
    "from ipyleaflet import Map"
   ]
  },
  {
   "cell_type": "markdown",
   "id": "e7a91706",
   "metadata": {
    "slideshow": {
     "slide_type": "slide"
    }
   },
   "source": [
    "<div align=\"center\">\n",
    "    <h1>JUPYTER NOTEBOOKS SEMINARIO 2021</h1>\n",
    "    <img src=\"img/Jupyter_logo.svg\" style=\"margin-left:auto; margin-right:auto\" width=\"20%\" height=\"20%\">\n",
    "</div>\n",
    "\n",
    "## Grupo 09\n",
    "- Cabrera, Miguel\n",
    "- Bermejo Zambrini, Gonzalo Martín\n",
    "\n",
    "### Repositorio: https://github.com/gmbz/frro-soporte-seminario-2021"
   ]
  },
  {
   "cell_type": "markdown",
   "id": "04c3c0d7",
   "metadata": {
    "slideshow": {
     "slide_type": "slide"
    }
   },
   "source": [
    "1. [Jupyter Notebook](#¿Qué-es-Jupyter-Notebook?)\n",
    "1. [Instalación](#Instalación)\n",
    "1. [Uso de Jupyter Notebook](#Uso-de-Jupyter-Notebook)\n",
    "1. [Jupyter Lab](#Jupyter-Lab)\n",
    "1. [Widgets](#Widgets)\n",
    "1. [Funciones mágicas](#Funciones-mágicas)\n",
    "1. [Contextual Help](#Contextual-Help)\n",
    "1. [Extensiones](#Extensiones)\n",
    "1. [Buenas prácticas](#Buenas-prácticas)\n",
    "1. [Ofertas Laborales](#Ofertas-laborales)\n",
    "1. [Referencias](#Referencias)"
   ]
  },
  {
   "cell_type": "markdown",
   "id": "4ed74930",
   "metadata": {
    "slideshow": {
     "slide_type": "notes"
    }
   },
   "source": [
    "- [x] jupyter notebook\n",
    "- [x] instalacion\n",
    "- [x] uso de Jupyter Notebook\n",
    "    - [x] crear un notebook\n",
    "    - [x] codigo\n",
    "    - [x] markdown\n",
    "    - [x] latex\n",
    "    - [x] atajos del teclado\n",
    "    - [x] pandas\n",
    "    - [x] matplotlib\n",
    "- [x] jupyter lab (hacer demo)\n",
    "- [x] ofertas laborales\n",
    "- [x] kernel\n",
    "- [x] widgets\n",
    "- [x] funciones magicas\n",
    "    - [x] timeit\n",
    "    - [x] store\n",
    "    - [x] html\n",
    "    - [x] lsmagic\n",
    "- [x] contextual help\n",
    "- [x] extensiones\n",
    "    - [x] nbextensions\n",
    "    - [x] Tabla de contenido\n",
    "    - [x] Collapsible headings\n",
    "    - [x] Hinterland\n",
    "    - [x] RISE\n",
    "- [x] buenas practicas\n",
    "- [x] referencias"
   ]
  },
  {
   "cell_type": "markdown",
   "id": "b3e809ae",
   "metadata": {
    "slideshow": {
     "slide_type": "slide"
    }
   },
   "source": [
    "# ¿Qué es Jupyter Notebook?\n",
    "La palabra Jupyter es un acrónimo formado a partir de: **Julia** + **Python** + **R**\n",
    "\n",
    "Combina 3 componentes:\n",
    "- Jupyter Notebook App.\n",
    "- Notebooks.\n",
    "- Kernel.\n"
   ]
  },
  {
   "cell_type": "markdown",
   "id": "60561753",
   "metadata": {
    "slideshow": {
     "slide_type": "subslide"
    }
   },
   "source": [
    "## Jupyter Notebook App\n",
    "Interfaz Web para el manejo de notebooks"
   ]
  },
  {
   "cell_type": "markdown",
   "id": "78aa7518",
   "metadata": {
    "slideshow": {
     "slide_type": "notes"
    }
   },
   "source": [
    "**Jupyter notebook app** es una aplicación web de código abierto que permite la creación y manejo de notebooks en el navegador."
   ]
  },
  {
   "cell_type": "markdown",
   "id": "a4289785-658f-45f3-bc55-b22ebfc59397",
   "metadata": {
    "slideshow": {
     "slide_type": "subslide"
    },
    "tags": []
   },
   "source": [
    "## Notebook\n",
    "- Permite la combinación de una narrativa, un código y los resultados de los cálculos en un solo lugar.\n",
    "- Interfaz intuitiva fácil de usar\n",
    "- Flexibilidad para admitir múltiples lenguajes de programación\n",
    "- Integración con entornos de computación en la nube"
   ]
  },
  {
   "cell_type": "markdown",
   "id": "c77f08f7-6b39-467a-a8b6-fc08ba1f93a6",
   "metadata": {
    "slideshow": {
     "slide_type": "notes"
    }
   },
   "source": [
    "Un **notebook** es un documento que contiene tanto código (por ejemplo, Python o R) como elementos de texto enriquecido (párrafos, ecuaciones, figuras, enlaces, etc.). Es tanto un documento legible por un ser humano, pudiendo contener la descripción de un análisis de datos y sus resultados (figuras, tablas, etc.), como ejecutable por una computadora, pudiendo contener snippets de código que ejecutan por ejemplo un análisis de datos.\n",
    "\n",
    "Debido a esta capacidad de mezclar, código y elementos de texto, este tipo de documentos son ideales para colocar el trabajo de un data scientist (científico de datos), reuniendo el análisis y los resultados en un mismo lugar, a la vez que permite ser ejecutado en tiempo real.\n",
    "\n",
    "Los notebooks pueden exportarse a distintos formatos como pdf, html, latex, etc para ser compartidos con otras personas con mucha facilidad. También pueden ser compartidos con otras personas a través de GitHub, ya que esta plataforma permite visualizar los notebooks como si estuvieras en la aplicación de Jupyter, con la única diferencia que no se puede interactuar con el documento."
   ]
  },
  {
   "cell_type": "markdown",
   "id": "119cd706",
   "metadata": {
    "slideshow": {
     "slide_type": "subslide"
    }
   },
   "source": [
    "# Kernel\n",
    "- Donde se ejecuta el código.\n",
    "- Uso del Kernel [Demo](02-kernel-demo.ipynb).\n",
    "- Lista de [Kernels](https://github.com/jupyter/jupyter/wiki/Jupyter-kernels)\n",
    "\n",
    "<div align=\"center\">\n",
    "    <img src=\"img/R_logo.svg\" style=\"margin-left:auto; margin-right:auto\" width=\"10%\" height=\"10%\"><img src=\"img/Julia_prog_language.svg\" style=\"margin-left:auto; margin-right:auto\" width=\"10%\" height=\"10%\"><img src=\"img/Python-logo-notext.svg\" style=\"margin-left:auto; margin-right:auto\"><img src=\"img/Scala-full-color.svg\" style=\"margin-left:auto; margin-right:auto\" width=\"20%\" height=\"10%\">\n",
    "</div>"
   ]
  },
  {
   "cell_type": "markdown",
   "id": "16756f92-f3ed-4a81-81fb-8c4dc463c7aa",
   "metadata": {
    "slideshow": {
     "slide_type": "notes"
    },
    "tags": []
   },
   "source": [
    "El **kernel** es el motor del notebook, es donde se ejecuta el código y proporciona las salidas de las celdas. Cuando se abre un notebook, el kernel asociado se ejecuta de forma automática.\n",
    "Jupyter por defecto nos instala solo el kernel de python (IPython), pero al ser de código abierto permite que la comunidad desarrolle sus propios kernels, tal es así que hoy en día hay mas de 100 kernels que podemos utilizar en los notebooks.\n",
    "\n",
    "### Uso del kernel\n",
    "Si abrimos el menu *Kernel* (en la parte de arriba de nuestro notebook), nos va a mostrar varias opciones:\n",
    "\n",
    "![Menu kernel](img/kernel-1.png)\n",
    "\n",
    "- Interrupt: interrumpe la ejecución de la celda.\n",
    "- Restart: resetea el kernel, es decir, borra todas las variables.\n",
    "- Restart & Clear Output: resetea el kernel y borra todas las salidas de las celdas que tengamos.\n",
    "- Restart & Run All: resetea el kernel y vuelve a ejecutar todas las celdas secuencialmente.\n",
    "- Reconnect: vuelve a conectar el kernel.\n",
    "- Shutdown: apaga el kernel.\n",
    "\n",
    "### Lista de kernels\n",
    "Hay una lista de kernels en este repositorio de GitHub. [Repositorio](https://github.com/jupyter/jupyter/wiki/Jupyter-kernels)\n"
   ]
  },
  {
   "cell_type": "markdown",
   "id": "80becf6d",
   "metadata": {
    "slideshow": {
     "slide_type": "slide"
    }
   },
   "source": [
    "# Instalación\n",
    "- [Proyect Jupyter](https://jupyter.org/install).\n",
    "- [Anaconda](https://www.anaconda.com/products/individual).\n",
    "    - Windows.\n",
    "    - Linux."
   ]
  },
  {
   "cell_type": "markdown",
   "id": "3f9009e5",
   "metadata": {
    "slideshow": {
     "slide_type": "subslide"
    }
   },
   "source": [
    "## Anaconda\n",
    "\n",
    "### Windows\n",
    "- Descargar instalador.\n",
    "- Solo dar siguiente.\n",
    "- Tildar **ADD TO PATH** cuando nos de la opción.\n",
    "\n",
    "### Linux\n",
    "- Descargar instalador.\n",
    "- `bash ~/Descargas/Anaconda3-2021.05-Linux-x86_64.sh`\n"
   ]
  },
  {
   "cell_type": "markdown",
   "id": "7c4ed805",
   "metadata": {
    "slideshow": {
     "slide_type": "notes"
    }
   },
   "source": [
    "Podemos instalar Jupyter Notebook desde su página principal, vamos a la seccíon *Install* y vemos que nos dice que tenemos que ejecutar el comando `pip install notebook` en consola para instalarlo, luego para abrirlo ejecutamos el comando `jupyter notebook` y se nos va a abrir una pestaña en nuestro navegador con el dashboard de jupyter.\n",
    "\n",
    "Otra forma de instalarlo es con Anaconda,\n",
    "\n",
    "### Linux\n",
    "Vamos al sitio oficial de Anaconda y descargamos el instalador. En la terminal ejecutamos `bash ~/Descargas/<nombre del archivo>.sh` por ejemplo: `bash ~/Descargas/Anaconda3-2021.05-Linux-x86_64.sh` (si el archivo no está en la carpeta descargas, debemos cambiar la parte `/Descargas/` por la carpeta donde esté), luego presionamos *Enter* para iniciar el proceso. Ahora presionamos *Enter* (varias veces) para ver la licencia hasta que nos pida que ingresemos *yes* para continuar con la instalación. Una vez instalado solo tenemos que ejecutar el comando `jupyter notebook` y se nos va a abrir una pestaña en nuestro navegador con el dashboard de jupyter.\n",
    "\n",
    "### Windows\n",
    "Vamos al sitio oficial de Anaconda y descargamos el instalador gráfico de acuerdo a nuestra arquitectura de pc (32 0 64 bits), ejecutamos el instalador y lo único que tenemos que hacer el hacer clic en *Siguiente* hasta que nos tire la opción de **ADD TO PATH** y la seleccionamos, nos va a aparecer un mensaje en rojo pero no debemos preocuparnos por eso, luego seguimos dando a *Siguiente* hasta que terminemos la instalación. Luego para abrir un notebook ejecutamos el comando `jupyter notebook` y se nos va a abrir una pestaña en nuestro navegador con el dashboard de jupyter o podemos abrir la interfaz de anaconda (escribiendo en el buscador de windows \"anaconda\") y haciendo click en *Launch* de Jupyter Notebook.\n",
    "\n",
    "![Abrir notebook desde la interfaz de anaconda](img/instalacion-1.png)"
   ]
  },
  {
   "cell_type": "markdown",
   "id": "c6860bc0",
   "metadata": {
    "slideshow": {
     "slide_type": "slide"
    }
   },
   "source": [
    "# Uso de Jupyter Notebook\n",
    "\n",
    "- Crear notebook (demo).\n",
    "- Codigo\n",
    "- Markdown\n",
    "- Latex\n",
    "- Atajos de teclado"
   ]
  },
  {
   "cell_type": "markdown",
   "id": "598d4a3d",
   "metadata": {
    "slideshow": {
     "slide_type": "subslide"
    }
   },
   "source": [
    "## Codigo"
   ]
  },
  {
   "cell_type": "code",
   "execution_count": 9,
   "id": "e5e5df6c",
   "metadata": {
    "scrolled": true,
    "slideshow": {
     "slide_type": "fragment"
    }
   },
   "outputs": [
    {
     "name": "stdout",
     "output_type": "stream",
     "text": [
      "Hola mundo\n"
     ]
    }
   ],
   "source": [
    "print(\"Hola mundo\")"
   ]
  },
  {
   "cell_type": "markdown",
   "id": "5ae90860",
   "metadata": {
    "slideshow": {
     "slide_type": "subslide"
    }
   },
   "source": [
    "## Markdown"
   ]
  },
  {
   "cell_type": "markdown",
   "id": "1ffe6d2d",
   "metadata": {
    "slideshow": {
     "slide_type": "fragment"
    }
   },
   "source": [
    "# Titulos\n",
    "## Subtitulos \n",
    "\n",
    "- Listas desordenadas\n",
    "- Listas desordenadas\n",
    "1. Listas ordenadas\n",
    "1. Listas ordenadas\n",
    "\n",
    "**Negrita**\n",
    "\n",
    "*Italica*\n",
    "\n",
    "#### Links\n",
    "[google](https://www.google.com/)\n"
   ]
  },
  {
   "cell_type": "markdown",
   "id": "1d0562de",
   "metadata": {
    "slideshow": {
     "slide_type": "subslide"
    }
   },
   "source": [
    "## Latex"
   ]
  },
  {
   "cell_type": "markdown",
   "id": "800ad970",
   "metadata": {
    "slideshow": {
     "slide_type": "fragment"
    }
   },
   "source": [
    "dsadsa $\\int_{a}^{b}f(x) dx$\n",
    "$$\\int_{a}^{b}f(x) dx$$"
   ]
  },
  {
   "cell_type": "markdown",
   "id": "43708198",
   "metadata": {
    "slideshow": {
     "slide_type": "notes"
    }
   },
   "source": [
    "### Modos de Edición y Comando\n",
    "\n",
    "Al seleccionar una celda, ésta puede colocarse en modo de edición (el borde izquierdo que indica la celda activa será de color verde) o en modo de comando (el color del borde izquierdo será azul). Para pasar entre un modo u otro se puede usar el teclado (*Esc* y *Return*) o el mouse (pulsando el puntero dentro de la celda o sobre el espacio vacío de la izquierda).\n",
    "\n",
    "### Atajos de teclado\n",
    "\n",
    "Hay un enorme conjunto de atajos de teclado que facilitan el uso del entorno, pueden ver la lista a través del menú *Help/Keyboard Shortcuts*. También se pueden editar y agregar combinaciones de teclas mediante el menú *Help/Edit Keyboard Shortcuts*, por ejemplo es muy util definir un *keybinding* para mover las celdas hacia arriba y otro para moverlas hacia abajo. A través del menú *Help* también se accede a un tour educativo por las diferentes partes del entorno.\n",
    "\n",
    "Principales combinaciones útiles (funcionan cuando la celda está en modo **Comando**):"
   ]
  },
  {
   "cell_type": "markdown",
   "id": "4e1bfaad",
   "metadata": {
    "slideshow": {
     "slide_type": "subslide"
    }
   },
   "source": [
    "## Atajos de teclado\n",
    "\n",
    "|Atajo de teclado|Función|\n",
    "|:---|:---|\n",
    "|Shift+Enter|Ejecuta la celda actual y pasa a la siguiente|\n",
    "|A|Inserta una celda encima de la actual|\n",
    "|B|Inserta una celda debajo de la actual|\n",
    "|DD|Borra la celda actual|\n",
    "|Y|Convierte la celda en **Code**|\n",
    "|M|Convierte la celda en **Markdown**|"
   ]
  },
  {
   "cell_type": "markdown",
   "id": "ad79642b",
   "metadata": {
    "slideshow": {
     "slide_type": "subslide"
    }
   },
   "source": [
    "## Pandas"
   ]
  },
  {
   "cell_type": "code",
   "execution_count": 1,
   "id": "910f4b0f",
   "metadata": {
    "scrolled": true,
    "slideshow": {
     "slide_type": "skip"
    }
   },
   "outputs": [],
   "source": [
    "def puntos_random(n):\n",
    "    \"\"\"Esta funcion devuelve numeros random\"\"\"\n",
    "    p = []\n",
    "    x = np.random.randn(n)\n",
    "    y = np.random.randn(n)\n",
    "    p = list(zip(x,y))\n",
    "    return p"
   ]
  },
  {
   "cell_type": "code",
   "execution_count": 3,
   "id": "4b075f3a",
   "metadata": {
    "slideshow": {
     "slide_type": "skip"
    }
   },
   "outputs": [],
   "source": [
    "def dataframe_puntos_random():\n",
    "    puntos = puntos_random(100)\n",
    "    return pd.DataFrame(data = puntos, columns = ['x','y'])\n",
    "tabla = dataframe_puntos_random()"
   ]
  },
  {
   "cell_type": "code",
   "execution_count": 10,
   "id": "f1a92173",
   "metadata": {
    "slideshow": {
     "slide_type": "fragment"
    }
   },
   "outputs": [
    {
     "data": {
      "text/html": [
       "<div>\n",
       "<style scoped>\n",
       "    .dataframe tbody tr th:only-of-type {\n",
       "        vertical-align: middle;\n",
       "    }\n",
       "\n",
       "    .dataframe tbody tr th {\n",
       "        vertical-align: top;\n",
       "    }\n",
       "\n",
       "    .dataframe thead th {\n",
       "        text-align: right;\n",
       "    }\n",
       "</style>\n",
       "<table border=\"1\" class=\"dataframe\">\n",
       "  <thead>\n",
       "    <tr style=\"text-align: right;\">\n",
       "      <th></th>\n",
       "      <th>x</th>\n",
       "      <th>y</th>\n",
       "    </tr>\n",
       "  </thead>\n",
       "  <tbody>\n",
       "    <tr>\n",
       "      <th>0</th>\n",
       "      <td>0.430020</td>\n",
       "      <td>0.679297</td>\n",
       "    </tr>\n",
       "    <tr>\n",
       "      <th>1</th>\n",
       "      <td>-0.286139</td>\n",
       "      <td>0.629136</td>\n",
       "    </tr>\n",
       "    <tr>\n",
       "      <th>2</th>\n",
       "      <td>0.949575</td>\n",
       "      <td>0.150589</td>\n",
       "    </tr>\n",
       "    <tr>\n",
       "      <th>3</th>\n",
       "      <td>-2.538661</td>\n",
       "      <td>1.483846</td>\n",
       "    </tr>\n",
       "    <tr>\n",
       "      <th>4</th>\n",
       "      <td>0.189930</td>\n",
       "      <td>-1.425419</td>\n",
       "    </tr>\n",
       "    <tr>\n",
       "      <th>...</th>\n",
       "      <td>...</td>\n",
       "      <td>...</td>\n",
       "    </tr>\n",
       "    <tr>\n",
       "      <th>95</th>\n",
       "      <td>-0.914408</td>\n",
       "      <td>0.425930</td>\n",
       "    </tr>\n",
       "    <tr>\n",
       "      <th>96</th>\n",
       "      <td>0.151552</td>\n",
       "      <td>2.349284</td>\n",
       "    </tr>\n",
       "    <tr>\n",
       "      <th>97</th>\n",
       "      <td>-0.349934</td>\n",
       "      <td>-0.264635</td>\n",
       "    </tr>\n",
       "    <tr>\n",
       "      <th>98</th>\n",
       "      <td>-0.450197</td>\n",
       "      <td>-1.780901</td>\n",
       "    </tr>\n",
       "    <tr>\n",
       "      <th>99</th>\n",
       "      <td>-0.100993</td>\n",
       "      <td>-0.841528</td>\n",
       "    </tr>\n",
       "  </tbody>\n",
       "</table>\n",
       "<p>100 rows × 2 columns</p>\n",
       "</div>"
      ],
      "text/plain": [
       "           x         y\n",
       "0   0.430020  0.679297\n",
       "1  -0.286139  0.629136\n",
       "2   0.949575  0.150589\n",
       "3  -2.538661  1.483846\n",
       "4   0.189930 -1.425419\n",
       "..       ...       ...\n",
       "95 -0.914408  0.425930\n",
       "96  0.151552  2.349284\n",
       "97 -0.349934 -0.264635\n",
       "98 -0.450197 -1.780901\n",
       "99 -0.100993 -0.841528\n",
       "\n",
       "[100 rows x 2 columns]"
      ]
     },
     "execution_count": 10,
     "metadata": {},
     "output_type": "execute_result"
    }
   ],
   "source": [
    "tabla"
   ]
  },
  {
   "cell_type": "markdown",
   "id": "a3b2ba8b",
   "metadata": {
    "slideshow": {
     "slide_type": "subslide"
    }
   },
   "source": [
    "## Graficos"
   ]
  },
  {
   "cell_type": "code",
   "execution_count": 4,
   "id": "259cbe37",
   "metadata": {
    "slideshow": {
     "slide_type": "skip"
    }
   },
   "outputs": [],
   "source": [
    "def grafico_puntos_random(df):\n",
    "    plt.scatter(df.x,df.y)"
   ]
  },
  {
   "cell_type": "code",
   "execution_count": 11,
   "id": "c1724be7",
   "metadata": {
    "slideshow": {
     "slide_type": "fragment"
    }
   },
   "outputs": [
    {
     "data": {
      "application/javascript": [
       "/* Put everything inside the global mpl namespace */\n",
       "/* global mpl */\n",
       "window.mpl = {};\n",
       "\n",
       "mpl.get_websocket_type = function () {\n",
       "    if (typeof WebSocket !== 'undefined') {\n",
       "        return WebSocket;\n",
       "    } else if (typeof MozWebSocket !== 'undefined') {\n",
       "        return MozWebSocket;\n",
       "    } else {\n",
       "        alert(\n",
       "            'Your browser does not have WebSocket support. ' +\n",
       "                'Please try Chrome, Safari or Firefox ≥ 6. ' +\n",
       "                'Firefox 4 and 5 are also supported but you ' +\n",
       "                'have to enable WebSockets in about:config.'\n",
       "        );\n",
       "    }\n",
       "};\n",
       "\n",
       "mpl.figure = function (figure_id, websocket, ondownload, parent_element) {\n",
       "    this.id = figure_id;\n",
       "\n",
       "    this.ws = websocket;\n",
       "\n",
       "    this.supports_binary = this.ws.binaryType !== undefined;\n",
       "\n",
       "    if (!this.supports_binary) {\n",
       "        var warnings = document.getElementById('mpl-warnings');\n",
       "        if (warnings) {\n",
       "            warnings.style.display = 'block';\n",
       "            warnings.textContent =\n",
       "                'This browser does not support binary websocket messages. ' +\n",
       "                'Performance may be slow.';\n",
       "        }\n",
       "    }\n",
       "\n",
       "    this.imageObj = new Image();\n",
       "\n",
       "    this.context = undefined;\n",
       "    this.message = undefined;\n",
       "    this.canvas = undefined;\n",
       "    this.rubberband_canvas = undefined;\n",
       "    this.rubberband_context = undefined;\n",
       "    this.format_dropdown = undefined;\n",
       "\n",
       "    this.image_mode = 'full';\n",
       "\n",
       "    this.root = document.createElement('div');\n",
       "    this.root.setAttribute('style', 'display: inline-block');\n",
       "    this._root_extra_style(this.root);\n",
       "\n",
       "    parent_element.appendChild(this.root);\n",
       "\n",
       "    this._init_header(this);\n",
       "    this._init_canvas(this);\n",
       "    this._init_toolbar(this);\n",
       "\n",
       "    var fig = this;\n",
       "\n",
       "    this.waiting = false;\n",
       "\n",
       "    this.ws.onopen = function () {\n",
       "        fig.send_message('supports_binary', { value: fig.supports_binary });\n",
       "        fig.send_message('send_image_mode', {});\n",
       "        if (fig.ratio !== 1) {\n",
       "            fig.send_message('set_dpi_ratio', { dpi_ratio: fig.ratio });\n",
       "        }\n",
       "        fig.send_message('refresh', {});\n",
       "    };\n",
       "\n",
       "    this.imageObj.onload = function () {\n",
       "        if (fig.image_mode === 'full') {\n",
       "            // Full images could contain transparency (where diff images\n",
       "            // almost always do), so we need to clear the canvas so that\n",
       "            // there is no ghosting.\n",
       "            fig.context.clearRect(0, 0, fig.canvas.width, fig.canvas.height);\n",
       "        }\n",
       "        fig.context.drawImage(fig.imageObj, 0, 0);\n",
       "    };\n",
       "\n",
       "    this.imageObj.onunload = function () {\n",
       "        fig.ws.close();\n",
       "    };\n",
       "\n",
       "    this.ws.onmessage = this._make_on_message_function(this);\n",
       "\n",
       "    this.ondownload = ondownload;\n",
       "};\n",
       "\n",
       "mpl.figure.prototype._init_header = function () {\n",
       "    var titlebar = document.createElement('div');\n",
       "    titlebar.classList =\n",
       "        'ui-dialog-titlebar ui-widget-header ui-corner-all ui-helper-clearfix';\n",
       "    var titletext = document.createElement('div');\n",
       "    titletext.classList = 'ui-dialog-title';\n",
       "    titletext.setAttribute(\n",
       "        'style',\n",
       "        'width: 100%; text-align: center; padding: 3px;'\n",
       "    );\n",
       "    titlebar.appendChild(titletext);\n",
       "    this.root.appendChild(titlebar);\n",
       "    this.header = titletext;\n",
       "};\n",
       "\n",
       "mpl.figure.prototype._canvas_extra_style = function (_canvas_div) {};\n",
       "\n",
       "mpl.figure.prototype._root_extra_style = function (_canvas_div) {};\n",
       "\n",
       "mpl.figure.prototype._init_canvas = function () {\n",
       "    var fig = this;\n",
       "\n",
       "    var canvas_div = (this.canvas_div = document.createElement('div'));\n",
       "    canvas_div.setAttribute(\n",
       "        'style',\n",
       "        'border: 1px solid #ddd;' +\n",
       "            'box-sizing: content-box;' +\n",
       "            'clear: both;' +\n",
       "            'min-height: 1px;' +\n",
       "            'min-width: 1px;' +\n",
       "            'outline: 0;' +\n",
       "            'overflow: hidden;' +\n",
       "            'position: relative;' +\n",
       "            'resize: both;'\n",
       "    );\n",
       "\n",
       "    function on_keyboard_event_closure(name) {\n",
       "        return function (event) {\n",
       "            return fig.key_event(event, name);\n",
       "        };\n",
       "    }\n",
       "\n",
       "    canvas_div.addEventListener(\n",
       "        'keydown',\n",
       "        on_keyboard_event_closure('key_press')\n",
       "    );\n",
       "    canvas_div.addEventListener(\n",
       "        'keyup',\n",
       "        on_keyboard_event_closure('key_release')\n",
       "    );\n",
       "\n",
       "    this._canvas_extra_style(canvas_div);\n",
       "    this.root.appendChild(canvas_div);\n",
       "\n",
       "    var canvas = (this.canvas = document.createElement('canvas'));\n",
       "    canvas.classList.add('mpl-canvas');\n",
       "    canvas.setAttribute('style', 'box-sizing: content-box;');\n",
       "\n",
       "    this.context = canvas.getContext('2d');\n",
       "\n",
       "    var backingStore =\n",
       "        this.context.backingStorePixelRatio ||\n",
       "        this.context.webkitBackingStorePixelRatio ||\n",
       "        this.context.mozBackingStorePixelRatio ||\n",
       "        this.context.msBackingStorePixelRatio ||\n",
       "        this.context.oBackingStorePixelRatio ||\n",
       "        this.context.backingStorePixelRatio ||\n",
       "        1;\n",
       "\n",
       "    this.ratio = (window.devicePixelRatio || 1) / backingStore;\n",
       "\n",
       "    var rubberband_canvas = (this.rubberband_canvas = document.createElement(\n",
       "        'canvas'\n",
       "    ));\n",
       "    rubberband_canvas.setAttribute(\n",
       "        'style',\n",
       "        'box-sizing: content-box; position: absolute; left: 0; top: 0; z-index: 1;'\n",
       "    );\n",
       "\n",
       "    // Apply a ponyfill if ResizeObserver is not implemented by browser.\n",
       "    if (this.ResizeObserver === undefined) {\n",
       "        if (window.ResizeObserver !== undefined) {\n",
       "            this.ResizeObserver = window.ResizeObserver;\n",
       "        } else {\n",
       "            var obs = _JSXTOOLS_RESIZE_OBSERVER({});\n",
       "            this.ResizeObserver = obs.ResizeObserver;\n",
       "        }\n",
       "    }\n",
       "\n",
       "    this.resizeObserverInstance = new this.ResizeObserver(function (entries) {\n",
       "        var nentries = entries.length;\n",
       "        for (var i = 0; i < nentries; i++) {\n",
       "            var entry = entries[i];\n",
       "            var width, height;\n",
       "            if (entry.contentBoxSize) {\n",
       "                if (entry.contentBoxSize instanceof Array) {\n",
       "                    // Chrome 84 implements new version of spec.\n",
       "                    width = entry.contentBoxSize[0].inlineSize;\n",
       "                    height = entry.contentBoxSize[0].blockSize;\n",
       "                } else {\n",
       "                    // Firefox implements old version of spec.\n",
       "                    width = entry.contentBoxSize.inlineSize;\n",
       "                    height = entry.contentBoxSize.blockSize;\n",
       "                }\n",
       "            } else {\n",
       "                // Chrome <84 implements even older version of spec.\n",
       "                width = entry.contentRect.width;\n",
       "                height = entry.contentRect.height;\n",
       "            }\n",
       "\n",
       "            // Keep the size of the canvas and rubber band canvas in sync with\n",
       "            // the canvas container.\n",
       "            if (entry.devicePixelContentBoxSize) {\n",
       "                // Chrome 84 implements new version of spec.\n",
       "                canvas.setAttribute(\n",
       "                    'width',\n",
       "                    entry.devicePixelContentBoxSize[0].inlineSize\n",
       "                );\n",
       "                canvas.setAttribute(\n",
       "                    'height',\n",
       "                    entry.devicePixelContentBoxSize[0].blockSize\n",
       "                );\n",
       "            } else {\n",
       "                canvas.setAttribute('width', width * fig.ratio);\n",
       "                canvas.setAttribute('height', height * fig.ratio);\n",
       "            }\n",
       "            canvas.setAttribute(\n",
       "                'style',\n",
       "                'width: ' + width + 'px; height: ' + height + 'px;'\n",
       "            );\n",
       "\n",
       "            rubberband_canvas.setAttribute('width', width);\n",
       "            rubberband_canvas.setAttribute('height', height);\n",
       "\n",
       "            // And update the size in Python. We ignore the initial 0/0 size\n",
       "            // that occurs as the element is placed into the DOM, which should\n",
       "            // otherwise not happen due to the minimum size styling.\n",
       "            if (fig.ws.readyState == 1 && width != 0 && height != 0) {\n",
       "                fig.request_resize(width, height);\n",
       "            }\n",
       "        }\n",
       "    });\n",
       "    this.resizeObserverInstance.observe(canvas_div);\n",
       "\n",
       "    function on_mouse_event_closure(name) {\n",
       "        return function (event) {\n",
       "            return fig.mouse_event(event, name);\n",
       "        };\n",
       "    }\n",
       "\n",
       "    rubberband_canvas.addEventListener(\n",
       "        'mousedown',\n",
       "        on_mouse_event_closure('button_press')\n",
       "    );\n",
       "    rubberband_canvas.addEventListener(\n",
       "        'mouseup',\n",
       "        on_mouse_event_closure('button_release')\n",
       "    );\n",
       "    // Throttle sequential mouse events to 1 every 20ms.\n",
       "    rubberband_canvas.addEventListener(\n",
       "        'mousemove',\n",
       "        on_mouse_event_closure('motion_notify')\n",
       "    );\n",
       "\n",
       "    rubberband_canvas.addEventListener(\n",
       "        'mouseenter',\n",
       "        on_mouse_event_closure('figure_enter')\n",
       "    );\n",
       "    rubberband_canvas.addEventListener(\n",
       "        'mouseleave',\n",
       "        on_mouse_event_closure('figure_leave')\n",
       "    );\n",
       "\n",
       "    canvas_div.addEventListener('wheel', function (event) {\n",
       "        if (event.deltaY < 0) {\n",
       "            event.step = 1;\n",
       "        } else {\n",
       "            event.step = -1;\n",
       "        }\n",
       "        on_mouse_event_closure('scroll')(event);\n",
       "    });\n",
       "\n",
       "    canvas_div.appendChild(canvas);\n",
       "    canvas_div.appendChild(rubberband_canvas);\n",
       "\n",
       "    this.rubberband_context = rubberband_canvas.getContext('2d');\n",
       "    this.rubberband_context.strokeStyle = '#000000';\n",
       "\n",
       "    this._resize_canvas = function (width, height, forward) {\n",
       "        if (forward) {\n",
       "            canvas_div.style.width = width + 'px';\n",
       "            canvas_div.style.height = height + 'px';\n",
       "        }\n",
       "    };\n",
       "\n",
       "    // Disable right mouse context menu.\n",
       "    this.rubberband_canvas.addEventListener('contextmenu', function (_e) {\n",
       "        event.preventDefault();\n",
       "        return false;\n",
       "    });\n",
       "\n",
       "    function set_focus() {\n",
       "        canvas.focus();\n",
       "        canvas_div.focus();\n",
       "    }\n",
       "\n",
       "    window.setTimeout(set_focus, 100);\n",
       "};\n",
       "\n",
       "mpl.figure.prototype._init_toolbar = function () {\n",
       "    var fig = this;\n",
       "\n",
       "    var toolbar = document.createElement('div');\n",
       "    toolbar.classList = 'mpl-toolbar';\n",
       "    this.root.appendChild(toolbar);\n",
       "\n",
       "    function on_click_closure(name) {\n",
       "        return function (_event) {\n",
       "            return fig.toolbar_button_onclick(name);\n",
       "        };\n",
       "    }\n",
       "\n",
       "    function on_mouseover_closure(tooltip) {\n",
       "        return function (event) {\n",
       "            if (!event.currentTarget.disabled) {\n",
       "                return fig.toolbar_button_onmouseover(tooltip);\n",
       "            }\n",
       "        };\n",
       "    }\n",
       "\n",
       "    fig.buttons = {};\n",
       "    var buttonGroup = document.createElement('div');\n",
       "    buttonGroup.classList = 'mpl-button-group';\n",
       "    for (var toolbar_ind in mpl.toolbar_items) {\n",
       "        var name = mpl.toolbar_items[toolbar_ind][0];\n",
       "        var tooltip = mpl.toolbar_items[toolbar_ind][1];\n",
       "        var image = mpl.toolbar_items[toolbar_ind][2];\n",
       "        var method_name = mpl.toolbar_items[toolbar_ind][3];\n",
       "\n",
       "        if (!name) {\n",
       "            /* Instead of a spacer, we start a new button group. */\n",
       "            if (buttonGroup.hasChildNodes()) {\n",
       "                toolbar.appendChild(buttonGroup);\n",
       "            }\n",
       "            buttonGroup = document.createElement('div');\n",
       "            buttonGroup.classList = 'mpl-button-group';\n",
       "            continue;\n",
       "        }\n",
       "\n",
       "        var button = (fig.buttons[name] = document.createElement('button'));\n",
       "        button.classList = 'mpl-widget';\n",
       "        button.setAttribute('role', 'button');\n",
       "        button.setAttribute('aria-disabled', 'false');\n",
       "        button.addEventListener('click', on_click_closure(method_name));\n",
       "        button.addEventListener('mouseover', on_mouseover_closure(tooltip));\n",
       "\n",
       "        var icon_img = document.createElement('img');\n",
       "        icon_img.src = '_images/' + image + '.png';\n",
       "        icon_img.srcset = '_images/' + image + '_large.png 2x';\n",
       "        icon_img.alt = tooltip;\n",
       "        button.appendChild(icon_img);\n",
       "\n",
       "        buttonGroup.appendChild(button);\n",
       "    }\n",
       "\n",
       "    if (buttonGroup.hasChildNodes()) {\n",
       "        toolbar.appendChild(buttonGroup);\n",
       "    }\n",
       "\n",
       "    var fmt_picker = document.createElement('select');\n",
       "    fmt_picker.classList = 'mpl-widget';\n",
       "    toolbar.appendChild(fmt_picker);\n",
       "    this.format_dropdown = fmt_picker;\n",
       "\n",
       "    for (var ind in mpl.extensions) {\n",
       "        var fmt = mpl.extensions[ind];\n",
       "        var option = document.createElement('option');\n",
       "        option.selected = fmt === mpl.default_extension;\n",
       "        option.innerHTML = fmt;\n",
       "        fmt_picker.appendChild(option);\n",
       "    }\n",
       "\n",
       "    var status_bar = document.createElement('span');\n",
       "    status_bar.classList = 'mpl-message';\n",
       "    toolbar.appendChild(status_bar);\n",
       "    this.message = status_bar;\n",
       "};\n",
       "\n",
       "mpl.figure.prototype.request_resize = function (x_pixels, y_pixels) {\n",
       "    // Request matplotlib to resize the figure. Matplotlib will then trigger a resize in the client,\n",
       "    // which will in turn request a refresh of the image.\n",
       "    this.send_message('resize', { width: x_pixels, height: y_pixels });\n",
       "};\n",
       "\n",
       "mpl.figure.prototype.send_message = function (type, properties) {\n",
       "    properties['type'] = type;\n",
       "    properties['figure_id'] = this.id;\n",
       "    this.ws.send(JSON.stringify(properties));\n",
       "};\n",
       "\n",
       "mpl.figure.prototype.send_draw_message = function () {\n",
       "    if (!this.waiting) {\n",
       "        this.waiting = true;\n",
       "        this.ws.send(JSON.stringify({ type: 'draw', figure_id: this.id }));\n",
       "    }\n",
       "};\n",
       "\n",
       "mpl.figure.prototype.handle_save = function (fig, _msg) {\n",
       "    var format_dropdown = fig.format_dropdown;\n",
       "    var format = format_dropdown.options[format_dropdown.selectedIndex].value;\n",
       "    fig.ondownload(fig, format);\n",
       "};\n",
       "\n",
       "mpl.figure.prototype.handle_resize = function (fig, msg) {\n",
       "    var size = msg['size'];\n",
       "    if (size[0] !== fig.canvas.width || size[1] !== fig.canvas.height) {\n",
       "        fig._resize_canvas(size[0], size[1], msg['forward']);\n",
       "        fig.send_message('refresh', {});\n",
       "    }\n",
       "};\n",
       "\n",
       "mpl.figure.prototype.handle_rubberband = function (fig, msg) {\n",
       "    var x0 = msg['x0'] / fig.ratio;\n",
       "    var y0 = (fig.canvas.height - msg['y0']) / fig.ratio;\n",
       "    var x1 = msg['x1'] / fig.ratio;\n",
       "    var y1 = (fig.canvas.height - msg['y1']) / fig.ratio;\n",
       "    x0 = Math.floor(x0) + 0.5;\n",
       "    y0 = Math.floor(y0) + 0.5;\n",
       "    x1 = Math.floor(x1) + 0.5;\n",
       "    y1 = Math.floor(y1) + 0.5;\n",
       "    var min_x = Math.min(x0, x1);\n",
       "    var min_y = Math.min(y0, y1);\n",
       "    var width = Math.abs(x1 - x0);\n",
       "    var height = Math.abs(y1 - y0);\n",
       "\n",
       "    fig.rubberband_context.clearRect(\n",
       "        0,\n",
       "        0,\n",
       "        fig.canvas.width / fig.ratio,\n",
       "        fig.canvas.height / fig.ratio\n",
       "    );\n",
       "\n",
       "    fig.rubberband_context.strokeRect(min_x, min_y, width, height);\n",
       "};\n",
       "\n",
       "mpl.figure.prototype.handle_figure_label = function (fig, msg) {\n",
       "    // Updates the figure title.\n",
       "    fig.header.textContent = msg['label'];\n",
       "};\n",
       "\n",
       "mpl.figure.prototype.handle_cursor = function (fig, msg) {\n",
       "    var cursor = msg['cursor'];\n",
       "    switch (cursor) {\n",
       "        case 0:\n",
       "            cursor = 'pointer';\n",
       "            break;\n",
       "        case 1:\n",
       "            cursor = 'default';\n",
       "            break;\n",
       "        case 2:\n",
       "            cursor = 'crosshair';\n",
       "            break;\n",
       "        case 3:\n",
       "            cursor = 'move';\n",
       "            break;\n",
       "    }\n",
       "    fig.rubberband_canvas.style.cursor = cursor;\n",
       "};\n",
       "\n",
       "mpl.figure.prototype.handle_message = function (fig, msg) {\n",
       "    fig.message.textContent = msg['message'];\n",
       "};\n",
       "\n",
       "mpl.figure.prototype.handle_draw = function (fig, _msg) {\n",
       "    // Request the server to send over a new figure.\n",
       "    fig.send_draw_message();\n",
       "};\n",
       "\n",
       "mpl.figure.prototype.handle_image_mode = function (fig, msg) {\n",
       "    fig.image_mode = msg['mode'];\n",
       "};\n",
       "\n",
       "mpl.figure.prototype.handle_history_buttons = function (fig, msg) {\n",
       "    for (var key in msg) {\n",
       "        if (!(key in fig.buttons)) {\n",
       "            continue;\n",
       "        }\n",
       "        fig.buttons[key].disabled = !msg[key];\n",
       "        fig.buttons[key].setAttribute('aria-disabled', !msg[key]);\n",
       "    }\n",
       "};\n",
       "\n",
       "mpl.figure.prototype.handle_navigate_mode = function (fig, msg) {\n",
       "    if (msg['mode'] === 'PAN') {\n",
       "        fig.buttons['Pan'].classList.add('active');\n",
       "        fig.buttons['Zoom'].classList.remove('active');\n",
       "    } else if (msg['mode'] === 'ZOOM') {\n",
       "        fig.buttons['Pan'].classList.remove('active');\n",
       "        fig.buttons['Zoom'].classList.add('active');\n",
       "    } else {\n",
       "        fig.buttons['Pan'].classList.remove('active');\n",
       "        fig.buttons['Zoom'].classList.remove('active');\n",
       "    }\n",
       "};\n",
       "\n",
       "mpl.figure.prototype.updated_canvas_event = function () {\n",
       "    // Called whenever the canvas gets updated.\n",
       "    this.send_message('ack', {});\n",
       "};\n",
       "\n",
       "// A function to construct a web socket function for onmessage handling.\n",
       "// Called in the figure constructor.\n",
       "mpl.figure.prototype._make_on_message_function = function (fig) {\n",
       "    return function socket_on_message(evt) {\n",
       "        if (evt.data instanceof Blob) {\n",
       "            /* FIXME: We get \"Resource interpreted as Image but\n",
       "             * transferred with MIME type text/plain:\" errors on\n",
       "             * Chrome.  But how to set the MIME type?  It doesn't seem\n",
       "             * to be part of the websocket stream */\n",
       "            evt.data.type = 'image/png';\n",
       "\n",
       "            /* Free the memory for the previous frames */\n",
       "            if (fig.imageObj.src) {\n",
       "                (window.URL || window.webkitURL).revokeObjectURL(\n",
       "                    fig.imageObj.src\n",
       "                );\n",
       "            }\n",
       "\n",
       "            fig.imageObj.src = (window.URL || window.webkitURL).createObjectURL(\n",
       "                evt.data\n",
       "            );\n",
       "            fig.updated_canvas_event();\n",
       "            fig.waiting = false;\n",
       "            return;\n",
       "        } else if (\n",
       "            typeof evt.data === 'string' &&\n",
       "            evt.data.slice(0, 21) === 'data:image/png;base64'\n",
       "        ) {\n",
       "            fig.imageObj.src = evt.data;\n",
       "            fig.updated_canvas_event();\n",
       "            fig.waiting = false;\n",
       "            return;\n",
       "        }\n",
       "\n",
       "        var msg = JSON.parse(evt.data);\n",
       "        var msg_type = msg['type'];\n",
       "\n",
       "        // Call the  \"handle_{type}\" callback, which takes\n",
       "        // the figure and JSON message as its only arguments.\n",
       "        try {\n",
       "            var callback = fig['handle_' + msg_type];\n",
       "        } catch (e) {\n",
       "            console.log(\n",
       "                \"No handler for the '\" + msg_type + \"' message type: \",\n",
       "                msg\n",
       "            );\n",
       "            return;\n",
       "        }\n",
       "\n",
       "        if (callback) {\n",
       "            try {\n",
       "                // console.log(\"Handling '\" + msg_type + \"' message: \", msg);\n",
       "                callback(fig, msg);\n",
       "            } catch (e) {\n",
       "                console.log(\n",
       "                    \"Exception inside the 'handler_\" + msg_type + \"' callback:\",\n",
       "                    e,\n",
       "                    e.stack,\n",
       "                    msg\n",
       "                );\n",
       "            }\n",
       "        }\n",
       "    };\n",
       "};\n",
       "\n",
       "// from http://stackoverflow.com/questions/1114465/getting-mouse-location-in-canvas\n",
       "mpl.findpos = function (e) {\n",
       "    //this section is from http://www.quirksmode.org/js/events_properties.html\n",
       "    var targ;\n",
       "    if (!e) {\n",
       "        e = window.event;\n",
       "    }\n",
       "    if (e.target) {\n",
       "        targ = e.target;\n",
       "    } else if (e.srcElement) {\n",
       "        targ = e.srcElement;\n",
       "    }\n",
       "    if (targ.nodeType === 3) {\n",
       "        // defeat Safari bug\n",
       "        targ = targ.parentNode;\n",
       "    }\n",
       "\n",
       "    // pageX,Y are the mouse positions relative to the document\n",
       "    var boundingRect = targ.getBoundingClientRect();\n",
       "    var x = e.pageX - (boundingRect.left + document.body.scrollLeft);\n",
       "    var y = e.pageY - (boundingRect.top + document.body.scrollTop);\n",
       "\n",
       "    return { x: x, y: y };\n",
       "};\n",
       "\n",
       "/*\n",
       " * return a copy of an object with only non-object keys\n",
       " * we need this to avoid circular references\n",
       " * http://stackoverflow.com/a/24161582/3208463\n",
       " */\n",
       "function simpleKeys(original) {\n",
       "    return Object.keys(original).reduce(function (obj, key) {\n",
       "        if (typeof original[key] !== 'object') {\n",
       "            obj[key] = original[key];\n",
       "        }\n",
       "        return obj;\n",
       "    }, {});\n",
       "}\n",
       "\n",
       "mpl.figure.prototype.mouse_event = function (event, name) {\n",
       "    var canvas_pos = mpl.findpos(event);\n",
       "\n",
       "    if (name === 'button_press') {\n",
       "        this.canvas.focus();\n",
       "        this.canvas_div.focus();\n",
       "    }\n",
       "\n",
       "    var x = canvas_pos.x * this.ratio;\n",
       "    var y = canvas_pos.y * this.ratio;\n",
       "\n",
       "    this.send_message(name, {\n",
       "        x: x,\n",
       "        y: y,\n",
       "        button: event.button,\n",
       "        step: event.step,\n",
       "        guiEvent: simpleKeys(event),\n",
       "    });\n",
       "\n",
       "    /* This prevents the web browser from automatically changing to\n",
       "     * the text insertion cursor when the button is pressed.  We want\n",
       "     * to control all of the cursor setting manually through the\n",
       "     * 'cursor' event from matplotlib */\n",
       "    event.preventDefault();\n",
       "    return false;\n",
       "};\n",
       "\n",
       "mpl.figure.prototype._key_event_extra = function (_event, _name) {\n",
       "    // Handle any extra behaviour associated with a key event\n",
       "};\n",
       "\n",
       "mpl.figure.prototype.key_event = function (event, name) {\n",
       "    // Prevent repeat events\n",
       "    if (name === 'key_press') {\n",
       "        if (event.which === this._key) {\n",
       "            return;\n",
       "        } else {\n",
       "            this._key = event.which;\n",
       "        }\n",
       "    }\n",
       "    if (name === 'key_release') {\n",
       "        this._key = null;\n",
       "    }\n",
       "\n",
       "    var value = '';\n",
       "    if (event.ctrlKey && event.which !== 17) {\n",
       "        value += 'ctrl+';\n",
       "    }\n",
       "    if (event.altKey && event.which !== 18) {\n",
       "        value += 'alt+';\n",
       "    }\n",
       "    if (event.shiftKey && event.which !== 16) {\n",
       "        value += 'shift+';\n",
       "    }\n",
       "\n",
       "    value += 'k';\n",
       "    value += event.which.toString();\n",
       "\n",
       "    this._key_event_extra(event, name);\n",
       "\n",
       "    this.send_message(name, { key: value, guiEvent: simpleKeys(event) });\n",
       "    return false;\n",
       "};\n",
       "\n",
       "mpl.figure.prototype.toolbar_button_onclick = function (name) {\n",
       "    if (name === 'download') {\n",
       "        this.handle_save(this, null);\n",
       "    } else {\n",
       "        this.send_message('toolbar_button', { name: name });\n",
       "    }\n",
       "};\n",
       "\n",
       "mpl.figure.prototype.toolbar_button_onmouseover = function (tooltip) {\n",
       "    this.message.textContent = tooltip;\n",
       "};\n",
       "\n",
       "///////////////// REMAINING CONTENT GENERATED BY embed_js.py /////////////////\n",
       "// prettier-ignore\n",
       "var _JSXTOOLS_RESIZE_OBSERVER=function(A){var t,i=new WeakMap,n=new WeakMap,a=new WeakMap,r=new WeakMap,o=new Set;function s(e){if(!(this instanceof s))throw new TypeError(\"Constructor requires 'new' operator\");i.set(this,e)}function h(){throw new TypeError(\"Function is not a constructor\")}function c(e,t,i,n){e=0 in arguments?Number(arguments[0]):0,t=1 in arguments?Number(arguments[1]):0,i=2 in arguments?Number(arguments[2]):0,n=3 in arguments?Number(arguments[3]):0,this.right=(this.x=this.left=e)+(this.width=i),this.bottom=(this.y=this.top=t)+(this.height=n),Object.freeze(this)}function d(){t=requestAnimationFrame(d);var s=new WeakMap,p=new Set;o.forEach((function(t){r.get(t).forEach((function(i){var r=t instanceof window.SVGElement,o=a.get(t),d=r?0:parseFloat(o.paddingTop),f=r?0:parseFloat(o.paddingRight),l=r?0:parseFloat(o.paddingBottom),u=r?0:parseFloat(o.paddingLeft),g=r?0:parseFloat(o.borderTopWidth),m=r?0:parseFloat(o.borderRightWidth),w=r?0:parseFloat(o.borderBottomWidth),b=u+f,F=d+l,v=(r?0:parseFloat(o.borderLeftWidth))+m,W=g+w,y=r?0:t.offsetHeight-W-t.clientHeight,E=r?0:t.offsetWidth-v-t.clientWidth,R=b+v,z=F+W,M=r?t.width:parseFloat(o.width)-R-E,O=r?t.height:parseFloat(o.height)-z-y;if(n.has(t)){var k=n.get(t);if(k[0]===M&&k[1]===O)return}n.set(t,[M,O]);var S=Object.create(h.prototype);S.target=t,S.contentRect=new c(u,d,M,O),s.has(i)||(s.set(i,[]),p.add(i)),s.get(i).push(S)}))})),p.forEach((function(e){i.get(e).call(e,s.get(e),e)}))}return s.prototype.observe=function(i){if(i instanceof window.Element){r.has(i)||(r.set(i,new Set),o.add(i),a.set(i,window.getComputedStyle(i)));var n=r.get(i);n.has(this)||n.add(this),cancelAnimationFrame(t),t=requestAnimationFrame(d)}},s.prototype.unobserve=function(i){if(i instanceof window.Element&&r.has(i)){var n=r.get(i);n.has(this)&&(n.delete(this),n.size||(r.delete(i),o.delete(i))),n.size||r.delete(i),o.size||cancelAnimationFrame(t)}},A.DOMRectReadOnly=c,A.ResizeObserver=s,A.ResizeObserverEntry=h,A}; // eslint-disable-line\n",
       "mpl.toolbar_items = [[\"Home\", \"Reset original view\", \"fa fa-home icon-home\", \"home\"], [\"Back\", \"Back to previous view\", \"fa fa-arrow-left icon-arrow-left\", \"back\"], [\"Forward\", \"Forward to next view\", \"fa fa-arrow-right icon-arrow-right\", \"forward\"], [\"\", \"\", \"\", \"\"], [\"Pan\", \"Left button pans, Right button zooms\\nx/y fixes axis, CTRL fixes aspect\", \"fa fa-arrows icon-move\", \"pan\"], [\"Zoom\", \"Zoom to rectangle\\nx/y fixes axis, CTRL fixes aspect\", \"fa fa-square-o icon-check-empty\", \"zoom\"], [\"\", \"\", \"\", \"\"], [\"Download\", \"Download plot\", \"fa fa-floppy-o icon-save\", \"download\"]];\n",
       "\n",
       "mpl.extensions = [\"eps\", \"jpeg\", \"pdf\", \"png\", \"ps\", \"raw\", \"svg\", \"tif\"];\n",
       "\n",
       "mpl.default_extension = \"png\";/* global mpl */\n",
       "\n",
       "var comm_websocket_adapter = function (comm) {\n",
       "    // Create a \"websocket\"-like object which calls the given IPython comm\n",
       "    // object with the appropriate methods. Currently this is a non binary\n",
       "    // socket, so there is still some room for performance tuning.\n",
       "    var ws = {};\n",
       "\n",
       "    ws.close = function () {\n",
       "        comm.close();\n",
       "    };\n",
       "    ws.send = function (m) {\n",
       "        //console.log('sending', m);\n",
       "        comm.send(m);\n",
       "    };\n",
       "    // Register the callback with on_msg.\n",
       "    comm.on_msg(function (msg) {\n",
       "        //console.log('receiving', msg['content']['data'], msg);\n",
       "        // Pass the mpl event to the overridden (by mpl) onmessage function.\n",
       "        ws.onmessage(msg['content']['data']);\n",
       "    });\n",
       "    return ws;\n",
       "};\n",
       "\n",
       "mpl.mpl_figure_comm = function (comm, msg) {\n",
       "    // This is the function which gets called when the mpl process\n",
       "    // starts-up an IPython Comm through the \"matplotlib\" channel.\n",
       "\n",
       "    var id = msg.content.data.id;\n",
       "    // Get hold of the div created by the display call when the Comm\n",
       "    // socket was opened in Python.\n",
       "    var element = document.getElementById(id);\n",
       "    var ws_proxy = comm_websocket_adapter(comm);\n",
       "\n",
       "    function ondownload(figure, _format) {\n",
       "        window.open(figure.canvas.toDataURL());\n",
       "    }\n",
       "\n",
       "    var fig = new mpl.figure(id, ws_proxy, ondownload, element);\n",
       "\n",
       "    // Call onopen now - mpl needs it, as it is assuming we've passed it a real\n",
       "    // web socket which is closed, not our websocket->open comm proxy.\n",
       "    ws_proxy.onopen();\n",
       "\n",
       "    fig.parent_element = element;\n",
       "    fig.cell_info = mpl.find_output_cell(\"<div id='\" + id + \"'></div>\");\n",
       "    if (!fig.cell_info) {\n",
       "        console.error('Failed to find cell for figure', id, fig);\n",
       "        return;\n",
       "    }\n",
       "    fig.cell_info[0].output_area.element.on(\n",
       "        'cleared',\n",
       "        { fig: fig },\n",
       "        fig._remove_fig_handler\n",
       "    );\n",
       "};\n",
       "\n",
       "mpl.figure.prototype.handle_close = function (fig, msg) {\n",
       "    var width = fig.canvas.width / fig.ratio;\n",
       "    fig.cell_info[0].output_area.element.off(\n",
       "        'cleared',\n",
       "        fig._remove_fig_handler\n",
       "    );\n",
       "    fig.resizeObserverInstance.unobserve(fig.canvas_div);\n",
       "\n",
       "    // Update the output cell to use the data from the current canvas.\n",
       "    fig.push_to_output();\n",
       "    var dataURL = fig.canvas.toDataURL();\n",
       "    // Re-enable the keyboard manager in IPython - without this line, in FF,\n",
       "    // the notebook keyboard shortcuts fail.\n",
       "    IPython.keyboard_manager.enable();\n",
       "    fig.parent_element.innerHTML =\n",
       "        '<img src=\"' + dataURL + '\" width=\"' + width + '\">';\n",
       "    fig.close_ws(fig, msg);\n",
       "};\n",
       "\n",
       "mpl.figure.prototype.close_ws = function (fig, msg) {\n",
       "    fig.send_message('closing', msg);\n",
       "    // fig.ws.close()\n",
       "};\n",
       "\n",
       "mpl.figure.prototype.push_to_output = function (_remove_interactive) {\n",
       "    // Turn the data on the canvas into data in the output cell.\n",
       "    var width = this.canvas.width / this.ratio;\n",
       "    var dataURL = this.canvas.toDataURL();\n",
       "    this.cell_info[1]['text/html'] =\n",
       "        '<img src=\"' + dataURL + '\" width=\"' + width + '\">';\n",
       "};\n",
       "\n",
       "mpl.figure.prototype.updated_canvas_event = function () {\n",
       "    // Tell IPython that the notebook contents must change.\n",
       "    IPython.notebook.set_dirty(true);\n",
       "    this.send_message('ack', {});\n",
       "    var fig = this;\n",
       "    // Wait a second, then push the new image to the DOM so\n",
       "    // that it is saved nicely (might be nice to debounce this).\n",
       "    setTimeout(function () {\n",
       "        fig.push_to_output();\n",
       "    }, 1000);\n",
       "};\n",
       "\n",
       "mpl.figure.prototype._init_toolbar = function () {\n",
       "    var fig = this;\n",
       "\n",
       "    var toolbar = document.createElement('div');\n",
       "    toolbar.classList = 'btn-toolbar';\n",
       "    this.root.appendChild(toolbar);\n",
       "\n",
       "    function on_click_closure(name) {\n",
       "        return function (_event) {\n",
       "            return fig.toolbar_button_onclick(name);\n",
       "        };\n",
       "    }\n",
       "\n",
       "    function on_mouseover_closure(tooltip) {\n",
       "        return function (event) {\n",
       "            if (!event.currentTarget.disabled) {\n",
       "                return fig.toolbar_button_onmouseover(tooltip);\n",
       "            }\n",
       "        };\n",
       "    }\n",
       "\n",
       "    fig.buttons = {};\n",
       "    var buttonGroup = document.createElement('div');\n",
       "    buttonGroup.classList = 'btn-group';\n",
       "    var button;\n",
       "    for (var toolbar_ind in mpl.toolbar_items) {\n",
       "        var name = mpl.toolbar_items[toolbar_ind][0];\n",
       "        var tooltip = mpl.toolbar_items[toolbar_ind][1];\n",
       "        var image = mpl.toolbar_items[toolbar_ind][2];\n",
       "        var method_name = mpl.toolbar_items[toolbar_ind][3];\n",
       "\n",
       "        if (!name) {\n",
       "            /* Instead of a spacer, we start a new button group. */\n",
       "            if (buttonGroup.hasChildNodes()) {\n",
       "                toolbar.appendChild(buttonGroup);\n",
       "            }\n",
       "            buttonGroup = document.createElement('div');\n",
       "            buttonGroup.classList = 'btn-group';\n",
       "            continue;\n",
       "        }\n",
       "\n",
       "        button = fig.buttons[name] = document.createElement('button');\n",
       "        button.classList = 'btn btn-default';\n",
       "        button.href = '#';\n",
       "        button.title = name;\n",
       "        button.innerHTML = '<i class=\"fa ' + image + ' fa-lg\"></i>';\n",
       "        button.addEventListener('click', on_click_closure(method_name));\n",
       "        button.addEventListener('mouseover', on_mouseover_closure(tooltip));\n",
       "        buttonGroup.appendChild(button);\n",
       "    }\n",
       "\n",
       "    if (buttonGroup.hasChildNodes()) {\n",
       "        toolbar.appendChild(buttonGroup);\n",
       "    }\n",
       "\n",
       "    // Add the status bar.\n",
       "    var status_bar = document.createElement('span');\n",
       "    status_bar.classList = 'mpl-message pull-right';\n",
       "    toolbar.appendChild(status_bar);\n",
       "    this.message = status_bar;\n",
       "\n",
       "    // Add the close button to the window.\n",
       "    var buttongrp = document.createElement('div');\n",
       "    buttongrp.classList = 'btn-group inline pull-right';\n",
       "    button = document.createElement('button');\n",
       "    button.classList = 'btn btn-mini btn-primary';\n",
       "    button.href = '#';\n",
       "    button.title = 'Stop Interaction';\n",
       "    button.innerHTML = '<i class=\"fa fa-power-off icon-remove icon-large\"></i>';\n",
       "    button.addEventListener('click', function (_evt) {\n",
       "        fig.handle_close(fig, {});\n",
       "    });\n",
       "    button.addEventListener(\n",
       "        'mouseover',\n",
       "        on_mouseover_closure('Stop Interaction')\n",
       "    );\n",
       "    buttongrp.appendChild(button);\n",
       "    var titlebar = this.root.querySelector('.ui-dialog-titlebar');\n",
       "    titlebar.insertBefore(buttongrp, titlebar.firstChild);\n",
       "};\n",
       "\n",
       "mpl.figure.prototype._remove_fig_handler = function (event) {\n",
       "    var fig = event.data.fig;\n",
       "    if (event.target !== this) {\n",
       "        // Ignore bubbled events from children.\n",
       "        return;\n",
       "    }\n",
       "    fig.close_ws(fig, {});\n",
       "};\n",
       "\n",
       "mpl.figure.prototype._root_extra_style = function (el) {\n",
       "    el.style.boxSizing = 'content-box'; // override notebook setting of border-box.\n",
       "};\n",
       "\n",
       "mpl.figure.prototype._canvas_extra_style = function (el) {\n",
       "    // this is important to make the div 'focusable\n",
       "    el.setAttribute('tabindex', 0);\n",
       "    // reach out to IPython and tell the keyboard manager to turn it's self\n",
       "    // off when our div gets focus\n",
       "\n",
       "    // location in version 3\n",
       "    if (IPython.notebook.keyboard_manager) {\n",
       "        IPython.notebook.keyboard_manager.register_events(el);\n",
       "    } else {\n",
       "        // location in version 2\n",
       "        IPython.keyboard_manager.register_events(el);\n",
       "    }\n",
       "};\n",
       "\n",
       "mpl.figure.prototype._key_event_extra = function (event, _name) {\n",
       "    var manager = IPython.notebook.keyboard_manager;\n",
       "    if (!manager) {\n",
       "        manager = IPython.keyboard_manager;\n",
       "    }\n",
       "\n",
       "    // Check for shift+enter\n",
       "    if (event.shiftKey && event.which === 13) {\n",
       "        this.canvas_div.blur();\n",
       "        // select the cell after this one\n",
       "        var index = IPython.notebook.find_cell_index(this.cell_info[0]);\n",
       "        IPython.notebook.select(index + 1);\n",
       "    }\n",
       "};\n",
       "\n",
       "mpl.figure.prototype.handle_save = function (fig, _msg) {\n",
       "    fig.ondownload(fig, null);\n",
       "};\n",
       "\n",
       "mpl.find_output_cell = function (html_output) {\n",
       "    // Return the cell and output element which can be found *uniquely* in the notebook.\n",
       "    // Note - this is a bit hacky, but it is done because the \"notebook_saving.Notebook\"\n",
       "    // IPython event is triggered only after the cells have been serialised, which for\n",
       "    // our purposes (turning an active figure into a static one), is too late.\n",
       "    var cells = IPython.notebook.get_cells();\n",
       "    var ncells = cells.length;\n",
       "    for (var i = 0; i < ncells; i++) {\n",
       "        var cell = cells[i];\n",
       "        if (cell.cell_type === 'code') {\n",
       "            for (var j = 0; j < cell.output_area.outputs.length; j++) {\n",
       "                var data = cell.output_area.outputs[j];\n",
       "                if (data.data) {\n",
       "                    // IPython >= 3 moved mimebundle to data attribute of output\n",
       "                    data = data.data;\n",
       "                }\n",
       "                if (data['text/html'] === html_output) {\n",
       "                    return [cell, data, j];\n",
       "                }\n",
       "            }\n",
       "        }\n",
       "    }\n",
       "};\n",
       "\n",
       "// Register the function which deals with the matplotlib target/channel.\n",
       "// The kernel may be null if the page has been refreshed.\n",
       "if (IPython.notebook.kernel !== null) {\n",
       "    IPython.notebook.kernel.comm_manager.register_target(\n",
       "        'matplotlib',\n",
       "        mpl.mpl_figure_comm\n",
       "    );\n",
       "}\n"
      ],
      "text/plain": [
       "<IPython.core.display.Javascript object>"
      ]
     },
     "metadata": {},
     "output_type": "display_data"
    },
    {
     "data": {
      "text/html": [
       "<img src=\"data:image/png;base64,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\" width=\"640\">"
      ],
      "text/plain": [
       "<IPython.core.display.HTML object>"
      ]
     },
     "metadata": {},
     "output_type": "display_data"
    }
   ],
   "source": [
    "grafico_puntos_random(tabla)"
   ]
  },
  {
   "cell_type": "markdown",
   "id": "117d3256",
   "metadata": {
    "slideshow": {
     "slide_type": "subslide"
    }
   },
   "source": [
    "## Gráficos 3d"
   ]
  },
  {
   "cell_type": "code",
   "execution_count": 5,
   "id": "5b2d0a82",
   "metadata": {
    "slideshow": {
     "slide_type": "skip"
    }
   },
   "outputs": [],
   "source": [
    "#codigo de https://docs.sympy.org/latest/modules/plotting.html\n",
    "%matplotlib notebook\n",
    "def grafico3d():\n",
    "    x, y = sp.symbols('x y')\n",
    "    sp.plotting.plot3d(x*y,(x,-5,5),(y,-5,5))"
   ]
  },
  {
   "cell_type": "code",
   "execution_count": 12,
   "id": "27442a73",
   "metadata": {
    "scrolled": true,
    "slideshow": {
     "slide_type": "fragment"
    }
   },
   "outputs": [
    {
     "data": {
      "application/javascript": [
       "/* Put everything inside the global mpl namespace */\n",
       "/* global mpl */\n",
       "window.mpl = {};\n",
       "\n",
       "mpl.get_websocket_type = function () {\n",
       "    if (typeof WebSocket !== 'undefined') {\n",
       "        return WebSocket;\n",
       "    } else if (typeof MozWebSocket !== 'undefined') {\n",
       "        return MozWebSocket;\n",
       "    } else {\n",
       "        alert(\n",
       "            'Your browser does not have WebSocket support. ' +\n",
       "                'Please try Chrome, Safari or Firefox ≥ 6. ' +\n",
       "                'Firefox 4 and 5 are also supported but you ' +\n",
       "                'have to enable WebSockets in about:config.'\n",
       "        );\n",
       "    }\n",
       "};\n",
       "\n",
       "mpl.figure = function (figure_id, websocket, ondownload, parent_element) {\n",
       "    this.id = figure_id;\n",
       "\n",
       "    this.ws = websocket;\n",
       "\n",
       "    this.supports_binary = this.ws.binaryType !== undefined;\n",
       "\n",
       "    if (!this.supports_binary) {\n",
       "        var warnings = document.getElementById('mpl-warnings');\n",
       "        if (warnings) {\n",
       "            warnings.style.display = 'block';\n",
       "            warnings.textContent =\n",
       "                'This browser does not support binary websocket messages. ' +\n",
       "                'Performance may be slow.';\n",
       "        }\n",
       "    }\n",
       "\n",
       "    this.imageObj = new Image();\n",
       "\n",
       "    this.context = undefined;\n",
       "    this.message = undefined;\n",
       "    this.canvas = undefined;\n",
       "    this.rubberband_canvas = undefined;\n",
       "    this.rubberband_context = undefined;\n",
       "    this.format_dropdown = undefined;\n",
       "\n",
       "    this.image_mode = 'full';\n",
       "\n",
       "    this.root = document.createElement('div');\n",
       "    this.root.setAttribute('style', 'display: inline-block');\n",
       "    this._root_extra_style(this.root);\n",
       "\n",
       "    parent_element.appendChild(this.root);\n",
       "\n",
       "    this._init_header(this);\n",
       "    this._init_canvas(this);\n",
       "    this._init_toolbar(this);\n",
       "\n",
       "    var fig = this;\n",
       "\n",
       "    this.waiting = false;\n",
       "\n",
       "    this.ws.onopen = function () {\n",
       "        fig.send_message('supports_binary', { value: fig.supports_binary });\n",
       "        fig.send_message('send_image_mode', {});\n",
       "        if (fig.ratio !== 1) {\n",
       "            fig.send_message('set_dpi_ratio', { dpi_ratio: fig.ratio });\n",
       "        }\n",
       "        fig.send_message('refresh', {});\n",
       "    };\n",
       "\n",
       "    this.imageObj.onload = function () {\n",
       "        if (fig.image_mode === 'full') {\n",
       "            // Full images could contain transparency (where diff images\n",
       "            // almost always do), so we need to clear the canvas so that\n",
       "            // there is no ghosting.\n",
       "            fig.context.clearRect(0, 0, fig.canvas.width, fig.canvas.height);\n",
       "        }\n",
       "        fig.context.drawImage(fig.imageObj, 0, 0);\n",
       "    };\n",
       "\n",
       "    this.imageObj.onunload = function () {\n",
       "        fig.ws.close();\n",
       "    };\n",
       "\n",
       "    this.ws.onmessage = this._make_on_message_function(this);\n",
       "\n",
       "    this.ondownload = ondownload;\n",
       "};\n",
       "\n",
       "mpl.figure.prototype._init_header = function () {\n",
       "    var titlebar = document.createElement('div');\n",
       "    titlebar.classList =\n",
       "        'ui-dialog-titlebar ui-widget-header ui-corner-all ui-helper-clearfix';\n",
       "    var titletext = document.createElement('div');\n",
       "    titletext.classList = 'ui-dialog-title';\n",
       "    titletext.setAttribute(\n",
       "        'style',\n",
       "        'width: 100%; text-align: center; padding: 3px;'\n",
       "    );\n",
       "    titlebar.appendChild(titletext);\n",
       "    this.root.appendChild(titlebar);\n",
       "    this.header = titletext;\n",
       "};\n",
       "\n",
       "mpl.figure.prototype._canvas_extra_style = function (_canvas_div) {};\n",
       "\n",
       "mpl.figure.prototype._root_extra_style = function (_canvas_div) {};\n",
       "\n",
       "mpl.figure.prototype._init_canvas = function () {\n",
       "    var fig = this;\n",
       "\n",
       "    var canvas_div = (this.canvas_div = document.createElement('div'));\n",
       "    canvas_div.setAttribute(\n",
       "        'style',\n",
       "        'border: 1px solid #ddd;' +\n",
       "            'box-sizing: content-box;' +\n",
       "            'clear: both;' +\n",
       "            'min-height: 1px;' +\n",
       "            'min-width: 1px;' +\n",
       "            'outline: 0;' +\n",
       "            'overflow: hidden;' +\n",
       "            'position: relative;' +\n",
       "            'resize: both;'\n",
       "    );\n",
       "\n",
       "    function on_keyboard_event_closure(name) {\n",
       "        return function (event) {\n",
       "            return fig.key_event(event, name);\n",
       "        };\n",
       "    }\n",
       "\n",
       "    canvas_div.addEventListener(\n",
       "        'keydown',\n",
       "        on_keyboard_event_closure('key_press')\n",
       "    );\n",
       "    canvas_div.addEventListener(\n",
       "        'keyup',\n",
       "        on_keyboard_event_closure('key_release')\n",
       "    );\n",
       "\n",
       "    this._canvas_extra_style(canvas_div);\n",
       "    this.root.appendChild(canvas_div);\n",
       "\n",
       "    var canvas = (this.canvas = document.createElement('canvas'));\n",
       "    canvas.classList.add('mpl-canvas');\n",
       "    canvas.setAttribute('style', 'box-sizing: content-box;');\n",
       "\n",
       "    this.context = canvas.getContext('2d');\n",
       "\n",
       "    var backingStore =\n",
       "        this.context.backingStorePixelRatio ||\n",
       "        this.context.webkitBackingStorePixelRatio ||\n",
       "        this.context.mozBackingStorePixelRatio ||\n",
       "        this.context.msBackingStorePixelRatio ||\n",
       "        this.context.oBackingStorePixelRatio ||\n",
       "        this.context.backingStorePixelRatio ||\n",
       "        1;\n",
       "\n",
       "    this.ratio = (window.devicePixelRatio || 1) / backingStore;\n",
       "\n",
       "    var rubberband_canvas = (this.rubberband_canvas = document.createElement(\n",
       "        'canvas'\n",
       "    ));\n",
       "    rubberband_canvas.setAttribute(\n",
       "        'style',\n",
       "        'box-sizing: content-box; position: absolute; left: 0; top: 0; z-index: 1;'\n",
       "    );\n",
       "\n",
       "    // Apply a ponyfill if ResizeObserver is not implemented by browser.\n",
       "    if (this.ResizeObserver === undefined) {\n",
       "        if (window.ResizeObserver !== undefined) {\n",
       "            this.ResizeObserver = window.ResizeObserver;\n",
       "        } else {\n",
       "            var obs = _JSXTOOLS_RESIZE_OBSERVER({});\n",
       "            this.ResizeObserver = obs.ResizeObserver;\n",
       "        }\n",
       "    }\n",
       "\n",
       "    this.resizeObserverInstance = new this.ResizeObserver(function (entries) {\n",
       "        var nentries = entries.length;\n",
       "        for (var i = 0; i < nentries; i++) {\n",
       "            var entry = entries[i];\n",
       "            var width, height;\n",
       "            if (entry.contentBoxSize) {\n",
       "                if (entry.contentBoxSize instanceof Array) {\n",
       "                    // Chrome 84 implements new version of spec.\n",
       "                    width = entry.contentBoxSize[0].inlineSize;\n",
       "                    height = entry.contentBoxSize[0].blockSize;\n",
       "                } else {\n",
       "                    // Firefox implements old version of spec.\n",
       "                    width = entry.contentBoxSize.inlineSize;\n",
       "                    height = entry.contentBoxSize.blockSize;\n",
       "                }\n",
       "            } else {\n",
       "                // Chrome <84 implements even older version of spec.\n",
       "                width = entry.contentRect.width;\n",
       "                height = entry.contentRect.height;\n",
       "            }\n",
       "\n",
       "            // Keep the size of the canvas and rubber band canvas in sync with\n",
       "            // the canvas container.\n",
       "            if (entry.devicePixelContentBoxSize) {\n",
       "                // Chrome 84 implements new version of spec.\n",
       "                canvas.setAttribute(\n",
       "                    'width',\n",
       "                    entry.devicePixelContentBoxSize[0].inlineSize\n",
       "                );\n",
       "                canvas.setAttribute(\n",
       "                    'height',\n",
       "                    entry.devicePixelContentBoxSize[0].blockSize\n",
       "                );\n",
       "            } else {\n",
       "                canvas.setAttribute('width', width * fig.ratio);\n",
       "                canvas.setAttribute('height', height * fig.ratio);\n",
       "            }\n",
       "            canvas.setAttribute(\n",
       "                'style',\n",
       "                'width: ' + width + 'px; height: ' + height + 'px;'\n",
       "            );\n",
       "\n",
       "            rubberband_canvas.setAttribute('width', width);\n",
       "            rubberband_canvas.setAttribute('height', height);\n",
       "\n",
       "            // And update the size in Python. We ignore the initial 0/0 size\n",
       "            // that occurs as the element is placed into the DOM, which should\n",
       "            // otherwise not happen due to the minimum size styling.\n",
       "            if (fig.ws.readyState == 1 && width != 0 && height != 0) {\n",
       "                fig.request_resize(width, height);\n",
       "            }\n",
       "        }\n",
       "    });\n",
       "    this.resizeObserverInstance.observe(canvas_div);\n",
       "\n",
       "    function on_mouse_event_closure(name) {\n",
       "        return function (event) {\n",
       "            return fig.mouse_event(event, name);\n",
       "        };\n",
       "    }\n",
       "\n",
       "    rubberband_canvas.addEventListener(\n",
       "        'mousedown',\n",
       "        on_mouse_event_closure('button_press')\n",
       "    );\n",
       "    rubberband_canvas.addEventListener(\n",
       "        'mouseup',\n",
       "        on_mouse_event_closure('button_release')\n",
       "    );\n",
       "    // Throttle sequential mouse events to 1 every 20ms.\n",
       "    rubberband_canvas.addEventListener(\n",
       "        'mousemove',\n",
       "        on_mouse_event_closure('motion_notify')\n",
       "    );\n",
       "\n",
       "    rubberband_canvas.addEventListener(\n",
       "        'mouseenter',\n",
       "        on_mouse_event_closure('figure_enter')\n",
       "    );\n",
       "    rubberband_canvas.addEventListener(\n",
       "        'mouseleave',\n",
       "        on_mouse_event_closure('figure_leave')\n",
       "    );\n",
       "\n",
       "    canvas_div.addEventListener('wheel', function (event) {\n",
       "        if (event.deltaY < 0) {\n",
       "            event.step = 1;\n",
       "        } else {\n",
       "            event.step = -1;\n",
       "        }\n",
       "        on_mouse_event_closure('scroll')(event);\n",
       "    });\n",
       "\n",
       "    canvas_div.appendChild(canvas);\n",
       "    canvas_div.appendChild(rubberband_canvas);\n",
       "\n",
       "    this.rubberband_context = rubberband_canvas.getContext('2d');\n",
       "    this.rubberband_context.strokeStyle = '#000000';\n",
       "\n",
       "    this._resize_canvas = function (width, height, forward) {\n",
       "        if (forward) {\n",
       "            canvas_div.style.width = width + 'px';\n",
       "            canvas_div.style.height = height + 'px';\n",
       "        }\n",
       "    };\n",
       "\n",
       "    // Disable right mouse context menu.\n",
       "    this.rubberband_canvas.addEventListener('contextmenu', function (_e) {\n",
       "        event.preventDefault();\n",
       "        return false;\n",
       "    });\n",
       "\n",
       "    function set_focus() {\n",
       "        canvas.focus();\n",
       "        canvas_div.focus();\n",
       "    }\n",
       "\n",
       "    window.setTimeout(set_focus, 100);\n",
       "};\n",
       "\n",
       "mpl.figure.prototype._init_toolbar = function () {\n",
       "    var fig = this;\n",
       "\n",
       "    var toolbar = document.createElement('div');\n",
       "    toolbar.classList = 'mpl-toolbar';\n",
       "    this.root.appendChild(toolbar);\n",
       "\n",
       "    function on_click_closure(name) {\n",
       "        return function (_event) {\n",
       "            return fig.toolbar_button_onclick(name);\n",
       "        };\n",
       "    }\n",
       "\n",
       "    function on_mouseover_closure(tooltip) {\n",
       "        return function (event) {\n",
       "            if (!event.currentTarget.disabled) {\n",
       "                return fig.toolbar_button_onmouseover(tooltip);\n",
       "            }\n",
       "        };\n",
       "    }\n",
       "\n",
       "    fig.buttons = {};\n",
       "    var buttonGroup = document.createElement('div');\n",
       "    buttonGroup.classList = 'mpl-button-group';\n",
       "    for (var toolbar_ind in mpl.toolbar_items) {\n",
       "        var name = mpl.toolbar_items[toolbar_ind][0];\n",
       "        var tooltip = mpl.toolbar_items[toolbar_ind][1];\n",
       "        var image = mpl.toolbar_items[toolbar_ind][2];\n",
       "        var method_name = mpl.toolbar_items[toolbar_ind][3];\n",
       "\n",
       "        if (!name) {\n",
       "            /* Instead of a spacer, we start a new button group. */\n",
       "            if (buttonGroup.hasChildNodes()) {\n",
       "                toolbar.appendChild(buttonGroup);\n",
       "            }\n",
       "            buttonGroup = document.createElement('div');\n",
       "            buttonGroup.classList = 'mpl-button-group';\n",
       "            continue;\n",
       "        }\n",
       "\n",
       "        var button = (fig.buttons[name] = document.createElement('button'));\n",
       "        button.classList = 'mpl-widget';\n",
       "        button.setAttribute('role', 'button');\n",
       "        button.setAttribute('aria-disabled', 'false');\n",
       "        button.addEventListener('click', on_click_closure(method_name));\n",
       "        button.addEventListener('mouseover', on_mouseover_closure(tooltip));\n",
       "\n",
       "        var icon_img = document.createElement('img');\n",
       "        icon_img.src = '_images/' + image + '.png';\n",
       "        icon_img.srcset = '_images/' + image + '_large.png 2x';\n",
       "        icon_img.alt = tooltip;\n",
       "        button.appendChild(icon_img);\n",
       "\n",
       "        buttonGroup.appendChild(button);\n",
       "    }\n",
       "\n",
       "    if (buttonGroup.hasChildNodes()) {\n",
       "        toolbar.appendChild(buttonGroup);\n",
       "    }\n",
       "\n",
       "    var fmt_picker = document.createElement('select');\n",
       "    fmt_picker.classList = 'mpl-widget';\n",
       "    toolbar.appendChild(fmt_picker);\n",
       "    this.format_dropdown = fmt_picker;\n",
       "\n",
       "    for (var ind in mpl.extensions) {\n",
       "        var fmt = mpl.extensions[ind];\n",
       "        var option = document.createElement('option');\n",
       "        option.selected = fmt === mpl.default_extension;\n",
       "        option.innerHTML = fmt;\n",
       "        fmt_picker.appendChild(option);\n",
       "    }\n",
       "\n",
       "    var status_bar = document.createElement('span');\n",
       "    status_bar.classList = 'mpl-message';\n",
       "    toolbar.appendChild(status_bar);\n",
       "    this.message = status_bar;\n",
       "};\n",
       "\n",
       "mpl.figure.prototype.request_resize = function (x_pixels, y_pixels) {\n",
       "    // Request matplotlib to resize the figure. Matplotlib will then trigger a resize in the client,\n",
       "    // which will in turn request a refresh of the image.\n",
       "    this.send_message('resize', { width: x_pixels, height: y_pixels });\n",
       "};\n",
       "\n",
       "mpl.figure.prototype.send_message = function (type, properties) {\n",
       "    properties['type'] = type;\n",
       "    properties['figure_id'] = this.id;\n",
       "    this.ws.send(JSON.stringify(properties));\n",
       "};\n",
       "\n",
       "mpl.figure.prototype.send_draw_message = function () {\n",
       "    if (!this.waiting) {\n",
       "        this.waiting = true;\n",
       "        this.ws.send(JSON.stringify({ type: 'draw', figure_id: this.id }));\n",
       "    }\n",
       "};\n",
       "\n",
       "mpl.figure.prototype.handle_save = function (fig, _msg) {\n",
       "    var format_dropdown = fig.format_dropdown;\n",
       "    var format = format_dropdown.options[format_dropdown.selectedIndex].value;\n",
       "    fig.ondownload(fig, format);\n",
       "};\n",
       "\n",
       "mpl.figure.prototype.handle_resize = function (fig, msg) {\n",
       "    var size = msg['size'];\n",
       "    if (size[0] !== fig.canvas.width || size[1] !== fig.canvas.height) {\n",
       "        fig._resize_canvas(size[0], size[1], msg['forward']);\n",
       "        fig.send_message('refresh', {});\n",
       "    }\n",
       "};\n",
       "\n",
       "mpl.figure.prototype.handle_rubberband = function (fig, msg) {\n",
       "    var x0 = msg['x0'] / fig.ratio;\n",
       "    var y0 = (fig.canvas.height - msg['y0']) / fig.ratio;\n",
       "    var x1 = msg['x1'] / fig.ratio;\n",
       "    var y1 = (fig.canvas.height - msg['y1']) / fig.ratio;\n",
       "    x0 = Math.floor(x0) + 0.5;\n",
       "    y0 = Math.floor(y0) + 0.5;\n",
       "    x1 = Math.floor(x1) + 0.5;\n",
       "    y1 = Math.floor(y1) + 0.5;\n",
       "    var min_x = Math.min(x0, x1);\n",
       "    var min_y = Math.min(y0, y1);\n",
       "    var width = Math.abs(x1 - x0);\n",
       "    var height = Math.abs(y1 - y0);\n",
       "\n",
       "    fig.rubberband_context.clearRect(\n",
       "        0,\n",
       "        0,\n",
       "        fig.canvas.width / fig.ratio,\n",
       "        fig.canvas.height / fig.ratio\n",
       "    );\n",
       "\n",
       "    fig.rubberband_context.strokeRect(min_x, min_y, width, height);\n",
       "};\n",
       "\n",
       "mpl.figure.prototype.handle_figure_label = function (fig, msg) {\n",
       "    // Updates the figure title.\n",
       "    fig.header.textContent = msg['label'];\n",
       "};\n",
       "\n",
       "mpl.figure.prototype.handle_cursor = function (fig, msg) {\n",
       "    var cursor = msg['cursor'];\n",
       "    switch (cursor) {\n",
       "        case 0:\n",
       "            cursor = 'pointer';\n",
       "            break;\n",
       "        case 1:\n",
       "            cursor = 'default';\n",
       "            break;\n",
       "        case 2:\n",
       "            cursor = 'crosshair';\n",
       "            break;\n",
       "        case 3:\n",
       "            cursor = 'move';\n",
       "            break;\n",
       "    }\n",
       "    fig.rubberband_canvas.style.cursor = cursor;\n",
       "};\n",
       "\n",
       "mpl.figure.prototype.handle_message = function (fig, msg) {\n",
       "    fig.message.textContent = msg['message'];\n",
       "};\n",
       "\n",
       "mpl.figure.prototype.handle_draw = function (fig, _msg) {\n",
       "    // Request the server to send over a new figure.\n",
       "    fig.send_draw_message();\n",
       "};\n",
       "\n",
       "mpl.figure.prototype.handle_image_mode = function (fig, msg) {\n",
       "    fig.image_mode = msg['mode'];\n",
       "};\n",
       "\n",
       "mpl.figure.prototype.handle_history_buttons = function (fig, msg) {\n",
       "    for (var key in msg) {\n",
       "        if (!(key in fig.buttons)) {\n",
       "            continue;\n",
       "        }\n",
       "        fig.buttons[key].disabled = !msg[key];\n",
       "        fig.buttons[key].setAttribute('aria-disabled', !msg[key]);\n",
       "    }\n",
       "};\n",
       "\n",
       "mpl.figure.prototype.handle_navigate_mode = function (fig, msg) {\n",
       "    if (msg['mode'] === 'PAN') {\n",
       "        fig.buttons['Pan'].classList.add('active');\n",
       "        fig.buttons['Zoom'].classList.remove('active');\n",
       "    } else if (msg['mode'] === 'ZOOM') {\n",
       "        fig.buttons['Pan'].classList.remove('active');\n",
       "        fig.buttons['Zoom'].classList.add('active');\n",
       "    } else {\n",
       "        fig.buttons['Pan'].classList.remove('active');\n",
       "        fig.buttons['Zoom'].classList.remove('active');\n",
       "    }\n",
       "};\n",
       "\n",
       "mpl.figure.prototype.updated_canvas_event = function () {\n",
       "    // Called whenever the canvas gets updated.\n",
       "    this.send_message('ack', {});\n",
       "};\n",
       "\n",
       "// A function to construct a web socket function for onmessage handling.\n",
       "// Called in the figure constructor.\n",
       "mpl.figure.prototype._make_on_message_function = function (fig) {\n",
       "    return function socket_on_message(evt) {\n",
       "        if (evt.data instanceof Blob) {\n",
       "            /* FIXME: We get \"Resource interpreted as Image but\n",
       "             * transferred with MIME type text/plain:\" errors on\n",
       "             * Chrome.  But how to set the MIME type?  It doesn't seem\n",
       "             * to be part of the websocket stream */\n",
       "            evt.data.type = 'image/png';\n",
       "\n",
       "            /* Free the memory for the previous frames */\n",
       "            if (fig.imageObj.src) {\n",
       "                (window.URL || window.webkitURL).revokeObjectURL(\n",
       "                    fig.imageObj.src\n",
       "                );\n",
       "            }\n",
       "\n",
       "            fig.imageObj.src = (window.URL || window.webkitURL).createObjectURL(\n",
       "                evt.data\n",
       "            );\n",
       "            fig.updated_canvas_event();\n",
       "            fig.waiting = false;\n",
       "            return;\n",
       "        } else if (\n",
       "            typeof evt.data === 'string' &&\n",
       "            evt.data.slice(0, 21) === 'data:image/png;base64'\n",
       "        ) {\n",
       "            fig.imageObj.src = evt.data;\n",
       "            fig.updated_canvas_event();\n",
       "            fig.waiting = false;\n",
       "            return;\n",
       "        }\n",
       "\n",
       "        var msg = JSON.parse(evt.data);\n",
       "        var msg_type = msg['type'];\n",
       "\n",
       "        // Call the  \"handle_{type}\" callback, which takes\n",
       "        // the figure and JSON message as its only arguments.\n",
       "        try {\n",
       "            var callback = fig['handle_' + msg_type];\n",
       "        } catch (e) {\n",
       "            console.log(\n",
       "                \"No handler for the '\" + msg_type + \"' message type: \",\n",
       "                msg\n",
       "            );\n",
       "            return;\n",
       "        }\n",
       "\n",
       "        if (callback) {\n",
       "            try {\n",
       "                // console.log(\"Handling '\" + msg_type + \"' message: \", msg);\n",
       "                callback(fig, msg);\n",
       "            } catch (e) {\n",
       "                console.log(\n",
       "                    \"Exception inside the 'handler_\" + msg_type + \"' callback:\",\n",
       "                    e,\n",
       "                    e.stack,\n",
       "                    msg\n",
       "                );\n",
       "            }\n",
       "        }\n",
       "    };\n",
       "};\n",
       "\n",
       "// from http://stackoverflow.com/questions/1114465/getting-mouse-location-in-canvas\n",
       "mpl.findpos = function (e) {\n",
       "    //this section is from http://www.quirksmode.org/js/events_properties.html\n",
       "    var targ;\n",
       "    if (!e) {\n",
       "        e = window.event;\n",
       "    }\n",
       "    if (e.target) {\n",
       "        targ = e.target;\n",
       "    } else if (e.srcElement) {\n",
       "        targ = e.srcElement;\n",
       "    }\n",
       "    if (targ.nodeType === 3) {\n",
       "        // defeat Safari bug\n",
       "        targ = targ.parentNode;\n",
       "    }\n",
       "\n",
       "    // pageX,Y are the mouse positions relative to the document\n",
       "    var boundingRect = targ.getBoundingClientRect();\n",
       "    var x = e.pageX - (boundingRect.left + document.body.scrollLeft);\n",
       "    var y = e.pageY - (boundingRect.top + document.body.scrollTop);\n",
       "\n",
       "    return { x: x, y: y };\n",
       "};\n",
       "\n",
       "/*\n",
       " * return a copy of an object with only non-object keys\n",
       " * we need this to avoid circular references\n",
       " * http://stackoverflow.com/a/24161582/3208463\n",
       " */\n",
       "function simpleKeys(original) {\n",
       "    return Object.keys(original).reduce(function (obj, key) {\n",
       "        if (typeof original[key] !== 'object') {\n",
       "            obj[key] = original[key];\n",
       "        }\n",
       "        return obj;\n",
       "    }, {});\n",
       "}\n",
       "\n",
       "mpl.figure.prototype.mouse_event = function (event, name) {\n",
       "    var canvas_pos = mpl.findpos(event);\n",
       "\n",
       "    if (name === 'button_press') {\n",
       "        this.canvas.focus();\n",
       "        this.canvas_div.focus();\n",
       "    }\n",
       "\n",
       "    var x = canvas_pos.x * this.ratio;\n",
       "    var y = canvas_pos.y * this.ratio;\n",
       "\n",
       "    this.send_message(name, {\n",
       "        x: x,\n",
       "        y: y,\n",
       "        button: event.button,\n",
       "        step: event.step,\n",
       "        guiEvent: simpleKeys(event),\n",
       "    });\n",
       "\n",
       "    /* This prevents the web browser from automatically changing to\n",
       "     * the text insertion cursor when the button is pressed.  We want\n",
       "     * to control all of the cursor setting manually through the\n",
       "     * 'cursor' event from matplotlib */\n",
       "    event.preventDefault();\n",
       "    return false;\n",
       "};\n",
       "\n",
       "mpl.figure.prototype._key_event_extra = function (_event, _name) {\n",
       "    // Handle any extra behaviour associated with a key event\n",
       "};\n",
       "\n",
       "mpl.figure.prototype.key_event = function (event, name) {\n",
       "    // Prevent repeat events\n",
       "    if (name === 'key_press') {\n",
       "        if (event.which === this._key) {\n",
       "            return;\n",
       "        } else {\n",
       "            this._key = event.which;\n",
       "        }\n",
       "    }\n",
       "    if (name === 'key_release') {\n",
       "        this._key = null;\n",
       "    }\n",
       "\n",
       "    var value = '';\n",
       "    if (event.ctrlKey && event.which !== 17) {\n",
       "        value += 'ctrl+';\n",
       "    }\n",
       "    if (event.altKey && event.which !== 18) {\n",
       "        value += 'alt+';\n",
       "    }\n",
       "    if (event.shiftKey && event.which !== 16) {\n",
       "        value += 'shift+';\n",
       "    }\n",
       "\n",
       "    value += 'k';\n",
       "    value += event.which.toString();\n",
       "\n",
       "    this._key_event_extra(event, name);\n",
       "\n",
       "    this.send_message(name, { key: value, guiEvent: simpleKeys(event) });\n",
       "    return false;\n",
       "};\n",
       "\n",
       "mpl.figure.prototype.toolbar_button_onclick = function (name) {\n",
       "    if (name === 'download') {\n",
       "        this.handle_save(this, null);\n",
       "    } else {\n",
       "        this.send_message('toolbar_button', { name: name });\n",
       "    }\n",
       "};\n",
       "\n",
       "mpl.figure.prototype.toolbar_button_onmouseover = function (tooltip) {\n",
       "    this.message.textContent = tooltip;\n",
       "};\n",
       "\n",
       "///////////////// REMAINING CONTENT GENERATED BY embed_js.py /////////////////\n",
       "// prettier-ignore\n",
       "var _JSXTOOLS_RESIZE_OBSERVER=function(A){var t,i=new WeakMap,n=new WeakMap,a=new WeakMap,r=new WeakMap,o=new Set;function s(e){if(!(this instanceof s))throw new TypeError(\"Constructor requires 'new' operator\");i.set(this,e)}function h(){throw new TypeError(\"Function is not a constructor\")}function c(e,t,i,n){e=0 in arguments?Number(arguments[0]):0,t=1 in arguments?Number(arguments[1]):0,i=2 in arguments?Number(arguments[2]):0,n=3 in arguments?Number(arguments[3]):0,this.right=(this.x=this.left=e)+(this.width=i),this.bottom=(this.y=this.top=t)+(this.height=n),Object.freeze(this)}function d(){t=requestAnimationFrame(d);var s=new WeakMap,p=new Set;o.forEach((function(t){r.get(t).forEach((function(i){var r=t instanceof window.SVGElement,o=a.get(t),d=r?0:parseFloat(o.paddingTop),f=r?0:parseFloat(o.paddingRight),l=r?0:parseFloat(o.paddingBottom),u=r?0:parseFloat(o.paddingLeft),g=r?0:parseFloat(o.borderTopWidth),m=r?0:parseFloat(o.borderRightWidth),w=r?0:parseFloat(o.borderBottomWidth),b=u+f,F=d+l,v=(r?0:parseFloat(o.borderLeftWidth))+m,W=g+w,y=r?0:t.offsetHeight-W-t.clientHeight,E=r?0:t.offsetWidth-v-t.clientWidth,R=b+v,z=F+W,M=r?t.width:parseFloat(o.width)-R-E,O=r?t.height:parseFloat(o.height)-z-y;if(n.has(t)){var k=n.get(t);if(k[0]===M&&k[1]===O)return}n.set(t,[M,O]);var S=Object.create(h.prototype);S.target=t,S.contentRect=new c(u,d,M,O),s.has(i)||(s.set(i,[]),p.add(i)),s.get(i).push(S)}))})),p.forEach((function(e){i.get(e).call(e,s.get(e),e)}))}return s.prototype.observe=function(i){if(i instanceof window.Element){r.has(i)||(r.set(i,new Set),o.add(i),a.set(i,window.getComputedStyle(i)));var n=r.get(i);n.has(this)||n.add(this),cancelAnimationFrame(t),t=requestAnimationFrame(d)}},s.prototype.unobserve=function(i){if(i instanceof window.Element&&r.has(i)){var n=r.get(i);n.has(this)&&(n.delete(this),n.size||(r.delete(i),o.delete(i))),n.size||r.delete(i),o.size||cancelAnimationFrame(t)}},A.DOMRectReadOnly=c,A.ResizeObserver=s,A.ResizeObserverEntry=h,A}; // eslint-disable-line\n",
       "mpl.toolbar_items = [[\"Home\", \"Reset original view\", \"fa fa-home icon-home\", \"home\"], [\"Back\", \"Back to previous view\", \"fa fa-arrow-left icon-arrow-left\", \"back\"], [\"Forward\", \"Forward to next view\", \"fa fa-arrow-right icon-arrow-right\", \"forward\"], [\"\", \"\", \"\", \"\"], [\"Pan\", \"Left button pans, Right button zooms\\nx/y fixes axis, CTRL fixes aspect\", \"fa fa-arrows icon-move\", \"pan\"], [\"Zoom\", \"Zoom to rectangle\\nx/y fixes axis, CTRL fixes aspect\", \"fa fa-square-o icon-check-empty\", \"zoom\"], [\"\", \"\", \"\", \"\"], [\"Download\", \"Download plot\", \"fa fa-floppy-o icon-save\", \"download\"]];\n",
       "\n",
       "mpl.extensions = [\"eps\", \"jpeg\", \"pdf\", \"png\", \"ps\", \"raw\", \"svg\", \"tif\"];\n",
       "\n",
       "mpl.default_extension = \"png\";/* global mpl */\n",
       "\n",
       "var comm_websocket_adapter = function (comm) {\n",
       "    // Create a \"websocket\"-like object which calls the given IPython comm\n",
       "    // object with the appropriate methods. Currently this is a non binary\n",
       "    // socket, so there is still some room for performance tuning.\n",
       "    var ws = {};\n",
       "\n",
       "    ws.close = function () {\n",
       "        comm.close();\n",
       "    };\n",
       "    ws.send = function (m) {\n",
       "        //console.log('sending', m);\n",
       "        comm.send(m);\n",
       "    };\n",
       "    // Register the callback with on_msg.\n",
       "    comm.on_msg(function (msg) {\n",
       "        //console.log('receiving', msg['content']['data'], msg);\n",
       "        // Pass the mpl event to the overridden (by mpl) onmessage function.\n",
       "        ws.onmessage(msg['content']['data']);\n",
       "    });\n",
       "    return ws;\n",
       "};\n",
       "\n",
       "mpl.mpl_figure_comm = function (comm, msg) {\n",
       "    // This is the function which gets called when the mpl process\n",
       "    // starts-up an IPython Comm through the \"matplotlib\" channel.\n",
       "\n",
       "    var id = msg.content.data.id;\n",
       "    // Get hold of the div created by the display call when the Comm\n",
       "    // socket was opened in Python.\n",
       "    var element = document.getElementById(id);\n",
       "    var ws_proxy = comm_websocket_adapter(comm);\n",
       "\n",
       "    function ondownload(figure, _format) {\n",
       "        window.open(figure.canvas.toDataURL());\n",
       "    }\n",
       "\n",
       "    var fig = new mpl.figure(id, ws_proxy, ondownload, element);\n",
       "\n",
       "    // Call onopen now - mpl needs it, as it is assuming we've passed it a real\n",
       "    // web socket which is closed, not our websocket->open comm proxy.\n",
       "    ws_proxy.onopen();\n",
       "\n",
       "    fig.parent_element = element;\n",
       "    fig.cell_info = mpl.find_output_cell(\"<div id='\" + id + \"'></div>\");\n",
       "    if (!fig.cell_info) {\n",
       "        console.error('Failed to find cell for figure', id, fig);\n",
       "        return;\n",
       "    }\n",
       "    fig.cell_info[0].output_area.element.on(\n",
       "        'cleared',\n",
       "        { fig: fig },\n",
       "        fig._remove_fig_handler\n",
       "    );\n",
       "};\n",
       "\n",
       "mpl.figure.prototype.handle_close = function (fig, msg) {\n",
       "    var width = fig.canvas.width / fig.ratio;\n",
       "    fig.cell_info[0].output_area.element.off(\n",
       "        'cleared',\n",
       "        fig._remove_fig_handler\n",
       "    );\n",
       "    fig.resizeObserverInstance.unobserve(fig.canvas_div);\n",
       "\n",
       "    // Update the output cell to use the data from the current canvas.\n",
       "    fig.push_to_output();\n",
       "    var dataURL = fig.canvas.toDataURL();\n",
       "    // Re-enable the keyboard manager in IPython - without this line, in FF,\n",
       "    // the notebook keyboard shortcuts fail.\n",
       "    IPython.keyboard_manager.enable();\n",
       "    fig.parent_element.innerHTML =\n",
       "        '<img src=\"' + dataURL + '\" width=\"' + width + '\">';\n",
       "    fig.close_ws(fig, msg);\n",
       "};\n",
       "\n",
       "mpl.figure.prototype.close_ws = function (fig, msg) {\n",
       "    fig.send_message('closing', msg);\n",
       "    // fig.ws.close()\n",
       "};\n",
       "\n",
       "mpl.figure.prototype.push_to_output = function (_remove_interactive) {\n",
       "    // Turn the data on the canvas into data in the output cell.\n",
       "    var width = this.canvas.width / this.ratio;\n",
       "    var dataURL = this.canvas.toDataURL();\n",
       "    this.cell_info[1]['text/html'] =\n",
       "        '<img src=\"' + dataURL + '\" width=\"' + width + '\">';\n",
       "};\n",
       "\n",
       "mpl.figure.prototype.updated_canvas_event = function () {\n",
       "    // Tell IPython that the notebook contents must change.\n",
       "    IPython.notebook.set_dirty(true);\n",
       "    this.send_message('ack', {});\n",
       "    var fig = this;\n",
       "    // Wait a second, then push the new image to the DOM so\n",
       "    // that it is saved nicely (might be nice to debounce this).\n",
       "    setTimeout(function () {\n",
       "        fig.push_to_output();\n",
       "    }, 1000);\n",
       "};\n",
       "\n",
       "mpl.figure.prototype._init_toolbar = function () {\n",
       "    var fig = this;\n",
       "\n",
       "    var toolbar = document.createElement('div');\n",
       "    toolbar.classList = 'btn-toolbar';\n",
       "    this.root.appendChild(toolbar);\n",
       "\n",
       "    function on_click_closure(name) {\n",
       "        return function (_event) {\n",
       "            return fig.toolbar_button_onclick(name);\n",
       "        };\n",
       "    }\n",
       "\n",
       "    function on_mouseover_closure(tooltip) {\n",
       "        return function (event) {\n",
       "            if (!event.currentTarget.disabled) {\n",
       "                return fig.toolbar_button_onmouseover(tooltip);\n",
       "            }\n",
       "        };\n",
       "    }\n",
       "\n",
       "    fig.buttons = {};\n",
       "    var buttonGroup = document.createElement('div');\n",
       "    buttonGroup.classList = 'btn-group';\n",
       "    var button;\n",
       "    for (var toolbar_ind in mpl.toolbar_items) {\n",
       "        var name = mpl.toolbar_items[toolbar_ind][0];\n",
       "        var tooltip = mpl.toolbar_items[toolbar_ind][1];\n",
       "        var image = mpl.toolbar_items[toolbar_ind][2];\n",
       "        var method_name = mpl.toolbar_items[toolbar_ind][3];\n",
       "\n",
       "        if (!name) {\n",
       "            /* Instead of a spacer, we start a new button group. */\n",
       "            if (buttonGroup.hasChildNodes()) {\n",
       "                toolbar.appendChild(buttonGroup);\n",
       "            }\n",
       "            buttonGroup = document.createElement('div');\n",
       "            buttonGroup.classList = 'btn-group';\n",
       "            continue;\n",
       "        }\n",
       "\n",
       "        button = fig.buttons[name] = document.createElement('button');\n",
       "        button.classList = 'btn btn-default';\n",
       "        button.href = '#';\n",
       "        button.title = name;\n",
       "        button.innerHTML = '<i class=\"fa ' + image + ' fa-lg\"></i>';\n",
       "        button.addEventListener('click', on_click_closure(method_name));\n",
       "        button.addEventListener('mouseover', on_mouseover_closure(tooltip));\n",
       "        buttonGroup.appendChild(button);\n",
       "    }\n",
       "\n",
       "    if (buttonGroup.hasChildNodes()) {\n",
       "        toolbar.appendChild(buttonGroup);\n",
       "    }\n",
       "\n",
       "    // Add the status bar.\n",
       "    var status_bar = document.createElement('span');\n",
       "    status_bar.classList = 'mpl-message pull-right';\n",
       "    toolbar.appendChild(status_bar);\n",
       "    this.message = status_bar;\n",
       "\n",
       "    // Add the close button to the window.\n",
       "    var buttongrp = document.createElement('div');\n",
       "    buttongrp.classList = 'btn-group inline pull-right';\n",
       "    button = document.createElement('button');\n",
       "    button.classList = 'btn btn-mini btn-primary';\n",
       "    button.href = '#';\n",
       "    button.title = 'Stop Interaction';\n",
       "    button.innerHTML = '<i class=\"fa fa-power-off icon-remove icon-large\"></i>';\n",
       "    button.addEventListener('click', function (_evt) {\n",
       "        fig.handle_close(fig, {});\n",
       "    });\n",
       "    button.addEventListener(\n",
       "        'mouseover',\n",
       "        on_mouseover_closure('Stop Interaction')\n",
       "    );\n",
       "    buttongrp.appendChild(button);\n",
       "    var titlebar = this.root.querySelector('.ui-dialog-titlebar');\n",
       "    titlebar.insertBefore(buttongrp, titlebar.firstChild);\n",
       "};\n",
       "\n",
       "mpl.figure.prototype._remove_fig_handler = function (event) {\n",
       "    var fig = event.data.fig;\n",
       "    if (event.target !== this) {\n",
       "        // Ignore bubbled events from children.\n",
       "        return;\n",
       "    }\n",
       "    fig.close_ws(fig, {});\n",
       "};\n",
       "\n",
       "mpl.figure.prototype._root_extra_style = function (el) {\n",
       "    el.style.boxSizing = 'content-box'; // override notebook setting of border-box.\n",
       "};\n",
       "\n",
       "mpl.figure.prototype._canvas_extra_style = function (el) {\n",
       "    // this is important to make the div 'focusable\n",
       "    el.setAttribute('tabindex', 0);\n",
       "    // reach out to IPython and tell the keyboard manager to turn it's self\n",
       "    // off when our div gets focus\n",
       "\n",
       "    // location in version 3\n",
       "    if (IPython.notebook.keyboard_manager) {\n",
       "        IPython.notebook.keyboard_manager.register_events(el);\n",
       "    } else {\n",
       "        // location in version 2\n",
       "        IPython.keyboard_manager.register_events(el);\n",
       "    }\n",
       "};\n",
       "\n",
       "mpl.figure.prototype._key_event_extra = function (event, _name) {\n",
       "    var manager = IPython.notebook.keyboard_manager;\n",
       "    if (!manager) {\n",
       "        manager = IPython.keyboard_manager;\n",
       "    }\n",
       "\n",
       "    // Check for shift+enter\n",
       "    if (event.shiftKey && event.which === 13) {\n",
       "        this.canvas_div.blur();\n",
       "        // select the cell after this one\n",
       "        var index = IPython.notebook.find_cell_index(this.cell_info[0]);\n",
       "        IPython.notebook.select(index + 1);\n",
       "    }\n",
       "};\n",
       "\n",
       "mpl.figure.prototype.handle_save = function (fig, _msg) {\n",
       "    fig.ondownload(fig, null);\n",
       "};\n",
       "\n",
       "mpl.find_output_cell = function (html_output) {\n",
       "    // Return the cell and output element which can be found *uniquely* in the notebook.\n",
       "    // Note - this is a bit hacky, but it is done because the \"notebook_saving.Notebook\"\n",
       "    // IPython event is triggered only after the cells have been serialised, which for\n",
       "    // our purposes (turning an active figure into a static one), is too late.\n",
       "    var cells = IPython.notebook.get_cells();\n",
       "    var ncells = cells.length;\n",
       "    for (var i = 0; i < ncells; i++) {\n",
       "        var cell = cells[i];\n",
       "        if (cell.cell_type === 'code') {\n",
       "            for (var j = 0; j < cell.output_area.outputs.length; j++) {\n",
       "                var data = cell.output_area.outputs[j];\n",
       "                if (data.data) {\n",
       "                    // IPython >= 3 moved mimebundle to data attribute of output\n",
       "                    data = data.data;\n",
       "                }\n",
       "                if (data['text/html'] === html_output) {\n",
       "                    return [cell, data, j];\n",
       "                }\n",
       "            }\n",
       "        }\n",
       "    }\n",
       "};\n",
       "\n",
       "// Register the function which deals with the matplotlib target/channel.\n",
       "// The kernel may be null if the page has been refreshed.\n",
       "if (IPython.notebook.kernel !== null) {\n",
       "    IPython.notebook.kernel.comm_manager.register_target(\n",
       "        'matplotlib',\n",
       "        mpl.mpl_figure_comm\n",
       "    );\n",
       "}\n"
      ],
      "text/plain": [
       "<IPython.core.display.Javascript object>"
      ]
     },
     "metadata": {},
     "output_type": "display_data"
    },
    {
     "data": {
      "text/html": [
       "<img src=\"data:image/png;base64,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\" width=\"639.85\">"
      ],
      "text/plain": [
       "<IPython.core.display.HTML object>"
      ]
     },
     "metadata": {},
     "output_type": "display_data"
    }
   ],
   "source": [
    "grafico3d()"
   ]
  },
  {
   "cell_type": "markdown",
   "id": "d197c4b3",
   "metadata": {
    "slideshow": {
     "slide_type": "slide"
    }
   },
   "source": [
    "# Jupyter Lab\n",
    "- Multiples notebooks.\n",
    "- Navegador de archivos propio.\n",
    "- índice.\n",
    "- Fácil instalacion de extensiones.\n",
    "- Modificar la interfaz.\n",
    "- Sensación de IDE/editor de código."
   ]
  },
  {
   "cell_type": "markdown",
   "id": "21f5d064",
   "metadata": {
    "slideshow": {
     "slide_type": "notes"
    }
   },
   "source": [
    "**Jupyter Lab (JL)** es una tecnología brindada por [Proyect Jupyter](https://jupyter.org/) que nos permite abrir multiples notebooks con distintos kernels (mas adelante en este notebook se explican los kernels) en la misma interfaz. Nos permite encontrar muy facilmente los notebooks y abrirlos en diferentes \"pestañas\" a través del navegador de archivos, a diferencia de los notebooks que se abren en pestañas independientes y tenemos que buscarlos en el dashboard (panel) de Jupyter Notebooks.\n",
    "\n",
    "Contiene un índice que nos permite saltar de un título a otro dentro del notebook sin necesidad de extensiones.\n",
    "\n",
    "Nos ofrece facilidad para el manejo de extensiones, siendo mas facil instalarlas sin tener la necesidad de ejecutar un comando por consola.\n",
    "\n",
    "Otra funcionalidad que nos ofrece **JL** es la posibilidad de modificar la interfaz a gusto, como activar el modo oscuro, activar/desactivar el autoguardado, aumentar/disminuir el tamaño del texto, aumentar/disminuir el tamaño de la interfaz y muchas cosas más.\n",
    "\n",
    "Nos da una sensación de que estamos trabajando dentro de un editor de códigom ya que su interfaz es muy parecida la de **Visual Studio Code**"
   ]
  },
  {
   "cell_type": "markdown",
   "id": "6360b845",
   "metadata": {
    "slideshow": {
     "slide_type": "slide"
    }
   },
   "source": [
    "# Widgets"
   ]
  },
  {
   "cell_type": "markdown",
   "id": "d7c66149",
   "metadata": {
    "slideshow": {
     "slide_type": "notes"
    }
   },
   "source": [
    "Los Widgets son una funcionalidad que nos brinda Jupyter que nos permite modificar datos de funciones de forma fácil e interactiva, dandonos la salida de dicha funcion automaticamente, sin tener que modificar el código. Para esto es necesario ejecutar en consola: `pip install ipywidgets` y `jupyter nbextension enable --py widgetsnbextension`"
   ]
  },
  {
   "cell_type": "code",
   "execution_count": 27,
   "id": "8fa0aa5e",
   "metadata": {
    "slideshow": {
     "slide_type": "skip"
    }
   },
   "outputs": [],
   "source": [
    "def slider(x):\n",
    "    return x"
   ]
  },
  {
   "cell_type": "code",
   "execution_count": 28,
   "id": "304db20c",
   "metadata": {
    "scrolled": true,
    "slideshow": {
     "slide_type": "fragment"
    }
   },
   "outputs": [
    {
     "data": {
      "application/vnd.jupyter.widget-view+json": {
       "model_id": "0eb2010d7d8747908e42f29fe778679a",
       "version_major": 2,
       "version_minor": 0
      },
      "text/plain": [
       "interactive(children=(IntSlider(value=10, description='x', max=30, min=-10), Output()), _dom_classes=('widget-…"
      ]
     },
     "metadata": {},
     "output_type": "display_data"
    },
    {
     "data": {
      "text/plain": [
       "<function __main__.slider(x)>"
      ]
     },
     "execution_count": 28,
     "metadata": {},
     "output_type": "execute_result"
    }
   ],
   "source": [
    "interact(slider,x=10)"
   ]
  },
  {
   "cell_type": "code",
   "execution_count": 29,
   "id": "ad8e3c08-d114-4426-b585-f3c923d543b9",
   "metadata": {
    "slideshow": {
     "slide_type": "skip"
    }
   },
   "outputs": [],
   "source": [
    "def factor(n):\n",
    "    x = sp.symbols('x')\n",
    "    display(sp.Eq(x**n-1, sp.factor(x**n-1)))"
   ]
  },
  {
   "cell_type": "code",
   "execution_count": 30,
   "id": "1dea1819-3d25-4da4-87f9-4202f4e21f17",
   "metadata": {
    "slideshow": {
     "slide_type": "subslide"
    }
   },
   "outputs": [
    {
     "data": {
      "application/vnd.jupyter.widget-view+json": {
       "model_id": "c86ca548302b4cba9e959432f5c6e8a0",
       "version_major": 2,
       "version_minor": 0
      },
      "text/plain": [
       "interactive(children=(IntSlider(value=6, description='n', max=10, min=2), Output()), _dom_classes=('widget-int…"
      ]
     },
     "metadata": {},
     "output_type": "display_data"
    },
    {
     "data": {
      "text/plain": [
       "<function __main__.factor(n)>"
      ]
     },
     "execution_count": 30,
     "metadata": {},
     "output_type": "execute_result"
    }
   ],
   "source": [
    "interact(factor, n=(2,10)) "
   ]
  },
  {
   "cell_type": "markdown",
   "id": "a91ccb9a",
   "metadata": {
    "slideshow": {
     "slide_type": "subslide"
    }
   },
   "source": [
    "## Interacción con gráficos"
   ]
  },
  {
   "cell_type": "code",
   "execution_count": 8,
   "id": "907134fa",
   "metadata": {
    "slideshow": {
     "slide_type": "skip"
    },
    "tags": []
   },
   "outputs": [],
   "source": [
    "def f1(n):\n",
    "    x=np.arange(-100,100,0.1)\n",
    "    y=x**n-1\n",
    "    plt.plot(x,y)"
   ]
  },
  {
   "cell_type": "code",
   "execution_count": null,
   "id": "f764c982",
   "metadata": {
    "slideshow": {
     "slide_type": "fragment"
    },
    "tags": []
   },
   "outputs": [],
   "source": [
    "%matplotlib inline\n",
    "interact(f1,n=(1,10,1))"
   ]
  },
  {
   "cell_type": "markdown",
   "id": "1aa6e03b",
   "metadata": {
    "slideshow": {
     "slide_type": "subslide"
    }
   },
   "source": [
    "## Interacción con mapas"
   ]
  },
  {
   "cell_type": "code",
   "execution_count": 31,
   "id": "09319cee",
   "metadata": {
    "slideshow": {
     "slide_type": "fragment"
    }
   },
   "outputs": [
    {
     "data": {
      "application/vnd.jupyter.widget-view+json": {
       "model_id": "9e6131d06138494ea50277674346e7b8",
       "version_major": 2,
       "version_minor": 0
      },
      "text/plain": [
       "Map(center=[-32.95437267097578, -60.64372798809471], controls=(ZoomControl(options=['position', 'zoom_in_text'…"
      ]
     },
     "metadata": {},
     "output_type": "display_data"
    }
   ],
   "source": [
    "Map(center=[-32.95437267097578, -60.64372798809471], zoom=100)"
   ]
  },
  {
   "cell_type": "markdown",
   "id": "f0c0a756",
   "metadata": {
    "slideshow": {
     "slide_type": "slide"
    }
   },
   "source": [
    "# Funciones mágicas\n",
    "Comandos que nos simplifican determinadas operaciones que necesitamos hacer con los notebooks\n",
    "- *%timeit* y *%%timeit*\n",
    "- *%store*\n",
    "- *%%html*\n",
    "- *%lsmagic*"
   ]
  },
  {
   "cell_type": "markdown",
   "id": "e55aea6e",
   "metadata": {
    "slideshow": {
     "slide_type": "subslide"
    }
   },
   "source": [
    "## %timeit y %%timeit\n",
    "Nos devuelve el tiempo que tarda en ejecutarse una linea/celda"
   ]
  },
  {
   "cell_type": "code",
   "execution_count": null,
   "id": "72564d02",
   "metadata": {
    "slideshow": {
     "slide_type": "fragment"
    }
   },
   "outputs": [],
   "source": [
    "%timeit range(1000)"
   ]
  },
  {
   "cell_type": "code",
   "execution_count": null,
   "id": "ba956eec",
   "metadata": {
    "slideshow": {
     "slide_type": "fragment"
    }
   },
   "outputs": [],
   "source": [
    "%%timeit \n",
    "puntos_random(100)\n",
    "dataframe_puntos_random()"
   ]
  },
  {
   "cell_type": "markdown",
   "id": "5d4d79ff",
   "metadata": {
    "slideshow": {
     "slide_type": "subslide"
    }
   },
   "source": [
    "## %store\n",
    "Guarda una variable para usarla en otro notebook. `%store <variable>` para guardarla, `%store -r <variable>` para acceder desde otro notebook"
   ]
  },
  {
   "cell_type": "code",
   "execution_count": null,
   "id": "f2047f20",
   "metadata": {
    "slideshow": {
     "slide_type": "fragment"
    }
   },
   "outputs": [],
   "source": [
    "asignatura = {'nombre':'Soporte a la gestión da datos con programación visual','profesor':'Mario'}\n",
    "%store asignatura"
   ]
  },
  {
   "cell_type": "markdown",
   "id": "93599101",
   "metadata": {
    "slideshow": {
     "slide_type": "subslide"
    }
   },
   "source": [
    "## %%html\n",
    "Convierte la celda en codigo html"
   ]
  },
  {
   "cell_type": "code",
   "execution_count": null,
   "id": "0dcd2429",
   "metadata": {
    "scrolled": true,
    "slideshow": {
     "slide_type": "fragment"
    }
   },
   "outputs": [],
   "source": [
    "%%html\n",
    "<h1>Lorem ipsum</h1>\n",
    "<p>Lorem ipsum dolor sit amet, consectetur adipiscing elit, sed do eiusmod tempor incididunt ut labore et dolore magna aliqua. Ut enim ad minim veniam, quis nostrud exercitation ullamco laboris nisi ut aliquip ex ea commodo consequat. Duis aute irure dolor in reprehenderit in voluptate velit esse cillum dolore eu fugiat nulla pariatur. Excepteur sint occaecat cupidatat non proident, sunt in culpa qui officia deserunt mollit anim id est laborum.</p>\n"
   ]
  },
  {
   "cell_type": "markdown",
   "id": "9dc03651",
   "metadata": {
    "slideshow": {
     "slide_type": "subslide"
    }
   },
   "source": [
    "## %lsmagic\n",
    "Muestra todas las funciones magicas. "
   ]
  },
  {
   "cell_type": "code",
   "execution_count": null,
   "id": "e93945b5",
   "metadata": {
    "scrolled": true,
    "slideshow": {
     "slide_type": "fragment"
    }
   },
   "outputs": [],
   "source": [
    "%lsmagic"
   ]
  },
  {
   "cell_type": "markdown",
   "id": "47f67103",
   "metadata": {
    "slideshow": {
     "slide_type": "slide"
    }
   },
   "source": [
    "# Contextual Help\n",
    "Nos muestra la documentación de la función."
   ]
  },
  {
   "cell_type": "markdown",
   "id": "c267ba1b-c980-475b-aa0f-fcc8ea8f451a",
   "metadata": {
    "slideshow": {
     "slide_type": "notes"
    },
    "tags": []
   },
   "source": [
    "**Contextual Help** es una funcionalidad de Jupyter que nos permite ver la documentación de las funciones de python y de algunas librerias como numpy, matplotlib y otras. No solo se limita a dichas funciones, sino que también nos muestra la descripción de las funciones que definamos nosotros, incluso funciones mágicas como se muestra a continuación.\n",
    "En Jupyter Lab podemos ir a *Help* y seleccionar *Show Contextual Help* o simplemente apretamos *Ctrl + I*, esto nos abrirá una nueva pestaña dentro de JL que corresponde al **Contextual Help**. Una vez abierto, nos basta con solo hacer click en una función para que nos muestre su documentación.\n",
    "\n",
    "Entonces, abrimos JL y seleccionamos: \n",
    "\n",
    "![Abrir contextual help en JL](img/contextual-help-1.png)\n",
    "\n",
    "Nos abrirá una nueva pestaña como dijimos, podemos moverla a gusto para que nos sea más cómodo, yo la voy a mover a la derecha:\n",
    "\n",
    "![Contextual Help a la derecha](img/contextual-help-2.png)\n",
    "\n",
    "Hacemos click en una funcion y nos aparece la documentación:\n",
    "\n",
    "![Contextual Help documentación](img/contextual-help-3.png)"
   ]
  },
  {
   "cell_type": "code",
   "execution_count": null,
   "id": "38dc2c7e-debd-4c5a-95e4-4d45275f983b",
   "metadata": {
    "scrolled": true,
    "slideshow": {
     "slide_type": "fragment"
    },
    "tags": []
   },
   "outputs": [],
   "source": [
    "range    ## Shift + Tab"
   ]
  },
  {
   "cell_type": "code",
   "execution_count": null,
   "id": "47b20e10-9ce7-48d2-a839-913b9085ad54",
   "metadata": {
    "slideshow": {
     "slide_type": "fragment"
    },
    "tags": []
   },
   "outputs": [],
   "source": [
    "# funcion de numpy\n",
    "np.random.randn?"
   ]
  },
  {
   "cell_type": "code",
   "execution_count": null,
   "id": "00f5d8c6-d9ea-4ba8-862e-83153e6afa8d",
   "metadata": {
    "slideshow": {
     "slide_type": "fragment"
    },
    "tags": []
   },
   "outputs": [],
   "source": [
    "%timeit??"
   ]
  },
  {
   "cell_type": "code",
   "execution_count": null,
   "id": "800fa860-47f2-439e-b45a-acbc1823c6bf",
   "metadata": {
    "slideshow": {
     "slide_type": "fragment"
    },
    "tags": []
   },
   "outputs": [],
   "source": [
    "# funcion nuestra\n",
    "puntos_random    ## Shift + Tab"
   ]
  },
  {
   "cell_type": "markdown",
   "id": "e7a02d6f",
   "metadata": {
    "slideshow": {
     "slide_type": "slide"
    }
   },
   "source": [
    "# Extensiones\n",
    "- nbextensions\n",
    "- Tabla de contenidos\n",
    "- Collapsible headings\n",
    "- Hinterland\n",
    "- RISE"
   ]
  },
  {
   "attachments": {
    "extensiones-1.png": {
     "image/png": "[encoded data removed]"
    }
   },
   "cell_type": "markdown",
   "id": "c58af3e0",
   "metadata": {
    "slideshow": {
     "slide_type": "notes"
    }
   },
   "source": [
    "Las extensiones de Notebook son complementos que pueden ayudar a agregar fácilmente el contenido / función que desea a Jupyter Notebook. La mejor manera de instalar extensiones es Jupyter NbExtensions [Documentación](https://jupyter-contrib-nbextensions.readthedocs.io/en/latest/), es un paquete que nos instala decenas de extensiones con solo ejecutar un comando.\n",
    "\n",
    "Para instalarlo hay que ejecutar el comando: \n",
    "\n",
    "`pip install jupyter_contrib_nbextensions`\n",
    "\n",
    "También podemos instalar la interfaz para configurar nuestras extensiones:\n",
    "\n",
    "`pip install jupyter_nbextensions_configurator`\n",
    "\n",
    "Es necesario instalar archivos JavaScript y CSS con el siguiente comando:\n",
    "\n",
    "`jupyter contrib nbextension install`\n",
    "\n",
    "Ahora en el dashboard nos aparecerá una nueva pestaña como la siguiente imagen.\n",
    "\n",
    "![extensiones-1.png](attachment:extensiones-1.png)\n",
    "\n",
    "Para activar una extensión, simplemente tenemos que seleccionarla y luego abrir el notebook o actualizarlo (F5)."
   ]
  },
  {
   "cell_type": "markdown",
   "id": "be8230ba",
   "metadata": {
    "slideshow": {
     "slide_type": "subslide"
    }
   },
   "source": [
    "## nbextensions\n",
    "Paquete de extensiones [Documentación](https://jupyter-contrib-nbextensions.readthedocs.io/en/latest/). Para instalar, ejecutar los siguientes comandos:\n",
    "- `pip install jupyter_contrib_nbextensions`.\n",
    "- `pip install jupyter_nbextensions_configurator`.\n",
    "- `jupyter contrib nbextension install`."
   ]
  },
  {
   "attachments": {
    "extensiones-2.png": {
     "image/png": "[encoded data removed]"
    }
   },
   "cell_type": "markdown",
   "id": "047e4ff8",
   "metadata": {
    "slideshow": {
     "slide_type": "subslide"
    }
   },
   "source": [
    "## Tabla de contenidos\n",
    "Al activarla, aparecerá una nueva opción en el menú de funciones que permite mostrar la tabla de contenidos del notebook.\n",
    "![extensiones-2.png](attachment:extensiones-2.png)\n",
    "\n",
    "## Collapsible headings\n",
    "Nos permite colapsar el contenido dentro de un título. Sirve para tener el notebook ordenado y limpio."
   ]
  },
  {
   "cell_type": "markdown",
   "id": "af49bbd4",
   "metadata": {
    "slideshow": {
     "slide_type": "subslide"
    }
   },
   "source": [
    "## Hinterland\n",
    "Autocompletado de código a medida quer escribimos."
   ]
  },
  {
   "cell_type": "code",
   "execution_count": null,
   "id": "d831023e",
   "metadata": {
    "slideshow": {
     "slide_type": "fragment"
    }
   },
   "outputs": [],
   "source": [
    "#Autocompletado de código con Hinterland"
   ]
  },
  {
   "cell_type": "markdown",
   "id": "07bafaf7",
   "metadata": {
    "slideshow": {
     "slide_type": "subslide"
    }
   },
   "source": [
    "## Rise\n",
    "- Extension para presentaciones. [Documentación](https://rise.readthedocs.io/en/stable/)\n",
    "- No incuído en nbextensions.\n",
    "- `pip install RISE`."
   ]
  },
  {
   "cell_type": "markdown",
   "id": "5d110cff",
   "metadata": {
    "slideshow": {
     "slide_type": "notes"
    }
   },
   "source": [
    "Rise es una extension que nos permite realizar una presentación de un notebook con mucha facilidad y ejecutar celdas dentro de la misma presentación.\n",
    "Para instalarlo hay que ejecutar el comando `pip install RISE`\n",
    "### Cómo crear un slideshow\n",
    "\n",
    "#### Habilitar el modo presentación\n",
    "1. Ir a *View* en la barra de herramientas.\n",
    "1. Ir a la opción \"Cell Toolbar\".\n",
    "1. Seleccionar la opción *Slideshow*.\n",
    "\n",
    "![rise-1.png](img/rise-1.png)\n",
    "\n",
    "#### Seleccionar las diapositivas\n",
    "Ahora debemos seleccionar las celdas que queremos que se muestren como diapositivas. Para esto vamos al menu desplegable que tenemos arriba a la derecha de la celda y seleccionamos la opción que queremos para dicha celda\n",
    "\n",
    "![rise-2.png](img/rise-2.png)\n",
    "\n",
    "- **Slide**: la celda será una diapositiva.\n",
    "- **Sub-Slide**: la celda será una sub-diapositiva.\n",
    "- **Fragment**: la celda será una compilación de la diapositiva anterior (será una \"parte\" de la anterior diapositiva).\n",
    "- **Skip**: la celda no se mostrará en la presentación.\n",
    "- **Notes**: la celda es marcada como una nota que debe tener el cuenta el presentador, no se mostrará en la presentación.\n",
    "- **-**: indica que la celda debe seguir el comportamiento de la celda anterior.\n",
    "\n",
    "### Iniciar la presentación\n",
    "La presentación se puede iniciar directamente desde el Notebook. Para esto podemos usar el atajo de teclado (*alt+r* en windows) o hacer clic en el botón de RISE.\n",
    "\n",
    "![rise-3.png](img/rise-3.png)\n",
    "\n",
    "Luego comenzará la presentación y se verá algo como esto:\n",
    "\n",
    "![rise-4.png](img/rise-4.png)"
   ]
  },
  {
   "cell_type": "markdown",
   "id": "2ad2bfc7-76a3-4d78-8713-4165c73c3640",
   "metadata": {
    "slideshow": {
     "slide_type": "slide"
    }
   },
   "source": [
    "# Buenas prácticas\n",
    "- Importación de dependencias en la primera celda.\n",
    "- Celdas simples.\n",
    "- Definir funciones.\n",
    "- Dividir el notebook en secciones."
   ]
  },
  {
   "cell_type": "markdown",
   "id": "1093333c",
   "metadata": {
    "slideshow": {
     "slide_type": "notes"
    }
   },
   "source": [
    "## Importación de dependencias en la primera celda.\n",
    "\n",
    "Realiza el \"import\" de todas tus dependencias en la primera celda del notebook. Esto ayuda la legibilidad, ya que antes de meterse con funciones y análisis de datos, tienes claro cuales son las dependencias que el notebook utiliza. A su vez, cuando re-inicias el notebook se cargan nuevamente todas las dependencias. Por último, si no quieres re-ejecutar todas las celdas de nuevo, tienes todas las dependencias juntas en una única celda que re-ejecutar.\n",
    "\n",
    "## Celdas simples.\n",
    "\n",
    "Trata de mantener tus celdas simples, es decir lograr un correcto balance entre cantidad de celdas y contenido en las mismas. Por ejemplo, no es una buena práctica tener una única celda con todo el contenido de tu notebook, pero tampoco es bueno tener una celda por cada comentario o línea de código que tengas.\n",
    "\n",
    "Logra un correcto balance agrupando comentarios, código, etc.\n",
    "\n",
    "## Definir funciones.\n",
    "\n",
    "Aunque esto es una buena práctica de python, es bueno definir funciones en las celdas y luego llamarlas cuando se necesiten. Esto ayuda a la legitibilidad y reutilizacion del código en el notebook.\n",
    "\n",
    "## Dividir el notebook en funciones.\n",
    "\n",
    "Es bueno dividir el contenido del notebook en secciones utilizando la expresividad del lenguaje Markdown. A su vez, siempre resulta muy útil agregar una sección de Objetivos y otra de Índice al inicio del mismo.\n"
   ]
  },
  {
   "cell_type": "markdown",
   "id": "271c031e",
   "metadata": {
    "slideshow": {
     "slide_type": "slide"
    }
   },
   "source": [
    "# Ofertas laborales\n",
    "- Mercado Libre - Data Analytics. [Publicación](https://www.linkedin.com/jobs/view/2633163339/?eBP=JOB_SEARCH_ORGANIC&recommendedFlavor=ACTIVELY_HIRING_COMPANY&refId=%2BZ6KacA5ai%2BCyuBPXBOd%2Bg%3D%3D&trackingId=anEfsbuPtIxPl6iMHqNlWQ%3D%3D&trk=flagship3_search_srp_jobs)\n",
    "- Tribes.AI - Data Scientist. [Publicacón](https://www.linkedin.com/jobs/view/2644485465/?eBP=JOB_SEARCH_ORGANIC&recommendedFlavor=JOB_SEEKER_QUALIFIED&refId=%2BZ6KacA5ai%2BCyuBPXBOd%2Bg%3D%3D&trackingId=kU2Y4Ih2UBOMag9onjh4Kg%3D%3D&trk=flagship3_search_srp_jobs)\n",
    "- IBM - Data Scientist. [Publicación](https://www.linkedin.com/jobs/view/2661231372/?eBP=JOB_SEARCH_ORGANIC&recommendedFlavor=ACTIVELY_HIRING_COMPANY&refId=%2BZ6KacA5ai%2BCyuBPXBOd%2Bg%3D%3D&trackingId=VJh5wpKt5IjGH1FyFg7g%2FA%3D%3D&trk=flagship3_search_srp_jobs)\n",
    "- BRIDGE - Python Data Engineer. [Publicación](https://www.linkedin.com/jobs/view/2650054869/?eBP=JOB_SEARCH_ORGANIC&recommendedFlavor=SCHOOL_RECRUIT&refId=%2BZ6KacA5ai%2BCyuBPXBOd%2Bg%3D%3D&trackingId=tzJbXb1YCyJTEzZWz6BW6Q%3D%3D&trk=flagship3_search_srp_jobs)"
   ]
  },
  {
   "cell_type": "markdown",
   "id": "19abf248",
   "metadata": {
    "slideshow": {
     "slide_type": "notes"
    }
   },
   "source": [
    "Las publicaciones fueron tomadas el día 02/08/21, pueden no estar disponibles,"
   ]
  },
  {
   "cell_type": "markdown",
   "id": "eae755ae",
   "metadata": {
    "slideshow": {
     "slide_type": "slide"
    }
   },
   "source": [
    "# Referencias\n",
    "- Manual de uso - Eduardo Cabrera Granado, Elena Dıaz Garcıa. [Link](https://eprints.ucm.es/id/eprint/48304/1/ManualJupyter.pdf)\n",
    "- https://medium.com/saturdays-ai/empezando-a-usar-jupyter-notebook-para-python-parte-1-instalaci%C3%B3n-94e97b4c5f37\n",
    "- https://empresas.blogthinkbig.com/python-para-todos-2-jupyternotebook/\n",
    "- Paradigma digital. [Video](https://www.youtube.com/watch?v=cxXL5A4u-D8)\n",
    "- Presentacion de Johan S. Yepes R. - Universidad EARFIT.[Video](https://www.youtube.com/watch?v=dzPSL-HjNpw)\n",
    "- Diego Efe. [Canal](https://www.youtube.com/channel/UCOyAMYXTaF6wlSu1cFK_MKA)\n",
    "- Extensiones. https://analyticsindiamag.com/top-8-extensions-for-your-jupyter-notebook/\n",
    "- RISE. https://www.markroepke.me/posts/2019/05/23/creating-interactive-slideshows-in-jupyter.html "
   ]
  },
  {
   "cell_type": "markdown",
   "id": "f8ffeb98-3002-4dff-924f-f9244d7a1341",
   "metadata": {
    "slideshow": {
     "slide_type": "slide"
    }
   },
   "source": [
    "<div align=\"center\">\n",
    "    <h1>JUPYTER NOTEBOOKS SEMINARIO 2021</h1>\n",
    "    <img src=\"img/Jupyter_logo.svg\" style=\"margin-left:auto; margin-right:auto\" width=\"20%\" height=\"20%\">\n",
    "</div>\n",
    "\n",
    "## Grupo 09\n",
    "- Cabrera, Miguel\n",
    "- Bermejo Zambrini, Gonzalo Martín\n",
    "\n",
    "## Repositorio\n",
    "- [GitHub](https://github.com/gmbz/frro-soporte-seminario-2021)"
   ]
  },
  {
   "cell_type": "markdown",
   "id": "fe24ea3c",
   "metadata": {
    "slideshow": {
     "slide_type": "skip"
    }
   },
   "source": [
    "# nbdiff-web\n",
    "Nos permite ver la diferencia entre dos notebooks que tengamos localmente. Tenemos que instalar `pip install nbdime`"
   ]
  },
  {
   "cell_type": "code",
   "execution_count": null,
   "id": "a2d28992",
   "metadata": {
    "slideshow": {
     "slide_type": "skip"
    }
   },
   "outputs": [],
   "source": [
    "#para instalar ejecutar: pip install nbdime\n",
    "#nbdiff-web [before after]\n",
    "!nbdiff-web 01-presentacion.ipynb Presentacion-viejo.ipynb"
   ]
  }
 ],
 "metadata": {
  "celltoolbar": "Slideshow",
  "kernelspec": {
   "display_name": "Python 3",
   "language": "python",
   "name": "python3"
  },
  "language_info": {
   "codemirror_mode": {
    "name": "ipython",
    "version": 3
   },
   "file_extension": ".py",
   "mimetype": "text/x-python",
   "name": "python",
   "nbconvert_exporter": "python",
   "pygments_lexer": "ipython3",
   "version": "3.8.8"
  },
  "toc": {
   "base_numbering": 1,
   "nav_menu": {
    "height": "472px",
    "width": "304px"
   },
   "number_sections": true,
   "sideBar": true,
   "skip_h1_title": false,
   "title_cell": "Table of Contents",
   "title_sidebar": "Contents",
   "toc_cell": false,
   "toc_position": {
    "height": "calc(100% - 180px)",
    "left": "10px",
    "top": "150px",
    "width": "360px"
   },
   "toc_section_display": true,
   "toc_window_display": true
  },
  "toc-autonumbering": false,
  "toc-showmarkdowntxt": false
 },
 "nbformat": 4,
 "nbformat_minor": 5
}
