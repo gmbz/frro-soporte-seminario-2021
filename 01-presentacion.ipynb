{
 "cells": [
  {
   "cell_type": "code",
   "execution_count": 1,
   "id": "69a5728d",
   "metadata": {
    "slideshow": {
     "slide_type": "skip"
    }
   },
   "outputs": [],
   "source": [
    "import matplotlib.pyplot as plt\n",
    "from mpl_toolkits.mplot3d import axes3d\n",
    "import numpy as np\n",
    "import sympy as sp\n",
    "import pandas as pd\n",
    "from ipywidgets import interact\n",
    "from IPython.display import display\n",
    "from ipyleaflet import Map"
   ]
  },
  {
   "cell_type": "markdown",
   "id": "e7a91706",
   "metadata": {
    "slideshow": {
     "slide_type": "slide"
    }
   },
   "source": [
    "<div align=\"center\">\n",
    "    <h1>JUPYTER NOTEBOOKS SEMINARIO 2021</h1>\n",
    "    <img src=\"img/Jupyter_logo.svg\" style=\"margin-left:auto; margin-right:auto\" width=\"20%\" height=\"20%\">\n",
    "</div>\n",
    "\n",
    "## Grupo 09\n",
    "- Cabrera, Miguel\n",
    "- Bermejo Zambrini, Gonzalo Martín"
   ]
  },
  {
   "cell_type": "markdown",
   "id": "04c3c0d7",
   "metadata": {
    "slideshow": {
     "slide_type": "slide"
    }
   },
   "source": [
    "1. [Jupyter Notebook](#¿Qué-es-Jupyter-Notebook?)\n",
    "1. [Instalación](#Instalación)\n",
    "1. [Uso de Jupyter Notebook](#Uso-de-Jupyter-Notebook)\n",
    "1. [Jupyter Lab](#Jupyter-Lab)\n",
    "1. [Widgets](#Widgets)\n",
    "1. [Funciones mágicas](#Funciones-mágicas)\n",
    "1. [Contextual Help](#Contextual-Help)\n",
    "1. [Extensiones](#Extensiones)\n",
    "1. [Buenas prácticas](#Buenas-prácticas)\n",
    "1. [Ofertas Laborales](#Ofertas-laborales)\n",
    "1. [Referancias](#Referencias)"
   ]
  },
  {
   "cell_type": "markdown",
   "id": "4ed74930",
   "metadata": {
    "slideshow": {
     "slide_type": "notes"
    }
   },
   "source": [
    "- [x] jupyter notebook\n",
    "- [x] instalacion\n",
    "- [x] uso de Jupyter Notebook\n",
    "    - [x] crear un notebook\n",
    "    - [x] codigo\n",
    "    - [x] markdown\n",
    "    - [x] latex\n",
    "    - [x] atajos del teclado\n",
    "    - [x] pandas\n",
    "    - [x] matplotlib\n",
    "- [x] jupyter lab (hacer demo)\n",
    "- [x] ofertas laborales\n",
    "- [x] kernel\n",
    "- [x] widgets\n",
    "- [x] funciones magicas\n",
    "    - [x] timeit\n",
    "    - [x] store\n",
    "    - [x] html\n",
    "    - [x] lsmagic\n",
    "- [x] contextual help\n",
    "- [x] extensiones\n",
    "    - [x] nbextensions\n",
    "    - [x] Tabla de contenido\n",
    "    - [x] Collapsible headings\n",
    "    - [x] Hinterland\n",
    "    - [x] RISE\n",
    "- [x] buenas practicas\n",
    "- [x] referencias"
   ]
  },
  {
   "cell_type": "markdown",
   "id": "b3e809ae",
   "metadata": {
    "slideshow": {
     "slide_type": "slide"
    }
   },
   "source": [
    "# ¿Qué es Jupyter Notebook?\n",
    "La palabra Jupyter es un acrónimo formado a partir de: **Julia** + **Python** + **R**\n",
    "\n",
    "Combina 3 componentes:\n",
    "- Jupyter Notebook App.\n",
    "- Notebooks.\n",
    "- Kernel.\n"
   ]
  },
  {
   "cell_type": "markdown",
   "id": "60561753",
   "metadata": {
    "slideshow": {
     "slide_type": "subslide"
    }
   },
   "source": [
    "## Jupyter Notebook App\n",
    "Interfaz Web para el manejo de notebooks"
   ]
  },
  {
   "cell_type": "markdown",
   "id": "a4289785-658f-45f3-bc55-b22ebfc59397",
   "metadata": {
    "slideshow": {
     "slide_type": "subslide"
    },
    "tags": []
   },
   "source": [
    "## Notebook\n",
    "- Permite la combinación de una narrativa, un código y los resultados de los cálculos en un solo lugar.\n",
    "- Interfaz intuitiva fácil de usar\n",
    "- Flexibilidad para admitir múltiples lenguajes de programación\n",
    "- Integración con entornos de computación en la nube"
   ]
  },
  {
   "cell_type": "markdown",
   "id": "c77f08f7-6b39-467a-a8b6-fc08ba1f93a6",
   "metadata": {
    "slideshow": {
     "slide_type": "notes"
    }
   },
   "source": [
    "### Jupyter notebook:\n",
    "\n",
    "\n",
    "Jupyter notebook es una combinación de 3 componentes:\n",
    "- Jupyter notebook app.\n",
    "- Notebook.\n",
    "- Kernel.\n",
    "\n",
    "### Jupyter notebook app:\n",
    "Es una aplicación web de código abierto que permite la creación y manejo de notebooks en el navegador.\n",
    "\n",
    "### Notebook:\n",
    "\n",
    "Un notebook es un documento que contiene tanto código (por ejemplo, Python o R) como elementos de texto enriquecido (párrafos, ecuaciones, figuras, enlaces, etc.). Es tanto un documento legible por un ser humano, pudiendo contener la descripción de un análisis de datos y sus resultados (figuras, tablas, etc.), como ejecutable por una computadora, pudiendo contener snippets de código que ejecutan por ejemplo un análisis de datos.\n",
    "\n",
    "Debido a esta capacidad de mezclar, código y elementos de texto, este tipo de documentos son ideales para colocar el trabajo de un data scientist (científico de datos), reuniendo el análisis y los resultados en un mismo lugar, a la vez que permite ser ejecutado en tiempo real.\n",
    "\n",
    "Los notebooks pueden exportarse a distintos formatos como pdf, html, latex, etc para ser compartidos con otras personas con mucha facilidad. También pueden ser compartidos con otras personas a través de GitHub, ya que esta plataforma permite visualizar los notebooks como si estuvieras en la aplicación de Jupyter, con la única diferencia que no se puede interactuar con el documento."
   ]
  },
  {
   "cell_type": "markdown",
   "id": "119cd706",
   "metadata": {
    "slideshow": {
     "slide_type": "subslide"
    }
   },
   "source": [
    "# Kernel\n",
    "- Donde se ejecuta el código.\n",
    "- Uso del Kernel [Demo](02-kernel-demo.ipynb).\n",
    "- Lista de [Kernels](https://github.com/jupyter/jupyter/wiki/Jupyter-kernels)\n",
    "\n",
    "<div align=\"center\">\n",
    "    <img src=\"img/R_logo.svg\" style=\"margin-left:auto; margin-right:auto\" width=\"10%\" height=\"10%\"><img src=\"img/Julia_prog_language.svg\" style=\"margin-left:auto; margin-right:auto\" width=\"10%\" height=\"10%\"><img src=\"img/Python-logo-notext.svg\" style=\"margin-left:auto; margin-right:auto\"><img src=\"img/Scala-full-color.svg\" style=\"margin-left:auto; margin-right:auto\" width=\"20%\" height=\"10%\">\n",
    "</div>"
   ]
  },
  {
   "cell_type": "markdown",
   "id": "16756f92-f3ed-4a81-81fb-8c4dc463c7aa",
   "metadata": {
    "slideshow": {
     "slide_type": "notes"
    },
    "tags": []
   },
   "source": [
    "### Descripción:\n",
    "El kernel es el motor del notebook, es donde se ejecuta el código y proporciona las salidas de las celdas. Cuando se abre un notebook, el kernel asociado se ejecuta de forma automática.\n",
    "Jupyter por defecto nos instala solo el kernel de python (IPython), pero al ser de código abierto permite que la comunidad desarrolle sus propios kernels, tal es así que hoy en día hay mas de 100 kernes que podemos utilizar en los notebooks.\n",
    "\n",
    "### Uso del kernel\n",
    "Si abrimos el menu *Kernel* (en la parte de arriba de nuestro notebook), nos va a mostrar varias opciones:\n",
    "\n",
    "![Menu kernel](img/kernel-1.png)\n",
    "\n",
    "- Interrupt: interrumpe la ejecución de la celda.\n",
    "- Restart: resetea el kernel, es decir, borra todas las variables.\n",
    "- Restart & Clear Output: resetea el kernel y borra todas las salidas de las celdas que tengamos.\n",
    "- Restart & Run All: resetea el kernel y vuelve a ejecutar todas las celdas secuencialmente.\n",
    "- Reconnect: vuelve a conectar el kernel.\n",
    "- Shutdown: apaga el kernel.\n",
    "\n",
    "### Lista de kernels\n",
    "Hay una lista de kernels en este repositorio de GitHub. [Repositorio](https://github.com/jupyter/jupyter/wiki/Jupyter-kernels)\n"
   ]
  },
  {
   "cell_type": "markdown",
   "id": "80becf6d",
   "metadata": {
    "slideshow": {
     "slide_type": "slide"
    }
   },
   "source": [
    "# Instalación\n",
    "- [Proyect Jupyter](https://jupyter.org/install).\n",
    "- [Anaconda](https://www.anaconda.com/products/individual).\n",
    "    - Windows.\n",
    "    - Linux."
   ]
  },
  {
   "cell_type": "markdown",
   "id": "3f9009e5",
   "metadata": {
    "slideshow": {
     "slide_type": "subslide"
    }
   },
   "source": [
    "## Anaconda\n",
    "\n",
    "### Windows\n",
    "- Descargar instalador.\n",
    "- Solo dar siguiente.\n",
    "- Tildar **ADD TO PATH** cuando nos de la opción.\n",
    "\n",
    "### Linux\n",
    "- Descargar instalador.\n",
    "- `bash ~/Descargas/Anaconda3-2021.05-Linux-x86_64.sh`\n"
   ]
  },
  {
   "cell_type": "markdown",
   "id": "7c4ed805",
   "metadata": {
    "slideshow": {
     "slide_type": "notes"
    }
   },
   "source": [
    "Podemos instalar Jupyter Notebook desde su página principal, vamos a la seccíon *Install* y vemos que nos dice que tenemos que ejecutar el comando `pip install notebook` en consola para instalarlo, luego para abrirlo ejecutamos el comando `jupyter notebook` y se nos va a abrir una pestaña en nuestro navegador con el dashboard de jupyter.\n",
    "\n",
    "Otra forma de instalarlo es con Anaconda,\n",
    "\n",
    "### Linux\n",
    "Vamos al sitio oficial de Anaconda y descargamos el instalador. En la terminal ejecutamos `bash ~/Descargas/<nombre del archivo>.sh` por ejemplo: `bash ~/Descargas/Anaconda3-2021.05-Linux-x86_64.sh` (si el archivo no está en la carpeta descargas, debemos cambiar la parte `/Descargas/` por la carpeta donde esté), luego presionamos *Enter* para iniciar el proceso. Ahora presionamos *Enter* (varias veces) para ver la licencia hasta que nos pida que ingresemos *yes* para continuar con la instalación. Una vez instalado solo tenemos que ejecutar el comando `jupyter notebook` y se nos va a abrir una pestaña en nuestro navegador con el dashboard de jupyter.\n",
    "\n",
    "### Windows\n",
    "Vamos al sitio oficial de Anaconda y descargamos el instalador gráfico de acuerdo a nuestra arquitectura de pc (32 0 64 bits), ejecutamos el instalador y lo único que tenemos que hacer el hacer clic en *Siguiente* hasta que nos tire la opción de **ADD TO PATH** y la seleccionamos, nos va a aparecer un mensaje en rojo pero no debemos preocuparnos por eso, luego seguimos dando a *Siguiente* hasta que terminemos la instalación. Luego para abrir un notebook ejecutamos el comando `jupyter notebook` y se nos va a abrir una pestaña en nuestro navegador con el dashboard de jupyter o podemos abrir la interfaz de anaconda (escribiendo en el buscador de windows \"anaconda\") y haciendo click en *Launch* de Jupyter Notebook.\n",
    "\n",
    "![Abrir notebook desde la interfaz de anaconda](img/instalacion-1.png)"
   ]
  },
  {
   "cell_type": "markdown",
   "id": "c6860bc0",
   "metadata": {
    "slideshow": {
     "slide_type": "slide"
    }
   },
   "source": [
    "# Uso de Jupyter Notebook\n",
    "\n",
    "- Crear notebook (demo).\n",
    "- Codigo\n",
    "- Markdown\n",
    "- Latex\n",
    "- Atajos de teclado"
   ]
  },
  {
   "cell_type": "markdown",
   "id": "598d4a3d",
   "metadata": {
    "slideshow": {
     "slide_type": "subslide"
    }
   },
   "source": [
    "## Codigo"
   ]
  },
  {
   "cell_type": "code",
   "execution_count": 2,
   "id": "e5e5df6c",
   "metadata": {
    "scrolled": true,
    "slideshow": {
     "slide_type": "fragment"
    }
   },
   "outputs": [
    {
     "name": "stdout",
     "output_type": "stream",
     "text": [
      "Hola mundo\n"
     ]
    }
   ],
   "source": [
    "print(\"Hola mundo\")"
   ]
  },
  {
   "cell_type": "markdown",
   "id": "5ae90860",
   "metadata": {
    "slideshow": {
     "slide_type": "subslide"
    }
   },
   "source": [
    "## Markdown"
   ]
  },
  {
   "cell_type": "markdown",
   "id": "1ffe6d2d",
   "metadata": {
    "slideshow": {
     "slide_type": "fragment"
    }
   },
   "source": [
    "# Titulos\n",
    "## Subtitulos \n",
    "\n",
    "- Listas desordenadas\n",
    "- Listas desordenadas\n",
    "1. Listas ordenadas\n",
    "1. Listas ordenadas\n",
    "\n",
    "**Negrita**\n",
    "\n",
    "*Italica*\n",
    "\n",
    "#### Links\n",
    "[google](https://www.google.com/)\n"
   ]
  },
  {
   "cell_type": "markdown",
   "id": "1d0562de",
   "metadata": {
    "slideshow": {
     "slide_type": "subslide"
    }
   },
   "source": [
    "## Latex"
   ]
  },
  {
   "cell_type": "markdown",
   "id": "800ad970",
   "metadata": {
    "slideshow": {
     "slide_type": "fragment"
    }
   },
   "source": [
    "$$\\int_{a}^{b}f(x) dx$$"
   ]
  },
  {
   "cell_type": "markdown",
   "id": "43708198",
   "metadata": {
    "slideshow": {
     "slide_type": "notes"
    }
   },
   "source": [
    "### Modos de Edición y Comando\n",
    "\n",
    "Al seleccionar una celda, ésta puede colocarse en modo de edición (el borde izquierdo que indica la celda activa será de color verde) o en modo de comando (el color del borde izquierdo será azul). Para pasar entre un modo u otro se puede usar el teclado (*Esc* y *Return*) o el mouse (pulsando el puntero dentro de la celda o sobre el espacio vacío de la izquierda).\n",
    "\n",
    "### Atajos de teclado\n",
    "\n",
    "Hay un enorme conjunto de atajos de teclado que facilitan el uso del entorno, pueden ver la lista a través del menú *Help/Keyboard Shortcuts*. También se pueden editar y agregar combinaciones de teclas mediante el menú *Help/Edit Keyboard Shortcuts*, por ejemplo es muy util definir un *keybinding* para mover las celdas hacia arriba y otro para moverlas hacia abajo. A través del menú *Help* también se accede a un tour educativo por las diferentes partes del entorno.\n",
    "\n",
    "Principales combinaciones útiles (funcionan cuando la celda está en modo **Comando**):"
   ]
  },
  {
   "cell_type": "markdown",
   "id": "4e1bfaad",
   "metadata": {
    "slideshow": {
     "slide_type": "subslide"
    }
   },
   "source": [
    "## Atajos de teclado\n",
    "\n",
    "|Atajo de teclado|Función|\n",
    "|:---|:---|\n",
    "|Shift+Enter|Ejecuta la celda actual y pasa a la siguiente|\n",
    "|A|Inserta una celda encima de la actual|\n",
    "|B|Inserta una celda debajo de la actual|\n",
    "|DD|Borra la celda actual|\n",
    "|Y|Convierte la celda en **Code**|\n",
    "|M|Convierte la celda en **Markdown**|"
   ]
  },
  {
   "cell_type": "markdown",
   "id": "ad79642b",
   "metadata": {
    "slideshow": {
     "slide_type": "subslide"
    }
   },
   "source": [
    "## Pandas"
   ]
  },
  {
   "cell_type": "code",
   "execution_count": 3,
   "id": "910f4b0f",
   "metadata": {
    "scrolled": true,
    "slideshow": {
     "slide_type": "skip"
    }
   },
   "outputs": [],
   "source": [
    "def puntos_random(n):\n",
    "    \"\"\"Esta funcion devuelve numeros random\"\"\"\n",
    "    p = []\n",
    "    x = np.random.randn(n)\n",
    "    y = np.random.randn(n)\n",
    "    p = list(zip(x,y))\n",
    "    return p"
   ]
  },
  {
   "cell_type": "code",
   "execution_count": 4,
   "id": "4b075f3a",
   "metadata": {
    "slideshow": {
     "slide_type": "skip"
    }
   },
   "outputs": [],
   "source": [
    "def dataframe_puntos_random():\n",
    "    puntos = puntos_random(100)\n",
    "    return pd.DataFrame(data = puntos, columns = ['x','y'])\n",
    "tabla = dataframe_puntos_random()"
   ]
  },
  {
   "cell_type": "code",
   "execution_count": 5,
   "id": "f1a92173",
   "metadata": {
    "scrolled": true,
    "slideshow": {
     "slide_type": "fragment"
    }
   },
   "outputs": [
    {
     "data": {
      "text/html": [
       "<div>\n",
       "<style scoped>\n",
       "    .dataframe tbody tr th:only-of-type {\n",
       "        vertical-align: middle;\n",
       "    }\n",
       "\n",
       "    .dataframe tbody tr th {\n",
       "        vertical-align: top;\n",
       "    }\n",
       "\n",
       "    .dataframe thead th {\n",
       "        text-align: right;\n",
       "    }\n",
       "</style>\n",
       "<table border=\"1\" class=\"dataframe\">\n",
       "  <thead>\n",
       "    <tr style=\"text-align: right;\">\n",
       "      <th></th>\n",
       "      <th>x</th>\n",
       "      <th>y</th>\n",
       "    </tr>\n",
       "  </thead>\n",
       "  <tbody>\n",
       "    <tr>\n",
       "      <th>0</th>\n",
       "      <td>0.774869</td>\n",
       "      <td>0.663356</td>\n",
       "    </tr>\n",
       "    <tr>\n",
       "      <th>1</th>\n",
       "      <td>2.053481</td>\n",
       "      <td>-0.153157</td>\n",
       "    </tr>\n",
       "    <tr>\n",
       "      <th>2</th>\n",
       "      <td>1.313811</td>\n",
       "      <td>0.062060</td>\n",
       "    </tr>\n",
       "    <tr>\n",
       "      <th>3</th>\n",
       "      <td>-3.595819</td>\n",
       "      <td>1.497885</td>\n",
       "    </tr>\n",
       "    <tr>\n",
       "      <th>4</th>\n",
       "      <td>-0.271177</td>\n",
       "      <td>0.567128</td>\n",
       "    </tr>\n",
       "    <tr>\n",
       "      <th>...</th>\n",
       "      <td>...</td>\n",
       "      <td>...</td>\n",
       "    </tr>\n",
       "    <tr>\n",
       "      <th>95</th>\n",
       "      <td>-0.818647</td>\n",
       "      <td>-1.908618</td>\n",
       "    </tr>\n",
       "    <tr>\n",
       "      <th>96</th>\n",
       "      <td>-0.605446</td>\n",
       "      <td>0.690279</td>\n",
       "    </tr>\n",
       "    <tr>\n",
       "      <th>97</th>\n",
       "      <td>0.620264</td>\n",
       "      <td>-0.876433</td>\n",
       "    </tr>\n",
       "    <tr>\n",
       "      <th>98</th>\n",
       "      <td>0.931976</td>\n",
       "      <td>2.993401</td>\n",
       "    </tr>\n",
       "    <tr>\n",
       "      <th>99</th>\n",
       "      <td>0.101988</td>\n",
       "      <td>-1.330018</td>\n",
       "    </tr>\n",
       "  </tbody>\n",
       "</table>\n",
       "<p>100 rows × 2 columns</p>\n",
       "</div>"
      ],
      "text/plain": [
       "           x         y\n",
       "0   0.774869  0.663356\n",
       "1   2.053481 -0.153157\n",
       "2   1.313811  0.062060\n",
       "3  -3.595819  1.497885\n",
       "4  -0.271177  0.567128\n",
       "..       ...       ...\n",
       "95 -0.818647 -1.908618\n",
       "96 -0.605446  0.690279\n",
       "97  0.620264 -0.876433\n",
       "98  0.931976  2.993401\n",
       "99  0.101988 -1.330018\n",
       "\n",
       "[100 rows x 2 columns]"
      ]
     },
     "execution_count": 5,
     "metadata": {},
     "output_type": "execute_result"
    }
   ],
   "source": [
    "tabla"
   ]
  },
  {
   "cell_type": "markdown",
   "id": "a3b2ba8b",
   "metadata": {
    "slideshow": {
     "slide_type": "subslide"
    }
   },
   "source": [
    "## Graficos"
   ]
  },
  {
   "cell_type": "code",
   "execution_count": 6,
   "id": "259cbe37",
   "metadata": {
    "slideshow": {
     "slide_type": "skip"
    }
   },
   "outputs": [],
   "source": [
    "def grafico_puntos_random(df):\n",
    "    plt.scatter(df.x,df.y)"
   ]
  },
  {
   "cell_type": "code",
   "execution_count": 7,
   "id": "c1724be7",
   "metadata": {
    "scrolled": true,
    "slideshow": {
     "slide_type": "fragment"
    }
   },
   "outputs": [
    {
     "data": {
      "image/png": "[encoded data removed]",
      "text/plain": [
       "<Figure size 432x288 with 1 Axes>"
      ]
     },
     "metadata": {
      "needs_background": "light"
     },
     "output_type": "display_data"
    }
   ],
   "source": [
    "grafico_puntos_random(tabla)"
   ]
  },
  {
   "cell_type": "markdown",
   "id": "117d3256",
   "metadata": {
    "slideshow": {
     "slide_type": "subslide"
    }
   },
   "source": [
    "## Gráficos 3d"
   ]
  },
  {
   "cell_type": "code",
   "execution_count": 27,
   "id": "5b2d0a82",
   "metadata": {
    "slideshow": {
     "slide_type": "skip"
    }
   },
   "outputs": [],
   "source": [
    "#codigo de https://docs.sympy.org/latest/modules/plotting.html\n",
    "%matplotlib notebook\n",
    "def grafico3d():\n",
    "    x, y = sp.symbols('x y')\n",
    "    sp.plotting.plot3d(x*y,(x,-5,5),(y,-5,5))"
   ]
  },
  {
   "cell_type": "code",
   "execution_count": 29,
   "id": "27442a73",
   "metadata": {
    "scrolled": false,
    "slideshow": {
     "slide_type": "fragment"
    }
   },
   "outputs": [
    {
     "data": {
      "application/javascript": [
       "/* Put everything inside the global mpl namespace */\n",
       "/* global mpl */\n",
       "window.mpl = {};\n",
       "\n",
       "mpl.get_websocket_type = function () {\n",
       "    if (typeof WebSocket !== 'undefined') {\n",
       "        return WebSocket;\n",
       "    } else if (typeof MozWebSocket !== 'undefined') {\n",
       "        return MozWebSocket;\n",
       "    } else {\n",
       "        alert(\n",
       "            'Your browser does not have WebSocket support. ' +\n",
       "                'Please try Chrome, Safari or Firefox ≥ 6. ' +\n",
       "                'Firefox 4 and 5 are also supported but you ' +\n",
       "                'have to enable WebSockets in about:config.'\n",
       "        );\n",
       "    }\n",
       "};\n",
       "\n",
       "mpl.figure = function (figure_id, websocket, ondownload, parent_element) {\n",
       "    this.id = figure_id;\n",
       "\n",
       "    this.ws = websocket;\n",
       "\n",
       "    this.supports_binary = this.ws.binaryType !== undefined;\n",
       "\n",
       "    if (!this.supports_binary) {\n",
       "        var warnings = document.getElementById('mpl-warnings');\n",
       "        if (warnings) {\n",
       "            warnings.style.display = 'block';\n",
       "            warnings.textContent =\n",
       "                'This browser does not support binary websocket messages. ' +\n",
       "                'Performance may be slow.';\n",
       "        }\n",
       "    }\n",
       "\n",
       "    this.imageObj = new Image();\n",
       "\n",
       "    this.context = undefined;\n",
       "    this.message = undefined;\n",
       "    this.canvas = undefined;\n",
       "    this.rubberband_canvas = undefined;\n",
       "    this.rubberband_context = undefined;\n",
       "    this.format_dropdown = undefined;\n",
       "\n",
       "    this.image_mode = 'full';\n",
       "\n",
       "    this.root = document.createElement('div');\n",
       "    this.root.setAttribute('style', 'display: inline-block');\n",
       "    this._root_extra_style(this.root);\n",
       "\n",
       "    parent_element.appendChild(this.root);\n",
       "\n",
       "    this._init_header(this);\n",
       "    this._init_canvas(this);\n",
       "    this._init_toolbar(this);\n",
       "\n",
       "    var fig = this;\n",
       "\n",
       "    this.waiting = false;\n",
       "\n",
       "    this.ws.onopen = function () {\n",
       "        fig.send_message('supports_binary', { value: fig.supports_binary });\n",
       "        fig.send_message('send_image_mode', {});\n",
       "        if (fig.ratio !== 1) {\n",
       "            fig.send_message('set_dpi_ratio', { dpi_ratio: fig.ratio });\n",
       "        }\n",
       "        fig.send_message('refresh', {});\n",
       "    };\n",
       "\n",
       "    this.imageObj.onload = function () {\n",
       "        if (fig.image_mode === 'full') {\n",
       "            // Full images could contain transparency (where diff images\n",
       "            // almost always do), so we need to clear the canvas so that\n",
       "            // there is no ghosting.\n",
       "            fig.context.clearRect(0, 0, fig.canvas.width, fig.canvas.height);\n",
       "        }\n",
       "        fig.context.drawImage(fig.imageObj, 0, 0);\n",
       "    };\n",
       "\n",
       "    this.imageObj.onunload = function () {\n",
       "        fig.ws.close();\n",
       "    };\n",
       "\n",
       "    this.ws.onmessage = this._make_on_message_function(this);\n",
       "\n",
       "    this.ondownload = ondownload;\n",
       "};\n",
       "\n",
       "mpl.figure.prototype._init_header = function () {\n",
       "    var titlebar = document.createElement('div');\n",
       "    titlebar.classList =\n",
       "        'ui-dialog-titlebar ui-widget-header ui-corner-all ui-helper-clearfix';\n",
       "    var titletext = document.createElement('div');\n",
       "    titletext.classList = 'ui-dialog-title';\n",
       "    titletext.setAttribute(\n",
       "        'style',\n",
       "        'width: 100%; text-align: center; padding: 3px;'\n",
       "    );\n",
       "    titlebar.appendChild(titletext);\n",
       "    this.root.appendChild(titlebar);\n",
       "    this.header = titletext;\n",
       "};\n",
       "\n",
       "mpl.figure.prototype._canvas_extra_style = function (_canvas_div) {};\n",
       "\n",
       "mpl.figure.prototype._root_extra_style = function (_canvas_div) {};\n",
       "\n",
       "mpl.figure.prototype._init_canvas = function () {\n",
       "    var fig = this;\n",
       "\n",
       "    var canvas_div = (this.canvas_div = document.createElement('div'));\n",
       "    canvas_div.setAttribute(\n",
       "        'style',\n",
       "        'border: 1px solid #ddd;' +\n",
       "            'box-sizing: content-box;' +\n",
       "            'clear: both;' +\n",
       "            'min-height: 1px;' +\n",
       "            'min-width: 1px;' +\n",
       "            'outline: 0;' +\n",
       "            'overflow: hidden;' +\n",
       "            'position: relative;' +\n",
       "            'resize: both;'\n",
       "    );\n",
       "\n",
       "    function on_keyboard_event_closure(name) {\n",
       "        return function (event) {\n",
       "            return fig.key_event(event, name);\n",
       "        };\n",
       "    }\n",
       "\n",
       "    canvas_div.addEventListener(\n",
       "        'keydown',\n",
       "        on_keyboard_event_closure('key_press')\n",
       "    );\n",
       "    canvas_div.addEventListener(\n",
       "        'keyup',\n",
       "        on_keyboard_event_closure('key_release')\n",
       "    );\n",
       "\n",
       "    this._canvas_extra_style(canvas_div);\n",
       "    this.root.appendChild(canvas_div);\n",
       "\n",
       "    var canvas = (this.canvas = document.createElement('canvas'));\n",
       "    canvas.classList.add('mpl-canvas');\n",
       "    canvas.setAttribute('style', 'box-sizing: content-box;');\n",
       "\n",
       "    this.context = canvas.getContext('2d');\n",
       "\n",
       "    var backingStore =\n",
       "        this.context.backingStorePixelRatio ||\n",
       "        this.context.webkitBackingStorePixelRatio ||\n",
       "        this.context.mozBackingStorePixelRatio ||\n",
       "        this.context.msBackingStorePixelRatio ||\n",
       "        this.context.oBackingStorePixelRatio ||\n",
       "        this.context.backingStorePixelRatio ||\n",
       "        1;\n",
       "\n",
       "    this.ratio = (window.devicePixelRatio || 1) / backingStore;\n",
       "\n",
       "    var rubberband_canvas = (this.rubberband_canvas = document.createElement(\n",
       "        'canvas'\n",
       "    ));\n",
       "    rubberband_canvas.setAttribute(\n",
       "        'style',\n",
       "        'box-sizing: content-box; position: absolute; left: 0; top: 0; z-index: 1;'\n",
       "    );\n",
       "\n",
       "    // Apply a ponyfill if ResizeObserver is not implemented by browser.\n",
       "    if (this.ResizeObserver === undefined) {\n",
       "        if (window.ResizeObserver !== undefined) {\n",
       "            this.ResizeObserver = window.ResizeObserver;\n",
       "        } else {\n",
       "            var obs = _JSXTOOLS_RESIZE_OBSERVER({});\n",
       "            this.ResizeObserver = obs.ResizeObserver;\n",
       "        }\n",
       "    }\n",
       "\n",
       "    this.resizeObserverInstance = new this.ResizeObserver(function (entries) {\n",
       "        var nentries = entries.length;\n",
       "        for (var i = 0; i < nentries; i++) {\n",
       "            var entry = entries[i];\n",
       "            var width, height;\n",
       "            if (entry.contentBoxSize) {\n",
       "                if (entry.contentBoxSize instanceof Array) {\n",
       "                    // Chrome 84 implements new version of spec.\n",
       "                    width = entry.contentBoxSize[0].inlineSize;\n",
       "                    height = entry.contentBoxSize[0].blockSize;\n",
       "                } else {\n",
       "                    // Firefox implements old version of spec.\n",
       "                    width = entry.contentBoxSize.inlineSize;\n",
       "                    height = entry.contentBoxSize.blockSize;\n",
       "                }\n",
       "            } else {\n",
       "                // Chrome <84 implements even older version of spec.\n",
       "                width = entry.contentRect.width;\n",
       "                height = entry.contentRect.height;\n",
       "            }\n",
       "\n",
       "            // Keep the size of the canvas and rubber band canvas in sync with\n",
       "            // the canvas container.\n",
       "            if (entry.devicePixelContentBoxSize) {\n",
       "                // Chrome 84 implements new version of spec.\n",
       "                canvas.setAttribute(\n",
       "                    'width',\n",
       "                    entry.devicePixelContentBoxSize[0].inlineSize\n",
       "                );\n",
       "                canvas.setAttribute(\n",
       "                    'height',\n",
       "                    entry.devicePixelContentBoxSize[0].blockSize\n",
       "                );\n",
       "            } else {\n",
       "                canvas.setAttribute('width', width * fig.ratio);\n",
       "                canvas.setAttribute('height', height * fig.ratio);\n",
       "            }\n",
       "            canvas.setAttribute(\n",
       "                'style',\n",
       "                'width: ' + width + 'px; height: ' + height + 'px;'\n",
       "            );\n",
       "\n",
       "            rubberband_canvas.setAttribute('width', width);\n",
       "            rubberband_canvas.setAttribute('height', height);\n",
       "\n",
       "            // And update the size in Python. We ignore the initial 0/0 size\n",
       "            // that occurs as the element is placed into the DOM, which should\n",
       "            // otherwise not happen due to the minimum size styling.\n",
       "            if (fig.ws.readyState == 1 && width != 0 && height != 0) {\n",
       "                fig.request_resize(width, height);\n",
       "            }\n",
       "        }\n",
       "    });\n",
       "    this.resizeObserverInstance.observe(canvas_div);\n",
       "\n",
       "    function on_mouse_event_closure(name) {\n",
       "        return function (event) {\n",
       "            return fig.mouse_event(event, name);\n",
       "        };\n",
       "    }\n",
       "\n",
       "    rubberband_canvas.addEventListener(\n",
       "        'mousedown',\n",
       "        on_mouse_event_closure('button_press')\n",
       "    );\n",
       "    rubberband_canvas.addEventListener(\n",
       "        'mouseup',\n",
       "        on_mouse_event_closure('button_release')\n",
       "    );\n",
       "    // Throttle sequential mouse events to 1 every 20ms.\n",
       "    rubberband_canvas.addEventListener(\n",
       "        'mousemove',\n",
       "        on_mouse_event_closure('motion_notify')\n",
       "    );\n",
       "\n",
       "    rubberband_canvas.addEventListener(\n",
       "        'mouseenter',\n",
       "        on_mouse_event_closure('figure_enter')\n",
       "    );\n",
       "    rubberband_canvas.addEventListener(\n",
       "        'mouseleave',\n",
       "        on_mouse_event_closure('figure_leave')\n",
       "    );\n",
       "\n",
       "    canvas_div.addEventListener('wheel', function (event) {\n",
       "        if (event.deltaY < 0) {\n",
       "            event.step = 1;\n",
       "        } else {\n",
       "            event.step = -1;\n",
       "        }\n",
       "        on_mouse_event_closure('scroll')(event);\n",
       "    });\n",
       "\n",
       "    canvas_div.appendChild(canvas);\n",
       "    canvas_div.appendChild(rubberband_canvas);\n",
       "\n",
       "    this.rubberband_context = rubberband_canvas.getContext('2d');\n",
       "    this.rubberband_context.strokeStyle = '#000000';\n",
       "\n",
       "    this._resize_canvas = function (width, height, forward) {\n",
       "        if (forward) {\n",
       "            canvas_div.style.width = width + 'px';\n",
       "            canvas_div.style.height = height + 'px';\n",
       "        }\n",
       "    };\n",
       "\n",
       "    // Disable right mouse context menu.\n",
       "    this.rubberband_canvas.addEventListener('contextmenu', function (_e) {\n",
       "        event.preventDefault();\n",
       "        return false;\n",
       "    });\n",
       "\n",
       "    function set_focus() {\n",
       "        canvas.focus();\n",
       "        canvas_div.focus();\n",
       "    }\n",
       "\n",
       "    window.setTimeout(set_focus, 100);\n",
       "};\n",
       "\n",
       "mpl.figure.prototype._init_toolbar = function () {\n",
       "    var fig = this;\n",
       "\n",
       "    var toolbar = document.createElement('div');\n",
       "    toolbar.classList = 'mpl-toolbar';\n",
       "    this.root.appendChild(toolbar);\n",
       "\n",
       "    function on_click_closure(name) {\n",
       "        return function (_event) {\n",
       "            return fig.toolbar_button_onclick(name);\n",
       "        };\n",
       "    }\n",
       "\n",
       "    function on_mouseover_closure(tooltip) {\n",
       "        return function (event) {\n",
       "            if (!event.currentTarget.disabled) {\n",
       "                return fig.toolbar_button_onmouseover(tooltip);\n",
       "            }\n",
       "        };\n",
       "    }\n",
       "\n",
       "    fig.buttons = {};\n",
       "    var buttonGroup = document.createElement('div');\n",
       "    buttonGroup.classList = 'mpl-button-group';\n",
       "    for (var toolbar_ind in mpl.toolbar_items) {\n",
       "        var name = mpl.toolbar_items[toolbar_ind][0];\n",
       "        var tooltip = mpl.toolbar_items[toolbar_ind][1];\n",
       "        var image = mpl.toolbar_items[toolbar_ind][2];\n",
       "        var method_name = mpl.toolbar_items[toolbar_ind][3];\n",
       "\n",
       "        if (!name) {\n",
       "            /* Instead of a spacer, we start a new button group. */\n",
       "            if (buttonGroup.hasChildNodes()) {\n",
       "                toolbar.appendChild(buttonGroup);\n",
       "            }\n",
       "            buttonGroup = document.createElement('div');\n",
       "            buttonGroup.classList = 'mpl-button-group';\n",
       "            continue;\n",
       "        }\n",
       "\n",
       "        var button = (fig.buttons[name] = document.createElement('button'));\n",
       "        button.classList = 'mpl-widget';\n",
       "        button.setAttribute('role', 'button');\n",
       "        button.setAttribute('aria-disabled', 'false');\n",
       "        button.addEventListener('click', on_click_closure(method_name));\n",
       "        button.addEventListener('mouseover', on_mouseover_closure(tooltip));\n",
       "\n",
       "        var icon_img = document.createElement('img');\n",
       "        icon_img.src = '_images/' + image + '.png';\n",
       "        icon_img.srcset = '_images/' + image + '_large.png 2x';\n",
       "        icon_img.alt = tooltip;\n",
       "        button.appendChild(icon_img);\n",
       "\n",
       "        buttonGroup.appendChild(button);\n",
       "    }\n",
       "\n",
       "    if (buttonGroup.hasChildNodes()) {\n",
       "        toolbar.appendChild(buttonGroup);\n",
       "    }\n",
       "\n",
       "    var fmt_picker = document.createElement('select');\n",
       "    fmt_picker.classList = 'mpl-widget';\n",
       "    toolbar.appendChild(fmt_picker);\n",
       "    this.format_dropdown = fmt_picker;\n",
       "\n",
       "    for (var ind in mpl.extensions) {\n",
       "        var fmt = mpl.extensions[ind];\n",
       "        var option = document.createElement('option');\n",
       "        option.selected = fmt === mpl.default_extension;\n",
       "        option.innerHTML = fmt;\n",
       "        fmt_picker.appendChild(option);\n",
       "    }\n",
       "\n",
       "    var status_bar = document.createElement('span');\n",
       "    status_bar.classList = 'mpl-message';\n",
       "    toolbar.appendChild(status_bar);\n",
       "    this.message = status_bar;\n",
       "};\n",
       "\n",
       "mpl.figure.prototype.request_resize = function (x_pixels, y_pixels) {\n",
       "    // Request matplotlib to resize the figure. Matplotlib will then trigger a resize in the client,\n",
       "    // which will in turn request a refresh of the image.\n",
       "    this.send_message('resize', { width: x_pixels, height: y_pixels });\n",
       "};\n",
       "\n",
       "mpl.figure.prototype.send_message = function (type, properties) {\n",
       "    properties['type'] = type;\n",
       "    properties['figure_id'] = this.id;\n",
       "    this.ws.send(JSON.stringify(properties));\n",
       "};\n",
       "\n",
       "mpl.figure.prototype.send_draw_message = function () {\n",
       "    if (!this.waiting) {\n",
       "        this.waiting = true;\n",
       "        this.ws.send(JSON.stringify({ type: 'draw', figure_id: this.id }));\n",
       "    }\n",
       "};\n",
       "\n",
       "mpl.figure.prototype.handle_save = function (fig, _msg) {\n",
       "    var format_dropdown = fig.format_dropdown;\n",
       "    var format = format_dropdown.options[format_dropdown.selectedIndex].value;\n",
       "    fig.ondownload(fig, format);\n",
       "};\n",
       "\n",
       "mpl.figure.prototype.handle_resize = function (fig, msg) {\n",
       "    var size = msg['size'];\n",
       "    if (size[0] !== fig.canvas.width || size[1] !== fig.canvas.height) {\n",
       "        fig._resize_canvas(size[0], size[1], msg['forward']);\n",
       "        fig.send_message('refresh', {});\n",
       "    }\n",
       "};\n",
       "\n",
       "mpl.figure.prototype.handle_rubberband = function (fig, msg) {\n",
       "    var x0 = msg['x0'] / fig.ratio;\n",
       "    var y0 = (fig.canvas.height - msg['y0']) / fig.ratio;\n",
       "    var x1 = msg['x1'] / fig.ratio;\n",
       "    var y1 = (fig.canvas.height - msg['y1']) / fig.ratio;\n",
       "    x0 = Math.floor(x0) + 0.5;\n",
       "    y0 = Math.floor(y0) + 0.5;\n",
       "    x1 = Math.floor(x1) + 0.5;\n",
       "    y1 = Math.floor(y1) + 0.5;\n",
       "    var min_x = Math.min(x0, x1);\n",
       "    var min_y = Math.min(y0, y1);\n",
       "    var width = Math.abs(x1 - x0);\n",
       "    var height = Math.abs(y1 - y0);\n",
       "\n",
       "    fig.rubberband_context.clearRect(\n",
       "        0,\n",
       "        0,\n",
       "        fig.canvas.width / fig.ratio,\n",
       "        fig.canvas.height / fig.ratio\n",
       "    );\n",
       "\n",
       "    fig.rubberband_context.strokeRect(min_x, min_y, width, height);\n",
       "};\n",
       "\n",
       "mpl.figure.prototype.handle_figure_label = function (fig, msg) {\n",
       "    // Updates the figure title.\n",
       "    fig.header.textContent = msg['label'];\n",
       "};\n",
       "\n",
       "mpl.figure.prototype.handle_cursor = function (fig, msg) {\n",
       "    var cursor = msg['cursor'];\n",
       "    switch (cursor) {\n",
       "        case 0:\n",
       "            cursor = 'pointer';\n",
       "            break;\n",
       "        case 1:\n",
       "            cursor = 'default';\n",
       "            break;\n",
       "        case 2:\n",
       "            cursor = 'crosshair';\n",
       "            break;\n",
       "        case 3:\n",
       "            cursor = 'move';\n",
       "            break;\n",
       "    }\n",
       "    fig.rubberband_canvas.style.cursor = cursor;\n",
       "};\n",
       "\n",
       "mpl.figure.prototype.handle_message = function (fig, msg) {\n",
       "    fig.message.textContent = msg['message'];\n",
       "};\n",
       "\n",
       "mpl.figure.prototype.handle_draw = function (fig, _msg) {\n",
       "    // Request the server to send over a new figure.\n",
       "    fig.send_draw_message();\n",
       "};\n",
       "\n",
       "mpl.figure.prototype.handle_image_mode = function (fig, msg) {\n",
       "    fig.image_mode = msg['mode'];\n",
       "};\n",
       "\n",
       "mpl.figure.prototype.handle_history_buttons = function (fig, msg) {\n",
       "    for (var key in msg) {\n",
       "        if (!(key in fig.buttons)) {\n",
       "            continue;\n",
       "        }\n",
       "        fig.buttons[key].disabled = !msg[key];\n",
       "        fig.buttons[key].setAttribute('aria-disabled', !msg[key]);\n",
       "    }\n",
       "};\n",
       "\n",
       "mpl.figure.prototype.handle_navigate_mode = function (fig, msg) {\n",
       "    if (msg['mode'] === 'PAN') {\n",
       "        fig.buttons['Pan'].classList.add('active');\n",
       "        fig.buttons['Zoom'].classList.remove('active');\n",
       "    } else if (msg['mode'] === 'ZOOM') {\n",
       "        fig.buttons['Pan'].classList.remove('active');\n",
       "        fig.buttons['Zoom'].classList.add('active');\n",
       "    } else {\n",
       "        fig.buttons['Pan'].classList.remove('active');\n",
       "        fig.buttons['Zoom'].classList.remove('active');\n",
       "    }\n",
       "};\n",
       "\n",
       "mpl.figure.prototype.updated_canvas_event = function () {\n",
       "    // Called whenever the canvas gets updated.\n",
       "    this.send_message('ack', {});\n",
       "};\n",
       "\n",
       "// A function to construct a web socket function for onmessage handling.\n",
       "// Called in the figure constructor.\n",
       "mpl.figure.prototype._make_on_message_function = function (fig) {\n",
       "    return function socket_on_message(evt) {\n",
       "        if (evt.data instanceof Blob) {\n",
       "            /* FIXME: We get \"Resource interpreted as Image but\n",
       "             * transferred with MIME type text/plain:\" errors on\n",
       "             * Chrome.  But how to set the MIME type?  It doesn't seem\n",
       "             * to be part of the websocket stream */\n",
       "            evt.data.type = 'image/png';\n",
       "\n",
       "            /* Free the memory for the previous frames */\n",
       "            if (fig.imageObj.src) {\n",
       "                (window.URL || window.webkitURL).revokeObjectURL(\n",
       "                    fig.imageObj.src\n",
       "                );\n",
       "            }\n",
       "\n",
       "            fig.imageObj.src = (window.URL || window.webkitURL).createObjectURL(\n",
       "                evt.data\n",
       "            );\n",
       "            fig.updated_canvas_event();\n",
       "            fig.waiting = false;\n",
       "            return;\n",
       "        } else if (\n",
       "            typeof evt.data === 'string' &&\n",
       "            evt.data.slice(0, 21) === 'data:image/png;base64'\n",
       "        ) {\n",
       "            fig.imageObj.src = evt.data;\n",
       "            fig.updated_canvas_event();\n",
       "            fig.waiting = false;\n",
       "            return;\n",
       "        }\n",
       "\n",
       "        var msg = JSON.parse(evt.data);\n",
       "        var msg_type = msg['type'];\n",
       "\n",
       "        // Call the  \"handle_{type}\" callback, which takes\n",
       "        // the figure and JSON message as its only arguments.\n",
       "        try {\n",
       "            var callback = fig['handle_' + msg_type];\n",
       "        } catch (e) {\n",
       "            console.log(\n",
       "                \"No handler for the '\" + msg_type + \"' message type: \",\n",
       "                msg\n",
       "            );\n",
       "            return;\n",
       "        }\n",
       "\n",
       "        if (callback) {\n",
       "            try {\n",
       "                // console.log(\"Handling '\" + msg_type + \"' message: \", msg);\n",
       "                callback(fig, msg);\n",
       "            } catch (e) {\n",
       "                console.log(\n",
       "                    \"Exception inside the 'handler_\" + msg_type + \"' callback:\",\n",
       "                    e,\n",
       "                    e.stack,\n",
       "                    msg\n",
       "                );\n",
       "            }\n",
       "        }\n",
       "    };\n",
       "};\n",
       "\n",
       "// from http://stackoverflow.com/questions/1114465/getting-mouse-location-in-canvas\n",
       "mpl.findpos = function (e) {\n",
       "    //this section is from http://www.quirksmode.org/js/events_properties.html\n",
       "    var targ;\n",
       "    if (!e) {\n",
       "        e = window.event;\n",
       "    }\n",
       "    if (e.target) {\n",
       "        targ = e.target;\n",
       "    } else if (e.srcElement) {\n",
       "        targ = e.srcElement;\n",
       "    }\n",
       "    if (targ.nodeType === 3) {\n",
       "        // defeat Safari bug\n",
       "        targ = targ.parentNode;\n",
       "    }\n",
       "\n",
       "    // pageX,Y are the mouse positions relative to the document\n",
       "    var boundingRect = targ.getBoundingClientRect();\n",
       "    var x = e.pageX - (boundingRect.left + document.body.scrollLeft);\n",
       "    var y = e.pageY - (boundingRect.top + document.body.scrollTop);\n",
       "\n",
       "    return { x: x, y: y };\n",
       "};\n",
       "\n",
       "/*\n",
       " * return a copy of an object with only non-object keys\n",
       " * we need this to avoid circular references\n",
       " * http://stackoverflow.com/a/24161582/3208463\n",
       " */\n",
       "function simpleKeys(original) {\n",
       "    return Object.keys(original).reduce(function (obj, key) {\n",
       "        if (typeof original[key] !== 'object') {\n",
       "            obj[key] = original[key];\n",
       "        }\n",
       "        return obj;\n",
       "    }, {});\n",
       "}\n",
       "\n",
       "mpl.figure.prototype.mouse_event = function (event, name) {\n",
       "    var canvas_pos = mpl.findpos(event);\n",
       "\n",
       "    if (name === 'button_press') {\n",
       "        this.canvas.focus();\n",
       "        this.canvas_div.focus();\n",
       "    }\n",
       "\n",
       "    var x = canvas_pos.x * this.ratio;\n",
       "    var y = canvas_pos.y * this.ratio;\n",
       "\n",
       "    this.send_message(name, {\n",
       "        x: x,\n",
       "        y: y,\n",
       "        button: event.button,\n",
       "        step: event.step,\n",
       "        guiEvent: simpleKeys(event),\n",
       "    });\n",
       "\n",
       "    /* This prevents the web browser from automatically changing to\n",
       "     * the text insertion cursor when the button is pressed.  We want\n",
       "     * to control all of the cursor setting manually through the\n",
       "     * 'cursor' event from matplotlib */\n",
       "    event.preventDefault();\n",
       "    return false;\n",
       "};\n",
       "\n",
       "mpl.figure.prototype._key_event_extra = function (_event, _name) {\n",
       "    // Handle any extra behaviour associated with a key event\n",
       "};\n",
       "\n",
       "mpl.figure.prototype.key_event = function (event, name) {\n",
       "    // Prevent repeat events\n",
       "    if (name === 'key_press') {\n",
       "        if (event.which === this._key) {\n",
       "            return;\n",
       "        } else {\n",
       "            this._key = event.which;\n",
       "        }\n",
       "    }\n",
       "    if (name === 'key_release') {\n",
       "        this._key = null;\n",
       "    }\n",
       "\n",
       "    var value = '';\n",
       "    if (event.ctrlKey && event.which !== 17) {\n",
       "        value += 'ctrl+';\n",
       "    }\n",
       "    if (event.altKey && event.which !== 18) {\n",
       "        value += 'alt+';\n",
       "    }\n",
       "    if (event.shiftKey && event.which !== 16) {\n",
       "        value += 'shift+';\n",
       "    }\n",
       "\n",
       "    value += 'k';\n",
       "    value += event.which.toString();\n",
       "\n",
       "    this._key_event_extra(event, name);\n",
       "\n",
       "    this.send_message(name, { key: value, guiEvent: simpleKeys(event) });\n",
       "    return false;\n",
       "};\n",
       "\n",
       "mpl.figure.prototype.toolbar_button_onclick = function (name) {\n",
       "    if (name === 'download') {\n",
       "        this.handle_save(this, null);\n",
       "    } else {\n",
       "        this.send_message('toolbar_button', { name: name });\n",
       "    }\n",
       "};\n",
       "\n",
       "mpl.figure.prototype.toolbar_button_onmouseover = function (tooltip) {\n",
       "    this.message.textContent = tooltip;\n",
       "};\n",
       "\n",
       "///////////////// REMAINING CONTENT GENERATED BY embed_js.py /////////////////\n",
       "// prettier-ignore\n",
       "var _JSXTOOLS_RESIZE_OBSERVER=function(A){var t,i=new WeakMap,n=new WeakMap,a=new WeakMap,r=new WeakMap,o=new Set;function s(e){if(!(this instanceof s))throw new TypeError(\"Constructor requires 'new' operator\");i.set(this,e)}function h(){throw new TypeError(\"Function is not a constructor\")}function c(e,t,i,n){e=0 in arguments?Number(arguments[0]):0,t=1 in arguments?Number(arguments[1]):0,i=2 in arguments?Number(arguments[2]):0,n=3 in arguments?Number(arguments[3]):0,this.right=(this.x=this.left=e)+(this.width=i),this.bottom=(this.y=this.top=t)+(this.height=n),Object.freeze(this)}function d(){t=requestAnimationFrame(d);var s=new WeakMap,p=new Set;o.forEach((function(t){r.get(t).forEach((function(i){var r=t instanceof window.SVGElement,o=a.get(t),d=r?0:parseFloat(o.paddingTop),f=r?0:parseFloat(o.paddingRight),l=r?0:parseFloat(o.paddingBottom),u=r?0:parseFloat(o.paddingLeft),g=r?0:parseFloat(o.borderTopWidth),m=r?0:parseFloat(o.borderRightWidth),w=r?0:parseFloat(o.borderBottomWidth),b=u+f,F=d+l,v=(r?0:parseFloat(o.borderLeftWidth))+m,W=g+w,y=r?0:t.offsetHeight-W-t.clientHeight,E=r?0:t.offsetWidth-v-t.clientWidth,R=b+v,z=F+W,M=r?t.width:parseFloat(o.width)-R-E,O=r?t.height:parseFloat(o.height)-z-y;if(n.has(t)){var k=n.get(t);if(k[0]===M&&k[1]===O)return}n.set(t,[M,O]);var S=Object.create(h.prototype);S.target=t,S.contentRect=new c(u,d,M,O),s.has(i)||(s.set(i,[]),p.add(i)),s.get(i).push(S)}))})),p.forEach((function(e){i.get(e).call(e,s.get(e),e)}))}return s.prototype.observe=function(i){if(i instanceof window.Element){r.has(i)||(r.set(i,new Set),o.add(i),a.set(i,window.getComputedStyle(i)));var n=r.get(i);n.has(this)||n.add(this),cancelAnimationFrame(t),t=requestAnimationFrame(d)}},s.prototype.unobserve=function(i){if(i instanceof window.Element&&r.has(i)){var n=r.get(i);n.has(this)&&(n.delete(this),n.size||(r.delete(i),o.delete(i))),n.size||r.delete(i),o.size||cancelAnimationFrame(t)}},A.DOMRectReadOnly=c,A.ResizeObserver=s,A.ResizeObserverEntry=h,A}; // eslint-disable-line\n",
       "mpl.toolbar_items = [[\"Home\", \"Reset original view\", \"fa fa-home icon-home\", \"home\"], [\"Back\", \"Back to previous view\", \"fa fa-arrow-left icon-arrow-left\", \"back\"], [\"Forward\", \"Forward to next view\", \"fa fa-arrow-right icon-arrow-right\", \"forward\"], [\"\", \"\", \"\", \"\"], [\"Pan\", \"Left button pans, Right button zooms\\nx/y fixes axis, CTRL fixes aspect\", \"fa fa-arrows icon-move\", \"pan\"], [\"Zoom\", \"Zoom to rectangle\\nx/y fixes axis, CTRL fixes aspect\", \"fa fa-square-o icon-check-empty\", \"zoom\"], [\"\", \"\", \"\", \"\"], [\"Download\", \"Download plot\", \"fa fa-floppy-o icon-save\", \"download\"]];\n",
       "\n",
       "mpl.extensions = [\"eps\", \"jpeg\", \"pdf\", \"png\", \"ps\", \"raw\", \"svg\", \"tif\"];\n",
       "\n",
       "mpl.default_extension = \"png\";/* global mpl */\n",
       "\n",
       "var comm_websocket_adapter = function (comm) {\n",
       "    // Create a \"websocket\"-like object which calls the given IPython comm\n",
       "    // object with the appropriate methods. Currently this is a non binary\n",
       "    // socket, so there is still some room for performance tuning.\n",
       "    var ws = {};\n",
       "\n",
       "    ws.close = function () {\n",
       "        comm.close();\n",
       "    };\n",
       "    ws.send = function (m) {\n",
       "        //console.log('sending', m);\n",
       "        comm.send(m);\n",
       "    };\n",
       "    // Register the callback with on_msg.\n",
       "    comm.on_msg(function (msg) {\n",
       "        //console.log('receiving', msg['content']['data'], msg);\n",
       "        // Pass the mpl event to the overridden (by mpl) onmessage function.\n",
       "        ws.onmessage(msg['content']['data']);\n",
       "    });\n",
       "    return ws;\n",
       "};\n",
       "\n",
       "mpl.mpl_figure_comm = function (comm, msg) {\n",
       "    // This is the function which gets called when the mpl process\n",
       "    // starts-up an IPython Comm through the \"matplotlib\" channel.\n",
       "\n",
       "    var id = msg.content.data.id;\n",
       "    // Get hold of the div created by the display call when the Comm\n",
       "    // socket was opened in Python.\n",
       "    var element = document.getElementById(id);\n",
       "    var ws_proxy = comm_websocket_adapter(comm);\n",
       "\n",
       "    function ondownload(figure, _format) {\n",
       "        window.open(figure.canvas.toDataURL());\n",
       "    }\n",
       "\n",
       "    var fig = new mpl.figure(id, ws_proxy, ondownload, element);\n",
       "\n",
       "    // Call onopen now - mpl needs it, as it is assuming we've passed it a real\n",
       "    // web socket which is closed, not our websocket->open comm proxy.\n",
       "    ws_proxy.onopen();\n",
       "\n",
       "    fig.parent_element = element;\n",
       "    fig.cell_info = mpl.find_output_cell(\"<div id='\" + id + \"'></div>\");\n",
       "    if (!fig.cell_info) {\n",
       "        console.error('Failed to find cell for figure', id, fig);\n",
       "        return;\n",
       "    }\n",
       "    fig.cell_info[0].output_area.element.on(\n",
       "        'cleared',\n",
       "        { fig: fig },\n",
       "        fig._remove_fig_handler\n",
       "    );\n",
       "};\n",
       "\n",
       "mpl.figure.prototype.handle_close = function (fig, msg) {\n",
       "    var width = fig.canvas.width / fig.ratio;\n",
       "    fig.cell_info[0].output_area.element.off(\n",
       "        'cleared',\n",
       "        fig._remove_fig_handler\n",
       "    );\n",
       "    fig.resizeObserverInstance.unobserve(fig.canvas_div);\n",
       "\n",
       "    // Update the output cell to use the data from the current canvas.\n",
       "    fig.push_to_output();\n",
       "    var dataURL = fig.canvas.toDataURL();\n",
       "    // Re-enable the keyboard manager in IPython - without this line, in FF,\n",
       "    // the notebook keyboard shortcuts fail.\n",
       "    IPython.keyboard_manager.enable();\n",
       "    fig.parent_element.innerHTML =\n",
       "        '<img src=\"' + dataURL + '\" width=\"' + width + '\">';\n",
       "    fig.close_ws(fig, msg);\n",
       "};\n",
       "\n",
       "mpl.figure.prototype.close_ws = function (fig, msg) {\n",
       "    fig.send_message('closing', msg);\n",
       "    // fig.ws.close()\n",
       "};\n",
       "\n",
       "mpl.figure.prototype.push_to_output = function (_remove_interactive) {\n",
       "    // Turn the data on the canvas into data in the output cell.\n",
       "    var width = this.canvas.width / this.ratio;\n",
       "    var dataURL = this.canvas.toDataURL();\n",
       "    this.cell_info[1]['text/html'] =\n",
       "        '<img src=\"' + dataURL + '\" width=\"' + width + '\">';\n",
       "};\n",
       "\n",
       "mpl.figure.prototype.updated_canvas_event = function () {\n",
       "    // Tell IPython that the notebook contents must change.\n",
       "    IPython.notebook.set_dirty(true);\n",
       "    this.send_message('ack', {});\n",
       "    var fig = this;\n",
       "    // Wait a second, then push the new image to the DOM so\n",
       "    // that it is saved nicely (might be nice to debounce this).\n",
       "    setTimeout(function () {\n",
       "        fig.push_to_output();\n",
       "    }, 1000);\n",
       "};\n",
       "\n",
       "mpl.figure.prototype._init_toolbar = function () {\n",
       "    var fig = this;\n",
       "\n",
       "    var toolbar = document.createElement('div');\n",
       "    toolbar.classList = 'btn-toolbar';\n",
       "    this.root.appendChild(toolbar);\n",
       "\n",
       "    function on_click_closure(name) {\n",
       "        return function (_event) {\n",
       "            return fig.toolbar_button_onclick(name);\n",
       "        };\n",
       "    }\n",
       "\n",
       "    function on_mouseover_closure(tooltip) {\n",
       "        return function (event) {\n",
       "            if (!event.currentTarget.disabled) {\n",
       "                return fig.toolbar_button_onmouseover(tooltip);\n",
       "            }\n",
       "        };\n",
       "    }\n",
       "\n",
       "    fig.buttons = {};\n",
       "    var buttonGroup = document.createElement('div');\n",
       "    buttonGroup.classList = 'btn-group';\n",
       "    var button;\n",
       "    for (var toolbar_ind in mpl.toolbar_items) {\n",
       "        var name = mpl.toolbar_items[toolbar_ind][0];\n",
       "        var tooltip = mpl.toolbar_items[toolbar_ind][1];\n",
       "        var image = mpl.toolbar_items[toolbar_ind][2];\n",
       "        var method_name = mpl.toolbar_items[toolbar_ind][3];\n",
       "\n",
       "        if (!name) {\n",
       "            /* Instead of a spacer, we start a new button group. */\n",
       "            if (buttonGroup.hasChildNodes()) {\n",
       "                toolbar.appendChild(buttonGroup);\n",
       "            }\n",
       "            buttonGroup = document.createElement('div');\n",
       "            buttonGroup.classList = 'btn-group';\n",
       "            continue;\n",
       "        }\n",
       "\n",
       "        button = fig.buttons[name] = document.createElement('button');\n",
       "        button.classList = 'btn btn-default';\n",
       "        button.href = '#';\n",
       "        button.title = name;\n",
       "        button.innerHTML = '<i class=\"fa ' + image + ' fa-lg\"></i>';\n",
       "        button.addEventListener('click', on_click_closure(method_name));\n",
       "        button.addEventListener('mouseover', on_mouseover_closure(tooltip));\n",
       "        buttonGroup.appendChild(button);\n",
       "    }\n",
       "\n",
       "    if (buttonGroup.hasChildNodes()) {\n",
       "        toolbar.appendChild(buttonGroup);\n",
       "    }\n",
       "\n",
       "    // Add the status bar.\n",
       "    var status_bar = document.createElement('span');\n",
       "    status_bar.classList = 'mpl-message pull-right';\n",
       "    toolbar.appendChild(status_bar);\n",
       "    this.message = status_bar;\n",
       "\n",
       "    // Add the close button to the window.\n",
       "    var buttongrp = document.createElement('div');\n",
       "    buttongrp.classList = 'btn-group inline pull-right';\n",
       "    button = document.createElement('button');\n",
       "    button.classList = 'btn btn-mini btn-primary';\n",
       "    button.href = '#';\n",
       "    button.title = 'Stop Interaction';\n",
       "    button.innerHTML = '<i class=\"fa fa-power-off icon-remove icon-large\"></i>';\n",
       "    button.addEventListener('click', function (_evt) {\n",
       "        fig.handle_close(fig, {});\n",
       "    });\n",
       "    button.addEventListener(\n",
       "        'mouseover',\n",
       "        on_mouseover_closure('Stop Interaction')\n",
       "    );\n",
       "    buttongrp.appendChild(button);\n",
       "    var titlebar = this.root.querySelector('.ui-dialog-titlebar');\n",
       "    titlebar.insertBefore(buttongrp, titlebar.firstChild);\n",
       "};\n",
       "\n",
       "mpl.figure.prototype._remove_fig_handler = function (event) {\n",
       "    var fig = event.data.fig;\n",
       "    if (event.target !== this) {\n",
       "        // Ignore bubbled events from children.\n",
       "        return;\n",
       "    }\n",
       "    fig.close_ws(fig, {});\n",
       "};\n",
       "\n",
       "mpl.figure.prototype._root_extra_style = function (el) {\n",
       "    el.style.boxSizing = 'content-box'; // override notebook setting of border-box.\n",
       "};\n",
       "\n",
       "mpl.figure.prototype._canvas_extra_style = function (el) {\n",
       "    // this is important to make the div 'focusable\n",
       "    el.setAttribute('tabindex', 0);\n",
       "    // reach out to IPython and tell the keyboard manager to turn it's self\n",
       "    // off when our div gets focus\n",
       "\n",
       "    // location in version 3\n",
       "    if (IPython.notebook.keyboard_manager) {\n",
       "        IPython.notebook.keyboard_manager.register_events(el);\n",
       "    } else {\n",
       "        // location in version 2\n",
       "        IPython.keyboard_manager.register_events(el);\n",
       "    }\n",
       "};\n",
       "\n",
       "mpl.figure.prototype._key_event_extra = function (event, _name) {\n",
       "    var manager = IPython.notebook.keyboard_manager;\n",
       "    if (!manager) {\n",
       "        manager = IPython.keyboard_manager;\n",
       "    }\n",
       "\n",
       "    // Check for shift+enter\n",
       "    if (event.shiftKey && event.which === 13) {\n",
       "        this.canvas_div.blur();\n",
       "        // select the cell after this one\n",
       "        var index = IPython.notebook.find_cell_index(this.cell_info[0]);\n",
       "        IPython.notebook.select(index + 1);\n",
       "    }\n",
       "};\n",
       "\n",
       "mpl.figure.prototype.handle_save = function (fig, _msg) {\n",
       "    fig.ondownload(fig, null);\n",
       "};\n",
       "\n",
       "mpl.find_output_cell = function (html_output) {\n",
       "    // Return the cell and output element which can be found *uniquely* in the notebook.\n",
       "    // Note - this is a bit hacky, but it is done because the \"notebook_saving.Notebook\"\n",
       "    // IPython event is triggered only after the cells have been serialised, which for\n",
       "    // our purposes (turning an active figure into a static one), is too late.\n",
       "    var cells = IPython.notebook.get_cells();\n",
       "    var ncells = cells.length;\n",
       "    for (var i = 0; i < ncells; i++) {\n",
       "        var cell = cells[i];\n",
       "        if (cell.cell_type === 'code') {\n",
       "            for (var j = 0; j < cell.output_area.outputs.length; j++) {\n",
       "                var data = cell.output_area.outputs[j];\n",
       "                if (data.data) {\n",
       "                    // IPython >= 3 moved mimebundle to data attribute of output\n",
       "                    data = data.data;\n",
       "                }\n",
       "                if (data['text/html'] === html_output) {\n",
       "                    return [cell, data, j];\n",
       "                }\n",
       "            }\n",
       "        }\n",
       "    }\n",
       "};\n",
       "\n",
       "// Register the function which deals with the matplotlib target/channel.\n",
       "// The kernel may be null if the page has been refreshed.\n",
       "if (IPython.notebook.kernel !== null) {\n",
       "    IPython.notebook.kernel.comm_manager.register_target(\n",
       "        'matplotlib',\n",
       "        mpl.mpl_figure_comm\n",
       "    );\n",
       "}\n"
      ],
      "text/plain": [
       "<IPython.core.display.Javascript object>"
      ]
     },
     "metadata": {},
     "output_type": "display_data"
    },
    {
     "data": {
      "text/html": [
       "<img src=\"data:image/png;base64,iVBORw0KGgoAAAANSUhEUgAAAoAAAAHgCAYAAAA10dzkAAAgAElEQVR4nOydeXRb5Zn/c+bMdubQw5k/elq6DJ3fTJfpdGiHlpZtWMqWEghLQoAkQMhCErIQyEIgCSFhaULY11BK2QptgYJsLbZkLZZkWYu1Wvu+W7Zla/MiB+J8f3+kukiO7WiXFT+fc75/RL669+ra8f34fe/7PAtAEARBEARBzCsWNPoECIIgCIIgiPpCAkgQBEEQBDHPIAEkCIIgCIKYZ5AAEgRBEARBzDNIAAmCIAiCIOYZJIAEQRAEQRDzDBJAgiAIgiCIeQYJIEEQBEEQxDyDBJAgCIIgCGKeQQJIEARBEAQxzyABJAiCIAiCmGeQABIEQRAEQcwzSAAJgiAIgiDmGSSABEEQBEEQ8wwSQIIgCIIgiHkGCSBBEARBEMQ8gwSQIAiCIAhinkECSBAEQRAEMc8gASQIgiAIgphnkAASBEEQBEHMM0gACYIgCIIg5hkkgARBEARBEPMMEkCCIAiCIIh5BgkgQRAEQRDEPIMEkCAIgiAIYp5BAkgQBEEQBDHPIAEkCIIgCIKYZ5AAEgRBEARBzDNIAAmCIAiCIOYZJIAEQRAEQRDzDBJAgiAIgiCIeQYJIEEQBEEQxDyDBJAgCIIgCGKeQQJIEARBEAQxzyABJAiCIAiCmGeQABIEQRAEQcwzSAAJgiAIgiDmGSSABEEQBEEQ8wwSQIIgCIIgiHkGCSBBEARBEMQ8gwSQIAiCIAhinkECSBAEQRAEMc8gASQIgiAIgphnkAASBEEQBEHMM0gACYIgCIIg5hkkgARBEARBEPMMEkCCIAiCIIh5BgkgQRAEQRDEPIMEkCCIipmcnMTY2BjGx8fxxRdfYHJystGnRBAEQcwCCSBBEGVz4sQJfPnllxgfH0cymcTw8DASiQSSySQymQyy2SwJIUEQxByEBJAgiLI4ceIEjh07hvHxcYyPjyOTySCdTiOdTiOVSiGRSGB4eBjDw8NIJpMYGRkhISQIgpgjkAASBFEyx48fRzabxdjYGLLZLLLZLCOAmUymIFOFMDdCSEJIEATROEgACYIomhMnTuCLL75gRv2y2SwmJiZmFcDphDCZTCKRSDCZKoQnTpxo9EclCII4oyEBJAiiKCYnJzExMcHI38TEBJNSBHA2IZxuhPDLL78kISQIgqgyJIAEQczKiRMnTpnyzZe/SgWwGCFMpVIYGRnBxMQECSFBEEQVIAEkCGJGpi70mE7+qi2AxQhhPB7H0NAQCSFBEESZkAASBDEtuSnfmUb96iWAU2UwnU7DYrFAJpMVjBCOjo6SEBIEQRQJCSBBEAXkavvNNuU7kwCmUqmaCmAuNpsNcrmcEcLppoxJCAmCIGaGBJAgCIZip3wbLYB2ux1yuXzaEcJUKlVQlJqEkCAI4lRIAAmCAHBqbb9ixK+RAiiTyYqaMs4XwvwRwrGxMUxMTOD48eMkhARBzDtIAAlinjNTbb8zQQBLFcJjx46REBIEMS8gASSIeUxuoUdXVxdcLldZ8tcIAXQ4HGUJYLFCmE6nSQgJgjijIQEkiHlIfm2/8fFxRgDLkb9GCaBUKq36fqcTwmQySUJIEMQZBwkgQcwzplvo0d3dDafTOe8FcDYhzK0yJiEkCOJMgASQIOYRM9X2UyqVcDgcTSOATqezLgI4kxBO7WOcTqcxPj6OY8eOYXJykoSQIIg5DwkgQcwDTlfbT6VSwW63ly2AExMTGBkZqasAdnZ21l0AZxPC/D7GmUwG4+Pj+OKLL0gICYKYk5AAEsQZTjG1/dRqNWw2GwlgnYSQIAii0ZAAEsQZTLG1/TQaDaxWa9MIoMvlmpMCWIwQ2mw2JBIJZLNZEkKCIBoGCSBBnIHk1/YrprBzT08PLBZLUwmgRCJpuOCVI4QsFgt9fX0Fq4xHRkZICAmCqCskgARxhjE5OVlyOzetVguz2VyRAOZ68pIAnl4ABwcHmX9PN2VMQkgQRK0hASSIM4Sptf1KKeqs1+thMpnKlr9QKAQulwsOhwOFQgGbzYZYLIZ0Ol0TkXK73RCLxQ0XukoFcLqv50rO5K8yzhdCWlBCEEQ1IAEkiDOAStu5GQwGGI3GksVvfHwcBoMBbDYbbrcbwWAQvb29kEqlaG1tBY/HY0rMDAwMkAD+TQDj8XjR2+fXIJwqhF9++SUJIUEQZUECSBBNTn5tv/Hx8bJG8IxGIwwGQ0nvSSQSEIvFEIvFGB4ePuUZwGQyiWAwCKPRCIlEgpaWFrS3t0OtVsPlchUtQdPF4/E0pQCmUqmSBLAYIUylUhgZGcHExAQJIUEQRUMCSBBNyulq+5USk8kEvV5f9PaBQAAcDgd6vZ6RztMtAkkkEvD7/dDr9RCJRGCxWBAIBOjp6YHH48Hw8HBJAigSiRoudPUWwGKFcHR0lISQIIhZIQEkiCakmNp+paS3txc6ne60242NjUGn04HD4SAQCBR8rdRVwMPDw/B6vdBqtejo6ACLxYJQKIROp4PP50MikThjBXBoaKjq+06n0ySEBEEUDQkgQTQZk5OTVRn1y4/ZbIZWq511m+HhYYhEIkgkEiQSiVO+XmkZmHg8DpfLBbVajfb2drS0tEAikcBoNCIYDBasMPZ6vU0pgMlksmYCSEJIEEQpkAASRJOQm/IttrZfKbFYLOjp6Znx6z6fD2w2G0ajccbnDKtdB3BgYAAOhwNKpRI8Hg+tra2QSqXo7e1Fb28vOjo6Gi50c1kAZxPCnAySEBLE/IUEkCCagGpP+U6N1WqFRqM55fXR0VH09PSAy+UiFArNuo/R0dGaFYJOp9OIxWKw2WxQKBRgs9lgsViQy+WwWCyIRqM1KzlTCwEs5XnHWgphKpVihDB/hHBsbAwTExM4fvw4CSFBnKGQABLEHKfYdm6VxGazQa1WF7wWj8chFAohlUqRSqVOu49aCuDUeL1e8Pl8WCwWyOVysNnsutUgrCSJRGLOCGCpQnjs2DESQoI4gyABJIg5SqW1/UqJ3W6HSqXCxMQEstksPB4P2Gw2ent7iy4tU08B9Pl8BVPAqVQK4XC4LjUIqyGAsy1wmSuZTgi9Xi8ikQgJIUGcAZAAEsQcJFfbLyd/tRK/XHLP2o2OjkKtVoPH4yESiZS0j0YK4NTUsgZhJRkeHm4aAZxOCLu6umA2mwtGCNPpNAkhQTQhJIAEMYfIPesXCoUwOjpa01G//LhcLkilUggEAshkMqTT6ZL3MTY2VjcB9Pv9JS0CqWYNwvkqgJlMBl1dXbDZbIwQ5kYIc6uMk8kkCSFBNAkkgAQxR8jJX65WXG5lZq2TzWahVqvBYrFgtVrLls56C6BAIKhIxMqtQVgNAcwvadNMkcvlsNvt034tJ4RT+xiTEBLE3IQEkCDmAPnt3DKZTN0EcGRkBEqlEhwOB2KxuKJ9NZMATk08Hofb7YZGowGfz0dLSwvEYjEMBgMCgUDVhG1oaKipBVAqlcLhcBS1bb4Q5vcxzmQyGB8fx7FjxzA5OUlCSBANggSQIBrIdO3cxsbGwGKxkMlkaip/AwMD4PP56OrqgtPphEwmq2h/o6OjdRObQCBQVQGcmoGBATidTqhUKqYGYWdnJ0wmE8LhcNmi2+wC2NnZCafTWdZ7TyeEX3zxBQkhQdQREkCCaBAz1fYbHx8Hi8UqqvRKuVO+DocDbDYbdrsd2WwWPp8PUqm0qQSQz+fX5VjpdBr9/f2w2+3o7u4Gl8sFm80uqwZhTgDrNVJa7UgkErhcrqpd15mEMJvNMkJIEERtIAEkiAYwW22/bDbLjBJVW/4ymQwUCgXa29sRi8WY1/1+Pzo7O0kAixSXaDRaVg3CeDze1AIoFovhdrtrdl3zhTC3qGRkZISEkCBqAAkgQdSRYmv7tba2Ynh4uKryF4vF0N7eju7ubmQyhdPLgUAAEomkaQQwGAw2TACnppgahDkhbHYBFIlE8Hg8dTkWCSFB1BYSQIKoE1Nr+8222pbNZmNoaKhqU75WqxVsNhtOp3Pa4waDwYoXgdRbANvb2xsuRNMllUrNWIPQarWCxWLNyS4lxUQoFMLr9Tbk2Lk+xlNXGZMQEkR5kAASRI05ceIEM+VbbEcPLpeLwcHBiuUvnU5DLpeDz+djYGBgxu1CoRBEIhEJYA2SX4MwV3KmETUIq5GOjg74fL6Gn0cmU5wQ0oISgpgZEkCCqCEzLfQ4XXg83qzCVkyi0Sja2tqgUqkwMjIy67bhcBhCobBpBDAUCjWNAOZncHAQLBYLHo+n7jUIqxGBQIBAINDw85gu+UKY38c4J4RffvklCSFB5EECSBA1Ir+2X6nFlacu0igl2WwWZrMZbDYbbre7qGNHo1EIBIKKBHBsbKyuAtjW1tZw6Sg1AwMDTImfXIaGhupSg7Aa4fP5CAaDDT+PYjKdEMbjcebRChJCYr5DAkgQVWa62n6lypRAIEA0Gi35falUCjKZDB0dHYjH40W/r6+vD3w+v2kEMBwOnzECODWDg4NMDcK2tja0tLQwNQhDoVBDF5C0t7cjFAo1/DqWmnQ6jXQ6DbPZDLlcXjBCmCu4TkJIzDdIAAmiipQ75Ts1HR0diEQiJb0nHA6Dx+NBo9GU3EUkt0KYBLC2GRgYQEtLS0niMl0NQplMBrPZjEgkUtcFJW1tbQiHww2/juXGbDaju7ubEcLppoxJCIn5AgkgQVSJ2Wr7lRqRSIRQKFTUtuPj4zCZTGCz2fB6vWUdr7+/H21tbRWd8/j4eF0FkMfjNVwoSk1/f39JAjg16XQafX19sFqt6OrqYmoQdnV1wWq1oq+vr6ZCyOPxEIlEGn4dy43JZIJKpZr2uuaEMCeDJITEmQ4JIEFUSH5tv2rI38TEBMRiMYLB4Gm3SyaT6OzshFAorKhszMDAAHg8XtMIYCQSmZcCODWpVAqRSOSUGoTd3d2w2+3o7++vqhByuVxEo9GGX8dyYzAYoNFoTrtdrgbhdEI4NjaGiYkJHD9+nISQaGpIAAmiAiYnJ6sy5Ts1nZ2d8Pv9s24TCoXA5XKh1WqZm1K5GRwcBJfLrVgA6/V8WjMLYGtra832P10Nwra2NqjVarhcLsTj8Yr2z+Fw0NfX1/DrWG70ej20Wm3J75sqhPlTxmNjYzh27BgJIdF0kAASRBmUU9uvlEilUvh8vhlFy2AwgM1mn1YSi008HgeHw2kqAeRyuQ0XilITi8VqKoBTk0wmmRqEIpHolBqEQ0NDJe2PzWYjFos1/DqWG61WC71eX/F+SAiJMwESQIIokWLbuVUSuVwOj8dzyuuJRAJisRhisbiqreKGhobAZrObRgCj0SgJYBkZHh6G1+stuwZha2sr+vv7G34dy41Go4HBYKj6fmcSwnQ6TUJIzFlIAAmiBPJr+42Pj1dd/HJRKBRwuVwFrwUCAXA4HOj1+qofe3h4GC0tLSSANU4sFgObzW74eeRSag3ClpYWDAwMNPy8y41KpYLJZKr5cfKFMLfKOJlMkhAScwoSQIIogmrU9isl3d3dcDqdjGzqdDpwOJyiFoaUk0QiARaL1VQCyOFwGi4Upaavr29OCeDUzFaDMBgMgsViYXBwsOHnWW66u7thNpvrftycEE5tW0dCSDQSEkCCOA3Vqu1XSlQqFex2O4aGhiASiSCRSJBIJGp2vFQqBRaLVdFnq6cA9vX1kQDWQVqm1iBksVjo7OxsSA3CakShUMBqtTb8PGYSwkwmg/HxcRw7dgyTk5MkhERNIQEkiFmYnJys26hfftRqNVQqFdhsNoxGY02nmycmJpBOp8FisSo6DgngmXvemUyGGSU2mUwNqUFYjcjlctjt9oafx9TkC2Hu+cF8Ifziiy9ICImqQwJIENOQm/L1eDzQaDR1lb/R0VEIBAK0trYWXQy60mQyGbBYrIrKydRbAJtlJC0/zTp1ncl8JYC5hSK5GoRmsxkymQytra3gcrk1q0FYjUilUjgcjoafx+kymxBms1lGCAmiEkgACWIK+VO+LpcLcrm8bvIXj8chFArB4/Gg1+vrdtyRkRGwWKySW8g1SgDn2mKKYtPMAjg8PAwWizVjse9UKoVQKASTyYTOzk6mBqFKpYLT6ZwTzw5KJBK4XK6Gn0epyRfCcDgMpVJJQkhUDAkgQeQxtZ2b1+uFTCaruYBls1l4PB6w2WyYzWbodDqYTKa6CeDo6ChYLBZGRkbKPn+n0wm5XA6LxVLz6cBmFsBmXL2cyZxcMcxisYqW/GQyiUAgAIPBALFYXHENwmpEJBLB4/E0/FpWkkAgAD6fXzBCmFtlPDIyQkJIFA0JIEFg5tp+fr8fEomk5vKlVquZPqsTExMwGAwwGAx1E8CxsTGwWCxkMpmKzt9oNEIul4PNZoPL5UKpVMLhcFR99KfR9fTKTbMWsM5kMojH42CxWGWLfSKRgM/ng06ng1AoLLkGYTUiFArh8/kafi0ric/ng1AoLHhtpiljEkJiNkgAiXlPrrZfTv7y5SYYDEIsFtdMvAYHByEQCCCXy5FOp5nXTSZTXaeAx8fHmZt7Ke8bGhpCR0cHZDIZkskkMzqUmw7Mb0nG5/OZ0Z/h4eGKboK1bqlWqzSzAA4ODlYkgFMzNDQEj8eDnp4eCAQCsFisWWsQViMCgQCBQKDh17KSeDweiMXiWbdJp9NMDcL8Vcb5QkgLSggSQGLekt/ObaZVvuFwGEKhsOrClc1m4XK5wGazYbVaTzm22WyGVqutmwBms1lmeq/Y9/h8PrDZbPT29jLyPNP0YG70J78DhUgkKvtm38wC2Iw9jDOZDAYGBtDS0lKz/c9WgzAUClXl+dL29nYEg8GGX8tK4nQ6IZVKS3pPvhBON0L45ZdfkhDOQ0gAiXlJsbX9otEo+Hx+VWVrZGQESqUSbW1t6Ovrm3Ybi8UCjUZTNwGcmJhAS0tLUbUGc4WpuVxuwSrlUhaBxONxuFwu5mbf2toKqVRadH25/v7+mspIrRIOh5tWAOsp3dPVIGxtbYVMJquoBiGPx0M4HG74tawkNpsNcrm84us7VQhTqRTzDDAJ4fyABJCYd+S3cztdeZdYLIa2traqSVZ/fz/4fD66urqQycz8vJ3NZoNara6rALa2tp62v3CuF7FEIkEymSz4WrmrgNPpNGKxGGw2G7q6usDhcMDhcKBQKGYsJ1Lr0ahapZkFsJELb9LpNPr6+mC1Wgt+RkqtQcjhcBCNRht+LSuJxWJBd3d3Va/tTEKYqwpAQnhmQgJIzBvKaec2MDAALpdbsVxls1nY7Xa0trbCbref9th2ux1KpbKuAshmszE0NDTj10Oh0Ky9iKtVBiaVSiEcDqO3t5cpJ9Le3g61Wg23242hoSEMDAwwi1aaKeFwGG1tbQ0/j3Iyl4pYp9PpsmoQstlsxGKxhp9/JTGZTFCpVDW9tjNNGd97772Ix+ON/lVOVAkSQGJeUG47t3g8DjabXZFYZTInW1C1t7cjFosV9R6n04nu7u66CiCHw0E8Hp9W7EwmE9hsNvx+/4zvr1UdwGQyCb/fD71ez6wezS0a8Pv9NVksUKuEQqGmFcC5XMKm2BqELS0tGBgYaPj5VhKDwYCenp66HS8nhNFoFAsWLEB/f3+jf50TVYIEkDjjOd1Cj9kyPDyMlpaWsqUqFouhvb0d3d3dJdXYc7lc6OrqqqsAcrlcDA4OFryWSqUglUohFApnHR2spQBOzdDQEGw2G1gsFtrb2wsWC4TD4boVoy4nzSyAzbSAZWoNwtwqdBaLxfTYbvQ5lhutVgudTlf343q9XixYsACjo6ON/pVOVAkSQOKMZabafqUklUqBxWKV/N5sNgur1Qo2mw2n01ny+z0eT107kExMTIDH42FgYID5dzQaBY/Hg0ajKapDSD07geSXJBkYGGAWC3A4HLDZbObZsFgsNqfakQWDQbS3tzf8PMpJM8trIpGAx+MBi8ViVqF3dHRAq9XC6/VWXJaonlGr1TAajXU/rslkwt/93d/h+PHjjf7VTlQJEkDijGRqbb9ye/lmMqX3yE2n05DL5RAIBAVCVUp8Ph+kUmldBbCtrQ39/f0F8up2u4u+dvUUwJmKEuemqsxmM6RSKVpbW8Hj8ZipwHg83tCbdzMLYDOfeybzVSu7RCIxbQ1CkUgEvV4/5x8rUCqV6O3trftxu7u78bWvfY0KSp9BkAASZxT5tf0qEb9cSm2RFo1GmWePKumrW48OJFPT3t6OUCgEhUIBPp9fsrzOBQGcmmQyiWAweEo7stzITz26T+QnGAyCz+c3XCLKSa4FWaPPo9zM1spuuhqEEokERqMRwWBwTj1WkBvdrsn+0zNPjQsEApxzzjm0GvgMggSQOGMod6HH6aSmmA4Z2WwWZrO55FGzmVLrDiTTpa2tDTwer+TnFfOvVe6B8VrfBHMCWOqNeXh4GF6vlxn5aWlpgVgsrtuNvpklyu/3o6Ojo+HnUW6K7WQyUw3C/DqVjRRCmUwGh8NR1X2OJlU4NrgBo0nBjNuwWCz853/+JwngGQQJIHFGUEptv1KS65AxteZdflKpFGQyGTo6OqZdRVtOQqFQTTqQzPQZnU4nWCwWtFpt2dcvNwJYDwGcbTSnVClwOp1QKpXg8XhobW2FXC6HxWIpurZcKWlmAZyuB20zpdxC1tWqQVitSCQSuFyuquxrNCnEFwMrMRn7Pr7sv27WbT/88EOcd955jf5VT1QREkCiqSmntl+pma1AcjgcBpfLLXqhRLGJRCLo6OioufyNjo4y0158Ph/hcLjsfTWjAM50o5fL5WCz2UxtOYfDUZXyIYFAAALBzKMsczlerxcikajh51Fu+vr6qlLIutwahNWKSCSC1+ut6PzTw5/h2MAKTMa+z2R8+N1Z3/fmm2/i4osvbvSvfKKKkAASTUstpnyny3T18fJr43m93qofs6+vr+ot6KYmHo+jo6MDMpkM6XQaIpGooLVbMwhgLR/Wz9WWMxqNkEgkTCmRnp4eeDyeslaO+v3+phVAj8cDsVjc8PMoN5FIpCZ1DIutQVitCAQC+P3+kt+XTg8jPfw+0rHLMRK7ukD+jscuQCY9+wKp559/Htdee22jf+0TVYQEkGhKKqntV2qmlkdJJpPo7OwsqjZeucnVD6zVZ/J6vWCz2TCbzcz1E4vFCAaDTSGAuRWd9VytmUgk4PP5oNPpmFIiIpEIBoMBgUCgqHNpZgF0u92QSCQNP49yU68uLDPVINRoNEwnm0r2n1usVez26fQg0kNvIN33S6Sj30U6+l0c67+pQACzQ4dPu58nnngCN998c6N/9RNVhASQaCrya/vVQ/4mJk6uju3r68PExMln87hcLrRabUmlYUrNwMAAeDxe1fc7NjYGrVYLLpd7ynSvRCJBIBAgASwy8XgcLpeLmULPLRTo7e1FJBKZ9jo080IKl8uFzs7Ohp9HuWnUCuz8PxxynWwqqUHI5XKL6mecTocRj/8W8dgSRvzS0e8i03cRjsd+wMjfl30/wUjKd9r97d69GytXrmz0LYCoIiSARNMwOTlZlynfqREIBAiFQjAYDOBwOLO2Q6tWBgcHq9KDOD+JRAIikQgSiWTaRS2dnZ0VfbZsNlt3Aax3GZeZb7ZpxGIx2Gy2goUCCoWi4Lkwn8/XtALodDohlUobfh7lZq7Id6U1CE/XzziVcmNwcA+ikf9ENHIOUrGrCwRwYmApJmPfxxexCzDSvwTpwYeLOu8tW7Zgw4YNjb4NEFWEBJCY81S7tl85AigQCCAWi2dcDFLtDA0NVdyDOD/BYBAcDgcGgwHj4+PTbiOVSuHz+SoSwHqVgUkkEnNKAE+9CacQiUTQ29vLPBfW3t4OqVSKtra2pmxF5nA4IJPJGn4e5cbr9c7JVcy5kWS1Wn3aGoTpdBosFmva5woTyV7EBp5ANHIuopFzEI2cg4G+ywrkL913Hib6r0Wm/2ako/9x8rWkpqjzXL16NXbs2NHo2wFRRUgAiTlNbspXr9cjEonUXf4CgQBYLBa6urpmFKdaJJFIVNSDOJfx8XEYjUZwOJzTTu/KZLKKFrSQAM6cZDIJv98PhUKB1tZWsFgsCIVC6HQ6+P3+pvgcdrsdcrm84edRbtxu95xfxJJrbehwOApKE+UeLQgGg2CxWAV/QAwn1AjEVsMR+g76+i5l5C8aOQfJ2CKko99FKvJdDPctRKJ/eaEQ9i8p+tzuuOMO7N+/v9G3BKKKkAASc5b82n5SqbQmq21nytjYGHQ6HTgcDgQCQUUjY+UkmUyW1YM4P6lUilmsUszIpVwuh8fjaSoBbKYerpnMV6NQQ0NDcLvd0Gg0aG9vR0tLCzo7O2EymRAOh+dU54lcctPbjT6PcuN0OpvuGcb8RwsUCgU4HA5YLNbJWpX2v8AdXgJH6Bw4QufAH72qQP76oxcgFfkBhmKL0Re9ANHI95CK/qRQABMtRZ/LDTfcgGeeeabRtwWiipAAEnOO6Wr7dXV1we1210W+hoaGmGflEolExWJUTnJTPeWOOkYiEfB4PPT09BS9WKWrqwsul6spBDAnyM0ogNPV0hsYGCjoPMFms5lCw7FYrK6FhmeKxWKBQqFo+HmUm2afws5kThazbhM/CY33NzB7fsHInyN0DoLBr0b/IpHz0N+3HNHID5nXhmKLp0wHX1rSz9WVV16J119/vdG3B6KKkAASc4qZavsplUo4HI6ai5fP5wObzYbJZGLkS6FQVCRG5SSTOdl6qdSVxtlsFhaLBWw2u2RpVSgUcDqdJIA1TDHFlNPpNKLRaEGhYR6Px9SVi8dnr9dWq5jNZnR3dzf8GpabZh7BTKcTCMU/gi54FVSB78Ea+U2B/Dn9FyIaOQdO1/nodVwKu++/EQn/W96I4LeR6vtVoQAOHS3pHH71q1/hvffea/QtgqgiJIDEnGFycnLG2n5qtRpWq7VmwjU6Ooqenp5py6PUSz6nng+LxSqpJ28mc7JRvEAgwODgYMnHrPRzNkIAm20xhcfjKbmbRjKZRDAYZOrKsYjQCMUAACAASURBVFgsCAQCpoxIvZ4f7O3thVKpbPg1LDfNOIKZSsfhGvgDjOEboQp8j4k7chkjf/bgdxDquwPeyOXMax7fNQXTwSHf5UhHv4tk5HsYii1Cf+wGpNOldbb5yU9+gr/+9a+Nvk0QVYQEkGg4uSnf2Wr7abVamM3mmshWPB6HUCiEVCpFKpU65etqtRo2m62uAjg+Pg4Wi4VMJlPU9v39/Whvb4dSqSxJGvOjUqlgt9ubQgBTqVTTCmClCxGGh4fh9XqZMiItLS0Qi8XTrhqtZkwmE1QqVcOvYblpJoFNpPpg738JEv/FUIduKpA/lf2Sk6IX/E/Yo7fAGlkER+hbX40Ghn/AlIBh4rsGXuevEfB//+RIoWNzSTUI0+k0/v3f/x0CgaDRtwuiipAAEg2l2HZuer0eRqOxqpKVzWbh8XiYjhgzPW/X09MDi8VSVwHMZrNMr9vTbedwOMBms+FwOCpaNFKp6JIAnj61WIk6ODgIp9NZsGpUJpPBYrEgGo1W7fthNBqhVqsbfg3P5POPpwKwxA5D5P85BL4fQeD7EfShqwoEUGe/ArboLdAG/wua4LnwRK8vmA6O9N108jnA8LcQ7rsG4b7bEI18+6vnA8PfgU7XVlINwnQ6jW984xvo7u5u9C2DqCIkgETDKKWdm8lkgl6vr5pgjY6OQq1Wg8fjIRKJzLqtTqdDb29vXQVwYmICLS0tSCQSs34GpVKJtrY2xGKxio+n0WgqmmZvhAA26nm4clPrUiTpdBp9fX2wWq2Qy+Vgs9ngcrno7u6Gw+HAwEBp0375MRgM6Onpafg1PBPPvz/pgDL6OESBOxjxE/h+VDD6pw0thMZ3B9SB70ETPBea4Lkwhi6EI/TtPAE8F5HohQj1LYY7/L9whM5BX9/CgtHAgf51zHHzaxDmVqNPV4MwnU7jrLPOgslkqsrv/qeffhq/+MUvcNZZZ+HrX/86brrpJjgcjoJtTpw4gf379+Occ87BP//zP+Pyyy+HxWKpyvGJk5AAEnUnv51bsYWdLRYLenp6qiJWg4ODEAgEkMvlSKfTp93eYDDAYDDUXQBbW1tnLN8Sj8eZz5DJFDdNfLpUOtJZTwHMrZJuRgGsZz/dVCqFUCgEk8kEiURS0JfW4/GUtIhGr9dDq9U2/BqWG51OB51O1/DzyE80YYA8vBOfeH6Bjz3nQxZcVCCAutDV0IVvhSJ4LUT+H0Drv4qRP03wXLijN3419Ru5Et7oCjhC//bVs4CR8wtG/6KRc5BMzrwQZmoNwo8++gi/+MUvsHXrVnzjG9+A0+msyj3guuuuwzvvvAOLxQKj0YhFixbh3/7t3zA6Ospsc+jQIXzta1/DX//6V5jNZtx+++0455xzkMlkqnIOBAkgUWdytf1y8lesXNhsNqhUqooEJ5vNwul0gs1mw2q1Fj1dWu3Rx2LD4XAQj8dPeT03bW2xWKpaGLvS5yxJAE8fl8tVVwGcmvy+tB0dHQVTgIFAYNY2ZHNRoEpJT08P9Hp9w88jk8nAN6SENHwAH3t+jo895+Njz/kQBW5nxE/o+yVUoTWQBS6CyP8DiPw/gDr0mwL5M4TOhyP0IziiN8MY/j9ogt+DK/zzgungaN+NhbUBY4uKPsd0Og2Xy4V9+/bhsssuwz/8wz/grLPOwg033IDnn38eRqMRk5OTVbkvDA4OYsGCBZBKpQBODhJ885vfxKFDh5htJiYmcPbZZ+Po0aNVOSZBAkjUifx2bsVM+U6N0+lEd3d32XIyMjLCTJf29fWV9F6z2QytVlt3AeRyuRgYGGD+PTY2xqxUPt20dTmpdKo7m80yN45a30Bna4k1l9NoAZyaqW3I8rtORCKRgu+lVqudMwJVTtRqNYxGY0PPwTkoRIvvPrztvAQ8/+2M/H3sOR/SwHWQBK6GNLgSrd5foutvo365GCNfCaAufAWs0bvQ87fnADXBc2GPLCqQP1f4h4hG/v3kc3/RixGILsbg0Odlnbfb7caCBQugUCjw7LPP4vrrr8dZZ50FiURSlftDbv9msxkA4PV6sWDBAuj1+oLtFi9ejLvvvrsqxyRIAIk6UOxCj9nidrshl8vLEpP+/n7w+XymBlip77darVCr1XUXwLa2NvT392NiYgLDw8MQiUTo7Ow87cKQcqPX62EymZpCADOZTNMK4FztRpFOp9Hf31/QdYLD4UChUMBms0GpVDa1ACqVSvT29tb9uKl0EpYBPj713oW3nZfgbeclaPHdVSB/4uBqiIPLwPL+DCzvTyEN3lYgf6rQddAEvg+l53pIXFdCGrgAPcEfFk4HRy4tEMBw9FaE+m6EJ3IxHKFz4I5cgHS6vBXiRqMRf//3f4/jx48zv9e/+OILfPnll1W5P9x444249NJLmdcUCgUWLFiAaDRasO26detw7bXXVnxM4iQkgERNyW/nVsl0pc/ng1QqLVlI7HY72Gw27HZ72ce32+1QKpV1F8D29nb09fUhEAiAw+HAYDDUtB9xpc86NkIAK1nU0Ig0UzuyVCqFSCSC3t5edHZ2gsVigc1mQ61Ww+VyNd0K7O7ublgslrodL5kehib2Cd52rcBnvrWM/L3tvAQc/034xH0h2gKr8al3Kdr9C8Hy/pRJV/BqRv6kgcuhi6yCNHBB3mjg0gL5s0auYWoCOiLXwRq+Ca7wfxcIYd/gy2V/lq6uLpx99tk4ceJE1e8R999/P84991yEw2HmtZwA9vX1FWy7du1aXHfddVU/h/kKCSBRE6Zr51aJnASDQYjF4qK3z2QyUCgUaG9vZ0bRyo3T6YRCoai7APL5fCiVSnA4HAQCgZofr9JnHestgC0tLSSAdYxKpYJKpYJer4dIJAKLxYJQKIROp4Pf769bQepy09XVBZvNVvPjDCX70RV9D286l+JF+1X4wLOqQP7YvjXgBdbhI/d1eNd1EdoDqwrkTxZcBqHvvyAPLoU4eBtEgRsLRgNF3vOgDf73lMUgt8IWvRW60PnQBM+FI7q4sFNI6PtIpfvK/kzt7e341re+VXUB3Lx5M77zne/A5/MVvE5TwPWBBJCoOtWY8p2acDgMoVBY1LaxWAzt7e3o7u4uuyhyfiqZfi43qVQKra2t4PP5M64ErnZ6e3uh0+kqEsB6LQLJZJpTAB0OB6RSacPPo5yoVKqCKdShoSF4PB5oNJqCEiImkwnhcLhmBanLjUwmg91ur9n++5MRtIfewp+92/Gi/Somn3hX4G3nJfiz+3Z87Lkff/HchHddF+Fd10V43/V/aPNfzcgf23sFukJrwfP/mnmtO3RrgQAq3TdAEzwXPYH/gj68BPrInQUyeHI6+JeF08EDj1T02T777DN8//vfr5oAnjhxAps2bcK3vvUtuFyuab/+zW9+E4cPH2ZeO3bsGC0CqTIkgERVqWShx2zp6+sDn88/rYBYrVaw2Ww4nc6qHd/r9ZY8/VxJIpEIuFwuuFxuXUb+cql0sYvP5wOHw4FIJILBYKhpV4pM5qQA9vf3N1wsSkkzC2B3dzfMZvOMXx8YGIDdbkd3dze4XC7YbDa6urpgtVoRi8Xq9ofBTOns7ITT6az6fiMJL1oDL+GQ9Ra86liFl+zXMPL3Z899+NS7Bh96VuMV+5X43LeBkb93XRdBELwXLO9P0e5fBq7/HrQH7ikYDRT6r4fI/8OvBND3Yyg9v0FPeCkk/vMg8v8ApshNU6aDC/sEO0LfQSJZ2cjnBx98gJ/97GdVu09s3LgRZ599Njo7OxGLxZiMj48z2xw6dAhnn302PvvsM5jNZtx5551UBqbKkAASVaGc2n6lpL+/H21tbTN+PZ1OQy6XQyAQFKycrUYCgQAkEknNBSybzcJsNoPNZsPj8UAikdRVAMuttTg+Pg6DwQAOhwO32w2n0wmVSgUejwc2mw25XF4TCWhtbSUBrGMUCkXRz9Cl02lEo1FYLBbIZDK0traCx+NBqVTC6XQ2ZPGOWCyG2+2u2v68Q3ZwAkfxtGUxnrQswpOWRXjffR9etF+FV+zX4wP3NrznXolX7FfiFfuVeMOxEB+5FzLy90fXVRAE1uNT70143/UrvO+6EO3+6wsEUBla+rfnAC9FV2glhLalBaOBXcFLoQn+vymjf1eefB4w9EPYIzfBHats9C+TyeCNN94oWKRRKQsWLJg277zzTsE9Zf/+/fjmN7+Jf/qnf8Jll13GrBImqgMJIFExU2v7VVv+JiZOFj7mcDjTfi0ajaKtrQ0qlQqjo6NVP3YoFIJIJKqpfGUyGUZgc7X/Ojs74fP56iaAVqsVGo2mpPek02lIpVIIhUJmUUBO8nJdKfIloK2tDWq1Gm63u+JFBM0ogHa7HTKZrOHnUU5yo3nlvDeVSiEYDMJgMEAsFoPFYkEgEECr1cLr9dbl+UGRSASv11v593DQgLdcT+GgeTUOW5cw8vcH1/046lyG9z0P4lnbEnzk2crI3yv2K8Hyb8S7rovwsecOfOrbgFb/xr+J38m0B+4ukD+BbyG6QrdDElyCVu9Pwfb+DCLPLwsE0BRZUiB/ptAVcERuQG94EdSB70MV+B76hyv/eXvuuedo8cUZCAkgUTb5tf1qJX65JBIJtLS0FLyWP2LmdrtrdvxIJIKOjo6afbZYLIa2tjYolcoCgZXJZPB6vXUTQJvNVlK5m9yorFqtxujo6GkXgSSTSQQCAej1egiFQqYIcbnTxa2trYjFYg0Xo5LkoYkFUC6XV20RxfDwMLxeL3p6eiAQCNDS0gKxWHxKC7JqpqOjA36/v+z3m/rVeNWxFzuNS7HTuBRvuR5i5O9V+wa8634Qh6w34Gnrb/Cs7Ra86biRkb83HTeC5duEP3pW4jXHFfidcyH+5L46TwAvRLv/N3+bDr4Z/MBqSIIr0Or9HyaK0B0F8neyFMwPoA78B3ThG6EJL4ExfHNB32Bj+IaqXLsDBw7g1ltvbfQth6gyJIBEWdRiocdsyfV+zR0nlUpBKpWio6Nj2m4Z1Uwxzx+Wk2w2C4fDATabDYfDcco1lMvlcLvddRNAu91eVLeVbDYLl8t1ynnnBLDYm/fQ0BBcLhczXdza2lrSdDGbzW5KAcy172u21HIRxeDgIJxOJ9OCrLW1FTKZDBaLBdFotCqPDvD5fAQCgZLek0qn0BWV4JBlLw6a1zHy97xtC54yL8abzofwgm0zfu/agaetv2Hyp7+N/v3BdSc+9DyAT3xb8ZrjCiat/g2Fo3/+VRAEV4Pluxkfun8JlvdGtHp/mieA50EevIKRP6HvR9CH70FP+DZ0Bn4Okf8HkAcugSrwHwUCGI7/pSrfn127dtHq2zMQEkCiZKpV26+UjIyMgMViYXR0FOFwGFwuFxqNpiZTvlNzuucPy/08SqUS7e3tiMVi026jUCjgcrnqJoC5HqCzbTM2NgaNRgMej3dKR5VSBTA/5UwXN6MA2my2phVAqVQKh8NR8+PkfhasVivkcjnYbDa4XC66u7vhcDjKXvnd1taGUChU1LaJdALCMA/7eh/ERt0KvGT/auTvUdMKvO3ah6ctq/Go6RYcNC/Hc7aljPy9bFuOjzyb8Y77PhyxXYvXHcvwhuMaRv7eci7CR+4r8b7zErB89+ITzxp85r0JH7p/yUQcXFkw+icPLYPI/wPwHZdD5L0dfP9CRvxyMYSXFsifNnQh0unqTK1v2rQJGzdubPSth6gyJIBE0VS7tl8pGRsbA4vFgl6vB5vNruvU6ODgILhcblX3JxAITtuZRKlUwuFw1O1znq7dXiKRgFgsnrEbSSUCODXFTBez2Wz09ZVf26wRaWYBrNUq2tMllUohFArBZDJBIpGgpaUFfD4fGo0GHo8Hw8PDRe0n10Jxtm3iqTg+97XgacsebNStwEbdCuzr3YqHjbfjCfN6vGDbi1cde/Go6RYmf3Bvx9PW3+AF+3K87dqJ9z0P4IjtWiZ/8d5fOPrn24rPfRvwjusGHHVchhbf2gL5+9y7CGzvzxj5a/cvRFdoLdr91zHPBypCKwrkrzNwPtSBHxcIoG/gxap9D1atWoUdO3Y0+hZEVBkSQKIo6j3lO518sFgsdHR0YGhoqK7HHhoaApvNrsq+PB4P2Gw2LBbLaa+hSqWC3W6v2+d0uVwzFrzOjbrq9foZu5FUUwCnZrrp4paWFuj1+jlRYqTY2Gw2RvybLRKJBC6Xq+HnkUgk4PP5oNPp0NHRwfxxoNfrEQgEkEwmp30fh8OZ8Q+GvkQMf/L+BRu0m/GU+XFG/jbqVuA1x0E8Y92NB/R34mHjvThoXsnI3zOWNXjLtRVHndvwuPlmvOK4D0ds1zHy95bzLrzu+DV+51iEP3u34I/uDXjLeQ2OOi7DUcdleNNxOT7z3lgggJLgSvB8v0ZH4F60+G5Fm395weKQFu/5kAUuLhz9iyyDKvA9KP3/Dz2h66ANr0QyNbvslpLbbrsNBw4caPRtiKgyJIDEaTl+/Dji8TjkcnndxW9i4mQXEC6XyxT+rffxp1uAUmrGxsbQ09MDHo+HSCRS1Hs0Gg2sVmvdPqfH4zml4HV+bcXTrUiupQDmJzdF2NraColEUjBdPNdblFmt1qYVQLFYDI/H0/DzmJp4PA6XywW1Wo22tja0trZCKpWit7cXkUiE+eNgukVDgeEQPvT8GWs1G3C3ejXu127Gg4a12KS7B09b9uMF+1PYqr+DyauOR/Co6RYc6L0Lrzr24A3nQ9hvXszkbff6r0b/rAvxqW8n/ujZhJds1+N52zX41LeJkb+po39/cV8Djm8D2P7b8aH7V8zrHYFbCgRQ6l9WIH9C339DF74N6tDtkPgvgsD3I5j69lX1Gi9atAjPPvtso29FRJUhASRmJL+238DAQNVGwYpNfn05v98PLpeLwcHBugtgbgFKuX14h4eHIRQKZ5w6nSk9PT0wm811+5xerxcymYz598jICBQKBfh8flHXvV4CmAuHw0E0Gp11ujgQCMypjhTNLIDVKqNSy6TTafT398Nms0GhUIDD4YDD4UChUIDFYiEQCCCdTsMZ9+IF29vYrj+Ae9RrcLd6Ne5Wr8Zh60Ecsh7ENv1mbNKtxyOmdYz8PWHegudtD+Al+yPYZVqOF+yF8vc71xYcsV2L1xwr8I57B/7gehDP265h8qbjNvzO8eu80b8r8Ll3CVp8a/CJ91686bgSXH/hdDDXv6xA/lien0IWuAJi33noCt2GztBydIXugsD3o7z8GIPJ8sr1zJQrrriCOnCcgZAAEtMyOTlZMOWbm4Kt1whg7nkzsVjMtEKbbcFELZPJZJgFKKW+NxAIgMPhwGg0liyQOp0Ovb29dfucPp+P6XgSj8chEAigUCiKbqdXbwHkcrmIRqOnvD7T6mKLxYK+vr6GThdbrVYoFIqGi1I5EQqF8Pl8DT+PUpJOpxGJRGAymcBisfA2531s7zyIJYr7sUyxCdt0O3C3ejUe1O/CIcsRrNeuwZqee7Cm5x48a3sMW/V3YLv+bhyx7sdztoex3bgM243LsMN4O563r2Pk76B5CT5wP4LXHZtwwLwYB8w34h3X2gIB/MS78aT42a/CnzzrwfLtwFuOqxkhfN+1GH9yX1wggMLAVwLY6r0Enxluhci/DK3eX341Ihi4ukAAeyL3Vf06XnDBBfjggw8afVsiqgwJIFHATLX9MpmTEjQ2NlZzEfH7/eBwODAYDAXSJBAIEI1G6y6Ao6OjYLFYyGRmXrAxNfmjl8FgsKzj6vV6GI3Gun1Ov9/PFJ8u9jnFuSiAUwVg6upiHo8HlUrVkOlii8XStAJYaR29RkYW0uL+joNYqXwItyo24lbFRjzY9Qg2yx7C5q6duEu5Adt0Wxj522Pagcd7t+GwdT+26tbgGeseRv62G5fhdedu7Dcvxkv2zXjFsRtvOh/BAfONTH7v2lIgf79z3IE/edbhI89mvGK/CS/YrsP7riUF08Fc/7oC+WP7loDjuwKCwCq0+lbgA9fF+NxybcGIoCSwdMro348QHpJU/fr9+Mc/xueff97o2xNRZUgACYbZ2rnlVuFmMsVLUKkZGxuDTqebUZpEIhFCoVDdBXB8fBwsFqvo6dtkMgmJRAKxWIxEIlH2cY1GIwwGQ10FkMfjgcPhIBwOl7WPkZGRugrg6VZ1Ts1008VCofC0CwiqlWYWQIFAUHIdvUYmnU6jI6TEpp7DWCjdirWdu3GrYiNuV2zBHsMRbNHuxh3KdbhDuQ6Pqh/Fmp57sFZ9L3Z078Q+7U6s167Eeu1KbNGtxn7zOkb+Hutdh6POvXjSsh47jUuxx7Qcz1hXMPJ30Hwjfu+8G8/brsHvXWvwrvsh/NGztUAI/+IpfBbwXdcN+JP7Unzo/iU+8d6IVv8G8Pzr8b7rQqZWYKt3ynSw96eQB28qkL+u4E01uY7nnnsuhEJho29RRJUhASQAFNb2m26qMpvNgsViIZlM1kQ+hoaGIBKJIJFIZjyGRCKB3++vuwBOTEyAxWIVJXO51bJarbbi0dLe3l7odLq6fL50Oo2Ojg60trZWJK31FMDcgppK9jHddHGuAHEtpostFgu6u7sbLkflpL29HcFgsOHncbokUkl87pVha88RLJRuxULpVjykPYw7ZQ/gYf0RrFTuwlbdI4z8Pah/BNv1D+Jg71O4T7MFj+n2MvK3XrsST/Q8hJ2GO3HY/DB+a9mNl/NqAu40LsXvnLsLRv/ede3Ae+6H8KL9bjxpWYTXHPfiedu1jPy9aFuI91y3Thn924IW3wZ86L4DRx2X4UP3bQXy977rVxBMeR6wI7CIET+R7yJ0Bu+EZ5BV9euZTqfx9a9/HUqlstG3KaLKkADOc0qp7cdms2tSgsXr9YLNZsNkMs36nFy9W6OV8tnz29JV6xzNZjO0Wm3NP1uuFZ1MJoNQKKxoX80mgFNvdLFYjClAXIvpYrPZ3LQCWEoh5UZkMDmMP7oEWCI7gG09LzLyt0Z5ENt7DuFm2WYslm/CHuNh3KFchzu712OX/gk8ZnoCd6nWYqVqDdb3bME2/TpG/vYatuNp/cN4UHsvNuuWY5dmLXYZljHyd8C8Ck9ZluKIbRWOOh/BM9bNeMG+kmkR96RlEd533184+ufdhDfsl+ND9934s3cr3nWtLigNc9RxGVr9qwvk73PvzWB5f8bI3+ee/0VXaB0kwXvA89+Mjz0/R4vvGqSqVPh56v+Lf/mXf4HZbG707YqoMiSA85hSa/vxeLyqlmEZHR1FT08PuFxuUVOO9e6MkZ/ZViCn02nI5fKqt6WzWq3QaDQ1+0zZbBZOpxNsNhtOpxOhUKjpBDAcDtds/6lUCsFgEAaDASKRqCrTxc0sgLW+3uUmmhjAO4423Ni5D5cLt2NV9yFcL92G+zXPYK3yt9jc8yQWyzdhsXwT1mv24T7NduwxPoM16oexz/hbrFStYfKUZT+26dfjactB7DTuxNOWR7FZt5zJM70PMvK3W7cCR9QP4inDejxsWoKHTUvwO9euAvk76lzHiN8L1t/gD84N+LNnG95wLM1bHFI4Hfy+6xZ84Lq4QABFwbvQ6rkUn/TeDI7/XnzmvQ2feC7Ax57zmRhir9Xk+iaTSSxYsAB+v7/RtyyiypAAzlMmJydL7ujB5/OrtggjHo+jo6MDUqm06Gfr6t0ZIz9tbW3o7+8/5fXc6JlKpap6WzqbzVZUb95ykmvp1tbWxqysjkQiEAgETSOAbW1tdRWSoaEhuN3ugnpzpU4X9/b2QqlUNlyaykk5z1zWMr54FM+YPse67ldxhXA7Lhdux0LxbuzQvYI7FftxtWQbtuueY+TvbsluPGJ4Brd1b8atio1Yo34Yq9UbsVK1Bncp1+Fx05N4vHc/1mjWYJVmFQ707i2Qv0PWXdhjWokXbI/ikGUnDvZuwW7TUkb+HjXcjkO9SwoE8D3X/XjHtRl/cG3DEetteN+9rWA08DXHzfi989oCAWT71+F916/wnvNCfOpZhlb/ZnzmuwPvui7Gu66L8K7rIvADqwvk71PPRRhK1eb/QiQSwYIFCzA0NNTo2xZRZUgA5xm5Kd/x8fGS27kJhcKKF2Fks1m43W6w2WyYzeaSSqPUuzByfvh8fkHv22w2C7vdzoye1aI8TjG9ectJIpGASCQ6Rb6j0Sj4fH5F+x4dHT1jBTA/5U4XN7MA5uouNvo87ANB7Nf/GRe378V1widwQ+c+3CJ9HBtUr2Cz5gVcLdmGqyXbsEKxHyu6H8Z23XO4S/EY1kv2MSuAb1VsxKPGA9iq3YV9pkNYp9mBHYadWKVZhVWaVVjbswZ7TZuxWbcc23T34CnzXjxn24sHDSuZuoAv2Lcz8vewaQl+59iBJy2L8NveW3GkZx2eVW3E0+abGBl82rIYRx3LppSG2Vy4GMR5E1i++/Cpbz1+77rpZOs4/3pG/N51XYQP3b/GX72XFAigMrK/Ztfb6XRiwYIFyGazjb59EVWGBHAeUWk7t0oXYYyOjkKtVpfUDSM/Wq22rnXx8tPR0cGc88jICLq7u9He3j7tqGC1MltrtnKTW6QytcTOxMTJ0cz29vaK9l/vEcC58kxasdPFzSyAje69rI26sbfnY1zd8QQuaHsEv2p7BFvUb2BN94u4VPAw7lN9JX93K57EDt0LWCzfjoXSrbhLsRe3dW3CrYqNWN79APYbn8ODusewrHs9lnWvx+O9TzHyt0qzCoctB/Ck+VE8ZXkc9+vuO1kOJq8jyDPWHQXy96R5Ld5y7sbL9m3Ya1qKR0234DX7+oLRwFd0qwvk71X7YrztXIgPXMvxF+9WvOtag4+9Wwr6Br/lXIQP3FcWCGB7YE2B/H3s+Tn6EuaaXXe9Xo9//Md/xOTkZKNvYUSVIQGcJ+Rq+5U66pcfuVwOj8dT1nsHBwchEAggl8uRTqfL2ofBYKhrXbz85ErQDAwMgM/nM6U8anlMt9uNrq6uquwrm83CYrHM2tKtv78fbW1tTSOA7e3tDEg26AAAIABJREFUc0YAp2am6WKZTMb8H2j0OZaa6Vqp1SOdIQvWdr2N8zn7sEz6PH7V9ijulr+Kzao3cbFgFy4W7MJiyQEske3BJvULWKk4hAd6XmAWgfxGuhX3qx7DWulu7NAdxl3du7BG/RAjf/dptuO+nvVYpb4Xjxj34EnzYTyg38TUBNykW4+HjWsY+XtAfwcOWzfhCcs6vGjfi6csD+G1v7WIy+U1xwMF8vdby0143X7yub8XLIvwsvZuvNmzHq9YbvlqOth+E950LiwQwBb/xgL5e9d5CVi+a/Cx53z8xf1ztPpuhjx8oKbXXyaT4V//9V9x4sSJRt/GiCpDAniGM1ttv1LT3d0Np9NZsnjkFhpYrdaKjm8ymepWFmVqxGIxtFptVT5HsZnamq0SKVMoFBAIBLMuUhkYGACPx6v4WPUUwGYoS5I/Xczn89HS0lIwXRyPxxt+jsWkpaUF/f39dbtmbI8B9yn+gPPYe3Eeey/Wdh3FasUbuEb4NG6XPo9LBQ/jYsEu3Cx5Cg9oXsP1kj24XLgdy7uexA2yB7FQuhV3KvZir+EV3K14mHkW8BHDIUb+lnWvx9PmZ3Cg92ls1D6E5aq1OGg+wMhffkeQrfo7sL/3AbxqfxoHzQ/kvbaRGfX7SgDvm7ISeBfedz+Eo86NeNqyGIett+IV200FI4JvG1cVyN9R5zX4yH1dgQD+uXc5uP61YPnuxQeuhXjbeQnc8c6afi/a2trw7W9/mwTwDIQE8AwmV9svJ3+VioRarYbNZitJBpRKJdra2gqenys3FosFPT09NRevqRkdHWUKJNezE0l+a7ZyU0pLt8HBQXC53IqORwI4e0wmE1QqVdVXF9cjLBYLAwMDNT1GIpXCn50qXM9/BXdJ38R57L24RvAMNijexsXt+3E+71FcITiAGyUHca/iJayUP4/7Va/g8r8tArlKtBNrVU9iS8+zWKc6hOWKx7C0axsjf1u0B3F79wZs0OzGo4ZnsM/0LJar1jLZbdxbIH879Q/gSfMuHLYewC7DNtyvXY09pvUF08Gv2HcVyN8bjodwyHIrjjq34ahzFw5Z1uF52/ICIfzAU9gn+GX7DXjTcX2BAP6xdwU+sC/Cx661+ItnPd60Lcb71pvwtvMSJp94V9T8+/7pp5/ihz/8YaNvZ0QNIAE8gzl+/HhFU75To9VqYTabi9q2v7+/6lOldru9ZqtiZ8rQ0BCEQiE4HA7sdntdjx0IBCCRSMp+f6kt3eLxODgcTkXnXE8B5PP5TSeARqMRarW64LVqrC6uddLpNFgsVs1GKweTCXxgV+BK3vP40WeP43bxUSwRv4LbxK/hOsFzuIT/OM7nPYpfC57EJtWb+I34IC7kP4zbZc/gKtFOXC7cjpVdh7FT+xpulD7MPAu4pecpRv6WSR/EY8YXcH/P47i5637cptiCzdqdjPytVK3DbuNOrNXci32mvTjQ+ySe6N2PdT13M3nW+niB/D1l2YpHTbfiUdMt+K1lPV627cGrjh3YZ7qNEcK3XDsL5O+w9Va8Zr9lSm3Ak8/+/d55Cz7y3I/3nZvwtu0OvGK/ksnbptsL5O9t5yUw9X9S8+/9e++9h/PPP7/RtzOiBpAAnsHkSr1US0gMBsNpW5Plr4612+1VPb7T6az6oojZ4vf7mQLVXV1dda9BGAqFIBKJSn7f+Pg49Hp90fUVcxkaGgKbza7onOstgM3UmiyTmV4Ap4pW/upiNps9J6aLU6kUWCxW1XsnR4fjeMEgxJ3CP+Annx/E/3x+EMvFb+F6wQv4Sctj+AXnIG4QPYM7pC9juexVrO1+HRfyH8aF/Idxecce3KN4BhtVr2CJ7Cms6DqMayUPMvL3oPZZ3KHYjod0z2KN4iA2yk6KXy77TIcY+btbtQFPm49gv+kJ3KfZjJWqNdhj3Fcgf9v0G7DTsIqRv4f0d+ENx0G8YN+DvaaN2Kq/Ay/adxeMBj7WuwzPTR39cz+YtxDkVrzj2oKPPNtw1LkCR2zX4ojtWnzo2VQgf6/Yr8QH5mUF8veu/To4nNaa/0y89tpruOyyyxp9OyNqAAngGcyJEyeqKiS9vb2zdqbIZDJQKBQ1Wx3r8Xggl8trLl45geJwOEzZG6VSWfcRwHA4XHJh5lQqhc7OTohEopJbug0PD6O1tbWic65nGZhm602byZwUQI1GU5J4zTRd7Pf76zZdnEwmwWKxMDw8XJX9+eMxPNHDw0//ehiXsV/Elbzncaf497iK9yKubHsGP2l5DBdxn8YGxdtYKDyM/+XuwZLO53Cp4BFcwn8E93S9jM3qN/B/HbtwScdO/Fq0G8sVB3C1ZBsWde7EZvXz2NxzGIv+9izgiq5HsUS+mZG/depHsE7zAB41PoVdhqewTr0L6/4mfitVa3CXag0eMe4oHP2zPYZ9pk04Yt2PJ8yP4CnzowWjgdv0d+KQZW2BAE4d/XvGshTvux/CH1zb8ZJ9LQ6YF+Md94OM+OXynntlgfy977rzlNE/rvkJ5meio6MDOp0OPp8PiUR1u4EcOXIECxcubPTtjKgBJIBnMEUJ4HgAE2Puom7uVqsVarV62q/lSogolcrTPmtWbnw+Hzo7O2sqXclkEhKJBGKxuECg1Gp13WsQRqPRkgoz54pSazSasvoQJxIJtLS0VHTOJICzx2AwlCSAUzM8PHzKdLFUKoXFYkE0Gq3ZdHEikWD6YVeyH1ssjH3dXFze+jL+4y9P4IrWl3Gn6G385PMn8V+fHcTNwldxY8dLuEPyJu6R/Q7/y92D/+XuwaX8A1jV9TLWKl7HVR0HcU/XS7ikYyeTLZqXsF71LDaoXsC14t24X3O4YBXw+u59uLnrftyl3IkduiPYYzyC27s3YaliA5YqNuAx01MFHUGe6D2IdT13Y0PPauzv3YfDlkPYbdxa2CPY/GCBAL5sL1wJvL93GV6w3YPXHVvxhnM3jtg243fOhwv6Bh80L8brzjunyN/6U0b/Pvfdx4jfO85f42PvPRhMBpmfCY/HA41GwywykkgkMJlMCIVCFf9/fPzxx7F06dJG386IGkACeAZT7AjgF4kn8GX8XkxkBMhmZ14s4nA40N3dXfBaNpuF1WqtaUHkXILBIMRicc32n6uRp9PpThGonp6eop9/rFb6+vqKKsyczWbhcDjAZrPhcrnK/h7kpvkq+R7WWwD9fn/Dpa6UVCqA+ZlpulipVMLpdFZ1anB4eBgsFqvsEUdt2IeNkk/w4z8/g+s4r+OGtjexuO13WMR/DT/46wGc9/lTWCN7FwsFL+LHrP24UfgSLuDtw/+1H8TdsqNY3fUaLmh7BBe0PYJrO57AQsljuFSwC3d1PYcHNW8yK4AvF27HJvXzjPwtlG7FDu1z2KJ4Cquke7FIuhUP6Q4x4rdUsQFbtXuZXsArVWuwuWc7fmt+GntN+7FGsx53q1fjSfO+Avk7ZNlTIH8PGVbgKcu92GdahudsD+Il+14cdR7EI6ZlTK3APb2344h1ZYEA/sG97f+z915hVZ5p+3625jc7c8zxHbMz+X8zISYxmmpiEmOMJbEHBaSLKNgrihUFBATpvfe66E3Kovfe16L3pjS7ERtm5ps5/xvKiq8Yowg4k3Afx7URfNd6kfWa5+R+nvu6JnT/Irp3CeAvpEOLhN4DhDTvwL9VC7f2taRfsvrFn/XVq1dl/69OT09HLBZTWlpKa2vrpM6Unjx5ku3bt7/u5Wy2pqFmAfA3Xi+6cP/jphH/ujyXhzf2cu9HT8YeTNzCfXoLdjwDNycnZ0ozgp8HaLm5uVP+vg8ePKCpqem5HnkSiYTGxsYZBcAX8eUbN9d+MtJtshoHwFeZGJ9JAMzNzf2vBMDa2tppee9nbRePbw2+6nbxjRs3SE5OfunPtri/k6PFSbwdYc37Ubbo5EWwLMWdd2IsUc8LYGW6K5r5gWgXBvFhshkfJpuxOM2a7aV+bCn25os0M3RLvWXwtyjTEL0qH/ZWevJDgQXf551FpficDP6Uik1QLTuNTuU59Gtd2Ftlj1rpKeSLDyNffBiV0uPsqj4lgz/18v2clppyut4Mk0ZbDtae4VyTNTrVO2UyajASwN+Bum2YNh16tO0r0eZ88wm8O6yxaTkpSwo5Ub+Nc826ArNo304DAfyZNyvg16kjgL/Azh2Edu0goucoId2HcW3XIrJXH9f2VQJdvNn0Qj//0dFRhoeHaWlpoaSkRJZYM/5LwrVr1371PQ4ePMihQ4de91I2W9NQswD4G6+ffvrpxRbvsTH+efP4Iwi8psno8Fzu3jTh3r2fz/z19/fLtmCHh4enLQP3lzQyMvLKSRVPa3R0lJKSEnJzc7lx48YvXvciAzBTratXrz7XluXmzZvk5eVRXFw8aXPtJ3XnziOrj8lsH4/r/v37swD4HEml0mkDwKc1vjX49HZxc3PzS28XX79+neTk5Bd+TVpnE8riMFQzwvgi3gW1jFA0skN4J8aS92Ot0MkXIZ/lzdwEC9ZnefJZigUrM53QLghAvdBD5v23Mc+JJVlnUSiwY2e5Dwcq/WRDIIuzT7O/yu0R/OWeYGuZLafqvNlcZs7KgmOsLDjGkVoHGfzJFx/mjNQetfL97Ko+zWmpPRaNbmytPCzzBDxQa8COmj0CADRtOvUzANZuw7HVQnYO8LBkJ4clOznTsFu4HdxhLIA/o0YNHNu2CeAvsOsI7u1qBHXpEdR9Es+OgwR1H8G69QeZHNqU8epQEMBfbN+xST8T478kNDQ0UFBQQEpKCjk5OdTW1tLb2/vMM566uroYGBi87qVstqahZgHwN14vDIAPH/Jw7D7/vHHwCQj8O7evqnD1ijy3b8dwaaCXvLw8mpubEYvFdHd3z4gh8pNA9KpGxU9qZGSEzMxMqqurfxViX4cJ9fNsWQYGBkhLS3tmpNtkdffuXZKTk18J6GcaAPv6+l471L2MpFIpdXV1M37f8e3itrY2ysrKXnq7+OrVqyQnJz/3mh9v3+ZCWz1rkgKQC7VFM0PEpvRg3ouwRT07lMVJrqhnh6CZG8L7CRbMTbBgcYoDOkXBbMzxZP6Fc2wr9pfB36osW/ZVBKBU6MjCDCOUCuxZlmMkg7/tZc5sr3Bgf5U7G4vM2VPpLAO/lQXH2F9tLwO/jUX67Ck144zUkd3VJo9sYcqPsav6hMAU+myjuQD+zBvNMGw4jlWzBaaNZhyq0+dE/UFBR9CxTRgTd7Jeh3PNOhO7f02KuLTtxafjNB4dp/Hu0MesWVEm57Yd2LTKCwAwoufohO5f67WCKXsubt26RW9vL3V1deTk5JCSkkJBQQH19fWUlJRw9epV1NTUsLCwmLI1qbi4mI0bN/Lmm2/yxhtvkJSUJPjzf//735iZmfHmm2/yxz/+kRUrVtDS0jJl95+tn2sWAH/j9VIA+PAhD8fu8o8bevxzZJ4AAoeH3uTSgDLlNTspKIx5bqLEdALRq9qUPHz46MxcW1vbS52Za25unnET6hs3bkyYyh0bG5MB+KvkMj9L9+7dIzk5+ZWGeGYSAPPy8mYBcJJ6uhP0a9vFV65cISUl5ZnvdePHHwmUVrE5NZKPI5xRSAlha1Ykc8KtmSOyQTMrDIWMAN6LtmZNmjcfJ1qxIcsbjdwg5LM9mH/hHPMvnEM1z5tlmVZsLfZDKc+dbaXeLMwwYmGGEYuzTFAptmVZthE6ZW7srfBBschCNgSyvsCETSXGMviTLzJgX5UV+rVOHKhxYEPhSXaXnZV5AiqWHsKowV4Af6ekZuhU70RfchKTRmuM6605Lj0lAELrFgsB/OlLd2PQsOMpY+hH3T+TJm0c207i1maCa9spjBu3cqpBjVMNari0HxPAn1mzIsHdxwXwZ9u6Af9OdQH8BbRrT6sv5PXr1+ns7KSqqorPPvuMP/zhD8ybN4+NGzcilUqnJA84IyMDY2NjEhMTnwmAtra2/OlPfyIxMZHm5mY0NTV58803uXPnzivfe7aENQuAv/H6xz/+MQlAGuXu9b3cv6bO/atajA7/netDGxka/P9oa19Gx8DfGbx2nOujkzcpnoymYkp1PBYtKyvrpc4ttrW1/eIE9Ez9fe/cuUNZWdmvRrq9CryNd3km+x737t2bMWuS/0YAlEgk/xEA+LSenCR91nbxyMgIqampgtdcuXkDt+oSvhR5sjLWH420cL6O8UQhNZgv4lxRTQ9DPTOMuTE2vBNtxdIkN7YWhLJM7MLceAs08wOYf+EcC5Ot2Fzgj3qBFwtSz/Fxiilbi31k8Lc06xx6VYHolnmwLNuUrzIN2VUhnAI+UO3M6oIT7Kiw5VC1GyfqPGR+gKsLj7K39LwA/nZXn0Wr8iAaFfvYXXMKA6ktpo327Kk5KQPCc43Cs4D7ag+iL90jAECnJ7p/Jo162LeY4Npuwrnmw+hLtTgi3YxLm5EM/Mbl2XFYAH92rdrYtSoKADCs57AA/txaNlDQFTZjz8Tt27cpLi7m66+/ZsGCBfzpT3/iL3/5C+rq6mRlZU3J+vQ0AP773//mr3/9K7a2trKvPXz4kD//+c/4+vpOyT1n6+eaBcDfeE0GAB8+fMjY2I/cuarM6PDfGerbRE/7CoYvPoLAy1c20jHwN3pHlGgYXM3gzWDuPfjl83NTpfE0gslueV69enXS6SQdHR1UVlbOKAA+OZV77do1srOzqaiomDabnQcPHsjOef23AGBvb+9rh6eXkUQiQSKRvPbv43kaHR3lypUrgu3itLQ0UlJS6OzspGtwELvSAhQSQlkU7oW2OIpPI1yQC7FFKTUEpbQQ3g234/skXz6Pd2RTZhBKGYGsSndnbrwFc+Mt0MoPRDXXF7U8P75IsWFDrisfp5jycYop63IcWZdng06pDxpFHmwp9mTR4yGQrzIN2VHmLgM/+cJzHKn2Zl+lMz8UGj1OBLEWGEIrlZxBs/S4DP62VJzmXKMbBlJ7dlQZoVh6iNP1doJuoG6VPvtrDwkA0OaJ7t+hup2YNRji0GrB+eaz6EsOPE4KMZvgDXi+ZZ8A/hzbjkzo/oV0nxTAn1ObBlE9pxB1Hyeo6wiu7duwbVSlp79rxp+HL774gqioKP75z39SUVGBhYUFCQkJU7I+PQ2Avb29vPHGG0ilUsF1ioqK6OjoTMk9Z+vnmgXA33hNFgAfPnzIj7eGGOld8agDOKLI8NDfaW39nqHh9Yxc3kDHwFv0jshTfXEuTcNaNF8x5ebdlmkDosmeURsbG6OrqwuxWExbW9ukzi12dXXNaArJw4c/A29PTw9isZjW1tZpPXM5NjYmm/T8bwDA/Pz8WQCcAd2+fZuOjg5CEhPYGRXKxz5O/CDyYU2kL8ujfPgq2gOVVBFqaSLmRTogJ7Jh1QVf1LND+STOgfeirVDK9mNe/Hk2ZvmyvVDEwmQb5iWaMy/RnC2FfnycYsp3mfZsLfRnc5Enn6eZsCDtLMuzLFmTd14Gf2tyzNlR4creSk/Uiu1YlWeKUrGpbAr4+7wT6FZYCrp/BhJn9pSYcaDMmm0V5zhcay/oBj7rLKD5U5PAx+pOcr7ZHIsmS05KDdGp2oNV83mBUfRhyR5ON+wUAKBzm+GE7p9Xx1EB/Nm3bCeg6wT+nQZ4dhzHqmU7Hu1HBAbSli0bCKwwZXBwcMY///nz55OSkjIt69PTAFheXs4bb7zB8PCw4Lo9e/awdu3aafkefs81C4C/8ZosAF66dIn09HTqpcWMXl7D6PDfuXFZieGhNxm5vJGuwY+4eFmNzqFl9AyvoubShzQMKZHXvwDpyEl6b2bwYGxqp4Mn06Eat0nJyMhgeHh40veeqRSSZwHgy0a6vYrGvd4m+/lIJBJKS0tpa2vjypUr07ow/TcCYF1d3X8dAEovXcQ4K433vBzYFCdiTWwgcv72LBV5sibck7nB9iwOd+WraFeUUoNZnxLAkiR35kRZMSfKCp38cNRzgvgyyZFvUpxZlGr3BPwFoF0YwPpsVz5IMmNrsS8L0s7KtLXU/ZHxc6kX20q90C1zE0wB76t0k8HfirwTHK5xZWORAXurHNCrceVIjTvrio6ytkiftUX6bCw+zvbHXT/ZWcB64VnAfdUnOV1vgmmjDYYNVuypOTnBKPpQrT4H6nY9lRQizAnWl27GqmW/sPvXehTPjpN4dRrh1H4Sk6adeHUYCQykjRqV8es8LIA/6xZFkjJjGRkZmdHPfnR0lLfeeouCgoJpWZ9+CQBHRkYE1+3evZt169ZNy/fwe65ZAPyN1z//+c+XXsTr6+tJS0uTDRmMPRjmzpXvGB1+69FW8NCbj7eB/5ee4ZU0D62m8/JWai99Qf3QWgr6v6J8UJO0vg00Xwvkx/sjUwIn4x2qF404u3HjBrm5uRQXF79SV+vhw0cpJMXFxTMGf7dv36awsJDk5OQZ8VgcV0pKyktHyD35/RYUFNDY2EhRUREpKSlkZ2dTW1s7LRFV+fn59PT0vHZAehnV1dUhlUpf+/fxIirr6WbHhXg0EiLZFBPK1/5ufB/tj1JiGGrJ4Xwa7so7wfbIJwayLsGXd8JseS/Mhm9inFgc64xiih9a2aG8G3ued2PP82GCNWsy3Fif6YlmfhBquQF8lnKeD5LM+CDJDM1CHxakneUzsQlK+S4cqAhCudCJLx6fBdxR5imAP50yZ1bknWB1vgHbyx05UuOFboUtqwpO8l3+cVbmH2d75XkZ/K0t0uekxEkAfzuqDNlTc4qTUivO1DtwqNYCw3obARAeqjuDTtUeAQBaNVs81f3bi8GT3T+JFi5tJji3GeHcZoJViwEn63fh3G7IiQYNmQwatbBs1hXAn2PrXixbNgoAML7PhtTU1Gn/peppjY6O8pe//IXq6uppWZ9mt4Bfb80C4G+8XgYAb926RUFBAQUFBdy8eVPwZ/fvX+LGVR162pdzdUTxMQRueAyBy5EMfEL94LdIh7fQMLyNov5llA5sJLlvBbkDu8gfNGXg9qtP0YrF4uf69T0JbGKxmKampimxSbl48SKFhTMz9DIyMkJGRgY1NTWvfCZvun6+T2rcsLqmpobR0VHZFvCtW7fo6+ujtrZWFlE1PlgwmUSCp1VQUDALgNOg3PZ2NsdF822gD5oJUczzdWFxsBfrQr34JMSN5dF+rE0MRCVVxMoEf76MdUMuzIavYtzRzg5naaI7cyKt+C7Ohbmx53kv5jwrk9zYnB3AN6mOzE2w4LMkG77PcJTB3/fpjuiW+LGlyIdvM6xYl+PAN1mmskGQtXlWrMwzYXH2aZZmG7K52BG9ah+2ljmyPNeQJTkG7K505Lv84zIdrnERwJ96iSFqZUfZU23GcYkj+nWOnJI4CIDwQI0ZmhX7BQBo3GAhgL/DdcfZX7tDBn97a7bj3GaNbYspNi3mnG08w0HJHkyb9NGTbJHJpFGPkw2aAgD06DCc0P0L7DoxYfu3+3oDycnJU5ru8qIA+Mc//pHW1tZpWZ9+aQjEzs5O9rWffvppdghkmmoWAH/j9aIA2N/f/6u+cvfv99Df9yHDQ29x+coWhi4rMHJZmY6Bv9Ez/A3Sgc+QDn5JxcD3lFz6hqqhPZQPapPRL0/mRQ0iuteTPWCM9Foydx9MriOXkZHx3I7Y+DZkeno6AwMDUwZGAwMD5OfnTyt8PR3pNr7lPdkt2ckoLS3tpSaMx88ndnR0MDY29twzgOODBU/GllVVVdHd3f1MA9rfIgDW1tb+RwLg7dFREuob2BUfj1pMBIqRIpRiwlCIDUMtIZIvQj2Y5+eAWnIEKxP8kQu24/NIN9Yk+aOSFsaqC/6oZIQwJ9KKOZFWLLvggWp2ECpZgSyIt0chxZO5j73/3k8wRyHdlXUZLmwpCEAhxxPFPFc+STXhk1QTPhebsqnQSQZ/X6QbcaDSj13l3mgVu/Jtlgl7KjxZkmMg055KFwH8KRWfRanEAKUSA/ZW2bE935IjlQ4ol56SRcTtr7YUwJ9i6SGOS8wF8HdMYiKAv+1V+7BvseN803nONZ3nZL0RB2qPcEiyj121ujJZNpsI4E9PsgWXdmMB/J1s0MCudY8A/ixbdLBuURLAX3DXCVkW82T+nbyKbt26xRtvvMGlS5embE26e/euzFj/jTfewNnZmfr6etk9bG1t+fOf/8yFCxdobm5GS0tr1gZmmmoWAH/j9X//93/PXcDv37+PRCIhLS2NS5cu/eqCn5cXwvDQJwwP/S+Dlx9NA/dfVqJzRJme4dXUD3yBZOBTqgfXUXTxc4oHVMm+uJ6Cgf1kXNQkvleNC307COrSpGQkmJE7z45e+yVlZWX9YuTZkx3MyWxjPk9DQ0Pk5ORMG3jdu3ePqqoqMjMzuXLl5xi+yW7JTlbp6elcu3btV6978OABUqmU9PR0wdnK+/fvv9AQyO3bt7l48SJSqZS8vDySk5MpKCigoaGBwcHBF+oOFhQU0N3d/drh6WUBsL6+/rV/H+O6+eOPhNfWsiYwGPWoSL4LCeBLPy+2JMbwRZAXS8N8UU4UIR8TxOJgNxZEuPGRyBnlFBEbUoJ5R2SHXJgtahmhfBRjh1J6EBpZYSxJduWdGEveibFkY5Yf8xLOszDJlk1ZvmzJ8uOrJCuZ/59KhosM/j5JNWF7iQ8KBY7olvqiUeTJrjI/vswwlGlzsTPfPgF/a/JNUCw+y3f5x1EvMWdflSsnar3RKrNkZf4Jvss/jlaBmSAf+IfiI+yrOfcU/FkL4G9r5WHONzlg0miDcYM1enXGHKkzEuQGP9oOthTA3+5aXcyajgngz6hhP6catAQA6NZuIIA/s0YtgrtM8e08hXenIS7tJ7Bo3kPNSNGko/heVQMDA7zxxhvcvHlzytakwsJC3njjjQnS1dUFfjaC/utf/8r/+3//j+XLl9Pc3Dxl95+tn2sWAH/j9TwAvHHjBvn5+RQWFr5wlyk7O5vhoRJGhj96AgLfpHfkB2ovzaVpeC2NI1uQDq6gdnD7cxdgAAAgAElEQVQjBf0fUjaoRUrvl+Rc2klK/zZS+w8Q26NJWLc2UX1HiO4zo/VGOQ/Gfn2rNjc3l6GhoQlfHxgYID09HalUOmXJGE9qOmLoxjUe6VZSUjJhu3cyW7Kvol/rsD58+Gg4pbi4mPz8/Alw+qIA+LTGDWgrKipIS0sjLS2NiooKOjo6fnHbq7Cw8L8OAGtqav4jAPDKjZv4llawMy4B9YhINsdEIR8RgmZcJMvC/FkU7IPWhWgWibyQ87PnG5EXayO82JAUwsciF1Zd8EcuzJYFUa5szopgQ1og70fZ8X6ULWvTfB7BX7Qla9N82JIfwg+Z3sxPOM+GLG8+SjKXwd+mbA8+TTVhRaoVG5LtURc7802auSwNZF2uPd9mmcjgb0nWWTYVWbEkx4Dvcg3ZUurE8Rp/dlQ4s77QlG9zT6Fb7iDoBq4qOMHmIkMBAB6rE279apYdx7jBkTP19pyQ2LKr+izHJFYCINSo2MfZhvMC+NtTo8fBCd2/sxO6f67tZ2XgZ9S4HZvWE/h0WODafhbb1lMYNe7lZL0OJk06gqER65aDjI7eliWxTKcJ9LPU3t7OG2+8wU8//fS6l7LZmoaaBcDfeP0SAPb29iIWi2lsbHwpYMrLy2NgYIB79ySMDM9jeOhvDF7e8BgC11F76T2kg19QMbCSioF11A5tp+TSKiqHtpLcu4D8gV2EdX2L+KIeCX16xPbqEdy1Da+OHUT2mZM3lMDNe7+8BZmfny/Y2n3w4AGNjY2IxWL6+l6um/gyunLlypTG0I1rPNKtoaHhmZ/Dy27Jvqqe7kA+ratXr5KVlUVVVdUzM4MnC4BPanR0lMHBQRobG2V5pbm5uUilUi5evCjrghQWFtLVNfO+aP/NADhw9Rp2uYUoBYpQj4jiSw9PtsbH8G2QL8uC/dBMjGZdZAhrIoP4ONiVH+KC0UqJZoHIlbeC7Hg3xAHVNBEqaWGsTQpgY2oQ70ba8HaENW9HWKOeFYJSZgAqWcEsS/bguzQ3mfff4hQHvhHbMf/COZanO6FVEIBWoR9L0+34MNmMr8RWrMi0ksHfZ6nGbMi0ksHf2lxLjlQFsrvcC9UiR77JMkarxFlgCL0i7zSapRYCANSvdRHAn0apISclTpyQOHG41h7tirOckDgKgFCp9BCH684K4E+/7uyvdv921epi3nQcPckWTtbvxbzpNPatFji0nsOi+QzH6/ezr24rFs0GgonhI9LNuLYbT7CMyRtM5M6dO1y+fBmxWDzjz0tdXR1//OMfpyQBZLb+82oWAH/j9a9//UuwQN+7d4/a2tpJW4sUFhbKpoPv3K1i6IoawyNLnoDAtdRemotkYAFVA6vJ759PxaA2ORc3UDa0j8w+BQoGdBB1LSP14l68O9YQ33+CyN6ThPYcxafrAHatB0kaCKXzVtuE+xcVFcnuP+5Un5eXN+1dsufl8k5GLxrp9iIduanU87bYxwdrnuel+ODBgyn3ARxPqaiurpalVJSWlpKVlUVzc/OMd0VeFQAbGhpm/L7dw5dxyStCKywancg4FEJFbI6KYp0omLWiILYlxvKJvztyno4oxoahciGCT4Pd+TbClwURbnwd6cGacE82iUORC7VFLtSWVRf8mB9tz/ILXqhlhLItN0KW+vFutCWbsv1l8Pd1siM7ikLRyA9gaZoTH1wwRzHPkw+TzWTSKvKWwd/nYlN2lfihleeKcpY9y9POsS79vMAQekmWMSolVgIAPFjtLoA/jRJzjtQ6sz3fnF3ltiiXnOVonRAIN5WeRLvCQACABlLbCd0/o4ZzAvjbW/uo+6cv1eNs41nMmyxxaHHAqNGQg3UH2V6zne0127FpMRekh+yr24pt6+mJhtHNewXwd7ZpGzduX+POnTsMDQ2Rnp4+489NcXExf/nLX/j3v//9upey2ZqGmgXA33g9CYDXr19/ZVuU0tJSenp6ZP/9450iOgfm0D34KX2Xt9I1okDPiAK1l+ZRN/AxNYPrye9/X9YBLBjYSlKvCjmXDpLYq0VSvzaBnYpE9e7FqV0VUe8ZgrqN8eo4hWvHaVw6zlN+pYS7D+4K7j88PCyblH1ZY+jJ6Fm5vJPVnTsvHumWmZn5i0A2HcrOzmZkRGjb8+DBAxoaGkhLS/vVXxoePHgwreeURkdHGRkZoaWlRZZOkZWVRW1tLb29vVNuNTPVqq6unlEAbLo4wJmkDHTD41jlHYhWZAyrAoNY4e/Plrholgb5oRglYlVEEKrxkagnRvKevxNyvg6sjglCIzWCJdE+yAXasirKE7lQW+aHO6KYEoJaRihfxrnydrg1mzKCeSfaSqYteaEoZ/ujlhPEslQ3NPOCeD/RXKYthQEC+NMu9EOj0Ittxf4o5bmjmOfGogxTPk835vN0Y77KMGFjno0M/r7KNGRztvXP8Jdzis2ltuyvcuNAtTu65U6sLzTlYLWrLB94ZcEx1EtNUSg5LgDAU1KhNYxK2WH21ZwWDoPUmXCw7jinpecwabDFqN4Gq2YndtbosaVqt0xnGgxl4Le9Zjv76/ajL90tgL+zTccndP+c2s5M6P5d6A+UfY4DAwNkZWXN+POanp7O3//+91kA/I3WLAD+xutf//oXY2NjdHd3IxaLaW5ufqUzchUVFXR2dgq+9uNoNh0DcnQM/J2OkY3UXJpD87AC9cNbqB9WpGZwA/n971M1pE1y7wLyLqkT3f09Cb2biO3bSfJFfSJ7dhPcpYlP13b8uvZj37obvy4TPDrOYtt6BucOG6L7Y8koy6SiogKxWEx3d/e0JmM8qfEpvFe938tGuj0LyKZTOTk5gqGOO3fuUFpaSl5e3gRroNcBgE+qqKiI9vZ2+vr6qKurIycnh5SUFIqKimhqamJ4ePg/rjs4UwBY09WHcXImOmGxbA6NRksUjbIoHCVRONviY/nIy40lgb5oJcSwJNQPOU9HlOJErI8NQeVCBOvjQvg83J23Au14K9AO1aRg1kZ7sS4pkC9j3Fmc4M7b4da8HW7NmhRfFiY4oZARgFpWCNq5It577P33bux5VHICBPCnkOPF+mxXNhf4o5nvj0qeD4vSzsui4D5LNUOxwEkGf5+nG7OrzEcGfosyjNAocmJ7sTPaeQ4oZZ1nWaYxGrmWgm6gdpktq56Av5UFxzhc6yCAP83yR9YwMgAs0cO43okTUkvO1DtwUmrHgRpzjkvOo1a+XybdqqPsqD74FPyZCuDvUffPYkL3z6HVeAIA2rUeEcCfQYMGg7f6ZZ9nf38/ubm5M/68xsXF8cEHH7zuZWy2pqlmAfA3Xj/99NOUJGGMq7q6mra2iVuzt0ZTHwHgwFt0jGyg5pIcjcPrKLy4gKKLn1M9vIfywa1UDe0ipfdzsi9uJL53PTE9a4jp1cGvcz2xfceI6juKqOcYLu2b8erUx6ntEPZtp3DrsMC62YRj5ccwK7SioK9sxuDv4cNXzyF++PDnc5cvE+mWk5PzzKGX6VJubq6sy3f9+nUZrL5ol3WmAbCzs1PwtatXr9Le3i7LsB23munq6uLGjRv/EQDY2Ng4be+f19TO6bh0NIOi2BwShbx/KGv8gtkcFc1nHp5sjolCPTaSVaGBqMVF8p6XM/LRYWgnx/BpsDtyvg58E+7D4igvfkgMRjlZxOb0CNm27/xwR75P8mF+pD0/pAawOSuc1ak+vBdlzZxIK1Yke/Jxgq0M/panuvGN2AGFbB8084JQzw1kabqDbAjko6RzKOa5y+Dv4xRTdEv9ZOD3ZboJWkUe7CjzZnuZN6pFzizJMmVziRNfZ52RadtTZwG/zTmJZqGZAP50yy1l4CdfdJStFWYY13tyvM6ZI7WObK88j2qp4YTtYP06SwH8qZXvx7TRVgB/W6p2Y9RoLIC/PbW7OSbdJ4C/0w16HJVukYHfcek27FuMcGgzwLnNBMc2U6xbDBH1+Ak+197eXvLz82f8eQ0JCeHLL7983cvYbE1TzQLgb7zu3r1LZWXllJkJ19XV0dzc/Mw/u3E7no6B/6Vj4C3ah+UfQeDQGooufkZB/4eUDm4muXcBhQNbyb20h4KBPST1KhPRtYyk/r14dXxPXP8RHNrWEdFnQGDXKUJ6TDBv1sa5xYAzNXsxqjjBuTpTTBstMGtyIm2wkBv3pt8nb7I5xONQNO5N+LIwl5eXN2MxcOP3GxgY4OLFi4jFYlpaWl4KtGcSAIuLiycA4JO6ffs2ly5dor6+XmY1k5+fT0NDAwMDAzNuqXHnzh2qqqqmHABHR0dJl7ZwPDqVHWFxaAdHoy2KRiMsim1RsXzt7YNqRAQaMZG86+7EB54ubL0Qi2KMiA983VBJiEDO14El4T5oJEUgnxjMe8GOjzp/qSLkQm15N9SOZRFubMmMYHWSH++K7Pgo0pHlSZ4y778FsY4sTXHl2xRXVLKD0MgJYWOWD/PizzM33oL3483ZlOstg7/5F86hXegvA7+FqeZoFnihU+LL1mJfNua58GWaOYoFjjJPwIUZRuwo9xLA3/KcsygWWQgAcE+5EysLjrEq/zhKuYZoZpuyv8iOXWV2aJWdZ3XBKbTLLAUxcc9KClEsPcSROjMB/G2vOsb2p7p/pxtMJnT/rFvM2Ve7jePSg5g0nsGi2RyXNnusWsw423gGfekhdtdux6rFmAMSbYGarwq7xF1dXRQVFc348+rp6cmKFSte9zI2W9NUswD4G69///vfUwoI4waev/Tn13+MpHNoGR2X5tA+/MNjCFxN0cXPye//gPKhLbJt4Nie74jr+Z70S0dIvXgQ8cWjeLWvJK7vEM7t8oT2HMK6VRO3Zj0sqw7h2mjEiTodLKRnON1wEptWRyyanTCqd8K7M472mxenDYzu379PcnIyd+7ceanXPRmRNhlD54KCghfyZ5wq5efnU1lZSVpa2qSMtGcaADs6Ol74+hs3btDZ2UllZSXp6emkpaVRXl5Oe3s7165d+68DwFs/3iauXIJ+RDLbAmNQ8QtHOUCEakgEnzl6sC0mFoUwEQs9vdgUFY5KdASbokXIR4Ui5+nI+97ObEmKRiUxgsUiH74WefNFhAdvBdoxJ9AeDXE4qmIR6y4EMjfMnjUxnsiF2SAXZsM7Ilvkxf7Mj7JlbaovapkhaGSHsjDBSXYOUDUnQDYEMjfeAq38QBn4LUy2QiPPj62FAWgW+LEmy4WFqedZm+Mo8ATULfUVwN+qXEu+zzUTAOC+Sk++yz2DeoktuyrcOFDpzZ5KN1RLrFied5pvc0+hmWUuGA75Lv84O0otBPCnWnoGjfJjE7wBJ3b/bATwp1t1kPPNNhg3nsO00RqTRhvO1FtySmrMjup9sqGRfbWH2V+3WzAxbNBwjIOSrQL4s2k9O+Gzbm9vp6SkZMYB0M7ODnl5+de9jM3WNNUsAP7Ga6oBsKmpibq6uudeM3QrmJpLH9A4tJ7mYR3qhxRoHNpI8cWF5PfPo+LxWcCcS4ok9K4muvtbUvp349uxnAv9ekT1Hiax/zRe7Vq4t2hgW78F+1Zd7NuPYFa/F+s6I9w77DghPYJlizXHJSZYNHtg1OCGTXMYWYM13Hsw0aLkVTSeQ/wywzPjgyq1tbXPtEx5ERUWFnLx4vSB7ZO6e/cuaWlpZGZmTnqq+j8ZAJ/U6OgoQ0NDNDU1UVhYSEpKCjk5OUgkEvr7+6d8knlclZWVNDU1vdJ7XL1xk/DiavQjktEJjGGnKB7NoEi2hsegHByBVkQ0a4OC+drLm83R0fwQHsJ77k587uvJpthwVOIikI8ORS0xEjlfB+R8HVgk8kbhQigqySJ+SAhBJUXEnBA75EJskQuxZWOiP3JhNiyMcUVBHMzW7AhWJvvwXqStzP7lySEQ9ZwgGfgtTLJDNdcfrYJAVPP8WZHuwufJ1nz3RBTcB0lmbC3yF8DfDzlOfJ1pIgDAneWeqBY5sL3Mk51lPuyt8EOx0JpvsgwFQPhkN3BlviHyuacF8KdbYimAv7VF+hyptJ5gBXOo1gS1sgPsrDrFkVoLDCT2GDc4YCC1Ra/OnG2VpzhcZ/4Mv0BrwcTw1qpdWD7DMsa21WxC9690uHDCZ97a2kp5efmMA6CpqSkaGhqvexmbrWmqWQD8HdRUQkJrayvV1dW/et3ATS+qLr5N9cV51A4qkt8/j8pBBcoHt1M+qE354C6Sej4j6+J6knrliexeTPrFffh2LCeudxce7Yq4NyvjXr+P4K5TBHUbYN2ihXPjUQzqt+Dcbsax+n04tTti1+bEMakRJk326NdZc7bBB0OpPxE9+QyO/nqqxYvqRVM5xsbGaG9vn5JBleLi4mn1NxzXjRs3yMnJIS0tTTDl/Z8MgCUlJZMGwKc1bjVTU1Mjs5opKSmhtbWVy5cvT9kwyasA4NDV6wTlVXIw9ALa/tFoB0Uj7x3CRt8wNMOi+MzZkw2BoWhFR7MqMAj5sFAW+nrwQ3gIWxJiWCEKQM7TETlPB1QSI1ga4YdKYgTqSZF8FeHFWwH2vBVgj3xiMO+G2vNOiB3fJ/iyJSOKdQl+LIhwRi7MFtWMMJnv39sR1ig/MQH8ZaIzqllBbM4NQSnLn2+SXfgs0Y6laU6CQRDNAj8B/CnlevLpE/C3SGzOrjJ/tpV4o1Pii0ahBzvK/PjiCRhcmGHElhIXQTdQpdBW1vWTWcNUuQngb2X+cXQrhd0/jSJDdIoN0c03YlfhOfaWWHGyyhndChOUSo4hX3wY+eLDGEgd2VR2UKCT0vMC+NOs2Ie+5JQA/nZV70dPckAAf0ckBzks3S6AP6PGw9wenfjvp6mpicrKyhkHwBMnTrBz587XvYTN1jTVLAD+Duqnn36aMlDo6OigoqLiha69eMPxMQTOp2ZwI/n971M+sIb0/mUk9y6gaHAPmZe2kT+wH3G/DtHdy8m49AgCA5oU8W5Vxb19I8Hd+pg3KxLYbYRNox5O0lNYtRzBud2Io9Ld2LRasK9WD+sWZ8ybXDgmscSg3hn9WlcMJIE4tFyg+nLXK//dXySVYzzSLSsr67mGyi+qkpKSVwKyF9GlS5dIS0ujqamJoqKiVwLOmQbA9vb2KX/f0dFRLl++TGtrKyUlJaSmppKZmUlNTQ09PT2vZDUzGQDsG7qCT1Yp+4MS2BuagFZAFDtE8WwOjkIjJArFIBGaoii2Rscy18mZr7190IqNRiEyjA+9XFkZFsiCAA8WB/ugHBuO5oUoPgv2QM7HgUVh3jL4+yTMDeUkEWricNYmBjIvzImNySHMCXsU9yYXZsuG1CDeiXhk/Lwo3g3VjBA0s0PZkB7AFwnOfBbvyOJkZ9kQyLux51HJ9RPAn1rez/D3Vao1G7M92FEShHaRP8r5XizLsGdbsb/ME/BT8VkWZZxjTZ61AP50yzwF8Pd11hm2lTsJ4E+xyJy1BQZ8l3sc5WJTdCvsOFnnw+EaVw5UO6NTYYNCsTGHapxZXXhUprWFR9lcaCADP/niw2iWGaBRri+AP73acxP9AustX6j7Z9dqPqH7l3bpwjOfgYaGBmpqamYcAPfv34+ent7rXsJma5pqFgB/BzWVANjT00NpaekLX993/fwTELjhMQSuJuMxBBYO7iSyexFxPauI791GaJsqoVIdIjv2EN2jS2j3dpzb1hLRewLzZgXcmg9iVL8Fm1Y9rFpP49h+Drs2C841G3K63hCDBhP21xph3OiEcYMHR+ucOVrniV61DybSaBJ6q7h17+XO8Y3r13Jyb9y4IYt0u3Nncvd4WmVlZXR3d08L+I2NjdHS0oJYLJZtM5eUlNDb2/u7BsCn9eOPP9Lf349EIpFZzRQWFtLU1MTQ0NBLdQcrKipobm5+oWvbLw7hIi5iT2A8O4PiUPUJRzc0lpXuAWzwCWFLeAzfePjykaMbOrFxqEdGsiIgALXoSOa4OfK1vzcasZEox4bzZaA373k5oRAXhpyPA2/7OLAiwp/NKVEoXRDxTaQP38f684HIGblgO+SC7VidGMD74Q7IhdryVZQba2O8UM8M44fUAD6NceLzWBe+SnRhTpQVc6KseDfKig2ZfgL403js//dVih0bsr3Zkh/MloIgFHK8WZxqz7xEczYX+As8AVdlOfFV+jkBAG4v9RHA39Ksc6zNsxDA344yN9RLbNlR7sreCi92V3hyuNoH5WJLlucY8G3uKb7PN0S5xFTQEdxSZsnawmMCANSvdRLAn3zxYfYVnp3Q/TsltZwAgMelZwTwp1O1m2PSIzLw21O7i2MSfSybTbBoNsWq2QLLZkusW6y5+uOVZz4LEomEurq6GQfAbdu2cebMmde9hM3WNNUsAP4OaioBsL+/n6Kiopd6TfdV4wkQWDawksz+FY8hcDuR3V8T1bkUUbP6E9vACvh2ahDbZ4yo5yTRvcZYNClj16iNXetBzjZtw6HdGD2pLnZt5zndeBrbVnuMG85j2mTHzmoDjkrsOFznyGmpD4drvDhU5Yd+dRherbl03Hg5W5znmTKPd9FeNlrv11ReXj7Bd3EqdO/ePSoqKsjOzhaYUT9t9P2fDIClpaUzAoBP69q1a7S3t1NeXo5YLCY9PZ3Kyko6Ozt/1WrmRQBQ2tWHbWIu+4MS0PaNYkdIHPLuweiK4tAIikLeN4RNIeGohUWiHRnDcn9/3nFy4gtPT3QSYlGJjmBJoC/KMeG85+nE2x6OfOjtgnZyDKqJEfwQE8KyCD++jvBCzt8eOX97lkb78Em4K3OC7Vga64NKShjqaeGsuRDABxFOfBruzOdRjjLvv3cjbFgr9pXB35woKzRygvkqyYkNGb6oZQejkx+OfJY3XybbMzfegnnxFihkezMv0Vwm5VwfAfx9lGyKcoGbAP6U8p35MsOYL9KNWZNrjXqRK4crg9hZ7sO2Uk+UC51Yk2vFhgIrARBqljiy9ElrmNxTHHoqKeS7/OPsq7YXwN/6ouNsrTAWwJ9W2WnUn+r+bS8+Kdz6LT+AYb01xyRGnKm3wLjBhrMNdlg3u3Cm3hx9iSG7avTRqtyLWaMVOtU7BQruCv3FZ6K2tva1RAiqqKhgaWn5upew2ZqmmgXA30H94x//mDJwGBgYID8//6VeMzY2RvMVU8oHFKgd2kLVoC6lAwqUD8iT2f8dyb0LSGpWJLLr68cDIXvw7VhOVI82vh2quLStI/xxB9ClZQ92koP4dZ/Fu/MsZk07ce8w4ZBkG9atZzkoOYBx01kO1xli2GCDSaMzJk1uaFec5ZjEjR0VDhyvDeRQVSAHK0OwkKSQc6mZ+2O/Dm3Z2dkTvBTHxsZoamoSdNGmUpWVlXR0dEzpe968eZO8vDxKS0u5c0fYqXzVjuNMA2BbW9uML4pP6vbt2wwMDNDQ0EB+fj7Jycnk5eVRX1/PpUuXJvwsKioqaGlpmfA+o6OjZNe1YBqTyf7ABHT9Y9gZEodGQCTbw+L43j2ADb6hbIuI5XvfQN61c0Y5LALViAjUIiNRDBexLNifOW6OzHFzZHN8FMqxEajERrAmPJh10cHI+Tgg5+PAl6FefB3hzbsBDqyI9kc1ORy11HC+j/dnbqgjn0e4sSjGQ+b99364A8vifjZ+fltkzZaccOTT/FHNDEE5IwTtnHA+jXeQnQX8KM6O5WJXwRTw5vxAAfx9mWzD0gw7AQBuK/ZnQ54zmoXebC3yf6RiH9bm2LMwzZRPxWdReAyET3YEd5d7C+BvcdZptMrsBfAnX2DKD4VnhJPAlbYC+FtdeJSjdc7C7l/REQylzuytNuNInTUnJA6clDhhUu+KXpUFO8uM0Cw5hlKJHntKz6BSfkAm1fIDHJEYsrlyj0xalXs4KjkhgD/d6l303ej7xedsOuyDXkTr16/Hzc3tdS9hszVNNQuAv4OaSgAcHh4mJyfnpV83NvaA+stHyembT17/QgoubSK5dwFpXeuJqVcjrVuHgsEjXOhVIarrW9IeD4SIulUJ6tqCc9saInuPY9GsiHXjZpza9TjdqIZnpwmmTYdwbT+HQ9t5rFtMONtkyP66/Zg2WaFTdQTDBge2VxlxttGL01Ivdlbas7/anW1lrhypDuZgZSjHqmIJ7Shn5PYvp108aZL88OHPKRm5ubnTlkX8S8bbk9Xg4CBpaWk0NDQ8s1NZXl5OV9fkz0v+3gDwad24cYOuri6qqqpIT09HLBZTVlZGe3s7V69epby8XACAQ1euEpZXxfHQZHb7x6HlE8UW/yhU/MJZ5uSHrigWlcBwvnHxQSMsCsVgERqiKLZExfCeszPvODmxLjQExSgRajGRKEaGoR4Xydsejrzt4cgnvu6sjApknp8zq6ICUUuMQDUpnOXRfrwb6MhCkTuLorx4K8iOt4Ls+CDUmeUJvsiF2vJ2iC2LYjzYmhXJhgRf1sZ58/0FX9SfGgJZlOjGgnhHwRTw0xYwazI8+OjCeT5ItGCZ2ImN2d7sLhahVRCIWp4f67M8WJ/pwRdiy6eA0E/QDfxMfBaVQmcB/K3Ps2ZZ9lkBAO4sdxcaQ+ee4mC12zO6fw5ol1uwu9KOg9UuHKlx42itG/urHdleYY1aqSkapWYT4uN2VJ5DqVRPMDV8qMZcAH8q5Qc4VG4kgL/NlXswbrCY0P1zbHV57nP19HMzU1q6dCkBAQGvewmbrWmqWQD8HdRUAuCVK1fIzMyc1GvHxu4hGTnwCAL7FpLWvpbk3gVk9K0hoVceUdfXpPbrENy1nqgeLVIvniC+T5/4Pj1E3btxbltDcMdezjcqY9Wihk/XKU43quLacQqDhu0YNu7BotmIg5K9OLTZY9Fsg22rM7pV+hjUW6JTeZqjEls2l5uiX+fOsVpf9Kp90S5xQbfMmwMVoRwoi8ROkkX54MTp3fz8fJkn39WrV8nKyqKysnJas4hrampoaWl55fcZGxujra0NsVj83CGPioqKV+o4ziQAlpWV/ccB4JMaHR1leHhYNlyTkpKCWCymsLCQ/EoJ9ol5HAhIYKd/LLuC4hQ7agIAACAASURBVND0iWBHWDxaQVFsCYlmtVcQG/3C0ImIY31ACO87uPCFmxdqEZFsCg9HLTKSbfGxzPNwYY6bI/M8nFGIFvGRjytrI4JRj49EJSGCb0V+vOPjyMIQT76J8JZt+34S4sa3MT68HWTHN9FeyF8IQTsjCsWUUFbE+/K+yAHVtDCZ959cmA2rk/xk1i9vR1gzN8qWVaneQguY7CBWp3ugnB2ARm4QmrlBqOYEsEzswvwES+bGW6CS6y/oBs5LNGdTnpcA/r7PdGDRU2cBdZ46C7gwwwidMvcJxtCqxdZsKrZEu9QJnRIXtDKtOVDlwa4KN7TLHFEqsmRvhRsr8k4IpFftJkgPWVlwjKN1zgL4W198hGMSuwmG0cck5ycA4OGqMxMA8ETd6QkAKL3y/O3d13XcYeHChcTExLzuJWy2pqlmAfB3UP/85z+nDEiuX7+OWCyePCCM3aWifxs5ffPJ6fmM/EuKJPcuILN/DYm9GxB1fU1KvzZBnevw7VhOYv9hnNvW4Na+AVHPCbzb9uIh2UdQ9xk8O/QI7DbiTKMq1q37sGh5FLPk1G7O7lpdzJpN2F97lEOSk5g0OmHU4IhRgxP7asw5KXVmU6khB2vcUS2x4mhNIHrVQWwp9mRnWRC7SsI4UX6BwJYy+m9c5eHDR558/f399PT0IBaLaWtrm/Y4uuclr7yonpxMvnr16nOvrayspL29/b8GAFtbW1876L2orl+/jrlfNNtsA1G28kXJxhsV5wCUXAPRCYxmsYM38l4hbBXFIO8bykd2rmiGRbHWPxh1USQ60bEs9fPjHScn3nV2Qi06ks98Htm8aMZFoRoXyTfBvszxcOSLQC+WhPki5+2AnLcDC4M9WBrpy9JIXxQSQ1FPikAlWcTSGF/eDXZALtAWpZRQme+fXIgtm8ShAvj7LMKJz+NceDfChsUJ7qxPDUA3LxK17BCUMgJZmerNWrEPH8XbCAZB1HMDBd3ARckOLEq1E8Df5oIAAfx9mGyGeqGnAP6WZVqxKseSdbk2qBS5oF3ixf7yQHaW+6BT6oVGsSsb8u3YW+Eryw0el1q2JUtyDGRammOAZqmlAP7WFxiiWGwkgD/VEhMUSo4J4E+3ymxC9+9AzbkJ8KcvOTcB/vQqDSbAn6H07K8OEj0r9nAm9P777yMWi1/3EjZb01SzAPg7qKkEwFu3bpGcnDwp8BkbG6O1tRVx2gVKetXJ6ZtPfv+XT0Dgai70KiDq+pqkPk2Cu37At2M5Cf0HcW1bh0vbOkI6D2PZsgGX9q04t+/HqFEF784zOLcb49F5DreOc5g2HcG+1Rg9yT70pYcwbjJDu2oPpk12qJYf4oTUlp1V5hyVOHFS4skJiReapTbsqHRFuciefZX+7C0PQrckkJ0loWwvEGFWlYFlagz5hYWkp6dPSa7yi0gikdDY2PhKn1d+fj7FxcUvFAdYVVX1SlvOswA4UU1dFzkbIkbbKQIlGz/UXEPY5h/NOpdA1jr7o+IZyPcOXnzv6MVKN1/kfYLZEhaNckgEHzm5866dM+oRkXzj44NCWBiaUVGox0SyyN+bOW6OLPL3Ylmov2zbd3GQNwqxYSjGhaGaEIF6YiSrYgJ5198BOT973g90Yk18IG8F2smkkhomgL91F/xZk+SPQmoIqulhyMf7sj7em6/j3Xk3woa3wx/5/z05BDI/xpbvxO4C+FPK8hfA39x4C5Rz/QTwt0Rsz2KxNcvS7ZDPcUct34fdpSFsLfJHq9APlXwv1mW7TNgOXphmwoZ8O0E3cHWuFUuzTQTwp17gIIC/JTkG7Kuc2P07XPNi3b/jz+j+nZRaTwDAM/Xnfz73V7GPndX6nG+y42S9MQZSM07VmHGswgTvHD9BKs3Vq1cnPEMFBQX09PTM6HM7OjrK3/72NwoLC1/3EjZb01SzAPg7qKkEwDt37pCcnPzSyRbjC3ZOTg7Xrl3j/oMfqR4xpGhwOyWDu8i/pEtm/0ay+n+QQeCFPjVCuzbi27Gc+L69uLXL49y2Bi/JTixbNmDXqop35zGMGpVxatfjbONe9KVaOLWbc7BuJ6ZNZ7Bvc8CyxQbbVkf21R7jRP1Z9tQYs7XyJMek9iiUHOeoxI21BafRr/XhULUvh2sC2FTowM5yP1QK3NlTGsa2/CAU412Qj3XldFEKGd2vvi37Iqqvr6ehoWFSrx0eHiY9PR2pVPrCk8k1NTW0trb+VwBgeXn5fywA3rh5E//UErY5RqBoHcQO31g2e0Wg4hKAhlco6n4RaAVGsdo9EM3ASLTDYljq5st71s6scvdhiYsHqz19UAoIRlUk4gsvL95xcuJrXx9WhAQwx82R+Z4urBcFoxkfhWpcBBujw1CMDmNhsKes8/d5kAdLInyQ87NHzs+edwIc+CExmDlB9iyK8mJdQhDa6dGopopQSA7hu3g/vk/w59MoF5n3n1yYLesSvH8eAgm35rsL3syPsRMAoFp2kAD+vkpy4KtkexYlO7A63QPFbD92FIrYnB+Eel4gSjm+rMnwQD3Pjw8vmMti4r5KtWFJuq2gG7gpz0MAf4+sYXwnbAdvL/MUwN+izDOoFdoI4G9FriGbis0E8LehwJgNRWcE8KdWasLGp7p/W8tN2Fpxmp1VpuyvPo9erR0GEhdOSpw4KXXiuMQR/Tp7Tktc2F9zju1VRmiWH0epVI+dVcaolh8UQOKu6tPcvH2LwcFBGhsbBak0tbW19Pb2cuvWLXJzc+nr++UhkekCwP/5n/+hpqbmdS9hszVNNQuAv4OaSgCcTCbulStXyMrKoqKigrt378q+fvfBDbIvaRHXs5Ck3hWPge8b4no3kdR/iIT+/aRcPEpi3xFieneT2H8Y9zaFxwMhR7FuUcCqRYHAbgOMGpWxatmOTcsxjkg3Y9dmyBHJXg7U7cKy5ZEx6+kGE/QlppyQnudcoxunpE6YNHqiWmrAzurzbCu3RqXkHDsr3Pih4DwHqvzZXu6DTqEXyqmOrEm2Qz3Th60FoWjliNDKiMCgMI3GkcEp+/k+rcbGRqRS6Uu9ZmxsjI6ODsRi8UtbutTW1r7SmcOZBsDXcTD+eSqUtHPIPRb5c/4o2ASzOyCObX7R7AyOY6NHKGscfdHwDWOTr4iFtp6s9QxCJSgcleAINodFoxURzWeuHrxr78RiDy+WeHkx39mZJR4eyAf4oxweinx4CIsDfFgfHszHvm6yzt93ogAWBHnI4O+rYE9UL4SjmBCG6oUIlBNFqKc8Sv2YE+jAWwH2KCSFMifYXub997HIhSXxXgL4U00PE8Dfx1EOfJvkzoI4R1YkeyKf5s/WHBHqOSGoZQejmBnI6lRvlLMDeD/OSgaEi5Od+SzJlrkJFjKp5fnLwG9cT/sCfpJyjh9yHQXwtyLLim+zzwngT6XQiUVPbf3uKHef0P07UOXBqjwDFItM0SixYlu5PSdq/dhf5cqBancOVLuzv8qdk7W+7KhwYEuZNSrF51hXYIjeU4bRqwuPcqTWcUKX8ITEYUKX8HS9/YQuYVRPyoRn6NatW/T29lJbW0t2djYpKSmkpqZSXV3N4ODglKXSvAgA/uEPf6C9vf11L2GzNU01C4C/g/q///u/KQOS8UzcH3/88YWu7ezsRCwW097e/sxt4zv3r5J5UfUxBH7HhT5VQru+IbrnByJ6NPHq+I6QbjUCOrVwbltDYKcudnXaeHceJLTHkMBuIwK6DQjtMcOqZTdmTZtx6zDiiHQzZs16GDUeY0+tDtYtFuys3sfeWj0MG6xQK9+PQb0NGuWn0Co35KTEnYM1TpyQeLO3yhX9Wh82FligWmDL+nQLlPLs2ZjhgHKWG7tLROwoFqGSE4B2noj1yf5sSgrlRJ6Y5uGhKQXAF8leflL379+XxZlNJonkVc8c/h4BUNLex5mAFBTPBfKdkReKdsHo+sWg4BrKZt9ItAOjWeMWyAonPzZ5BKDoFczm4Ci2hcfyiaM7/z977xUc5Z2mfU/VvrtbtXOwJ3uwtQcWIKIkJBRBEkkEgRDKESSCwRg82CQDiijH7n46tzp3q5MSoJwzCETO0ZgZh/HYO+PxOOzMevPvOxDIbhrv2GOwv/c1d9VdNq02T5Vo+f/juv/Xdc+ulrJCY2SD2co6k4VUu4utTc1stNkI02qZJQjE2euZq5ROx7ysMtYxXyNlsamOGFc96ScaSDvhYmOzjeUOA+H1WpY69dO7fr10YhLbHNPr3l4yilh73MScesk0/M2yiljXbsLHKRB5vI517SYyexyk9thY31LH2uN1rGnVk9RjYW5D7bQRJPykEr8WkZsRJHXA4qYGzm4uY+OA1g3+wjpEhHXWuMFf/JDG4y7gk6PfKTNIHUG9+YT3FbFmsJK4ETF7Jo1kT6jYfqaOl89o2XFGx66zWjJHBOL7KkkYFRE/Wsv6kVKWDORM9/qRElaN5D+xQaSM1SNH3VTClNMlrBs75AZ/mWeKiD11wA3+Np3NJ+nMPjf423z2MBmT+9zgL3NyHx/+4enBz1/v3/72t3R1dTE+Pk53d/efHRc/q/7973/Pz372Mz744IMf+wh7Uc+pXgDgT6CeJQD+2799t5Vo/1t48uP+7E+/oefdhCkI/NVXENjwcB3Oh5vQ3F+J5UES5gfZU4aQG8nI7m6l9FYc6vuvUX5rC/k3klC/dZQj17dReHMPqvuV1N4pRnqvHMndKo7dzKf8VjH7L79J9vmdlNyqZtPkXnZcOMK+y1VsOPUGB68IxJ7KIfNsGdsmxUQN5ZLdX8P20yr2XjCR2C9i84iCtYMSMsf1RPcp2DJWz7ZRB5uH7CR2W1jarCG62cThoS6u/Pq97/29vn37NpcuXfpW7/30008ZHR1lfHyczz777C963pUrV7h58+b/FQD4TZl6P0TfevAOJfW9JJaaWZ6jZlm+mthaC1v0jaRqHKyVGNlubSHT1ECmqYGtthYWViuZUy5lpVzHJlsjafUu0usb2NbQQqiqDm+RwGyxQJrLhbcgMEsQWKRSkX28iaRGB6lNLpIaHWQdbyJYr2amUsIMpYRInYq5WgEvjRgvjZgAo9ID/pLbHMwxCyx21bGmxURym520LifJnXbi2utZe8JEereD+Q7JdP7f4mY1CxukbkaQlN56twiY2Q3VHi7gFZ1qfI5XuW8EGTK7wd+cE2WkDOunwS+wvYKlXSIyRgwkDGlIG9GTOWpk67iFLaeMbBrTkzaqJX5YxZZxI8v7qgnqKpneHbz5VB2BPQVuveOMlpDePLfeNVnnBn9LBnLYfU7lERnz2vmnOIQvyp6SGSh4qH9Hrgoe6l/uNbGH+qe+Z/vWn7fu7m4+/PBDPv/8cz744AO3cfHAwIDbuPhZfcbfffddfvazn/Hpp5/+2EfYi3pO9QIAfwL1rAGwt7f3f3WTfvzxxwwODjIxMfGtjAf/9m//xqd/fI/ud2JpeRhE+69WcfJXSY8gMBrXL7PQ3F+J6UE8lgdbkd5di/Z+Gqr7O6fCoe/toPbOK+TfSEJ67w3yb7zCvquZiO8W8MbVHey5vIXauxVsu7CD3Zf2Un5LzJFrZRTfFFN8Q07ONRFFN1Rknskj62w+u85Vs2rkINtGK1kzWkD6RA2bJmQs7y9i07CMqIEqdp418/JpC69M2Igb0LB5zEJ0Tx1Zw3YSe82sPWkgxK4kymlgb18bA289XQH9c33nzh0uXLjwZ9/30Ucf0dvby+XLl7/XJpKrV69+L9PJDw2A33at2rPoi3d/SZ6pYxr6Io+qWFWsY121kZdNzWQbm9hkaGCbtZnAahWLRXUkGxxstTeTbnYRp7cRrzEyr0bG7GopiwQVyTYny+r0bLTYSHc2sLmpiTiHnRUmI0EaNfEu+7TqN1MhIbXZxYxH4DdDKSG2oZ4FOhmBRiURRhUrDCo21GuJcRrY0GQhusnCpo4GfK3y6fiXYLuKYJdqOvvvJXMtKV32afDzqq9hnl3MshN1bvC3skWNt6vaDQBT+61fwV9DJQHNIhL6jazuUhPbqyex30TmoJVNw1bShyykDJqI7zewbdTGyh45oR1iFpysYM6JMjJHzB7RMGkjOjc10K+9mI3DsmnwW9h5jODuEtYOVbvB37L+MlYOlLjB39qhclYMFbrB38axclYM57rBX8KpMlaPHHGDv+RTxawbd1f/kk/neziEkyeOknb2oBv8JZ/Zx9bzh58IiP4FDz7+5bf+7HV0dPDP/+ypFj4eF1++fNltTeGNGzf49a9//b1+Fu/cucPPfvYz/uM//uPHPsJe1HOqFwD4E6j//u//fqYA+LSNGI/7l7/8JV1dXdy6des7A88nf/wlw+/vpffdbfS/9zKtv8rC9XYMDW+vo+ERBBreikVzLQ3p3bWo7yeie2sPpbfiEN3ZjOzeL8i/kUT1nZ2U336dfVczKbt9gCPX97L7cjYVtwvZfekXbL2wg7JbNWya3MPW8/vIuTbl6tt9sYRtZ0pJHsllz+la9l1Uceiylr0X1GyaELNtVMLKgSISxkRknFYS2V/O1gkjwV0VZI2bp3adjlrZOupg26iLuB4ja1v1hDhVBFmURNrqyDrRgPHiBX7/LcH43r17nD9//hu//uWXX/LgwQO6urp48ODB946l+T6mk//XAPDzzz+n68wNDmhOsLHIyIo8DeFHFUTkqIgq0pIks7Hd3MxamZl4tY1scyObzA3EaKxEyQ2kmJzMqZASKtEQp5/a4rFBYyDOYJ1a4aY3MFsiZZZYYJXRzBK9jplSgZlSgVBdHavrTQTr1ayuNxHntLHlZDOpzS6SmhxscNWz+WQTASYVMx4pf/5GJcueUP5WWVTT4OdlEOFrkbG0WecGf7FtVmbW107D3wxrLSndNha3qIhq1RHTbiK6SU1Cm5GUXhvJvTYSuq1sGXSxtlNLZKuSRS0CsxueAMLGSrwbK1nXU+emBgaeFBHWIXZTA1f1KPBtLf9f18T5tBeTNa53g7+FncfYNqH/VurfK5NqD/Vv1znPwOhvq/4dfIpD+MiVr6l/p18n9cwBcq9J2HE+l10XC/nFpRJev1yO5I75W38OP/vsM9rb2/n444//7Ht/+9vfcv/+fSYnJ7/3uPjixYv83d/9Hf/93//9Yx9hL+o51QsA/AnUswbA4eFh3n//fbfX/vSnP3H58mV6enrctmV81/7tvzzA9XYs5rcicb29EdvbGajurcL0VhINv9qH+e2dqK5m4Xo7l/qHR7D/Mgfrw3y0b72J9sEhNPePUnZrG2U3sxHfPcK+q5nk33iV0ltH2H05m7wbBzh87chU/taNY+y6+Cbpk7vJv15LysQ+kk6/wb7zNawdO8CmsyW8fE7EiuE32X1ewerBIlYPFLH3goms0yp2TRrZecbEjjNmssYNRHbXkjVuJqRDRNqImeWdKlIGrGQM2InrsrC0UUuAWc5Ck4xQs5r1Ditv9nTTf//uN6p2j/9n/k2wdfnyZXp7e/nwww+fyZ/t9evXuXbt2v8VAHju3Dlu3rz5TH/PB+9+gLxllO3iBtbk1bH0iIqluWrCc5UszVWzqlxPqsrBdnMzMUoLgRUqYtX1ZJgaSNDZyTC52GZvJsnkYJXaRKBYRYatkbkiGd41UmbXCMSbLISo61hpMBJrtbG5sYn0xgaSXU7i7HbSGxuINOuYrRSYqZDgo5azwVXvpvwlNjuYVSeZHvsuNCpZ4TK43/k7acffqiDUpiKiXsUys4INDg3rGnTEHTeT2GZjc3cDG9osRB03sKRJg59DRmq33c0EMstey7ImJV726ukOaVEQ0CJhpqtyujd0G/D+GvzNapzaD/x1+PNuLidlyOgGf3NPlLKhX+0GfwvbylnVJ3GDv8VdVUT2VrrB3/K+KsL7Stzgb91wNeF9hW7wF91fRuRg3jT4RQzkkTJew8bxUuLHK0g9VU3maREvn5Gzc1LGzkk5u84pePWcir3n1bx+QcUvLijZc0HJ7vMKfnFBxe5zUnZMitl2tpbNZ6rYPFFJ9mQZCadziRl/kzVjB1g7doCt54o9QPHsb779Xt/H0Vvfdbz79XHx4yDy7zIuHhsb4x/+4R/4n//5nx/7CHtRz6leAOBPoJ41AD4ORH7868dZc2NjY9/KHPLn+qMv7uB4e/00BNY/SEd1Lwrd/Visb+9EfDca6d1YTA/eoPRWHOW3EtE+OErOjRTybqSjuF/A/qubOHp9B4r7lRTfOkLlnUJk90RU3q6k5k41VbdrKbxZQfHNSo5eLWPrmX28MvEmuy4UEj+xl/1XqkmdKCB67CD7LytYM3qUmJE8skdqWdyfy6YJGfFjYpb0F/HyWT0h3aXEjyhIH9WzfkDJy6dsZI3V8/K4g6QBM1nDdmJ7jKzrNLK0SYOvRcpCo4yFRjlBehWRJh0pLifFAwOcfvvhtJL34MEDzp496/E9+uyzzxgfH2d0dPSZfM8f91/iOn4SAD///PMfxKn4LADwNx/9DkvPWX6haCG+xMyKHA2RR1Usz9MQnqMi/KiSsBwFIUVK1gtmtpia2GJpIt3gJNPYQIrBybwyKXPLpESrLcQbbESpTWw02MiwNrDF1Uya3UWC1UGSzUmURsvcR6rfPKmMZJdrWvWbKRVIcDqYr5ZNj3yD9GrW2Ews0qtZatGz1m5m84lGElscJB93knLcRdoJFyknnaxvshLlMrLYVkfSCft07t9U17Kxtd4t+8/XImFhvTBtAvGy1BLbbmHG1+DPy1ZDco/NDf5mOWqI7tS5wd+iFgkhJ6UedwHnf80F7N1cTny/3uMuYPqw+45gv9ZytoyZWdpTy6o+gfUDcmIHVeyasJI2WkfGmJZNY3o2j+t57Ww9W0/p2XpKT/YpPZvHdbx6xkzGuIqUMSUJIzKi+2rIGBBYPVTBsoESQvsKCerNZ9sTkTGhfXnsPOupEj7tjuAvziufohLKPVTC1y6KPOBv94Wq7/QZ/fjjj2lvb//ef7H6wx/+wK9+9atvPS7u7u7Gy8vruQOgRqNhxowZ/O3f/i1BQUGcPn36uT7vRX1VLwDwJ1D/8z//80wBcGJiYjpe5L333qO7u5tr1659r7tnT/ZvPr+O/UH0FAQ+jKP+QdojCNyA+nom4rvRCHc3YHl4gNJbcZTdisfwdi45N1LIuZGC+q1j7Luayb6rmUjvlbDncja7L2dTc2fqLuC2Czspu1VDxuRuMs7uYf+ZEhIm9rJ58gj515W8cqGK1y9JyL2m5Y1LSt68omXnuJis0SoOXDKQNi4mZqSCVyd1hPcXET1cTfaEloWdx8gc17K6T0p4t4hNY2b8TlaSOmRiZaeatV1atg67SO6tJ7bNzGKbGh+dgI9ewF8vx1+nIFinJlynJcnuYG9jC7XNJ/n8a+vmHq/ju3jx4nfOY/xzfevWre/kOn4aAH722Wf/vwXAdz74CH3Had5QnyCpdAr4luaqWZwjJyJHRWSemvA8FZG5KsILVISXaQirUJNlbGCj2spGTT1pRhdbbc1kWhpINjpJNNjZZGvEV6RgdpWUeTUy0m0NzBPL8a6V4l0rJaHeQYhKwyKZgkhNHRssVrKbm0lyOUltcJHW4GLL8SYSGuzEOKxEWY1scFiJtOjdlL/UFhdeasl0++mVrHQZ8dKKp3t9s4U5RuFr8Cciud3uBn9zrRKWN+vc4C/IJjDfLnaDv7hOy1fwZ6tmnlNERp+NsBNylraqiGqvI7pTx9YhB/G9JpL6LCT3WUjts7Jl2EHagJW0ASspAxbSB6ykDJiI69MT06tlTbeajX06VnbLCW0X4d9axbzj5SzvkrGwrcINCtf2KfBrL2FBW/F0xwwoWNhRhN/XOm5I7uEYXt9XQ/ATeYEJo2KPyJjY0So3lfCxQzhqJM8N/lYP5xM7VuAGf1HDb5J5ptgDAF+9UOUBgJ3vjH+nz+xvf/tbOjo842K+b3/TuPjMmTNcvHiRpqYmfHx8nuvZ1NTUxF//9V9jNBq5e/cu+/fv5+c//znvvffec33ui5qqFwD4E6hnDYCP98Vev36d7u5u3n333Wf6+z/u9z+7jO3BasxvRdLwMB7rIwhU34nGfH8H4rvRSO6up/7hQUpvxVF6Kw7j23lfg8AC9j+CQMm9QvZe2cbuy9lU3ili16U9bL2wg/0Tb7L13OukT+4m53oVGZOHiJ/Yy5tXxSRMHCF6fD/7L8uJHjvKqpE32T5aw4qhXFaPFLLrnIaw3jxiR2rYNWkkcVRO9mkdu85Y2XLKxI6JerLGLGwdr2fzqIVV3Uo2j1hZ1akhol1J2oCNRU1S4rssLHLI8TNL8dNL8TFIWaRVEKBREKCR4y+XslijIVpvItNiY7feRPuZyWcK3I/7u7iOf2wAPH/+PDdu3Phm5eT3n9A7eZMqVz8vS1xsOKZnea6aZblqInPVRORNjXYjclSE5ioIPiJjSa6CkCNy1tQYSNTY2FbfTLhEy9wyKT4VMjLMDSwRtIQLWlarTGRYG8i0NZBqdZFua2Crs5kMRyMJVgcxpnqiDRYyXA34yBXMkgjMkgisNRpZpFFPq37zFDISGxxuZo/V9SYW6VVu8Jdy/Jvhb6ZWzHyDjHVNZpY9WvkW1WBgbbOJrM4GNrbWE99mI7HNTnKbnayeRpI77SR12EnssJHcYSeuzcyqpjoinQrCbFKiXCpCGuT4uaTMsYuYYathfbuJWY5qt1zA5F6Lmxo401VJ2oD7XcBZjZWkPBEU7d1cTtKg56aQhEGthxkkfkjtBn8L2opJGFa6wZ9fRxFJowoPAEwYFHkERm+ZUHqqf5MqT/XvvPopdwQ91b895z3zAXecq/CAv4yz+Xzy2Xcb5X744Yd0dXU915+lx+PimzdvUlBQwP/5P/+Hf/zHf8TLy4u2tjY+++yz53I2hYWFsWfPHrfX5s+fT25u7nN53otyrxcA+BOo5wGA/f39jIyM8MknnzwX+Hvc7346ievtBOwPGnvAEwAAIABJREFUYmh6mI75fgrKO1HU3VuH7eGriO9GI767Dtsv35yGQNPbOeQ+gkDF/aMcupbNvquZVN05wsGrr7L7cjZHLr3B7skpQ8jBq0d4/XIe6ZO7ee1SLq9dKiZ+Yi87LhTyyoUKosf3s+VcKZtOlbJy5BBZZ6vImKghYvAoWWcE4sdqCOnNY8uEmtWDNQR2H2PLhIEl3VWEdlWSPW7Gr62CqF45KUMm5jSXkzRgIrnfytpOHdlDTjL6HWT0OVl33MjiehUBOjl+ehn+dXLmKSUsUEtZqJLjIxNYpFQQqFASqdYRo7ew3Xmc8t4h2q7e4Lef/mXxL4/7zp07XLx48S/+7//0pz/xu9/97gcHwHd/8880DV+kxNbLDqGB2GNGVuVpWJqjnlLzclSE5yoJy1ESlqsgIldFcJ4c/wIZgXkyIvNVLD2mZr3YxCZjA1vrm8k0N5CkdxBbV88WWxOrVCZ8qxXMqZCyQmlgo9HG7Gops6ulzKuVkm53V/2idEZWGIzMEaQsVCgJUWvYaNCzVK9jjcXC+norcQ4b2SeaSWp0kNLkJK3JSfbxJtJaXCQ3O0lqcpDQYGdzayPrGqysdppZbjMS5TAR3WDB16hgtk7Aq07McoceP7PC7R5g/EkbXl/L/nvJKCK5w+5mAvEy17Khzey2Cm6eTUx4s8pNDfR1iAlolLjBX8QJFQuaat3gb3VnHXOaqt3gb0Ov3gP+nrYmLnnQ4OkEHtZ7wF/6qNYD/tLH6jzgL21c6QF/yeNSD/jbOFpNxECuG/xFD5ew+ol8wBXDOSSMF3kA4LbJCg8AfOOS2AMALW+1f+fP+QcffEBvb+9z/3n6er///vu8/vrrvPTSS8yfP5+/+qu/IiIigqqqqmd2Lv37v/87f/VXf0Vra6vb6/v27WP58uXP7Dkv6pvrBQD+ROpZAdkHH3xAZ2cnIyMjz3z8+E391h9Oo7y3Dvm91RgfZCC5mUrNnY0I91IxvX0Y0d0tSO69jPVhMTV39iK6uw/tW0WI7uQgupuD/F4xortl1NwpoeZ2KQVn88iZzKHyVhVVtyWU3Kyl7JaY0ptS8q6Lyb8uofC6nINXxBy8IiL3mopdF2rZfqacXWPVZExUkHmmgv0XtawfKSZmtIQ957WE9eaxtL+IHWd1BHYfI7Kvgi2nDSzsKGZFn5iMMSPzTpYQ3a8iYdDw6E6UkbVdWhY01ZLaX8+S4yoWt6jY0GZhjlWEr0FgvkaCt06Er0pggUqGj1JGsFpFkEpJgFxBkExJsFxFqEzNYpmGKJWReL2NHbYW8k/2YZ24wOVfvssfv8Wf1927d79V7MzT+l//9V+5ePEi7e3tDAwMcPnyZd555x0+/fTTZ3Io/eEPn3LhzkNsfecpdfSxqdxEXJGONcf0LM9TszRXzdI8DcvyNUTkqYjIVRGRryIsV0lYvpIluQqCDstYWChj3jEp/gUygg9LWVgoJbRSTZTUQJalkVSjkzidjUS9g3Szi+3OFtKtLjKsDWyqb2SLs5l0WwMp9U4SrQ6ynE0k1ttZazSzUmcksk7P5oZGFilVzBGkzJIILFQoibPb3e77rTSbpvf5Pu6kJiezVcK06jdTJSGp2eGm/PnqFEQ5jdMbP7zqxITbtCyyqtzgb12zBW+zxA3+EtttbvA3HQHzNfjzstaQ0FXvBn8zbNWsbFa6wd8sRxUrWlVu8DevsZpl7So3+PNpriWiQ+YGfwuP1xDeIbjBX8DJaiK6xG7wF9BWybIekRv8BXSUsapf5AZ//p3FrBsSu8FfQFcBiWOCBwBuOi33AMAdZ7+d+rfnKQ7hnedE09C3dvQg0aOHyJwoIuH0m8SffpPE04dJnDhC2pk8Pvjko+/8uX/vvffo7+//QQHwiy++oLq6mo0bNwLw3nvvYTKZKCkpeWZn0m9+8xt+9rOfcfbsWbfXKysrmTt37jN7zov65noBgD+R+r4Q9uWXX3L79m26urqYmJj4Xk7Rv0iZ+mQYxb21yO+tRnM7CdnddKruxFB7Nx79g/0U34qn+FY8hrfzOHI9lSPXU5HdO8qb17aw72omJbf28ebVvey6tJXXL71KwY0Ctl7YwY6Lr1J0s4r0yd1kTO6h8IaEhOkF7xLiH+V8vX5ZTOxYHitHDrHjnJiEU6VEDh1h8xkRCeO1hPblkTwuIWVcRnhfCYljMjaf0hHVLyJxRMXWUxZiBlQkD+vYfspOwqCetGEz28ecJA9YyByys224gbR+G5sHnWQPNJDR5yThpIkwg8BCjcBCtQw/tYzgOiULVXLmy6X4SWX4KxUEKBQsFOT4CnIWyRQEy9UESJUESVQEiVWESjSES7SslOqJVVjZpG9gr6OVktYB9COTtF68waW33+XqzZv/a+zMN/Xnn38+bUr58MMPp1dZ9ff309nZycTEBHfv3n1qltkXX3zBx598wvW336XjzFW0XRMU2Xo4oD3BNsFJcqWFtYU6VuRpiMxVszRvanwbckRG6FE5EflqluQoWZKvIiJPRViegiWFKoLzFCwuVBKRryK4UE5gkQL/YzLCChWEFSqZVzpl3vCtkE+PdueUS5lTLiVCqiPF7GRupZQ5jzrOaCdSbcC7Rop3jZQ5tVLS7S7mS2R4iwS8RQKBChXxNvv0uHeWRGCl0UiEQT8NfrOkAnEOG/51SuarpCxQy/DVyElvacBfpyRAp2KRXk2gTkX6CRfBJg0h5jrCLFoirDqSTzgIt+mItOtYatez2mUi7ng9K1xGohqMrGowEdtiZcMJK2uaTaxtMbH2uJmUNgcxrRbWnzQTc9JCTKuFjC4nG9stbGy3EtduJa7DSnavi/guKwmd9SR01ZPYVU98s5aNbQaSeqwkdVuJbzeS2mZkbbOS1Q0y1rWo2NimI7vPRmq/lbR+66N/1vPyiGv6LuDjfnnUSdqQmbTBqU4dNLNzzEnakIm0ISOpj/qVUw5Shw2kDOtJGdaTPKznldM2UoZ1JA9rSRrWkjhUx67TNhKH1SQOq0kYVhM/pGLnaSvxwwqie0Ss6xUTOyTn5dNGYkcENgxLiBmWsH5YzKZTGmJGalg3XE30cBVrhyqJHxWxYaSKNUNlrB4qI2qwhFWDpSSN1bJi8BjLBgtZOlBA5EA+W89In7JuznNMXHHD+ReB2DvvvMPQ0NAPDoCFhYVkZmY+tzPpMQBOTk66vV5RUcG8efOe23Nf1Ff1AgB/IvXv//7vfzF8ffHFF5w5c4bBwUF+97vffef1ZM+qb/6+dxoC9ffSUdzbNA2BhrefDoGSewc5cn07+65mcvjSdnKv7mfXpa28dnkH5bfL2Hphx3QuYMbk7kd3AStJf3QXcM+lUrLPHWP9qX2kT+SROVLEypFDxI7ns/uCgsihI0SN5LHnfB2L+/JY3JfPK5M6FvcVEdRTwLYzeiJ6qvDrKCJzXM+yHgnzW0tIGdGzqkcxdedpQM/a7rpHozIj67oMzHBWsaa1jqVO2dTdqw4zK5v0eJlrmKMSM0chxktXi3+dnAUKKTPUIubLpPgrFcxRCCyQyFgglrJAJiVQriJAosBPLGeRSEWIWE2wWE1wrZqQGjWhtRqW1NaxpKaO0AoVoWVyomp0rJeY2CAxk6q0s0ntYru2id3GE/zCfJJDtg5yG7rJc3RzxNbGq1ILr6ud5Dq6yLV1kO/o4rClkwOmVl6ra2GLYCOlQs+GIhWxxRo2lOiILtGxukjHisI6lhaqWVqgIbxATUShmvB81dS/56un1Lt8FWH5U47cJXlKQvMUBB6VEZInJ+SInLBcOaEFSgKOSgktUBB2VMGiw1JCChUE5EhZlCslPE+B3yExoSVK1shNxOlsbHe2EKurZ53WQnSdmVh9PdmOZlbVmVipMbJCYyTWWE+KzUWkRk+EWs8StY54i531Zishag1BKjWLlGoS7Q4idDp8FQp8FAoWyOWkuJz4qZV4y6XMlAnMlAnE263M+prqN0spIbnJ6Xbfb45aSmyjzU3589HJWe0yuSl/AWYVEQ6dm/IXatMQZHPP/wt3afG1ydyMIMubdcyzubuAV58wMNsucguFXtNqYObXAqG9bNVEtxs87gIub1Yw64m7gGs7tB7RMGu665jTXOGmCEZ1q5h/osJNEVzWJcWvrYK5J0une3FnLYEdlW7r44LaKwnvqfbYH7ymX/LUO4IB3YVuvWVC46ES7jyr9VAJt59Rsbg/163TTok84G/t8DGiR3M9APDWPz/8i0Ds4cOHjI6O/uAAeOjQIXbu3Plcz6QXI+Aft14A4E+k/lIA/Oijj+jv7+fcuXP8y7/8y5Qa9y23UzyPvvq7NuT3ViO/txrz25uR38uYgsA7cRjfPvA1CMzh6CMILL26iyOXtrHvaiZHrm+n/FY+uy5t5dVL26i+UzkNgcdulrH1/BukT+5m7+V8Xr04FQmTOfkm+y9PxTnEjO/n4BU5q0YOsXLkEK9dVLB2pIDIoSNkn5UQN1ZNaF8ecWM1pJ9SENhTwIqBCrac1uPXUURIVzlbTpnwby8nsL2CLWNWlnbKiOgQyBqxsb5bR1RnHYkdOlY2SFl1Qk1Ms4q0XgcJXfVs7m8gucNOpLWO+VIxs2trmV1by0KZlEClnAW1AvNqJSwQCQTLVCySKfCVyFkkURAgURAgUxIsqAiWqPATywkSqQgRqfGvVRAkUhFYpcCvXIZ/hZzgahWh1WqCK1WEVqgJe9SLKzQsKVOzuFxNWJmK4GMyQouVLC5VEVqiIKxYRXiJhvASNRHFU72kWEVYkZLFx1QsKVQSkicnOFdGcK6MoFwZi/JkBBfIWVzwyJBxTEHAMTl+BVKWHFMRXqgisFBOUNHU1xYXKFmcryC4QE7oMQWLi5QsKVQSUaAkvFBJ+DEliwsULClQEFGoZEmegmVlGhK1NtIsLrJsTWTZmkgyO0k02Yk32NhsbyTZ4iRaZ2G11swKtYFNjkZWak2EKusIlKvxkyhIdzYwX5AxSywwSywwR5ha3zZbKmXWoxVuc2RSUhtc09A3UyYwRyEl2qh1G/nOU0mJa7C7wd98jYz1DVY3+Fugk7O6wewGf75GuUf2n59ZQaRL6wZ/C60KFjdo3OBvoV1OWKPaDf78HXJCmpRu8OfnkhLSrHCDP1+XQNhxhRv8LXCJWHJS4QZ/c1yVhDS57wie01RFVJfKY09wTF+dx33AxCGdG/zNPVlK+ojBDf7mt5aQNWZ8SmC0wQP+0kbVHvAXMywmpLfADf6W9pewcrDEDf7C+nJJHK/1AMAdk4pvpf4duFj3F4PYW2+9xfj4d3MOP4t+9dVX2b9//3M9l8LCwnjttdfcXluwYMELE8gPVC8A8CdS3xUAv/zyS+7fv09XVxf379932zDxv4UT/xDddlX6VAisubMR49sHKb4VT9HNBOruHSbnSiZ5V7IR3TlE+a1DFN3cR9mtNxHfqaDwRh5FNwsR3xUovFFO4c0KKm9Lyb8uIu+6mMIbUgqvKzlyVcaRqzIOX5SxfbSM/ZcVHLqi5o2Ldew6r+DV80r2XzKSfUbO5gkZr18wkTgmEDcm5pWzBjYMCSzrqyJ1TE3s0FScxco+CakjBuaeLGVRezWZoxZ8TlQxp7mCda1KgppEzGyoZE1HHcsbZcxwVBF2XElqr535DgkLnAKJXXaCbEpeMtUyWy5itqSWl3S1zNVI8JfLmSkTMUMlZr5YwF+mYKZSjJ8gJ0gyNS4OFBSEiFWECiqCapX4V8rxKRPwK5USWKPEt0ZOYJWS4CoV/lUKfCtl+JfLCa1QE1KhYlGRnMBjUoJLlYSUKgkqUrCoREFAqYKAUjmLy9SEl2gILpQTdkxJaLESv2IZC45JCTgmY0mRitACBcF5MkIL5ATmSwkskBFQICWsQEFYsZL5JVLml0jxK5HhnyMl+Kic4CIFAblS/I8IBOdP3eNbdFDC4gIFgUelLDwsJqhASvAhCT45YvwqZCyokjG/SkaatYFwhY7ZVdLpjjfbWV5nnB7tetdIiTZYWK03Txs6vGulLNcaWWsyfwV+EinL9AZirFYC1WpC6+oI1+mIqbcS77QTZTGxxmphXb2VpAYHqY1OVhnq2GAzk9jgIL2lgczjjSQ3O0lpdpHS7CS9pYGs1mZSWpyktDhJbnGS0uwku62J+GYbG5ttbGiysqHRyqb2RtY0molyGVnuNLDUoSW5zUGIXc0imxI/q5wFJoH1J8x4Gb+Cv5lmEetOmt3gb4allph2sxv8edXXENtpdoM/L1s1Cd0WN/j7Ridwv6cTOLpF5mEGSR00eTqBBzzhL7pPiU9rqRv8RXaLCOwsd4O/oM5ylvXWuMHfwo5jxI1IPQAw+6nqX52H+rdlQukBf3FjVSwdzHGDvxVDucQ/xSQy9v7VvxjE7t27x8TExA8OgFlZWeTn5z/Xc+lxDIzZbObu3bscOHCAn//857z77rvP9bkvaqpeAOBPpP7jP/7jWwPWH//4R86dO0d/fz8fffSRx9cfPnzIxMTEjwaAly5dovO2HvVbO1De347uwWtI775G6a0sSm5uQnU/jzevp/Pm9XSqrh/k9atbee1KFkeuv0bejcPsvLSNVy5tp/J2Fdnnd5J9fid5N4rZdn4/6ZO72XHhEPsulxM/sZeEidc5ek1KzCMX35axQpJPF7Bq9CBJpwvZcU4gcugIy4ZyeO1CHREDeSzuzyX7jJzo4WqCevNZO1zFplMaFnYeI7CrmK2njSzqKGNBWzGJI3Ws7lMw92Qp4Z1i1p2UMru5jHktlaQNWQk+LjCzoZK1XTo29piY4ajCv0kgvc9BeIuG5Se0ZPc1EnPczBKzmgCFDD9BwKdWwjxBzEKFDH+xlJlSETOUYubXCgQ8gsG5CimBghJ/iZxZMgnzBIHAWjl+lQJzKyRTKmCVktBqNSFVSnxrZSyskeNTLOBbLGVBuZTZ1QIBFQpCS5WElqlYXKoisFTBggoZfmVTCl5AgYzgIgXBxVOK3aISBX5lcoJKFYSVKFmUJ51S/44pCciTMrdImL6LtyBfIPCwQFCRnEX5UvyPSFh8TElYvpzgo1LCCmQsKpbjWzr1/kUlMkIKZMyp+Arw5lVLSbO6WKY2ECTVEKnSs1prZpO9kVSbi6R6J6k2F+n2BjIdjWxtbCHF7iKh3kGs2cZag4WshiYitXoWyhV4S6YAMNHuwF+pnFb9ZgkC661WgrUaN+VvudnAkieUvzBDHUut7hl/AToVUXYTM1SS6V5QJ2eNyzy98cNLI8ZbKyGmyeqW/TdDJybuuM1NDXy8DeSxEuhtFDPPLCWtw0GAXUGwU0WYS0N4Yx2buxuIOq5n9Qkj0SdNrG81s6WvkY0dFuI7raxyqdjYZmJrfyPJ3TaSe2ykPOrsARepvTZSeutJ7rWS1Gslo99OUp+F+B4TG3uMbOg2EN9jZH1XHSta5YQfFxPaXEt4Sy3L2wSCW2tZ1FqD38lKfE9WsLJH5gGAcYMaD/Uvc1Tvof5ljxs91L/kQbkH/G14ivoX2V9M1BPqX2hfHmmnJB4AuGtS5aH+7T7naRLJPlP9vVzxt2/f5uzZsz84ACYmJj5T1+83lUajwcvLi7/5m78hKCiIU6dOPfdnvqipegGAP5H6tgD48ccfMzg4OP03zqe955133mF8fPxHA8ArV65w48YNhn5jpuJ2LBW3Y1Hf30nF7S3k30ii4HoyFRdem4ZA4V4O+65u57UrWRy89gpFt/LYeWkbOy9to+pOJVseQeDBqznsuXSU9MndbD73C3Kvi6b3eh68WkvixOHpLK9XLtSwavQgq0cP8cYlFcuHj06ZQs6KiR+vZnF/LlFDxeyYrPsqe+xMHcserbJaPSAibVTLgrZiFnWUs2lIT8TJKqK75Gwbt5M9aiNjyEZqn4UNzUpS+upZ3aFjfZeR5F4bM2xVzHWISOmxE9GiwctaQ3izhsR2G3NMYl4y1uKnlrJQLsVLW8sMrYgAuYz5IgleChHeNWL8KgSCJQqCJQoWCQoCRHIWVgp4iyXMlEvwE8sIFilZWCtjpiBhtkTAv0zGggIJ/kUCQdUKfGpkLKpWEFgmx6dQYE6ZgHetFP/yKQUvpERJWKkS/zI5c6qmIlPmlgkszJOyuEhJ2DEFC49I8CkQmFc+ZbbwKZ36WlCJnKBiGf45EgJyJATmS/E7LGbhQZEb4M2ukhJYKMXniIh5ZQKhtWrW6awkW5xsbWghy9lEms1FotVBjLGe1ToTmfZG5oikbgpfis1FsFIzbejwFgks1xpYa7a4mTp85QpSXS5C6+pYZjCwxmwmtr6erS3NJDc4SWl0kfqoNzU3ktbkYqOrnnV2C+FaFastelbUG5mjkk7DX5BBw7J6gxv8za+TsfYJ+JtZJyauxeYGf15aMcknHR7wl9LmcBsFexlEJLbZ3EbBL5lqiTlpYcbX1EAvSy0rT+g97gKGNCrwcQlu7mA/l5SgZoXbphBvZw3L2zTMcFa59YZuAzMbKt06vkvvoRLGd2nxbi5nXkslfieqWXRSROaQmfBOgWVdMlZ2y1ndo2TTiJkNA2o2DtYRP6glcUjHphETGSMGMkYNZI4a2DRqIK5DStaQluxxw1d9ysBrZ+vZclpH9mktWafq2HxKwy/OWdh0SknGuIK0cRkp4wKvnNGSOFZL3Gg1sSNVrB8pJ360ipjRElYO5bN0MJeIwaNEDh4hY6LCAwBbHo59LxC7+ciY9UMDYHR0NEql8sc+ul7Uc6wXAPgTqW8DgA8fPqSrq4vbt2+7jXyf7Pfff5+RkZEfDQC/vq+279faaQhU3d9J8bXMKQi8kYz6ra+UQPG9wxy4toPXrmSx7+rLlN0+Ng2B5bdL2X7hVbLP72TPpf0culpE+iNDSOEN8bQreMe5AjLGjrL+1D5iTx/g0BU5q0YPsmr0IDvO15JwqpQVQ7kkn6rktfM6Nk/I2XZWzRsXLOw6a2T7GT1bJ/TsmbSxcUhJVL+EjDE9S9prmHeylJD2GjJGzMybDsQ1sKJdyazGShYeF5M+aMOnUcwMZxUr27XEd1uZYatipr2G+C4rq1v1eFlr8HfK2NzTwEqHjmC1gkCZnGCZnACZDG+1hNlqCYsEOd61U1AxQy7Gt0YgQCJnhkLMDIUE3yqBBcfEzDsmYn6xGD+RjECRnEWVUubVPHKziiT4lAkElcsJrJATVCYnqFLBgiop/mUyQsqVBJTKmF0h4F0t4F8iY3GpkqBiGSElCoJKFfhUyPCuFphdJuCXIyGwRE5AsQzfwyL8j0oIKpbjVyjF50AtC8q+GtF6VwssKBUIzRXwPyomKE9KtMxIvNnOaq2JNJuLSI3BDfB8JQrSHQ34ShV4iwTmiqWEqjQk252k2J0k2R2kOVykORtIsTvJamwixmIlQqvD91GQc5TRxDKDwU3181UoSHA63FS/mTKB1EYX3o/2+T7uZXo1vnVyN7PHKpuJNQ4zK2xGop0WYhtsJLc4yDzZOL3uLfm4k4RmO1vam1nfZGWVy0SkXUewVU3aSScznoC/uBM2ZjwBf6uajcy2SNzgL8SlZqFD7gZ/PjYpS5rVbvA3o76GqBNaN/jzstWQ0G11gz8vezUpvTYP+EvstXjA39pOT4NIUIsYn5YqtxHxvJYKIjulHmPi+EGth0q4adTkoRJu6BA8cgSj+2UeW0RCuspY2lfxlCxBhduu4cCeAl4+o3VTDoN788meULF8oIiowVLWDpezfqSSzNMyPv70k+8FYteuXePixYs/OABGRkZiNpt/7KPrRT3HegGAP5H6z//8z28Eqj/96U9cunSJnp4ePvjggz8LYL/5zW8YHBz80QDwSRdy1/uKaQgUbmyh/FbWNARq3sqfhsCauwd58/orvHYli9evbKXqTsk0BBbdKuSVi3vJPr+Tly/soeBGBZsn9/LKxcMU35Sx73I1b1ysYddIMTlXNey7rGTvRTkHLqnZPimQeKqc+PEyXp786q7Q9rNqVgyUEdSbz4rBMrIntNOHSvq4hhV9Inzai1nUXkrmiB6f1jLmnSxlfb+K2P6pS/HzT5Sz9rhAaOvUntWgkwLpAzaWHFewvstA9qCL7IEGkrptrG03sqHDwsYOK16WGmZYatnQZmVts4mXDLW8ZBCxQCbBXyZjRp0IL52YBQqBgGopc0trmVdSy7wKEX6VEgLEj2BQKWF2jZj5x0TMLRMxQy5htlRCcJWcsCoFwSUyvCslzJQKeAsCC6tk+BaImV8oYkGlQEiFgpBKBT7lAgtyRQQUCgRUyJhdIzC7QoJvjohFJVL8y6QEFckIKZYTUCpnbpWAb44In6MiZtc8ClsuFOOXI54a+x6sxfdANfNLJXjXTKmOs0UC8eZ6ltbp8RYJ+AhylmkNxFrq2drYwiZXIyl2Jxss9Syt07FIpiTN2cDcrxk6ZokFlur0RFssbpA3SxBIb2wgXK9jtcVMrN1GkstJVnMTWS3NJLkcbLDbiLKYCdVqSG1yuYHfTIWEhAa7W8bfDKWECIuOUFOdm/I3r07GOpe7CcRLLSH5hNPNBOJVJybxuGNqBKwVs8AoI8iqJuWkk9VNRta1WNh4op7EkzYyOlxkdLhIbneQ2GYnvrWemBNWMrpcrGjRs7hRQ4BTzmyrmPjOeo+7gGsaVB7wF9fpCX8rTtYx21XjBn/+zQKBj64yPG7vxkpWdWo81L/kAZPHHcGYVrkn/D3ljmBktwT/9nI3+PNtKyWivcoDADPGPIOkt57Se8Bf0qjcA/4i+kpYNlDqcXcw87TMY3Qsv/X9N3hcuXKFK1eu/OAAGBAQQEtLy499dL2o51gvAPAnUt8EgJ988gkjIyOMj4/z2WffbovE4120PxYAfn1bxZdffsmDBw/QnDs4DYGat16l7NZm8m8kkf8IAo9ez6Lo1i7k94sov11A5Z1iqu+UI9yTUHa7mqKbFRTfrCT3ehWvXswh+9x+8q9L2Hj6dTaefp2+ImztAAAgAElEQVSdF4rZdPYY0eP7WTd+gINXFEQ9cgJnnCkn40z1V2GxFzREDuSzuD+XmJEKNk8ovjYG1rCsrxL/rkJCuopI6pHi216ET3sxMYMKYgfVzDtZSniXmJfHHaQMmIhukZI+ZGXriJOojjrmNFYTelJOSn89s51TURxLW9Uk9tQz0z51OC8/qSOpy453vQgvSy3hTXWkdDgJN2sIkAjMK6/Bp3wKCL10U2PEAJkMn0oxXgrR1LhRLmZRjZSFNRIWVkhYVCllbrmI+cdqWVguMFv6CG5kEhbWSAmulOFfJhBcLsOnUmCmRMLcYjEBxwSCymXMrRaYXSsQXCojsEyGf6UUvxwRPkdqWFAqYZZIYF6pGN9DNcwtl+BTKRBQKCGkUEpIsYyAYoFFR0XMrhS7jWl9BTnpNjsxeiPR6jpWqzQsV9cRIFUQY7IQZTC5Ad4ssUBcvY1wrY5AlZpVJhPxNjupThdbmptJcTpZa7EQotEwSxAIVKvZaLe5hTjPlArEO+34qpVuqp+/RsV6h5WZCgl+dQoiTDrW2s1sbW0muclJtElHnMNKQqOdhEYbMS4rAQYVMx/Dn0b6VPhLeQr8xTRZ8dZJ3EbBofUaFtUr3fYAzzZIWN1s9BwHP7Ef+CVTLUkdNmbXi/F3yFncqGF5i47MbhfLHQpiW00kddlI7rKR3uMgvddBYnc9cV0W1rebWNWqI6mnnuAWGT6NoimDiLOKpD5P9S/1Kavi1vfoPOAvpFVCQGu1G/zNPV5KRGuNBwBmPMUhnDlq9IC/dQOe6l9QVynL+ys9ADDzlOop6p/OA/6SxiQe8BfRX8g7v//we4PYxYsXuXbt2g8Kf59//jlz5syhp6fnxz66XtRzrBcA+BOppwHgu+++S3d3N9evX/9Oe2U//vhjurq6fjQAvH//PufOnZtWLnt7e/n1B7+m630d2gf5qN/KRf1WPrV3j1J4cw+Hr29DuFfC7svZ7L6cTd6NA+y/+gbbL25n+8XtlN+uYvP5V9h8/hV+cflN9l4uIPXsHlLP7iH/upj402+w8fTrZJw9QtZIPtHj+4ke38/eSxJixnNZOXKI6LEc9lxQTkPgpjOi6buAS/pz2XVOy+L+QoJ681k5UMbGriqie2vJHNfy6lkbO07XkzysZ02fgs1jFoLaaplzvAz/1mqijwvMa6liVlMFoW1SUgeteDdOHaQRbUqS+6zMfLya66Sa5J56lh6vI6HLxqY+F1v7m1jarOMlcy3zbVKSOx2E2tTTIDCnpoZ5ZTXM0Ijw0opZIBGzuFaOT0ENs2pEeKklzJJJCKyR4V8jZYbi0ZYKmRifIhGh5TJCymR4i8XMVEiYLUgIrpYTUilnXqWEmSIJC3JrCCgR8KuSsjBPhM/RauZWiJklCHiLBQKLBXwLRPiXCgQfE/A5XM2cYhGzxAL+xRIWHK5ilkjCHJHAMo2OZIeTWIOROKOJdWarB+BFqOtYVafFVyojUqUmxmAkqd5Gkt1BdlMTPjK5272+SJ2OdU9R/eJsNqLMJtbXW0l0OkltcJHscrLleDPLzUZ8VYpp+Ftq0hNh0nkof6nNLjfVb4ZSwiqbCX+dcvrXs1QCYcY6EpsdRLusxDfZSWqZGv9uaWsmrtnGGpeZ8HotvgY5K51GFhhlbvC3wCBjmUvvBn9eehFJrXYP+Eto9bwLuLRJy1ybxG0cPN8msKRJ7bEpZGOnxUMRTOmxubmFZ9iqiesyE9IiZ+lJNavbtazvNJDWayOlz0pKXz2pjzql10L2kIO4XgPre7Ss6lIT2SFn87AVnxOVbgCYOmT0VP9aa1nwBPz5t5Wx9IktIt+0Rm7LU9S/2GHBA/5Ce4+xZqjSAwC3Tag9ADD/suuZwNi5c+e4efPmDw6A//RP//TCkPH/eL0AwJ9I/dd//dc0QP3rv/4r165do7u7m3ffffc7A9gf/vAH2tvb/9d7gs+zHzx4wOnTpxkdHWVsbGxaufzTl3/E9HbldAi06O7+6RDofVcz3SAw58Y+Dl07MA2BFbcryXoEga9ceoNDV0unIfDw1UpSzxxi4+nXiT/1BoeuSKchcMu5UjLPlrHykRq496KSlcO5RA3nkXVGwt7zenZOatk5qWPHWR0Zg3LCuorx7yok67SOxd1VU2PgzjKyT5mnx8CLO0VkjHwVj7G8S0bigJFZTRXMaqpgZZeajb1G/I9LiOkxsGXIxbahBla16ZnrELG4RUVytx1vWy1e9TX4uqSk9jgIdCqm97/GtFpZ12ImzKgioFrMvLJqFhyrYnZtzTRUzJWLCaqRMruqdkqNUopZWCEhrEJGYLGEGfKvoManRiCkQsr8MhEzBDHz86sJKJHgVysQWiHFv1jCrBrxNDDNLa3F91AVfjk1BJcIzC8TfQVfEoGgIoH5OdX4HK0mskLBWr2JAKUKb0Eg0eFgySOFbpYgEKLREFtfz6aGRrY2t7DaZGbuozVssyQCswWB6Lo65n8tqy9Eo2G91crWlmYyGhuJs9tYZjAwVypljlRKakMDs55Q/QI1Gtbb6t1Uv4VqJZnNjcS5bKQ0OUltcpHY4CDabibzeCPeT8Kf1YBPncLttblqqUf2n5daQlKLw80E4qURE2atI9SqIdiiZqXTSEyTlcQWO9mdTSS3Okk4aWfDcStRDQbS253MNQlu8LesUc8cq/tdwLkWCZHNWjf487LUkthZ/2fXxHnZaog4rmGOQ+QGgHMctYSfUHlExsT3WDzuCKb0WT1UwqgODbMbq5jVWMm8pmoWnZCwokPNhl4t63u1xPfrSRowkjJgJGvASFynkphWgXUnJcR0yNjcr2d9n4LItioiumoJ6qhg/VPUv8CuElb2V3sAYNZpjQcAbp2o84C/6OEqlvQXeADglQ8fPBMYO3v2LHfu3PnBAfDv//7vuXz58o99dL2o51gvAPAnUo8B8NNPP2VsbIyRkRE++eSTvwjAvvjiC9rb23+wXcBP9vXr1+n4/9h7z+CozjT92zu7+9/ardmaD1u1tbUfLCQhCQUkgRACCRDKOXW3yMEBZ3ucA7bJKHXOOZzuczqrW91q5ZwAkZMD9thmbI8jGBvbY2Z27LneDy0ddHQaDzbCrnrRXXVXodNRLdnPT3e4rmAQJ0+eZFUuv/3uG2jf3ktDoOCNp24Igc+deQzPn3mWhsD9rx3A1qMPYtPkDmw/+gh2nmmkIfDxE7uw5fBLdEv4+VMSbJjYjQePtuCpEwo8d1KLB4/KseWQANsPi1A93EjPAu44rMbKnt1Y2vUylne9iq2j103r83qbUD+spiUsyvpkKOtV0F6oVb1qZHmbsMh7AHkdMtw7YsfWQQpV3UYs90tR2WVAXkBNH6SFQR3K2o30IbzcIwe304aF1vBGZ7pDhm09LmzqdKKo1Yg4ixArnRpwAiTi9UK6ahTX0ISEPY2IkvMRI+ZjaYsYy5rFSN8nQLSATwPKQokQSw+KkLS3BQskQqQ1iJC6R4Akvgipu/hY9HITokUCuhoWKxRg+S4hlu8WYvF+IaJFQgZMJTWKkP7kQaQ8vh8Ju5oRLWRW5OooaqoaR6LCaESuVoNFEgkWSSSodziweIYsS5xYjFyDAVvdbmzxuFFptSJTpaRvz5DJsFqtYrV2Vxl0qCStqLBZwXPYwXXYUWYlUGG1YLlWzVr24DrtWDhr2SNZJUUZZcECuRCxChGWGdQoIk2oMulQayfAcVOocBDItRiQrpWjzEGw4K/aZUO0WsiAv1SDHNlWLasdzPFRrC3gYpcZsXoBonR8LDKKkUWqUOYxo9ZvQ63fBk6ABCdAotpvxZZOJ9a4tVhCyRBjDo8NVAUsLPhb5pQj2S6e5RPcjII2HUsvkNtFsOCvtF3Pgr9UtwhpXiELAMs62BvC6/osrDZxaZeKNSOY0tqAJb5GxLXuZySnX4slgUZkhwTI75KirEeBHWM28Aa12DCkx6ZhAzYPG3DPiBFbR3XYNKLBuhElOEMyVA4IsXFUgbV9B7C8axcNgPdF0A3ccUgzZzA2Pj6ON9988xcHwH/5l3/BW2+99WsfXfNxG2MeAO+Q+P777/Hhhx+is7MTJ06cuCV4+/Of/4xAIICvv44sE3O78tq1a3j99dfR3t6O3t7eGwPqd1ehfOuVWRC4nYZA8QwIfOb0w3jpzAs0BO4+vwf3HHsEm448gIdPPIO95yR4/jQfL54W44WTYtzXvwfrJ3ajZOQZPHxMgLLhcAs4b/BZPH5MgVVTLeCSoV2457CMhsCynn0o7jlAHxqbxhWMmaOtYzosCx1EUmAPcjpbsGPcis3DZqwbNCKntQUbBsNC0dPyGOv6LVjsCbssLHQ2gttLYFmrlD5Uy0IGFAX0yHTLUdNhxbouCpt7nEiYavEtMLegKkigsNVIV4ESCTFKnTqkaYVIl4uxjC9Gcgsfi15pwMKGJho2opUCLOWLkbynGVESAeJ3NSJ5VzMSBUKk7eEjYVcjFkgFdHUrVixA0tMHkPT7/Yjf38wApYUCATIOCrF8jxCpTx1EbBOfAVdpKgWqSCs2u12od9ixUCJiARvHHoZCrp0Ch6KwxmBArFiEdIUCHDvFquKlKRXY5vGA66BQRViwWqNG/NTzFut1SJJL2ZDnoBAvl2CRQoo1JgOq7TbUO+3Y1upGkdWEdK2C/p4ydEqsJQystm+V08paAolXilHuIJCkkWKVRYdyB4E6N4UtfjfqPCSK7WZkWTSIVQuRoBEjf5YVXJRagLoIEjCZVhVSLTJWO7iylWC1g6tntYOjjC1Y49Ii16NDYasBlW0W5NnkqG2zYGu3E1VBC4raDMjxqrHYIQEnRLDgb1WrCgupZgb8LaSakONX3lT1r6rLyIK/DJ8IKa3NLAAsj+Aisn7QxIK/Vb4W+g+r6Uz2H8CqTgFrdnDjsJ6lL1g/q3W8pH0fCnoEKOsXomJABM6QDOtHFNg8qkb/H8/MGYyNjIzg7bfnppp4s3np0iXcdddd+Oijj37to2s+bmPMA+AdEh988AFCoRDefffdOQGxQCCAL7/88heDv2+//RaHDx9Gb28vLly48A9laK7++UtIL7zA8AR+jgGB+/DkqQfx6tkX0Ph6A5peE2L3uWa8dOYgdp5twvbJ51E78ShqJx7FS2dEqBh9AuWjT6B65Ck8crQFhcNPoXD4KWw5vB/rJvbRLeCHjkpQOGUNt6r/Bdw/IcWK7heR1fMS1vS9ivsOXZePKOxvwLYxHTaNarF1zIgNwzpsGjbQh1BetxiVvRr6AFvdIUFNn54++DLbhOD2mRHrPIgYZwOS3S3Y2m9HfY8NNZ0EMj1yVIbMWOPT0tWapS4ZeB0kDYJR5hYU+YyoaiNQZNdgLaFAokmEch+BUrcZUVo+DRXJfAEWvXIQUdIWxO1pQMquRiSJhVjWJELc3iZG9SpOJEDy8weR9PQ+JB/gX4ceqQDxrzYg6dn9SGrkI/lACxKf2Y9ocbhKuEQmQ53dhirKhhSFDNUUiVyTgQaxZIUM5TYCPKcdpQY91mo1LCCMFotQ73SgfKqCV02SWK5RI1oswgqdFqVWCwvwUpRycCgSJSYDSvRarFUpkaGUI0EiRpWNQLRUxMjFKjnKKYIBs4vVMnCdJHguCjy3HTVOG/KsRiSrpah1koidBX9xijD8zdwAXqAQoog0I14jYXyeMSoRaj0k8igjqtxWcLwUOK0UNvjtKHAYkWZRhNv2WgES9GLkOvQs+OP62bqAK+1qLCLETAA0taDYZ8LdphZG1rQRrBbxCqcSSZQI6Q4pVrdqUNJmRE3Qgk3ddnA7rajrIFDRbkJBmxabusnwcsgM+MsLqBHraGTAX5yzETltchYA8vrMLPir7tGx4G+JvxlLAs0sAKzr17IAsKxNxIK/VR0CpAb3sQCwekB2U7OD5QNCfHULws+zc3BwEO+88/N8hH9uXrx4EXfddReuXr36ax9d83EbYx4A75C4du0aLl26NGdAFgqFcPny5V8E/i5fvoy+vj5MTEzg66+/vmkZmi///AVUb+2G8I2XILmwB/ILDWh6fR92nn0ej518CI2vN9BOIPcfexQvnN5H6/89cfJVbJ98gYbAF04LUD32JMpHn0Dl6O/xzEkJDYG1YzuxY5JPQ+DGQwfBHTtIL4RsGm1BzXATNo3LsOOwFo8cMYE3LEdGR3gWcNuYHktCYTur5MAebBkxIi1wEIv8e5Ho34sSvwDpbU3X21gDBmQFREjyNqK8S4dtgxS2DFBY7BYg2t6AjFYxuN0EosmwNMcCWxNqOglke1U0CC5xSrG524F1IQp5Xj2iTC3IICSo8JoQbeDj7qnMdmjBCVBYpBcjTSxC8qsNSBQJsOQgH3EHGhmVqCSxAEv38RH30gEkPncAMUI+FiiEiBPwkfjMPsS/fJDWGUzd24KElw5g4b5GpO1sRLZciVj5dZiqtluRTxhRZDWB57KjiDAhVhqGtWyDDtWULTxHKBWjhLCA57Sj3Eog32REMcEGvGiJCBvdTlRRNvCcDpTbCKQqFYiWiFBgNiLboGPdf7lGhdU6DVaqFSjQqlFq1CPfqMdakx6rTTrWskfhrErgdHJdFDL0KhSTZhQa1KihCFQ5rFjvdSBOKWbA31qrEUk6GXsW0MueBVxl1SHJIKU//3idGCutWmwMOFHbagPXT6G21YZStxnVrVYkmsQM+FtoFCLXrWMtg3CCJAv+0s0ixh8N4WxGSZuRJRlT12FlzQgudysQTwkQZW1CPMnHMrcMeT4N1nVbUdd5fSGktsuM7f0U8oNqZPkkSHA1IcbZgDVBOeI9DQz4i3MfQEGnnAWAGwbMLPgr6lKw4C/Rvx+rQ3wWAHK65Sz4qxlQsOAvrX0P8nrZs4OWN+fWt7e/vx8XL178RQHw/Pnz+Kd/+if87W9/+7WPrvm4jTEPgHdI/PDDD3MKZV1dXfjss89uO/xdvHgRoVAI58+fp5dOPvnkE/T09NwcPH57CXtfew6PnNyMR05uxoHXXsIjJ3YwnECmIfDeow9j55kDNAQ+fPwl7Di2k4bAp082omYkDIHlo0/g2VMSFE9BYOnIs3jiuAwFg89j40QDtg+1YGtPMzaMilE0cAAlgwexblRKV//KBltQPSShD43SfiHK+2X0gVPQI0Jlv5I+lLJDfNQPGlDXZ8D6AQvKujVY309goStcHYl1NoDba0FGq5j2Yl0TUKKyw0RrtKW7JNje58LGbjvSHTJEWZqxmJKgkFIi3iKgD/tkiwjcdgpJFgnWuvXgBe1Y7dCBG6CQRagZrcZkPh/p+1sQ3dyERc/tQ9zeg4hS8pHWLMDiVxoRLWih4SZaKkDKU/uQ+MRuxL+0n94mnmmFts3nxuZWF1JUUhZIrTRqsdnrAs9px0q9lgFriXIpeE47FimkKLCYwHPaUUXZkKpSIEunYS1uREtEiJGKsNnrQp2DAs9pRxFhRoJMgmiJCJWkFYvVClblb41WhWSFGGkqKQpNOtRSVtQ4bOC6KKSoZDe1AbxQIUKF3Upv/2YZNSizE9jsc2J9qwNldgLLzRosmJaA8VIs+EszKrCcULPawVwfxXIJWWJRIt2iQJRWgFSzHLkOPSq9BLZ3uMEJ2FDlJ5DvMWApKUeuS4vYGb8L0wtDKwgJq/pX125lwd/SCG4hUdZmVARvzlM4zSVGskvAqBImOQXgdVtQ2K5BVacBnG4z6nssuHeQAqfXgIpuLfI65FgeEGB5QIDUGX8sTWdNn4YFgOsiyMZkBhqRHmBX/7gDShYAbhrRsOAvu/sAPvvy8pzCWE9PD95///1fFACPHj2K3/72t/jhhx9+7aNrPm5jzAPgHRJzDYC9vb346KOPbhv4fffddzhz5gw6OjrwwQcfMG77/PPP0dnZedPP9dk3n2DX+adpCDz4+k48fOL+iBB4z9EH8crZBhoCdxx7Fo8c30VD4PbRF7B+4gWUjz6B9Ydews5Tajx5XIFHj8mwaaIRj0zKsGrKFzSn7wU8NKnG8u6XkNm9Eyt6XsH9h69riGV178K9h663kJZ27Mb2cQNSpg6dwh4xdoyTKPWJkNshQVzrfnAHjFjWJqSrIAWdKhR3aOk22WIvH+t6rYhzNCKaakB+UI1t/Q5s6KYQY2tBlLUZcaQA3E4SqZSEHu5fTEnA6yCRZBUjgxCD105hjVsHbjuFDFJBV40W6PmoaCVQ6rYgSstHSnMLFr24DzGCJizZ14ykxmYGqMTI+cjcx0fy47sR09DEqHZlGFTguikUkSZU2AnkWY0Mh4wyigDHRWGlQQOui0KqRs6Aq0ytAuVmAza4Hcg1G1iwFi0NL2jkW0zgOu2osZPImFriyNCoUE6yW7vxMgm2eNzgOu2oc1BYYzYgZuo2jpNCnELMgrwCrQqxMiHi5GLkmvWoc5LguezY4nNhqV7FgL9YuRClNhMLCpcbNVhmVDE+n3iVBJv8LlS6wi3fWg+JQrsJGUYlCh2miLqA0bN0AWO0QhS5TKwZwUovexYw3ijCaqcOmZQKhR4jqtus4ARIbOt0YhUhRY5LgySrGFHmFmQ6FUikRCwAjCQPU9FuZsFfIiVAhkfCAkBOl4U1I1jSrqP/qJnOOGcjVrbJWG3i+l4L0n0CrGmXo7RTi5puPSo8EqzrN2JdvxF1fTqU96iwtkOMsl45CwA3DRtY8JcbbGLBX0pwNyoGRCwAbD7dPucw1tXVhT/96U+/KAAODg7iv//7v/H3v//91z665uM2xjwA3iHx97//fU4BbWBggAVmc5VXr17F6OgoBgYGIm4qX758+SfrEH789Z+w89wTMyDw5RtC4LbJB7DrXBMNgfcdfQYvnG7Bc6eEeGB4Dx472owdky20Ddz2I02oGdlFe39uGm5A0cAu2iD+vsNyrOnbTW8Ibj+kQk7PHhoEN4+rsKa7AVWDUmwdM2D7mBllvUq6UpHtb0ZRp5yuZmQE+ajvN81ohR1Efb8FaV4B0rwC1PaYsb7PhvoeK32wRpONqOsikOm57ugQZ21BdZsJKaQY2W416jsorPVoUWhTIMUqpVuCMWYBagM2rHJoEaXnY7FFBl7AjnIPAa6fQoJWxICOuD0HkL6nEQkHGpHw1G4sEIclZBZJRSgzGZFLGGjIqXBYkW81YtkUDBbOgqMqhw0rTVrkEgbw3HbkW400eC3TyFFoDLdiF8pFKLJNtYutJqzUa1EWAfCipSKsdznBc4UBb4VeS19PVSlQQVpZ909WyrDF6wLPZUeNw4blevX1Cp+LYgFhtEyICuI6zKbrFCilLOC57agyabHGpEO8kukDvNKsZc0CVjitiFWJWO3gGo8NSXop8kgDqt02cFsp8FoplLotSDZIGT8Lrp+9HZxpVSHFImUBYF0bSbf+p3OVU8uyj0uySsAJ2lDmN6MuaAWn3YbqIIH1nSQy3QrEWFvo37EEUoBMt5y9IdzJ3hBe41ch1t7EgL9oqgEFQTULAHk9bCHpTL8YiZ4mWippOnM9AtbsILfPgDjvfiS2HkRWUIjCTjm4/XqsGzRiw6AJG4eMWD9oQN2ABveNWrC2i4+lwX00/BUH2a3fJR278c6lj+YcxkKhED7++NYFpX9Ktre3Izo6eh4A/38e8wB4h8RcA+Dw8DAuXrw45/A37TIyOTmJb7/9NuJ9vvzyy5+lQ/jh1ffxwtlHaQhseP1lPHTiPgYEPnLiabx0Zj92n+PjwHkFHjy2B3UTT4A38RR+f6IFpaO/R+no71F/6CXcO9lEQyBn5FXU9L1MQ+D68YPgjDbQEMgda0L1cDMNgbxREbaPq3HPhB68YSVK+0WoGVDSVYflHY1YN6SnITDJvx+bhs1Y5Dtwva3Vr0d2UIK8DiXW9xOo6jaC10MwDsqqLiOyW+X0IZtgb0GZV414WwsyXXLUd5EoajOgvpNEAnF9xivJJgYvRGGxTRZeDDC0oKTVjI3tTpR7Lcw2sEkGXps93B7WCLD4YBPiX9iDBaImLHpmN1L5AhbEbGh1YrOfXSFbIBci06DGFp8LG7xO1m0L5EJkGdXY5vOgxKxHnEzEgi+Ok8JygxrVdhs4zuuQFycTg+ey0xW96czUabDZ68YmjwurTXoW/FXarazXyNApsaU1DIXlFEFXJ2PkQlSSZtZ7jpULUWknrn+tECHHrAPPbccmnwsVDgLLZ1jC5duMSNBI2Y4gEdrBiToJcmw6uhKYblKgyGHCtqAbXB+FSg+BVZQOcXoRYnRCFLiNLPgrb7Ww4C/aKIg4I1gTsLJmBBMJMTIcCkSZWxBt5iPDoUBBqwHbepzgTLmHVARMWNuqQb5fgzh7MwsAy0IGtodwp5kFf8muFixtFbGXRHrNLPgrDClZ8BfnPoC1HTL25vAAe3M4OyRCov8ALTid2taAVR0ibBzQo6JTisp2MSraBKgKCvH0gBnvvfcerly5MmcgdvXqVQSDQXz22We/KAA6HA6kpKT82sfWfNzmmAfAOyTmGgDHx8fxzjvvzNnzTVu6hUIhXLhw4Ufh7uuvf74O4cWv3sVzZx7C4ye349Vzz4Wt4M4348Uze7Hj2FPYda4F3EOPgDOVO8+KUD3+GKrHH0PdxBN4YGQ3DYE148/ikWNCGgIrRl7EjkkhDYEVw6/gnsNiZPe9gPLh/XjwiBpPHDWjdliMZV2vYmX3XmwZ02Jx+y4sbt+F9NAebBsz0i3gpMAebBwxYLFvPw2CJT0KlPYowek3on7AjDUhOdb1E4idcRCWd+mxuk1BH5gJzmbU91ixyN6CNLsAxS4litv04HWS4WrNVPtuiVOG2iCBGMaWpwrbutwo9poYwFDoNqHKZ8UCXRgCY7RC1PpI8Hx2lERoT66lDKjzhrXvCigTY7u1zEGg2mVDglKM5QY1apwkome0RrluCvlT7eES0ozV5usLGIsUYlTZrahzklhr1rM2c6ezym7FRo8TVZQVKUoZA/LqnBQWKaT01+kaJaooG2awN9AAACAASURBVNa7HKh3UYid9VzTrzn7NVYZtdja6gLXRaHIZkLCVJUvRi5EvkHNgsJElRQFsyqeyRoZuG4KPI8dHDeFQtKERG0YBKvdNhb8RakEqHATrM8726oJL4jMqAZGa4XY0OZAqduMOj8Jjp9EmdeMtQ490q1yFgBygiQL/tJJOZJtEhYActptrBnBHLcmbEU4S0uwLGBCAilEtkeF0oARtSEC23odqO2woKRdj5U+BeLszYizNyPLJ2UBYH0vwYK/7DYZ4t2NLAAs61CzALCu18CCv+TWBmQG+SwAXD9oZLmOFHbLWK3jRf69cB/qR29vL4LBIEZGRnD+/Hl89NFHuHoLG8FfffUVAoEALl+e27nCf5RGoxFZWVm/9rE1H7c55gHwDoq5BMDDhw/jrbfempPn+vOf/4xjx46hq6sLH3/88T+8/7fffotAIIBvvvnmZ73eO1++g0dP/B7bjt6HbUfvw65z+7Bl8mFsOPIANhx5ALvONTMg8OUzQhoCq8cew1NHm2kILBt5EvcO76chsGj4WTx+TI51Yw14aFKJB44o8fhRA5Z17cSyrp3I7NqJ+w9psbTzZdpd4J4JHZZ27KFBsH5YhZzOZhoCswMNqOtRY+OQGZW9GqT6m7Bh0II4z0wxXA3WtCvoAzHB3Yz1fVYkOJuR0SpBXYcJuU4pij0qRisuu1WFqnYLY44rjRBgU5cDNQErYsyCsFOERQRukMISm4IBgnluA7aG3Mi2aRmwkWPTotZrQ4JOjCi1ACUOEwooIxbpJKj12JBHGhmVrWStDOu8DnDcFEoodgUtTadAvdvOagPTVT8XhcVq+dTWMMXY0q1zkkiasVSyUC5Csc2MdW4HtnndiJWx28TFVjOWapW0p28FRaDebUcZaUGZzcJ6/Ti5CNUOG1PjUC5CAWHEFp8LdS4Sq8y664sgciFytArW95muU7LawdEKIThuEpUuG7heO6rcVqwktIhWRfYITtCKsZrSsZZBytwWLJjVDo7SClDuIbBQL0I2qUWFlwDHT2J90I4SrwnpNjkDACvaLCz4y/fqET0lHj0zS/xGFvxVBMysucEYawtWzthQnxaXXt9FIs+vRVW7CdxOAtwuArUdZpR26JDRKkaM4zoAcnpMLPgr6WTD30L3fuRH2ByOVP1bGmhBalsDCwAjLY+sG9TT8PTpp5/ijTfewMTEBEKhELq6ujA5OYk//OEP+OKLL34SiH3xxRcIBAJzWlW8mZRKpcjPz/+1j6z5uM0xD4B3UMwlAB49ehRvvPHGLT/PlStXMDQ0hJGREdrS7WaqhYFA4KbvHynf+OJNPHD8ERoCd5/bj82TD90YAs/OgMDxx/DMcT4NgZWjz+CFkxo8dkyJ+yelKB3ejUeOqrGi50WGG0hW98s0CG6bUCK7ey8NgXXDEhT0ttAQWNQnxPYxMzYOm7Dc34hE31QLuPUAfWiVdquRG5LTh1uitxEb+gnEuRqR3ioEr5dAbbcZpW1aRqutOKhHXpuWAYLFAQMqgmZw2q1ItYjoCk51wIqoGQAQZxGCGyRR4DKAF6CQZJYiSsfHEkIBrp9EipFZdar2WrHR70CWRc2qXK2x6cDxkOB6KKTpFQzoWW7SgOuhkGPWguMisXiGb+4CuRArjBpUEEbkGdSouEHVL58wYqvPjRKbmVXFW65XodBqmtLvk6PaEW4XZ+k1qHWQSFBIWM+XZVBjtUmHRUoJSmxm8KaAMF0tj/geFsqFqHHaGO87QSFGEWHAVp8bFaQFS2d8X/EKEVYZNaxZwCyTBmkGBXsW0E0ijzSi1kOC46VQ4jQj1ShHjdcWcRM4bWoTeGZyIohIx+lFyLFraf3ARUYxMo0SbA05wZ1yDsnz6JFslSDazMdqj5YFf9VBtoVcHMFHllvJAkBOh421OJJiFyPFLmLNDnJmzA7G28NWc+t6rKjrMoPXTYDTbUZ5px6rA3LU9BhYAFjbq2fB36LWA1jZLmIB4IZBEwv+VoYESGnbzwLAtj+cuGEF7/3338epU6cwMDCAQCCAoaEhnDlzBh9++CG++uqrHwWxS5cu0f+v+yUBsKGhAdXV1b/2kTUftznmAfAOir/+9a9zBoAnTpzA+fPnb+k5pp1JTp06xbJ0+0cZDAZx5cqVW3r9s5fP4f5jDzEh8MiDNAS+eq6J2Q4+I0D12KPgjT2F7UMv4+nDYtx7mI+ioReRO/AsHj0mx+r+F2j9vx2Tcqzqe4WGwC0TUqzt3UtDYM0wH+UDfBoCuSNyPDhBoHZQhdTAfiS37cXmERMSfXvpFnB5rwprQpLrlle+RqwfMGOhez/SfS3g9VlQ30egOKRltM0qgjrG1mUM2QRulxVLnFJUtptR2W5BrJWPqqAFqYSIcZjntepR3mbB3cYW5Ln1qGmzIcEkBidAIdOmYogNJ5ok4LZRqPZYUew0X3cP0QhR4SZQ4jDTAFjusCDbokWCRoIalw35NuMsTTwDCm0mFNhM4LgppM6CwDLCiESVBCtNWvDcFPIsBhq+iqwmrDBo6K/TNHLUOknUOGyoooiIen3RMiHq3XbkmLTguihU2a1InqocrrUYsEynYt0/WSVFOWlBwZReYaWdwGK1DLER4G86K6Ys4qZziU6JSorAOocNeUYNEpUi+jNIUkuQQ+hY8LfKqqdbw0y9QApLTAqUOS3gtFKo8diwhtShzG1hgd4qSod4g5gNhX6SJSKdqBcilZCxZgfXB+0o8BhRM7UxXNlGIM+jR5ZTwQJAboeNBX+pdglSZlnLRVmbwemwsuAvy6NguYuEvYVNrNnB4mB4czjVLUCWU4iqTgN4PRZsGyDB6TWgtEuFFUEhErwHUN9vZMFfiq8By4ItLADcOGRkwV9elxhfXr05QLt06RLeeustHDlyBJ2dnejo6MChQ4dw4cIFfP7556z7f/rppwgGg78o/H399dd45ZVXsGnTpl/7yJqP2xzzAHgHxVwC4OnTp3H69Omf9dhpS7dbcSbp6OiYE2Hrk5+fwn3HHqQhcM/5AwwIfOVsE+6bfAnPnubj2VMiPDC4D8VDT9Ei0I8fl6Bg8Hl67u+BSTHyB3bSELjlkBBFA3tpCKwZbkbVUDOWde1ETvcu3DOhwaOHCeT3CJAS3I3Fwd3YNmZEctseJE5lQZCPlcHrNlZLAo1hqyvvfqT6GsHrN2HjgBVrgtdbwHGuRpT7VYizN9IQmOLmo77HihiqEVleOeq7Saxu1YDbaWPMAsYSLeB2kEixTWm/mVpQEbCA206xZgFjjULU+m1YQaoRpeOj2G1CiduMWJ0ItT4Saygdq0XJaaWwNeBGwiy3iyilEKsJPbhuEus8drZzhlKMKocVdS4SVQ5rRLjKMWmxzedGAcFuE4e3du1YpJSgnCLAdVHImtroTVRKWC3c6TbuZq8L6z0OFBBGxMy4LVUtp6uIsx+zweMA10Wh2mHDEp2Sfn+FEWYBF8iFqHNRzEUXgxqlFgOqzDqs0MqxcMZnlKKTY4VFy/rs8kkjFmpErEort5VCrFaE1aQO1V4bOD4KZW4CFR6CBX9FLhOip/yDZ2auRc6CvxWUGnEmEWt2sC5gQ5SxBRmUAsWtJtQFrFgfolAdtGCFS4kYomVG9Y8tGp3lUWIh2XJTuoFr29SIngV/C6hGlIbY0jGVnUaW5Vy8swllnTqUdGhR12NCfZ8FvD4z7h0mkd8pQ3qgiYa/9LZGZAQbWQCoPT/8syDr6tWr+NOf/oSzZ89ieHgYwWAQ/f39OHnyJP74xz/iyy+/xMcff4yOjo5fHACffPJJPPDAA7/2kTUftznmAfAOirkEwHPnzuHEiRM/+XHffPMNben2+eef/+zX7+7uxqeffjon38vkZ0dxz9EdYQicvB8Nr4nw8hk+nj/dgu2TL+HZU3xUjD5Jt3wfnDiI0pFnaAh86JiArgLmDjyLbYdbUDa0m4bAurGDqBtpogHwoSN6PHLYhGWdYSeQ9NAubB83YHFwFy0zwR1SISvUREPg8vYGcAd0SPDtQ6r/IOoHDdg+bMPyNgk985TibUF9H3NAPqdNjvJOfVg7zd6E2i4LeF02FAb0jEN3tU+DsqCJUZ1Z5pJjW48bq11axhxYmc+MPJeeAQMlHhM2Bp1YSWoizpiVuMzIMCtR5yURrRYiSiVAil4GbiuFLLOGhpgqpw0ZBhUS1BLUOG0omKENGAYlEikaOdK0CpRbjVilvw5UGXoVSsnr83mrTDrwXHasMeuRopKi2s4GvOkFkS1eF/IJA+u2WocN8TO0/1I14XZxvYtCtYO9CBIrE6LWQbKu55h0uMfvQb5OhWUzgHCBPLJY9AK5EBz3dSiMVYiwUq9EgU6JCqMGWXolFiiuw1+qXoFlZhUL/orsJsRohBEhPEotwGKjHMVOMzitJDg+ErU+GxIMIgb8lblNLPiL0vNR4jWz4C/XpccCI5+1PFLVRtAzgzFmAVY61dgQosAN2VDXbkVJmxFLnTJEEc2oiqAbmOvTIHoW/C0gG1EeYXM4km5gtL0BBe0aFgDWdptYCyVxrkasmPXf1Zp2Be4ZIlHfb8L6ARN4/QZU9KhQ2C3Dx1cuzQl0ffHFF3jnnXdw9OhRdHd3o729HUNDQwiFQvjkk09uaZnkp+aOHTvw9NNP/9pH1nzc5pgHwDso/u///m/OAPD111/H0aNHf9JjLl26xLB0u5XX7+3tvamFkZvNiU8n8cLpRmw+8jQ4hx7Bi2daUDv+OD3zt2PkVQYEPnacj/LR52gIvH+yCeXDr9AQuG78IOrGDiBvYCfuOSTDQ0e0DBHozO7w8sdMHbGNoxpkhg7QELi2m4/KfgUS2/Zgcds+8IZ0uH+MxNK2FroFvLJdhIpu3SzdMxGWegT0gbY6oMA9A05kt6poV5BoWzO4XTZW+62y3YxMQgReiEQaJUOUuQUr3WpUB6ysQ73Sb0G134pSr5mGhRi9ADU+G3IoHQ2ACQYxeH47ip1mVHlsWKBmQkq0Woj1fge2tLlZ828LFEKstujAc1GovUFLNcesw1af64ZVvzVmPSooAjyXHavNeqaIM2FktHYz9SpwXRQqKQI8J8Wo+M2cH8yZWjKZ2S5OUUlR52TD33TlcfY8YZ2TxDa/GzkzlkOmk+umIn6vXDd1XShaKUa2Vo5iowZcuwXLjErG55pqkCPDrGLBX6nLEv4ZzMq6VpLeFl5h06DSa8W6NjvqWq1IN4rDP+Mp+KvxW1nwF2XkI8+jZ/2eFLeyfYXvNrWgzG9mzQ6W+k3I9WpRFbSA22FFTYhAgV+Hug4LC/6KgloW/N0IACs69Cz4i3Y0IK9dxQLAuggLJXHuBqwIiFkzhbuPhm4LgF29ehWffPIJjh8/jvb2drS3t6OnpwfHjh3Du+++e9uXQjZu3Ihdu3b92kfWfNzmmAfAOyjmEgAvXLiAw4cP3/T9I1m63UoODAzgww8/nLPv5y9/+Qt6/jQK7qFH6Zm/F8+0oGbG4sfTJ1sYEPjw8WZUjj5PQ+DWIwdQO7obvLEDeHhShfuPKLBhTEJr/2X3vIp7DqlpCFza9TLuOaTF0o5dM4zkRSjqFYW9RoN7sX5Yi/qQAultjXQrqqRHyZgDjPfux4ZBC+LdDfSBleETYdugHaUzKiTLvFJUdZhpCIyyNWGJW4qaDiJcBWzVoC5kRYKFD27IxtAFjDK3oNBnRIHXgLuNLSjwGFDmNSPGIEBtmw1ZUy3g6YzWC1Djs2J9mx1LzUoGaKywasBppRCnESFWLQSv1YH4qXbwaqseHI8di9QSGnRqp5ZAElThNm2R9bp0ykK5CJyp9mn0lExMnYukZ/dqHTbGBvA0EPJcFNa5w+1gFrBJw8CWpJShym5DnZPEkqmN4GyjFlkzZgunM0YmBNdJoXhqOWRmu5h7A7HoKoeVbnMv0SlR5bCFJWDcFKv9vUAe/hwiAXI1Zab/naKSIN+kRRVlxma/EykGGeOzX2yUs34e0y4isxdHojQC1LZeXxJJNEqQ7zRiXZsd6wJ2FHpMSLZIaACsDdhY8Bdt4mOVS3NT8Bf+HdOzZgeL/QZEEc1YbJcg36dDTYgAt9OKLT125PrVSHC0zGj96iNW/4pC7OpfZaeBBX8xzgbktStZAFjbY4ygJ3gQb3764W0Fsffeew8DAwP48ssvcfHiRZw4cQJ9fX201My5c+duWWomUtbU1KCpqenXPrLm4zbHPADeQTGXAPjOO+9gfHz8H97vu+++w+nTpyNaut1KDg0N4f33359TAPzLX/6C0AcDNAByDj2Ch0deZkDgQxN7UDn6FA2BDxxrAG/sFTwwKcSjxxTYdliEmtFGrOh9ESt6X0Re/y5sGZfREJjZvRM7ZlQCl3a9jPVjMqzqPki3gzeOaPHguA3LQ830nFFNtxJpMyBwSbAJ9QNMPbPs1haUh7So77MizStEtKMB1d0mZHgljApJTZcFS9xSGgLLgkZs6LYjx6NmHLyZLgVq2q2MAzrfa8CGkANZlIo1C8hpI7HEqkCUjo9Sjxm5dgMWaASo8lqRSxlY0FHrJbGpzYUUvZw1z5ail2Ojz4X1NxCDXmnUoFSvRr5ZG/H2JLU0vGlLEawN4HBFLlzdC8OgHatMWlrOpdZBsWRhYmVi1LscU2LROhb8cSJU/tI0cmz3e8B1Xp81nLmkkqCSsN53rkWPJLUUKRo5KuxWcN12FNhMKLAZkTADiqez3EEgOgIUFpmut9WXGZSocFjA8VLY3OZEvFbM+DmkGGRYalFGlI2Z3c6P0gpQ02pjfL3MqgLHT2JdwI4qH4EcpwbRU21gTtDGgr9oMx/ZbjUL/ioDFhb8RVmake/Ts5ZHSgNG+t8LiGZkOOUoaTNiUzcFbieBipAR2T4FFtobkeuRRqz+FXdoWPBX2aVnwV+M6yAKOtiC0g+MOG57K/add97B0NAQ6/pnn32GN998E4cOHUIoFEJnZyeOHDmCt99+e040AwsLC6FQKH7tI2s+bnPMA+AdFH/729/mDJQuXryIkZGRH73PP7J0u5UcHR3Fe++9N+cA+Je//AXud0MMCHzpDJ8JgYf2YOuhPfj9cRkenBRj+2E+yoavz/yVD+9B/TifhsBVfTtx/2EVAwLvO6TG8u5XsbTrZWR0voJ7J3TYMW5B9pT+X0pgL7aMmpDo30NDYEG3FAXd0lmaZEaktzaguFWKopAaSZ7wHODMgy7dK0JtN9NjdalHgi19Dqz1665bw5EC8DpJxM6uwLQZUROwosxnpis7sWYBOEGSZSmW7zRga7sbi01yFlBUeKzItxuwxKxEjYekW5WLdBJwWilkzpgFrHWTSNUpEKsUodppQ+mszdl8nRLxSjHileFZwWLyelVwiU6JohnLGRk6JXguO9aa9UhQiFETYdkjWiZEsdWMba0e5Bh0LADMs5iQrlHSX2cbdeA57SixmcF1Rq7wVdoJLJRfdyrJMelQpFOj1k5guVHDgr+leiUyIyyJpOuUyDHrUEpZwPXYUUKZkaASY7lRjVSdnAV/+TYjYtVi9pKIQUWLb6+x6lHnCfsLb2pzIVrD9BBO1EuwzKpiwV/pjaDQZ2NUgOMMIpR5zOC02cAJkChpNSGNlOFuUwvqgmzR6BgLHyvdKhb8VQUsLPiLIpqR79NFhsJZCyUxthYUuZQoDxrBmdISLAvpUddlYugITmdpp5YtJt2lZcFfrPsARv/45m0HwLfeegsjIyM/ep+vvvoKH3zwAU6fPo3BwUEEAgEMDg7i9OnT+OCDD36WhMzKlSthsVh+7SNrPm5zzAPgHRRzCYAffPABBgcHb3j7J598gu7ubhw9evSGlm63kuPj4/jDH/4w58/7+eefo6enB8LDWgYE7jwjxGPHG/HweCPWjb6Kh44yFz/Wjx9E1cg+GgKLh17FlgkRDYErel/Eg0c0DAh85IgR908YsLanGYvbd2FF5wHUD2sYRvTrh3VIm6E7tiTYgHVDhrAjQaccJT4J1vjEjA3gGGcDqruNyGgVMwfee8xY6VegvtuGZW4ZoqxNKG83YblbwTg0021ClLaFRXzzWnUobzMj2sxHXdCGZKuE0eJLtkrACZLIsCrB8VOI0QkRpRUgySQF129HokFCQ8UCjQBcH4Vqjw0FdiNrYSFWLcI6nwOb/ZFnAddYDai0GpGnVUas+uWYddjS6kKuWRcRyDJ0StQ5SfBcFDJ0ylm3qbDWbKQBb63ZCJ7TjmyDFkWEGYtV8oi+whwnhTS1ArUOEjV2G1Km2s1lpCVie3mxQozlehXiFGK6XZxvNWKRUkK7nczMWIUIxRGs5ZLUUnDcFLhuO8rtBJI10nALWCNjLNVM5wqLJuLWdTGhD/s0a6UospvB8VKocluxoc3Jgrx4vRhZNvaST5HLxNoajtLxUee3sRZHchwaVLRawAmQqGmzItejw0KLAJx2Kwv+oonmcFV6FuhVBNli0lFEMwrb9CwAXDtL+Hw6S4MGxFMCrPapURUygddFYGOPDSUhLZb4hAwArOrWseCvukf/s4Dup+Ybb7yB8fHxn/SYy5cv4+2336alZkKhEA4dOoQ333zzpi3lUlNT4fV6f+0jaz5uc8wD4B0UcwmAH330Efr6+ljXr127hrfeeuumLN1uJefSiWQ633vvPYRCIbz++uu4du0arO/48PxpIX5/ko+a8efw9EkJioafpGf+HjzKZ0Agb2w/6sYO0BCYN7gT9x6WMSDwiaNG3DehQ1F/C9I6XkXZoBCFfXxaADqtPSwDMxMC14ZasKqdj0X+vcgINmLjkAmb+kyIm3EgJbc2gddnYUBghk+Mqm4Toh0NWOmXo77HimyfIjwHOOMwXEQJwe20YcGMgzO3VYtNXQ4sscsZ7bsUmxR1QRsWmMIAuNAsAC9IIdepR7XPxoKDNLMcXD+FIocJ+XYjaxmhaIYuYI2HRKo+LHhc5iRQ5iCYAGhUI00lxWKNHDyPnVVF47ntiJOLEa8Qo9ZJMjaCc816ZOqvL3sslItQThGocdiw1mKg/YJnZzlJoIgwg+eyI3tWZZDrtLPuHyeXYJPHhXVuB7IMzLZvskqKLLX8BksiFGocNtRN+RjTm8CuyMsgs6/HKkTIsxqxze9GpdNKf47TFb/ZzitRSiEW62RIjuA3XESZsEAlQJpRgXIXgWoXgdUmJdb57ayfb4xOiFUzRKOnM8+px4IIm8N1bSTr2mKLFAUeI6r8BDhBG8r9ZixzylHXbo0IemtaNaxrZQETC/6irM3I96hZ8Jfn1zLmYKezKmSiF0xSnELkBzTY2GtDfY8FNd1G5IeUSPE2IdZ9AO4Lx38RAHzttddw+PDhn/34q1ev4qOPPsK5c+cwMjKCYDCIvr4+nDhxAhcvXsSXX34Z8TELFy5EV1fXr31kzcdtjnkAvIPi+++/nzNY+vTTT9Hd3c24Nm3p1t3djU8++eS2gN90Tk5OzokTyTS0nj17NuKcovyCi573Kx39PR451EQDYOHwU3jgaAtKhl+iIbB2dA94Yw00BK4ZeBGPTeqw47AWFUMtWNr1MrZOqJDZtQdpHa8ireNVrOltQO2QjIbAxe27sGVMj9TgPhoCK7tk2DFKItXfRM/8FYRkWBmUMCoT3D4TUjx8GgKLQ1ps63cgySFgbFDWdREsp4XCNj2q2i1YY5PRrbkkmxicdhJRZuYc1xq3Fhva7cgkmbOABW4jitwmGhCSjVJwfRQyCTU4PiqiJEmtx4atbW4WiEQphVhLGsMtYJMWMRGqY9VOG8rsBGpvsH2bY9Jhm8+DFUb24sb0FvAKvRZ1DgrFVgsD5iopKxLkUsa1fIsRPCeFTR5nRGDMNRuQplYwK4kuOwosRpSTbAu5aFlYfDrS+77X70WlnUCiSspeBrkJKFxl0aHOTWF7mwcZRhXrs610WlnXFqpESNdKWNXZTJ0MsRoRsixqVHts4LRSKHAYwfNTEat/+S4Du/pn1yLWIGBd5wZI1kZxnEmEHJcGBV4D6oI21AatKPDpUddORITCAj+7+lfo10es/lWGzCz4y25VIoZsYm0a13Va2BqD7Xpc+YWcOc6ePYvJyck5e74rV67g3XffxbFjx9DT04P29naMjY3htddeo6Vmrl69iv/5n//B+Pj4bTuLDh48iJUrV+Lf//3f8bvf/S7ifd5//31UVlbiP/7jP/Bf//VfeOKJJ/DXv/71tr2nOzHmAfAOirkEwEuXLiEUCtFfX7lyBYODgxgdHb0li7abzePHj+O111675ef5+uuvMT4+jv7+fly+fDkiHAreIBkQ+ODYQQYE7phsRunwThoCq0Z24f7DUjw4qUHNMB/Lu3cyJGCWdr2M+lEpVnUfoCEws2svNo9pGRC4YUSLLcMmrAkKEO/bh0W+/ajpUDIWP5YF+KjuZbao1rTLsKHPhuJ2HX1orW5TIS+gYRxumV4ZyttNiLI2YY1Pg+oQgTibAAWkHDEW5oxWnlePPK8ed5taUNhqQp7bgLsNfFT7rVhmU7IO9SqfFfV+O5bMWi5YYdOgptWGBZow/NV4SNrmrNhuQamDYADJMqMKOTollmrk4LooLJq1OJFj1mINoUcuYQDHRWHRLAu3ercdMTIh4hRi1DhIlJHXLdsqKSsWKZiAl6XXgOe0o95lx0KZmA15kqnKn0SEAosJ9U47svSa8FygQYcMrSriY+rsFJZp1SjQqFBmNSNhSlvwRrIxRVYT4qbuE6cQT1nPUah12JAYcXnEEHGppJg0I2ZqozjLqEGti0Sdm8T6VkdE4OZ4KRb8RakEWKGXsa4tM6mQbJAil9KjrpVEbasNqykt6nzWiLqBZV4L69oymxJxZraYNCdAsjaKFxhbsNKpxnK7EhV+CzhBGyoDFnBDViwgWlgAWBY0suBvVasKCyJU/+o62TIzS90SxDmaWQAoPfnzhJ9/Tp4+fRrHj9+eauO01Mzrr7+O8fFx+Hw+3H333aipqcHChQsxI2gWQgAAIABJREFUNjZ2286i3bt3QywW45lnnokIgN9//z1SUlKQl5eHU6dOob+/H//7v/+Lxx9//La9pzsx5gHwDoq5BMArV64gEAjg2rVrtKXb6dOnf7Kl28/NU6dO4ezZs7cMsX19fTh8+PCPzil+d+07NLxmZkDgMyelDAi8f7IJG8Ya8MikGrxRAQoG9mLdmOhHt3+rhgUo6GumITC941XcM2FA3aASG4b1SAscRG6XiAbA6azr1yLV10hDYIL3ADYOWpDibcK6PgLZbXIkuJpR32tlHFxxjhbU91gZgrq5bWps63MiiRIxKipZdimWExIGBGa71NjS6ULSDOmPuw18xJvF4AUoxBmFiNLzkU1pUOqxIFYvAsdPITXCQkiZ24KtgchVv0LKhHKnFeWUBYlKMQNo0nQK8Dx2pOkUqHbakKyRMW5P1YZvzzFqwbmB/MpKoxb3+luRqdNErOLV2UkslIpRYDaBY6eQOqOiNw1/s7OGIrHJ40JWhOfkRXhMkkKGLR4XuE47y5YuU6fC0lkzitEyIVJUUuSYtEjXKMLtYheJTIMKi1SSiFqCKWoZlhvZSyXL9CqkaGRYqlei2mkDx01hNaFHIWWiRbpnZhlpiAiFZQ4zq5qbpJcii9CgyGEC10ehymvFclKFMq85IhTW+G0s+Eu2SFizpncbW1ATQYvybmP4j5M4Qoi1Xj1qg1Zw2m3ghqxIdYgjuIlYWPC31C1FnJ1tMcftJljwl+gU4E+X2ZZttytPnDiBkydP/iKvdenSJdhsNmzevBm//e1v8c///M/IycnB/v37cezYMfzwww9zfiZZLJaIANjV1YXf/OY3+Oijj+hrTqcT//Zv/4arV6/O+fu4U2MeAO+g+OGHH+YMwL7++msEAgGcO3cOoVDotm3k3ijPnDmDU6dO/ezH//GPf/xJuoR/vvZn7DmnY0Fg/fhuPHZMgY0TAmycECC/fw9t+7a2fzc2jUsZEHj/YQ2WzYDAooFGVA2JsKa3EdvGjCjoEWPTiBHJbfvoxY/0tgMo9DMhsKBbhjUdYS3ArIAQG/qt4PSYafmX6azpNiHVJWQcYmUhA8ra9ajpIOi5vyyPEsVtBgYExlhbUO03Ic0qRoFNieipAzfVKkWlz8I6uHMcWmwLuRGnZ/rLJptk4PkpxOlEiNIIUO21Ic2oQJRKgHy7EaVOZtUvXi1BJWXBCq0cxYSBBTAxciHWeR3guu1YaWLLwKTrFCglLah22FBiY7dd690Oel6vxk6inLRehzWXAzGzYC1eJkEVacU2jxsLpWIWzKWrlVht1CNaIkKMRIRCixlcpx3LdeqI8BctCVcL09VKREtEiJWKw3OGzvCm8o0ErSNZ1UXLhNjocYLrolBhtzIqpDXOyK3iMjvBuhavFKPIZkKlwwquh0IeaUCMSogMkxKLIrSE88xqFvzNdBiZmTEaIYqcZpS7CXD9FMo8ZqQSMuQ6dVhgFLCrf0F29S/GxEemXcm6XuYzRxSZrmgL6wym2sTIc6rBCdlQ32HFWp8GMbYWBgByuwgW/C2y87HYLWIB4EsTt0f4+UZ59OhRnDlz5hd9zU8//RR33XUXTpw4AYPBAB6Ph9/97nc4ceLEnJ9JNwLAXbt2ITU1lXHtypUruOuuuzA0NDTn7+NOjXkAvINiLgHwq6++QiAQQG9v75x48v7UPH/+/M+yort27RrOnz+PUCj0k3UEv/nuWzwzKULdyPN48oQM9xzm4/FjSmT3vUDnhnEBCvuve/+u6XsVWyfkDAi855AKy7tfRUbnK9gwqsTmUR24g2ra9i2xbQ84gxqG72iify82DZsYEFjZp8F9w3YkuJvpmb8VbTKW6G2WX4aiqXbw6jY1ajoIpDoltAD0dC6wNoPbaUO8TRD2BLa2gBsikefVh90cZh2+q20KLLPKcbch3N5bMWUDV+qxYNUMJ5DpzHcYsC3oiVhNKnFaUEiZsMZqwAqDirH8kWcLzwFOVwBnAkysQoQaF0lv0K6x6Fnzfmst4fZwolICrou9uBEtFWGFQYv7/K1YplVHBDaug0K0RIQ0lQIcO4l8kwHREhFSFDLkm003rAoWW8zgOezInPG8i5XysNRMhMfU2SlkG65LzMTKRPSSSCT4m91Cjp9qF2/3e5BHGBD9D+YEZy7QRNo03uRzoYqyYJVBiYXqsM9wnEaELELDAr0MnRQx6ki2c2REkem6VhJVXis4fhIFbiPiTSIsJRWIswhZv2t1EUSm7za2YK1Hz4K/XI8uosh03ZSmZaxFgNUeLaqDBHghG2pCZmS4pczqXxe7+hdNNeL8xx/8ojB25MgRnDt37hd9zXfffRd33XUXvvnmG/rs+Nvf/vaLVgAfeOABFBUVsa7/v//3/+BwOOb8fdypMQ+Ad1DMFQBeunQJvb29CAQCt+Tneyv5c6zovvnmGxw6dAh9fX0/G1rffvdt3DPYRM/75Q48i8dmQeD6cT6KZkDgqt5XcM8hJQ2AJQMH8dgkgdI+CW37tqR9HzaM6BgQmN8hwHL/QYbx/IZhI2p6tajq0dFuBOv7mf6/Ce5mlhbg2qAa9/a7EGNrZrTEajsIJFJCBghme1VY10Ehy6lmHKx1QRuSCWZrbgkhRQWhRsws2IvVicD1U0gxyRClFaDKa0O6SYEotQB5diNKnGYWBHI9FArNWizXsLXtFiiEqPc6sMHrZEHNdG71uW84U5eolIDrtKPe5cDyCG3aepcD0RIR4qRiVFMkKkkrXQmcvm125pkM2OJ2IlPDhsYSwoIEmRTRYhGixSLEiEUosphRpFahhrRGfD6eg10tTFMpsK3VgzoHSUvMTOcqk5blchItEyLLoMFitQzRMiHStdfbxYU2ExLVUtbnlmc1YmEE55Eqh3VWlVCCYtKMewNelDktWKSTMECv2GFiwV+iVoxkgzSyyPSsazFaITYGnKj1kaj127DaqcUCIx/xZiHSSTkL/sr9kat/lW0WFvwtscsRN8vZJsrcAm7IRsvOLKYkKPYbwA1ZsbGbQn6bhuEysr3/9gs/z85Dhw7h9ddf/0Vf8+zZs/jNb36D77///iedL3v27MFdd931o3n8+HHGY34MAIuLi1nX//Vf/xVOp/OnHXzzccOYB8A7KOYCAKelUl577TW0t7dHXJz4JfLChQs4cuTITd//8uXL6O/vx8TEBL755puf/brvv/8+egb78PBR2Y9C4LrxFhQN7KMhMKfnFTw+acbGURWWTFm/1Q7JkN3ZSEPg4uBubB01MiAwu6MZBSEhkn37sX7IiIIuOcp71FjWJmQsfnD6TEhytzBAkNNrRl5QjbouC73hWBEyIt0pZUDgCo9iamMyvE1Z5DMixsIHN0QixsxnHK5LKDkq2wgsMIa3N5NMEkTp+MiyqZAXQSNupU2D7e2eiN6zFW4rcqxaLDbIUem00qAXrRCixkUi26ylr3HcdsQrw+3N1RY9al0kYyuY57Yjdkp0ea3FgFoniYVT1bM0jQJFhJmGqoVSMWrsJEqsljB43QDwVui1uM/XyqjezXyOCpuVhrsSiwU1pA1JcilWG/RYrJDT8DczC9QqxIhFKCYs4DrsyJiCx3IbEbG9nKFRIUOjCsOpTIIyGwGuMzzjuNZiYMFfrEyIYpuZdT1m6voqk26qXUxgkUqCWIUIuRHa7MlqKTIMKtb1bLMW8aqwI0msUoR8mxFcD4UtficWG+VsiznSwAK9aI0Aq0gd63o2qaV1JK/7SEuwpd0Fjp9ElY9gtIFzPToW/K1ya7AgQvWP284Wn15oEWCJQ8YWnw5eF5+OJlqw0qNCZbsZwxcv/OIAODY2hgsXftnXPXLkCP7zP//zJ1f8Ll26hDfffPNH89q1a4zHzLeAf92YB8A7KP7+97//bPCZtnTr7OykPXi7urrw2Wef/SoA+Ic//AETExM3dd8PPvgAHR0dOHv27C3rEn744YdhZ5Nvv8L9R0Q/CoG8sWbUjwqw47AOhf1NWNr5CrZP6Gjf32nv39zuFhoCU4K7UdMhRtL/x96bBkdxZun+no7ZeqajP/REzNLRMUL7viMksQihfd+qJASYxnaPo/83bvf90h8meqa7jVm0VmXt+5Z7VWkBCUkIgUBgAzbGhgZswAYM2IBtFrGD3ePu536oUqqyMoUBC3Hjj96IE0G9WZlZWiB/POec52z9AxK3voFFQ21QjJpRt80g6v5dOkSgKGw8VdGwEUsG9IjybsbSrQY0jZJYPmDG0i0mcXdjjwYVg44wCDRi3Q4fojxdoofksh6r5EFb1OvAykEOGaReYv9R308jw2MIpHxJM5KDY8cWu01YwdhlZtCSUPawSDZJx5zFGImg6sfPaPzc5GdnTI/mOixY1eNFsUc+RRutUWNNjx9NPId4nUZyvNnLI5JQI0ZDoJahUcPQiArW+TVwrCzgLbHb0MxxqCQ9iAo7puQ5yfujNQSUPI9WnxdZQdATIFOjFiBVmpLmUOgKmFUXk05EaoN+gjKWMjOlkOMMBNb190Dp57CCCtQdCqliv3yquJIjJT+neBOBRS4LIg0qLCPtaOphUeenUcq7EG1VSUBvhUs6di4iODIw/D8QSU4tUt160V6aWx+Awq0MKvvcSKW1wu9m7QApAb1kUo1EmpBPCcuOnpNOGSnf6pxz+Ltz5w4mJibwySefzOk9d+3ahX/913/FX/7yl2f+TPquJpArV64Iez6fb74JZJbXPAC+QOtpAfDWrVvYt28fdu/ejcnJSWF/bGwMly9ffi4AeO7cOezbt++R73n48CE++ugjDA0N4fz587Ny31AD7Kt3J/Hzg50SCFy287d45aARq9/WBzt9NyNz5L+FeHW/XQSBJTs7UTqmFkHgq/vcWL3HjdStbYjt24C4vg1o3eMRQWD6lnY07nSIILBsxIxXdvOI5tqF1FWSrxsN28U2F1FMO5TbKaRwaiiHacRS3YjwdKCk3448n0n0oIz2dEOxjUEarUXTAIPIoJdbKqlDwxZaAoG5jBnrhnoEq5fQWOE0Is2uRaRZhaZeBpFGdWAShVkDZS8XsDIJgkWuy4IVlBNxRg0UPRwybIawjl89KhkPFrsCHb+hY9cidSqsIJ1YaDUjzWRAs49HZghgxWgJEcRlmIxo9vKC2jcFf+GRaw2qghaz5FiqQY9CpxNRajWi1GrkmM1QchwKHHbUUCSiNYTknESdFoUOB6LUasQQBCo8Hig4Dplm04wNJPUsI9lbaDVjba8fdSwtWMxMRYHbjniDdCrJco9dsJqZShc38DRW93mRI6P+1Xlp2dS8soeT3a/mKeS7rWj0M2joYbCINCPeTiDTLQXAfJdBdsScYgsru7+cs4te59JmrBrgoRhgUNLrQHxIurem1yGBvwXuTtnRcyVbpHOHI8gOsCfeey4AuHv3bpw7d25O7zkwMIDo6OhnCoAXL17E0aNH8eabb+JHP/oRjh49iqNHjwp1h1M2MMXFxThy5AjGx8fxs5/9bN4GZpbXPAC+QOtpAHBqpNt7772H+/fvi46Nj49LjJPnKi5cuICJiYkZj9+7dw/vvPMOduzYMat1ilPfj6nXV+5cw+r9bcFJIJvwy3ct+P/esYvsXqr3dKF4V1sYBIqVwKXbN2HF4GZUbldDuduOxP4NqNtlQcbWdsT2bRCidY8bcSEQGNe7Aa27PViyTQfFmAexfDuiuTa0hFnALGDboBylEM0GUsHRTAcUIxRqBj1Y6NWLHoKJjBoNwYL5qWgYoFHZ58FS3irr75ZDmxBh60JNLyl4/xXxTqzgHBIIzHebUEvaECljAbPQZUaDP5CiTLOKgS/JrIOyh0eKRYelbhuWuKwioMlzWKDwsYjVByZ4pBj1IkhK0Guh9PIocDlQy9CygBerIfBqXx/KSY/s8WaeR5RajViCQC1No45hEB08r5IkBfgLjSKXC6VuFyrtdqRqQ+oC1WrU0bTsOQ0Mg0qShIJnhW7hqbR0atjXNWUrs9huQyShRpJehzqGRiPPINtqRJFMV3F00AQ7fD9Gr0aB245InQrL3IF0canHjlSjJpASDoO8XJcF8WapeiunFC4wqLCq34t6H42mXhZLaVugNMDSjRWMtGko2alFolMr2ZdTCsPnEUfbu1HA21DOWFDf40KB34pI97S6XTvgkVX/5MbMZXv1uHFLOjFjLmLnzp04f/78nN6T4zhJ+nW217p162RrBCcmJoT3XLx4EdXV1fjhD3+In/zkJ/jVr36Fr7/++pl+rhdtzQPgC7YeF3RCR7p9/PHHsqnTiYmJWVPWnjQ+++wzjI+Pyx6bnJzE+Pg43nrrLdy5c2dW7/vVV19hZGRE/Fluf4lfHXI+0vOvcncnSne1yyqB6dt+j8rBTlSP6lG304z4/jeFKNuhx6KtnSIIbNxlR2rQB3DpkAbNOz1QjnkQ521HJLdZiMZRNxL5LhEElgxa0TRMYknv9IzVNF6D6gG35GFYN0iiuNeOsj63YNER41JDMcBigUNq6LtuqAcLrGH1XlYVFP0skuzaoPEzjWSbHhFGFTItWhR7bCIAXGBQoZ4jsYJyytqVLNCr0OhjsarXi0SZWbtTtigtPh5xMmndJIMOVTSFepZBicctAbwWLy9AWLHLhSaOQ5xWEzjG87Kwtshsxmt9fcizWCTHcsxm5JjNwutYgkANRaGeodHMsrLXW2K1IlWvF51TRZJQcixqGFpWFWyaISXdzPMo9QQsZpa5pmckz5Q2b/bJp5Cr3HZUMB4o/SwKqWB3sUGF2pDazamICqaCw/ezHEYkBmcWT0W63YCXt/rR1MuikHMg0jpdA1hKmmVBb1mY+hdh7UY+Y0GUvVuiRpfRFuHP8U4CpX4nFAMMVg/zWOQ1iH7fF/tNWCCj/nW/t+e5wN+dO3ewY8cOfPbZ3HYe2+125OfnP+9H1fyagzUPgC/Y+uabb74Tcu7fv49Dhw5950i3t99+G2fPnn0uADjTLOJLly49U1Pq8AkoU/HpzS9QtaftkRBYsbsDZeMdAgAuHl2Pl3cYkbd1s9Dlmz6wCcrddhEELh7swuItXSIIVI47sWacRpyvfXrs27AV2b2ECAILB03I79djAduGwq0WVAw6ke7VonLQJXnQKYZpRJGdiPB0II4KpH1zeVPAAibMq624x4l8zowIexeqe0lkk0ZEWLtR4nXJFvjn0RasG+yRNX6u8lJY7LEh2apDSZihcYnHgaUhe1PzfiN1KmTbTMHX6hCAmfbxW2g1Q+nlkaDTIlKjRppRj7IwZa+CJANQFQZ/oZFlMuG1vj4RyIVGM8cjSqVGjJpADUWjnqYRSxBI0mqxIpjeDY86mka63gAFy6Hc7UGUKrCfqNViud0ufx+eF2CwiWORbjIgUqNGHcvIwl+R24WYsLTzYrsNa/xe1DCU0CQzFYudViTIQPUSuxnRYXuZVgN+3u9Ho4+RKINNflZW/ZtpfzntEH4XEq06VHpJrOznUenzIDqsKaTQbZSFwoZ+aSlCjF2FVCch2S/vmTalTiN1qOzzQDFAY+12L9I4jejvRBzdjYvXvnpuADgyMoJLly7N6T0JgpC1YJlf//9b8wD4gq3vAsDQkW63b99+5HsPHjyIjz/++LkAYPgs4ocPH+LUqVMYGhrCuXPnntl9JycnMTg4KHvsk8lLKBvfFGb8LIbAsvF2KCd0eHmvDVkDG5A08AZaJ2xI2jpt9ZK89U207nGKIDBzy2ZUj5mxeIhA8y4P4vxtyBvQYMU2k6jzN2+rFkWDZhEELt9qws/HeERS0+OyIqlOKEdoCQQW9dvQtI3CIt4kdFtGODuhGGQQFWbam0EbsG64R/IwjrGrodzCISrYAFDIOrCYDCh9BU4zMoMKYGgUMS6s7vMh2ayTKH5RehVK7WbUzWCQnOewoMnLoHmGmrksiwmtfu+Mad1IQo21PT1oYlnEEoQEvBQsh2iVGnEEgUaGRZnbLYKyKJVaEjkmM9Z6fcjS6STXW2a3I1WnF71/sdWKFp7Hap9PFv6qSRLRYXuxBAElx6HVyyPdaBB9PfFaDQocDsnXGUWoURZUPtOMBjRwDOo5GikmLSpmmFVc6LRK9mL0apGiuMxth9LHopanAtNHwiBvmceOaKNasl/vo+VH0vWwAVNwiwZlnBuKXhZlXheWy6SKs916WfWvUaY+NcLWJTuVJJ3UI86pRoS9C7msCXVbSCgGabyxf8dzg787d+5gaGgIX3zxxZzec+PGjWhoaHjej6r5NQdrHgBfsPUoAJzqln1c9ezQoUM4efLkcwHAq1evCqnYUMXyWXclTxlgz9RN/OH1iyjetUEWAhsmCKzZZ8OK0S4sGdiEpIE3hFg5YUPKwAaR8fOaCZcAgDlb2tE67kHTTheifJuESO3rQs2oQwSByT1dqB91IdHbCeV2CvFsNyKpjgDwhc1LrdrmRmpQ9Vjo1aNmgEQiRaB2gJT4ri3327CEtwrGz9mUCRHWbpT7PVhESdN1BawNa7b6EWMmxJM+LBoo+jhhv9HPCnNss+xGNIaZFadYdCgjnUgwECi1mxEXBiOx+kBX7jKnHfWcTIOExYQChwNZJhOaeR5Jep1sXV+UWo1ciwXNPI+UILg1MAxi1YQE8EpcLqzr6UECoZEFwEaSQlS3GtHdatSQFOppBrEEgTS9HstsdtlzlCyHqG41ylweKDkO6QZDII1sMiHTaJSCoUqNKg+JKJUacYQGNSSFRpZFqkEv23EcSaih4GbY5zlUUgGLmVyHWfjeNs3gqzhTClnpYxFv0ATTxZyQLq7hpaniaKMaeR6rBP5yXGbJ70yEUYU6P41okxpFjBNNvSwqeDeSHARKQ9K8UxFl60IuY5LsF/J22ZF0iq2MZG+BvQtHP7/w3ODv9u3bGBgYwFdfza0C+dvf/hZr1qx53o+q+TUHax4AX7AlB4Ch0zGeZKTb+++/jxMnTjwXALxx4wa2bduGmzdvYs+ePdi7d+93KpazEXfuBLrkwhtiQuOPVz9F4c71AQDc/luseduI/3WQFHX5Lh1uQ8kYIYJA5R4L0gc2ioyf1+0j0TRqQ7x/k2D83LLLI4LAOH8bmndOm0FH821QjHrQOkpLZqHWDXkQz4iNn/N6jFi9nUc8qZYYP8e6xVMZMhg9XhkJ1vqF2XU09U93bGZ4DKjykYgyq1DvIxFjkqo8yyg7fr61V7bOr5h2oZh2Id9lxbJgU8JUZFmNqAqqgQk6NZaH+fQVuV2oCZot59mtWGyzicApw2hEi5dHqkE/Y11fmsGAV3p6kWe2yMJalYdEvFqDbIMJLRyPHJNJOFbn9iCqWy2JHKMJr/b0YrHFJguUCYRW9P4EQotGmsHP/T3yyiTDzPjZaigKTUEYnIK8PJtVAr9THdDhCmKhy4mVXi+qGRJRWjHkZduMSAkaTYenkGPDOpAjdSo08DQavEwgXWw3TqeEgypfeDT6GcneAqMKS0ibLCwWMk409jCo5F1IdQZ8KQvdUouiCFsX6vopCejFOdVII3WS/dVD3ueq/t28eRMDAwO4fv36nN7317/+NX75y18+70fV/JqDNQ+AL9j605/+JIKV7zMdY6p1/3kA4NQ/jiMjI/jggw+eSb2fXNy7dw8DAwPfaSb93pef4D8O2lE5rgo0egz9DsoxrQgCl412oCwMAht2m5A5sBmLh7qwao8byf2b0ThqQ4x/g8juZeU4KYLAKN8mtOwiUT1sx/KtZsHupWHEg1imUwSBBf0W5PUYEUF1oHSLAwU9VsSQ3WjaRkuMdZf5rVjitQTmrva5sZA2IsIWqPub8vsLjaoeEg19NDJdRtGUj4VOI8p5z3S3r9OEEsaFBXoVGnwMMu1GCQRWsB40+3lk20yyalMNS6HVK2/iPGXlouQ4WcCLUquxyutDC+8VlLbQKHd7kKTRIV6tgYLlRKrdCocTaTqDCNbi1Bo00iwa3G7EysBfVLcaLSyP6C41YrrUqHZTaKAD6mKGwYh8s1X+HI5HVLcamXojlCyPEpcLUWo1VjidiJdRH5M0WuRbrMLreEKDGopCI8ugfobO5wZWvoFEEWxSyTIYUOV0oIahEG8gZlQFazlKdj+8C7nAbUeLn4Oih0W8RSMCusUeK6JMaqn69x2p4vBrNPeyqGAdSLOrBfjLcmsFC6PQaNxKy6qCOz6e2wkc4XHjxg0MDAzg5s257UB+7bXX8Jvf/OZ5P6rm1xyseQB8wVYoAF69ehVjY2M4cODAU03HOH78+FPN4/2+8fDhQ5w8eRIDAwNzXoP44MEDDAwMPJba+NblU8gZWS9YvaQP/Q6rJyxiJXB7O8p3agQAXDLShVf30cgdVIk8/0q3EEjo3SyCQOUuN2L9mxHl24SCbUZUDztRN+JCHNsh8vwrHrAiyyee/pHfa8TPR32SqQkNgzTiPCoRBGawAdUvXE3JIPWo7iUF+IuyqaDo55Dq0KOhh5Gd+dvUy6LGSyHDZgxL8+qh8LPCmLcmHyuoSclmHZr9nMjnb6nLhlybJTBFg6FQ6HaKp3gYDUjVaBClVqPM4UBRiD9flDrY0RuEpFSdHi0cj4xgmrXY6ZIAXnS3GnUUjQaaQY7RLAtreQYTklUaFNkcUNAc4lSEcKyRZhHdpZbEQr0Jr/p7sdRik1yvykMiJuQaU1HscGGtrwe5MuqkgmFlVcEmhkUCoUUtSaOBYZEcVAKrgtNMwqPU7ZbUHEap1agiSdTRNJp4BpkW43SXMCtfP9jAy8Nic9CweipdrPBzWE45UP8E6l+W04hYs0ayX+OlRK+znUZUcW4oeBeynFpJmjefNUvgr9jveK7wd+fOHVy9elX4t2Yu77tq1Sq88cYbz/tRNb/mYM0D4Au2pgBwaqTbRx999NTTMZ5mHu/3jfv37+Pw4cPYvn07BgYGcOfO7Nq8PA58Tv2v/HHev/3s+8gc+r0IAte+ZRdB4JLt7WjabcKqCTdStmxGbN8GlI7GsnnhAAAgAElEQVQakTPQLYLAujEbUnrbRRDYvNONlWO0yPi5ZNCGTD8hgsCFPVqs2GpFBNmOxiEKaZwGkZ5OKIcYiUnush4rFvsCc4Ar+tzIYYyIsHehYQuNBJmuSsVWFstYG4pYpwj2Cp1GpDv0oj1lL4dFTnPAVFgm9VtCu7C23y8LDUvdNtRwJMooN9JNRhHwRWsJNPEccqxmlHjcsqpescWCfJMJTRQtC0kpOj3W+vwotDlkAS9dZ0Ch1YFypwd1JIPoruljqYQWORq9GO4MJqzkvKhxk0gmdLIA2MLwiO4kENNJoMpFoYliEacikGUwzgiazUElMbabQLWbhIJhkazVoYai5BtSjCakavWiayQSWjQxLFZ7vZK0cDQRUBjDv3/RQWucqdcxBIEytxvNPCc7gznOQCDXYZHsZ1gMSJZJIRe67VhoM6HBy6DBxyDLYUKEUSULhTOpf4GGIqdkL91hQJyVQISpG+kOPcoYB8ooK0rdAUU7HAA9Rw89dwD88ssvsW3btjm/b21tLTo7O5/3o2p+zcGaB8AXbH3zzTc4cuSIaKTb08bp06dx8ODBOYOvW7duYWJiAhMTE0IK+NatW3MKgF9//TW2bduGGzdufOf7Ll++jJGREdgPDAvzf6cg8OV9tqAC2IHVe11YMqxC2ahBZPWyYrsOedvESmD5qAlZW7qR2NOGlp0kUvxdKB60ILNHI/L7y+vXS0bAFW+14uVRXtbvL55SiyAwi9Nj3Xa/5MGYz1kChfQhANjQx6CYd6KQcUgUv3SnHrV+Gkk2rQT66ry0KPWbZNailqMQo1dD6eeQYpJCQh1Ho55lAqbHMmnfGobGKp8PyTLdt1FqNWocTpQYzcjU6iSglGexINdoQTKhQwvLY6FhGsAS1BpUujwieFtutaOJYpHQrcZyg0kW8LJ0RiwzB95X5hCfX+uhEdulQXQnIYosrQmv+vuwzGqXwF8dScveZ5HRjFbWi2oPhWiVuGmlJtiQEh5KhhVqDesoGvUMg0Sddsa0uWKm/WCqeInNBiXPoYJyI0anfkSjiLzXoFwKudDjwOo+Lyo5EnEhjSEZDiPiLFL1ryKkzCA0FL2srCJdzDqRZNOgiLSgxG1CrlOLdBeBoyeO48svv3yuAHj58mUMDw/P+X2LiopgMpme96Nqfs3BmgfAF2wdOXJEMtLtaePs2bN4++235wS6piZwHD58WGjAeFwQm+0YHh7+znrJTz75BENDQ4JP4sD5w8gIUQILdrThl/sZpA1sRlz/m4jrfxPZgx0o32EUQeCyYQ0Wb1NPQ2DPBvx8D4PyYZvI6iV/ix6L+w0iCEz1qVCxzY4ErgvKERrRVBcWkB1QDjMSCFzea0WeNzACrqLfjUWMKdAdOcAiKqxuKtapRtNWBkkuDRr6GGHCR4xVjRK3WfKQXUrZsLLXi1SrXqL4pVr1aPSzyHVasNzjED38F9pNohSiwssJvnZxWg2avTySDLoQ+KOQqNUiSq1GtskEJcchJjTtG6yni+pWI16tQY3ThXSNFlEqNdI0WuSHQVySWosWlscioxmNFCMLXtFdatRYHWhheKSHKYBx3QSqXZQI7krtHigoFsvMNmRpTRL4i+4ksJLxCn+udJJopFnEqzXIMpiwUC8PmgqaE87JNVjQwvIotDnQxHCy8FdocyBWJr282GxFE8WggaKF72WUWo0UrVa2EzlVr0eWzP4Smw0KjkU9G7CYmfoZ5jrMsmPpSiiXLBSGKosJRg0q2YAZ9Zp+HxYYpKBXxrklewkWDVIcOin8cU5ZKPzt8Fbs27cPg4ODGBsbw/vvv4/z58/PeS3e559/jtHR0TkHwNzcXFAU9bwfVfNrDtY8AL5g6+7du4/sYH2SOH/+PPbu3fvMgevMmTOyE0keB8SeRWzfvn1Gu5kHDx4ICuuVK1dEx3xnD6JgRxte3udE5uBmJG15Ey17HAIAxvW/iazBdlTuMIkgMG+bCrl97agataBkyIJIfjMWbdFi6Ra9CAIze9UoHrSIILB+2IPW7azE769uG4m44PzfqVjoNWDdiFT1K+lxIps2iPaKfA40b+ECD9awUW/lPg8WugNNIPV+GolmbdDixRSwAwmDwFLGjUYvgzyZdGGkToUajsKaHr9srdpCixkNHIsGlkV8sOYvNAocDtTStAj+wlOhKzkeZVbHjIC3kvGimeGRb7RIjtXanAJ4pREGtDBeLDKYg+ldryzgxXdp0OBh0MJ4kaOziI6V2T2I755BFfT1YrlF+jkbSEb2Pgv1ZlS7KLQwPLIMJlE9Y4nTJfv9qPdMK4zJhA4NFINymx21MinhgAm2vCoYuh+n0aCKJKHgObT6Z5g0IlNDGK1TScb9TaWQk0xaZNmMQro402FECeuS7yruoWVBr8ZPSfZiLQQ+/Sqg/E1OTuLTTz/F4cOHsWPHDmzbtg1vv/02Tp48OSfq4IULF7Bz5845B8DU1FT09/c/70fV/JqDNQ+AL9j69ttvZw2EPvvsM+zevfuZgdaDBw/wwQcfYGRkBJcvX5YcHx0dxZdffjnnALhjxw7ZCSl37tzBW2+9hfHx8RkVVvL0fpHNS/LWN9EcBoGZg+2oGjNPq4DbNCj1a7BimxmR/GYhMoLAFwqBib5O1Aw7kdunF801VY4wsqbPWV4dIjwdKN/iwiLOhEhnNxSDrNQol9KjoteNCFsXlFs4RFvViDB3YxFpxnLKKoHAdKcerwzIW7w0+lnB8LnRxyI+OH0iyaRFs59DVMjDPkYX8KhL0GnR4vUiNmyyRSShRhPHodJDosjpmgFGeFR5SBQ5pNCTRGhR7vAgjTBgJeNFSlitXpnBPA1u3VooaR55QcCrtDkRIwNeCd1a/MLfj0KLUxbMmmke0R0EojsIJHRp0URyKLV7kK4xIN9o+85zKhwkFBSLRJUGWXojsnVm2XMaSDbks2tQ52HQSLFoYeVhuNpNygLwYr0JqYQWDRSDeopGYhC0F9tsstC92GZDnMx+ocOBGIJAodOJZp5DMelElFaFctr9neqfKIXsl08tr+zhofRzonRxpLEb2WEd6RGmbuSRFkSaVZL9/7NjUBaKbt++jS+++AIffvihoA7u3LnzmaqDn376KcbHx+cU/m7fvo2oqCiMjY0970fV/JqDNQ+AL9iaTQCcaRzbbMTt27exb98+7NmzZ8aGi507d8qC4bMOuftev34dO3fuxMGDB3Hv3r1Hnm/+aEIGAu0iCMwYaEPjLjtW7iKFcW/pfSqUBhXAqUju6ULlsF0AwBiuHc2jtOyUj4YhCtFUp2hvcY8JL494ERE26q1uC4344GSEqcimjfj5th4J7EWau1HvI4XXmS4jyjgPFhgCsJcUVABDY5HDjFe29Mg+yEtpFwrcdiQaNagNsy5Z6rCjkpruXFVygSkdU6PYFCwnSkk2hyh/0d2Bbthck0VIA1e7xSnabJ0ZKxkeiSoNmihOFvBiOwkonSRWWOUBr8zuQVKXDrHtBOpdDCqdpHBMQXECyIXHWq4HTSSHuLC6wOUWB5JUOsn7MzRGvObrkwXNxhD4C408gxV5eiuUNI8K17RfYZyKQIHFLguABTqj6HUKoUMjxWCdvwcJMqDXwDCyIF5LUZK9HLMZa/1+wWJmGvwDvoLhvxtpFr18A0lY+UCCUYMKxo0auxkFlA0LjGLQa+yV71I/fPH8Y4HS5OQkzp07h/feew+jo6MidXC2jJvPnDmDPXvmdg7x7du38S//8i84cODA835Uza85WPMA+IKt2QTA8HFssxVfffUVRkdHcejQoUemq8fHx793I8vTxPj4OD777DPh9eeff47h4WEcP378sTuq1cd3hkHgBih3ByAwacsmrBz3IHdAg6rtdtGUj5SeLlQM20QQGO/rQN12J8q32bG0zyIYPCtkILBsqwMpwckfZVucWMSbEOdRo24rJZn3W+CzIZednveb7jYgwtKN6h5SNvVb6SNR46Mks2Hz3VaU0C4B/hJMGtTzdKCuz8ciUWb+7EKbCT/v7ZHMsp2KRo7FKq9Xtus1XW9AC8+jmZWvf5tK+zaH1M2FRwvDo4X2SmAsupNANmFARpcOce0EKk0OLNZbhWOLdBbk6iyIaSdEUW73YBXjRYoMyEV3EGiheOG9uToLVtJeLNSZEd+lQbHVJXuOguSEcyrsHigpDkkqHTK1JiycQRWsdzOiaywx2tHCeLGW98vCX/EMzS2VTg+iOwmkEno0kAzqSArxGg1KQ8bkiX0V5fdDO5eTtLqAxQzHoGWGRpHmGVLIU79Pkt+jYP1h9lS62E9jKWUTOoJDo6Wfe2pounLlCj788EPs3btXUAc/+OADXLhwAbdu3Xqq654+fRr79u2bcwD80Y9+hGPHjj3vR9X8moM1D4Av2Przn/88ayB07do1DA0NzSpcnTt3DkNDQzh16tR3wtTExAQuXLgw5wC4Z88eXLhwQTR/+EkmqEzF5qMjIghM2boBr+1jsGRQJ5g7J/V2oHLEJoLARH8narY7BADM7FWjcYRE0wglGfXWNEwhkhJD4PI+K1YN84gIG/WmGGTx745OEQRm0gb8fMiPBZZuRIREhkOLPKdBBICKPg6LXBZUcKRk7FeMkUBzL49chxkrwoyB851WVDDTacB8hwVLHXZEEmosdzpREpxdGxotvBfpegOU7LQCGBrNwSaIKg8pAcCppolsnRktDC+BvGKbG6lqA6I7CCw12dFEBlW7TgIpah2KLC4R3MW2EyjWmrBEa0SR0S6Bv5h2AukqAwqMDhQYHWimeCR0aQUIK7a6kNSlk5yT2KnFf3j7UWZ1S+AvV29BhtooOSdDbcQvfP2y6mQjycqC5GKjDSndelTYPWimOKRrA80sCV1q5OiNEviL6SJQJHP9NMKAlzkfaklakhoukwNAlRpFDqfkZxerJrDEakOZK2Axs8wVmASTatYhdYYJJNEhHpFTUT3DbGOlj0OhxwGln0UF70GsRY0IUzeGT56YFYiaLXXw5MmT2L9//5wC4K1bt/BXf/VXOHv27PN+VM2vOVjzAPiCrdkEwMnJyUfOxX2SePDgAY4ePYqRkRFcunTpsc7Zt2/fU4HX9429e/fi7Nmzwj/w32f+8O/fH0TClvWoGjOiYtSC+J7NqB9ziiZ8JPa0o2LIIoLAOG8bKraaUT/sQgpPCAbPCpl5vzXbPIinuxFBdqB0ixO5vBlptA4lvU7JvN/arSTiXGr8u6MLi3kLCjkHoqwqKLawIgCMsHQj1kagqZ9FvI1Ag58RYC/KqEZzL4+oMAgspl1o4BnkO6XNHtF6NZr9HMooN7LMJrEvnYaA0ssjUaednt0bAgylLnfA6FmAPw4xoU0SFCOatNEc1pxRYHGg3hNopMg32gKNGWGQlK8xosbpQb2bkQW8mHYC9TYPyg025Kv1kmONbhYxbYQQORozVtJe5OqtKDA6ZK9X46AQt5lA7GYCFVYPmjwc4jo1iO4gUOui5T+DixHuUW71QEnxSFLpkE4YsEjm64ruCJ4TBp7FWhNepjnEdRMSAFTOoJzWu2kRDDaSTHAOMi2r/tXT8qPsFKzUzHqJ1YbX+voEi5nHqRUsCfuPRqROhXgDgSyrUbSXYNTgla09z8RweUodPHHixBOrgydOnMDBgwfnFACvXLmCl156CV999dXzflTNrzlY8wD4gq3ZBMCpYeXft6v4zp3vbp6Qi/379+PMmTNzDoD79u3D2NgYJiYmvrcP4cOHD9F+ZExk7pzQ24a6HQ4RBCb0tKNmu0MAwGX9Oizz6VDIaiXzfuUgsGLAhZYhVqT6xbhVgdRvGAQu99vQPMAhwaERAV+1z42YMAjMpyxY3e9DvEkjUf3KOQ8WBtPBDT4GCcFUb7JZhyYZj7gqhkSJxy2r+EUSaiy2WbGut0cWGmLVBJo5Hq0sL4K/UEuXlZwXrax8Z+6UQtYS0mwRHispL8qtHlQ7KAl4tVC8AF6xbQRqbB4UBFPBZVqzCP5Co5X0YiXpRb7OKrpeFmFEvsaK2CAATkWuxoLXvf1YSJil6p/KgFytRXKPdJUBr/v6UWyRppIbPPJAu1hnQVKXDgs1ZrTQPErsLkR3qZGm0cuml+O6NFhqtkv2YzoD6e9GkkG1hxJmGker1SgIGa8X+nPMs0gnnKRodcjQG4QUfyPDoJ6lsdxll50/XDZDY0mTV76BxPneu3MCWJOTkzh79iwOHTqE7du3Y2hoCPv378epU6ck6uCxY8dw6NDcGlKfOXMGL730Eu7fv/+8H1Xzaw7WPAC+YOsvf/nLrIHQ/fv3v/c0jqtXr2LHjh145513vrN5IjzeeecdnD59ek7h7+rVq9i2bRv27Nkza3Y69x8+wP9+u0cEgYm9bagZtYkgML6nDY2jLihHKUQxHYig2xFJd6B2q1MCgTVbHYHUb3Deb57XjHyfGYs4kwj2IpydUAwywuskkkB9H41MjxHFvEui+i0hzcilLIiwdKPGTyPFqscCgwrLKQcWu60SCMywG7Bua6+os3cqGrwM0iz6gIrDs4jVahBJqBGjIdDs5UUdvzEaAk1B42IlyyFNp5dAgpLhkGe0ooGSH7vWwniRZ7DKNkgkqXSosHsQ2x6orcvXi9WyUMCLaQuoc+VWD2LaCVQ7SMR3aGQBbx3bgzKzS/ZYo4MSwC6hXQOlm0OR2YmYdgJNLlYCf7GbCSzT2ZHWqUdyuw5KN4cyi1uAtmaSl71PpZUUlMRyiwfNJI9klQ7JKh0W662yANggo3SuMDvxur8fi/QWyfdvJssbBSVWCzM0RjSSDF72+hCrJmTUP04W8Jtn2G/heMFiJtduFn63amaYS7zUZZPsZVgN+Gpyck5BayZ1cNeuXYI6+MEHH+Dw4cNz+pn++Mc/4q//+q/x7bffPu9H1fyagzUPgC/Ymk0AfNKxaOFx/vz57zWO7tChQzh58uScwd+FCxcwNDSE8fFxnDp1alavfffBffxiHy+CwKTeNtSM2gUAbBh1IbdPj9phNyLodlEEVD8xBBYyWpTzZiwIm+u73G+TqH4NAzRKe5zIpcwC7MXZAzAYDoFpLj3WDfQgMgz2kq061Plo4XWciUCDl0FUsHg/RqZOa5HDjHV9PYiSUfwKXU6scDkRqyEC6cKQOr4co1mUQlQyvKhjt87DYLHZKsBfc5iyV+WkhDq22E4CDW5WBDsJHRrUWl1IJwyoddGIb5cHvNW0F7UOSvbYIsKCXLUFsZsI1NlpVFo9wrF8woSkNo0s5P2C60O1jZLsx20mUGUlEbuJEEWFxYN1TK/sZ0zo0GCF0Sm5VnqXAa97+1EaApBTUTdDenmpwY6kTh3i2jWocVBQkByS1YH0spypdUK3FvlGq6xauNhgQwZhRJOHQZUrMPM4Tk0gT2a+caJGiyyDUbKfaTAiMWjkPRWFDgfW+v0o8bgQpRX/rslNGonUqbBxz9xarTyuOjhlRH3q1ClcvXp1Tj7DgQMH8OMf/xh/+ctfnvejan7NwZoHwBdszSYAfv311xgaGsL169efGByPHTuG4eFhUTftk8b777+PEydOPHPwe/jwIT788EMMDQ3h4sWLzwQ8Hz58iFt372DNbioMAtvRPOZB9bBTGOkWw3agTg4Ct09DYMlWO/J9JqzwWRDr7hYA8N9dnUgg1ajod4eogIGJH1U9JJIdWgnwlXpMIvir4klEG9VQ9nISxW+BQQVlL4eFDpNkukMJ5UJ+iLVHlC5QzxdDEGjhedmO3xSDHq/29spOrYjqVqOBZtDKe2XtWpLUOrQwPJQ0h9hg7VxoxHVq0Ex7sYrxzVjXV22nsIb2ycJVcqcOpSY34jdroHBxWKa3C8fi2zWotklhrcZGocZOocgkhbLYzQRyu41IbdMhdiOBMpMbTU4W8cFjrR6v5HqxmwikdeixVGNDntqCVtKLherplHMr6ZW9zwqDE4ltWsRuIlBAmFGhsyK1W4+EDs2MNYnhdYwxbQRSu/T4D28/alwUYsO+/ytnUAXDYTy6g0CmxohXvD2odHkQEzbKbib1r5mT359SirP1RpSaLaihAxYzcmnhWAOBM1988dzhT04d3L9/P/bu3YuJiQlBHTxy5AguXrz41J3F3xVjY2P46U9/Og+AL8iaB8AXbM02AD5qKoas0nX3Lvbv349du3Y9MTiGx5EjR3Ds2LFnCn/379/Hu+++i7GxMWHqyOHDh/Hhhx/OKvzdv38fd+/exdVbk2je5Ua0fyPie9rQMkYiza9GxTa7aK5vDNuB+mGPBAKbt9NQDDGI9HQJc31X9NqRxmhFEBjp6kIpb0E6pUOZz4UIazcirN1YytqQQ5olEFjbS6HC68Yil0UEew1+Bglmcf1fIeVEo5fBQptJ8sBNNevR4GUQZyDQEJwhOxXFLpfQ/TsFfxXuQBdvidOF5TaHBAAVNIcsrQlKmp/R9qTY4kKVk5St62ulvMhWmdBC8ogNA56FGjOW6myI3UygQG9Ho0sMQAoXJwKxhDYNWjw88rQBEJODtdhNBFrcPKqtJGrCVL74NgLFOjtiNxKiWEJYsJbyI6vLKHu9lW5e9P7kNh2a3Tya3CySO3SyAFhtoyTXSe/U43V+iyitLICwg5RVORfrrEgJ3iNfY0Ur5UWhxYm0GVTBxG4tcvVWyc8hvlODvOB+lsaEJpJFhcuNJEKDhUaTBPJSdXrZMoBckxlxao3k96TSTaKOotHEsci0TDeB/O+hgecOezPFO++8gxMnAp3JN27ckNQOHjhwYNbVwS1btiA2NnYeAF+QNQ+AL+CaTUAaGxt7bDPma9euYefOnThw4ADu3r37ve997NgxHDly5JnB382bN7Fnzx7Bi2tq/4MPPsDx48dnDf7u3buHu3fvCmP6rt6+iV/u9WPpFqMw0i3B24XyMAiMZtvRMDINgcVb7Vjit0AxxAjwNxVL/BYs5IwiCCzhrKggLQL8TUWG24A8p14EgE19LIpZF3KcZoniV0g5kBsEwzovjaSg91qWzYgKGSuOVLMO63rlTYQTtVooeQ7pJqNkXFkCoUULxyM6BP5iQyxcatw0FpumJ2lUOUkkd0/bqyhJPgAlQehoJnkRFC3uNqA8aPGS1KlFpdUjAadKK4kKm+eRgNfs5NDq9mKhyiQ5pnByIlirspCos9PTCl8Y/MVuJBC3kcDSTgOy2vVotJDI6jII16u2koiTO2cDgRoLhSozCYWTRUJIurnZzcl+7ly1GekdesRuJFBqdKPFwyNdZUBsO4ESi1sWAJUeThYwX+X60ELxEghsob2yIC6nCkZ3EFhFe6HwsKhwipXBZo6XVwVn8H6sp6ZLCGJUBEqdAYuZdz8999xBb6bYv38/Tp48KasOXr58GcePH591dZBlWaSnpz/vR9T8mqM1D4Av4Prmm29mDZLCTZFniosXL2JoaAgnTpyYFduYr7/+GidOnMDhw4efCfx9+eWX2L59O95//308ePBAdOzo0aP44x//OGvwd+fOHdy7dw/3798X4srNGygfsovm+iZ6u1A2aBNBYBTTjqYREophBlEhql/DII3IMAhcyBuwxGdBjKcbTVtZAfgaemksCIPAWJsalV43Ym1qNPaywlzVDIcRJaxbAoHpdgN+vqVH0uwRE7R3CTV4LgzOlV3hdGKZ3S6BwIUmM1bzvkDdl8zDvNzlwSrOK4K/qUhR69HCeFFmcyNNZZAoWZmEEc0UjzonjYR2+Rq8JheLNZRP9ljsZgL1DhoKJ4sCrV0CUQU6OzI7DIjbQCC9XY9Vbi8ygsBWoLUjo9MgC3kvkz402hnZY6vcXsRtIIRI2aRBldaGJWoTlmmssue0ODnROYvVVrR6vCjQ2ZEjA6axmwgoXZzkOmkderzO96Pc4pHAX6nFLTSXiNLYhAWpnXqhuaXByaDRwyJTY0S21iyBvIQueVUwoUuLvBBT7RyNGQqSRZXLLVsTmK43IFmjk/y+LLZYZUsIlMzTGT/PVezbtw+nT5/+zvfduHEDZ86cwbvvvitSB0+fPo1r16490T2tViuWLFnyvB9R82uO1jwAvoBrNgFwYmIC58+ffyTknDhxAkNDQ7Nu2nzy5EkcOnRo1uFvyoz69OnTsrA6G8pjqPIXDn9T8fnkNRQNWkUQmOTtRmkIBBZvtWJZrwVNQ7RE9asbIBEdAoUR7k6U97kCnn5hwFfXRyPGphIrgXYNKl0WAf6mItasQUMPK8BfrIlAk4+VwJ64AJ9GGelGntUigr1knQ4KjhNe51ksWBYcSbbQYEItSUke3E0Ui1S1YdqyJQwCCy1ONLgYrDA5ZWvZyixu1NlplMxQh9fq8SK1XY9WjxfJ7VrRsQK9HZldRsRuJJDUpkWrx4us7kBqNqVdhxKDSwRecRsILOw0YZXHi2orJQtrGR0GLCNsiNtAoMzoRqOdQdwGQqgDTNykkVwzbgOBeoMTpWozlnSJoTJHZUZ2p1H2nJVODhWEBcsJswj+qiyk7GdL79AjT2VB3AYCJQYXVrp5ZHQbAp3QdmmjSuxmAis9vOz+GsqHFg+PCrtH3GE9kyoYMh0lNJpJDjlaM5QkizKnS1AGlYy8+qecQRUcOHbsuUPeo2JiYgJnzpx5onOm1MFjx44J6uD4+DiOHj36WOqgWq1GWVnZ835Eza85WvMA+AKu2QTAt956C2fPnpU9du/ePRw8eFBUPzebcfr0aRw8eHDWrhfanPIoM+oTJ07g/ffff+r7PHjwYEblLzzOX/8Ky7aaRBCY7OtG+aAdimEaUWQnIjwdWODpkIXAqq0exJEqRLg70TTAIN5JINGlQYXfI4HAxS49kp1aRFi7UeUnkWo3IMKoQiXtxIIwCIwwBpo9Mu1GSXF9o5dBgkE83q2McqPEHTRsljEFbmJZFDtdyDdZJPYtzSyPhGBdVyPNCmbI0R0Eql2UqNN0sdEmeOEldmixkvIioUMjwMMygx056gD8xG8iUMXWoc4AACAASURBVKW3Ia1zuk4uXAVbqrGhyckGO2f1WKF3SiAps8uIVo8XK8NUt9BY5fYiT2XBShePxM0a0fnNMueVGlxQOlgU65yy16s0eZCwcRoMy3V2FKnNiN1IoEJjkz2nVOdEfMjrajMJhYNF4mYNSo0uWQBsDVMf4zYQSGvT4zWmF5UWaYp8md4uq6xmdhsC4ByilLZSXiw3OwK2MjINOnIWNfEdGuSFeSYu0prRQvGo99CI7hJDXgqhkVUFC2x23HoGxs+zGePj4zh37vulqEPVwZGRke9UBzds2ICmpqZn8tw5f/48XnvtNSxYsAB///d/j6ioKPzhD3/AN998I3rfxYsXUVNTg3/4h3/AP/3TP+HXv/615D3za3bWPAC+gOtPf/rTrEHTwYMH8fHHH0v2b9y4gV27duHtt9/GnTtP7xP4qDhz5gz2798/K9e6d+8eDhw4gJ07d+LGjRuPfO9HH32E995776kAc6rZ41HKX3icufYF8vsNAgAWbbWgZKsDRf12RHg6RDGTEti0hUaErUuIGIcKdX2UBAKXsTas2uJFpEktgr1qL4UEi0a0l2PTo5ZyIklmlu8K0ok8R2DiRz1LI1Grna7xC1H8pqLQ7kC1m0SRzSnr4Vdoc+Bl3ieCv6lIVRugpHks0pux1GCXpCpXmJwot3qQrTGhQCdN2+ZrrGhysqi0eJAc7MANj1orhbWUX/ZY7EYCK108lmlsUDhYCTA12hjR66WEDc0uDvEbCSgfAY2rXV6UaJ1Q2lkRuCVt0qBILw+Ga9w86oxu0fvjNhCI30BgWZdB9py1pD9Qs9htEjefaGxI2ayTvD9hAyHcv1jvRKvHi8xuA2I3E1C45f0LZ6qZbPV4UWkh0ezhkR4cv/co9U8ZMv9YZMQd9EDM1Vqg9LAotbsDM4ttdln1z3JgbidsPE3s3LkTFy5cmLXr3b59G5cuXcKxY8ewZ88ekTp4/PhxXL9+Hf/5n/+JtWvXPpPnzujoKF555RWMjY3h3LlzGBwcxD//8z/jN7/5jfCeb7/9FikpKVixYgWOHDmCXbt24ac//Sl+9atfPZPP9KKveQB8AddsAqCcJcrnn3+O4eFhHDt2TFI/N5vx6aefYt++fd/7OpOTkxgfH8fbb7/9WM0pp06dwrvvvvvE8Bfe7PEkcfKry1jcb4ByO41oqgsRZAeSWQJFfTYJBCpCILCsz4kc2ogSnxMpbq0IAiNt3SilzAL8pbh0qPZRyHaZUUDbJYpfIe1EttOECKMKVTyJJGOg2WORWYfM4J/DDXbX9foRE5z+EBoKjhOgsNjlQpYuMHM2Ua1FC8tJALCJZJHSrcdK2ouYdmm6MFNjwhrKh0Ua+akbaV16vML2IqVdKwsiSzU2tLh4LNHYZqzDS9ykQavbi8ywOr5yk1sESpUmD6rNZKD2TmXBwi6TLHg12BiscvGIf1N6rNpMIvFNDeLXE4hfT6BI40CLg0PCBmlN4FSkbtahQG1D/HoCy9Q2rHTySN2sDSiEarPsOQs7TVjYYULcmwRSN+nQ4uRQYgiogXIwG7chALuSe7fp8CrdE/ApDIO/HMKMtE695Hue0q4L+CQGv48pbTo0OVnUOSgUyMxUjm0nZC1q4toJLNHbJD/zhV06tHhYlAanmEzBX6pWj8tz5Kv3fWJ0dBSfffbZM7v+jRs38Mknn+Ddd99FbW0t/vEf/xHZ2dkoKirClStX5uRZ1NXVhcjISOH19u3b8YMf/ACXL18W9rxeL/7u7/4Ot2/fnpPP9CKteQB8AddsAmCoF9/Dhw/x0UcfYWhoaE5m9F64cAF79uz5Xte4fPkyRkZGcPTo0ceG1Y8//hgHDhx4Ivi7f/8+7tz57pTvo+L4lc+RwWsRQXYIkcJpUNhnlUCgchsNxQCLKHu3AHyFXjvSPXoRBEbYuqDYwqCAsyPPYxVgL9mmRznnkUBgtsuMl/t9iA4zdc6w6FHoEM/4rSM9iA16/MmlfYucTigYFmkavQT4GigG6drAfiPJIr5zOo1b66SxSDfdTJCq0qPc4kbsZgJZKiMUbk4EAvHtGtQHGyxyOvQo0ztEIJLRZRAUrdQ2HVa5vUjYNJ2mbXIwIkUtp8uEFhePuI0EsruMWErIp1yVDhatTiksTSlyNSYS8esJlOvdqLfSISlWHZYTdgH+QqPFzmKlk0fiRmld4CqnV/L+7DYDqlVmLAvW8UnqCI0uxL1JSGKtxw+lnUWCJP2rE2oCJdcKfg1FQVUwW2V8pH/hSg8vC9vNLg45KjNWevhA93Hw597kYWXVvyaP1J8wpo1AU8hc5HydFS0khxK7C78f3YHr16/j+vXruHHjBm7evPnMfPW+T4yMjODy5ctzcq+bN29ieHgYRUVF+Ld/+zf84Ac/QEZGBv7rv/4LR44ceWbPov/+7/9Gdna28Pr3v/890tLSRO+ZnJzESy+9hD179jyzz/GirnkAfAHXbALg0aNHcfToUdy7dw/vvPMOduzYgatXrz5z+Pv664DSOD4+/tTnf/LJJxgaGpqxhnGmOHPmDN5+++3Hhr/Hrfd7nHj/8gWkchoRBKZyGiwPgcAcrwGlPS4oB1gJ7C3hrMgIg8CGPgbNfbxss0ednxFeR5nUUPhZJJt0sqO24gyBZpBonRo1bpcI9qqcTontS7WHwiKDBQ0kI5v2zTdZ8TLnF8Hf9KxcExo8LJK6daiWaUZocrHIJkyIaQv47kkhg0dmlwEJmzWot9ESmCnSO1FtIVGkdyK9XS8LPOUGF9ZR/kemcJM3aNHq9EpUwNUuKazVmEhUm0m0OnlZ+Et6U4MynQvxbxAoUNmw0jENgmUGN5JCFMPQaDJTSNuoQ6uDRwFhn/4aNfaA+hgW8esJVOjdiF9PYKnKilUuLxZ2Bj7/TOpjrZWS7KVs1uFl0oc6Gy2r/i1SmSU/l/iNBJbrHKK9IoMTraQX9U75CSUlFvlReytMTslefLsGH1++gtu3b+PmzZu4ceOGAIPXr1/H5OTk/zMwuG3bNnwxxybVLS0tWL9+Pa5duwaO47BmzRp0d3c/k+fQ2bNn8eMf/xgOh0PYe/3111FaWip579/+7d+C5/ln8jle5DUPgC/g+p//+Z9Zg7Djx4/j3Xffxfj4ON566y3cufNs6v3k4vLlyxgbG3vi8x48eIAjR45gZGQEV65ceeLzHzf1/CTNHk8SBz87hyRWLYLANF6Dgl4LagdIpHi0iLB3IcLeJQuBGQ4C2R49ouwqNPVxAuA19rCIDIPABUYVFL0cUu0GkadfjF4NpU/a8Zto1ODVvl5Eyyh+eXo9snS6ABC63EhU6USzZOO6CbEK6GFEaV+5hoDXuL5AelGm7ixHbcZ/8H0z1u3lqi14ne2bEeAWdhqx1uNHzgwp3FVBiGu2c8hTiVOsdRZKlMLNbjNglcuLlM1aVBjdSN6glYW1ejONRjOD8iCAhcYqpxfxbxCiWNptxSonj2qjR/Z6VXq36P1J6zVQ2liUG9yoNpGy6l9Zt1lyndSNOrzs9qHK5JGHYaN75nTxmwRWaB1odXuR3W0Sav/kfibhPolT0WBjkLBRgzorDaWLQ0rQ37HWScvCX72Tkd3/Xz0Dor9Ld+/exZ07d3Dr1i1MTk6KgPB5qoO3b9/GwMDAnI2Am4qamponBr433ngDL7300iPj8OHDonMuX76MmJgY/OIXvxDtv/7667JdyH/zN38Dr9f75A+7+fXINQ+AL+CaTQA8fPgwBgcHnyiFOlvx5ZdfYnR09InOuXPnDt566y2Mj49jcnLyqe574cIFTExMzHj84cOHePDgwRM3ezxJ7LvwCeIZlQCA8XQ3WrZxKPDaBPh7FAQWe51o6mElql+Nj0asmRDtLSFtWNPvl7V3Ufo5wfsv02pAiduNKLUadTSNlCDshUa6wQCFyyMZGxbdSaDSRSJHb0Z0lxr1HgYJnVrRfNpsjUlUD6YIGhoX6OyokOlIXekOpF/L1GZJ3V7sRgKtQThpsrPI6xanNRM2EKi30IhfTyCn3YSVTnGtXoOVFgFexmY9Vrm8SN6kRW6XGfldFlkgK9I4sM7jDwCZTLp2SacV8X8gkPAHAkoriyKNA/HrCRRrnEjdoJMAYPwbBFbZeSzpsGKVw4vUjdNgmfSmBsUap+w5zTYOdUYK9RZaBH9pm3XI65QCYPx6Agozhfg3CNQYSTTZptPDyhlqBZdr7AGFMuT6KZt0WOnk0SwDenEbCdku69iNBKrMYvBMb9ej2cVhLdODOBnQq7bLz2c+ePbcI/9e3b17F7du3Xru6uDNmzcxMDCAGzduzCkAFhYWwmKxPNHz5Nq1azh16tQj4+HDh8L7L1++jLi4OKxduxZ//vOfRdeaTwHP7ZoHwBdwzQYAPnz4EKdOncLg4CB27949p+A3FdeuXcPw8PBjv//69evYuXMnDh48iHv37j31fT/77LMZv+bwZo9nAX9TsfPcKcTS3SjotWApb0WEvQsZlF74c2hUcFYB/sp9bmQ4jMhwGFFAOSQQWM57kGTVBSxgeBJpFr1g7xIbVvsXqVOhnqex3G3H0jBT5+UOB/KtVtGekuGQ0K1FCyM/ui1LY0ArxSExBP6mIldnQbWDCnR9enjJGLZVpFeYm9vgoJGwcRoY8lUWoQ5QUJQ2TMNJdocRLSH1enL1dNVGEiV6J5aorcjpMMlCUqHajlfJHtlj8esJrLTziP8DgQqdG7UmSlzfZ+MQ/wdCFElvaLDSxqHZxsqC3LJuKzI36JHwewIJvyeQs1GParUNaRt1soph/BsEMjbqsbjTItyjVONCi51D4gaNoGqGx7JOMxLDrrOky4rVLu+MqmCzg5NVGKfS3ys0DrS6eKH7WOFkZeGv2kLKXr/CFFAdF3UYUKWzoTDYAV46w9SSRjf7RH+/ptTBmzdvYnJyUgSDz1odvH79OgYGBnDz5s05BcCcnBwwDPPMnj2XLl1CbGwsWltb8e2330qOTzWBhDah+Hy++SaQZ7TmAfAFXN9+++33Aq/79+/j0KFDGB0dxbFjxx67Hm6248aNGxgcHHys9051Jh8/fvx7TyK5dOkSdu3aJQt/s9Hs8SSx4+xJJLo1ItjLpAxYwkkhsGkLA0U/h6gQi5cUux5FjEsCgSsYJ1b2cIjVEyLYq2RJpJh0or0i0oV6mka2ySRR/DKNRlR4PIhSq9HC8ogJgT0FxSEpJA0c3Umg1GhDYrsGFTIecDHtBOI6NHjd24/4GcawVVlJKBwMUjZpZ0xJVptJpLfpZeGkzkJjrds3I8Clb9LhNbIX6Zt0ssdXO72I/wOBBjONIsIhVtCsjATwmiwMVhAO2WNTsdruReobWqyy8cjvsIggrMnECPAXGpVaN152+pCxUS8BwNUOr+x9avVk4JxNesnX1WhhZGGySmVF6ptaKMy0yLOwWOcUAfZUpG/WY1EYPKds1EJpY7HG40PcBikA1lmlNZpxGwg02RnJXrnRjf/g+5GtNkkAsP/ose/1d20mdfDGjRuzrg5evXoVAwMDuD3HXoXJycnYsmXLM3nuTKV9i4qKcOnSJXzxxRdChD6bUlJSUFxcjCNHjmB8fBw/+9nP5m1gntGaB8AXcH0fAJyaj7t3717cvn0bn376Kfbu3ftcAPDWrVsYGBh4JNBNKZWz2Zl85coVSe3hbDd7PEn0ffRHRDq6JRCYz5qE14kuAnU9NBQhNX9TkWTToYyf7viNMqqh8HNY6rIhN6yzN+Dx50C23YRInQrVDIUUnR5RKjXyLVYsdzgkEBin0eC1nj5Zxa/Y5haMnOvcDJI6dcIDu8LkQEpYA8hUQ0e1lUIeYZGOYtPakNthQJXOLgsNed0W1JhI1JkpWQAsN7ixqN2EVQ4vEmQArzWo4C3tsgagLUwhTFqvEYAqeb0WqxxeZG7WI7/Tgpw2kyx45bdbsNbhQ26bWXKsUGVH+nodEn5HIOF3BDLW67Ha7kVOmxFKKysLfwm/J6AwsUj4HYFFm0xYbfcia5MB8W8QWKG2I+VNreznaLFwSPgdgZyNRqy2e5HXEUgF15koWfhL26BDbtjXVKqyotboRqNV/vsrp6wKcPwGgeVqO1a5vFjUbRYmocyUXg73OozbQGCJ2orETRokbdKi0c6gyckioUODpXo7bj+F/dLjqINyqeLvqw5+8cUX2LZt25zC3+3bt7FgwQLs2rXrmTx3PB7PjDWCoevixYuorq7GD3/4Q/zkJz/Br371K3z99dfP5DP9X/bOMziKc8v73g/7ZX1v3VtbtbVVe2trd6/tC8o5EAQSQRIiSEIBZZFzFEFCOefpnpw0mhlNBGPuC0ggEEEEg0kGm2CTcw4CCRFusP/vh9G0ptXPYIKSrTlVp8pW9/N0azQz/eOc8z9nqJsDAIegfSgA3rt3jzMf923p0L72jo4ObNmyxW4699WrVzh+/Diam5vx8OHDXrtuz9rDvhJ7vI8bzpzE//aI+LmqePDTCjHKIMeoBgX+R1KD/5HUECFwmIxGhFkLV4UAEQYtA3v+dVKMUSs5EBhYJ0PSxg34C0Wz5rG6C0WI0GpZABhvMDNCD1Ltn7dAglTjlyz4s3qQSIkQiaX3W4RQyYoM+VSLEansVpj61UrgX9mt2I1VGeFd2d382K1MgEkii1hieCGFBJUJbqUCBk78q6QYXSPvjm6JNJjAV9m0YOGmaKfL9BhdK4dvhRijq+VEsAqskGKe9isMzyNH+GKlFljzLhYhSWmGe5HAUgeYZ4nKWeHP1sdUKpBetxGeRQIO/E2X6DnnW6EuTm4g3kOEQMNZ414oQILCaElNEwDQGu3s6WMrJAgoFmAqpYRXWffr61kuhF8FOXUeJmCLVVyK+IiRGzBbt4nYJzGCT269k1DPVSn7VImhPXK8Tz9/1uhgbwlJrO2p+hsA/+M//gPffPPNQD+iHNZP5gDAIWg//fTTewHP69evcfHiRTQ2NuLSpUusY3fv3kVLS8uAAODLly+xZcsWdHRwlcft7e3Yv38/Wltb8fz581697qNHj7B9+/Z+EXu8j9efPsZJ+8b/PyOC9XUM/HVDoAH/I65hQeBorRJJmzYQGzpPaKhn/SzObIKXSIwwtZoFgH+u5eEvFI0YgxGf1fIQ16PWb6paB3dKxP5ZvQ7uVULM0JqJtVsuVQLMMX2FvxDqw/5SQmGapB4eFQKMruJOuhhFyTFFpsWwIgqxCgO3Zo9SIkKsgVMxjSliLQdyXIv5SFKZESaoh0exkAg8niVCzNN+BecCmng8SWGCUw6FybQGEQINO+omN3LAa3SlHDPkRiQqTET4G55LIVFmglM2Bd98AaIoFdwL+RieZ4G2sVUK4poYsR6+RSIkK8zwKxMz9zA8j0IEnwuAw3MpzJAa4ZJLI05qsNx71+viWy6GT6mI+PtGi3XdEJnPR3iVFKMqRYgU1RPhz156eTylwvB8CmNqFEhUmRmhjne5AM6EPohelSJ4VnDfAx4VQjx42tZvn8Nfig6+CwzeunULzc3N/Q6An376Kc6ePTvQjyiH9ZM5AHAI2vsA4KtXr3DixAns2LED9+/f/8VoWH/669evmULpnoC2c+dOHDt2DC9fvuz16z558gSNjY39JvZ4V+/s7ERh8xb8j7Ia/6esQcxmA/5HUgNftQSBWhkHAqdv6obAMKMGHjIRvhBSiDbrORDoIrFEBv8s4CHOZGJgz4nmY5pOz4HAz2spzPlys6VZc4+I31iZCqMlSgb+XCttZvFqjHDpEQmMVunhVEIjvt4ElzI+sXfcZJ4UfhXcsWV/KaYwvITGAsNf7fbJcyqisUC32ZIaJYCId6kIcTIDJvWAN6tbQW0iT4UpQi07JUqp4JEvgFMOBaccCs45FBLkJgRWSDGyUgbfErGdCJ8c0/haRIkaOMemCrRwzqbgZONB5XIkyk1IUZqJ+7nl8xFSqWTO9ym0gKB/uYQIocNzKbgX8DGmQs7cu1MOhWkCLaIleiR2pcJ7+mQ7EUuvQgGm1NYhtFqK4T0U0JOEGuLr3lMU41xII7RGhjiRmtOg2tqWh/T3z9u2a0A/kx8SHbxx4wZaWlr6FQCfPXuGTz75BNeuXRvoR5TD+skcADgE7V0B8Pnz52htbcW+ffvsRtEeP36MxsbGAQHAN2/eYNu2bXjy5Anz/zdu3EBjYyPOnz//0WIPe24Vn9y/f39QgN/LlxbhyTfffINdu3ah6tAehJk1LNjz00jhr5FyIDB6kwHTNxjwhahb7PGZkIfYjdwef64SPmZt2sSBvS94FGINRtb/R2sN+KySwnStRfXbEwK9+BKkGDfCtUrAad8yUarGSIEcn5dTmKpsYI1ZCxWrEUSzU8GhtVL8pYiCV4UIU0T1HACw1peFC9VMW5WedX3D8yhM4KkQ3iMVOayAQlxXitY5j0aiwgSPYgEDJeF8NdwK+AzoOOVaAM+vXAK3Ij4m1qpYAGV13yIR5mu+gkseTQSmaKGOgbXpIj0m1qowPJeCaz6NkEoFC/6sPq5KidBqFeIlRjj12C9ZYSauCSyRIF25ESPKpJx7SFaYifceVC5DBKXGDJmRE/W0l7K23WtMhRzThWp4lvAxrkpMhL8xNQpiRNWjiA+fEhHGVCuQpDJjRFf/RacSGiN5ciL8X7h7b8A/n1Z/8eLFOzWhvnr1Kvbs2dOvAHjnzh188sknePz48UA/ohzWT+YAwCFoP//88y9Czv3799Hc3Izjxy21M/bOa2tr+0UhRl/69u3b8ejRI7x+/Rrnzp1DY2Mjbt682WfXe/36Ndrb2/H1119j27ZtaGlpwXfffYe7d+8OGAw+e/YMra2taG1txbNnz/Dy5UuUHNjDgb0AjRR+6m4I/D9JLWK/NGL6BgPTy4+V5t1oYv7bXSrAJI0Wn/MoxBpNHAj8cy0P8SaTJSKo1rPm9IbXaeHFl7AAcLKqAZ41Iss4MEITZ1+eZbYvaQqHd5UY0V0tXSZRMo7QYIbKxKiAx/NkcC60ES6UCDCjztgt3BBp4NaVPh2eR8GlgEZyndki5iiwKHA50bkqBaLEOniXiBBcrSQCj3+pBAu0my2gRYCoRKkJTuspjK+qQ7RIx1qbIDNyQM01h0aizIQEiY4Ick7ZFKIFOjitp+C0nkJoTT1ixXompexVICSuSZaZ4bSegmeeAEkyM0aWS5n79y0Wke+9K/1sjTwmKczwKhEiUqwjvhY+xSL4FYs5+3gVCjFLtRHBNnWX3ermBruKaNt6R5d8GjFSPeY0fEWMCs43/nXAoe9tMNjRQW5C/eOPPzL/8O4vALx48SI++eQTvHr1aqAfUQ7rJ3MA4BC0XwLAy5cvo7GxERcuXPhFsLN2rH8bJPalNzc3486dOzh69Ch27dqFx48f99m1eoo9rCroY8eOYfv27dixYweOHz+O69evo6Ojo18eIg8fPsSuXbvwzTffcK6ZvW8nAQJl8FVL4KSgMdXUPc4t2qzHZ0QINMJPKbGoe3vAXk8AdOELkG7ehL9U0SwA/KySwmiJEkFdad/Jqga42UzvSLDp32f1CWIV/KuldkePDSumECtUYjhBafqXIgoThPWIVugtogNChCmcUmBcrQIjKqREFW0YXY/kOjNc8skRuuG5FOZrvoKfnRTudJEFxqbSWk4UMLhSCe98IQNrTuspxIj0CK5SYmS5FL5FIiKsBZfL4ZPLxwyhDp75AtaxeLGBtZ/VJ1MazFZ9SdwvqFwOzzwB63yPXAGSZCak120kwt+E6jq45tCcvfyKxJhbvwkjymTvHEmMFDQw66OEDZgu1cOpgIJ/uQguhOifayEfIytkxL9XKFWPoEo5kurMGGkzq/jAhcsDDnrvA4TPnz/H06dPcfDgQXz99df92oT69OnT+Nd//VdOc2aH/XbNAYBD0OwBoO2ItLt3774TFHV2dtoVYvSH79y5Ey0tLThw4ECf3cO7iD1evHiB27dv49SpU9i1axe2bduGw4cP49KlS0xUrrf91q1baGpqwvfff0+8p87OTmS0NHEgcJJJS5zlG2XW43MBu9HzWLUSyRs2EiN+cTaRQHeBEGFKDT6rtAg9XGoFHAj0piVI1m9kwZ/Vp9Xp4FUjwhdlFMYIlQio6R6tFqcywrWM3dcvjJLDqYjGVGkDAqqlHAD0qRQjnK/GDDsKVtdCGuHVcowvFxOBYkS5DGMrFEiWm+H8FhHGyFIZ4rparlg9oFSCkSVSBqpcc2gky8zwLBDAOYfCNL6WCGseuQIsUG+GVw+4c8qm4LyewvgSMZyzKDhnUQgqkSFRaoRzNgWfAiFGl8qIe0bSDXDOpBBNN2AyT8Pac4bESFwzrlIJn1whkiQmjO1RAxgrNhBhMk6kh3MWBc8cARKlJoyrrsPwXAq+JSK7kURbAGQgt1KBhQ2biQKTiBoy/EX2iKC65NGYLtFjsen/DTjUfQgEHj58GHv37mVqBPuizQzJDx06hD/+8Y/4+eefB/oR5bB+MgcADlEjRfIOHDiAvXv3vteINHtCjP7wBw8eYOvWrTh06FCfjaGzNnd+H7FHZ2cnHj58iHPnzmHfvn3YunUr9u/fj/Pnz+PRo0e98qC4dOkStm3bhsuX3x7heNHZicXNWxj4m2ioh5dcjFH1cvgqJMSpHp93TfsIb9DAQyjiwJ6txxiM8BVJMF5ez4K9iQo1fPhS1s8ilFr41EgQW28kpn3HiuowTanDKIpbyxUqVjORnXE8GdxKuhsxj6iWsebaOhXTiBQ3MIAwQ2GCRwl7jNoMuYmp2YsRauGa3w0UTnkUJvPqGSiZTGkYoBmeS2FirYoTgYsTGzCy3BL9ihHpiWA1plyO+eqviMec1lOYITbCOZNCUIkcCRJ2GjiiQsbAn62HVddjvoq8p8t6CmFV9XDOpBiPFegRWqPCFEoDZzv3ES80MOe7r+cjUWJCcKUSU2gNEf6csymEVatY9+WSRSFWqMfc+k1E+JvGvTe2WgAAIABJREFU1xL38i8WwztfCK88ASIqZBhTKWNG442tkhMBcJqdusMvj54ecKD7UPh7/vw551hfzytubm7Gn/70JwcADiFzAOAQNVvIefjwIXbu3ImjR4/i5cv3T+U2NjayhBj94VevXkVjYyN27tyJ69ev9xn8WVO+Lz6iiezTp09x8eLFXqkb7OzsxHfffYempibcvn37nda0v3iBuU2bEb3RgGFimoG90fUK+BAgcJpJhyijHk40nwN7n/cAQD+JFEmGjXCq5hPTvqPFSnxWSWGSUgv3KiG+KKXwl1JL2pdU9xch1WCavIGY9vUqFyBSpIJfhZgj5HDuGmP2l6JuUYetj6utQyi/vmt2LreubyJPhYmUCsPzKERT9Rww8cwXIFluhmehABNrVER48SsSY6Fms13Am1BVB88cAWIFeowpk7OOjSiWIrBQwoK1qTwNxpVJ4ZvPh1+BiAiA4dX1cMukMZ3WIaxaxdozWWpm7Wd110wKcxRfYlyFknOPUyktcY3behrz6jZhnI2S2DaSSLq3gAIx/PJEmMrTIlaktyiXuwAwSkiuZbTWJNp6lKABc9Sb4EyAvzHl5BR8UKUcz/upDKOv4Y90rlW1a09I8iFAuHnzZgwbNmygH00O60dzAOAQtb/97W8skPrhhx8+WMixY8eOXm20/EtQ9v3336OpqQl37tzBwYMHcfXq1T6Fv94Ud/SsG9y+ffs71w12dHQrfd83kvi8owNpf/2SA3tBaiW8FWJ23Z/JiGkNOgzr0eT5z7U8ROn1+IJHWSZ/SOUYJVJYmjTXaeHOE3Eg0IcvRaJ+Azy64M/W49QmDC+n8UUZBc9qEULFlqkPTqU0ZtSbOADoXym2TIqwM01iWCGF+brN8C4RESNF7kUCzNVuslvX514gsPTzsyOycMqmkCRswNhyOfHYhKo6eOUIEE03ILicDVcu2TQm16gZoPLJFSJZaoZLNm2JuokMRPByyaQwT/klRhRKuJCVSWFqrQbO6yg4r6PgmkkjUWzCqFIpAosl8M8XE/dMEBrhspaCeyaNJLEJQTbp46m1GuKaGL4OzusouGXSSBAZMaG6Dk7ZFFxyaIyvUBIBMKUHgE6sqEOi1IhIATn6510ghF+BiAjPU2o1CClXIllugo/N33eGjNzCJtewGdeuXUN7e/uAw11vwp+99b0RHdTpdPDy8hroR5PD+tEcADhE7fXr1zh9+jQTSfoYWNq1axfu3bvX5/DX2dmJw4cPo6WlBU+fPsWbN2/w9ddfc5pTD1b4I31xv2vdYFtbG1pbW7F///4Prilsa29HwiYzBwLHqJXwkou74M+EP9fw8OcaHqZodRhOgMCpDTqMq6tHoEDGGtM2QVYPXwE77Ruu1CCAJ0NknZ44u3eKogGBtAwRUi1xbq9V2elRLmAieMMKKMxQmuBWwmePE5Pp4ZxHI6Smjonm2frYKgUCiiWIlxjgUyziQENItRK+hSJEC3QYVSrjqmwptaXOLZvGlEq5JYXadcwtl8ak6m7A87YCXhfA9IQhq4dVqTBH+SXxmHMmhel0A1zWUgjIFSNZYoLrepoBrCSxiYE/W/fOEWJR/Wb45Ao5+3lmCzC2WA6XtRTjXusFSJaYkSI1ke9jHYXwqnrWNVwzacQLDZit3EiO/hVK4JsnIu6XIjEjWWqGbyFb7BIn1BHhL5JuYO3tkydEktSESKEWrvl8zt/Ro1CAg0ePY/fu3di6dSsOHjyIH374odfKLwYT/JH2e5c2MySXSqUICgoa6EeTw/rRHAA4BO2nn37CoUOHsGfPHgakPsb37NmDW7du9Sn8tbW1Yc+ePTh06BBevHjB/Pybb77BhQsXeg38Bmqsm23dYGtrK7Zu3YrW1lacP38eN27cYFL0H6sufvz8OaLNBg4EjtPUIcFkZuDP6pM1DZxU8Lg6FWK0RrjVCFkA+HkFhSCxEiPECnxWSSFMoYFHpQhflFAYXkZb5vj2AECnchrJmg0IosijvUJqJPCrEhPn0YYL1ZbRbV2jxDwLhQwEeBYKLXV+XfDnWSRAaG13andshQIRtIYV/QurqWegI6BIgjixvrvHXqUSvvnsNOykSgUCCiy1gFE1dUTYmVyrQZLECPf1fOLxwAIxggpkSBKaEFDATgF75wgQUqxgwVpYhQrRdAMCCiUILJAQATCiWg23tTRG50uRJDLB1Ra+xGbWflb3yKQRUV6PVLEZfj3ALUFkJF7HPYtGSLEC8XwDJlXVvzX6Z/WIGjWz3i9PhBSpGaPLZHDLpeHXQ5HMKKQFOrsRxul8HWJEOpZQJ2dzM/N+t7ZUOXToELZt24Zdu3bh1KlTuHXr1keVdQxG+CPt/z7RwZqaGoSHhw/048lh/WgOAByidvPmTbszdN/XW1tb+6wO782bN8xczNOnT3PEHsePH8f58+d7Bf5svzQHusFzW1sbLl68iH379mHLli3M798b/QYfPGvDZBsVsLOEjynaBoQoVfAUijkQGKHRwrkLAkNVGnjyxPi8gkK4QgNPnogDgQECGeIbTPCsEnGmdiRqzAz8DSulEKM0WObwVksxSaLhtnspopCu3ohxvDqimjegUop4hQGjKrjtR4bnUkhQmOBeyEe8hKtedcvlI1luaVGS0NWXr6cnSk3wLxJjUo2aCCF+BSLMkpvhkkWO4Hms5yOiUo0UsRnu62nO8UShES5rKLisoTAiV4LJZTK4rHs7rLmspbBQ+RWCSxQcKHNZS2FqtYbZ02UNhbByFWL5egQVy+CbLSTulyIyw3U1BdfVFEbkSJAqNsMrRwD39TRCSrnXcV7XdX8214mj9YioUSOwSAKfPG700TmTQpxATwTJ2Eo5xpcrOK9/eE098XX3zRPCL78bVMeVK5EsM8O3RIRzt+4Q3/cdHR24fv06Tpw4gebmZjQ2NuLIkSO4dOkS2tr6b1Rcf8CfvWu+LTpYUFCAmJiYgX40OawfzQGAQ9T+/ve/9xqgHTx4EFeuXOkT+Lt06RIaGxvt7n/y5EmcPXv2o+HPdqzbQIKfrV+8eBHbtm3DhQsXPrhu0J7fffoUoTo1vGRiTFDVM7A3rq4eHgIRBwLD1VpEanRwrxVy0r4+tIT1s1C5BkF8BcKlGg4AflFCYYbahGGlFOJVJlbrFrcyAaYr9CwATKqzNP71LRUjUqLjAKBHiQCTaQ2SFOQRaMNzKcyp34TgCvL0DKdsCvPqv0JgscSueGO28ktMrtXYFTqMLZIjjq/HqCIZB3imlskZQAotU7Fq7GJpPQugrB5Zo0WSyAj3dTQR1qZVa+C2moL3OgFSRWZ4ZQsYmLIFyp4+X74JERVqzn4BuSKMyJEwAGj1MfkyLFJthnsWzYE2r2wBRudLiddZqPwKU6u5tYQ908gMtK6jEFwog+say2syjdfdJidBTBaYJNtJVy+s3/xO7//Ozk48ePAAZ8+eZSLue/fuxZkzZ3Dv3r0+L/3ob/gj3YNVSGKNDo4ZMwYeHh4D/WhyWD+aAwCHqPUmAB4+fBgXL17sVfCz7Un4tvrC06dP47vvvvto+OvvlO8vPZy+++47bN++naP0ffHiBe7cudMr/QZvPn6MeKOJA3vjCRA4TaPD1Dod3Alp32CpCv58aRf8qeHVFflzqxBimkJHhMB5hq/gVirg9O8bVkRhMt+SDk6s4059SKozM/DnVEAhVmJglKUJMhPcC9g1YTFiPZzXU/AvElvas/SAvwieGp7ZAgQVyxBJN3DgL05oiVi5ZdFIkXRF+mx8hsDAgFRgngQzbFqoTK3RwG0tG45c11CI5zVgVJEUYwvlRIByW0thaqUGqUIzvNcLWLDmtpZCRFk9XDMoxoML5JjBN8A3V2QXyqZUquG2moLbagpJfCPGFnXXAabaRP9s3S9LiNG5UowrVCBRYITrW6J/Vh+ZJ4FvphCuGRRianSIrO1WFccLDEQAjKUaOPtMrdYgRWqCezbNgT/X9TTGlsqJALjv7MUP+sw9e/YMly9fxjfffIOmpiamqXtvC0kGA/yRvm8qKyvx+9//HhqNZqAfTQ7rR3MA4BC1f/zjH70Ga0ePHsUPP/zQa/t1dHTg4MGD2LNnzy/2JPz+++9x6tSpj478DRb46+jowJEjR95J6fu2usF3LXi/+vAhguRKDgROUNXDnS/En2t4iNYaMLySj8/LKYTJNfCs5aZ9R4uUmF6vh1e1mAV6TmV8xKoM7DRwvUXFGyHWwLdKQpzkMU/3lUWtS1DzJihMcC6kkUSYMBFBqzG6Uo7huRTG19TB10ZV6ryeQrLcDJcu+AsoFiO4VNHdHiWLttSudZ0/tkyOgHwxC1am8bQILlPAOYtCothIjNDNEBgwtkSO8SVKu9G4yBIpJhXLiMdShWYG7kIKFYij9N2pWptjPX2B/CuEl6vI16vSss61Rg/Dy1XwXicgAmBaj2uFlagQzzfAL1eIwFzJL9671aOrG5AqNltS24SUdZide04RmjGxpA5JIhM8svnd0C0yEuFvGk/ba5B2+/ZtnD59uleFJIMV/iiKwh/+8AccOXJkoB9LDutncwDgELXeBMDeSMNa/cmTJ2hpacGRI0feqUbx3LlzOHHixHuD30CJPd7mbW1t2Ldv3wcrfa11g7b9Bt+lbvDi/fsIlMo5EDhRpcYMnRHDKmh8Xk4xHipXw6urDtDqE6VqTBDVI1hQx4n2DSulMUNtYsGf1cfRdRhVy57nO0WshXuBANFiHbyLhUQInKveBP8SCbHJ8IhSKWIleoyvrCOmdKMEDRhRIkUMX08EiSiqAUGlMlaLFVv3yxMhXbYBvjnkejqXtRRmSTYinjYQwSa6pgFuXXAUUSiBTybNHBtbIGUiaLYeT+kxtUoN/ywREf7CSurgtYYPz9U0UgVmBOaKmT0T+Aa70DhTtAGpAhPc19As+BuVJ7F7rfnyTYit1XF+r1H55Ht3zaCQSBkRVaVFdG0D67WM45PT4CPyJPDNEjL3E5QvRarYjIACsUVIQvi7mb/+tk8+l48fP2aEJFu3bkVLS8t7C0kGK/yJxWL8/ve/x4EDBwb6keSwATAHAA5R600A/Ng0rNVv376NpqYmnDlz5p17Ev744484evToe8Gf9Qt5MEX+bJtx90Yd4vv2Gzx35y58xVIWAMbpTAhXaCxpXxsA/LycwgSZGl6UuKsOUA2fKrGlV1+NFBNEKmLad75hM4YTevf5lAoQXCu3zPDlq+BrM183lKrH6Er2CLAoYQNcc2iEVCgt/eh6AKBzDoU4oQHJUm5TYavPUmy02/POOZPCLOlGxNA6IgC6ZtKYVqlBIt8I/xwRB/5ianVwW20BnyS+EQE5IgZsfNYLML5IyYKj0blSTO8SboQVSOzCWirfhFSBGe6rac6x2Bod3FZRjI/MliBFYIJPlgAhBXLiflPK1XDPsJwfVlyHeJ6eAS5SJM81g8LIHAkCMkVwW0UhukqLyGrtW6N/rhkUQovr4J5Bw3UVBddVFMbnihFdo4XzOgpTqtREAEyzk5aOp/RIEZkxppidAh5dLMOz9r5v/Nze3v7eQpLBCn8KhQK/+93vsG/fvoF+HDlsgMwBgEPUehMAz5w5g2+//faD179+/Ro//vgjGhsbce3atfdae/HiRRw5cuSdrzMYxR7Wmb5nzpzpEyAl1Q1a+yfaPrRO37oFry4V8AydmYG9SQot3Kq5EDheWo+pdTpLGtdGuOFTJUaYhC0AiVUa4FRII9Faw9cDAr3KRZhRZ2TSt7Y+qkKGMFptmehRUwe/QjEDcr4FIkwX6VgAmCLrbkGSKDbCI5fPgr/pfB3c1tHwyOQjRcJtVzKd1sG1q14vRWyGWyZbBJEqYqdoI2u0DPz554gQ3AO4xubLEcPTMWlNe4C3UP4VxuTJiMemltXBbSUFt5UUIkrqEVmpYY7N4OlZ8Gfr8yWbEN0j/Wv16dUNnPOnV2mRSBvgtZZPXJMmMHPWxNXqEFurg886AXFNEm1k4M/WZ4k2Io7HjQD6rBcQRSmuqynE1urhmkHBYw2NJL4R4ZUqOGdS4O84MCAQdf/+fZaQZN++fSwhyWCFP41Gg08//RQ7d+4c6EeRwwbQHAA4RO2f//xnrwHg+fPncezYsQ9a++rVKxw/fhzNzc0fNE3kypUrOHTo0DtH/gZTyvfly26l7y/N9O3NL39S3eC5c+fw6NEjHL9+A2mmLzmwF6HUwrVawAZAiQpTZQ3wr5Fy2rd4VogwWabFFyUUIuU6uBTxGfFGvNIIp55RwHIRJlFqu5MdvIqESJAZEUIYX+aaTTPtXGaIuRM1JteomWkXQaVyjMiXcGr2fLuaJo8ukmFUDyHF1GoN03JlWo0WHmvYETj31TRSRWa4r7NAiT3Amy/7Er7ryGA1IluMoGwpRmSJkcw3sY55rqExNlvMAKDbSgruKymk0CaMyZNhfIGCCH9jc2XwXyOE+woKSTwDgvO7wTS+VmcXGlMoI5J4RowrULDuY0yeDL5rBcQ1aXwzEmsNCCuuY62ZUKSEx2qaCIDRlVq4raQwpUyNGZQerja1fyT4Cy9TMZFVVnqZNuLOoycD/lkmCUl27tyJnTt34smTgb8/qxsMBnz66adobGwc6MeQwwbYHAA4RK03AfDChQvvHIWz9fb2duzfvx+tra14/vz5B1372rVrOHDgwDtF/gYT/HV2duL06dPYvn077twh9y3rDyfVDW7Ytx+uhIjfZGUDXKosEDhOrIJftSXyN06gQmCNjAOBbuUCpDVshHuJgNO+ZUK1lJnk4VrMxzSBlknfJhNaurjm04iiG5Bsp1+f03oKs+u+ZPWGs/WRRVJE8RswtUZDrNmbWFaH8EoVonlcRarLGsskjiShEeOLFHYBb7Z4Iyb2SO9a3WstHyE5EozOEiKqQsM5nkKbWIAXU9WACV17pQnMrGO2Hl9ej7hKrV2Qc19BMe6/Rog0vhm+6wQIL1YR10SUquC5kob7Cgq+qwVI45sRuN5SC5giMNkFTd/VArivoOC1ikYKZcS4rihosp3oX2SFlvO7RJTUI4HSY1yRnAiAST3A2OrrDdsH/PPc09vb29Ha2ort27dj165djJDkxx9/xOPHjwfsvjZu3Ih/+7d/w1//+teBfgQ5bBCYAwCHqPUmAF6+fPmdonC2/ujRI+zcuRPHjh3Dy5cvP/jaN2/exL59+94aYRxs8Pc+St/+fmhdv34dx44dA73hSzj1EH98Xk5hcl0DQmUa+Fezo34hgjoE1rJ/FiZUI6BCihiZntjEeYpYC99yEeKlBk4dX5LcDCcbAEyUmGx6wHUrdW0nd4SUKBBVq0VgoYQIgakiM1JE9psrp4s3IIlvv49eMt+IFL6JmB4dmSNBULYUfmuFnAieawaF6TYpXPdVFFL5Zov6NsNSS+e+igt3fmuFmCPeCL81AiL8BedK4buKD/flFEKzxQjJETNQNrVMDY+VFAsArT5HuBEJteS08YxqPef80VkSzBZthN86od3oX881Phl8zBFtxKgsEREA42r0xN8pmTJiUpEKSbQR7mu64S8oT2Y3LX3m2u0B/+zYOintaxWSHDx4kCUkuX37dr+Vo2zevBmffvopNm7cONCPH4cNEnMA4BC1n376qdcA8Nq1a9i/f/87n3/jxg00Njbi/Pnz7yz2sOe3b9/G7t27iVG/V69eDTqxx8cqffvzIfbV0RMY3gMCx/DliFUa4FYm4ET8xvKVGFlriQSG8OvgXy7BsHwKzoU0YuVkCJyj3oSRpTKimjdeaoBbPh8pcjOnF1yc0ADPrtFhLtm0JXLXBXLjShQI7aoNs524YYWJZIEJnpl8FvxF2aR2kwUmeKyjWfCXSBsY4JlcWo/QHqnOBJ6BBTIJtQaMzLEIOibkS+BBALzQojpEVzcgrKiOCENuKynEV+oRWaJBRLGKcyyxxgD35RTjXitpTC9RwiuDQliulAh/AWuEGJMlhfsyCrEVOlYkcHqllrjGfQWFFJ4JoXlKJNQa2NG/vO7oX0+PLlLCZyWNVMqIEevFDPxFlNbb/X0nF9cz68MK65DcBYL2BCazJV8O+Gel5+fml2r+rP/QOn78OHbs2MEISS5fvtxnE0kaGxvx6aefwmAw4Oeffx7ox4/DBok5AHCIWm8C4K1bt7B3795fPO/169c4d+4cGhsbcfPmzV659r1797Br1y7OdQaj2MOq9D127Niguq+3+dbvzzJtYEbzZfAutzRvnsCTwaWE5kDgGFqJyVItRlXJMSyfYnx4PoUplJIFf0kKM5yyKYRUKhFcqSBC4BzVJgQUiInTICJq1RhZIrM0aO4RzfPLESG2q81LWKWK1VLEdbWl0fKYIhnTwHlsPlu4MbVCg5AiS6Pm4EI5RqwXs8DHP1NoETdkUEiijESYGZMjRUShDONyJXaBJ502I402w3s1n3MsoUYP92UU3JdR8F7JRzpthlcGDbeVFGKrGljwZ+szKROml6qJUJZGmZg93ZdR8FpBI402YUSWCJFlGuKasII6eK2gmTXRZVpElmss0T/aRFwTtE7IWjNijQhptBl+64RI7AHLDOwSoo/uKyhMLqnHTMEGTu2lawaF3ad/HPDPiNU/RPBhFZKcOXOGGftoFZLcv3+/V/7h2tzcjN/97ndQq9UO+HMYyxwAOEStNwHw7t27aGlpees5L1++xNGjR7Fr1y48fvy416798OFD7NixgwV/L18OPrFHXyt9+9K//PY7hEhUCKiWsvr1hVJyOPUAwMAaKaIlOgRVK1gAaHWrCjheZoSzzUSOUWUyhNaqWPA3mdLAK0eA0EoVgkplRAicKd+IsAoVMaXrto5GmtSM0NI6Yk3Z6Dwpomu0iOPp7QgzJIjl6RBdRa6xc1tFYZZwA4JzZXYBL6ZUhTTKRAS88KI6+Kzkw30ZhYhCFaaUqm3SvwKMy5GzYM19GYVJhSpMr9BiUqGKCH8+q/iYmK2AxxIKSVUGhOTIGJAauVYAHxsos/U0ngmptSZ4EAAsqcZAXDOLvwGTCuvsRv9Ia6aXaZBOkYF3egU5AplGmeG+jML4HAVSaBM8u0BwSrl60HyWekvt29bWhsuXL+PIkSNobGxkJpJcv379gyaS7N69G7///e8hl8sd8OcwjjkAcIjazz//3GsQ9uDBAzQ3N9s9/uzZM+zbtw8HDhxAR0dHr133zZs3ePz4MZqamliRv8EGf1al75UrVwb8Xj7UjUe/xTDCxI4ouQ7OXZFAj1Iao8tEGJ5HYVSFFKOrZEQInKvdBPc8Pmcsm3+RGFP4GjjlUBhTLseo4u7ZumNK5AitUrHgb0qtBl6ZAvjniCxtVggQmEAbkMw3wXMtTYTAdKEZKQKyuMA1g0K6wIx0vtlSo0fw+Co9wgvrEFHCTdFOyJXBuwvwJhfVs9K47istkbSe0bh02gzPDBpptJkIUO7LKKTzzEivNcF/tYADgOk8MzyWUIwHrhIinWeC50pLGpe0n8cyCmE5FmicVqRGtE0kcEpJPTyWk+8jrdYE3+V8pPPMGJkpZtaMWieE7yoBcU1qjQkeSyiMXy9HCs8Ej1WWiGZUBTn66LmSwoRcBWuPkGw5UmkTjPtPDPjn4uXLvuvzZ51IcurUKbS0tLy3kGT//v34wx/+AKFQ6IA/hxHNAYBD1HoTAG0hjASHO3bswMmTJ/Hq1atehb83b96gra0NW7duHZRij8Gi9O0trzt0lDi2LVqhh0+lCBECDaths1+xACPKRCz4C6Pq4VMgsrRt6QGATtkUvAqEmCE1IKyqniPi8M8XI5LWwjnL0vh3TGH3KDX3dTSSRSYW/KUIu8EuqkqLUXns3nJTK9TwWsOH2yoKyQRxx5RyNbwz+HBfQSGuSodR2RK2ypY2MeDlmyFAKmViAd7UYjULXHxXCSwp05UUUikyjLkvo5Baa8KUonrisTGZUozIEMFjCYUJ2QrEVeiYexi7XsYc6+mpNUZML9UQ94wpqmOd67mEQnK1AcE5Usyo0hPXjM+Ww3c5n1kzarUY0QVyeK3kppmtPi5bDh+bNR5LKITl1iG51mhJd5Oij7Xk6GNQphRPn/fejN6PgbT+6vP36NEj/PDDD4yQZPfu3Th9+jRRSPL111/jj3/8I2prax3w5zC75gDAIWq9CYBtbW3YsmULR9Bx9epVNDY24sKFCx8t9rDnz58/x5YtW9De3j6oxB5WpW9LS8ugUvp+rIv2fc0BQJcSPmZrNhFn9waWiTGy3AKBAaUiBBZ1N3FOknVN6rABQJdsCvECAxKE5HmvntkCJIiMmNY1OYMzi1Zstsy+JfTrCylUYFKZCq6rKQRkizChUMkCumnlGozNtzRi9lknQFiP9Oa4XDkiKyy1b+MLFAhYI+RE4CbnSeC/VvDWCF4qz4RJ+XV2j8eWaOG3XICZPDM8e0TfrBE0W0+pMWHUOjHxmNUTynTwWkwhrcaEkWvFzH4+K/kYlyUnrpmSLUNimRbehLRxWi35WlHFGqTVkAEw3c6aiLw6TCuoR0IVFwKnlaiJe1F/bR3wz8JANnm2TvqxCkmampqQnJyMqqoqNDU14d///d9RXl7ugD+HvdUcADiErbcgrL29HVu2bMHLly+ZVOz333+PpqYm3Llzp0/Az3qd9vZ2NDc3o7m5Gd9++22/tlWw578Wpe+HevWu/Qz8ORXTiJHqMTyXQqzUAGfC3N6RFTJMFqgRXCbn9O6LFergYgOAVkGH61oKKWITEQJTBCakCM1227Wkic0YX0ju1+eXJUQ8pUciZSCmdINypYiq0iLVjrjBO4OPNL4JMRX2RRgzqvSI6ZHetfXkSgPGrJEgsZIbXUupNsJzMcV4dLEGYXmWerqoEg08l5IBb0a5DilVRuKx+LIGeC6iGA9eI0VKtZFJJ9uDxug8FbwWUgheJcSUHBkr+tczkmf1mTVmeC6iEF2oQXRJ92sQlCmF/0oBcU1atYn1+8ZWNMBLKyVXAAAgAElEQVR9BYXp5eTX0GclHzfvD+w/qgbThI/Ozk7cuXMHixYtwhdffIF/+Zd/wZ/+9CcUFxfj1KlTDgh0mF1zAOAQtt4Csc7OTmzZsoVJvx4+fBgtLS14+vRpn8Lfy5eWSFtHRwdu3ryJEydOYMeOHdi+fTuOHTtmd+5tX/qDBw9+dUrfD/Hipj0YVkghXs6e3BFeJYNzPhsA3Qv5mCE2ILRaRWzgHF4uhUs2hTh+A6eGL7XHqLYUUXdaN1VoZqZHWN1trWXEWVSllmnD0tNT+Sak87kjzayeWGuwpDHttERJp8xIrjYiYDU3AuixnEJ0iRY+XbVxHj3gJaFSzwK8tBoT/DMs9XIj14gQvFbKOu65mELACgHSa02ILFLbhbW44gZ4LaSQVG5ASKaUlc6dll/PAkCrJ1cYML1YS9wvttSyn61H5igwdo0Q0/JkxDVBayQIXCFkXSOpwoDQXKVd0AzJksFvGZ/zO8eXNWCuYCMRANepGwf0vT+Y4M/WT506hf/8z//EsmXLUF9fj+nTp+N3v/sd/vSnP+H48eMD/bhx2CA0BwAOYfvb3/7WazC2ZcsW3Lt3D3v27MGhQ4fw4sWLPoU/e/V+nZ2duHv3Lk6fPs3MvT18+DAuX77c51/WN2/e/NUqfT/EeTv3E8e2xcu6I4HOeRTiRAY4Z1EYUSRBeE09EQITaA28MmmikCNFbIbLOgpRPG5aN4lvhLtNz75Um1m1EwuVnH59k0pVTN+6FMoI764aQNupFqMzJUyq1qerBtDq4YV18FthiWRNyqvDhBwZCwDTeOw054wKPUavs+wXkCHEhCw5B3Ym5dQhsliN9FoT5xgDilUmxBU3YOJ6BQeikioMLFAbvVJkiaotoZBabSTCn+ciCrOqzfBfzMfMajPzO1k9plDDAUCvhRQisuuQWq6H/wpuBDDNzrXGrpZgdq0ZQasl3IhhrZn4+0bk1sFnEY2kcj0iClQsADx16eaAvecHK/x9//33+K//+i+sXr0aP/30E+s7fs+ePXj+/PkAPmkcNljNAYBD2HoLAN+8eYNt27ahqakJp0+f7hOxh9XfR+xhnXt79uxZ7N27l6Wie/r0aa9+AV+4cOFXr/R9X+/s7MRK4xY7EGiEcx6FJJmJpdwNKJRgUq2aBX8Tq1TwzxEhurYBPusFRAhMFRoxJk9KjOjF1Ojgly1CPMWdbjEyW4LoKi1cMyj4ZgoQXsSu64sq1yAoRwq3VRTcV1GIr9SxYCOyRIPgrlYqnitpRBZrWADjt5xGQqVFiDExT4mAlUIO5IzLkiOmTIt0O7DjuZhCTJEGs2vM8CIcG50hQnCGFF4LKIxcJkR6dTdk+i7nIzxLSYS1xFI94ksaiFA2bq0UgUsF8FpAwWsBhfBMJRLKdJZ6wXI9cT+vhRTSK0zwmk9h9DIB4grr4bm4S228go+ApbRd0PRaQGH0ChFm1pgZ8cio1SKMXCUivh7pVSbmmj6LaKRWGjExV4l0yjxg7/fBCn/nz5/Hf//3f2Pp0qUs+HOYw37JHAA4hK23APDSpUvYsmULzpw506dRv4+d7PHkyRP8+OOPOHDgALZu3Yq9e/fi7NmzePjw4QdH7H5rSt/38fv376Np+3aky/RECFyg2QwXQu8+/wIxIngWCBxRLEVIsYKJ4E2r1sA/R8SCP49MGiE5IkwqkMKL0AzYNYNCEm1AeHEdMaXrvYaPJNrImY1r9fF5ckwprbcodEnK2ywposu1SKfs18ul1Zowo1xnv57uLYDntZhCVL4aXgsoxBVpMSGTHSW0ApStJ5ToMC5Thpm1ZruwNrvKjBGLBZhVZYb3YjaUpVeZOHt6LaCQXK5HYqmOuF94lhK+C2l4zacYn56vQWSh2hLJI8Cf31IaY1aKWdcIXadASqURM+1EPIPXSOG/VMC5vu9iGntODkzj58EKfxcvXsT//u//YsGCBQ74c9h7mwMAh7D9/e9//+ho3KlTp7B9+3bs2LED9+7d6/OUb28pfZ89e4bLly/j8OHD2LZtG1paWnD69GncvXv3nffv6Ohg6h0HcsD7QPitW7eYcX7P2zuwoGEzC/4SpBYVb6LYSIRAvwIRIukGopo3olKNEfkSBgATaSMzRiy8UA7ftWwI9F7Lx+SSeozPUyDMDgSmUEak09yZtUwksEyDlBqjXeFGZLEas2rtA2B6tQnTCzUYT1DUei2lEZlXD68FFOKLGxCyTsYCnpk9YGz0ChFSKy1ikCl5KvguoomwNmm9ErNsImW2PjZDgtFLRfCeR8F7HoXoXDWm5qrguYhCeLbS7p4pZQaMXiLCrEozfBax90wq0bHgz+qjl4swu8qM4DVSDgDGF9YTr+O/mI+kEj3iirUcAJxVQ4baKTkqvHjR/6UVgxX+rly5gs8++wyzZs3CP//5z4F+nDjsV2gOABzC9jEA2NHRgYMHD2LPnj1oa2vDnj17cPv27T6Hv774Iu3o6MD169dx7NgxNDU1YceOHThx4gRu3rxp95ptbW3Yu3cvDhw4MKgeCv3hly9f5qS7n7V3YGb9lxieS2G6SAe39TQj3EiSdKl5e0BgqsiMyGotUckbVqZCUKHUIvTogj+rTyqtx2gbgceUgu65t6MyxYjqatVi9dAipUWwsYxCSq0R3qtoFvz5ZPAxOV8Fz6UUZvK47Vt8VvIxJc8CT9F5Cnj3UOKOz5Jj1AoRA14zytiRwJk17AhecIYUCWU6JtoVtEJMhKTUCiOSSnXEY14LKMwsN8F7LoXkEgNCVktZsDSr0sTAn9X9F/Ixq8qM1HIDcT+fhRSmZNbBey4F77kUorLrMT3fUgsYuk4G7wVc+POaT2F2pRnecykLOFaZ4bPEkgr2WUJjwlo58Vox2QrmvpJK9IjIqbMIXpYLMDZDQgTAhp3H+v29Pljh79q1axg2bBiSk5Md8OewDzYHAA5h+1AAfPLkCVpaWnDkyBF0dnbizZs3aG1txfXr1/sM/vpLVGHtvv/tt99i586daGpqwtGjR3H16lVmFNNQUfr29M7OTpw7dw5NTU24desW5/iT58+x0rgVPnlCTuuWnhCYKjbDdTUFv/VCRNWQITBVZMb4AgUHAF1XURhfqMSEIqWlGXOPaJ7PKhrRZSom/duzqXJMeQNrckVPhWpKtZEZ0ea+jOKkN6MKNQjJ6lbCJpaxa+Z8FtGWKNYSChOzFRixVMgBIO+FltRuWgUZxrwWUEgtMyBsjQKxBVrOsWk59fCdRzOwFrxcgpRyixhk0nol/BbQHAD0nkdheo4aUzPrEJuv4eyZXmFk9rO67zwaSUUNiMqSEOFvxFIhgpdLWGsmZ9YhoUSHNDtpZu+FFEJXy1j35TufRnJJA+bYif4FrRLjSVv/Athghb+bN2/CxcUF8fHx+Mc//jHQjxGH/YrNAYBD2P7xj3+8N5Tdvn2bUbraNnc+ePAgrly58quGPxLw3L9/H99//z12796NrVu3Yt++fdi2bRtOnz49JJS+tq/FyZMnsWPHDjx48MDueY/aniFeaCD270vugsAEoZE1kcM3S4jo2gYW/E0oVmJElhjBeXJMLFISITC+RofIUvsjxKYWSBFZyJ2n676MQnh+HSbmKxFfpSP21osq1iA4S4boUg28F3PFDcFrpIgp0SK1ymi3Bi+hTG832ua1gEJcoRaxeVqEEqJkgUsFCM2QWyBsPo3ZlWb4LOxO28YXNHBgzXsuhdRSA2aWG4nw5z2PQkJBA3zm8OA3l8LsChNGLLPAqe8iGuFrFMQ9xy0TYvwyMdLKDBwAnNUV/eOCI4W5lWaEr1NwwbbcQLw3n7k8hK0QIj63Dv5LaNZrWbNhb7++3wcr/N2+fRseHh6IiorC3//+94F+hDjsV24OABzC9j4A+Pr1a/z4449obGzEtWvXOMcPHz6Mixcv9gr4fazYo6/8zJkz2Lp1K3bt2oWtW7di//79OH/+/G++/s9a67h79248efLkF8+//6QNUXQDEQLnKTbBO1PAmcnrkymwzPNdQ8EvW4hwm7m5QTlSTCpRseBvxHoxJuQqMHKtGNHlWiIEJlbrkVTZYLeub1JBHZIq9Xbr+sJzlUgsI6toPRdRmJgpx9yaDXYBMLXciNDVckQTom2+i2hMzVLBey6FMUvFSCllgyIJrKbnajApS4mkUj0RurznUojL02LCcimSi/Rc+CvUwWcOj+XhGXIkFDdgZoXJ7p7JBVr4zObBZzYPCfkNiMiqg9d8CoFLBAhZISWDaIkBPrN5CJzPt4CmjeI4KldNBMCUEj1zX8FLBYjMlMB7IQ++i2mcvXi1X7MAgxH+7t69C29vb0yePBlv3rwZ6MeHw34D5gDAIWzvCoCvXr3C8ePH0dzcjIcPHxLPOXr0KH744YePhj/rF/Bggr/Ozk5G7HL37l28fGmpAbx48SIOHTqErVu3Ys+ePThz5gzu378/aO67N/zZs2dobW3F/v373+theOfRE0yuUbPgL7hUgVE5UqQKzBwAdF1NwTtTgFieDjNqDQz8WX3kegmmlqvh2lXXF28zo9YvQ2D5f5ayV4FRq8XwWGIZn9ZzpJr7MgpRuQr4L+EjsZwMgSnlevgvphFToCI3Ui61RLJmVpjgv4TPgr8xq8QMHAUs4GNWpekXAW9WhQn+i/kIy1QiYKGACFZjloqwoHqjXViLzVbDdxYPvrN4mFlqRFCXEMRnHg/R2fUcAPSZw8OIBXzMr9iAscvEnP0mrZHDby7FAKDPbB4C59GYXWHCnKoNdu8jMlPFWjNxpQxpZQYkFOvsRidjc9Wce5uyVoFVtBGNjY3YuXMnTp48iZs3b/ZZg/fBCn/3799HQEAAQkND8fr164F+dDjsN2IOABzC9s9//vMXoay9vR379+9Ha2srnj9/bve8kydP4uzZsx+d8rXC30B/4Vr9XZS+z58/x5UrV/DNN98wD6pTp07h9u3bv2oYtK31/JAH7o0HjxBaqYJzJgW/PBHCbKJ49iBwpnAD4mv0HAB0W0khYJ0I0ZVa4pxdrxU0UmotbV68VtGI6tGvb0aFnpm44b6MQkolu3lyTD67wfL0QrVF9GBTr2cLfyk90pgxeRqMX9MtxEgv50bU0sqMGLFUgIlr5Ri5SEgEp6jsesyptA9Ws8tN8J3FQ2qRHsHL2LV3aSUGBv6sHrZChsRCHVJLDUT485nDw5wyE3xn8jB+qQRpJQbWnuldkbyeHjifRkK2FomEVHRSoY64xmc2D4sqNyI6u54Lf3kau/d34odrePHiBW7dusXU5jY2NuLw4cO4dOkS2traeuX9Pljh7+HDhxg1ahRCQkLQ2dk50I8Nh/2GzAGAQ9h+CQAfPXrEiB1evnz51nNPnz6N77777ldb70fyp0+fvrfSt6OjAzdu3MCJEyewfft2bN++HcePH8eNGzf6fSzdx/j9+/exY8cOfPvttx/1N7ly9wEmVNQhtkbHqeHrCYEJPD08VlpUuQmEKKDbSgoJNQbEV+iIKV2P5RTSKLPdsWORRRoErZMgLL/OUvvWI2Ubk6+EV1dz5zHLBZy0bUq5Af7LBBiTIUHISikHYsavkiGmQIv4InJ9nvdcClOzVJhbRa6bs8JT0EIh0ku5gozg5RKMXSRi4G7icikSC3TwnkvBfz6NiAwFBwB9Z/EQMIfCoqqNGLVIwIGrUYsEGLdEDN+ZPMYjMyQYv0KCKZkq+M2hiCA3u9QEv3Qe/NJ5SC8yYMLK7lRwbI6GuCY6qx5+6TwEzKQwu8RoEY9Y07/FeiL8pZcaOO+pzs5OPHjwAOfOnUNrayu2bt2K1tZWnD17Fg8ePPig9+tghb/Hjx9j7NixCAoKwosXLwb6keGw35g5AHAI29sA8MaNG0yfN1uxhz0/c+YMvv32298M/D148ADNzc0fpfS1Dmk/deoUdu3ahcbGRhw5cgRXrlwZVA+Znn7z5k3mb98bf5MLt+4hOF9OFHKkCi0QGF6qQsBaIZPC9SZAYEiuHEFrJfBdzkeCTQrY1mdU6N7ar29SXh1Se4xOs/XofBWi1kvsCjei8tWYU2W2m8YcvVSIhW9J0SYXWQCvZ6TNey4Fv/k0pqxRslK4Ixd1p4JnlZo4cOc32xLBm1NuJsKf7yweZpca4ZfOw+SVCszIZUfa5pSbWPBn9bELRVheuwm+BJALmEchfLmMAUC/dB7GLhBiTpkJM/K1dqN/6YUG1prghSLMKTNhcqbSkmYmAOD2r8/84vurra0Nly5dwpEjR5gI/LfffvvWNk62Pljh7+nTp5gwYQJGjBiB9vb2gX5cOOw3aA4AHML2008/EYHs3LlzaGxsxM2bN98Z5M6fP4/jx4+/F/i9z1i3gQCgs2fP9tp9WaMWZ86cYY2lu3DhQq+PpfsYJ/X46w0/e/0ORudIiRA4S7QRoQVKjojDaxWNRJ4FAr0y2Gld72U0p3Fz8HopxqyWWCZd1JjhSQDAWdVmhKySIjpfTW42vE6CyeuUmGinf13UejnGLRcjKltFBEAriM0qNcJ/Ps0CvMCFAkRkyBkwm1Nmgp/NOSSIm7pGiWlZKkzLUsF/DkUEvLGLhEjMaUDk2jrOsdHz+Zi4VMpAl/9MHuaUmhC4gMbYpSKMXSgiAmDkmjoEplFIzNYiYrWCHf0rMbJAztYXlW9ATFY9B/4iMhQImEUR1yyt/BIJeQ0c+Ju8VomO9/zHV0dHB27evImTJ08yqeIjR47g8uXLePbsGef8wQp/bW1tmDRpEnx9ffHs2bOBflQ47DdqDgAcwtYTAF++fImjR49i165dePz48XtF8i5cuIAjR478qsUeL19aZvo2Njbi6tWrfXqdJ0+e4IcffsD+/fuZ9jLnzp3Do0ePBuT37uzsxNmzZ9HU1ITbt2/3yTVOX7mJEevFLPhzz6AQV6mzO6XDaxWNJJ4RaTwTB+a8ltJIq7WMb/NcTiG2x9zblEojvJfRzPmxJQ3wWUAz/esSStgjz0Yu4yNkhaWubvwqGaJy1ewJHctFCFkmgs8cSxQsOkvOgr+pWXUInEsz8BWXrcaEVdK3Al5ctgYTV8kwfqUUQQuFRMAbOZ+PZTWb7Eb45paY4JfGw6g5fMwpMcLP9phNqtbWp2UosbR6ExH+fGfykJ6vh38qD/6pPATN5mNuqQn+c3jwn0th0go5cc/YzHr4p/IQmEZhTrEJYxYLGQCcYwcaxy0SI2g2H/6plmuGZ8gYAFQ3Hvno9/SDBw9w9uxZ7Nu3j0kVnzt3Dg8fPmTqewcb/D1//hzTpk2Dp6cnnjx5MtCPCYf9hs0BgEPYbAHw2bNn2LdvHw4cOICOjo73TuVevnwZhw4d+tWKPUhK3/7yZ8+e4dKlS/j666+xbds27N69G9999x3u3bvXL3D84sULnDhxAs3NzW/t8dcbfuzCNfhniRgAtBV02IPAlBojUqu5AMiMYeOZ7c6inVGmg/8KAUatFmPCGjmrh53vQhppld19/JKLdayI3chFQiSV6LsbJZcZOVGq+BwlvOfy4DOXh2lr5Bw4m7BcirhcLSLWKTHCBg5tffxSCZbUfGkX8FLydfBP5WFmgQFjF7EhcdIqOUbO5sMvjcd4cq4OE5ZJEbJEjLELhETwmrBEguC5QiRm1sF/Fhv+oteqEJDGYwDQ6nHr6rG4aoPd6F96np51fuhiKWYWGTB+mQSj5vKJa+aVmFhrgmbzMa/UhAkrJHj0hBux+xi3Kvet4x+3bduG7du349q1a4Pmu6i9vR0xMTFwdXXFo0ePBvoR4bDfuDkAcAibFQAfPHiAHTt24OTJk3j16tUHCTmuXbuG/fv3/yrr/drb2wfNTN/29nZcu3YNR48eRVNTE5qbm3Hy5EncunWrTx5S79vjrzf863OX4bNOiCQed/ZuTwiMKFQhcKUQ3ktouxAYW9LAUenaenSRBulVJuIkC6/5FGJyFEi201vPdx6NWRUmJBRzU5RWTynWI62owS7AjZhLY1mt/QjejGwNAtMpzC0xs6J3VgHHtJVKBpAmL5cjNqu+u06w0MCCP6uPXyTG8ppNdmFtbpER/ik8+KfwEL2qDtPX1ROjf7YemEYhaoUS84pNGDGbZu0XubqOCI3+qTysqNqEqSsVnHsYOYfGhIUS4hqefk+fvf+sad9du3bh2LFjaG5u/sVUcX94R0cHEhMT4eTkhPv37w/048FhQ8AcADiE7eeff8bVq1fR2NiICxcuvJPYw57funULe/fufSv8DcaU74coffvLra0vTp48iebmZjQ1NeHYsWO4du1aryiKP7THX2/4/jMXMXKtmCjksEJgwFohJuVaZsR6LqbgtYRCWg0bAoPWSDB+jczSW88OBKZVGDFtvQrjV0uJADhulRTzKs3wnUcWboxaLMTCqo3wm0sGwIkrJUjMaUDoCikR8GLXKeCXxsOsQgMC57Lr+Pxn8RCzpp4Bn9RcHUIWdyt95/SIkPmn8jByJo25JSbEZNbDP50Lf35pPExaJkPQTD7mFBoxukf0LXyZFCPTKQYA/VN4GJlOY16JCTHr6u2C3OwCIwKSeQhI5iFqhRIzsjTMnrMKDMQ1Y+cKMG6OEKPTaMwrYoPjnCKjXdC8cvN+n32mjhw5wkr7Wif+2Nbn7t+/n0kV98f3VUdHB9LT0/HFF1/gzp07A/1ocNgQMQcADmFrb2/H9u3bcefOnQ8GP6vfvXsXLS0txGODVexhVfoeP3580KSA7HlnZyfu3buH7777Di0tLdi2bRu+/vprXLp06YMiFo8fP/6oHn+94TtPnIfXCr5dCEyuMjDwZwuB6V0Q6LmEQkKpjlWnN7PKBC8b+AvNUmL0EhG851IIW6PApHVKDgBa+9alFOkRSGjAPLvUopRNKdBh1EI+BwDTCvTwS+dh4lIpYterWYAXtECA8QtFDJhNWS7BuCU2gFfMhaCIZXLEZNUjZIkYIfNFREjyT+VhSflGjFsgJgLgHBtYi1yhRMy6ega84tcoWPBn60tLNyJqVR3nWgGpPEQuVzJ7BiTzEJjCw9xCE6LXqBCYThHvcV6RCQFJtYxPW6ZAcnYD/NN5rMimra+m/ton7zcS/JH86dOnuHjxIlOSsWvXLpw6darPovAvXrzAnDlz8H//93+4efPmQD8WGCsvL8cnn3yCFStWDPStOKyPzAGAQ9h+/vlnvHjx4qPhz5pGbm5u/tWIPaxtbs6dOzeo7utd/dGjRzh37hxT3H7gwAH88MMP7zaqravH36lTpwb8d9/6zRl4raA5ADizxoyZNWYOAFo9vdaMWTVmolI3rdIE78UUvBdbGgzbwlzICglCM8QM/M0sN7LUqnG5GtZEjPh8rSUt25UenZ5Zj4krJQz8pRbqWdG1UXP5mFlkYEXwesLZuAVCTFouwuj5NILnCogQNGoWHyurv7ILf2m5OgQk1WLSIikS12tY+0dm1GFECsWCtVFpNOYWGjFxkRCBqRQR/mIzVAhMrEVQKo35hSYE2lxvVr6BtZ+tLynZgNTsBkKkksKkRVIWAFp9ecWXCFtMTv8e/b53FegvX747/PV0276eO3bsQFNTE7755ptea+X04sULLPr/7J13WBT33vZ9TjDJUXNSnuTEN+UYT2K6xphYKNLL0ntZYOm9g4IFG9Jhl957NYknJ5EmIigqWIkoICKKCCKCoiCwJk8S3fv9A3dk2FliAXaVua/r/ocfOww7w+yH7+9bXF3xr3/9C5cvXxb1RwKhU6dO4YMPPsCyZctoAHyORQPgLNdUwN///d//YWBgAOXl5WJf7HH37l1ipvF0V/rOlG/fvo0LFy7gyJEjKCkpwYEDB9Dc3EzZFHeqe/xNhXcfacRX40a1GYTk4Vu3WHztEgOb6F2UAGiwIxd2kdQAONa0uXisXx/Flq6UWzyMtudBzT8da10TBFqWaPtnQG1dGiRd46Hply5QIavmnQrdDVmQcY0X6IdH5NiF7IJBQBZW28RQRuikbGPhGkK9BbqKxYGeXwYkLTmw21ZEVMmScvG8MgiYkrR8EGl7cGzrwEKhsGazIQvq7qmUAGizuQBrmGzCzPU50PZKw2oWB/o+mZTHY7gmY61lLNaYsWG/pQhKTknEedpvL6KEv9XmY8dWsk2A4/ZiEmiythRM+f31pPA30fwo/MSt4tbW1ieq3h8dHYW3tzfeffddXLx4UdQfBYRGR0exZMkSVFdXQ05OjgbA51g0AM5yTRUADg4OoqSkBL/99hsR+RO3LV8ul4vTp0+LpNJ3pswfS3fs2DFi++rMmTO4du0aLl68OC09/qbChQdOYZlnDGQ3pEDJP5XUnmUiBMr4JUJtfTpWOMYIhUDDbbmwDCrEapc4SgiUdImHa9RuoU2Llb1T4Bq1W2iblLXOCfCcpMhilfXYFq2MQxwlABqsy4KkxdhWrZSN4PapoXcqAUsGPpnQ8Ukn1hx2FFNClcXGPNhMEqnTdE2CtCkHytYJsNtSRI7+rcsmwR/fctZx8I34D9ZYsCmP6bStGGvM2IRVHZJgu7UQq1lsEqSOt8m6bNJrTPyyYfQgD7Kk9uyU3ldTBX9U5v/jxd8q3r9/PzEC8q/+6eVyuQgICMDChQvR1tYm6o8BkqysrODj4wMANAA+56IBcJbr999/nxIAHB4exp49e8DlcsUy3294eBj19fWorq4WeaXvTJm/fXXy5EmUlpZiz549qK+vF9uxdJmVx2C8M5+yQbNN1EMItAwlz+GdCIFSnglQ90vDN3YcmG3LhyQFBNqH7sIa2xjYBBdTAqDxphwoOCXCPDCPEgCNNuRA2iYW9kHUffbsg8Zy8Iz8ssHwSBUAQGZALgFEZv45pO1Qi025AtAkZxML1uY8yDnEQ9UpSWhkzX5zIVgb8ylhzXZjASRN2IQdAosgb5+AVZYcWG/KpwRASSYbxp6ZYK3Pg6ZbKul4yo6JkLeOI8Ec314hu6HunEx5jrabCwW+X4rJgU/EfzA8hSlubfkAACAASURBVPfldMIf1d/alStXcOrUKWKr+MSJE5RbxVwuF1u2bMFbb72FlpYWUX8EkPTdd9/hiy++wG+//QaABsDnXTQAznJNFQByuVzs2bMHg4ODYgd//ErfI0eOiF2l73Sb3+Nv7969uHjxIhobG4kJCVOZyzRVTvr5CCUArnCNgXXULthE7qKcwDEeAq1DyFCn7pMIabeHxR1aAZlEXzr+ZIzx37/GMZYohJCyiYXNjiIS/K2yjYHBuiwieuawc9dYNe645sbKjkkEKKm5JMNkQw4Bf7bbCgWgiOGSDNOAHKyxioGuV7pQwLMOSIekBfWa1aZ8SJqwIWXKhvO2XZC0fAhrJn7ZJPjjW8c5Fa5B31HC3xomGzYbCyBpzIakMRuKrHg4bH0YYXTavosS/taYsWHukwNly3g4bSnGmnHnqOWeCilzDuVrsv5TN6X3/UzB30Tzt4qbmppQU1ODkpISZGRkICAgACdOnEBwcDDeeOMNnDlzRtSPf5KuXr2Kf/7znzh79izxNRoAn2/RADjLNRUAyN/y3bt3L2pqatDc3Dxj7RP+ys9Spe9Ue2RkhIh6ji8OGd/2gv8BVVdXh/b2dgwODor8vDm7D1JCoO6WbNiFUQMgHwJZIUWUET39TdmQ80zGSscYGG/MEYzYjYNAhwmtV1ZbjX2ND4AOO3cJ5M9ZbyuEtP0YVI6vwOVbxjoOttuLsNYhHgwX6siYjFUMfCN+FAp/6s7JkDOPhYFbChRtY0lrkuZsGHlmToC7RKg5JWK1BQdWAfmUAChpwoatfz5cthRDyoIjAICmXtkEAPJtHZAPXc8MKNslUMPfulxIGbEJW/rlQscjDavN2XCcsGXMt7x1HPpvTs29J0r4o/KtW7dQXFyMVatWQUJCAi+//DIsLS1x+PBh/Pnnn6L+CCD0888/Y86cOXjhhRcIz5kzB//zP/+DF154Affu3RP1KdKaYtEAOMv1xx9/PDX88Ys9BgcHcenSJSL/bP/+/TM60WKin/VK36fx4/T4GxgYQGtrKzGWrra29okT26fKocX7SfAn6ZUATf8MfOvAgXVoMSUAqvilwTnsO6F5fdoBmXCJED7Jwi54Fww2ZkFSSEsTh527oOmbhrW2cZRFFCYBObDZVog1ltQ5eKstOPCL/BGSQgBP2T4BKtYJcNxSDGkWR2DdIbCIgDCGbRLM1mUTa0YeSZRwp2KTAK/gH4TCH9MnG1KG0ZAyjAbTKwu67mkE/FlvyBeAP77dtu6C/SbBrdw1ZmzY+OeTAFDKiA0F81i4bd8FRZt4yteEpVdOyX0jbvDHN5fLRUxMDN58802EhobCxsYGb731Ft544w24uLiI+mMAADAyMoKWlhaSv/32W1haWordVjWtqRENgLNcTwOAkxV7jIyMEBMtysrKsG/fPjQ2NuLatWszAmPPW6Xv45jf4+/48eOPnevHH5dVX1+PkpISVFdXo6mpCX19fTMK0VwuF9ty9xIAaB1aRLReWekQIwCB3zrGgBmYh5XWHJgHZlFHATdkQc83E+pCKnfX2MbAPewHyqIMvr3Cd0PKOpYSACVZMbDbVAh9b+qKWV3PdKw1j4HNxgLI2cQJAJ7TlmICsMx9c6A2LofO0CcT0iYcEoRJm3LgtHUMFrWcUoRCHssnBy6bi7CWGSOwZr0ujwBAKcNoKJnHwSGwaKwK2Ecw+idpzIYsMwaaNkmQNoiGfUABVB2SCJAz9MyAtDFbAACljNhw2VwMM48sGHtlkuBPksnGhctPX5QlzvCXlJSEV155BYcPHyaevffu3cOxY8dQWFgowk+AyUVvAT/fogFwlutJAfBxxrqNjo6iq6sLp06dQkVFBfbu3YuGhoZpaaw6Gyp9J/P169enrMff8PAwLl++jOPHjxMQf/r06UeqcpwKj45ysSGjFNbhgjN4VzrEwGpcMYhD6HckmLMNIm8Fr3aMgf66LKxicaDukQptX8HRZI47d2G1BQeWm/Kx1j5OAP7sto2BkUVALhQcEwQA0HHbLkiasKFsnQCLgDwBALQetw1r5Jk5VlTxAPD0PNMhYxZDAi0Nh2Qiymflnyc0GucbvBsqNgmU8KfvlABpg2hIG0TD2CUNeq5plNG/ifbe8T1UrBIof57T5iLimNIG0VC3SoTdxgKsMWPDcVMRJfzJmnIIaJQ15sBlSzFkLGKwxowNn/D/TMG9Ir7wl5aWhgULFuDgwYOiftw/tmgAfL5FA+As159//vnY8Pc0kz1GR0fR09OD06dPk8abXbly5akrU8dX+s7UXFtxMr/H3/nz56f82KOjo+ju7iYKSioqKqbsuk3mkdFRBKSUUI5gW+kYA6uQYuhvzhaYTcvP6/tWSF6fqmsy9NdnkmbZyljHErBm6p8DJeeHUziUnJKg6pBIbI8aemeC4ZZCwB/DNQWKVvEEXK1lxsBhy8OCCatNBQJwpmaXBOb6nAfFHdTbrWuZMfAJ2S0U/hRZ8WBYJUDHLhla9vECP8PMI5MEa/ImHJh7pUPShA0rv1yhAMjyzIG2TTJYfrkCUUddhxTSMfl237IL6jZJlADotLFI4PsNndNg7peD+tMXn/reFFf4y8nJwfz587Fv3z5RP+pp0RIQDYCzXI8DgL/99ht+/fXXKZvsweVy0dvbizNnzqCqqoqoTL18+TKGh4cf61izudL37t27RI+/mdjynnjdSktLcfToUVy6dGla3vvhkRG4c/5DCYFr3eLhFPLdJHl9xTDalE05qkzJOQlGAdlYbcOBiX+OQMRO3ycTau4pY02NH0T/xlvDJQV6vhlYZcmB3aZCygic87ZdkLGOhe64yNt4rzWfHPCkjdkwcc2A88YiyJhyBNZdA4sJoJIz4cBpcxFxbLsNBZSgJm0QDWvvVMiaCIE/nxzI6EVDRi8aa/Wj4bqpGGsfRCcdNhYKPabrxiJoWSXCdh05B1DaKBpGLunU5+Gb+1T3hrjC3927d1FYWIh58+ahvLxc1I95WrQoRQPgLNejAuDEyR5TnQ/G5XLR39+PpqYmVFdXE7NuHwUq+vr6Zm2lL5fLRUtLC8rLy9HT0yOSn3/jxg20tLQQ0xGOHDmCtrY23L59e8p+zuCdYThGfi8AgLY7irDGigOjdWmUACjjEAf30O+xWkhOn7xjAjwjdgtvnuyeBqegXULbpCjZJcAjRHiRhaQJG36huynz7yRN2JA248DIJR0um4shTQGAjhsLIa0fDWn9aFh6ZUPdLolUCKJoFiMAVY4bCyFvGQtj14xJADAHRg6p0HNIEgBAS88sAgD5NnPNhKFbhlCQU7OMh7JJDGR0oyCjGwXnDYVQsoyHlBEb1uvzhZ7Hz/tOP/E9Ic7w98MPP2DevHn4+eefRf2Ip0VLqGgAnOW6d+/elOb7TZX5s27HQ8WFCxcE2pTM5kpffo+/yspK9Pf3i/x87t4da3nR1taGw4cPE2PpWlpapqQt0K3BO7AOeVgMYr7t4fxZKZtYWG0rEMzrezA1w35bESUE6ninQ8U+UWjzZBnrWJj75sDYJ4sSAGUsY2DsngG7DYJbvJImbGg6JEOJGQuWTw5UbRIFI4Tj8uls1+dD0TKOADx581ho2yYTACitHw0tmyQwvceKM2zX5wgFK88t38HAMZVyjeWVQ4CaonEMnDcWEvBn6JQkAH98O60vgOsGwa1caYNouG0qIo7Jt65NMqx8c2Hlm0v5Gm3bZNwZfrL0AXGGv//+97+YN28edu/eLerHOy1ak4oGwFmuvwJAUcAfFVScP3+eaFNy6NAhnD9/Hs3NzSgrK0NnZ6fIH/oz7fE9/qYy0jaVHhoawqVLl3D06FFSW6De3t4nvpdu3hqC+Y4CKHolQW5CocYYBBYS8Ge+OW9shNmDQgu7rUVYbTWuvx+LDfP1uVhjxsZay1jYbC4QAEDnrbsgacyGEiseFutzBQDQZWsxpAyjIWPEhnNgsQDgOWx4uGVq4JQGPZeHW8EqNglgsBJIUGTsmgEdp1RIGrPhElhMgj++5Yw5cAzIw1ojavhba8SGoV0q1ExjYU8RfbMaB4B8O64vgJJFHGx884QCoIlDKtZqR8HOOxca1onE8RRMY6BukSBwTBndKJi7ZMA1oIgyUplefPiJ7gFxhr/S0lLMnz8fRUVF4PF4on6806I1qWgAnOWaDACfpthjujw4OIi2tjZUVlZiz5492L9/P86dOyfSnnUz7aGhIRw8eBCHDx8Wuw9AYeaPyjp58iTKy8uJSvDu7u7H3ra/cKkTrE3plFu60raxsNxaADmnBFKVLTGGbGsh1liN5QM6bic3JZY2j4HdlkIC/gx9MoncN0ljNuTMY2GzsYCAPx23VMibxZC2T50DiyFlEg1Jk7EGyBOhh8FKgLlvjkD0j/Q9Vglw2FAIZWYcJQBK60fD1DERjn65kDViC7zeZUMh1upEEXbbWIS1D77PylsQ/vh2WpcPczfB7V8ZvWgwXdKwVjuKsLppHGx8concP6HH9MuHrFYUjGxTYemZTYLG6/2PX6glzvBXWVmJBQsWIDc3l4Y/Ws+EaACc5bp///60F3tMpcdX+vb19eHSpUvEMHZ+z7r+/n6xOuep9MDAAKqqqnD8+PFnNt+RqhL8xIkTj1T8c/XqVZSVleFEw1kYrs8SAoFx8AzfLXSihs2WQmh7pUHBWrApsRSTA4dtxZC04IDpkyNYlGHKIfrkWa/PoyyicNxYCFnzGJi4UefgyZvEwGPbd5Az5gjdwnXbWASXgEJK+NO2joOs7hjcsTyyoTkuGidnwoGudRIJANfqRMHKIxuaNomw8swWCmv23nlQ1GPDLaBIAACtPLJJAMi3hWsK9GwTKY+nZ5MMBV02ZLWiIKsVBXntaLgFFEHehIOQhIonum/EFf6qq6vxyiuvIC0tjYY/Ws+MaACc5ZoIgPzmzuIIf7dv30ZNTQ1lpe/EnnVVVVU4c+bMU203ipuvX7+OioqKKenxJy4ePze1uroaJSUlqK+vR3t7O4aGhkjfe/nyZZSWlqKjowN3795F17Ub0PXNEABA68ACyLJiwdqQLxQCvUN+gIwF9UzaNWZsrAv/UWhlrpQJG36h/xHaQkXKMBq+QT9AmRkrFPDsffPgRtEaRdogGoZOaZDXZ2OtThRcNxRhrQEZAK09s0lwp2OVBHOPLCIaNxH++HbyzYeVBzUAMl0yCFCT1YqCg3ce1M0TIKMXDZYQ+FurHQUb90zoMeOgw4oVOKabfyHpmHyb2qeh7eLjFSyJM/zV1tbi1VdfRWJiIg1/tJ4p0QA4yzUeAMfn+4lbdKmvr4/YNvyrc5u43VhZWTmjDYynw/xil+no8SdOvnnzJlpbW1FbW0uZ79nV1UX6/o7uPmh6pZH69TEck7HGjA1ZViwsN+QJwJ/jlrFmxTYB+UQz4vHWcEqGinkcXAKLKQFQwTIOOjbJcN1URAl/alYJYDDjYOaSQYrO8W3jm0tAmUtAocA2roNfPgncbH1yoWjKGasE9syihDtFQw5cNxZCyzJRKABau2RBXjMKbv5FWKsbSc4B9MkXADU9yySwPLJh550rFACZ9umQVY+EolY0HL1ziOMqGUVD2YBDCYC+gd8/1j0hzvBXV1eH1157DRwOh4Y/Ws+caACc5eLxeGJT7CHMV65cQVlZGVpbW5+o8fTVq1dJDYxPnTqFrq6uZwYGZ7LHnzh5cHAQFy5cQFVVFfbs2YOqqio0NzcLbPFf6Owl+vXZBpLn08qxYmExDgLVnZOhzEogetTZ+OdjrSUZAu38HxZOUEGgy6aHW6QuG4ogMwEAXTYUPtwGtU2GgWPawwINw2iYOqaTwMzGKwcqFnFEhS4VvGlbxkHPPgUWbplCAc/dvwiu6wohrxctsGbrkQNZ9UjCDl55UDONg4xuFEyd0yGnLQhqslpRsHTKgPu6QshRwJ+dZy7pmLLqkbBxzYaOdRKc/PIojyerFYUjR9se6+9XXOHv+PHjeOONNxAeHk7DH61nUjQAznLxeDyxhT8ul4vz589PWaUvl8vFtWvX0NjYiH379o3lkp04gc7OzmmdZvE059vc3CyyHn+iNpfLRWNjI/bu3Ytr166ho6ODNJausbERPT094HK5OHexB+4hP1Bu58pZxcEiIHcs/y8gX2BKhdX6PMiyYrHGjA1biubJLpuLIGUcDUljNozc0iFnyCHlxzmsL4CsCRtShtEwc8+ErF40Kbqmbh4PC88sygINvk0c06BrnwILV+GA57K+ANYe2ZRraqaxUDeKg6x6JKxdsqBlkUDOAXTOEoA1Q1YyzJwz4OQrGP3j29krD3JqEbBzzYaWeQJ5+9c1W+CYsuqR0DKJh6d/EeXx9C3jcPDgwUdqDSTO8NfQ0IA333wTO3bsoOGP1jMrGgBnufbs2YPU1FSxi4iNjo7i9OnT2Lt3L65fvz4tcHH9+nWcPXsW+/fvR2lpKY4dO4aOjg6x+LAZ3+Pvxo0bIj8fUfz+J0+eRFVVFQYGBkhrIyMj6OrqQkNDAyoqKoio7sH6M1CyTaCEQHnrOHiF/EA5pkzKiA2rdXlgOCRByzaZMi/PaWMRpE3YYz30KKpkbXxyociMgaVHFmWOnaJxDJw3FELDPEEo4Ln5F8LChRoAZXWjYGydCkWtaLiuL6CM/o2HMF1mInEsW68cSlCTVY+EhX063PwKKGHN2CYVCuqRkFOLgJxaBHSM42HnkTNW/OGcKfSYLt75kFeNgKt3PlSNYkjH/OGn47h48SLRGqiqqooA+fHPH3GGv8bGRrz99tvYvHkzDX+0nmnRADjLVVRUhK+//hpz586FkpISEhMTceXKFZFGAoeHh1FXVzdjM3350yyam5tRU1ODkpIS1NXVURYizIT5Pf5qamrEtsffTP3+Ext/U107flS3qqoKqTm7IcsSzOtTc0gai7B55wiFQL+gH6A0SeGGX9BuyBmwhfbJ897yPdSZ8UKrbN39Cynhba1OFBQM2DCwTIaKHgcO3nkC667rCkiQ5baukKgE1mDGQ00/RgDElHTYcFlXAJbTJLDmmQd51Qi4+eRDWZ+cs+fqk0/AH9/yjAi4ryuEo5fg9i/f5tapkFeNgLxqBIzNk2DlkgVZrShoMRMwNDRMus5dXV04deoUab50R0cH6uvrxRL+mpqa8M4772DdunW4f/++qB/ftGg9lWgApAUej4dLly4hIiICq1atgoSEBGRlZcHhcHDp0qUZhcHJKn1nygMDA6RChMOHD0/5aDNhfhZ7/E2l79y5g0OHDuHQoUOP/fvzxwnuLq0VqPC1XZ8HaYNoKJvHwdw7WwD+zL2yIasXDZZnNmX1rppFPDTNE2Dvkwd5I44A/KmYxUHHPBGm9mnQsUoSgD9DuxQoakVDVj0S7usFK3Xd1xcSACWnEQlL5xRiTcmQA11mogBo2bnngGEaR3rtRNu75cDduwAKWlECa8ZWKVBkRBKwZmGbBkPrZKIAREkjSgAA5dQiYGKZDFuHDOibJwmek1s2cTy+FRmR8FhXiLTc2kmvHX++dFlZGfbs2UNM/xGXf4JaW1vx/vvvw9PTk4Y/Ws+FaACkRRKPx0NXVxc4HA6kpaUhISEBKSkpREREoK2tbVph8HEqfWfKt2/fJo02q62tRWtrq8C25FT4eejx9zQeHBzEgQMHUFdX99Q5mQdPnIfMg+IOEw/ySDRl8zgwx0HgWhMOTJ3TCViz9MiCsnkc6TWuAYUPc988c6BkEkMCQLeAhzlv+qxkGNmnkgDQYULBhKtfAeQeFGuom8UR+XtUUb6J27sTiy6YdulC11l2GZBXiYCNYya0TRPI5/Bgq3a8NfRi4OiVB3e/Akr4k1OLgLtXPhSUw6GlGwMnD/LvZe8iCIDyqhFQ1ohCz7XJm7WP3/a9fv06Wltbiek//LxBUfX4vHDhAhYtWgRnZ2ca/mg9N6IBkJZQ8Xg8XLt2DQkJCZCTk4OEhARWrlyJkJAQtLS0TOmD+GkqfWfKQ0NDaG9vR11dHUpKSlBTU4Pm5uYpmXPL7/F35swZsf39p9O3bt1CVVUVTpw4MWXwu+9IC9Qckkhjy/hWNOPAwCUFUkYPqnonROws3DOhahEPaYNomLtnQU4nmlQAwXLLgiozDjJ60TByTIPiuIbHslpR0DRLgLlrJmR0o2DtSZ2DZ++RC2UjDtwmieC5+OZDjyL6x7e7TwE09WJhS1GQ4eCeA3mVCMIGJglgOWQQBSBK6lGUsKZjFAdv7wIoMAThT9ckHqrqUVBQDifs4VMARe1omNulUx5PXjUCweF7Jr1Wk+X8DQ0NPVLe4HS5o6MDH374Iezs7HDv3j2RPY/DwsLw7bffYsGCBXjrrbegq6uLCxcuiOx8aD37ogGQ1iOJx+Ohr68PqampUFZWxty5c7F8+XJs3779qRoTT3Wl70z5zp076OjowLFjx0hzbq9fv/7Y78Vs6fEnzDdu3CB6NU41/FbWNmGtoeC4NGmDaCgxY2Dikgh5g2jKnD2mayYYrHiYu2RS9sAzd86EukUCbD1zKYso1IxiYeOVAzO7NKEA5+ydR7m9y7eHbyEsrNOga5YgsGZgkQRl9SjIq0RAiREFN19yniDLNp0EgPIqEVDRiIardwHcfAqEwpqnVz4UFcJgb58BHaM4EgB6+BSQ4I9vlk0avNYVCj1my7kuodfocQo+xhcA7d27F+Xl5Th58iQ6Ozv/corMk7izsxOffPIJLC0tRQp/AKCmpobc3FycO3cOZ8+ehaamJv71r3+By+WK9LxoPbuiAZDWY4vH4+HWrVvIysqChoYGXnzxRXzxxRfYvHkzGhoaHvlDfHR0FL/88su0VfrOlEdGRtDZ2YkTJ06gvLycaFFy7dq1v3wv2tvbZ2WPP757e3tRXl6O5ubmaYt8/ljRABlD6sIOZ78CGDumCC3c8An8Dhpm8UIbIXtuKIaOeYLQNirufgVwouiXx7eTWw50DWOgbRorsKZrlgBVTTbkVSKgb5IgsNXr5pUvAHju3gWQ14wSiP6Nt6FJIjw986GkHim4BazLgaYGG4oKYVBUCIO+XixsHTMhpxYBdT0ONLQ5lABoYBQPHS0O3DxyBY7p5Vck9No8TbUvP2/w7NmzxBSZurq6Kcsb7O7uxhdffAETExP8+eefon7sCujmzZuYM2cODh8+LOpTofWMigZAWk8lHo+HoaEh5OfnQ1dXF3//+9/x8ccfw9/fH0ePHhW6RcOv9K2pqZmRSt+Z8ujoKLq7u3Hq1ClUVFQQOY3d3d2k92K29/jjf8CWlZWhre3RGwM/qYt+Oi7Y2uXBqDJNs3hSDiDfqiZsqOixYWyVTAmBivpsGJonwcgyGfqsZMoIoI5RHBQZkXDzKRAAPEv7hxE6HcM4WNpPADxvMuAxtDlwcB/bTjaxToWiWiQl4Nk5ZcHOKVMoAHp45ENRPgx2thnQMYybEP0rIOCPbxXlCHh6F8DTlzr6p6AcDk/PsWMqyofBwz0PqlrRxDEPHjon9G9lKlu98KfITEXeYE9PD5YtWwY9PT388ccfon7MUurSpUuYM2cOWlpaRH0qtJ5R0QBIa0o1MjKC7777DkZGRpg/fz4WL14Mb29vHDp0iACgpqYmrF+/HnV1dc91pevo6Ch6enpw+vRpVFZWkrarTp48OWt7/N29KzjXdyac80MdAX/qrARomsWTcvZMncgQOL7ViY5pDBjGMSQA9FhfSGyN6pslwtgmhQSAHn7kLVEPP3KunzEzTgDw7N0mBzxFtbG8PxePPKGA5+ySAzOTRJiZJwusGRgnQFU5goA1Q4N4WNmO5e6pakVDTzdGAAAVFcKgqhIBb498aOqwBeBPQ5sNTXU2cUxF+TCYM5NhzkqBuXUaJXxNd5+/oaEhXLp06YnyBnt7e7FixQpoamri999/F/UjlVI8Hg/a2tqQkZER9anQeoZFAyCtaROXy8WPP/4IJpOJf/zjH3j//ffBYrHw+uuvw8DAQCynb0yX+dtVjY2NKC0txZ49e1BfX4/Lly9PS+6SOPvChQsoKytDd3f3jP/slILasa3fdYLNj7WYCTBxTIOMbhSsPASLKgwsE8EwGYNADdNYKGuR26TomMTDzD4NslpRMLROhrKGYJEFHwLNrBMo4U2JEQVX73w4u+cKBTwLq9SxiJuq4JqCSjhY5ilQlAuFtkY0HByzSOvjI3V8q6lEwt0jj8j9o7Knex6UZENhZpQAS1aK0OjfeDNUo1BS0iBwDWa6yfPj5A329fVh9erVUFVVxW+//SbqR6hQubm5YdGiRejp6RH1qdB6hkUDIK0Z0a+//orNmzdDQkICn3zyCRYuXAgnJydUVlbOGgDi9/g7dOgQrl27hubmZiJ3qb6+HhcvXhRJ4+mZMpfLRUtLC8rLy9Hb2yuy88gsPiw0Z0+LmQAz53SY2qRS5uwZW6dAxyIRti4ZlC1SNA1iYeGUCSeKXDii355NAgxN44UCnrVtOry8C4RH+ByzoCgXChfnbKhqRpPWXFxzoCgXSlhZIQwenmNbybqGcWCoRlLCmopSBNZ5FUBFOVwA/pQUw8A0ToSSbCiUZEOhrhwJD7dcKCiHQ0k1AkYG8ZTH1NHi4PZtMuCJesIHVd6gr68vduzYgYaGBkhLS0NBQQG//vqrqB+ZQuXh4YH33nsPnZ2doj4VWs+4aACkNe3i8XjgcDhYsGABfvrpJ/z++++orKyEvb093nzzTbz11luwtbVFaWnpcwtAk/X4u3nzJs6dO4eDBw+ipKSEaID7V1MwniWPn+vb398v8vOJjN8rFAK9A4phYk0NgLLqkXDzLYC+WYLQPnmWtslg2aYKBUAHx3S4OGcTFbwTbW+XOZZL5yEY5bO2yyABnjUrdSyP70H0z5KZTFrn28M9D15e1JE6RfkweLjkQlk6BA6sNIFtYFfnbAL+xtvTLRceHnlCj5mcWEV6z0UNf1S+efMmdu7ciaVLIkWtoAAAIABJREFUl+Jvf/sbXnnlFWzduhXNzc1iN+aNx+PB3d0d77zzDi5evCjq06H1HIgGQFrTrra2Nrz33ns4deqUwNqff/6JmpoauLi4YOHChXj99dfBYrHw448/PjcA9Dg9/m7duoXz588Tiey1tbU4f/78M10oM9lcX1GZy+ViZ3SpAPzps5Khps2GnnE8jK1SBOBPQTMKTMsUGJslwoCZKDgqTS0CpibxUFWJgCkzVgD+1LSjoacTA0X5MNjbZYKhzSYBnqNzFgmiXJyzoaLxEBQdJgCgolwojA3iwbRMgYtrLiX8KcqFQleLA1e7TOhocgRATVkhDEyDeChLh0BZOgTG2rGwZqUSAGhjmUoJgEqyofBxzYWJoWAEUEUpAt3dD0FfHOGP79u3b0NZWRmrV69GSkoK9PX1MW/ePCxevBipqakieGJSy9XVFa+++ioOHTqEvr4+wuIcraQl3qIBkNaM6FHyae7du4fDhw/D09MT7733Hl599VWYmZnhu+++ExtweFzze/w9SaXr4OAg2tvbceTIEZSUlODAgQNoaWnBzZuTT1QQJz/OXN8ZP7fRUWwJ/YkEgE7uD7du9U0SYMRKJvflG9cHz8g0AUbmSSQAdPPMe1g4oRoBaztyJNDJKYMESlasNGgbPIzgsSxTBWDKziYdWnqxsHfIFAp4WurR8HbPE7ru7ToW4WPqx8PcNIl0fHenHAL++FZXCIeHaw4c7DKEwp+jdTqUJYOhoxwFF3syuO7Y/iPxPosz/A0ODkJdXR0rV67E0NAQ8Sz69ddfUVZWhpqamul8LD6W5syZQ+nc3FxRnxqtZ1Q0ANISS92/fx/Hjh2Dn58fFi9ejAULFsDAwAAFBQXPTOVse3v7lDW4vnPnDqmqsbq6Gk1NTejr6xPbySFPM9d3pjw8PIKAHbshqxUFR0/BvD0D0wQYWo5BoJZJPDR1yH3wDE0SYGw5BoFqumzo68VOaKESDnPLsVYrOoYxpApcvpmmSTAwSYSbe67Q7VRzZjJcnbKFAp6bUzYYsqHwcM4RWNPRZENLKZKAOx2VKDjZj20zK8mHgmWSJACAfG/yLYaKfBglADpbZ0BZMhjKksFQkQoeg0yFsfM9c2asr6U4w9/Q0BC0tbWxfPly3L59W9SPPFq0Zlw0ANISe92/fx8NDQ3YsGEDlixZgr///e/Q1tZGdnb2E03emG6P7/F37dq1aYCWYVy+fBnHjx9HWVkZqqqqcObMGfT29orNezE4OIiamhrU19eLfbX30J0R+G/9AUbMJMqcPUOzRBhaJMPdK4+yB56+UTxMLJPh6U1dRaukGA53zzy4uwvPlzPQ48DeNl3ourNDFow0OWAxkwQAT1k+FJaGCVCWCobyAxBTkgsZF/3LEwA71bWh8HLLg4tDllD4szZNhsqanXC0SIWeFocEf5YmSQT8jbcjKw0B/rtw9654w9/w8DAMDQ3x5Zdf4ubNm6J+xNGiJRLRAEjrmdL9+/fR1NSELVu24IsvvsBLL70EdXV1pKWloaenR+QANDo6ilOnTmHfvn0zEqnkt7g4efIkysvLsXfvXvzyyy+4evXqjMxJpfJ0zPWdbg8ODsNjkvFoLu65MDJJFNoI2cYuHaxxeXMTzbJIgbebcAC0s0qCplI4TAwEc/SU5ENhZZIEZalgaCtHwsEmnQSA7k7ZBPzx7e6QDVWlcGipR0NbJUoo5G3wLoSabCjlmoddFlTW7ITKmp0w1eTAxjzlYQGIYzYlACpLBqNm31kS/IlbYdfw8DDMzMzw2Wefoa+vT9SPNFq0RCYaAGk9s+LxeGhtbUVQUBCWL1+OuXPnQllZGUlJSejq6ppxGBw/3WQqRlE9rkdHR3H16lVivF5FRQVOnTqFrq6uGQOxGzduYO/evdMy13e6PXBrCM4U7VsUVMNhbZUGE6MEGBrHUwKgm3M29LViYMFMpgRAJ5sMKEuHUEKguloUDDQ4UJYOgaZiBCyZCaR1R9s0EtwxZMPg/mA7WFk+FBbjon/jbW+RCl8Pwegf346sNKisDoKjeQr0GGzSmpleHNSkggkAVFmzExqyofBwyoahdgwYa8Mo4c9CPwHDwyNiC38jIyOwsrLCkiVL0NvbK+pHGC1aIhUNgLSeC/F4PFy8eBHh4eFYuXIlJCQkICcnh5iYGHR0dEw7jAwODuLAgQM4fPiwWGx3cblcXLt2DY2Njdi3bx/Kyspw/Phxyua3U2X+XN+WlpZnDv747r9xG3bOWSQAdPd42D7F1DgRBkZkCLQbVyihox4NA302Gf7sM0lwNRECvd3IkMaQC4OrYxZRoWuoESUAdyrSwfByzYW7cw4l/ClLBUNbKQJ2xkkw10+gBEBny1SorA6CyuogMLViwDJKfHiOTjkk+BvvQL9iqEqHUALgrvzDYgt/o6OjsLe3x7///W90d3eL+pFFi5bIRQMgredOPB4PV65cAZvNhpSUFCQkJCAtLY3IyEhcuHBhyuHk5s2bYr3lyeVy0dfXh6amJuzfvx+lpaU4evQoLl26NGWwyp/re+HCBZH/vk/r69dvwco+A/KqEdDQ5UBPJ5YEbGYmidA3jBtrhKwSDmuLFFJ+nI5GNFiWKVBUCIOyYhhYxoJFFl6uuVCSD4WuVgy0lSMF1lXXhsLTJRceLsIBT0U6GOvccqEitZNy3ccpByorg6CvGAEHi1TS8W2ZyQT88a0jHwZXmwzoM9jQlAujhD8t+TDoy4XByTQZ+mpRJPjTUYpE7cEjYgt/rq6u+Ne//kU3UKZF64FoAKT1XIvH46Gnpwfx8fGQk5ODhIQEVq5cidDQUJw7d+6pYfBxevyJg7lcLm7cuIGWlhYcOHAAJSUlqKurQ3t7+xN/aItiru90u6fnJsytU4WOOWOaJkHPMBbubnmUFbI66mxYs1Lh+aD9CpU9nXOI9ixUVpMLw3r3fKEAaGMaB5WVQbAxioHa2hDSmqZiOPQVI6GyMggqK4OgITWW08c/tpt1ugAAqqwOgprkTgT6FgmN/vnYZ0H1m+1Q/WY7TNWiYTOuGGTbxnyxhT8vLy+8++67dANlWrTGiQZAWrNGPB4PfX19SElJgbKyMubOnYvly5djx44dTwRwT9PjT1w8MDCA1tZW1NbWoqSkBIcOHUJbW9sj5zCKcq7vdPtKVx/MzZKFFm5YW6XCipkitE+eoW4s3CZs/463qU4svByyhBZheDuORfB8HLMFonwq0sGw0I4lAI+lx4G6/EMI9LDNINbG28cpByyjRKiuEYQ/ldVB0JILhb5sKLxtMsCQCSHBn6rkTjAZbAIAVb/ZDk3JnfC0y4SqdAh++rFC7OCPy+XC398fCxcuRFtbm6gfQbRoiZVoAKQ1K8Xj8TAwMICsrCyoq6vjxRdfxJdffonAwEA0NDT8JQy2t7ejtLR0Snr8iYtv376NCxcu4PDhwygpKcHBgwdx7tw5yibc4jLXd7rd0dELI4pJF4ryYfByzYWJNgdaqhHUUzJccqGjGAF78xTqCKB9FlRWB8HNOh0MuTCBRsxGqtEEuHnZZUFF+iEAetpnCcCdlV48DBjRYMiGQEculBIAVVYGYbNnARhSOykB0Mc+C6ortkF1xTY4GifCQDWSAEAPmwwS/I33Ju8MsYS/wMBAvPXWW2hpaRH1I4cWLbETDYC0Zr14PB4GBweRn58PHR0dvPzyy/jkk08QEBCAY8eOkfL6RkdHsXfv3mnr8ScuHhoawsWLF1FfX4+SkhLU1NSgubkZ/f39GB0dxenTp8Vmru90+0JbD/R1yXmAxgbxYKwNhbJkMCwNEqCnSe6Tp6/FgbZCOFTW7IS2QjgcLNJIgMcyToSa5EMIc7ZMhaZiBLHOz98bbzerdKjLhUJVJgRMzRhKuDNlcODvXiAU/kzUosFYsR3OJknQVQgnwR9DaidMVaMIAFRdsQ1MtWhYGcRDZc1O2BkkCAXAE/WtIr9O483lcrFz50688cYbOHv2rKgfMbRoiaVoAKRFa4KGh4exa9cuGBoaYv78+fj3v/8NHx8f1NTUQEtLCx9++CH6+vpE/iE3U75z5w46Ojpw7NgxlJaWoqysDOXl5ejs7Hwm8h6nwi3NXdDRetijz4aZQCqAsDJOgq4GmwBAb6fsCcUT4XBkPYRAV4ocPAdmMnRUoqClHEnK3xtvJ2YqfJxzhQKehlQIrDU4cDBJoly3NWBDdfk2qC7fBqZqFMw02MTP97LNIMEf3zrSwdjglicU/twsUkR+fcaby+UiPDwcr7/+OhoaGkT9OKFFS2xFAyAtWpOIy+XiP//5DwwNDfHyyy9j4cKFcHJyQk1NjdhPuJhqj4yMoK6uDvv27cOxY8dQXl6OyspKnD59WiyacE+3zzRehqZ6NJgmcZQtUKyMk6CrzoaFcaJADz2VNTuhJRcGJ6s0OFikUm6/qqwOgq1xIvxcBKN/fDPW7ISXZRoMlCKoc/xsMqH21VZorQyCh2Uaac1YNRqaK4MIAFRdvg06UjvB1IqC6uodYGlxKAFQdcU2uJslw1fIFvC+0l9Efm345nK54HA4ePXVV3H8+HFRPz5o0RJr0QBIi9ZfqL+/H9988w0UFBRQXFwMKysrvP7663jnnXfg7OyMysrKaeutJy6mmus7OjqK7u5uNDQ0oKKiAhUVFWhoaEB3d7dYtsN5Wo+MjKCosBwWhjFCp2BYmyTBwz5TaBWtplwY1rvkCAVAPcUIOBomwkglihLwvG0yoPbVVrAYbJgy2GQ4lAyGmWIk1L7aCrWvtkL9623wsc18CIe2mST441tzVRDcLOOFwp+lJhuMZYFQWxoIL8tUMFbtIODPXJ2NkWHxuNZcLheJiYl45ZVXcOTIEVE/NmjREnvRAEiL1iS6ceMGFi9eDAsLC/z+++/E13///XdUVFTA3t4eb775Jt566y3Y2dmhtLRULBpBT6UfZa7v6Ogoenp6cPr0aVRWVqK8vBwnT57ElStXnotI6fDwMA4fPoxDhw7hSG0L1GWpJ2E4mqfAziABuooRlADoZpUOzdVBcLGkjgL62mVBdfk2WFAB3pqdYCpHEYBnphgJlk6cABxOtK9tJvQVIqC9JpgSAFWXb4OzXjx8WGnU0T9mEtSWBhK2UA2DoUI4VL/ZjqKsgyK/NnfvjsFfWloaFixYgIMHD4rwiUGL1rMjGgBp0ZpEPB4PP/zwA+7fvy/0e/744w9UV1fD2dkZb7/9Nt544w1YWVnhv//9LwYHB0X+4fg05s/1PXny5CNH9bhcLq5fv46zZ8+iqqoKpaWlOHbsGDo6Op7JSOmdO3dQW1uLI0eOEDBbW9NMFIHwrSL5sFDC3jABOhMgUFVyJ6y0Y6C6Yhs0VgfBdQIEGqpEQnvNTgLKzJSjYKEVOw7wMgXgznBtKOyMEqG2eifMVaIoAVDtq63Y4pYH9W+2U8Kfo3481D7fDLXPN8PHMg2Mb7cT8KcvGwKNr7eQAFBtaSCYihFwMknCzf6ZH3lIdb/l5ORg/vz5qKqqmsGnAy1az7ZoAKRFawp17949HDp0CB4eHnjvvffw6quvgslk4vvvv8etW7dE/mH5OO7v78fevXvR2Nj4xPl9XC4X/f39aG5uRk1NDUpKSlBfX4+LFy+KXdsQKg8NDeHAgQOU0c+qikbSSDQP20xSbpyDUSJRCayyZie87DJJkTX1VTvg/mAer8pq6i1aY4UIsHTjwZAMBlM5khLudNfsxCa3fKHwp7tmJwxW74SrQQJlFNDdOIkAQLXPN8PNMAE60sFQXbENvtbpAvDHd9iGIrGIdhcWFmL+/PkoLy8X9Z8/LVrPlGgApEVrmnT//n0cPXoUvr6+WLx4MRYsWABDQ0MUFhbi5s2bIv/gnMzTNdf35s2bOHfuHA4ePIiSkhIcOXIEFy5ceOTG0zPpwcFBVFdX4/jx40Kjn2U/N0BFKhiMtaFgMqIFCiQcjROhJR8GdZkQmE1osaK6YhvUV+6Ah1U6TNTZAgUafBvIhmGjS65QwGN8vRXWqtHwZKZQrvux0gm4s9PgwEgunDi2lToHjC82kwBQ7fPNsGGwYanBhqF0MCX8MZZtwY/fl4n8Gn7//feYN28efv75Z1H/uQMAkpOT8cEHH+Cll17CihUr6FxEWmItGgBp0ZoB3b9/H6dOnUJAQACWLFmCefPmQUdHBzk5OWLXUmam5vreunULbW1tOHToEEpKSlBbW4vW1laxiJTevn0b+/fvf6St7x+/PwZfx2yhbVIcTZLg55gttMhCfeUObHbNE5qfp7FyB6zVouGkH08JeN7mqVD7fDPUvwyEj2UaaU3r2x0wkQ4hwZ25QgQs1cbawfBfS+X1rDRYKIVSAuAWtzziGp4/f550Dc+dOzcj/+D8+OOPmD9/Pnbv3i3qP28AwPfff4+5c+ciMzMT58+fh7e3N+bPn4/u7m5RnxotWpSiAZAWrRnW/fv3cebMGWzZsgWff/45XnrpJWhoaCA9PR3Xrl0TaTuVjo4OlJaW4vLlyzP6cwcHB9He3o66ujqUlJTgwIEDaGlpwY0bN2b8PRgYGMC+ffseaSIM39/lHhYKgLprQ+BpngItyZ2UAGjBYENr+VZ4madSAqDPgwiezortcDVKJEf/lm8FSzmKBG5+rHRi3ccyjRLujCSD4WWeAo1lWyjXGV9shuma7dD+YhPcDOMFAPDkkfMC78H45uGlpaWorq7G2bNncf369Sm/p0tLSzF//nwUFxeDx+OJ+k8aALBq1Sq4uLiQvvbpp59i48aNIjojWrQmFw2AtKZN//d//4evvvoKc+bMwZkzZ0R9OmIpHo+H1tZWBAUF4auvvsLcuXOhoqKCpKQkdHV1zSgMistc3zt37uDSpUs4evQoARJNTU3o6+ub9vfj5s2bqKysfKK8x9yUakoA9LPJgNrSQLgYJkBzTZAAAHoxU4gInrdFmkD0z3RtKAFmWsu3wsM0mQA8/msn2o+VBvUV28CUDxce4bNIhbtBAuWanUYEGEsCwFgSAI1PN8DXPIWAPxfDhL98L4aHh9HZ2YkTJ04Q/SJ/+eUXXL169albBFVWVmLBggXIzc0VG/j7/fff8cILL+Cnn34ifd3LywuysrIiOitatCYXDYC0pk1eXl5QV1enAfARxePxcPHiRYSFheHbb7+FhIQE5OXlERsbi8uXL08b/HC5XDQ3N4vlXF8+SBw/fhxlZWXYt28fGhsb0dvbO+XvR39/PyoqKtDU1PTEx06PrSTBn7FiBHRW7ngIT0ZkCLTS4kD9y0ACvPjbuHwA9B2Xv8e3xtIt8DJPhdpXW2CtGi0U8AIds0nHHm+DVUHQWxYIjU8C4GuaLLBuKbeTAEC+/ZgpYCwLRPl/TjzWezI6OoqrV6/il19+IcYonjx5Ep2dnY/dImj//v145ZVXkJ6eLjbwBwC9vb2YM2cOjh49Svp6aGgoPv74YxGdFS1ak4sGQFrTor179+LTTz9Fa2srDYBPIB6Ph87OTkRHR0NSUhISEhKQkZFBVFQU2tvbpwx+uFwuMddXFNutj+ORkRF0dXXh1KlTKC8vx969e6csqnT9+nWUl5fj3LlzT32eCeGlBAD6WKUJbJ+6GidCc/UYBHqYJAnAF+OLsXYsmiuDYCITSglw6l8GItApRyj8Mb7YDGv5MHjoxUFr+VaB9XXMFDA+8ifsx3wIgRaKIQLwx/cG63TcufPkfR3Htwjav38/SktLcfTo0UeqCq+trcU//vEPJCYmihX8AQ8B8NixY6Svh4SE4JNPPhHRWdGiNbloAKQ15erv78e7776LhoYGXLlyhQbApxSPx8PVq1cRFxcHWVlZSEhIYNWqVQgLC0Nra+sTw+Do6ChOnDiBqqoqsSi8eNxzHx9VqqiowKlTp9DV1fXYUaVr166hvLwc588L5rU9KeRE7/gvLDTY0Fi+lbKIws04EU6G1NuvfG9xmQTwPt8Ee5VI+DIFo3dqn2+Gp2ECAXfOmhzofbuDtI1ssnI7CQAZH/nDUTMCjC82w10vTigA5sdVTul1nFgVfvjwYbS1tQncj3V1dXjttdfA4XDEDv4AeguY1rMpGgBpTal4PB4YDAaCg4MBgAbAKRaPx8P169eRnJwMJSUlSEhI4Ouvv0ZQUBDOnj37yDA4MjKC+vp61NTUPPPNqrlcLnp7e9HY2Ih9+/ahrKwMx48fR2dn5182nr569SrKysrQ3t4+pec0OspFYmiJ0B56aksDsck+U2gRhtbyrTBdtQN+QnL8PMYBnh8FBNqrRpLgzk45AsaSwVD7fDN8zZIF4I9vX9NE6H0VSAl/Oks3o793YNqu4+3bt3HhwgUcOXIEe/bsgYyMDNzc3JCXl4fXXnsN4eHhYgl/fK1atQqurq6kr3322Wd0EQgtsRUNgLQeSdu3b8ecOXMmdUNDA+Lj4yElJYV79+4BoAFwOsXj8TAwMICsrCwwGAy8+OKLWLp0KbZs2TJpBSvVXN/nxVwuF319fWhqaiJtMV66dEngd+3q6kJZWRkuXbo0LecyMjKK7V4FlPDnrBsLxpIAeOjHUUKg37gtWioIdFCNErqF66oXTwl3rLUhsJAPh6VMiHAANIyDo1IYjL7dJgCAnI3fz9h1HBwcBJvNhrS0NObOnYvXX38dfn5+qKurI54t4iZ+G5js7GycP38ePj4+mD9/Prq6ukR9arRoUYoGQFqPpIGBAbS1tU3q3377Dbq6uvjb3/6GF154gfCcOXPwwgsvwMrKStS/xnMrHo+HwcFB5OXlQVtbGy+//DI+/fRTBAQEkBoZt7W1wc/Pb9K5vs+Tb9y4gZaWFhw4cAAlJSWoq6tDe3s72tvbUVpais7Ozmn9+cPDI9jknCMIgJocAqw8DeKhsfRhsYb219sEtmjHQ6CbPjXg+Zklg/H5JjhrsIUC3jrjBNjIh1GuGX2zFTqfrAdjkQ9YUjtgIRNMnKP6xwFob+ma0WvX2NiIt99+G/7+/tizZw9sbGzwv//7v/jnP/+J4uJiUf/JUSo5ORmLFi3Ciy++iBUrVuDw4cOiPiVatISKBkBaU6ru7m60tLQQrqqqwpw5c/Djjz+ip6dH1Kc3azQ8PIzi4mIYGBhg3rx5+PDDD+Hs7IyFCxdCXV19VsDfRA8MDKC1tRX79+/Hnj17UF1dTZlvNtUeGhzGetuMh0UghgkC0TVPgwSiYtdvQoHGxCifIyNaKOBttEqD+hLqNcZH/rCTDYbhFxvgOGGLmPGRP/yME8BY5EPY5OtAOKiMtYPZZJMxo9eqqakJ77zzDtavX0+aw/3nn3+itrYW58+fF+FfFy1az4doAKQ1raK3gEWv0dFRsNlsvPzyy1i8eDEWLVoEDw8PHDhwYNaBYHt7O8rKytDR0UHkm5WUlODgwYPTOsHi9q0heFukQm1pIBzUoilz7LwME6C3cgeMvxUs0OB7s12G0DXGR/5w14iGtw4HGp8ECKy5abLBeN8bjPe9of2hH6zkg4g17c83wvirzSQAZCzygd5nAXDT5uBodfOMXaPW1la8//778PT0JMEfLVq0plY0ANKaVtEAKHodPXoUr7/+OoKDg3H37l38/PPPYLFYeO211/DOO+/AxcUF+/bt+8uCiWfdbW1tKC8vx7Vr10hfHz/BoqSkBDU1NWhubkZ/f/+U9hocuDmIEN8ioRW2jCUBCLTLgPrHwgHPWSUc64yot4DtFMMJwPPQjIbWZxtI665qkcQ6431vaC72hZde7IPcv3gB+OPbRS1ixq7RhQsXsGjRIjg7O9PwR4vWNIsGQFq0nmMNDw/jzTffREpKisDab7/9hvLyctjZ2RG5Vfb29igrK3vuikPOnTuH8vJyXL9+fdLvGx4eRkdHB44dO4bS0lJUVVVN6Tiz/uu34KTBpoQ/3WWBMFq2Cd56MZQQ6KIeRcCbHwUEemlzSIDnyoiE7pebwPjIH/bKEaQ1vtUX+cDPMB5W0kFCAbCk4PCMXKOOjg58+OGHsLOzE9tCD1q0nifRAEiL1nOu69ev/+X3/PHHH6iuroazszPefvttvPHGG7C2tsZPP/30TLeJ4XK5aGpqQkVFBfr7+x/rtSMjI7hy5QpOnjxJjDM7ffo0enp6ngoGr/fchJ1KpAAArhuXg+etHyuQyzcxgudn+BACrWRDoL7IRwDwnJXDob8sUAAOx9tDPRJ+ehxK+DP5OhBDg9P/z0BnZyc++eQTsFgsGv5o0Zoh0QBIixYtkviJ9u7u7nj33Xfx6quvgslk4ocffnimGkZzuVw0NjZOyZST0dFRdHd3o6GhARUVFaioqEBDQwO6u7ufaArJ1c4+WCuEE/Cn91UgDJduIsGXzzgIdJoAfw8hMA6Mj/zhoxcrFPA8tdgw+Mxf6LqzfDAYC93gpysIgdkRJdN+nbq6uvDFF1/A1NQUf/75p6hvf1q0Zo1oAKRFi5ZQ3bt3D/X19fDx8cEHH3yAV155BUZGRigqKpq2gompgr9ffvkF+/btw8DA1DYv5nK56OnpwenTp1FZWUnMtr1y5cpjFdVcudgLC5mxsWvrTBIoI3A+BnFgfLQebowooQAXYJoAzcW+QtedFHbAbNl6mCzbJLDmKB8CxkI3wt6aUdD4ty8Yi3ygvWQ9erundzxgT08Pli5dCn19ffzxxx+ivt1p0ZpVogGQFi1aj6T79+/j5MmT8Pf3x0cffYR58+ZBV1cXubm56OvrEzn0jQe0U6dOzciIu/GzbauqqlBaWopjx46ho6PjkYpqLp2/ChuFcBgu3Sg0B2+jebJQuGO87w0/7Wj4akdTrhl87g/Nd93BeNsVrBWbwfxmC2ndSz2SBICMhW7wUA2H9sfrEeVTMK3vXW9vL1asWAEtLS38/vvvor69adGadaIBkBYtWo+t+/fvo7GxEYGBgfjss8/w0ksvQVNTExkZGejt7Z3S6tnH8ejoKI4fP47q6uoZz13kcrno7+9Hc3MzampqUFJSgvrlBI6PAAASbklEQVT6ely8eBFDQ0NCX9fW1EnZgoVvd9Vw+OqwKQHPeOlG6CzyAuNtV/hoRUH9X+R1B4VtYLztSth82QawVm0D431vWKzcCo13PQQAkLHQDc7ywWhtvDxt71VfXx9WrVoFNTU1/Pbbb6K+nWnRmpWiAZAWrQe6cuUK7Ozs8MEHH+Dll1/Gv//9b2zbto2OTvyFeDwezp07hx07dmDZsmWYO3cuVFVVkZycjO7u7hmDwdHRURw9ehQHDhyYFLhmyjdv3sS5c+dw8OBBlJSU4MiRI7hw4QJu374t8L3Npy7C4EvBKKC9XDABZX4UEOinyyYBnrdmFBgPIFB7iR/0P/QhrTPedoXp5/6wkdoxdjwK+GMsdIO/Qcy0vS83btyAtLQ0FBUV8euvv4r69qVFa9aKBkBatB6osrISNjY2qKqqwuXLl1FSUoJ//vOfWLdunahP7ZkRj8dDe3s7QkND8c0330BCQgIKCgqIi4vD5cuXpw0GR0ZGUFdXh9raWrFsYXPr1i20tbXh0KFDKCkpQW1tLVpbW0n5iY1H26D3WQAJAD0ZESQwGw+B+p8GUAKeg9w2MP7lDV+daIE1vlkrNsNZbqdQADxS/su0vA8DAwOQlZWFrKwsRkdHRX270qI1q0UDIC1akygqKgqLFy8W9Wk8k+LxeLh8+TKioqKwZs0aSEhIQEZGBtHR0bh48eKUweDw8DAOHTqEQ4cOPRPNrAcHB9He3o66ujqUlJTgwIEDaGlpwY0bN3DiYAt0Ph6bx2uzNgjq/89dAM78dDkPon8coYDnpR4B5rINQtf9NCKg9547nNbuEDi+ndT2aQH1W7duQUlJCZKSkhgeHhb17UmL1qwXDYC0aE2iwMBAfPPNN6I+jWdePB4P3d3diI2NhaysLF544QWsXr0aYWFhOH/+/BMDx507d1BbW4sjR448k2Pt7ty5g0uXLuHo0aMoLS1FdXU1fsipgNZH6ygLNPherxcD40/XCQU8H0Y4PBWDiQKQ8dZ6zwMmH3lD7TV76Pw/F7gqBJOO/VNmzbRAL4PBwMqVKzE0NCTq25EWLVqgAZAWLaHq6OjAP/7xD2RmZor6VJ4r8Xg89Pb2IikpCYqKipCQkMCKFSuwc+dONDU1PTIMDg0N4cCBA6ivr38m4W+ih4eH0dnZiePHjyMhNAea71EXaDAWusFXIwJ+GhGU8Ke+0BWsZQFQe80eHgo7ofmeuwAcqr1mT1jrn87wUA4FY6EbjD5dj8FbU5s/OTQ0BG1tbSxfvhy3b98W9e1HixatB6IBkNZzr+3bt2POnDmTuqGhgfSa3t5efPTRR7C3txfRWc8O8Xg83Lx5ExkZGVBTU8PcuXOxdOlSbN26Fb/88otQGBwcHER1dTWOHz/+RI2Yxd0jIyPYnb4X6u8IbgFrvucBs098ofaaPSUEeiqHkgDPXT4IWu95EOvWyzeQ1tVes4fGm47wUgtHRtCPU/p73LlzB4aGhvjyyy8xMDAg6tuNFi1a40QDIK3nXgMDA2hra5vU41tR9Pb24uOPPwaLxaIH0s+geDwebt++jdzcXGhpaeGll17CZ599hg0bNuDEiRME6DU1NcHLywsnT558LuFvvEtyawXyAG0lN5LgzUFmM7kIZPUWAcBzkw2C9vsecFcMFljjW/ttF/RcnnxW8uN4eHgYZmZm+Oyzz9Df3y/q24sWLVoTRAMgLVrjdO3aNSxZsgRmZmb0TFIR686dOygqKoK+vj7mzZuHDz/8/+3df1DN+R7H8cOppNMv2pKiw7ZoL5u7sY0xYnRTGdmY5N6lKeRHJynuZjaL9bPYGdtea2Jwbe7YyHK1QzHHLqG7YtuI05YNUYpo/Tod224/vq/7h3uiW63Sqe+p7+sx8/7n++X4dM6Z8Zy+53y+rli0aBEcHBwQFBTU7eNPP4e2qxvib7LTYsz604dN4i3KZz38+6kQMX5di4Gn8loLldfaFs/Hz9thsDVrtVqEhoZiyJAhKC8vF/utRETNYAAS/Y/+sq+3tzfKyspw7969hiFxVVVVITExEb1798bgwYPh4uKCJUuW4NSpU93i83+vmq8S0+HvGIlo34QWA27u2DjMea/p5V39zBsVh0XvrcD7/SOaPX/1wjWDrLWqqgrh4eF48803UVJSIvZbh4hawAAk+p/k5OQWPyNI4srLy4O9vT1WrVoFnU6HI0eOICQkBLa2tnB2doZKpYJare7WMbgn/gjmvBvXYuCFui+Hymtli+eXjF8DX/MQLBwdh/edVI3OLfNPMFj8qVQqKJVKFBcXi/22aYKbvRO9wP/ZiMioPXv2DP3790dCQkKTc9XV1Th27Bjmzp2Lvn37ol+/fpg/fz7S09ONckPo9sbV2nmftxh40ROeB96ySU0/5zdj8GL4K0Lhax4CX/MQLPD4CIEvReDpf2cbZH3R0dFwdnbG9evXRXinvBo3eyd6gQFIREbv5s2br/wzNTU1OHnyJBYuXAgHBwfY2dkhLCwMaWlpRnFruPbG1fnz5/Hdd99hS9Q/mwTeB8OWYbLli8BbNmlj48//jVvZcE4/80bGYtqAxQj780ft/jylTqfD8uXL4ejoiMLCwk54RxgON3snqWIAElG3U1tbi8zMTERGRsLJyQm2traYNWsWDh482Oy9eI15Xo6/x48fQ6fTYfPCXY0Cb+lf1jcJvGU+z38TOH1gJN63C29y3tc8BB8MXYyd679CRUXFa2/GrdPpsHLlStjb2yM/P1/sl77NuNk7SRUDkIi6tbq6OmRlZSEmJgZKpRJWVlYIDg5GSkoKHjx4IHrgtSX+Xj6+PjQJfrbhCFJGYWqfec0G3lKfDVjms6HZc77mIQi0n48zp8/i2LFjUKvVuHz5Mu7evdvqGNTpdFi3bh3s7OyQl5cn9kvdZtzsnaSMAUhEklFfX48LFy4gNjYWrq6usLCwwLRp05CcnIyKigrRg6818acf7VMtVv/1H1g2qeXAm2wVhg99mv52UD9Jsf96/lhaLW7duoWLFy8iPT0dJ06cQG5uLu7cudPi5WGdToeEhAT06dOnyUbqnY2bvRO1HQOQiCSpvr4eubm5+Pjjj+Hm5gZzc3MEBARg165dKC8vf+1Lop0Rf/p58ugJVgdtaTHwloxbhUk9gxE9fnWTc/6KUNz++U6z/3ZJSQlycnJw/PhxZGRkICcnByUlJQ1frNHpdPjss89gY2OD7OxssV9KbvZO9BoYgERdWFJSEgYNGoRevXrBw8MD586dE3tJXZIgCNBoNFizZg3eeecdmJmZwc/PD9u3b0dpaWmnxmBr408/j355jGXNfAbQ1zwEoUOi4NNjRrMRuO5vn7fqEm9ZWRkuXbqEQ4cOwdraGv7+/lCpVLCyskJWVpbYL12bcbN3oucYgERdVGpqKkxNTbF7924UFBQgJiYGCoWCm++2kyAIuHbtGuLj4zFq1CiYmJhg4sSJ2Lp1K4qLizs0Btsaf/r55f5DRI1rHHgRo+Pg02NGw0zqGYxor1UN5y+d0bR5bRkZGQgICIClpSXMzc0RFBSElJQUPH36VOyXrVW42TvRCwxAoi7K09MTERERjY65ubkhLi5OpBV1P4Ig4MaNG/j0008xZswYmJiYwMvLC1u2bEFRUZFBY/B1408/D+5WIsJzRUPgLXw3tlEA+vSYAV95MJaMW4Wocavb/Pg6nQ579uyBQqGAWq2GRqPB2rVr4e7uDjMzM+zfv1/sl+uVuNk70Qt81xN1Qb///jvkcjmOHDnS6Hh0dDTGjx8v0qq6N0EQUFJSgsTERHh5eUEul2PMmDHYtGkTCgoK2hWD7Y0//dwrvY/wkcsxZ/jfm8TfyxF46uB/2vzY+/btg4WFBdLT05s8N0VFRaioqBDhVSGi18UAJOqCysvLIZPJ8P333zc6Hh8fj6FDh4q0KukQBAFlZWXYtm0bJk6cCBMTE4waNQrr16/HlStX2hSDhoo//ZQV38WKKfEtBuAHLoug1bZt4+fU1FRYWFggLS1N7KeeiAyEAUjUBekD8Pz5842Ob9y4EcOGDRNpVdIkCALu37+PnTt3wtfXF6ampnB3d8fq1auRm5v7hzFo6PjTz+2fSzFLGdFsAH6VcKhNj3X48GFYWFjg66+/FvupJiIDYgASdUG8BGycBEHAw4cP8eWXX2LKlCno1asX3n77bcTFxeHixYuN9tR79OgRDhw4YPD4088NTTFmOs1vFH8BViF4cLey1Y9x9OhRKBQKpKSkiP3UEpGBMQCJuihPT0+oVKpGx/SxQcbhyZMn2LdvH6ZPn47evXvjrbfeQmxsLDIzM+Ht7Q13d3c8evTI4PGnn2u51xFkP7chAD9X7Wz13z1x4gQsLS2xd+9eCIIg9lNJRAbGACTqovTbwOzZswcFBQVYunQpFAoFbt++LfbSqBlarRapqamYMWMGLCws4OjoCJVKhdOnT7d4tw1DTP6FQkzrGwZfeTBu5t9q1d85efIkrKyssGvXLsYfUTfFACTqwpKSkqBUKmFmZgYPDw+cPXtW7CXRH6ipqUFwcDBGjBiB5ORkzJ49GzY2NhgwYAAiIyOhVquh1WoNHoF55zSIn/3qjZ+fPXuGzMxMWFtbY9u2bYw/om6MAUhE1Alqa2sRHBwMd3d3VFZWNhyvrq7G0aNHMWfOHPTt2xeOjo6YP38+MjIyGm69ZohpzTeTs7KyYGtri8TERMYfUTfHACQi6gSCIGDTpk2N4u//1dTUQK1WY8GCBXBwcMAbb7yBsLAwfPPNNx3yRZGXJzs7G3369MHmzZsZf0QSwAAkIjJCtbW1OH36NFQqFZycnGBra4vZs2fj0KFDePjwoUHjLycnB3Z2dli3bh3jj0giGIBEREaurq4O586dQ0xMDFxcXGBtbY2ZM2di//79qKxs/bYuzU1ubi4cHBywcuVKxh+RhDAAiYi6kPr6emRnZyM2Nhaurq5QKBSYPn069u7di4qKijbF35UrV9C/f3/Exsaivr5e7B+NiDoRA5CIqIuqr6/Hjz/+iBUrVmDYsGEwNzdHQEAAdu/ejfLy8j/84kd+fj4GDhyI6Ohoxh+RBDEAiUgUCQkJGD16NCwtLWFvb4/AwEBcu3ZN7GV1WYIg4OrVq/jkk08wYsQImJmZwc/PDzt27EBpaWmjGCwsLIRSqURERATjj0iiGIBEJAo/Pz8kJycjPz8feXl5mDJlClxcXKDT6cReWpcnCAIKCwuxceNGeHh4wNTUFN7e3vjiiy+QnZ0NV1dXhIeHo66uTuylEpFIGIBEZBQePHgAmUzGzawNTBAE3LhxA5s3b4anpydkMhm8vb0Zf0QSxwAkIqNw/fp1yGQyaDQasZfSbQmCgDNnzuDx48diL4WIRMYAJCLRCYKAqVOnYty4cWIvhYhIEhiARCS6yMhIKJVK3LlzR+ylkMh+++03jBw5EjKZDJcvXxZ7OUTdFgOQiEQVFRWFAQMGoLi4WOylkBGIjo7G5MmTGYBEHYwBSESiEAQBixcvhpOTE4qKisReDhmB48ePw83NDT/99BMDkKiDMQCJSBQqlQo2NjY4c+YM7t271zC//vqr2EsjEVRUVMDZ2Rk5OTm4desWA5CogzEAiUgUMpms2UlOThZ7adTJBEGAv78/NmzYAAAMQKJOwAAkIqIOsWbNmhZDXz85OTnYunUrxo4d27A3IQOQqOMxAImIqENUVlaisLDwD6e6uhqBgYHo2bMn5HJ5w8hkMsjlcoSGhor9YxB1SwxAIiISVUlJCTQaTcOo1WrIZDIcPnyYWwMRdRAGIBERGRVeAibqeAxAIiIyKgxAoo7HACQiIiKSGAYgERERkcQwAImIDCghIQEymQwxMTFiL4WIqEUMQCIiA/nhhx8waNAguLu7MwCJyKgxAImIDKCqqgpDhgzBt99+iwkTJjAAicioMQCJiAwgNDQUS5cuBQAGIBEZPQYgEVE7HThwAMOHD0d1dTUABiARGT8GIBFRO5SWlsLBwQF5eXkNxxiARGTsGIBERO2QlpbWcN/al+9j26NHD8jlctTV1Ym9RCKiJhiARETtoNVqG93HVqPRYPTo0QgJCYFGoxF7eUREzWIAEhEZGC8BE5GxYwASERkYA5CIjB0DkIiIiEhiGIBEREREEsMAJCIiIpIYBiARERGRxDAAiYiIiCSGAUhEREQkMQxAIiIiIolhABIRERFJDAOQiIiISGIYgEREREQSwwAkIiIikhgGIBEREZHEMACJiIiIJIYBSERERCQxDEAiIiIiiWEAEhEREUkMA5CIiIhIYhiARERERBLDACQiIiKSmP8CA33618XNE4kAAAAASUVORK5CYII=\" width=\"640\">"
      ],
      "text/plain": [
       "<IPython.core.display.HTML object>"
      ]
     },
     "metadata": {},
     "output_type": "display_data"
    }
   ],
   "source": [
    "grafico3d()"
   ]
  },
  {
   "cell_type": "markdown",
   "id": "d197c4b3",
   "metadata": {
    "slideshow": {
     "slide_type": "slide"
    }
   },
   "source": [
    "# Jupyter Lab\n",
    "- Multiples notebooks.\n",
    "- Navegador de archivos propio.\n",
    "- índice.\n",
    "- Fácil instalacion de extensiones.\n",
    "- Modificar la interfaz.\n",
    "- Sensación de IDE/editor de código."
   ]
  },
  {
   "cell_type": "markdown",
   "id": "21f5d064",
   "metadata": {
    "slideshow": {
     "slide_type": "notes"
    }
   },
   "source": [
    "**Jupyter Lab (JL)** es una tecnología brindada por [Proyect Jupyter](https://jupyter.org/) que nos permite abrir multiples notebooks con distintos kernels (mas adelante en este notebook se explican los kernels) en la misma interfaz. Nos permite encontrar muy facilmente los notebooks y abrirlos en diferentes \"pestañas\" a través del navegador de archivos, a diferencia de los notebooks que se abren en pestañas independientes y tenemos que buscarlos en el dashboard (panel) de Jupyter Notebooks.\n",
    "\n",
    "Contiene un índice que nos permite saltar de un título a otro dentro del notebook sin necesidad de extensiones.\n",
    "\n",
    "Nos ofrece facilidad para el manejo de extensiones, siendo mas facil instalarlas sin tener la necesidad de ejecutar un comando por consola.\n",
    "\n",
    "Otra funcionalidad que nos ofrece **JL** es la posibilidad de modificar la interfaz a gusto, como activar el modo oscuro, activar/desactivar el autoguardado, aumentar/disminuir el tamaño del texto, aumentar/disminuir el tamaño de la interfaz y muchas cosas más.\n",
    "\n",
    "Nos da una sensación de que estamos trabajando dentro de un editor de códigom ya que su interfaz es muy parecida la de **Visual Studio Code**"
   ]
  },
  {
   "cell_type": "markdown",
   "id": "6360b845",
   "metadata": {
    "slideshow": {
     "slide_type": "slide"
    }
   },
   "source": [
    "# Widgets"
   ]
  },
  {
   "cell_type": "markdown",
   "id": "d7c66149",
   "metadata": {
    "slideshow": {
     "slide_type": "notes"
    }
   },
   "source": [
    "Los Widgets son una funcionalidad que nos brinda Jupyter que nos permite modificar datos de funciones de forma fácil e interactiva, dandonos la salida de dicha funcion automaticamente, sin tener que modificar el código. Para esto es necesario ejecutar en consola: `pip install ipywidgets` y `jupyter nbextension enable --py widgetsnbextension`"
   ]
  },
  {
   "cell_type": "code",
   "execution_count": 10,
   "id": "8fa0aa5e",
   "metadata": {
    "slideshow": {
     "slide_type": "skip"
    }
   },
   "outputs": [],
   "source": [
    "def slider(x):\n",
    "    return x"
   ]
  },
  {
   "cell_type": "code",
   "execution_count": 11,
   "id": "304db20c",
   "metadata": {
    "scrolled": true,
    "slideshow": {
     "slide_type": "fragment"
    }
   },
   "outputs": [
    {
     "data": {
      "application/vnd.jupyter.widget-view+json": {
       "model_id": "d4aceba9b27b4dc5981abe315fe6c545",
       "version_major": 2,
       "version_minor": 0
      },
      "text/plain": [
       "interactive(children=(IntSlider(value=10, description='x', max=30, min=-10), Output()), _dom_classes=('widget-…"
      ]
     },
     "metadata": {},
     "output_type": "display_data"
    },
    {
     "data": {
      "text/plain": [
       "<function __main__.slider(x)>"
      ]
     },
     "execution_count": 11,
     "metadata": {},
     "output_type": "execute_result"
    }
   ],
   "source": [
    "interact(slider,x=10)"
   ]
  },
  {
   "cell_type": "code",
   "execution_count": 12,
   "id": "ad8e3c08-d114-4426-b585-f3c923d543b9",
   "metadata": {
    "slideshow": {
     "slide_type": "skip"
    }
   },
   "outputs": [],
   "source": [
    "def factor(n):\n",
    "    x = sp.symbols('x')\n",
    "    display(sp.Eq(x**n-1, sp.factor(x**n-1)))"
   ]
  },
  {
   "cell_type": "code",
   "execution_count": 13,
   "id": "1dea1819-3d25-4da4-87f9-4202f4e21f17",
   "metadata": {
    "scrolled": false,
    "slideshow": {
     "slide_type": "subslide"
    }
   },
   "outputs": [
    {
     "data": {
      "application/vnd.jupyter.widget-view+json": {
       "model_id": "88dc707552c2475e9b6a5366509ad39f",
       "version_major": 2,
       "version_minor": 0
      },
      "text/plain": [
       "interactive(children=(IntSlider(value=6, description='n', max=10, min=2), Output()), _dom_classes=('widget-int…"
      ]
     },
     "metadata": {},
     "output_type": "display_data"
    },
    {
     "data": {
      "text/plain": [
       "<function __main__.factor(n)>"
      ]
     },
     "execution_count": 13,
     "metadata": {},
     "output_type": "execute_result"
    }
   ],
   "source": [
    "interact(factor, n=(2,10)) "
   ]
  },
  {
   "cell_type": "markdown",
   "id": "a91ccb9a",
   "metadata": {
    "slideshow": {
     "slide_type": "subslide"
    }
   },
   "source": [
    "## Interacción con gráficos"
   ]
  },
  {
   "cell_type": "code",
   "execution_count": 14,
   "id": "907134fa",
   "metadata": {
    "slideshow": {
     "slide_type": "skip"
    },
    "tags": []
   },
   "outputs": [],
   "source": [
    "%matplotlib inline\n",
    "def f1(n):\n",
    "    x=np.arange(-100,100,0.1)\n",
    "    y=x**n-1\n",
    "    plt.plot(x,y)"
   ]
  },
  {
   "cell_type": "code",
   "execution_count": 15,
   "id": "f764c982",
   "metadata": {
    "scrolled": true,
    "slideshow": {
     "slide_type": "fragment"
    },
    "tags": []
   },
   "outputs": [
    {
     "data": {
      "application/vnd.jupyter.widget-view+json": {
       "model_id": "a8c7d7640f0e45ad8b10a6125f01af48",
       "version_major": 2,
       "version_minor": 0
      },
      "text/plain": [
       "interactive(children=(IntSlider(value=5, description='n', max=10, min=1), Output()), _dom_classes=('widget-int…"
      ]
     },
     "metadata": {},
     "output_type": "display_data"
    },
    {
     "data": {
      "text/plain": [
       "<function __main__.f1(n)>"
      ]
     },
     "execution_count": 15,
     "metadata": {},
     "output_type": "execute_result"
    }
   ],
   "source": [
    "interact(f1,n=(1,10,1))"
   ]
  },
  {
   "cell_type": "markdown",
   "id": "1aa6e03b",
   "metadata": {
    "slideshow": {
     "slide_type": "subslide"
    }
   },
   "source": [
    "## Interacción con mapas"
   ]
  },
  {
   "cell_type": "code",
   "execution_count": 16,
   "id": "09319cee",
   "metadata": {
    "scrolled": false,
    "slideshow": {
     "slide_type": "fragment"
    }
   },
   "outputs": [
    {
     "data": {
      "application/vnd.jupyter.widget-view+json": {
       "model_id": "2be8050c9c5d463785bcac84ccf25971",
       "version_major": 2,
       "version_minor": 0
      },
      "text/plain": [
       "Map(center=[-32.95437267097578, -60.64372798809471], controls=(ZoomControl(options=['position', 'zoom_in_text'…"
      ]
     },
     "metadata": {},
     "output_type": "display_data"
    }
   ],
   "source": [
    "Map(center=[-32.95437267097578, -60.64372798809471], zoom=100)"
   ]
  },
  {
   "cell_type": "markdown",
   "id": "f0c0a756",
   "metadata": {
    "slideshow": {
     "slide_type": "slide"
    }
   },
   "source": [
    "# Funciones mágicas\n",
    "Comandos que nos simplifican determinadas operaciones que necesitamos hacer con los notebooks\n",
    "- *%timeit* y *%%timeit*\n",
    "- *%store*\n",
    "- *%%html*\n",
    "- *%lsmagic*"
   ]
  },
  {
   "cell_type": "markdown",
   "id": "e55aea6e",
   "metadata": {
    "slideshow": {
     "slide_type": "subslide"
    }
   },
   "source": [
    "## %timeit y %%timeit\n",
    "Nos devuelve el tiempo que tarda en ejecutarse una linea/celda"
   ]
  },
  {
   "cell_type": "code",
   "execution_count": 17,
   "id": "72564d02",
   "metadata": {
    "slideshow": {
     "slide_type": "fragment"
    }
   },
   "outputs": [
    {
     "name": "stdout",
     "output_type": "stream",
     "text": [
      "197 ns ± 3.11 ns per loop (mean ± std. dev. of 7 runs, 1000000 loops each)\n"
     ]
    }
   ],
   "source": [
    "%timeit range(1000)"
   ]
  },
  {
   "cell_type": "code",
   "execution_count": 18,
   "id": "ba956eec",
   "metadata": {
    "scrolled": true,
    "slideshow": {
     "slide_type": "fragment"
    }
   },
   "outputs": [
    {
     "name": "stdout",
     "output_type": "stream",
     "text": [
      "326 µs ± 4.52 µs per loop (mean ± std. dev. of 7 runs, 1000 loops each)\n"
     ]
    }
   ],
   "source": [
    "%%timeit \n",
    "puntos_random(100)\n",
    "dataframe_puntos_random()"
   ]
  },
  {
   "cell_type": "markdown",
   "id": "5d4d79ff",
   "metadata": {
    "slideshow": {
     "slide_type": "subslide"
    }
   },
   "source": [
    "## %store\n",
    "Guarda una variable para usarla en otro notebook. `%store <variable>` para guardarla, `%store -r <variable>` para acceder desde otro notebook"
   ]
  },
  {
   "cell_type": "code",
   "execution_count": 19,
   "id": "f2047f20",
   "metadata": {
    "slideshow": {
     "slide_type": "fragment"
    }
   },
   "outputs": [
    {
     "name": "stdout",
     "output_type": "stream",
     "text": [
      "Stored 'asignatura' (dict)\n"
     ]
    }
   ],
   "source": [
    "asignatura = {'nombre':'Soporte a la gestión da datos con programación visual','profesor':'Mario'}\n",
    "%store asignatura"
   ]
  },
  {
   "cell_type": "markdown",
   "id": "93599101",
   "metadata": {
    "slideshow": {
     "slide_type": "subslide"
    }
   },
   "source": [
    "## %%html\n",
    "Convierte la celda en codigo html"
   ]
  },
  {
   "cell_type": "code",
   "execution_count": 20,
   "id": "0dcd2429",
   "metadata": {
    "scrolled": true,
    "slideshow": {
     "slide_type": "fragment"
    }
   },
   "outputs": [
    {
     "data": {
      "text/html": [
       "<h1>Lorem ipsum</h1>\n",
       "<p>Lorem ipsum dolor sit amet, consectetur adipiscing elit, sed do eiusmod tempor incididunt ut labore et dolore magna aliqua. Ut enim ad minim veniam, quis nostrud exercitation ullamco laboris nisi ut aliquip ex ea commodo consequat. Duis aute irure dolor in reprehenderit in voluptate velit esse cillum dolore eu fugiat nulla pariatur. Excepteur sint occaecat cupidatat non proident, sunt in culpa qui officia deserunt mollit anim id est laborum.</p>\n"
      ],
      "text/plain": [
       "<IPython.core.display.HTML object>"
      ]
     },
     "metadata": {},
     "output_type": "display_data"
    }
   ],
   "source": [
    "%%html\n",
    "<h1>Lorem ipsum</h1>\n",
    "<p>Lorem ipsum dolor sit amet, consectetur adipiscing elit, sed do eiusmod tempor incididunt ut labore et dolore magna aliqua. Ut enim ad minim veniam, quis nostrud exercitation ullamco laboris nisi ut aliquip ex ea commodo consequat. Duis aute irure dolor in reprehenderit in voluptate velit esse cillum dolore eu fugiat nulla pariatur. Excepteur sint occaecat cupidatat non proident, sunt in culpa qui officia deserunt mollit anim id est laborum.</p>\n"
   ]
  },
  {
   "cell_type": "markdown",
   "id": "9dc03651",
   "metadata": {
    "slideshow": {
     "slide_type": "subslide"
    }
   },
   "source": [
    "## %lsmagic\n",
    "Muestra todas las funciones magicas. "
   ]
  },
  {
   "cell_type": "code",
   "execution_count": 21,
   "id": "e93945b5",
   "metadata": {
    "scrolled": true,
    "slideshow": {
     "slide_type": "fragment"
    }
   },
   "outputs": [
    {
     "data": {
      "application/json": {
       "cell": {
        "!": "OSMagics",
        "HTML": "Other",
        "SVG": "Other",
        "bash": "Other",
        "capture": "ExecutionMagics",
        "cmd": "Other",
        "debug": "ExecutionMagics",
        "file": "Other",
        "html": "DisplayMagics",
        "javascript": "DisplayMagics",
        "js": "DisplayMagics",
        "latex": "DisplayMagics",
        "markdown": "DisplayMagics",
        "perl": "Other",
        "prun": "ExecutionMagics",
        "pypy": "Other",
        "python": "Other",
        "python2": "Other",
        "python3": "Other",
        "ruby": "Other",
        "script": "ScriptMagics",
        "sh": "Other",
        "svg": "DisplayMagics",
        "sx": "OSMagics",
        "system": "OSMagics",
        "time": "ExecutionMagics",
        "timeit": "ExecutionMagics",
        "writefile": "OSMagics"
       },
       "line": {
        "alias": "OSMagics",
        "alias_magic": "BasicMagics",
        "autoawait": "AsyncMagics",
        "autocall": "AutoMagics",
        "automagic": "AutoMagics",
        "autosave": "KernelMagics",
        "bookmark": "OSMagics",
        "cd": "OSMagics",
        "clear": "KernelMagics",
        "cls": "KernelMagics",
        "colors": "BasicMagics",
        "conda": "PackagingMagics",
        "config": "ConfigMagics",
        "connect_info": "KernelMagics",
        "copy": "Other",
        "ddir": "Other",
        "debug": "ExecutionMagics",
        "dhist": "OSMagics",
        "dirs": "OSMagics",
        "doctest_mode": "BasicMagics",
        "echo": "Other",
        "ed": "Other",
        "edit": "KernelMagics",
        "env": "OSMagics",
        "gui": "BasicMagics",
        "hist": "Other",
        "history": "HistoryMagics",
        "killbgscripts": "ScriptMagics",
        "ldir": "Other",
        "less": "KernelMagics",
        "load": "CodeMagics",
        "load_ext": "ExtensionMagics",
        "loadpy": "CodeMagics",
        "logoff": "LoggingMagics",
        "logon": "LoggingMagics",
        "logstart": "LoggingMagics",
        "logstate": "LoggingMagics",
        "logstop": "LoggingMagics",
        "ls": "Other",
        "lsmagic": "BasicMagics",
        "macro": "ExecutionMagics",
        "magic": "BasicMagics",
        "matplotlib": "PylabMagics",
        "mkdir": "Other",
        "more": "KernelMagics",
        "notebook": "BasicMagics",
        "page": "BasicMagics",
        "pastebin": "CodeMagics",
        "pdb": "ExecutionMagics",
        "pdef": "NamespaceMagics",
        "pdoc": "NamespaceMagics",
        "pfile": "NamespaceMagics",
        "pinfo": "NamespaceMagics",
        "pinfo2": "NamespaceMagics",
        "pip": "PackagingMagics",
        "popd": "OSMagics",
        "pprint": "BasicMagics",
        "precision": "BasicMagics",
        "prun": "ExecutionMagics",
        "psearch": "NamespaceMagics",
        "psource": "NamespaceMagics",
        "pushd": "OSMagics",
        "pwd": "OSMagics",
        "pycat": "OSMagics",
        "pylab": "PylabMagics",
        "qtconsole": "KernelMagics",
        "quickref": "BasicMagics",
        "recall": "HistoryMagics",
        "rehashx": "OSMagics",
        "reload_ext": "ExtensionMagics",
        "ren": "Other",
        "rep": "Other",
        "rerun": "HistoryMagics",
        "reset": "NamespaceMagics",
        "reset_selective": "NamespaceMagics",
        "rmdir": "Other",
        "run": "ExecutionMagics",
        "save": "CodeMagics",
        "sc": "OSMagics",
        "set_env": "OSMagics",
        "store": "StoreMagics",
        "sx": "OSMagics",
        "system": "OSMagics",
        "tb": "ExecutionMagics",
        "time": "ExecutionMagics",
        "timeit": "ExecutionMagics",
        "unalias": "OSMagics",
        "unload_ext": "ExtensionMagics",
        "who": "NamespaceMagics",
        "who_ls": "NamespaceMagics",
        "whos": "NamespaceMagics",
        "xdel": "NamespaceMagics",
        "xmode": "BasicMagics"
       }
      },
      "text/plain": [
       "Available line magics:\n",
       "%alias  %alias_magic  %autoawait  %autocall  %automagic  %autosave  %bookmark  %cd  %clear  %cls  %colors  %conda  %config  %connect_info  %copy  %ddir  %debug  %dhist  %dirs  %doctest_mode  %echo  %ed  %edit  %env  %gui  %hist  %history  %killbgscripts  %ldir  %less  %load  %load_ext  %loadpy  %logoff  %logon  %logstart  %logstate  %logstop  %ls  %lsmagic  %macro  %magic  %matplotlib  %mkdir  %more  %notebook  %page  %pastebin  %pdb  %pdef  %pdoc  %pfile  %pinfo  %pinfo2  %pip  %popd  %pprint  %precision  %prun  %psearch  %psource  %pushd  %pwd  %pycat  %pylab  %qtconsole  %quickref  %recall  %rehashx  %reload_ext  %ren  %rep  %rerun  %reset  %reset_selective  %rmdir  %run  %save  %sc  %set_env  %store  %sx  %system  %tb  %time  %timeit  %unalias  %unload_ext  %who  %who_ls  %whos  %xdel  %xmode\n",
       "\n",
       "Available cell magics:\n",
       "%%!  %%HTML  %%SVG  %%bash  %%capture  %%cmd  %%debug  %%file  %%html  %%javascript  %%js  %%latex  %%markdown  %%perl  %%prun  %%pypy  %%python  %%python2  %%python3  %%ruby  %%script  %%sh  %%svg  %%sx  %%system  %%time  %%timeit  %%writefile\n",
       "\n",
       "Automagic is ON, % prefix IS NOT needed for line magics."
      ]
     },
     "execution_count": 21,
     "metadata": {},
     "output_type": "execute_result"
    }
   ],
   "source": [
    "%lsmagic"
   ]
  },
  {
   "cell_type": "markdown",
   "id": "47f67103",
   "metadata": {
    "slideshow": {
     "slide_type": "slide"
    }
   },
   "source": [
    "# Contextual Help\n",
    "Nos muestra la documentación de la función."
   ]
  },
  {
   "cell_type": "markdown",
   "id": "c267ba1b-c980-475b-aa0f-fcc8ea8f451a",
   "metadata": {
    "slideshow": {
     "slide_type": "notes"
    },
    "tags": []
   },
   "source": [
    "**Contextual Help** es una funcionalidad de Jupyter que nos permite ver la documentación de las funciones de python y de algunas librerias como numpy, matplotlib y otras. No solo se limita a dichas funciones, sino que también nos muestra la descripción de las funciones que definamos nosotros, incluso funciones mágicas como se muestra a continuación.\n",
    "En Jupyter Lab podemos ir a *Help* y seleccionar *Show Contextual Help* o simplemente apretamos *Ctrl + I*, esto nos abrirá una nueva pestaña dentro de JL que corresponde al **Contextual Help**. Una vez abierto, nos basta con solo hacer click en una función para que nos muestre su documentación.\n",
    "\n",
    "Entonces, abrimos JL y seleccionamos: \n",
    "\n",
    "![Abrir contextual help en JL](img/contextual-help-1.png)\n",
    "\n",
    "Nos abrirá una nueva pestaña como dijimos, podemos moverla a gusto para que nos sea más cómodo, yo la voy a mover a la derecha:\n",
    "\n",
    "![Contextual Help a la derecha](img/contextual-help-2.png)\n",
    "\n",
    "Hacemos click en una funcion y nos aparece la documentación:\n",
    "\n",
    "![Contextual Help documentación](img/contextual-help-3.png)"
   ]
  },
  {
   "cell_type": "code",
   "execution_count": 22,
   "id": "38dc2c7e-debd-4c5a-95e4-4d45275f983b",
   "metadata": {
    "slideshow": {
     "slide_type": "fragment"
    },
    "tags": []
   },
   "outputs": [
    {
     "data": {
      "text/plain": [
       "range"
      ]
     },
     "execution_count": 22,
     "metadata": {},
     "output_type": "execute_result"
    }
   ],
   "source": [
    "range    ## Shift + Tab"
   ]
  },
  {
   "cell_type": "code",
   "execution_count": 23,
   "id": "47b20e10-9ce7-48d2-a839-913b9085ad54",
   "metadata": {
    "slideshow": {
     "slide_type": "fragment"
    },
    "tags": []
   },
   "outputs": [],
   "source": [
    "# funcion de numpy\n",
    "np.random.randn?"
   ]
  },
  {
   "cell_type": "code",
   "execution_count": 24,
   "id": "800fa860-47f2-439e-b45a-acbc1823c6bf",
   "metadata": {
    "slideshow": {
     "slide_type": "fragment"
    },
    "tags": []
   },
   "outputs": [
    {
     "data": {
      "text/plain": [
       "<function __main__.puntos_random(n)>"
      ]
     },
     "execution_count": 24,
     "metadata": {},
     "output_type": "execute_result"
    }
   ],
   "source": [
    "# funcion nuestra\n",
    "puntos_random    ## Shift + Tab"
   ]
  },
  {
   "cell_type": "code",
   "execution_count": 25,
   "id": "00f5d8c6-d9ea-4ba8-862e-83153e6afa8d",
   "metadata": {
    "slideshow": {
     "slide_type": "fragment"
    },
    "tags": []
   },
   "outputs": [
    {
     "ename": "ValueError",
     "evalue": "empty body on For",
     "output_type": "error",
     "traceback": [
      "\u001b[1;31m---------------------------------------------------------------------------\u001b[0m",
      "\u001b[1;31mValueError\u001b[0m                                Traceback (most recent call last)",
      "\u001b[1;32m<ipython-input-25-97b339245bad>\u001b[0m in \u001b[0;36m<module>\u001b[1;34m\u001b[0m\n\u001b[1;32m----> 1\u001b[1;33m \u001b[0mget_ipython\u001b[0m\u001b[1;33m(\u001b[0m\u001b[1;33m)\u001b[0m\u001b[1;33m.\u001b[0m\u001b[0mrun_line_magic\u001b[0m\u001b[1;33m(\u001b[0m\u001b[1;34m'timeit'\u001b[0m\u001b[1;33m,\u001b[0m \u001b[1;34m'   ## Shift + Tab'\u001b[0m\u001b[1;33m)\u001b[0m\u001b[1;33m\u001b[0m\u001b[1;33m\u001b[0m\u001b[0m\n\u001b[0m",
      "\u001b[1;32mD:\\Program files\\anaconda3\\lib\\site-packages\\IPython\\core\\interactiveshell.py\u001b[0m in \u001b[0;36mrun_line_magic\u001b[1;34m(self, magic_name, line, _stack_depth)\u001b[0m\n\u001b[0;32m   2342\u001b[0m                 \u001b[0mkwargs\u001b[0m\u001b[1;33m[\u001b[0m\u001b[1;34m'local_ns'\u001b[0m\u001b[1;33m]\u001b[0m \u001b[1;33m=\u001b[0m \u001b[0mself\u001b[0m\u001b[1;33m.\u001b[0m\u001b[0mget_local_scope\u001b[0m\u001b[1;33m(\u001b[0m\u001b[0mstack_depth\u001b[0m\u001b[1;33m)\u001b[0m\u001b[1;33m\u001b[0m\u001b[1;33m\u001b[0m\u001b[0m\n\u001b[0;32m   2343\u001b[0m             \u001b[1;32mwith\u001b[0m \u001b[0mself\u001b[0m\u001b[1;33m.\u001b[0m\u001b[0mbuiltin_trap\u001b[0m\u001b[1;33m:\u001b[0m\u001b[1;33m\u001b[0m\u001b[1;33m\u001b[0m\u001b[0m\n\u001b[1;32m-> 2344\u001b[1;33m                 \u001b[0mresult\u001b[0m \u001b[1;33m=\u001b[0m \u001b[0mfn\u001b[0m\u001b[1;33m(\u001b[0m\u001b[1;33m*\u001b[0m\u001b[0margs\u001b[0m\u001b[1;33m,\u001b[0m \u001b[1;33m**\u001b[0m\u001b[0mkwargs\u001b[0m\u001b[1;33m)\u001b[0m\u001b[1;33m\u001b[0m\u001b[1;33m\u001b[0m\u001b[0m\n\u001b[0m\u001b[0;32m   2345\u001b[0m             \u001b[1;32mreturn\u001b[0m \u001b[0mresult\u001b[0m\u001b[1;33m\u001b[0m\u001b[1;33m\u001b[0m\u001b[0m\n\u001b[0;32m   2346\u001b[0m \u001b[1;33m\u001b[0m\u001b[0m\n",
      "\u001b[1;32mD:\\Program files\\anaconda3\\lib\\site-packages\\decorator.py\u001b[0m in \u001b[0;36mfun\u001b[1;34m(*args, **kw)\u001b[0m\n\u001b[0;32m    229\u001b[0m             \u001b[1;32mif\u001b[0m \u001b[1;32mnot\u001b[0m \u001b[0mkwsyntax\u001b[0m\u001b[1;33m:\u001b[0m\u001b[1;33m\u001b[0m\u001b[1;33m\u001b[0m\u001b[0m\n\u001b[0;32m    230\u001b[0m                 \u001b[0margs\u001b[0m\u001b[1;33m,\u001b[0m \u001b[0mkw\u001b[0m \u001b[1;33m=\u001b[0m \u001b[0mfix\u001b[0m\u001b[1;33m(\u001b[0m\u001b[0margs\u001b[0m\u001b[1;33m,\u001b[0m \u001b[0mkw\u001b[0m\u001b[1;33m,\u001b[0m \u001b[0msig\u001b[0m\u001b[1;33m)\u001b[0m\u001b[1;33m\u001b[0m\u001b[1;33m\u001b[0m\u001b[0m\n\u001b[1;32m--> 231\u001b[1;33m             \u001b[1;32mreturn\u001b[0m \u001b[0mcaller\u001b[0m\u001b[1;33m(\u001b[0m\u001b[0mfunc\u001b[0m\u001b[1;33m,\u001b[0m \u001b[1;33m*\u001b[0m\u001b[1;33m(\u001b[0m\u001b[0mextras\u001b[0m \u001b[1;33m+\u001b[0m \u001b[0margs\u001b[0m\u001b[1;33m)\u001b[0m\u001b[1;33m,\u001b[0m \u001b[1;33m**\u001b[0m\u001b[0mkw\u001b[0m\u001b[1;33m)\u001b[0m\u001b[1;33m\u001b[0m\u001b[1;33m\u001b[0m\u001b[0m\n\u001b[0m\u001b[0;32m    232\u001b[0m     \u001b[0mfun\u001b[0m\u001b[1;33m.\u001b[0m\u001b[0m__name__\u001b[0m \u001b[1;33m=\u001b[0m \u001b[0mfunc\u001b[0m\u001b[1;33m.\u001b[0m\u001b[0m__name__\u001b[0m\u001b[1;33m\u001b[0m\u001b[1;33m\u001b[0m\u001b[0m\n\u001b[0;32m    233\u001b[0m     \u001b[0mfun\u001b[0m\u001b[1;33m.\u001b[0m\u001b[0m__doc__\u001b[0m \u001b[1;33m=\u001b[0m \u001b[0mfunc\u001b[0m\u001b[1;33m.\u001b[0m\u001b[0m__doc__\u001b[0m\u001b[1;33m\u001b[0m\u001b[1;33m\u001b[0m\u001b[0m\n",
      "\u001b[1;32mD:\\Program files\\anaconda3\\lib\\site-packages\\IPython\\core\\magic.py\u001b[0m in \u001b[0;36m<lambda>\u001b[1;34m(f, *a, **k)\u001b[0m\n\u001b[0;32m    185\u001b[0m     \u001b[1;31m# but it's overkill for just that one bit of state.\u001b[0m\u001b[1;33m\u001b[0m\u001b[1;33m\u001b[0m\u001b[1;33m\u001b[0m\u001b[0m\n\u001b[0;32m    186\u001b[0m     \u001b[1;32mdef\u001b[0m \u001b[0mmagic_deco\u001b[0m\u001b[1;33m(\u001b[0m\u001b[0marg\u001b[0m\u001b[1;33m)\u001b[0m\u001b[1;33m:\u001b[0m\u001b[1;33m\u001b[0m\u001b[1;33m\u001b[0m\u001b[0m\n\u001b[1;32m--> 187\u001b[1;33m         \u001b[0mcall\u001b[0m \u001b[1;33m=\u001b[0m \u001b[1;32mlambda\u001b[0m \u001b[0mf\u001b[0m\u001b[1;33m,\u001b[0m \u001b[1;33m*\u001b[0m\u001b[0ma\u001b[0m\u001b[1;33m,\u001b[0m \u001b[1;33m**\u001b[0m\u001b[0mk\u001b[0m\u001b[1;33m:\u001b[0m \u001b[0mf\u001b[0m\u001b[1;33m(\u001b[0m\u001b[1;33m*\u001b[0m\u001b[0ma\u001b[0m\u001b[1;33m,\u001b[0m \u001b[1;33m**\u001b[0m\u001b[0mk\u001b[0m\u001b[1;33m)\u001b[0m\u001b[1;33m\u001b[0m\u001b[1;33m\u001b[0m\u001b[0m\n\u001b[0m\u001b[0;32m    188\u001b[0m \u001b[1;33m\u001b[0m\u001b[0m\n\u001b[0;32m    189\u001b[0m         \u001b[1;32mif\u001b[0m \u001b[0mcallable\u001b[0m\u001b[1;33m(\u001b[0m\u001b[0marg\u001b[0m\u001b[1;33m)\u001b[0m\u001b[1;33m:\u001b[0m\u001b[1;33m\u001b[0m\u001b[1;33m\u001b[0m\u001b[0m\n",
      "\u001b[1;32mD:\\Program files\\anaconda3\\lib\\site-packages\\IPython\\core\\magics\\execution.py\u001b[0m in \u001b[0;36mtimeit\u001b[1;34m(self, line, cell, local_ns)\u001b[0m\n\u001b[0;32m   1144\u001b[0m \u001b[1;33m\u001b[0m\u001b[0m\n\u001b[0;32m   1145\u001b[0m         \u001b[0mt0\u001b[0m \u001b[1;33m=\u001b[0m \u001b[0mclock\u001b[0m\u001b[1;33m(\u001b[0m\u001b[1;33m)\u001b[0m\u001b[1;33m\u001b[0m\u001b[1;33m\u001b[0m\u001b[0m\n\u001b[1;32m-> 1146\u001b[1;33m         \u001b[0mcode\u001b[0m \u001b[1;33m=\u001b[0m \u001b[0mself\u001b[0m\u001b[1;33m.\u001b[0m\u001b[0mshell\u001b[0m\u001b[1;33m.\u001b[0m\u001b[0mcompile\u001b[0m\u001b[1;33m(\u001b[0m\u001b[0mtimeit_ast\u001b[0m\u001b[1;33m,\u001b[0m \u001b[1;34m\"<magic-timeit>\"\u001b[0m\u001b[1;33m,\u001b[0m \u001b[1;34m\"exec\"\u001b[0m\u001b[1;33m)\u001b[0m\u001b[1;33m\u001b[0m\u001b[1;33m\u001b[0m\u001b[0m\n\u001b[0m\u001b[0;32m   1147\u001b[0m         \u001b[0mtc\u001b[0m \u001b[1;33m=\u001b[0m \u001b[0mclock\u001b[0m\u001b[1;33m(\u001b[0m\u001b[1;33m)\u001b[0m\u001b[1;33m-\u001b[0m\u001b[0mt0\u001b[0m\u001b[1;33m\u001b[0m\u001b[1;33m\u001b[0m\u001b[0m\n\u001b[0;32m   1148\u001b[0m \u001b[1;33m\u001b[0m\u001b[0m\n",
      "\u001b[1;32mD:\\Program files\\anaconda3\\lib\\codeop.py\u001b[0m in \u001b[0;36m__call__\u001b[1;34m(self, source, filename, symbol)\u001b[0m\n\u001b[0;32m    141\u001b[0m \u001b[1;33m\u001b[0m\u001b[0m\n\u001b[0;32m    142\u001b[0m     \u001b[1;32mdef\u001b[0m \u001b[0m__call__\u001b[0m\u001b[1;33m(\u001b[0m\u001b[0mself\u001b[0m\u001b[1;33m,\u001b[0m \u001b[0msource\u001b[0m\u001b[1;33m,\u001b[0m \u001b[0mfilename\u001b[0m\u001b[1;33m,\u001b[0m \u001b[0msymbol\u001b[0m\u001b[1;33m)\u001b[0m\u001b[1;33m:\u001b[0m\u001b[1;33m\u001b[0m\u001b[1;33m\u001b[0m\u001b[0m\n\u001b[1;32m--> 143\u001b[1;33m         \u001b[0mcodeob\u001b[0m \u001b[1;33m=\u001b[0m \u001b[0mcompile\u001b[0m\u001b[1;33m(\u001b[0m\u001b[0msource\u001b[0m\u001b[1;33m,\u001b[0m \u001b[0mfilename\u001b[0m\u001b[1;33m,\u001b[0m \u001b[0msymbol\u001b[0m\u001b[1;33m,\u001b[0m \u001b[0mself\u001b[0m\u001b[1;33m.\u001b[0m\u001b[0mflags\u001b[0m\u001b[1;33m,\u001b[0m \u001b[1;36m1\u001b[0m\u001b[1;33m)\u001b[0m\u001b[1;33m\u001b[0m\u001b[1;33m\u001b[0m\u001b[0m\n\u001b[0m\u001b[0;32m    144\u001b[0m         \u001b[1;32mfor\u001b[0m \u001b[0mfeature\u001b[0m \u001b[1;32min\u001b[0m \u001b[0m_features\u001b[0m\u001b[1;33m:\u001b[0m\u001b[1;33m\u001b[0m\u001b[1;33m\u001b[0m\u001b[0m\n\u001b[0;32m    145\u001b[0m             \u001b[1;32mif\u001b[0m \u001b[0mcodeob\u001b[0m\u001b[1;33m.\u001b[0m\u001b[0mco_flags\u001b[0m \u001b[1;33m&\u001b[0m \u001b[0mfeature\u001b[0m\u001b[1;33m.\u001b[0m\u001b[0mcompiler_flag\u001b[0m\u001b[1;33m:\u001b[0m\u001b[1;33m\u001b[0m\u001b[1;33m\u001b[0m\u001b[0m\n",
      "\u001b[1;31mValueError\u001b[0m: empty body on For"
     ]
    }
   ],
   "source": [
    "%timeit    ## Shift + Tab"
   ]
  },
  {
   "cell_type": "markdown",
   "id": "e7a02d6f",
   "metadata": {
    "slideshow": {
     "slide_type": "slide"
    }
   },
   "source": [
    "# Extensiones\n",
    "- nbextensions\n",
    "- Tabla de contenidos\n",
    "- Collapsible headings\n",
    "- Hinterland\n",
    "- RISE"
   ]
  },
  {
   "attachments": {
    "extensiones-1.png": {
     "image/png": "[encoded data removed]"
    }
   },
   "cell_type": "markdown",
   "id": "c58af3e0",
   "metadata": {
    "slideshow": {
     "slide_type": "notes"
    }
   },
   "source": [
    "Las extensiones de Notebook son complementos que pueden ayudar a agregar fácilmente el contenido / función que desea a Jupyter Notebook. La mejor manera de instalar extensiones es Jupyter NbExtensions [Documentación](https://jupyter-contrib-nbextensions.readthedocs.io/en/latest/), es un paquete que nos instala decenas de extensiones con solo ejecutar un comando.\n",
    "\n",
    "Para instalarlo hay que ejecutar el comando: \n",
    "\n",
    "`pip install jupyter_contrib_nbextensions`\n",
    "\n",
    "También podemos instalar la interfaz para configurar nuestras extensiones:\n",
    "\n",
    "`pip install jupyter_nbextensions_configurator`\n",
    "\n",
    "Es necesario instalar archivos JavaScript y CSS con el siguiente comando:\n",
    "\n",
    "`jupyter contrib nbextension install`\n",
    "\n",
    "Ahora en el dashboard nos aparecerá una nueva pestaña como la siguiente imagen.\n",
    "\n",
    "![extensiones-1.png](attachment:extensiones-1.png)\n",
    "\n",
    "Para activar una extensión, simplemente tenemos que seleccionarla y luego abrir el notebook o actualizarlo (F5)."
   ]
  },
  {
   "cell_type": "markdown",
   "id": "be8230ba",
   "metadata": {
    "slideshow": {
     "slide_type": "subslide"
    }
   },
   "source": [
    "## nbextensions\n",
    "Paquete de extensiones [Documentación](https://jupyter-contrib-nbextensions.readthedocs.io/en/latest/). Para instalar, ejecutar los siguientes comandos:\n",
    "- `pip install jupyter_contrib_nbextensions`.\n",
    "- `pip install jupyter_nbextensions_configurator`.\n",
    "- `jupyter contrib nbextension install`."
   ]
  },
  {
   "attachments": {
    "extensiones-2.png": {
     "image/png": "[encoded data removed]"
    }
   },
   "cell_type": "markdown",
   "id": "047e4ff8",
   "metadata": {
    "slideshow": {
     "slide_type": "subslide"
    }
   },
   "source": [
    "## Tabla de contenidos\n",
    "Al activarla, aparecerá una nueva opción en el menú de funciones que permite mostrar la tabla de contenidos del notebook.\n",
    "![extensiones-2.png](attachment:extensiones-2.png)\n",
    "\n",
    "## Collapsible headings\n",
    "Nos permite colapsar el contenido dentro de un título. Sirve para tener el notebook ordenado y limpio."
   ]
  },
  {
   "cell_type": "markdown",
   "id": "af49bbd4",
   "metadata": {
    "slideshow": {
     "slide_type": "subslide"
    }
   },
   "source": [
    "## Hinterland\n",
    "Autocompletado de código a medida quer escribimos."
   ]
  },
  {
   "cell_type": "code",
   "execution_count": null,
   "id": "d831023e",
   "metadata": {
    "slideshow": {
     "slide_type": "fragment"
    }
   },
   "outputs": [],
   "source": [
    "#Autocompletado de código con Hinterland"
   ]
  },
  {
   "cell_type": "markdown",
   "id": "07bafaf7",
   "metadata": {
    "slideshow": {
     "slide_type": "subslide"
    }
   },
   "source": [
    "## Rise\n",
    "- Extension para presentaciones. [Documentación](https://rise.readthedocs.io/en/stable/)\n",
    "- No incuído en nbextensions.\n",
    "- `pip install RISE`."
   ]
  },
  {
   "cell_type": "markdown",
   "id": "5d110cff",
   "metadata": {
    "slideshow": {
     "slide_type": "notes"
    }
   },
   "source": [
    "Rise es una extension que nos permite realizar una presentación de un notebook con mucha facilidad y ejecutar celdas dentro de la misma presentación.\n",
    "Para instalarlo hay que ejecutar el comando `pip install RISE`\n",
    "### Cómo crear un slideshow\n",
    "\n",
    "#### Habilitar el modo presentación\n",
    "1. Ir a *View* en la barra de herramientas.\n",
    "1. Ir a la opción \"Cell Toolbar\".\n",
    "1. Seleccionar la opción *Slideshow*.\n",
    "\n",
    "![rise-1.png](img/rise-1.png)\n",
    "\n",
    "#### Seleccionar las diapositivas\n",
    "Ahora debemos seleccionar las celdas que queremos que se muestren como diapositivas. Para esto vamos al menu desplegable que tenemos arriba a la derecha de la celda y seleccionamos la opción que queremos para dicha celda\n",
    "\n",
    "![rise-2.png](img/rise-2.png)\n",
    "\n",
    "- **Slide**: la celda será una diapositiva.\n",
    "- **Sub-Slide**: la celda será una sub-diapositiva.\n",
    "- **Fragment**: la celda será una compilación de la diapositiva anterior (será una \"parte\" de la anterior diapositiva).\n",
    "- **Skip**: la celda no se mostrará en la presentación.\n",
    "- **Notes**: la celda es marcada como una nota que debe tener el cuenta el presentador, no se mostrará en la presentación.\n",
    "- **-**: indica que la celda debe seguir el comportamiento de la celda anterior.\n",
    "\n",
    "### Iniciar la presentación\n",
    "La presentación se puede iniciar directamente desde el Notebook. Para esto podemos usar el atajo de teclado (*alt+r* en windows) o hacer clic en el botón de RISE.\n",
    "\n",
    "![rise-3.png](img/rise-3.png)\n",
    "\n",
    "Luego comenzará la presentación y se verá algo como esto:\n",
    "\n",
    "![rise-4.png](img/rise-4.png)"
   ]
  },
  {
   "cell_type": "markdown",
   "id": "2ad2bfc7-76a3-4d78-8713-4165c73c3640",
   "metadata": {
    "slideshow": {
     "slide_type": "slide"
    }
   },
   "source": [
    "# Buenas prácticas\n",
    "- Importación de dependencias en la primera celda.\n",
    "- Celdas simples.\n",
    "- Definir funciones.\n",
    "- Dividir el notebook en secciones."
   ]
  },
  {
   "cell_type": "markdown",
   "id": "1093333c",
   "metadata": {
    "slideshow": {
     "slide_type": "notes"
    }
   },
   "source": [
    "## Importación de dependencias en la primera celda.\n",
    "\n",
    "Realiza el \"import\" de todas tus dependencias en la primera celda del notebook. Esto ayuda la legibilidad, ya que antes de meterse con funciones y análisis de datos, tienes claro cuales son las dependencias que el notebook utiliza. A su vez, cuando re-inicias el notebook se cargan nuevamente todas las dependencias. Por último, si no quieres re-ejecutar todas las celdas de nuevo, tienes todas las dependencias juntas en una única celda que re-ejecutar.\n",
    "\n",
    "## Celdas simples.\n",
    "\n",
    "Trata de mantener tus celdas simples, es decir logra un correcto balance entre cantidad de celdas y contenido en las mismas. Por ejemplo, no es una buena práctica tener una única celda con todo el contenido de tu notebook, pero tampoco es bueno tener una celda por cada comentario o línea de código que tengas.\n",
    "\n",
    "Logra un correcto balance agrupando comentarios, código, etc.\n",
    "\n",
    "## Definir funciones.\n",
    "\n",
    "Aunque esto es una buena práctica de python, es bueno definir funciones en las celdas y luego llamarlas cuando se necesiten. Esto ayuda a la legitibilidad y reutilizacion del código en el notebook.\n",
    "\n",
    "## Dividir el notebook en funciones.\n",
    "\n",
    "Es bueno dividir el contenido del notebook en secciones utilizando la expresividad del lenguaje Markdown. A su vez, siempre resulta muy útil agregar una sección de Objetivos y otra de Índice al inicio del mismo.\n"
   ]
  },
  {
   "cell_type": "markdown",
   "id": "271c031e",
   "metadata": {
    "slideshow": {
     "slide_type": "slide"
    }
   },
   "source": [
    "# Ofertas laborales\n",
    "- Mercado Libre - Data Analytics. [Publicación](https://www.linkedin.com/jobs/view/2633163339/?eBP=JOB_SEARCH_ORGANIC&recommendedFlavor=ACTIVELY_HIRING_COMPANY&refId=%2BZ6KacA5ai%2BCyuBPXBOd%2Bg%3D%3D&trackingId=anEfsbuPtIxPl6iMHqNlWQ%3D%3D&trk=flagship3_search_srp_jobs)\n",
    "- Tribes.AI - Data Scientist. [Publicacón](https://www.linkedin.com/jobs/view/2644485465/?eBP=JOB_SEARCH_ORGANIC&recommendedFlavor=JOB_SEEKER_QUALIFIED&refId=%2BZ6KacA5ai%2BCyuBPXBOd%2Bg%3D%3D&trackingId=kU2Y4Ih2UBOMag9onjh4Kg%3D%3D&trk=flagship3_search_srp_jobs)\n",
    "- IBM - Data Scientist. [Publicación](https://www.linkedin.com/jobs/view/2661231372/?eBP=JOB_SEARCH_ORGANIC&recommendedFlavor=ACTIVELY_HIRING_COMPANY&refId=%2BZ6KacA5ai%2BCyuBPXBOd%2Bg%3D%3D&trackingId=VJh5wpKt5IjGH1FyFg7g%2FA%3D%3D&trk=flagship3_search_srp_jobs)\n",
    "- BRIDGE - Python Data Engineer. [Publicación](https://www.linkedin.com/jobs/view/2650054869/?eBP=JOB_SEARCH_ORGANIC&recommendedFlavor=SCHOOL_RECRUIT&refId=%2BZ6KacA5ai%2BCyuBPXBOd%2Bg%3D%3D&trackingId=tzJbXb1YCyJTEzZWz6BW6Q%3D%3D&trk=flagship3_search_srp_jobs)"
   ]
  },
  {
   "cell_type": "markdown",
   "id": "19abf248",
   "metadata": {
    "slideshow": {
     "slide_type": "notes"
    }
   },
   "source": [
    "Las publicaciones fueron tomadas el día 02/08/21, pueden no estar disponibles,"
   ]
  },
  {
   "cell_type": "markdown",
   "id": "eae755ae",
   "metadata": {
    "slideshow": {
     "slide_type": "slide"
    }
   },
   "source": [
    "# Referencias\n",
    "- Manual de uso - Eduardo Cabrera Granado, Elena Dıaz Garcıa. [Link](https://eprints.ucm.es/id/eprint/48304/1/ManualJupyter.pdf)\n",
    "- https://medium.com/saturdays-ai/empezando-a-usar-jupyter-notebook-para-python-parte-1-instalaci%C3%B3n-94e97b4c5f37\n",
    "- https://empresas.blogthinkbig.com/python-para-todos-2-jupyternotebook/\n",
    "- Paradigma digital. [Video](https://www.youtube.com/watch?v=cxXL5A4u-D8)\n",
    "- Presentacion de Johan S. Yepes R. - Universidad EARFIT.[Video](https://www.youtube.com/watch?v=dzPSL-HjNpw)\n",
    "- Diego Efe. [Canal](https://www.youtube.com/channel/UCOyAMYXTaF6wlSu1cFK_MKA)\n",
    "- Extensiones. https://analyticsindiamag.com/top-8-extensions-for-your-jupyter-notebook/\n",
    "- RISE. https://www.markroepke.me/posts/2019/05/23/creating-interactive-slideshows-in-jupyter.html "
   ]
  },
  {
   "cell_type": "markdown",
   "id": "f8ffeb98-3002-4dff-924f-f9244d7a1341",
   "metadata": {
    "slideshow": {
     "slide_type": "slide"
    }
   },
   "source": [
    "<div align=\"center\">\n",
    "    <h1>JUPYTER NOTEBOOKS SEMINARIO 2021</h1>\n",
    "    <img src=\"img/Jupyter_logo.svg\" style=\"margin-left:auto; margin-right:auto\" width=\"20%\" height=\"20%\">\n",
    "</div>\n",
    "\n",
    "## Grupo 09\n",
    "- Cabrera, Miguel\n",
    "- Bermejo Zambrini, Gonzalo Martín\n",
    "\n",
    "## Repositorio\n",
    "- [GitHub](https://github.com/gmbz/frro-soporte-seminario-2021)"
   ]
  },
  {
   "cell_type": "markdown",
   "id": "fe24ea3c",
   "metadata": {
    "slideshow": {
     "slide_type": "skip"
    }
   },
   "source": [
    "# nbdiff-web\n",
    "Nos permite ver la diferencia entre dos notebooks que tengamos localmente. Tenemos que instalar `pip install nbdime`"
   ]
  },
  {
   "cell_type": "code",
   "execution_count": null,
   "id": "a2d28992",
   "metadata": {
    "slideshow": {
     "slide_type": "skip"
    }
   },
   "outputs": [],
   "source": [
    "#para instalar ejecutar: pip install nbdime\n",
    "#nbdiff-web [before after]\n",
    "!nbdiff-web 01-presentacion.ipynb Presentacion-viejo.ipynb"
   ]
  }
 ],
 "metadata": {
  "celltoolbar": "Slideshow",
  "kernelspec": {
   "display_name": "Python 3",
   "language": "python",
   "name": "python3"
  },
  "language_info": {
   "codemirror_mode": {
    "name": "ipython",
    "version": 3
   },
   "file_extension": ".py",
   "mimetype": "text/x-python",
   "name": "python",
   "nbconvert_exporter": "python",
   "pygments_lexer": "ipython3",
   "version": "3.8.8"
  },
  "toc": {
   "base_numbering": 1,
   "nav_menu": {
    "height": "472px",
    "width": "304px"
   },
   "number_sections": true,
   "sideBar": true,
   "skip_h1_title": false,
   "title_cell": "Table of Contents",
   "title_sidebar": "Contents",
   "toc_cell": false,
   "toc_position": {
    "height": "calc(100% - 180px)",
    "left": "10px",
    "top": "150px",
    "width": "360px"
   },
   "toc_section_display": true,
   "toc_window_display": true
  },
  "toc-autonumbering": false,
  "toc-showmarkdowntxt": false
 },
 "nbformat": 4,
 "nbformat_minor": 5
}
