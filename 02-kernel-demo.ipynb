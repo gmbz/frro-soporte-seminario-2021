{
 "cells": [
  {
   "cell_type": "markdown",
   "id": "43f51431",
   "metadata": {},
   "source": [
    "# Kernel Demo"
   ]
  },
  {
   "cell_type": "markdown",
   "id": "099ecc03",
   "metadata": {},
   "source": [
    "## Interrumpir el Kernel"
   ]
  },
  {
   "cell_type": "markdown",
   "id": "6a2ab6bc",
   "metadata": {},
   "source": [
    "Podemos interrumpir la ejecución de una celda con *Interrupt*"
   ]
  },
  {
   "cell_type": "code",
   "execution_count": null,
   "id": "bb8900ef",
   "metadata": {},
   "outputs": [],
   "source": [
    "while True:\n",
    "    print (\"Hola\")"
   ]
  },
  {
   "cell_type": "markdown",
   "id": "a5b40f64",
   "metadata": {},
   "source": [
    "## Resetear el Kernel"
   ]
  },
  {
   "cell_type": "markdown",
   "id": "8134d85a",
   "metadata": {},
   "source": [
    "Podemos resetear el kernel con *Restart*"
   ]
  },
  {
   "cell_type": "code",
   "execution_count": 1,
   "id": "b6630388",
   "metadata": {},
   "outputs": [],
   "source": [
    "x = 10"
   ]
  },
  {
   "cell_type": "code",
   "execution_count": 2,
   "id": "40133c3d",
   "metadata": {},
   "outputs": [
    {
     "data": {
      "text/plain": [
       "10"
      ]
     },
     "execution_count": 2,
     "metadata": {},
     "output_type": "execute_result"
    }
   ],
   "source": [
    "x"
   ]
  },
  {
   "cell_type": "markdown",
   "id": "1adb943f",
   "metadata": {},
   "source": [
    "## Resetear y limpiar salidas"
   ]
  },
  {
   "cell_type": "markdown",
   "id": "10edb88a",
   "metadata": {},
   "source": [
    "Reseteamos el kernel y limpiamos las salidas de las celdas con *Restart & Clear Outputs*"
   ]
  },
  {
   "cell_type": "code",
   "execution_count": 3,
   "id": "39cc0825",
   "metadata": {
    "scrolled": false
   },
   "outputs": [
    {
     "name": "stdout",
     "output_type": "stream",
     "text": [
      "esta salida va a desaparecer\n"
     ]
    }
   ],
   "source": [
    "print(\"esta salida va a desaparecer\")"
   ]
  },
  {
   "cell_type": "markdown",
   "id": "a9fbd61d",
   "metadata": {},
   "source": [
    "## Resetear y ejecutar celdas"
   ]
  },
  {
   "cell_type": "markdown",
   "id": "0e77f9eb",
   "metadata": {},
   "source": [
    "Reseteamos el kernel y ejecutamos todas las celdas secuencialmente con *Restart & Run All*"
   ]
  },
  {
   "cell_type": "code",
   "execution_count": 4,
   "id": "57a772e6",
   "metadata": {},
   "outputs": [
    {
     "name": "stdout",
     "output_type": "stream",
     "text": [
      "última celda en ejecutarse\n"
     ]
    }
   ],
   "source": [
    "print(\"última celda en ejecutarse\")"
   ]
  }
 ],
 "metadata": {
  "kernelspec": {
   "display_name": "Python 3",
   "language": "python",
   "name": "python3"
  },
  "language_info": {
   "codemirror_mode": {
    "name": "ipython",
    "version": 3
   },
   "file_extension": ".py",
   "mimetype": "text/x-python",
   "name": "python",
   "nbconvert_exporter": "python",
   "pygments_lexer": "ipython3",
   "version": "3.8.8"
  }
 },
 "nbformat": 4,
 "nbformat_minor": 5
}
