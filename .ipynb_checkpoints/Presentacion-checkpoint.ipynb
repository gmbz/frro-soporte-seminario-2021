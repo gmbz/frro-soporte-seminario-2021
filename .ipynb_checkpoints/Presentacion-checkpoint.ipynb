{
 "cells": [
  {
   "cell_type": "markdown",
   "id": "a7f40967",
   "metadata": {
    "slideshow": {
     "slide_type": "notes"
    }
   },
   "source": [
    "# DUDAS\n",
    "- Cuál es la mejor forma para mostrar las ofertas laborales?\n",
    "- Cómo hacer un ejemplo de una integral interactiva?"
   ]
  },
  {
   "cell_type": "markdown",
   "id": "e7a91706",
   "metadata": {
    "slideshow": {
     "slide_type": "slide"
    }
   },
   "source": [
    "# r\n",
    "\n",
    "<center>\n",
    "    <img src=\"img/Jupyter_logo.jpg\" style=\"margin-left:auto; margin-right:auto\">\n",
    "</center>\n"
   ]
  },
  {
   "cell_type": "markdown",
   "id": "4ed74930",
   "metadata": {
    "slideshow": {
     "slide_type": "notes"
    }
   },
   "source": [
    "- [ ] jupyter notebook\n",
    "- [ ] instalacion\n",
    "- [x] uso de Jupyter Notebook\n",
    "    - [x] crear un notebook\n",
    "    - [x] codigo\n",
    "    - [x] markdown\n",
    "    - [x] latex\n",
    "    - [x] atajos del teclado\n",
    "    - [x] pandas\n",
    "    - [x] matplotlib\n",
    "- [x] jupyter lab (hacer demo)\n",
    "- [x] ofertas laborales\n",
    "- [ ] kernel\n",
    "- [ ] widgets\n",
    "- [x] funciones magicas\n",
    "    - [x] timeit\n",
    "    - [x] store\n",
    "    - [x] html\n",
    "    - [x] lsmagic\n",
    "- [ ] contextual help\n",
    "- [ ] extensiones\n",
    "    - [x] RISE\n",
    "- [ ] referencias"
   ]
  },
  {
   "cell_type": "markdown",
   "id": "b3e809ae",
   "metadata": {
    "slideshow": {
     "slide_type": "slide"
    }
   },
   "source": [
    "# ¿Qué es Jupyter Notebook?"
   ]
  },
  {
   "cell_type": "markdown",
   "id": "80becf6d",
   "metadata": {
    "slideshow": {
     "slide_type": "slide"
    }
   },
   "source": [
    "# Instalación"
   ]
  },
  {
   "cell_type": "markdown",
   "id": "c6860bc0",
   "metadata": {
    "slideshow": {
     "slide_type": "slide"
    }
   },
   "source": [
    "# Uso de Jupyter Notebook\n",
    "\n",
    "- Crear notebook\n",
    "- Codigo\n",
    "- Markdown\n",
    "- Latex\n",
    "- Atajos de teclado"
   ]
  },
  {
   "cell_type": "markdown",
   "id": "598d4a3d",
   "metadata": {
    "slideshow": {
     "slide_type": "subslide"
    }
   },
   "source": [
    "## Codigo"
   ]
  },
  {
   "cell_type": "code",
   "execution_count": 3,
   "id": "e5e5df6c",
   "metadata": {
    "scrolled": true,
    "slideshow": {
     "slide_type": "fragment"
    }
   },
   "outputs": [
    {
     "name": "stdout",
     "output_type": "stream",
     "text": [
      "Hola mundo\n"
     ]
    }
   ],
   "source": [
    "print(\"Hola mundo\")"
   ]
  },
  {
   "cell_type": "markdown",
   "id": "5ae90860",
   "metadata": {
    "slideshow": {
     "slide_type": "subslide"
    }
   },
   "source": [
    "## Markdown"
   ]
  },
  {
   "cell_type": "markdown",
   "id": "1ffe6d2d",
   "metadata": {
    "slideshow": {
     "slide_type": "fragment"
    }
   },
   "source": [
    "# Titulos\n",
    "## Subtitulos \n",
    "\n",
    "- Listas desordenadas\n",
    "- Listas desordenadas\n",
    "1. Listas ordenadas\n",
    "1. Listas ordenadas\n",
    "\n",
    "**Negrita**\n",
    "\n",
    "*Italica*\n",
    "\n",
    "#### Links\n",
    "[google](https://www.google.com/)\n"
   ]
  },
  {
   "cell_type": "markdown",
   "id": "1d0562de",
   "metadata": {
    "slideshow": {
     "slide_type": "subslide"
    }
   },
   "source": [
    "## Latex"
   ]
  },
  {
   "cell_type": "markdown",
   "id": "800ad970",
   "metadata": {
    "slideshow": {
     "slide_type": "fragment"
    }
   },
   "source": [
    "$$\\int_{a}^{b}f(x) dx$$"
   ]
  },
  {
   "cell_type": "markdown",
   "id": "43708198",
   "metadata": {
    "slideshow": {
     "slide_type": "notes"
    }
   },
   "source": [
    "### Modos de Edición y Comando\n",
    "\n",
    "Al seleccionar una celda, ésta puede colocarse en modo de edición (el borde izquierdo que indica la celda activa será de color verde) o en modo de comando (el color del borde izquierdo será azul). Para pasar entre un modo u otro se puede usar el teclado (*Esc* y *Return*) o el mouse (pulsando el puntero dentro de la celda o sobre el espacio vacío de la izquierda).\n",
    "\n",
    "### Atajos de teclado\n",
    "\n",
    "Hay un enorme conjunto de atajos de teclado que facilitan el uso del entorno, pueden ver la lista a través del menú *Help/Keyboard Shortcuts*. También se pueden editar y agregar combinaciones de teclas mediante el menú *Help/Edit Keyboard Shortcuts*, por ejemplo es muy util definir un *keybinding* para mover las celdas hacia arriba y otro para moverlas hacia abajo. A través del menú *Help* también se accede a un tour educativo por las diferentes partes del entorno.\n",
    "\n",
    "Principales combinaciones útiles (funcionan cuando la celda está en modo **Comando**):"
   ]
  },
  {
   "cell_type": "markdown",
   "id": "79e1ca7c",
   "metadata": {
    "slideshow": {
     "slide_type": "subslide"
    }
   },
   "source": [
    "## Atajos de teclado\n",
    "\n",
    "|Atajo de teclado|Función|\n",
    "|:---|:---|\n",
    "|Shift+Enter|Ejecuta la celda actual y pasa a la siguiente|\n",
    "|A|Inserta una celda encima de la actual|\n",
    "|B|Inserta una celda debajo de la actual|\n",
    "|DD|Borra la celda actual|\n",
    "|Y|Convierte la celda en **Code**|\n",
    "|M|Convierte la celda en **Markdown**|"
   ]
  },
  {
   "cell_type": "markdown",
   "id": "ad79642b",
   "metadata": {
    "slideshow": {
     "slide_type": "subslide"
    }
   },
   "source": [
    "## Pandas"
   ]
  },
  {
   "cell_type": "code",
   "execution_count": 4,
   "id": "bb7b136e",
   "metadata": {
    "slideshow": {
     "slide_type": "skip"
    }
   },
   "outputs": [],
   "source": [
    "%matplotlib notebook\n",
    "import matplotlib.pyplot as plt\n",
    "from mpl_toolkits.mplot3d import axes3d\n",
    "import numpy as np\n",
    "import sympy as sp\n",
    "import pandas as pd"
   ]
  },
  {
   "cell_type": "code",
   "execution_count": 5,
   "id": "910f4b0f",
   "metadata": {
    "scrolled": true,
    "slideshow": {
     "slide_type": "skip"
    }
   },
   "outputs": [],
   "source": [
    "def puntos_random(n):\n",
    "    p = []\n",
    "    x = np.random.randn(n)\n",
    "    y = np.random.randn(n)\n",
    "    p = list(zip(x,y))\n",
    "    return p"
   ]
  },
  {
   "cell_type": "code",
   "execution_count": 6,
   "id": "4b075f3a",
   "metadata": {
    "slideshow": {
     "slide_type": "skip"
    }
   },
   "outputs": [],
   "source": [
    "def dataframe_puntos_random():\n",
    "    puntos = puntos_random(100)\n",
    "    return pd.DataFrame(data = puntos, columns = ['x','y'])"
   ]
  },
  {
   "cell_type": "code",
   "execution_count": 7,
   "id": "f1a92173",
   "metadata": {
    "slideshow": {
     "slide_type": "fragment"
    }
   },
   "outputs": [
    {
     "data": {
      "text/html": [
       "<div>\n",
       "<style scoped>\n",
       "    .dataframe tbody tr th:only-of-type {\n",
       "        vertical-align: middle;\n",
       "    }\n",
       "\n",
       "    .dataframe tbody tr th {\n",
       "        vertical-align: top;\n",
       "    }\n",
       "\n",
       "    .dataframe thead th {\n",
       "        text-align: right;\n",
       "    }\n",
       "</style>\n",
       "<table border=\"1\" class=\"dataframe\">\n",
       "  <thead>\n",
       "    <tr style=\"text-align: right;\">\n",
       "      <th></th>\n",
       "      <th>x</th>\n",
       "      <th>y</th>\n",
       "    </tr>\n",
       "  </thead>\n",
       "  <tbody>\n",
       "    <tr>\n",
       "      <th>0</th>\n",
       "      <td>1.444501</td>\n",
       "      <td>1.128402</td>\n",
       "    </tr>\n",
       "    <tr>\n",
       "      <th>1</th>\n",
       "      <td>0.579112</td>\n",
       "      <td>1.837617</td>\n",
       "    </tr>\n",
       "    <tr>\n",
       "      <th>2</th>\n",
       "      <td>-1.055494</td>\n",
       "      <td>0.779025</td>\n",
       "    </tr>\n",
       "    <tr>\n",
       "      <th>3</th>\n",
       "      <td>0.285919</td>\n",
       "      <td>-1.851872</td>\n",
       "    </tr>\n",
       "    <tr>\n",
       "      <th>4</th>\n",
       "      <td>-2.479064</td>\n",
       "      <td>0.104479</td>\n",
       "    </tr>\n",
       "    <tr>\n",
       "      <th>...</th>\n",
       "      <td>...</td>\n",
       "      <td>...</td>\n",
       "    </tr>\n",
       "    <tr>\n",
       "      <th>95</th>\n",
       "      <td>0.271901</td>\n",
       "      <td>1.199497</td>\n",
       "    </tr>\n",
       "    <tr>\n",
       "      <th>96</th>\n",
       "      <td>0.406097</td>\n",
       "      <td>-1.240647</td>\n",
       "    </tr>\n",
       "    <tr>\n",
       "      <th>97</th>\n",
       "      <td>-0.711201</td>\n",
       "      <td>-0.154163</td>\n",
       "    </tr>\n",
       "    <tr>\n",
       "      <th>98</th>\n",
       "      <td>0.007814</td>\n",
       "      <td>-0.939165</td>\n",
       "    </tr>\n",
       "    <tr>\n",
       "      <th>99</th>\n",
       "      <td>-0.580277</td>\n",
       "      <td>-1.133324</td>\n",
       "    </tr>\n",
       "  </tbody>\n",
       "</table>\n",
       "<p>100 rows × 2 columns</p>\n",
       "</div>"
      ],
      "text/plain": [
       "           x         y\n",
       "0   1.444501  1.128402\n",
       "1   0.579112  1.837617\n",
       "2  -1.055494  0.779025\n",
       "3   0.285919 -1.851872\n",
       "4  -2.479064  0.104479\n",
       "..       ...       ...\n",
       "95  0.271901  1.199497\n",
       "96  0.406097 -1.240647\n",
       "97 -0.711201 -0.154163\n",
       "98  0.007814 -0.939165\n",
       "99 -0.580277 -1.133324\n",
       "\n",
       "[100 rows x 2 columns]"
      ]
     },
     "execution_count": 7,
     "metadata": {},
     "output_type": "execute_result"
    }
   ],
   "source": [
    "tabla = dataframe_puntos_random()\n",
    "tabla"
   ]
  },
  {
   "cell_type": "markdown",
   "id": "a3b2ba8b",
   "metadata": {
    "slideshow": {
     "slide_type": "subslide"
    }
   },
   "source": [
    "## Graficos"
   ]
  },
  {
   "cell_type": "code",
   "execution_count": 4,
   "id": "259cbe37",
   "metadata": {
    "slideshow": {
     "slide_type": "skip"
    }
   },
   "outputs": [],
   "source": [
    "def grafico_puntos_random(df):\n",
    "    plt.scatter(df.x,df.y)"
   ]
  },
  {
   "cell_type": "code",
   "execution_count": 10,
   "id": "c1724be7",
   "metadata": {
    "scrolled": true,
    "slideshow": {
     "slide_type": "fragment"
    }
   },
   "outputs": [
    {
     "data": {
      "application/javascript": [
       "/* Put everything inside the global mpl namespace */\n",
       "/* global mpl */\n",
       "window.mpl = {};\n",
       "\n",
       "mpl.get_websocket_type = function () {\n",
       "    if (typeof WebSocket !== 'undefined') {\n",
       "        return WebSocket;\n",
       "    } else if (typeof MozWebSocket !== 'undefined') {\n",
       "        return MozWebSocket;\n",
       "    } else {\n",
       "        alert(\n",
       "            'Your browser does not have WebSocket support. ' +\n",
       "                'Please try Chrome, Safari or Firefox ≥ 6. ' +\n",
       "                'Firefox 4 and 5 are also supported but you ' +\n",
       "                'have to enable WebSockets in about:config.'\n",
       "        );\n",
       "    }\n",
       "};\n",
       "\n",
       "mpl.figure = function (figure_id, websocket, ondownload, parent_element) {\n",
       "    this.id = figure_id;\n",
       "\n",
       "    this.ws = websocket;\n",
       "\n",
       "    this.supports_binary = this.ws.binaryType !== undefined;\n",
       "\n",
       "    if (!this.supports_binary) {\n",
       "        var warnings = document.getElementById('mpl-warnings');\n",
       "        if (warnings) {\n",
       "            warnings.style.display = 'block';\n",
       "            warnings.textContent =\n",
       "                'This browser does not support binary websocket messages. ' +\n",
       "                'Performance may be slow.';\n",
       "        }\n",
       "    }\n",
       "\n",
       "    this.imageObj = new Image();\n",
       "\n",
       "    this.context = undefined;\n",
       "    this.message = undefined;\n",
       "    this.canvas = undefined;\n",
       "    this.rubberband_canvas = undefined;\n",
       "    this.rubberband_context = undefined;\n",
       "    this.format_dropdown = undefined;\n",
       "\n",
       "    this.image_mode = 'full';\n",
       "\n",
       "    this.root = document.createElement('div');\n",
       "    this.root.setAttribute('style', 'display: inline-block');\n",
       "    this._root_extra_style(this.root);\n",
       "\n",
       "    parent_element.appendChild(this.root);\n",
       "\n",
       "    this._init_header(this);\n",
       "    this._init_canvas(this);\n",
       "    this._init_toolbar(this);\n",
       "\n",
       "    var fig = this;\n",
       "\n",
       "    this.waiting = false;\n",
       "\n",
       "    this.ws.onopen = function () {\n",
       "        fig.send_message('supports_binary', { value: fig.supports_binary });\n",
       "        fig.send_message('send_image_mode', {});\n",
       "        if (fig.ratio !== 1) {\n",
       "            fig.send_message('set_dpi_ratio', { dpi_ratio: fig.ratio });\n",
       "        }\n",
       "        fig.send_message('refresh', {});\n",
       "    };\n",
       "\n",
       "    this.imageObj.onload = function () {\n",
       "        if (fig.image_mode === 'full') {\n",
       "            // Full images could contain transparency (where diff images\n",
       "            // almost always do), so we need to clear the canvas so that\n",
       "            // there is no ghosting.\n",
       "            fig.context.clearRect(0, 0, fig.canvas.width, fig.canvas.height);\n",
       "        }\n",
       "        fig.context.drawImage(fig.imageObj, 0, 0);\n",
       "    };\n",
       "\n",
       "    this.imageObj.onunload = function () {\n",
       "        fig.ws.close();\n",
       "    };\n",
       "\n",
       "    this.ws.onmessage = this._make_on_message_function(this);\n",
       "\n",
       "    this.ondownload = ondownload;\n",
       "};\n",
       "\n",
       "mpl.figure.prototype._init_header = function () {\n",
       "    var titlebar = document.createElement('div');\n",
       "    titlebar.classList =\n",
       "        'ui-dialog-titlebar ui-widget-header ui-corner-all ui-helper-clearfix';\n",
       "    var titletext = document.createElement('div');\n",
       "    titletext.classList = 'ui-dialog-title';\n",
       "    titletext.setAttribute(\n",
       "        'style',\n",
       "        'width: 100%; text-align: center; padding: 3px;'\n",
       "    );\n",
       "    titlebar.appendChild(titletext);\n",
       "    this.root.appendChild(titlebar);\n",
       "    this.header = titletext;\n",
       "};\n",
       "\n",
       "mpl.figure.prototype._canvas_extra_style = function (_canvas_div) {};\n",
       "\n",
       "mpl.figure.prototype._root_extra_style = function (_canvas_div) {};\n",
       "\n",
       "mpl.figure.prototype._init_canvas = function () {\n",
       "    var fig = this;\n",
       "\n",
       "    var canvas_div = (this.canvas_div = document.createElement('div'));\n",
       "    canvas_div.setAttribute(\n",
       "        'style',\n",
       "        'border: 1px solid #ddd;' +\n",
       "            'box-sizing: content-box;' +\n",
       "            'clear: both;' +\n",
       "            'min-height: 1px;' +\n",
       "            'min-width: 1px;' +\n",
       "            'outline: 0;' +\n",
       "            'overflow: hidden;' +\n",
       "            'position: relative;' +\n",
       "            'resize: both;'\n",
       "    );\n",
       "\n",
       "    function on_keyboard_event_closure(name) {\n",
       "        return function (event) {\n",
       "            return fig.key_event(event, name);\n",
       "        };\n",
       "    }\n",
       "\n",
       "    canvas_div.addEventListener(\n",
       "        'keydown',\n",
       "        on_keyboard_event_closure('key_press')\n",
       "    );\n",
       "    canvas_div.addEventListener(\n",
       "        'keyup',\n",
       "        on_keyboard_event_closure('key_release')\n",
       "    );\n",
       "\n",
       "    this._canvas_extra_style(canvas_div);\n",
       "    this.root.appendChild(canvas_div);\n",
       "\n",
       "    var canvas = (this.canvas = document.createElement('canvas'));\n",
       "    canvas.classList.add('mpl-canvas');\n",
       "    canvas.setAttribute('style', 'box-sizing: content-box;');\n",
       "\n",
       "    this.context = canvas.getContext('2d');\n",
       "\n",
       "    var backingStore =\n",
       "        this.context.backingStorePixelRatio ||\n",
       "        this.context.webkitBackingStorePixelRatio ||\n",
       "        this.context.mozBackingStorePixelRatio ||\n",
       "        this.context.msBackingStorePixelRatio ||\n",
       "        this.context.oBackingStorePixelRatio ||\n",
       "        this.context.backingStorePixelRatio ||\n",
       "        1;\n",
       "\n",
       "    this.ratio = (window.devicePixelRatio || 1) / backingStore;\n",
       "\n",
       "    var rubberband_canvas = (this.rubberband_canvas = document.createElement(\n",
       "        'canvas'\n",
       "    ));\n",
       "    rubberband_canvas.setAttribute(\n",
       "        'style',\n",
       "        'box-sizing: content-box; position: absolute; left: 0; top: 0; z-index: 1;'\n",
       "    );\n",
       "\n",
       "    // Apply a ponyfill if ResizeObserver is not implemented by browser.\n",
       "    if (this.ResizeObserver === undefined) {\n",
       "        if (window.ResizeObserver !== undefined) {\n",
       "            this.ResizeObserver = window.ResizeObserver;\n",
       "        } else {\n",
       "            var obs = _JSXTOOLS_RESIZE_OBSERVER({});\n",
       "            this.ResizeObserver = obs.ResizeObserver;\n",
       "        }\n",
       "    }\n",
       "\n",
       "    this.resizeObserverInstance = new this.ResizeObserver(function (entries) {\n",
       "        var nentries = entries.length;\n",
       "        for (var i = 0; i < nentries; i++) {\n",
       "            var entry = entries[i];\n",
       "            var width, height;\n",
       "            if (entry.contentBoxSize) {\n",
       "                if (entry.contentBoxSize instanceof Array) {\n",
       "                    // Chrome 84 implements new version of spec.\n",
       "                    width = entry.contentBoxSize[0].inlineSize;\n",
       "                    height = entry.contentBoxSize[0].blockSize;\n",
       "                } else {\n",
       "                    // Firefox implements old version of spec.\n",
       "                    width = entry.contentBoxSize.inlineSize;\n",
       "                    height = entry.contentBoxSize.blockSize;\n",
       "                }\n",
       "            } else {\n",
       "                // Chrome <84 implements even older version of spec.\n",
       "                width = entry.contentRect.width;\n",
       "                height = entry.contentRect.height;\n",
       "            }\n",
       "\n",
       "            // Keep the size of the canvas and rubber band canvas in sync with\n",
       "            // the canvas container.\n",
       "            if (entry.devicePixelContentBoxSize) {\n",
       "                // Chrome 84 implements new version of spec.\n",
       "                canvas.setAttribute(\n",
       "                    'width',\n",
       "                    entry.devicePixelContentBoxSize[0].inlineSize\n",
       "                );\n",
       "                canvas.setAttribute(\n",
       "                    'height',\n",
       "                    entry.devicePixelContentBoxSize[0].blockSize\n",
       "                );\n",
       "            } else {\n",
       "                canvas.setAttribute('width', width * fig.ratio);\n",
       "                canvas.setAttribute('height', height * fig.ratio);\n",
       "            }\n",
       "            canvas.setAttribute(\n",
       "                'style',\n",
       "                'width: ' + width + 'px; height: ' + height + 'px;'\n",
       "            );\n",
       "\n",
       "            rubberband_canvas.setAttribute('width', width);\n",
       "            rubberband_canvas.setAttribute('height', height);\n",
       "\n",
       "            // And update the size in Python. We ignore the initial 0/0 size\n",
       "            // that occurs as the element is placed into the DOM, which should\n",
       "            // otherwise not happen due to the minimum size styling.\n",
       "            if (fig.ws.readyState == 1 && width != 0 && height != 0) {\n",
       "                fig.request_resize(width, height);\n",
       "            }\n",
       "        }\n",
       "    });\n",
       "    this.resizeObserverInstance.observe(canvas_div);\n",
       "\n",
       "    function on_mouse_event_closure(name) {\n",
       "        return function (event) {\n",
       "            return fig.mouse_event(event, name);\n",
       "        };\n",
       "    }\n",
       "\n",
       "    rubberband_canvas.addEventListener(\n",
       "        'mousedown',\n",
       "        on_mouse_event_closure('button_press')\n",
       "    );\n",
       "    rubberband_canvas.addEventListener(\n",
       "        'mouseup',\n",
       "        on_mouse_event_closure('button_release')\n",
       "    );\n",
       "    // Throttle sequential mouse events to 1 every 20ms.\n",
       "    rubberband_canvas.addEventListener(\n",
       "        'mousemove',\n",
       "        on_mouse_event_closure('motion_notify')\n",
       "    );\n",
       "\n",
       "    rubberband_canvas.addEventListener(\n",
       "        'mouseenter',\n",
       "        on_mouse_event_closure('figure_enter')\n",
       "    );\n",
       "    rubberband_canvas.addEventListener(\n",
       "        'mouseleave',\n",
       "        on_mouse_event_closure('figure_leave')\n",
       "    );\n",
       "\n",
       "    canvas_div.addEventListener('wheel', function (event) {\n",
       "        if (event.deltaY < 0) {\n",
       "            event.step = 1;\n",
       "        } else {\n",
       "            event.step = -1;\n",
       "        }\n",
       "        on_mouse_event_closure('scroll')(event);\n",
       "    });\n",
       "\n",
       "    canvas_div.appendChild(canvas);\n",
       "    canvas_div.appendChild(rubberband_canvas);\n",
       "\n",
       "    this.rubberband_context = rubberband_canvas.getContext('2d');\n",
       "    this.rubberband_context.strokeStyle = '#000000';\n",
       "\n",
       "    this._resize_canvas = function (width, height, forward) {\n",
       "        if (forward) {\n",
       "            canvas_div.style.width = width + 'px';\n",
       "            canvas_div.style.height = height + 'px';\n",
       "        }\n",
       "    };\n",
       "\n",
       "    // Disable right mouse context menu.\n",
       "    this.rubberband_canvas.addEventListener('contextmenu', function (_e) {\n",
       "        event.preventDefault();\n",
       "        return false;\n",
       "    });\n",
       "\n",
       "    function set_focus() {\n",
       "        canvas.focus();\n",
       "        canvas_div.focus();\n",
       "    }\n",
       "\n",
       "    window.setTimeout(set_focus, 100);\n",
       "};\n",
       "\n",
       "mpl.figure.prototype._init_toolbar = function () {\n",
       "    var fig = this;\n",
       "\n",
       "    var toolbar = document.createElement('div');\n",
       "    toolbar.classList = 'mpl-toolbar';\n",
       "    this.root.appendChild(toolbar);\n",
       "\n",
       "    function on_click_closure(name) {\n",
       "        return function (_event) {\n",
       "            return fig.toolbar_button_onclick(name);\n",
       "        };\n",
       "    }\n",
       "\n",
       "    function on_mouseover_closure(tooltip) {\n",
       "        return function (event) {\n",
       "            if (!event.currentTarget.disabled) {\n",
       "                return fig.toolbar_button_onmouseover(tooltip);\n",
       "            }\n",
       "        };\n",
       "    }\n",
       "\n",
       "    fig.buttons = {};\n",
       "    var buttonGroup = document.createElement('div');\n",
       "    buttonGroup.classList = 'mpl-button-group';\n",
       "    for (var toolbar_ind in mpl.toolbar_items) {\n",
       "        var name = mpl.toolbar_items[toolbar_ind][0];\n",
       "        var tooltip = mpl.toolbar_items[toolbar_ind][1];\n",
       "        var image = mpl.toolbar_items[toolbar_ind][2];\n",
       "        var method_name = mpl.toolbar_items[toolbar_ind][3];\n",
       "\n",
       "        if (!name) {\n",
       "            /* Instead of a spacer, we start a new button group. */\n",
       "            if (buttonGroup.hasChildNodes()) {\n",
       "                toolbar.appendChild(buttonGroup);\n",
       "            }\n",
       "            buttonGroup = document.createElement('div');\n",
       "            buttonGroup.classList = 'mpl-button-group';\n",
       "            continue;\n",
       "        }\n",
       "\n",
       "        var button = (fig.buttons[name] = document.createElement('button'));\n",
       "        button.classList = 'mpl-widget';\n",
       "        button.setAttribute('role', 'button');\n",
       "        button.setAttribute('aria-disabled', 'false');\n",
       "        button.addEventListener('click', on_click_closure(method_name));\n",
       "        button.addEventListener('mouseover', on_mouseover_closure(tooltip));\n",
       "\n",
       "        var icon_img = document.createElement('img');\n",
       "        icon_img.src = '_images/' + image + '.png';\n",
       "        icon_img.srcset = '_images/' + image + '_large.png 2x';\n",
       "        icon_img.alt = tooltip;\n",
       "        button.appendChild(icon_img);\n",
       "\n",
       "        buttonGroup.appendChild(button);\n",
       "    }\n",
       "\n",
       "    if (buttonGroup.hasChildNodes()) {\n",
       "        toolbar.appendChild(buttonGroup);\n",
       "    }\n",
       "\n",
       "    var fmt_picker = document.createElement('select');\n",
       "    fmt_picker.classList = 'mpl-widget';\n",
       "    toolbar.appendChild(fmt_picker);\n",
       "    this.format_dropdown = fmt_picker;\n",
       "\n",
       "    for (var ind in mpl.extensions) {\n",
       "        var fmt = mpl.extensions[ind];\n",
       "        var option = document.createElement('option');\n",
       "        option.selected = fmt === mpl.default_extension;\n",
       "        option.innerHTML = fmt;\n",
       "        fmt_picker.appendChild(option);\n",
       "    }\n",
       "\n",
       "    var status_bar = document.createElement('span');\n",
       "    status_bar.classList = 'mpl-message';\n",
       "    toolbar.appendChild(status_bar);\n",
       "    this.message = status_bar;\n",
       "};\n",
       "\n",
       "mpl.figure.prototype.request_resize = function (x_pixels, y_pixels) {\n",
       "    // Request matplotlib to resize the figure. Matplotlib will then trigger a resize in the client,\n",
       "    // which will in turn request a refresh of the image.\n",
       "    this.send_message('resize', { width: x_pixels, height: y_pixels });\n",
       "};\n",
       "\n",
       "mpl.figure.prototype.send_message = function (type, properties) {\n",
       "    properties['type'] = type;\n",
       "    properties['figure_id'] = this.id;\n",
       "    this.ws.send(JSON.stringify(properties));\n",
       "};\n",
       "\n",
       "mpl.figure.prototype.send_draw_message = function () {\n",
       "    if (!this.waiting) {\n",
       "        this.waiting = true;\n",
       "        this.ws.send(JSON.stringify({ type: 'draw', figure_id: this.id }));\n",
       "    }\n",
       "};\n",
       "\n",
       "mpl.figure.prototype.handle_save = function (fig, _msg) {\n",
       "    var format_dropdown = fig.format_dropdown;\n",
       "    var format = format_dropdown.options[format_dropdown.selectedIndex].value;\n",
       "    fig.ondownload(fig, format);\n",
       "};\n",
       "\n",
       "mpl.figure.prototype.handle_resize = function (fig, msg) {\n",
       "    var size = msg['size'];\n",
       "    if (size[0] !== fig.canvas.width || size[1] !== fig.canvas.height) {\n",
       "        fig._resize_canvas(size[0], size[1], msg['forward']);\n",
       "        fig.send_message('refresh', {});\n",
       "    }\n",
       "};\n",
       "\n",
       "mpl.figure.prototype.handle_rubberband = function (fig, msg) {\n",
       "    var x0 = msg['x0'] / fig.ratio;\n",
       "    var y0 = (fig.canvas.height - msg['y0']) / fig.ratio;\n",
       "    var x1 = msg['x1'] / fig.ratio;\n",
       "    var y1 = (fig.canvas.height - msg['y1']) / fig.ratio;\n",
       "    x0 = Math.floor(x0) + 0.5;\n",
       "    y0 = Math.floor(y0) + 0.5;\n",
       "    x1 = Math.floor(x1) + 0.5;\n",
       "    y1 = Math.floor(y1) + 0.5;\n",
       "    var min_x = Math.min(x0, x1);\n",
       "    var min_y = Math.min(y0, y1);\n",
       "    var width = Math.abs(x1 - x0);\n",
       "    var height = Math.abs(y1 - y0);\n",
       "\n",
       "    fig.rubberband_context.clearRect(\n",
       "        0,\n",
       "        0,\n",
       "        fig.canvas.width / fig.ratio,\n",
       "        fig.canvas.height / fig.ratio\n",
       "    );\n",
       "\n",
       "    fig.rubberband_context.strokeRect(min_x, min_y, width, height);\n",
       "};\n",
       "\n",
       "mpl.figure.prototype.handle_figure_label = function (fig, msg) {\n",
       "    // Updates the figure title.\n",
       "    fig.header.textContent = msg['label'];\n",
       "};\n",
       "\n",
       "mpl.figure.prototype.handle_cursor = function (fig, msg) {\n",
       "    var cursor = msg['cursor'];\n",
       "    switch (cursor) {\n",
       "        case 0:\n",
       "            cursor = 'pointer';\n",
       "            break;\n",
       "        case 1:\n",
       "            cursor = 'default';\n",
       "            break;\n",
       "        case 2:\n",
       "            cursor = 'crosshair';\n",
       "            break;\n",
       "        case 3:\n",
       "            cursor = 'move';\n",
       "            break;\n",
       "    }\n",
       "    fig.rubberband_canvas.style.cursor = cursor;\n",
       "};\n",
       "\n",
       "mpl.figure.prototype.handle_message = function (fig, msg) {\n",
       "    fig.message.textContent = msg['message'];\n",
       "};\n",
       "\n",
       "mpl.figure.prototype.handle_draw = function (fig, _msg) {\n",
       "    // Request the server to send over a new figure.\n",
       "    fig.send_draw_message();\n",
       "};\n",
       "\n",
       "mpl.figure.prototype.handle_image_mode = function (fig, msg) {\n",
       "    fig.image_mode = msg['mode'];\n",
       "};\n",
       "\n",
       "mpl.figure.prototype.handle_history_buttons = function (fig, msg) {\n",
       "    for (var key in msg) {\n",
       "        if (!(key in fig.buttons)) {\n",
       "            continue;\n",
       "        }\n",
       "        fig.buttons[key].disabled = !msg[key];\n",
       "        fig.buttons[key].setAttribute('aria-disabled', !msg[key]);\n",
       "    }\n",
       "};\n",
       "\n",
       "mpl.figure.prototype.handle_navigate_mode = function (fig, msg) {\n",
       "    if (msg['mode'] === 'PAN') {\n",
       "        fig.buttons['Pan'].classList.add('active');\n",
       "        fig.buttons['Zoom'].classList.remove('active');\n",
       "    } else if (msg['mode'] === 'ZOOM') {\n",
       "        fig.buttons['Pan'].classList.remove('active');\n",
       "        fig.buttons['Zoom'].classList.add('active');\n",
       "    } else {\n",
       "        fig.buttons['Pan'].classList.remove('active');\n",
       "        fig.buttons['Zoom'].classList.remove('active');\n",
       "    }\n",
       "};\n",
       "\n",
       "mpl.figure.prototype.updated_canvas_event = function () {\n",
       "    // Called whenever the canvas gets updated.\n",
       "    this.send_message('ack', {});\n",
       "};\n",
       "\n",
       "// A function to construct a web socket function for onmessage handling.\n",
       "// Called in the figure constructor.\n",
       "mpl.figure.prototype._make_on_message_function = function (fig) {\n",
       "    return function socket_on_message(evt) {\n",
       "        if (evt.data instanceof Blob) {\n",
       "            /* FIXME: We get \"Resource interpreted as Image but\n",
       "             * transferred with MIME type text/plain:\" errors on\n",
       "             * Chrome.  But how to set the MIME type?  It doesn't seem\n",
       "             * to be part of the websocket stream */\n",
       "            evt.data.type = 'image/png';\n",
       "\n",
       "            /* Free the memory for the previous frames */\n",
       "            if (fig.imageObj.src) {\n",
       "                (window.URL || window.webkitURL).revokeObjectURL(\n",
       "                    fig.imageObj.src\n",
       "                );\n",
       "            }\n",
       "\n",
       "            fig.imageObj.src = (window.URL || window.webkitURL).createObjectURL(\n",
       "                evt.data\n",
       "            );\n",
       "            fig.updated_canvas_event();\n",
       "            fig.waiting = false;\n",
       "            return;\n",
       "        } else if (\n",
       "            typeof evt.data === 'string' &&\n",
       "            evt.data.slice(0, 21) === 'data:image/png;base64'\n",
       "        ) {\n",
       "            fig.imageObj.src = evt.data;\n",
       "            fig.updated_canvas_event();\n",
       "            fig.waiting = false;\n",
       "            return;\n",
       "        }\n",
       "\n",
       "        var msg = JSON.parse(evt.data);\n",
       "        var msg_type = msg['type'];\n",
       "\n",
       "        // Call the  \"handle_{type}\" callback, which takes\n",
       "        // the figure and JSON message as its only arguments.\n",
       "        try {\n",
       "            var callback = fig['handle_' + msg_type];\n",
       "        } catch (e) {\n",
       "            console.log(\n",
       "                \"No handler for the '\" + msg_type + \"' message type: \",\n",
       "                msg\n",
       "            );\n",
       "            return;\n",
       "        }\n",
       "\n",
       "        if (callback) {\n",
       "            try {\n",
       "                // console.log(\"Handling '\" + msg_type + \"' message: \", msg);\n",
       "                callback(fig, msg);\n",
       "            } catch (e) {\n",
       "                console.log(\n",
       "                    \"Exception inside the 'handler_\" + msg_type + \"' callback:\",\n",
       "                    e,\n",
       "                    e.stack,\n",
       "                    msg\n",
       "                );\n",
       "            }\n",
       "        }\n",
       "    };\n",
       "};\n",
       "\n",
       "// from http://stackoverflow.com/questions/1114465/getting-mouse-location-in-canvas\n",
       "mpl.findpos = function (e) {\n",
       "    //this section is from http://www.quirksmode.org/js/events_properties.html\n",
       "    var targ;\n",
       "    if (!e) {\n",
       "        e = window.event;\n",
       "    }\n",
       "    if (e.target) {\n",
       "        targ = e.target;\n",
       "    } else if (e.srcElement) {\n",
       "        targ = e.srcElement;\n",
       "    }\n",
       "    if (targ.nodeType === 3) {\n",
       "        // defeat Safari bug\n",
       "        targ = targ.parentNode;\n",
       "    }\n",
       "\n",
       "    // pageX,Y are the mouse positions relative to the document\n",
       "    var boundingRect = targ.getBoundingClientRect();\n",
       "    var x = e.pageX - (boundingRect.left + document.body.scrollLeft);\n",
       "    var y = e.pageY - (boundingRect.top + document.body.scrollTop);\n",
       "\n",
       "    return { x: x, y: y };\n",
       "};\n",
       "\n",
       "/*\n",
       " * return a copy of an object with only non-object keys\n",
       " * we need this to avoid circular references\n",
       " * http://stackoverflow.com/a/24161582/3208463\n",
       " */\n",
       "function simpleKeys(original) {\n",
       "    return Object.keys(original).reduce(function (obj, key) {\n",
       "        if (typeof original[key] !== 'object') {\n",
       "            obj[key] = original[key];\n",
       "        }\n",
       "        return obj;\n",
       "    }, {});\n",
       "}\n",
       "\n",
       "mpl.figure.prototype.mouse_event = function (event, name) {\n",
       "    var canvas_pos = mpl.findpos(event);\n",
       "\n",
       "    if (name === 'button_press') {\n",
       "        this.canvas.focus();\n",
       "        this.canvas_div.focus();\n",
       "    }\n",
       "\n",
       "    var x = canvas_pos.x * this.ratio;\n",
       "    var y = canvas_pos.y * this.ratio;\n",
       "\n",
       "    this.send_message(name, {\n",
       "        x: x,\n",
       "        y: y,\n",
       "        button: event.button,\n",
       "        step: event.step,\n",
       "        guiEvent: simpleKeys(event),\n",
       "    });\n",
       "\n",
       "    /* This prevents the web browser from automatically changing to\n",
       "     * the text insertion cursor when the button is pressed.  We want\n",
       "     * to control all of the cursor setting manually through the\n",
       "     * 'cursor' event from matplotlib */\n",
       "    event.preventDefault();\n",
       "    return false;\n",
       "};\n",
       "\n",
       "mpl.figure.prototype._key_event_extra = function (_event, _name) {\n",
       "    // Handle any extra behaviour associated with a key event\n",
       "};\n",
       "\n",
       "mpl.figure.prototype.key_event = function (event, name) {\n",
       "    // Prevent repeat events\n",
       "    if (name === 'key_press') {\n",
       "        if (event.which === this._key) {\n",
       "            return;\n",
       "        } else {\n",
       "            this._key = event.which;\n",
       "        }\n",
       "    }\n",
       "    if (name === 'key_release') {\n",
       "        this._key = null;\n",
       "    }\n",
       "\n",
       "    var value = '';\n",
       "    if (event.ctrlKey && event.which !== 17) {\n",
       "        value += 'ctrl+';\n",
       "    }\n",
       "    if (event.altKey && event.which !== 18) {\n",
       "        value += 'alt+';\n",
       "    }\n",
       "    if (event.shiftKey && event.which !== 16) {\n",
       "        value += 'shift+';\n",
       "    }\n",
       "\n",
       "    value += 'k';\n",
       "    value += event.which.toString();\n",
       "\n",
       "    this._key_event_extra(event, name);\n",
       "\n",
       "    this.send_message(name, { key: value, guiEvent: simpleKeys(event) });\n",
       "    return false;\n",
       "};\n",
       "\n",
       "mpl.figure.prototype.toolbar_button_onclick = function (name) {\n",
       "    if (name === 'download') {\n",
       "        this.handle_save(this, null);\n",
       "    } else {\n",
       "        this.send_message('toolbar_button', { name: name });\n",
       "    }\n",
       "};\n",
       "\n",
       "mpl.figure.prototype.toolbar_button_onmouseover = function (tooltip) {\n",
       "    this.message.textContent = tooltip;\n",
       "};\n",
       "\n",
       "///////////////// REMAINING CONTENT GENERATED BY embed_js.py /////////////////\n",
       "// prettier-ignore\n",
       "var _JSXTOOLS_RESIZE_OBSERVER=function(A){var t,i=new WeakMap,n=new WeakMap,a=new WeakMap,r=new WeakMap,o=new Set;function s(e){if(!(this instanceof s))throw new TypeError(\"Constructor requires 'new' operator\");i.set(this,e)}function h(){throw new TypeError(\"Function is not a constructor\")}function c(e,t,i,n){e=0 in arguments?Number(arguments[0]):0,t=1 in arguments?Number(arguments[1]):0,i=2 in arguments?Number(arguments[2]):0,n=3 in arguments?Number(arguments[3]):0,this.right=(this.x=this.left=e)+(this.width=i),this.bottom=(this.y=this.top=t)+(this.height=n),Object.freeze(this)}function d(){t=requestAnimationFrame(d);var s=new WeakMap,p=new Set;o.forEach((function(t){r.get(t).forEach((function(i){var r=t instanceof window.SVGElement,o=a.get(t),d=r?0:parseFloat(o.paddingTop),f=r?0:parseFloat(o.paddingRight),l=r?0:parseFloat(o.paddingBottom),u=r?0:parseFloat(o.paddingLeft),g=r?0:parseFloat(o.borderTopWidth),m=r?0:parseFloat(o.borderRightWidth),w=r?0:parseFloat(o.borderBottomWidth),b=u+f,F=d+l,v=(r?0:parseFloat(o.borderLeftWidth))+m,W=g+w,y=r?0:t.offsetHeight-W-t.clientHeight,E=r?0:t.offsetWidth-v-t.clientWidth,R=b+v,z=F+W,M=r?t.width:parseFloat(o.width)-R-E,O=r?t.height:parseFloat(o.height)-z-y;if(n.has(t)){var k=n.get(t);if(k[0]===M&&k[1]===O)return}n.set(t,[M,O]);var S=Object.create(h.prototype);S.target=t,S.contentRect=new c(u,d,M,O),s.has(i)||(s.set(i,[]),p.add(i)),s.get(i).push(S)}))})),p.forEach((function(e){i.get(e).call(e,s.get(e),e)}))}return s.prototype.observe=function(i){if(i instanceof window.Element){r.has(i)||(r.set(i,new Set),o.add(i),a.set(i,window.getComputedStyle(i)));var n=r.get(i);n.has(this)||n.add(this),cancelAnimationFrame(t),t=requestAnimationFrame(d)}},s.prototype.unobserve=function(i){if(i instanceof window.Element&&r.has(i)){var n=r.get(i);n.has(this)&&(n.delete(this),n.size||(r.delete(i),o.delete(i))),n.size||r.delete(i),o.size||cancelAnimationFrame(t)}},A.DOMRectReadOnly=c,A.ResizeObserver=s,A.ResizeObserverEntry=h,A}; // eslint-disable-line\n",
       "mpl.toolbar_items = [[\"Home\", \"Reset original view\", \"fa fa-home icon-home\", \"home\"], [\"Back\", \"Back to previous view\", \"fa fa-arrow-left icon-arrow-left\", \"back\"], [\"Forward\", \"Forward to next view\", \"fa fa-arrow-right icon-arrow-right\", \"forward\"], [\"\", \"\", \"\", \"\"], [\"Pan\", \"Left button pans, Right button zooms\\nx/y fixes axis, CTRL fixes aspect\", \"fa fa-arrows icon-move\", \"pan\"], [\"Zoom\", \"Zoom to rectangle\\nx/y fixes axis, CTRL fixes aspect\", \"fa fa-square-o icon-check-empty\", \"zoom\"], [\"\", \"\", \"\", \"\"], [\"Download\", \"Download plot\", \"fa fa-floppy-o icon-save\", \"download\"]];\n",
       "\n",
       "mpl.extensions = [\"eps\", \"jpeg\", \"pdf\", \"png\", \"ps\", \"raw\", \"svg\", \"tif\"];\n",
       "\n",
       "mpl.default_extension = \"png\";/* global mpl */\n",
       "\n",
       "var comm_websocket_adapter = function (comm) {\n",
       "    // Create a \"websocket\"-like object which calls the given IPython comm\n",
       "    // object with the appropriate methods. Currently this is a non binary\n",
       "    // socket, so there is still some room for performance tuning.\n",
       "    var ws = {};\n",
       "\n",
       "    ws.close = function () {\n",
       "        comm.close();\n",
       "    };\n",
       "    ws.send = function (m) {\n",
       "        //console.log('sending', m);\n",
       "        comm.send(m);\n",
       "    };\n",
       "    // Register the callback with on_msg.\n",
       "    comm.on_msg(function (msg) {\n",
       "        //console.log('receiving', msg['content']['data'], msg);\n",
       "        // Pass the mpl event to the overridden (by mpl) onmessage function.\n",
       "        ws.onmessage(msg['content']['data']);\n",
       "    });\n",
       "    return ws;\n",
       "};\n",
       "\n",
       "mpl.mpl_figure_comm = function (comm, msg) {\n",
       "    // This is the function which gets called when the mpl process\n",
       "    // starts-up an IPython Comm through the \"matplotlib\" channel.\n",
       "\n",
       "    var id = msg.content.data.id;\n",
       "    // Get hold of the div created by the display call when the Comm\n",
       "    // socket was opened in Python.\n",
       "    var element = document.getElementById(id);\n",
       "    var ws_proxy = comm_websocket_adapter(comm);\n",
       "\n",
       "    function ondownload(figure, _format) {\n",
       "        window.open(figure.canvas.toDataURL());\n",
       "    }\n",
       "\n",
       "    var fig = new mpl.figure(id, ws_proxy, ondownload, element);\n",
       "\n",
       "    // Call onopen now - mpl needs it, as it is assuming we've passed it a real\n",
       "    // web socket which is closed, not our websocket->open comm proxy.\n",
       "    ws_proxy.onopen();\n",
       "\n",
       "    fig.parent_element = element;\n",
       "    fig.cell_info = mpl.find_output_cell(\"<div id='\" + id + \"'></div>\");\n",
       "    if (!fig.cell_info) {\n",
       "        console.error('Failed to find cell for figure', id, fig);\n",
       "        return;\n",
       "    }\n",
       "    fig.cell_info[0].output_area.element.on(\n",
       "        'cleared',\n",
       "        { fig: fig },\n",
       "        fig._remove_fig_handler\n",
       "    );\n",
       "};\n",
       "\n",
       "mpl.figure.prototype.handle_close = function (fig, msg) {\n",
       "    var width = fig.canvas.width / fig.ratio;\n",
       "    fig.cell_info[0].output_area.element.off(\n",
       "        'cleared',\n",
       "        fig._remove_fig_handler\n",
       "    );\n",
       "    fig.resizeObserverInstance.unobserve(fig.canvas_div);\n",
       "\n",
       "    // Update the output cell to use the data from the current canvas.\n",
       "    fig.push_to_output();\n",
       "    var dataURL = fig.canvas.toDataURL();\n",
       "    // Re-enable the keyboard manager in IPython - without this line, in FF,\n",
       "    // the notebook keyboard shortcuts fail.\n",
       "    IPython.keyboard_manager.enable();\n",
       "    fig.parent_element.innerHTML =\n",
       "        '<img src=\"' + dataURL + '\" width=\"' + width + '\">';\n",
       "    fig.close_ws(fig, msg);\n",
       "};\n",
       "\n",
       "mpl.figure.prototype.close_ws = function (fig, msg) {\n",
       "    fig.send_message('closing', msg);\n",
       "    // fig.ws.close()\n",
       "};\n",
       "\n",
       "mpl.figure.prototype.push_to_output = function (_remove_interactive) {\n",
       "    // Turn the data on the canvas into data in the output cell.\n",
       "    var width = this.canvas.width / this.ratio;\n",
       "    var dataURL = this.canvas.toDataURL();\n",
       "    this.cell_info[1]['text/html'] =\n",
       "        '<img src=\"' + dataURL + '\" width=\"' + width + '\">';\n",
       "};\n",
       "\n",
       "mpl.figure.prototype.updated_canvas_event = function () {\n",
       "    // Tell IPython that the notebook contents must change.\n",
       "    IPython.notebook.set_dirty(true);\n",
       "    this.send_message('ack', {});\n",
       "    var fig = this;\n",
       "    // Wait a second, then push the new image to the DOM so\n",
       "    // that it is saved nicely (might be nice to debounce this).\n",
       "    setTimeout(function () {\n",
       "        fig.push_to_output();\n",
       "    }, 1000);\n",
       "};\n",
       "\n",
       "mpl.figure.prototype._init_toolbar = function () {\n",
       "    var fig = this;\n",
       "\n",
       "    var toolbar = document.createElement('div');\n",
       "    toolbar.classList = 'btn-toolbar';\n",
       "    this.root.appendChild(toolbar);\n",
       "\n",
       "    function on_click_closure(name) {\n",
       "        return function (_event) {\n",
       "            return fig.toolbar_button_onclick(name);\n",
       "        };\n",
       "    }\n",
       "\n",
       "    function on_mouseover_closure(tooltip) {\n",
       "        return function (event) {\n",
       "            if (!event.currentTarget.disabled) {\n",
       "                return fig.toolbar_button_onmouseover(tooltip);\n",
       "            }\n",
       "        };\n",
       "    }\n",
       "\n",
       "    fig.buttons = {};\n",
       "    var buttonGroup = document.createElement('div');\n",
       "    buttonGroup.classList = 'btn-group';\n",
       "    var button;\n",
       "    for (var toolbar_ind in mpl.toolbar_items) {\n",
       "        var name = mpl.toolbar_items[toolbar_ind][0];\n",
       "        var tooltip = mpl.toolbar_items[toolbar_ind][1];\n",
       "        var image = mpl.toolbar_items[toolbar_ind][2];\n",
       "        var method_name = mpl.toolbar_items[toolbar_ind][3];\n",
       "\n",
       "        if (!name) {\n",
       "            /* Instead of a spacer, we start a new button group. */\n",
       "            if (buttonGroup.hasChildNodes()) {\n",
       "                toolbar.appendChild(buttonGroup);\n",
       "            }\n",
       "            buttonGroup = document.createElement('div');\n",
       "            buttonGroup.classList = 'btn-group';\n",
       "            continue;\n",
       "        }\n",
       "\n",
       "        button = fig.buttons[name] = document.createElement('button');\n",
       "        button.classList = 'btn btn-default';\n",
       "        button.href = '#';\n",
       "        button.title = name;\n",
       "        button.innerHTML = '<i class=\"fa ' + image + ' fa-lg\"></i>';\n",
       "        button.addEventListener('click', on_click_closure(method_name));\n",
       "        button.addEventListener('mouseover', on_mouseover_closure(tooltip));\n",
       "        buttonGroup.appendChild(button);\n",
       "    }\n",
       "\n",
       "    if (buttonGroup.hasChildNodes()) {\n",
       "        toolbar.appendChild(buttonGroup);\n",
       "    }\n",
       "\n",
       "    // Add the status bar.\n",
       "    var status_bar = document.createElement('span');\n",
       "    status_bar.classList = 'mpl-message pull-right';\n",
       "    toolbar.appendChild(status_bar);\n",
       "    this.message = status_bar;\n",
       "\n",
       "    // Add the close button to the window.\n",
       "    var buttongrp = document.createElement('div');\n",
       "    buttongrp.classList = 'btn-group inline pull-right';\n",
       "    button = document.createElement('button');\n",
       "    button.classList = 'btn btn-mini btn-primary';\n",
       "    button.href = '#';\n",
       "    button.title = 'Stop Interaction';\n",
       "    button.innerHTML = '<i class=\"fa fa-power-off icon-remove icon-large\"></i>';\n",
       "    button.addEventListener('click', function (_evt) {\n",
       "        fig.handle_close(fig, {});\n",
       "    });\n",
       "    button.addEventListener(\n",
       "        'mouseover',\n",
       "        on_mouseover_closure('Stop Interaction')\n",
       "    );\n",
       "    buttongrp.appendChild(button);\n",
       "    var titlebar = this.root.querySelector('.ui-dialog-titlebar');\n",
       "    titlebar.insertBefore(buttongrp, titlebar.firstChild);\n",
       "};\n",
       "\n",
       "mpl.figure.prototype._remove_fig_handler = function (event) {\n",
       "    var fig = event.data.fig;\n",
       "    if (event.target !== this) {\n",
       "        // Ignore bubbled events from children.\n",
       "        return;\n",
       "    }\n",
       "    fig.close_ws(fig, {});\n",
       "};\n",
       "\n",
       "mpl.figure.prototype._root_extra_style = function (el) {\n",
       "    el.style.boxSizing = 'content-box'; // override notebook setting of border-box.\n",
       "};\n",
       "\n",
       "mpl.figure.prototype._canvas_extra_style = function (el) {\n",
       "    // this is important to make the div 'focusable\n",
       "    el.setAttribute('tabindex', 0);\n",
       "    // reach out to IPython and tell the keyboard manager to turn it's self\n",
       "    // off when our div gets focus\n",
       "\n",
       "    // location in version 3\n",
       "    if (IPython.notebook.keyboard_manager) {\n",
       "        IPython.notebook.keyboard_manager.register_events(el);\n",
       "    } else {\n",
       "        // location in version 2\n",
       "        IPython.keyboard_manager.register_events(el);\n",
       "    }\n",
       "};\n",
       "\n",
       "mpl.figure.prototype._key_event_extra = function (event, _name) {\n",
       "    var manager = IPython.notebook.keyboard_manager;\n",
       "    if (!manager) {\n",
       "        manager = IPython.keyboard_manager;\n",
       "    }\n",
       "\n",
       "    // Check for shift+enter\n",
       "    if (event.shiftKey && event.which === 13) {\n",
       "        this.canvas_div.blur();\n",
       "        // select the cell after this one\n",
       "        var index = IPython.notebook.find_cell_index(this.cell_info[0]);\n",
       "        IPython.notebook.select(index + 1);\n",
       "    }\n",
       "};\n",
       "\n",
       "mpl.figure.prototype.handle_save = function (fig, _msg) {\n",
       "    fig.ondownload(fig, null);\n",
       "};\n",
       "\n",
       "mpl.find_output_cell = function (html_output) {\n",
       "    // Return the cell and output element which can be found *uniquely* in the notebook.\n",
       "    // Note - this is a bit hacky, but it is done because the \"notebook_saving.Notebook\"\n",
       "    // IPython event is triggered only after the cells have been serialised, which for\n",
       "    // our purposes (turning an active figure into a static one), is too late.\n",
       "    var cells = IPython.notebook.get_cells();\n",
       "    var ncells = cells.length;\n",
       "    for (var i = 0; i < ncells; i++) {\n",
       "        var cell = cells[i];\n",
       "        if (cell.cell_type === 'code') {\n",
       "            for (var j = 0; j < cell.output_area.outputs.length; j++) {\n",
       "                var data = cell.output_area.outputs[j];\n",
       "                if (data.data) {\n",
       "                    // IPython >= 3 moved mimebundle to data attribute of output\n",
       "                    data = data.data;\n",
       "                }\n",
       "                if (data['text/html'] === html_output) {\n",
       "                    return [cell, data, j];\n",
       "                }\n",
       "            }\n",
       "        }\n",
       "    }\n",
       "};\n",
       "\n",
       "// Register the function which deals with the matplotlib target/channel.\n",
       "// The kernel may be null if the page has been refreshed.\n",
       "if (IPython.notebook.kernel !== null) {\n",
       "    IPython.notebook.kernel.comm_manager.register_target(\n",
       "        'matplotlib',\n",
       "        mpl.mpl_figure_comm\n",
       "    );\n",
       "}\n"
      ],
      "text/plain": [
       "<IPython.core.display.Javascript object>"
      ]
     },
     "metadata": {},
     "output_type": "display_data"
    },
    {
     "data": {
      "text/html": [
       "<img src=\"data:image/png;base64,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\" width=\"640\">"
      ],
      "text/plain": [
       "<IPython.core.display.HTML object>"
      ]
     },
     "metadata": {},
     "output_type": "display_data"
    }
   ],
   "source": [
    "grafico_puntos_random(tabla) "
   ]
  },
  {
   "cell_type": "markdown",
   "id": "117d3256",
   "metadata": {
    "slideshow": {
     "slide_type": "subslide"
    }
   },
   "source": [
    "## Gráficos 3d"
   ]
  },
  {
   "cell_type": "code",
   "execution_count": 5,
   "id": "5b2d0a82",
   "metadata": {
    "slideshow": {
     "slide_type": "skip"
    }
   },
   "outputs": [],
   "source": [
    "#codigo de https://docs.sympy.org/latest/modules/plotting.html\n",
    "def grafico3d():\n",
    "    x, y = sp.symbols('x y')\n",
    "    sp.plotting.plot3d(x*y,(x,-5,5),(y,-5,5))"
   ]
  },
  {
   "cell_type": "code",
   "execution_count": 11,
   "id": "27442a73",
   "metadata": {
    "scrolled": true,
    "slideshow": {
     "slide_type": "fragment"
    }
   },
   "outputs": [
    {
     "data": {
      "application/javascript": [
       "/* Put everything inside the global mpl namespace */\n",
       "/* global mpl */\n",
       "window.mpl = {};\n",
       "\n",
       "mpl.get_websocket_type = function () {\n",
       "    if (typeof WebSocket !== 'undefined') {\n",
       "        return WebSocket;\n",
       "    } else if (typeof MozWebSocket !== 'undefined') {\n",
       "        return MozWebSocket;\n",
       "    } else {\n",
       "        alert(\n",
       "            'Your browser does not have WebSocket support. ' +\n",
       "                'Please try Chrome, Safari or Firefox ≥ 6. ' +\n",
       "                'Firefox 4 and 5 are also supported but you ' +\n",
       "                'have to enable WebSockets in about:config.'\n",
       "        );\n",
       "    }\n",
       "};\n",
       "\n",
       "mpl.figure = function (figure_id, websocket, ondownload, parent_element) {\n",
       "    this.id = figure_id;\n",
       "\n",
       "    this.ws = websocket;\n",
       "\n",
       "    this.supports_binary = this.ws.binaryType !== undefined;\n",
       "\n",
       "    if (!this.supports_binary) {\n",
       "        var warnings = document.getElementById('mpl-warnings');\n",
       "        if (warnings) {\n",
       "            warnings.style.display = 'block';\n",
       "            warnings.textContent =\n",
       "                'This browser does not support binary websocket messages. ' +\n",
       "                'Performance may be slow.';\n",
       "        }\n",
       "    }\n",
       "\n",
       "    this.imageObj = new Image();\n",
       "\n",
       "    this.context = undefined;\n",
       "    this.message = undefined;\n",
       "    this.canvas = undefined;\n",
       "    this.rubberband_canvas = undefined;\n",
       "    this.rubberband_context = undefined;\n",
       "    this.format_dropdown = undefined;\n",
       "\n",
       "    this.image_mode = 'full';\n",
       "\n",
       "    this.root = document.createElement('div');\n",
       "    this.root.setAttribute('style', 'display: inline-block');\n",
       "    this._root_extra_style(this.root);\n",
       "\n",
       "    parent_element.appendChild(this.root);\n",
       "\n",
       "    this._init_header(this);\n",
       "    this._init_canvas(this);\n",
       "    this._init_toolbar(this);\n",
       "\n",
       "    var fig = this;\n",
       "\n",
       "    this.waiting = false;\n",
       "\n",
       "    this.ws.onopen = function () {\n",
       "        fig.send_message('supports_binary', { value: fig.supports_binary });\n",
       "        fig.send_message('send_image_mode', {});\n",
       "        if (fig.ratio !== 1) {\n",
       "            fig.send_message('set_dpi_ratio', { dpi_ratio: fig.ratio });\n",
       "        }\n",
       "        fig.send_message('refresh', {});\n",
       "    };\n",
       "\n",
       "    this.imageObj.onload = function () {\n",
       "        if (fig.image_mode === 'full') {\n",
       "            // Full images could contain transparency (where diff images\n",
       "            // almost always do), so we need to clear the canvas so that\n",
       "            // there is no ghosting.\n",
       "            fig.context.clearRect(0, 0, fig.canvas.width, fig.canvas.height);\n",
       "        }\n",
       "        fig.context.drawImage(fig.imageObj, 0, 0);\n",
       "    };\n",
       "\n",
       "    this.imageObj.onunload = function () {\n",
       "        fig.ws.close();\n",
       "    };\n",
       "\n",
       "    this.ws.onmessage = this._make_on_message_function(this);\n",
       "\n",
       "    this.ondownload = ondownload;\n",
       "};\n",
       "\n",
       "mpl.figure.prototype._init_header = function () {\n",
       "    var titlebar = document.createElement('div');\n",
       "    titlebar.classList =\n",
       "        'ui-dialog-titlebar ui-widget-header ui-corner-all ui-helper-clearfix';\n",
       "    var titletext = document.createElement('div');\n",
       "    titletext.classList = 'ui-dialog-title';\n",
       "    titletext.setAttribute(\n",
       "        'style',\n",
       "        'width: 100%; text-align: center; padding: 3px;'\n",
       "    );\n",
       "    titlebar.appendChild(titletext);\n",
       "    this.root.appendChild(titlebar);\n",
       "    this.header = titletext;\n",
       "};\n",
       "\n",
       "mpl.figure.prototype._canvas_extra_style = function (_canvas_div) {};\n",
       "\n",
       "mpl.figure.prototype._root_extra_style = function (_canvas_div) {};\n",
       "\n",
       "mpl.figure.prototype._init_canvas = function () {\n",
       "    var fig = this;\n",
       "\n",
       "    var canvas_div = (this.canvas_div = document.createElement('div'));\n",
       "    canvas_div.setAttribute(\n",
       "        'style',\n",
       "        'border: 1px solid #ddd;' +\n",
       "            'box-sizing: content-box;' +\n",
       "            'clear: both;' +\n",
       "            'min-height: 1px;' +\n",
       "            'min-width: 1px;' +\n",
       "            'outline: 0;' +\n",
       "            'overflow: hidden;' +\n",
       "            'position: relative;' +\n",
       "            'resize: both;'\n",
       "    );\n",
       "\n",
       "    function on_keyboard_event_closure(name) {\n",
       "        return function (event) {\n",
       "            return fig.key_event(event, name);\n",
       "        };\n",
       "    }\n",
       "\n",
       "    canvas_div.addEventListener(\n",
       "        'keydown',\n",
       "        on_keyboard_event_closure('key_press')\n",
       "    );\n",
       "    canvas_div.addEventListener(\n",
       "        'keyup',\n",
       "        on_keyboard_event_closure('key_release')\n",
       "    );\n",
       "\n",
       "    this._canvas_extra_style(canvas_div);\n",
       "    this.root.appendChild(canvas_div);\n",
       "\n",
       "    var canvas = (this.canvas = document.createElement('canvas'));\n",
       "    canvas.classList.add('mpl-canvas');\n",
       "    canvas.setAttribute('style', 'box-sizing: content-box;');\n",
       "\n",
       "    this.context = canvas.getContext('2d');\n",
       "\n",
       "    var backingStore =\n",
       "        this.context.backingStorePixelRatio ||\n",
       "        this.context.webkitBackingStorePixelRatio ||\n",
       "        this.context.mozBackingStorePixelRatio ||\n",
       "        this.context.msBackingStorePixelRatio ||\n",
       "        this.context.oBackingStorePixelRatio ||\n",
       "        this.context.backingStorePixelRatio ||\n",
       "        1;\n",
       "\n",
       "    this.ratio = (window.devicePixelRatio || 1) / backingStore;\n",
       "\n",
       "    var rubberband_canvas = (this.rubberband_canvas = document.createElement(\n",
       "        'canvas'\n",
       "    ));\n",
       "    rubberband_canvas.setAttribute(\n",
       "        'style',\n",
       "        'box-sizing: content-box; position: absolute; left: 0; top: 0; z-index: 1;'\n",
       "    );\n",
       "\n",
       "    // Apply a ponyfill if ResizeObserver is not implemented by browser.\n",
       "    if (this.ResizeObserver === undefined) {\n",
       "        if (window.ResizeObserver !== undefined) {\n",
       "            this.ResizeObserver = window.ResizeObserver;\n",
       "        } else {\n",
       "            var obs = _JSXTOOLS_RESIZE_OBSERVER({});\n",
       "            this.ResizeObserver = obs.ResizeObserver;\n",
       "        }\n",
       "    }\n",
       "\n",
       "    this.resizeObserverInstance = new this.ResizeObserver(function (entries) {\n",
       "        var nentries = entries.length;\n",
       "        for (var i = 0; i < nentries; i++) {\n",
       "            var entry = entries[i];\n",
       "            var width, height;\n",
       "            if (entry.contentBoxSize) {\n",
       "                if (entry.contentBoxSize instanceof Array) {\n",
       "                    // Chrome 84 implements new version of spec.\n",
       "                    width = entry.contentBoxSize[0].inlineSize;\n",
       "                    height = entry.contentBoxSize[0].blockSize;\n",
       "                } else {\n",
       "                    // Firefox implements old version of spec.\n",
       "                    width = entry.contentBoxSize.inlineSize;\n",
       "                    height = entry.contentBoxSize.blockSize;\n",
       "                }\n",
       "            } else {\n",
       "                // Chrome <84 implements even older version of spec.\n",
       "                width = entry.contentRect.width;\n",
       "                height = entry.contentRect.height;\n",
       "            }\n",
       "\n",
       "            // Keep the size of the canvas and rubber band canvas in sync with\n",
       "            // the canvas container.\n",
       "            if (entry.devicePixelContentBoxSize) {\n",
       "                // Chrome 84 implements new version of spec.\n",
       "                canvas.setAttribute(\n",
       "                    'width',\n",
       "                    entry.devicePixelContentBoxSize[0].inlineSize\n",
       "                );\n",
       "                canvas.setAttribute(\n",
       "                    'height',\n",
       "                    entry.devicePixelContentBoxSize[0].blockSize\n",
       "                );\n",
       "            } else {\n",
       "                canvas.setAttribute('width', width * fig.ratio);\n",
       "                canvas.setAttribute('height', height * fig.ratio);\n",
       "            }\n",
       "            canvas.setAttribute(\n",
       "                'style',\n",
       "                'width: ' + width + 'px; height: ' + height + 'px;'\n",
       "            );\n",
       "\n",
       "            rubberband_canvas.setAttribute('width', width);\n",
       "            rubberband_canvas.setAttribute('height', height);\n",
       "\n",
       "            // And update the size in Python. We ignore the initial 0/0 size\n",
       "            // that occurs as the element is placed into the DOM, which should\n",
       "            // otherwise not happen due to the minimum size styling.\n",
       "            if (fig.ws.readyState == 1 && width != 0 && height != 0) {\n",
       "                fig.request_resize(width, height);\n",
       "            }\n",
       "        }\n",
       "    });\n",
       "    this.resizeObserverInstance.observe(canvas_div);\n",
       "\n",
       "    function on_mouse_event_closure(name) {\n",
       "        return function (event) {\n",
       "            return fig.mouse_event(event, name);\n",
       "        };\n",
       "    }\n",
       "\n",
       "    rubberband_canvas.addEventListener(\n",
       "        'mousedown',\n",
       "        on_mouse_event_closure('button_press')\n",
       "    );\n",
       "    rubberband_canvas.addEventListener(\n",
       "        'mouseup',\n",
       "        on_mouse_event_closure('button_release')\n",
       "    );\n",
       "    // Throttle sequential mouse events to 1 every 20ms.\n",
       "    rubberband_canvas.addEventListener(\n",
       "        'mousemove',\n",
       "        on_mouse_event_closure('motion_notify')\n",
       "    );\n",
       "\n",
       "    rubberband_canvas.addEventListener(\n",
       "        'mouseenter',\n",
       "        on_mouse_event_closure('figure_enter')\n",
       "    );\n",
       "    rubberband_canvas.addEventListener(\n",
       "        'mouseleave',\n",
       "        on_mouse_event_closure('figure_leave')\n",
       "    );\n",
       "\n",
       "    canvas_div.addEventListener('wheel', function (event) {\n",
       "        if (event.deltaY < 0) {\n",
       "            event.step = 1;\n",
       "        } else {\n",
       "            event.step = -1;\n",
       "        }\n",
       "        on_mouse_event_closure('scroll')(event);\n",
       "    });\n",
       "\n",
       "    canvas_div.appendChild(canvas);\n",
       "    canvas_div.appendChild(rubberband_canvas);\n",
       "\n",
       "    this.rubberband_context = rubberband_canvas.getContext('2d');\n",
       "    this.rubberband_context.strokeStyle = '#000000';\n",
       "\n",
       "    this._resize_canvas = function (width, height, forward) {\n",
       "        if (forward) {\n",
       "            canvas_div.style.width = width + 'px';\n",
       "            canvas_div.style.height = height + 'px';\n",
       "        }\n",
       "    };\n",
       "\n",
       "    // Disable right mouse context menu.\n",
       "    this.rubberband_canvas.addEventListener('contextmenu', function (_e) {\n",
       "        event.preventDefault();\n",
       "        return false;\n",
       "    });\n",
       "\n",
       "    function set_focus() {\n",
       "        canvas.focus();\n",
       "        canvas_div.focus();\n",
       "    }\n",
       "\n",
       "    window.setTimeout(set_focus, 100);\n",
       "};\n",
       "\n",
       "mpl.figure.prototype._init_toolbar = function () {\n",
       "    var fig = this;\n",
       "\n",
       "    var toolbar = document.createElement('div');\n",
       "    toolbar.classList = 'mpl-toolbar';\n",
       "    this.root.appendChild(toolbar);\n",
       "\n",
       "    function on_click_closure(name) {\n",
       "        return function (_event) {\n",
       "            return fig.toolbar_button_onclick(name);\n",
       "        };\n",
       "    }\n",
       "\n",
       "    function on_mouseover_closure(tooltip) {\n",
       "        return function (event) {\n",
       "            if (!event.currentTarget.disabled) {\n",
       "                return fig.toolbar_button_onmouseover(tooltip);\n",
       "            }\n",
       "        };\n",
       "    }\n",
       "\n",
       "    fig.buttons = {};\n",
       "    var buttonGroup = document.createElement('div');\n",
       "    buttonGroup.classList = 'mpl-button-group';\n",
       "    for (var toolbar_ind in mpl.toolbar_items) {\n",
       "        var name = mpl.toolbar_items[toolbar_ind][0];\n",
       "        var tooltip = mpl.toolbar_items[toolbar_ind][1];\n",
       "        var image = mpl.toolbar_items[toolbar_ind][2];\n",
       "        var method_name = mpl.toolbar_items[toolbar_ind][3];\n",
       "\n",
       "        if (!name) {\n",
       "            /* Instead of a spacer, we start a new button group. */\n",
       "            if (buttonGroup.hasChildNodes()) {\n",
       "                toolbar.appendChild(buttonGroup);\n",
       "            }\n",
       "            buttonGroup = document.createElement('div');\n",
       "            buttonGroup.classList = 'mpl-button-group';\n",
       "            continue;\n",
       "        }\n",
       "\n",
       "        var button = (fig.buttons[name] = document.createElement('button'));\n",
       "        button.classList = 'mpl-widget';\n",
       "        button.setAttribute('role', 'button');\n",
       "        button.setAttribute('aria-disabled', 'false');\n",
       "        button.addEventListener('click', on_click_closure(method_name));\n",
       "        button.addEventListener('mouseover', on_mouseover_closure(tooltip));\n",
       "\n",
       "        var icon_img = document.createElement('img');\n",
       "        icon_img.src = '_images/' + image + '.png';\n",
       "        icon_img.srcset = '_images/' + image + '_large.png 2x';\n",
       "        icon_img.alt = tooltip;\n",
       "        button.appendChild(icon_img);\n",
       "\n",
       "        buttonGroup.appendChild(button);\n",
       "    }\n",
       "\n",
       "    if (buttonGroup.hasChildNodes()) {\n",
       "        toolbar.appendChild(buttonGroup);\n",
       "    }\n",
       "\n",
       "    var fmt_picker = document.createElement('select');\n",
       "    fmt_picker.classList = 'mpl-widget';\n",
       "    toolbar.appendChild(fmt_picker);\n",
       "    this.format_dropdown = fmt_picker;\n",
       "\n",
       "    for (var ind in mpl.extensions) {\n",
       "        var fmt = mpl.extensions[ind];\n",
       "        var option = document.createElement('option');\n",
       "        option.selected = fmt === mpl.default_extension;\n",
       "        option.innerHTML = fmt;\n",
       "        fmt_picker.appendChild(option);\n",
       "    }\n",
       "\n",
       "    var status_bar = document.createElement('span');\n",
       "    status_bar.classList = 'mpl-message';\n",
       "    toolbar.appendChild(status_bar);\n",
       "    this.message = status_bar;\n",
       "};\n",
       "\n",
       "mpl.figure.prototype.request_resize = function (x_pixels, y_pixels) {\n",
       "    // Request matplotlib to resize the figure. Matplotlib will then trigger a resize in the client,\n",
       "    // which will in turn request a refresh of the image.\n",
       "    this.send_message('resize', { width: x_pixels, height: y_pixels });\n",
       "};\n",
       "\n",
       "mpl.figure.prototype.send_message = function (type, properties) {\n",
       "    properties['type'] = type;\n",
       "    properties['figure_id'] = this.id;\n",
       "    this.ws.send(JSON.stringify(properties));\n",
       "};\n",
       "\n",
       "mpl.figure.prototype.send_draw_message = function () {\n",
       "    if (!this.waiting) {\n",
       "        this.waiting = true;\n",
       "        this.ws.send(JSON.stringify({ type: 'draw', figure_id: this.id }));\n",
       "    }\n",
       "};\n",
       "\n",
       "mpl.figure.prototype.handle_save = function (fig, _msg) {\n",
       "    var format_dropdown = fig.format_dropdown;\n",
       "    var format = format_dropdown.options[format_dropdown.selectedIndex].value;\n",
       "    fig.ondownload(fig, format);\n",
       "};\n",
       "\n",
       "mpl.figure.prototype.handle_resize = function (fig, msg) {\n",
       "    var size = msg['size'];\n",
       "    if (size[0] !== fig.canvas.width || size[1] !== fig.canvas.height) {\n",
       "        fig._resize_canvas(size[0], size[1], msg['forward']);\n",
       "        fig.send_message('refresh', {});\n",
       "    }\n",
       "};\n",
       "\n",
       "mpl.figure.prototype.handle_rubberband = function (fig, msg) {\n",
       "    var x0 = msg['x0'] / fig.ratio;\n",
       "    var y0 = (fig.canvas.height - msg['y0']) / fig.ratio;\n",
       "    var x1 = msg['x1'] / fig.ratio;\n",
       "    var y1 = (fig.canvas.height - msg['y1']) / fig.ratio;\n",
       "    x0 = Math.floor(x0) + 0.5;\n",
       "    y0 = Math.floor(y0) + 0.5;\n",
       "    x1 = Math.floor(x1) + 0.5;\n",
       "    y1 = Math.floor(y1) + 0.5;\n",
       "    var min_x = Math.min(x0, x1);\n",
       "    var min_y = Math.min(y0, y1);\n",
       "    var width = Math.abs(x1 - x0);\n",
       "    var height = Math.abs(y1 - y0);\n",
       "\n",
       "    fig.rubberband_context.clearRect(\n",
       "        0,\n",
       "        0,\n",
       "        fig.canvas.width / fig.ratio,\n",
       "        fig.canvas.height / fig.ratio\n",
       "    );\n",
       "\n",
       "    fig.rubberband_context.strokeRect(min_x, min_y, width, height);\n",
       "};\n",
       "\n",
       "mpl.figure.prototype.handle_figure_label = function (fig, msg) {\n",
       "    // Updates the figure title.\n",
       "    fig.header.textContent = msg['label'];\n",
       "};\n",
       "\n",
       "mpl.figure.prototype.handle_cursor = function (fig, msg) {\n",
       "    var cursor = msg['cursor'];\n",
       "    switch (cursor) {\n",
       "        case 0:\n",
       "            cursor = 'pointer';\n",
       "            break;\n",
       "        case 1:\n",
       "            cursor = 'default';\n",
       "            break;\n",
       "        case 2:\n",
       "            cursor = 'crosshair';\n",
       "            break;\n",
       "        case 3:\n",
       "            cursor = 'move';\n",
       "            break;\n",
       "    }\n",
       "    fig.rubberband_canvas.style.cursor = cursor;\n",
       "};\n",
       "\n",
       "mpl.figure.prototype.handle_message = function (fig, msg) {\n",
       "    fig.message.textContent = msg['message'];\n",
       "};\n",
       "\n",
       "mpl.figure.prototype.handle_draw = function (fig, _msg) {\n",
       "    // Request the server to send over a new figure.\n",
       "    fig.send_draw_message();\n",
       "};\n",
       "\n",
       "mpl.figure.prototype.handle_image_mode = function (fig, msg) {\n",
       "    fig.image_mode = msg['mode'];\n",
       "};\n",
       "\n",
       "mpl.figure.prototype.handle_history_buttons = function (fig, msg) {\n",
       "    for (var key in msg) {\n",
       "        if (!(key in fig.buttons)) {\n",
       "            continue;\n",
       "        }\n",
       "        fig.buttons[key].disabled = !msg[key];\n",
       "        fig.buttons[key].setAttribute('aria-disabled', !msg[key]);\n",
       "    }\n",
       "};\n",
       "\n",
       "mpl.figure.prototype.handle_navigate_mode = function (fig, msg) {\n",
       "    if (msg['mode'] === 'PAN') {\n",
       "        fig.buttons['Pan'].classList.add('active');\n",
       "        fig.buttons['Zoom'].classList.remove('active');\n",
       "    } else if (msg['mode'] === 'ZOOM') {\n",
       "        fig.buttons['Pan'].classList.remove('active');\n",
       "        fig.buttons['Zoom'].classList.add('active');\n",
       "    } else {\n",
       "        fig.buttons['Pan'].classList.remove('active');\n",
       "        fig.buttons['Zoom'].classList.remove('active');\n",
       "    }\n",
       "};\n",
       "\n",
       "mpl.figure.prototype.updated_canvas_event = function () {\n",
       "    // Called whenever the canvas gets updated.\n",
       "    this.send_message('ack', {});\n",
       "};\n",
       "\n",
       "// A function to construct a web socket function for onmessage handling.\n",
       "// Called in the figure constructor.\n",
       "mpl.figure.prototype._make_on_message_function = function (fig) {\n",
       "    return function socket_on_message(evt) {\n",
       "        if (evt.data instanceof Blob) {\n",
       "            /* FIXME: We get \"Resource interpreted as Image but\n",
       "             * transferred with MIME type text/plain:\" errors on\n",
       "             * Chrome.  But how to set the MIME type?  It doesn't seem\n",
       "             * to be part of the websocket stream */\n",
       "            evt.data.type = 'image/png';\n",
       "\n",
       "            /* Free the memory for the previous frames */\n",
       "            if (fig.imageObj.src) {\n",
       "                (window.URL || window.webkitURL).revokeObjectURL(\n",
       "                    fig.imageObj.src\n",
       "                );\n",
       "            }\n",
       "\n",
       "            fig.imageObj.src = (window.URL || window.webkitURL).createObjectURL(\n",
       "                evt.data\n",
       "            );\n",
       "            fig.updated_canvas_event();\n",
       "            fig.waiting = false;\n",
       "            return;\n",
       "        } else if (\n",
       "            typeof evt.data === 'string' &&\n",
       "            evt.data.slice(0, 21) === 'data:image/png;base64'\n",
       "        ) {\n",
       "            fig.imageObj.src = evt.data;\n",
       "            fig.updated_canvas_event();\n",
       "            fig.waiting = false;\n",
       "            return;\n",
       "        }\n",
       "\n",
       "        var msg = JSON.parse(evt.data);\n",
       "        var msg_type = msg['type'];\n",
       "\n",
       "        // Call the  \"handle_{type}\" callback, which takes\n",
       "        // the figure and JSON message as its only arguments.\n",
       "        try {\n",
       "            var callback = fig['handle_' + msg_type];\n",
       "        } catch (e) {\n",
       "            console.log(\n",
       "                \"No handler for the '\" + msg_type + \"' message type: \",\n",
       "                msg\n",
       "            );\n",
       "            return;\n",
       "        }\n",
       "\n",
       "        if (callback) {\n",
       "            try {\n",
       "                // console.log(\"Handling '\" + msg_type + \"' message: \", msg);\n",
       "                callback(fig, msg);\n",
       "            } catch (e) {\n",
       "                console.log(\n",
       "                    \"Exception inside the 'handler_\" + msg_type + \"' callback:\",\n",
       "                    e,\n",
       "                    e.stack,\n",
       "                    msg\n",
       "                );\n",
       "            }\n",
       "        }\n",
       "    };\n",
       "};\n",
       "\n",
       "// from http://stackoverflow.com/questions/1114465/getting-mouse-location-in-canvas\n",
       "mpl.findpos = function (e) {\n",
       "    //this section is from http://www.quirksmode.org/js/events_properties.html\n",
       "    var targ;\n",
       "    if (!e) {\n",
       "        e = window.event;\n",
       "    }\n",
       "    if (e.target) {\n",
       "        targ = e.target;\n",
       "    } else if (e.srcElement) {\n",
       "        targ = e.srcElement;\n",
       "    }\n",
       "    if (targ.nodeType === 3) {\n",
       "        // defeat Safari bug\n",
       "        targ = targ.parentNode;\n",
       "    }\n",
       "\n",
       "    // pageX,Y are the mouse positions relative to the document\n",
       "    var boundingRect = targ.getBoundingClientRect();\n",
       "    var x = e.pageX - (boundingRect.left + document.body.scrollLeft);\n",
       "    var y = e.pageY - (boundingRect.top + document.body.scrollTop);\n",
       "\n",
       "    return { x: x, y: y };\n",
       "};\n",
       "\n",
       "/*\n",
       " * return a copy of an object with only non-object keys\n",
       " * we need this to avoid circular references\n",
       " * http://stackoverflow.com/a/24161582/3208463\n",
       " */\n",
       "function simpleKeys(original) {\n",
       "    return Object.keys(original).reduce(function (obj, key) {\n",
       "        if (typeof original[key] !== 'object') {\n",
       "            obj[key] = original[key];\n",
       "        }\n",
       "        return obj;\n",
       "    }, {});\n",
       "}\n",
       "\n",
       "mpl.figure.prototype.mouse_event = function (event, name) {\n",
       "    var canvas_pos = mpl.findpos(event);\n",
       "\n",
       "    if (name === 'button_press') {\n",
       "        this.canvas.focus();\n",
       "        this.canvas_div.focus();\n",
       "    }\n",
       "\n",
       "    var x = canvas_pos.x * this.ratio;\n",
       "    var y = canvas_pos.y * this.ratio;\n",
       "\n",
       "    this.send_message(name, {\n",
       "        x: x,\n",
       "        y: y,\n",
       "        button: event.button,\n",
       "        step: event.step,\n",
       "        guiEvent: simpleKeys(event),\n",
       "    });\n",
       "\n",
       "    /* This prevents the web browser from automatically changing to\n",
       "     * the text insertion cursor when the button is pressed.  We want\n",
       "     * to control all of the cursor setting manually through the\n",
       "     * 'cursor' event from matplotlib */\n",
       "    event.preventDefault();\n",
       "    return false;\n",
       "};\n",
       "\n",
       "mpl.figure.prototype._key_event_extra = function (_event, _name) {\n",
       "    // Handle any extra behaviour associated with a key event\n",
       "};\n",
       "\n",
       "mpl.figure.prototype.key_event = function (event, name) {\n",
       "    // Prevent repeat events\n",
       "    if (name === 'key_press') {\n",
       "        if (event.which === this._key) {\n",
       "            return;\n",
       "        } else {\n",
       "            this._key = event.which;\n",
       "        }\n",
       "    }\n",
       "    if (name === 'key_release') {\n",
       "        this._key = null;\n",
       "    }\n",
       "\n",
       "    var value = '';\n",
       "    if (event.ctrlKey && event.which !== 17) {\n",
       "        value += 'ctrl+';\n",
       "    }\n",
       "    if (event.altKey && event.which !== 18) {\n",
       "        value += 'alt+';\n",
       "    }\n",
       "    if (event.shiftKey && event.which !== 16) {\n",
       "        value += 'shift+';\n",
       "    }\n",
       "\n",
       "    value += 'k';\n",
       "    value += event.which.toString();\n",
       "\n",
       "    this._key_event_extra(event, name);\n",
       "\n",
       "    this.send_message(name, { key: value, guiEvent: simpleKeys(event) });\n",
       "    return false;\n",
       "};\n",
       "\n",
       "mpl.figure.prototype.toolbar_button_onclick = function (name) {\n",
       "    if (name === 'download') {\n",
       "        this.handle_save(this, null);\n",
       "    } else {\n",
       "        this.send_message('toolbar_button', { name: name });\n",
       "    }\n",
       "};\n",
       "\n",
       "mpl.figure.prototype.toolbar_button_onmouseover = function (tooltip) {\n",
       "    this.message.textContent = tooltip;\n",
       "};\n",
       "\n",
       "///////////////// REMAINING CONTENT GENERATED BY embed_js.py /////////////////\n",
       "// prettier-ignore\n",
       "var _JSXTOOLS_RESIZE_OBSERVER=function(A){var t,i=new WeakMap,n=new WeakMap,a=new WeakMap,r=new WeakMap,o=new Set;function s(e){if(!(this instanceof s))throw new TypeError(\"Constructor requires 'new' operator\");i.set(this,e)}function h(){throw new TypeError(\"Function is not a constructor\")}function c(e,t,i,n){e=0 in arguments?Number(arguments[0]):0,t=1 in arguments?Number(arguments[1]):0,i=2 in arguments?Number(arguments[2]):0,n=3 in arguments?Number(arguments[3]):0,this.right=(this.x=this.left=e)+(this.width=i),this.bottom=(this.y=this.top=t)+(this.height=n),Object.freeze(this)}function d(){t=requestAnimationFrame(d);var s=new WeakMap,p=new Set;o.forEach((function(t){r.get(t).forEach((function(i){var r=t instanceof window.SVGElement,o=a.get(t),d=r?0:parseFloat(o.paddingTop),f=r?0:parseFloat(o.paddingRight),l=r?0:parseFloat(o.paddingBottom),u=r?0:parseFloat(o.paddingLeft),g=r?0:parseFloat(o.borderTopWidth),m=r?0:parseFloat(o.borderRightWidth),w=r?0:parseFloat(o.borderBottomWidth),b=u+f,F=d+l,v=(r?0:parseFloat(o.borderLeftWidth))+m,W=g+w,y=r?0:t.offsetHeight-W-t.clientHeight,E=r?0:t.offsetWidth-v-t.clientWidth,R=b+v,z=F+W,M=r?t.width:parseFloat(o.width)-R-E,O=r?t.height:parseFloat(o.height)-z-y;if(n.has(t)){var k=n.get(t);if(k[0]===M&&k[1]===O)return}n.set(t,[M,O]);var S=Object.create(h.prototype);S.target=t,S.contentRect=new c(u,d,M,O),s.has(i)||(s.set(i,[]),p.add(i)),s.get(i).push(S)}))})),p.forEach((function(e){i.get(e).call(e,s.get(e),e)}))}return s.prototype.observe=function(i){if(i instanceof window.Element){r.has(i)||(r.set(i,new Set),o.add(i),a.set(i,window.getComputedStyle(i)));var n=r.get(i);n.has(this)||n.add(this),cancelAnimationFrame(t),t=requestAnimationFrame(d)}},s.prototype.unobserve=function(i){if(i instanceof window.Element&&r.has(i)){var n=r.get(i);n.has(this)&&(n.delete(this),n.size||(r.delete(i),o.delete(i))),n.size||r.delete(i),o.size||cancelAnimationFrame(t)}},A.DOMRectReadOnly=c,A.ResizeObserver=s,A.ResizeObserverEntry=h,A}; // eslint-disable-line\n",
       "mpl.toolbar_items = [[\"Home\", \"Reset original view\", \"fa fa-home icon-home\", \"home\"], [\"Back\", \"Back to previous view\", \"fa fa-arrow-left icon-arrow-left\", \"back\"], [\"Forward\", \"Forward to next view\", \"fa fa-arrow-right icon-arrow-right\", \"forward\"], [\"\", \"\", \"\", \"\"], [\"Pan\", \"Left button pans, Right button zooms\\nx/y fixes axis, CTRL fixes aspect\", \"fa fa-arrows icon-move\", \"pan\"], [\"Zoom\", \"Zoom to rectangle\\nx/y fixes axis, CTRL fixes aspect\", \"fa fa-square-o icon-check-empty\", \"zoom\"], [\"\", \"\", \"\", \"\"], [\"Download\", \"Download plot\", \"fa fa-floppy-o icon-save\", \"download\"]];\n",
       "\n",
       "mpl.extensions = [\"eps\", \"jpeg\", \"pdf\", \"png\", \"ps\", \"raw\", \"svg\", \"tif\"];\n",
       "\n",
       "mpl.default_extension = \"png\";/* global mpl */\n",
       "\n",
       "var comm_websocket_adapter = function (comm) {\n",
       "    // Create a \"websocket\"-like object which calls the given IPython comm\n",
       "    // object with the appropriate methods. Currently this is a non binary\n",
       "    // socket, so there is still some room for performance tuning.\n",
       "    var ws = {};\n",
       "\n",
       "    ws.close = function () {\n",
       "        comm.close();\n",
       "    };\n",
       "    ws.send = function (m) {\n",
       "        //console.log('sending', m);\n",
       "        comm.send(m);\n",
       "    };\n",
       "    // Register the callback with on_msg.\n",
       "    comm.on_msg(function (msg) {\n",
       "        //console.log('receiving', msg['content']['data'], msg);\n",
       "        // Pass the mpl event to the overridden (by mpl) onmessage function.\n",
       "        ws.onmessage(msg['content']['data']);\n",
       "    });\n",
       "    return ws;\n",
       "};\n",
       "\n",
       "mpl.mpl_figure_comm = function (comm, msg) {\n",
       "    // This is the function which gets called when the mpl process\n",
       "    // starts-up an IPython Comm through the \"matplotlib\" channel.\n",
       "\n",
       "    var id = msg.content.data.id;\n",
       "    // Get hold of the div created by the display call when the Comm\n",
       "    // socket was opened in Python.\n",
       "    var element = document.getElementById(id);\n",
       "    var ws_proxy = comm_websocket_adapter(comm);\n",
       "\n",
       "    function ondownload(figure, _format) {\n",
       "        window.open(figure.canvas.toDataURL());\n",
       "    }\n",
       "\n",
       "    var fig = new mpl.figure(id, ws_proxy, ondownload, element);\n",
       "\n",
       "    // Call onopen now - mpl needs it, as it is assuming we've passed it a real\n",
       "    // web socket which is closed, not our websocket->open comm proxy.\n",
       "    ws_proxy.onopen();\n",
       "\n",
       "    fig.parent_element = element;\n",
       "    fig.cell_info = mpl.find_output_cell(\"<div id='\" + id + \"'></div>\");\n",
       "    if (!fig.cell_info) {\n",
       "        console.error('Failed to find cell for figure', id, fig);\n",
       "        return;\n",
       "    }\n",
       "    fig.cell_info[0].output_area.element.on(\n",
       "        'cleared',\n",
       "        { fig: fig },\n",
       "        fig._remove_fig_handler\n",
       "    );\n",
       "};\n",
       "\n",
       "mpl.figure.prototype.handle_close = function (fig, msg) {\n",
       "    var width = fig.canvas.width / fig.ratio;\n",
       "    fig.cell_info[0].output_area.element.off(\n",
       "        'cleared',\n",
       "        fig._remove_fig_handler\n",
       "    );\n",
       "    fig.resizeObserverInstance.unobserve(fig.canvas_div);\n",
       "\n",
       "    // Update the output cell to use the data from the current canvas.\n",
       "    fig.push_to_output();\n",
       "    var dataURL = fig.canvas.toDataURL();\n",
       "    // Re-enable the keyboard manager in IPython - without this line, in FF,\n",
       "    // the notebook keyboard shortcuts fail.\n",
       "    IPython.keyboard_manager.enable();\n",
       "    fig.parent_element.innerHTML =\n",
       "        '<img src=\"' + dataURL + '\" width=\"' + width + '\">';\n",
       "    fig.close_ws(fig, msg);\n",
       "};\n",
       "\n",
       "mpl.figure.prototype.close_ws = function (fig, msg) {\n",
       "    fig.send_message('closing', msg);\n",
       "    // fig.ws.close()\n",
       "};\n",
       "\n",
       "mpl.figure.prototype.push_to_output = function (_remove_interactive) {\n",
       "    // Turn the data on the canvas into data in the output cell.\n",
       "    var width = this.canvas.width / this.ratio;\n",
       "    var dataURL = this.canvas.toDataURL();\n",
       "    this.cell_info[1]['text/html'] =\n",
       "        '<img src=\"' + dataURL + '\" width=\"' + width + '\">';\n",
       "};\n",
       "\n",
       "mpl.figure.prototype.updated_canvas_event = function () {\n",
       "    // Tell IPython that the notebook contents must change.\n",
       "    IPython.notebook.set_dirty(true);\n",
       "    this.send_message('ack', {});\n",
       "    var fig = this;\n",
       "    // Wait a second, then push the new image to the DOM so\n",
       "    // that it is saved nicely (might be nice to debounce this).\n",
       "    setTimeout(function () {\n",
       "        fig.push_to_output();\n",
       "    }, 1000);\n",
       "};\n",
       "\n",
       "mpl.figure.prototype._init_toolbar = function () {\n",
       "    var fig = this;\n",
       "\n",
       "    var toolbar = document.createElement('div');\n",
       "    toolbar.classList = 'btn-toolbar';\n",
       "    this.root.appendChild(toolbar);\n",
       "\n",
       "    function on_click_closure(name) {\n",
       "        return function (_event) {\n",
       "            return fig.toolbar_button_onclick(name);\n",
       "        };\n",
       "    }\n",
       "\n",
       "    function on_mouseover_closure(tooltip) {\n",
       "        return function (event) {\n",
       "            if (!event.currentTarget.disabled) {\n",
       "                return fig.toolbar_button_onmouseover(tooltip);\n",
       "            }\n",
       "        };\n",
       "    }\n",
       "\n",
       "    fig.buttons = {};\n",
       "    var buttonGroup = document.createElement('div');\n",
       "    buttonGroup.classList = 'btn-group';\n",
       "    var button;\n",
       "    for (var toolbar_ind in mpl.toolbar_items) {\n",
       "        var name = mpl.toolbar_items[toolbar_ind][0];\n",
       "        var tooltip = mpl.toolbar_items[toolbar_ind][1];\n",
       "        var image = mpl.toolbar_items[toolbar_ind][2];\n",
       "        var method_name = mpl.toolbar_items[toolbar_ind][3];\n",
       "\n",
       "        if (!name) {\n",
       "            /* Instead of a spacer, we start a new button group. */\n",
       "            if (buttonGroup.hasChildNodes()) {\n",
       "                toolbar.appendChild(buttonGroup);\n",
       "            }\n",
       "            buttonGroup = document.createElement('div');\n",
       "            buttonGroup.classList = 'btn-group';\n",
       "            continue;\n",
       "        }\n",
       "\n",
       "        button = fig.buttons[name] = document.createElement('button');\n",
       "        button.classList = 'btn btn-default';\n",
       "        button.href = '#';\n",
       "        button.title = name;\n",
       "        button.innerHTML = '<i class=\"fa ' + image + ' fa-lg\"></i>';\n",
       "        button.addEventListener('click', on_click_closure(method_name));\n",
       "        button.addEventListener('mouseover', on_mouseover_closure(tooltip));\n",
       "        buttonGroup.appendChild(button);\n",
       "    }\n",
       "\n",
       "    if (buttonGroup.hasChildNodes()) {\n",
       "        toolbar.appendChild(buttonGroup);\n",
       "    }\n",
       "\n",
       "    // Add the status bar.\n",
       "    var status_bar = document.createElement('span');\n",
       "    status_bar.classList = 'mpl-message pull-right';\n",
       "    toolbar.appendChild(status_bar);\n",
       "    this.message = status_bar;\n",
       "\n",
       "    // Add the close button to the window.\n",
       "    var buttongrp = document.createElement('div');\n",
       "    buttongrp.classList = 'btn-group inline pull-right';\n",
       "    button = document.createElement('button');\n",
       "    button.classList = 'btn btn-mini btn-primary';\n",
       "    button.href = '#';\n",
       "    button.title = 'Stop Interaction';\n",
       "    button.innerHTML = '<i class=\"fa fa-power-off icon-remove icon-large\"></i>';\n",
       "    button.addEventListener('click', function (_evt) {\n",
       "        fig.handle_close(fig, {});\n",
       "    });\n",
       "    button.addEventListener(\n",
       "        'mouseover',\n",
       "        on_mouseover_closure('Stop Interaction')\n",
       "    );\n",
       "    buttongrp.appendChild(button);\n",
       "    var titlebar = this.root.querySelector('.ui-dialog-titlebar');\n",
       "    titlebar.insertBefore(buttongrp, titlebar.firstChild);\n",
       "};\n",
       "\n",
       "mpl.figure.prototype._remove_fig_handler = function (event) {\n",
       "    var fig = event.data.fig;\n",
       "    if (event.target !== this) {\n",
       "        // Ignore bubbled events from children.\n",
       "        return;\n",
       "    }\n",
       "    fig.close_ws(fig, {});\n",
       "};\n",
       "\n",
       "mpl.figure.prototype._root_extra_style = function (el) {\n",
       "    el.style.boxSizing = 'content-box'; // override notebook setting of border-box.\n",
       "};\n",
       "\n",
       "mpl.figure.prototype._canvas_extra_style = function (el) {\n",
       "    // this is important to make the div 'focusable\n",
       "    el.setAttribute('tabindex', 0);\n",
       "    // reach out to IPython and tell the keyboard manager to turn it's self\n",
       "    // off when our div gets focus\n",
       "\n",
       "    // location in version 3\n",
       "    if (IPython.notebook.keyboard_manager) {\n",
       "        IPython.notebook.keyboard_manager.register_events(el);\n",
       "    } else {\n",
       "        // location in version 2\n",
       "        IPython.keyboard_manager.register_events(el);\n",
       "    }\n",
       "};\n",
       "\n",
       "mpl.figure.prototype._key_event_extra = function (event, _name) {\n",
       "    var manager = IPython.notebook.keyboard_manager;\n",
       "    if (!manager) {\n",
       "        manager = IPython.keyboard_manager;\n",
       "    }\n",
       "\n",
       "    // Check for shift+enter\n",
       "    if (event.shiftKey && event.which === 13) {\n",
       "        this.canvas_div.blur();\n",
       "        // select the cell after this one\n",
       "        var index = IPython.notebook.find_cell_index(this.cell_info[0]);\n",
       "        IPython.notebook.select(index + 1);\n",
       "    }\n",
       "};\n",
       "\n",
       "mpl.figure.prototype.handle_save = function (fig, _msg) {\n",
       "    fig.ondownload(fig, null);\n",
       "};\n",
       "\n",
       "mpl.find_output_cell = function (html_output) {\n",
       "    // Return the cell and output element which can be found *uniquely* in the notebook.\n",
       "    // Note - this is a bit hacky, but it is done because the \"notebook_saving.Notebook\"\n",
       "    // IPython event is triggered only after the cells have been serialised, which for\n",
       "    // our purposes (turning an active figure into a static one), is too late.\n",
       "    var cells = IPython.notebook.get_cells();\n",
       "    var ncells = cells.length;\n",
       "    for (var i = 0; i < ncells; i++) {\n",
       "        var cell = cells[i];\n",
       "        if (cell.cell_type === 'code') {\n",
       "            for (var j = 0; j < cell.output_area.outputs.length; j++) {\n",
       "                var data = cell.output_area.outputs[j];\n",
       "                if (data.data) {\n",
       "                    // IPython >= 3 moved mimebundle to data attribute of output\n",
       "                    data = data.data;\n",
       "                }\n",
       "                if (data['text/html'] === html_output) {\n",
       "                    return [cell, data, j];\n",
       "                }\n",
       "            }\n",
       "        }\n",
       "    }\n",
       "};\n",
       "\n",
       "// Register the function which deals with the matplotlib target/channel.\n",
       "// The kernel may be null if the page has been refreshed.\n",
       "if (IPython.notebook.kernel !== null) {\n",
       "    IPython.notebook.kernel.comm_manager.register_target(\n",
       "        'matplotlib',\n",
       "        mpl.mpl_figure_comm\n",
       "    );\n",
       "}\n"
      ],
      "text/plain": [
       "<IPython.core.display.Javascript object>"
      ]
     },
     "metadata": {},
     "output_type": "display_data"
    },
    {
     "data": {
      "text/html": [
       "<img src=\"data:image/png;base64,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\" width=\"639.85\">"
      ],
      "text/plain": [
       "<IPython.core.display.HTML object>"
      ]
     },
     "metadata": {},
     "output_type": "display_data"
    }
   ],
   "source": [
    "grafico3d()"
   ]
  },
  {
   "cell_type": "markdown",
   "id": "6492a848",
   "metadata": {
    "slideshow": {
     "slide_type": "notes"
    }
   },
   "source": [
    "Hay un grafico 3d en https://youtu.be/cxXL5A4u-D8?t=1366"
   ]
  },
  {
   "cell_type": "markdown",
   "id": "d197c4b3",
   "metadata": {
    "slideshow": {
     "slide_type": "slide"
    }
   },
   "source": [
    "# Jupyter Lab\n",
    "- Multiples notebooks.\n",
    "- Navegador de archivos propio.\n",
    "- índice.\n",
    "- Fácil instalacion de extensiones.\n",
    "- Modificar la interfaz.\n",
    "- Sensación de IDE/editor de código."
   ]
  },
  {
   "cell_type": "markdown",
   "id": "21f5d064",
   "metadata": {
    "slideshow": {
     "slide_type": "notes"
    }
   },
   "source": [
    "**Jupyter Lab (JL)** es una tecnología brindada por [Proyect Jupyter](https://jupyter.org/) que nos permite abrir multiples notebooks con distintos kernels (mas adelante en este notebook se explican los kernels) en la misma interfaz. Nos permite encontrar muy facilmente los notebooks y abrirlos en diferentes \"pestañas\" a través del navegador de archivos, a diferencia de los notebooks que se abren en pestañas independientes y tenemos que buscarlos en el dashboard (panel) de Jupyter Notebooks.\n",
    "\n",
    "Contiene un índice que nos permite saltar de un título a otro dentro del notebook sin necesidad de extensiones.\n",
    "\n",
    "Nos ofrece facilidad para el manejo de extensiones, siendo mas facil instalarlas sin tener la necesidad de ejecutar un comando por consola.\n",
    "\n",
    "Otra funcionalidad que nos ofrece **JL** es la posibilidad de modificar la interfaz a gusto, como activar el modo oscuro, activar/desactivar el autoguardado, aumentar/disminuir el tamaño del texto, aumentar/disminuir el tamaño de la interfaz y muchas cosas más.\n",
    "\n",
    "Nos da una sensación de que estamos trabajando dentro de un editor de códigom ya que su interfaz es muy parecida la de **Visual Studio Code**"
   ]
  },
  {
   "cell_type": "markdown",
   "id": "271c031e",
   "metadata": {
    "slideshow": {
     "slide_type": "slide"
    }
   },
   "source": [
    "# Ofertas laborales\n",
    "- Mercado Libre - Data Analytics. [Publicación](https://www.linkedin.com/jobs/view/2633163339/?eBP=JOB_SEARCH_ORGANIC&recommendedFlavor=ACTIVELY_HIRING_COMPANY&refId=%2BZ6KacA5ai%2BCyuBPXBOd%2Bg%3D%3D&trackingId=anEfsbuPtIxPl6iMHqNlWQ%3D%3D&trk=flagship3_search_srp_jobs)\n",
    "- Tribes.AI - Data Scientist. [Publicacón](https://www.linkedin.com/jobs/view/2644485465/?eBP=JOB_SEARCH_ORGANIC&recommendedFlavor=JOB_SEEKER_QUALIFIED&refId=%2BZ6KacA5ai%2BCyuBPXBOd%2Bg%3D%3D&trackingId=kU2Y4Ih2UBOMag9onjh4Kg%3D%3D&trk=flagship3_search_srp_jobs)\n",
    "- IBM - Data Scientist. [Publicación](https://www.linkedin.com/jobs/view/2661231372/?eBP=JOB_SEARCH_ORGANIC&recommendedFlavor=ACTIVELY_HIRING_COMPANY&refId=%2BZ6KacA5ai%2BCyuBPXBOd%2Bg%3D%3D&trackingId=VJh5wpKt5IjGH1FyFg7g%2FA%3D%3D&trk=flagship3_search_srp_jobs)\n",
    "- BRIDGE - Python Data Engineer. [Publicación](https://www.linkedin.com/jobs/view/2650054869/?eBP=JOB_SEARCH_ORGANIC&recommendedFlavor=SCHOOL_RECRUIT&refId=%2BZ6KacA5ai%2BCyuBPXBOd%2Bg%3D%3D&trackingId=tzJbXb1YCyJTEzZWz6BW6Q%3D%3D&trk=flagship3_search_srp_jobs)"
   ]
  },
  {
   "cell_type": "markdown",
   "id": "19abf248",
   "metadata": {
    "slideshow": {
     "slide_type": "notes"
    }
   },
   "source": [
    "Las publicaciones fueron tomadas el día 02/08/21, pueden no estar disponibles,"
   ]
  },
  {
   "cell_type": "markdown",
   "id": "119cd706",
   "metadata": {
    "slideshow": {
     "slide_type": "slide"
    }
   },
   "source": [
    "# Kernel"
   ]
  },
  {
   "cell_type": "markdown",
   "id": "35a777e2",
   "metadata": {
    "slideshow": {
     "slide_type": "notes"
    }
   },
   "source": [
    "widgets en https://youtu.be/cxXL5A4u-D8?t=1381"
   ]
  },
  {
   "cell_type": "markdown",
   "id": "6360b845",
   "metadata": {
    "slideshow": {
     "slide_type": "slide"
    }
   },
   "source": [
    "# Widgets"
   ]
  },
  {
   "cell_type": "markdown",
   "id": "d7c66149",
   "metadata": {
    "slideshow": {
     "slide_type": "notes"
    }
   },
   "source": [
    "Los Widgets son una funcionalidad que nos brinda Jupyter que nos permite modificar datos de funciones de forma fácil e interactiva, dandonos la salida de dicha funcion automaticamente, sin tener que modificar el código. Para esto es necesario ejecutar: `pip install ipywidgets` y `jupyter nbextension enable --py widgetsnbextension`"
   ]
  },
  {
   "cell_type": "code",
   "execution_count": 38,
   "id": "0e030399",
   "metadata": {
    "slideshow": {
     "slide_type": "skip"
    }
   },
   "outputs": [],
   "source": [
    "from ipywidgets import interact\n",
    "from IPython.display import display"
   ]
  },
  {
   "cell_type": "code",
   "execution_count": 39,
   "id": "8fa0aa5e",
   "metadata": {
    "slideshow": {
     "slide_type": "skip"
    }
   },
   "outputs": [],
   "source": [
    "def slider(x):\n",
    "    return x"
   ]
  },
  {
   "cell_type": "code",
   "execution_count": 40,
   "id": "304db20c",
   "metadata": {
    "scrolled": true,
    "slideshow": {
     "slide_type": "fragment"
    }
   },
   "outputs": [
    {
     "data": {
      "application/vnd.jupyter.widget-view+json": {
       "model_id": "1956a1889717475d83b1c4abde6188b3",
       "version_major": 2,
       "version_minor": 0
      },
      "text/plain": [
       "interactive(children=(IntSlider(value=10, description='x', max=30, min=-10), Output()), _dom_classes=('widget-…"
      ]
     },
     "metadata": {},
     "output_type": "display_data"
    },
    {
     "data": {
      "text/plain": [
       "<function __main__.slider(x)>"
      ]
     },
     "execution_count": 40,
     "metadata": {},
     "output_type": "execute_result"
    }
   ],
   "source": [
    "interact(slider,x=10)"
   ]
  },
  {
   "cell_type": "code",
   "execution_count": 41,
   "id": "3d961ae2",
   "metadata": {
    "scrolled": false,
    "slideshow": {
     "slide_type": "skip"
    }
   },
   "outputs": [
    {
     "data": {
      "application/vnd.jupyter.widget-view+json": {
       "model_id": "472bd5caed0048e1bebfcba4008f1f1c",
       "version_major": 2,
       "version_minor": 0
      },
      "text/plain": [
       "interactive(children=(Checkbox(value=True, description='x'), FloatSlider(value=1.0, description='y', max=3.0, …"
      ]
     },
     "metadata": {},
     "output_type": "display_data"
    }
   ],
   "source": [
    "@interact(x=True, y=1.0)\n",
    "def g(x,y):\n",
    "    return (x,y)"
   ]
  },
  {
   "cell_type": "markdown",
   "id": "a91ccb9a",
   "metadata": {
    "slideshow": {
     "slide_type": "subslide"
    }
   },
   "source": [
    "## Interacción con gráficos"
   ]
  },
  {
   "cell_type": "code",
   "execution_count": 50,
   "id": "907134fa",
   "metadata": {
    "slideshow": {
     "slide_type": "skip"
    }
   },
   "outputs": [],
   "source": [
    "%matplotlib inline\n",
    "def f1(n):\n",
    "    x=np.arange(-100,100,0.1)\n",
    "    y=x**n\n",
    "    plt.plot(x,y)"
   ]
  },
  {
   "cell_type": "code",
   "execution_count": 51,
   "id": "f764c982",
   "metadata": {
    "slideshow": {
     "slide_type": "fragment"
    }
   },
   "outputs": [
    {
     "data": {
      "application/vnd.jupyter.widget-view+json": {
       "model_id": "5f87a2dd70514d4d8c9b42647cb39b2a",
       "version_major": 2,
       "version_minor": 0
      },
      "text/plain": [
       "interactive(children=(IntSlider(value=5, description='n', max=10, min=1), Output()), _dom_classes=('widget-int…"
      ]
     },
     "metadata": {},
     "output_type": "display_data"
    },
    {
     "data": {
      "text/plain": [
       "<function __main__.f1(n)>"
      ]
     },
     "execution_count": 51,
     "metadata": {},
     "output_type": "execute_result"
    }
   ],
   "source": [
    "interact(f1,n=(1,10,1))"
   ]
  },
  {
   "cell_type": "markdown",
   "id": "f0c0a756",
   "metadata": {
    "slideshow": {
     "slide_type": "slide"
    }
   },
   "source": [
    "# Funciones mágicas\n",
    "- *%timeit* y *%%timeit*\n",
    "- *%store*\n",
    "- *%%html*\n",
    "- *%lsmagic*"
   ]
  },
  {
   "cell_type": "markdown",
   "id": "e55aea6e",
   "metadata": {
    "slideshow": {
     "slide_type": "subslide"
    }
   },
   "source": [
    "## %timeit y %%timeit\n",
    "Nos devuelve el tiempo que tarda en ejecutarse una linea/celda"
   ]
  },
  {
   "cell_type": "code",
   "execution_count": 15,
   "id": "72564d02",
   "metadata": {
    "slideshow": {
     "slide_type": "fragment"
    }
   },
   "outputs": [
    {
     "name": "stdout",
     "output_type": "stream",
     "text": [
      "191 ns ± 0.5 ns per loop (mean ± std. dev. of 7 runs, 10000000 loops each)\n"
     ]
    }
   ],
   "source": [
    "%timeit range(1000)"
   ]
  },
  {
   "cell_type": "code",
   "execution_count": 16,
   "id": "ba956eec",
   "metadata": {
    "scrolled": true,
    "slideshow": {
     "slide_type": "fragment"
    }
   },
   "outputs": [
    {
     "name": "stdout",
     "output_type": "stream",
     "text": [
      "302 µs ± 3.4 µs per loop (mean ± std. dev. of 7 runs, 1000 loops each)\n"
     ]
    }
   ],
   "source": [
    "%%timeit\n",
    "puntos_random(100)\n",
    "dataframe_puntos_random()"
   ]
  },
  {
   "cell_type": "markdown",
   "id": "5d4d79ff",
   "metadata": {
    "slideshow": {
     "slide_type": "subslide"
    }
   },
   "source": [
    "## %store\n",
    "Guarda una variable para usarla en otro notebook. `%store <variable>` para guardarla, `%store -r <variable>` para acceder desde otro notebook"
   ]
  },
  {
   "cell_type": "code",
   "execution_count": 18,
   "id": "f2047f20",
   "metadata": {
    "slideshow": {
     "slide_type": "fragment"
    }
   },
   "outputs": [
    {
     "name": "stdout",
     "output_type": "stream",
     "text": [
      "Stored 'asignatura' (dict)\n"
     ]
    }
   ],
   "source": [
    "asignatura = {'nombre':'Soporte a la gestión da datos con programación visual','profesor':'Mario'}\n",
    "%store asignatura"
   ]
  },
  {
   "cell_type": "markdown",
   "id": "93599101",
   "metadata": {
    "slideshow": {
     "slide_type": "subslide"
    }
   },
   "source": [
    "## %%html\n",
    "Convierte la celda en codigo html"
   ]
  },
  {
   "cell_type": "code",
   "execution_count": 19,
   "id": "0dcd2429",
   "metadata": {
    "slideshow": {
     "slide_type": "fragment"
    }
   },
   "outputs": [
    {
     "data": {
      "text/html": [
       "<h1>Lorem ipsum</h1>\n",
       "<p>Lorem ipsum dolor sit amet, consectetur adipiscing elit, sed do eiusmod tempor incididunt ut labore et dolore magna aliqua. Ut enim ad minim veniam, quis nostrud exercitation ullamco laboris nisi ut aliquip ex ea commodo consequat. Duis aute irure dolor in reprehenderit in voluptate velit esse cillum dolore eu fugiat nulla pariatur. Excepteur sint occaecat cupidatat non proident, sunt in culpa qui officia deserunt mollit anim id est laborum.</p>\n"
      ],
      "text/plain": [
       "<IPython.core.display.HTML object>"
      ]
     },
     "metadata": {},
     "output_type": "display_data"
    }
   ],
   "source": [
    "%%html\n",
    "<h1>Lorem ipsum</h1>\n",
    "<p>Lorem ipsum dolor sit amet, consectetur adipiscing elit, sed do eiusmod tempor incididunt ut labore et dolore magna aliqua. Ut enim ad minim veniam, quis nostrud exercitation ullamco laboris nisi ut aliquip ex ea commodo consequat. Duis aute irure dolor in reprehenderit in voluptate velit esse cillum dolore eu fugiat nulla pariatur. Excepteur sint occaecat cupidatat non proident, sunt in culpa qui officia deserunt mollit anim id est laborum.</p>\n"
   ]
  },
  {
   "cell_type": "markdown",
   "id": "9dc03651",
   "metadata": {
    "slideshow": {
     "slide_type": "subslide"
    }
   },
   "source": [
    "## %lsmagic\n",
    "Muestra todas las funciones magicas. "
   ]
  },
  {
   "cell_type": "code",
   "execution_count": 20,
   "id": "e93945b5",
   "metadata": {
    "scrolled": true,
    "slideshow": {
     "slide_type": "fragment"
    }
   },
   "outputs": [
    {
     "data": {
      "application/json": {
       "cell": {
        "!": "OSMagics",
        "HTML": "Other",
        "SVG": "Other",
        "bash": "Other",
        "capture": "ExecutionMagics",
        "cmd": "Other",
        "debug": "ExecutionMagics",
        "file": "Other",
        "html": "DisplayMagics",
        "javascript": "DisplayMagics",
        "js": "DisplayMagics",
        "latex": "DisplayMagics",
        "markdown": "DisplayMagics",
        "perl": "Other",
        "prun": "ExecutionMagics",
        "pypy": "Other",
        "python": "Other",
        "python2": "Other",
        "python3": "Other",
        "ruby": "Other",
        "script": "ScriptMagics",
        "sh": "Other",
        "svg": "DisplayMagics",
        "sx": "OSMagics",
        "system": "OSMagics",
        "time": "ExecutionMagics",
        "timeit": "ExecutionMagics",
        "writefile": "OSMagics"
       },
       "line": {
        "alias": "OSMagics",
        "alias_magic": "BasicMagics",
        "autoawait": "AsyncMagics",
        "autocall": "AutoMagics",
        "automagic": "AutoMagics",
        "autosave": "KernelMagics",
        "bookmark": "OSMagics",
        "cd": "OSMagics",
        "clear": "KernelMagics",
        "cls": "KernelMagics",
        "colors": "BasicMagics",
        "conda": "PackagingMagics",
        "config": "ConfigMagics",
        "connect_info": "KernelMagics",
        "copy": "Other",
        "ddir": "Other",
        "debug": "ExecutionMagics",
        "dhist": "OSMagics",
        "dirs": "OSMagics",
        "doctest_mode": "BasicMagics",
        "echo": "Other",
        "ed": "Other",
        "edit": "KernelMagics",
        "env": "OSMagics",
        "gui": "BasicMagics",
        "hist": "Other",
        "history": "HistoryMagics",
        "killbgscripts": "ScriptMagics",
        "ldir": "Other",
        "less": "KernelMagics",
        "load": "CodeMagics",
        "load_ext": "ExtensionMagics",
        "loadpy": "CodeMagics",
        "logoff": "LoggingMagics",
        "logon": "LoggingMagics",
        "logstart": "LoggingMagics",
        "logstate": "LoggingMagics",
        "logstop": "LoggingMagics",
        "ls": "Other",
        "lsmagic": "BasicMagics",
        "macro": "ExecutionMagics",
        "magic": "BasicMagics",
        "matplotlib": "PylabMagics",
        "mkdir": "Other",
        "more": "KernelMagics",
        "notebook": "BasicMagics",
        "page": "BasicMagics",
        "pastebin": "CodeMagics",
        "pdb": "ExecutionMagics",
        "pdef": "NamespaceMagics",
        "pdoc": "NamespaceMagics",
        "pfile": "NamespaceMagics",
        "pinfo": "NamespaceMagics",
        "pinfo2": "NamespaceMagics",
        "pip": "PackagingMagics",
        "popd": "OSMagics",
        "pprint": "BasicMagics",
        "precision": "BasicMagics",
        "prun": "ExecutionMagics",
        "psearch": "NamespaceMagics",
        "psource": "NamespaceMagics",
        "pushd": "OSMagics",
        "pwd": "OSMagics",
        "pycat": "OSMagics",
        "pylab": "PylabMagics",
        "qtconsole": "KernelMagics",
        "quickref": "BasicMagics",
        "recall": "HistoryMagics",
        "rehashx": "OSMagics",
        "reload_ext": "ExtensionMagics",
        "ren": "Other",
        "rep": "Other",
        "rerun": "HistoryMagics",
        "reset": "NamespaceMagics",
        "reset_selective": "NamespaceMagics",
        "rmdir": "Other",
        "run": "ExecutionMagics",
        "save": "CodeMagics",
        "sc": "OSMagics",
        "set_env": "OSMagics",
        "store": "StoreMagics",
        "sx": "OSMagics",
        "system": "OSMagics",
        "tb": "ExecutionMagics",
        "time": "ExecutionMagics",
        "timeit": "ExecutionMagics",
        "unalias": "OSMagics",
        "unload_ext": "ExtensionMagics",
        "who": "NamespaceMagics",
        "who_ls": "NamespaceMagics",
        "whos": "NamespaceMagics",
        "xdel": "NamespaceMagics",
        "xmode": "BasicMagics"
       }
      },
      "text/plain": [
       "Available line magics:\n",
       "%alias  %alias_magic  %autoawait  %autocall  %automagic  %autosave  %bookmark  %cd  %clear  %cls  %colors  %conda  %config  %connect_info  %copy  %ddir  %debug  %dhist  %dirs  %doctest_mode  %echo  %ed  %edit  %env  %gui  %hist  %history  %killbgscripts  %ldir  %less  %load  %load_ext  %loadpy  %logoff  %logon  %logstart  %logstate  %logstop  %ls  %lsmagic  %macro  %magic  %matplotlib  %mkdir  %more  %notebook  %page  %pastebin  %pdb  %pdef  %pdoc  %pfile  %pinfo  %pinfo2  %pip  %popd  %pprint  %precision  %prun  %psearch  %psource  %pushd  %pwd  %pycat  %pylab  %qtconsole  %quickref  %recall  %rehashx  %reload_ext  %ren  %rep  %rerun  %reset  %reset_selective  %rmdir  %run  %save  %sc  %set_env  %store  %sx  %system  %tb  %time  %timeit  %unalias  %unload_ext  %who  %who_ls  %whos  %xdel  %xmode\n",
       "\n",
       "Available cell magics:\n",
       "%%!  %%HTML  %%SVG  %%bash  %%capture  %%cmd  %%debug  %%file  %%html  %%javascript  %%js  %%latex  %%markdown  %%perl  %%prun  %%pypy  %%python  %%python2  %%python3  %%ruby  %%script  %%sh  %%svg  %%sx  %%system  %%time  %%timeit  %%writefile\n",
       "\n",
       "Automagic is ON, % prefix IS NOT needed for line magics."
      ]
     },
     "execution_count": 20,
     "metadata": {},
     "output_type": "execute_result"
    }
   ],
   "source": [
    "%lsmagic"
   ]
  },
  {
   "cell_type": "markdown",
   "id": "47f67103",
   "metadata": {
    "slideshow": {
     "slide_type": "slide"
    }
   },
   "source": [
    "# Contextual Help"
   ]
  },
  {
   "cell_type": "markdown",
   "id": "e7a02d6f",
   "metadata": {
    "slideshow": {
     "slide_type": "slide"
    }
   },
   "source": [
    "# Extensiones\n",
    "- nbextensions\n",
    "- Tabla de contenidos\n",
    "- Collapsible headings"
   ]
  },
  {
   "attachments": {
    "extensiones-1.png": {
     "image/png": "[encoded data removed]"
    }
   },
   "cell_type": "markdown",
   "id": "c58af3e0",
   "metadata": {
    "slideshow": {
     "slide_type": "notes"
    }
   },
   "source": [
    "Las extensiones de Notebook son complementos que pueden ayudar a agregar fácilmente el contenido / función que desea a Jupyter Notebook. La mejor manera de instalar extensiones es Jupyter NbExtensions [Documentación](https://jupyter-contrib-nbextensions.readthedocs.io/en/latest/), es un paquete que nos instala decenas de extensiones con solo ejecutar un comando.\n",
    "\n",
    "Para instalarlo hay que ejecutar el comando: \n",
    "\n",
    "`pip install jupyter_contrib_nbextensions`\n",
    "\n",
    "También podemos instalar la interfac para configurar nuestras extensiones:\n",
    "\n",
    "`pip install jupyter_nbextensions_configurator`\n",
    "\n",
    "Es necesario instalar archivos JavaScript y CSS con el siguiente comando:\n",
    "\n",
    "`jupyter contrib nbextension install`\n",
    "\n",
    "Ahora en el dashboard nos aparecerá una nueva pestaña como la siguiente imagen.\n",
    "\n",
    "![extensiones-1.png](attachment:extensiones-1.png)\n",
    "\n",
    "Para activar una extensión, simplemente tenemos que seleccionarla y luego abrir el notebook o actualizarlo (F5)."
   ]
  },
  {
   "cell_type": "markdown",
   "id": "be8230ba",
   "metadata": {
    "slideshow": {
     "slide_type": "subslide"
    }
   },
   "source": [
    "## nbextensions\n",
    "Paquete de extensiones [Documentación](https://jupyter-contrib-nbextensions.readthedocs.io/en/latest/). Para instalar, ejecutar los siguientes comandos:\n",
    "- `pip install jupyter_contrib_nbextensions`.\n",
    "- `pip install jupyter_nbextensions_configurator`.\n",
    "- `jupyter contrib nbextension install`."
   ]
  },
  {
   "attachments": {
    "extensiones-2.png": {
     "image/png": "[encoded data removed]"
    }
   },
   "cell_type": "markdown",
   "id": "047e4ff8",
   "metadata": {
    "slideshow": {
     "slide_type": "subslide"
    }
   },
   "source": [
    "## Tabla de contenidos\n",
    "Al activarla, aparecerá una nueva opción en el menú de funciones que permite mostrar la tabla de contenidos del notebook.\n",
    "![extensiones-2.png](attachment:extensiones-2.png)\n",
    "\n",
    "## Collapsible headings\n",
    "Nos permite colapsar el contenido dentro de un título. Sirve para tener el notebook ordenado y limpio."
   ]
  },
  {
   "cell_type": "markdown",
   "id": "af49bbd4",
   "metadata": {
    "slideshow": {
     "slide_type": "subslide"
    }
   },
   "source": [
    "## Hinterland\n",
    "Autocompletado de código a medida quer escribimos."
   ]
  },
  {
   "cell_type": "code",
   "execution_count": 1,
   "id": "d831023e",
   "metadata": {
    "slideshow": {
     "slide_type": "fragment"
    }
   },
   "outputs": [],
   "source": [
    "#Autocompletado de código con Hinterland"
   ]
  },
  {
   "cell_type": "markdown",
   "id": "07bafaf7",
   "metadata": {
    "slideshow": {
     "slide_type": "slide"
    }
   },
   "source": [
    "## Rise\n",
    "- Extension para presentaciones. [Documentación](https://rise.readthedocs.io/en/stable/)\n",
    "- No incuído en nbextensions."
   ]
  },
  {
   "attachments": {
    "rise-1.png": {
     "image/png": "[encoded data removed]"
    }
   },
   "cell_type": "markdown",
   "id": "5d110cff",
   "metadata": {
    "slideshow": {
     "slide_type": "notes"
    }
   },
   "source": [
    "Rise es una extension que nos permite realizar una presentación de un notebook con mucha facilidad y ejecutar celdas dentro de la misma presentación.\n",
    "Para instalarlo hay que ejecutar el comando `pip install RISE`\n",
    "### Cómo crear un slideshow\n",
    "\n",
    "#### Habilitar el modo presentación\n",
    "1. Ir a *View* en la barra de herramientas.\n",
    "1. Ir a la opción \"Cell Toolbar\".\n",
    "1. Seleccionar la opción *Slideshow*.\n",
    "\n",
    "![rise-1.png](attachment:rise-1.png)"
   ]
  },
  {
   "attachments": {
    "rise-2.png": {
     "image/png": "[encoded data removed]"
    }
   },
   "cell_type": "markdown",
   "id": "f1c8ee7c",
   "metadata": {
    "slideshow": {
     "slide_type": "notes"
    }
   },
   "source": [
    "#### Seleccionar las diapositivas\n",
    "Ahora debemos seleccionar las celdas que queremos que se muestren como diapositivas. Para esto vamos al menu desplegable que tenemos arriba a la derecha de la celda y seleccionamos la opción que queremos para dicha celda\n",
    "\n",
    "![rise-2.png](attachment:rise-2.png)\n",
    "\n",
    "- **Slide**: la celda será una diapositiva.\n",
    "- **Sub-Slide**: la celda será una sub-diapositiva.\n",
    "- **Fragment**: la celda será una compilación de la diapositiva anterior (será una \"parte\" de la anterior diapositiva).\n",
    "- **Skip**: la celda no se mostrará en la presentación.\n",
    "- **Notes**: la celda es marcada como una nota que debe tener el cuenta el presentador, no se mostrará en la presentación.\n",
    "- **-**: indica que la celda debe seguir el comportamiento de la celda anterior."
   ]
  },
  {
   "attachments": {
    "rise-3.png": {
     "image/png": "[encoded data removed]"
    }
   },
   "cell_type": "markdown",
   "id": "dd909e8c",
   "metadata": {
    "slideshow": {
     "slide_type": "notes"
    }
   },
   "source": [
    "### Iniciar la presentación\n",
    "La presentación se puede iniciar directamente desde el Notebook. Para esto podemos usar el atajo de teclado (*alt+r* en windows) o hacer clic en el botón de RISE.\n",
    "\n",
    "![rise-3.png](attachment:rise-3.png)\n",
    "\n",
    "Luego comenzará la presentación y se verá algo como esto:"
   ]
  },
  {
   "attachments": {
    "rise-4.png": {
     "image/png": "[encoded data removed]"
    }
   },
   "cell_type": "markdown",
   "id": "7c17eab3",
   "metadata": {
    "slideshow": {
     "slide_type": "notes"
    }
   },
   "source": [
    "![rise-4.png](attachment:rise-4.png)"
   ]
  },
  {
   "cell_type": "markdown",
   "id": "9f8bd9d6",
   "metadata": {
    "slideshow": {
     "slide_type": "slide"
    }
   },
   "source": [
    "# Referencias\n",
    "- Paradigma Digital. [Video](https://youtu.be/cxXL5A4u-D8)\n",
    "- Presentacion de Johan S. Yepes R. - Universidad EARFIT. [Video](https://youtu.be/dzPSL-HjNpw)\n",
    "- Diego Efe. [Canal](https://www.youtube.com/channel/UCOyAMYXTaF6wlSu1cFK_MKA)\n",
    "- Extensiones. https://analyticsindiamag.com/top-8-extensions-for-your-jupyter-notebook/\n",
    "- RISE. https://www.markroepke.me/posts/2019/05/23/creating-interactive-slideshows-in-jupyter.html"
   ]
  }
 ],
 "metadata": {
  "celltoolbar": "Slideshow",
  "kernelspec": {
   "display_name": "Python 3",
   "language": "python",
   "name": "python3"
  },
  "language_info": {
   "codemirror_mode": {
    "name": "ipython",
    "version": 3
   },
   "file_extension": ".py",
   "mimetype": "text/x-python",
   "name": "python",
   "nbconvert_exporter": "python",
   "pygments_lexer": "ipython3",
   "version": "3.8.8"
  },
  "toc": {
   "base_numbering": 1,
   "nav_menu": {},
   "number_sections": true,
   "sideBar": true,
   "skip_h1_title": false,
   "title_cell": "Table of Contents",
   "title_sidebar": "Contents",
   "toc_cell": false,
   "toc_position": {
    "height": "calc(100% - 180px)",
    "left": "10px",
    "top": "150px",
    "width": "360px"
   },
   "toc_section_display": true,
   "toc_window_display": true
  }
 },
 "nbformat": 4,
 "nbformat_minor": 5
}
