{
 "cells": [
  {
   "cell_type": "markdown",
   "id": "a7f40967",
   "metadata": {
    "slideshow": {
     "slide_type": "notes"
    }
   },
   "source": [
    "# IMPORTANTE\n",
    "## FALTA:\n",
    "- Hace cuánto se desarrolla, quien lo mantiene actualmente y fecha del lanzamiento de la última versión estable\n",
    "- Que versión de Python mínima hace falta para utilizarla\n",
    "\n",
    "# DUDAS\n",
    "- Cuál es la mejor forma para mostrar las ofertas laborales?\n",
    "- Cómo hacer un ejemplo de una integral interactiva?\n",
    "- Alguna forma mejor de poner los links de imagenes?"
   ]
  },
  {
   "cell_type": "code",
   "execution_count": 1,
   "id": "69a5728d",
   "metadata": {
    "slideshow": {
     "slide_type": "skip"
    }
   },
   "outputs": [],
   "source": [
    "%matplotlib notebook\n",
    "import matplotlib.pyplot as plt\n",
    "from mpl_toolkits.mplot3d import axes3d\n",
    "import numpy as np\n",
    "import sympy as sp\n",
    "import pandas as pd\n",
    "from ipywidgets import interact\n",
    "from IPython.display import display\n",
    "from ipyleaflet import Map"
   ]
  },
  {
   "cell_type": "markdown",
   "id": "e7a91706",
   "metadata": {
    "slideshow": {
     "slide_type": "slide"
    }
   },
   "source": [
    "<div align=\"center\">\n",
    "    <h1>JUPYTER NOTEBOOKS SEMINARIO 2021</h1>\n",
    "    <img src=\"img/Jupyter_logo.svg\" style=\"margin-left:auto; margin-right:auto\" width=\"20%\" height=\"20%\">\n",
    "</div>\n",
    "\n",
    "\n",
    "## Grupo 09\n",
    "- Cabrera, Miguel\n",
    "- Bermejo Zambrini, Gonzalo Martín"
   ]
  },
  {
   "cell_type": "markdown",
   "id": "4ed74930",
   "metadata": {
    "slideshow": {
     "slide_type": "notes"
    }
   },
   "source": [
    "- [x] jupyter notebook\n",
    "- [x] instalacion\n",
    "- [x] uso de Jupyter Notebook\n",
    "    - [x] crear un notebook\n",
    "    - [x] codigo\n",
    "    - [x] markdown\n",
    "    - [x] latex\n",
    "    - [x] atajos del teclado\n",
    "    - [x] pandas\n",
    "    - [x] matplotlib\n",
    "- [x] jupyter lab (hacer demo)\n",
    "- [x] ofertas laborales\n",
    "- [x] kernel\n",
    "- [x] widgets\n",
    "- [x] funciones magicas\n",
    "    - [x] timeit\n",
    "    - [x] store\n",
    "    - [x] html\n",
    "    - [x] lsmagic\n",
    "- [ ] contextual help\n",
    "- [x] extensiones\n",
    "    - [x] nbextensions\n",
    "    - [x] Tabla de contenido\n",
    "    - [x] Collapsible headings\n",
    "    - [x] Hinterland\n",
    "    - [x] RISE\n",
    "- [x] buenas practicas\n",
    "- [ ] referencias"
   ]
  },
  {
   "cell_type": "markdown",
   "id": "b3e809ae",
   "metadata": {
    "slideshow": {
     "slide_type": "slide"
    }
   },
   "source": [
    "# ¿Qué es Jupyter Notebook?\n",
    "Combina 3 componentes:\n",
    "- Jupyter Notebook App.\n",
    "- Notebooks.\n",
    "    - [GitHub](https://github.com/gmbz/frro-soporte-seminario-2021/blob/main/Presentacion.ipynb)\n",
    "- Kernel.\n"
   ]
  },
  {
   "cell_type": "markdown",
   "id": "c77f08f7-6b39-467a-a8b6-fc08ba1f93a6",
   "metadata": {
    "slideshow": {
     "slide_type": "notes"
    }
   },
   "source": [
    "### Notebook:\n",
    "\n",
    "\n",
    "Jupyter notebook es una combinación de 3 componentes:\n",
    "- Jupyter notebook app.\n",
    "- Notebook.\n",
    "- Kernel.\n",
    "\n",
    "### Jupyter notebook app:\n",
    "Es una aplicación web de código abierto que permite la creación y manejo de notebooks en el navegador.\n",
    "\n",
    "### Notebook:\n",
    "\n",
    "Un notebook es un documento que contiene tanto código (por ejemplo, Python o R) como elementos de texto enriquecido (párrafos, ecuaciones, figuras, enlaces, etc.). Es tanto un documento legible por un ser humano, pudiendo contener la descripción de un análisis de datos y sus resultados (figuras, tablas, etc.), como ejecutable por una computadora, pudiendo contener snippets de código que ejecutan por ejemplo un análisis de datos.\n",
    "\n",
    "Debido a esta capacidad de mezclar, código y elementos de texto, este tipo de documentos son ideales para colocar el trabajo de un data scientist (científico de datos), reuniendo el análisis y los resultados en un mismo lugar, a la vez que permite ser ejecutado en tiempo real.\n",
    "\n",
    "Los notebooks pueden exportarse a distintos formatos como pdf, html, latex, etc para ser compartidos con otras personas con mucha facilidad. También pueden ser compartidos con otras personas a través de GitHub, ya que esta plataforma permite visualizar los notebooks como si estuvieras en la aplicación de Jupyter, con la única diferencia que no se puede interactuar con el documento."
   ]
  },
  {
   "cell_type": "markdown",
   "id": "119cd706",
   "metadata": {
    "slideshow": {
     "slide_type": "subslide"
    }
   },
   "source": [
    "# Kernel\n",
    "[Kernels](https://github.com/jupyter/jupyter/wiki/Jupyter-kernels)\n",
    "\n",
    "<div align=\"center\">\n",
    "    <img src=\"img/R_logo.svg\" style=\"margin-left:auto; margin-right:auto\" width=\"10%\" height=\"10%\"><img src=\"img/Julia_prog_language.svg\" style=\"margin-left:auto; margin-right:auto\" width=\"10%\" height=\"10%\"><img src=\"img/Python-logo-notext.svg\" style=\"margin-left:auto; margin-right:auto\"><img src=\"img/Scala-full-color.svg\" style=\"margin-left:auto; margin-right:auto\" width=\"20%\" height=\"10%\">\n",
    "</div>"
   ]
  },
  {
   "cell_type": "markdown",
   "id": "16756f92-f3ed-4a81-81fb-8c4dc463c7aa",
   "metadata": {
    "slideshow": {
     "slide_type": "notes"
    },
    "tags": []
   },
   "source": [
    "### Kernel:\n",
    "El kernel es el motor del notebook, es donde se ejecuta el código y proporciona las salidas de las celdas. Cuando se abre un notebook, el kernel asociado se ejecuta de forma automática.\n",
    "Jupyter por defecto nos instala solo el kernel de python (IPython), pero al ser de código abierto permite que la comunidad desarrolle sus propios kernels, tal es así que hoy en día hay mas de 100 kernes que podemos utilizar en los notebooks."
   ]
  },
  {
   "cell_type": "markdown",
   "id": "80becf6d",
   "metadata": {
    "slideshow": {
     "slide_type": "slide"
    }
   },
   "source": [
    "# Instalación\n",
    "- [Proyect Jupyter](https://jupyter.org/install).\n",
    "- [Anaconda](https://www.anaconda.com/products/individual).\n",
    "    - Linux.\n",
    "    - Windows."
   ]
  },
  {
   "cell_type": "markdown",
   "id": "7c4ed805",
   "metadata": {
    "slideshow": {
     "slide_type": "notes"
    }
   },
   "source": [
    "Podemos instalar Jupyter Notebook desde su página principal, vamos a la seccíon *Insall* y vemos que nos dice que tenemos que ejecutar el comando `pip install notebook` en consola para instalarlo, luego para abrirlo ejecutamos el comando `jupyter notebook` y se nos va a abrir una pestaña en nuestro navegador con el dashboard de jupyter.\n",
    "\n",
    "Otra forma de instalarlo es con Anaconda,\n",
    "\n",
    "### Linux\n",
    "Vamos al sitio oficial de Anaconda y descargamos el instalador. En la terminal ejecutamos `bash ~/Descargas/<nombre del archivo>.sh` por ejemplo: `bash ~/Descargas/Anaconda3-2021.05-Linux-x86_64.sh` (si el archivo no está en la carpeta descargas, debemos cambiar la parte `/Descargas/` por la carpeta donde esté), luego presionamos *Enter* para iniciar el proceso. Ahora presionamos *Enter* (varias veces) para ver la licencia hasta que nos pida que ingresemos *yes* para continuar con la instalación. Una vez instalado solo tenemos que ejecutar el comando `jupyter notebook` y se nos va a abrir una pestaña en nuestro navegador con el dashboard de jupyter.\n",
    "\n",
    "### Windows\n",
    "Vamos al sitio oficial de Anaconda y descargamos el instalador gráfico de acuerdo a nuestra arquitectura de pc (32 0 64 bits), ejecutamos el instalador y lo único que tenemos que hacer el hacer clic en *Siguiente* hasta que nos tire la opción de **ADD TO PATH** y la seleccionamos, nos va a aparecer un mensaje en rojo pero no debemos preocuparnos por eso, luego seguimos dando a *Siguiente* hasta que terminemos la instalación. Luego para abrir un notebook ejecutamos el comando `jupyter notebook` y se nos va a abrir una pestaña en nuestro navegador con el dashboard de jupyter o podemos abrir la interfaz de anaconda (escribiendo en el buscador de windows \"anaconda\") y haciendo click en *Launch* de Jupyter Notebook.\n",
    "\n",
    "![Abrir notebook desde la interfaz de anaconda](img/instalacion-1.png)"
   ]
  },
  {
   "cell_type": "markdown",
   "id": "c6860bc0",
   "metadata": {
    "slideshow": {
     "slide_type": "slide"
    }
   },
   "source": [
    "# Uso de Jupyter Notebook\n",
    "\n",
    "- Crear notebook (demo).\n",
    "- Codigo\n",
    "- Markdown\n",
    "- Latex\n",
    "- Atajos de teclado"
   ]
  },
  {
   "cell_type": "markdown",
   "id": "598d4a3d",
   "metadata": {
    "slideshow": {
     "slide_type": "subslide"
    }
   },
   "source": [
    "## Codigo"
   ]
  },
  {
   "cell_type": "code",
   "execution_count": 9,
   "id": "e5e5df6c",
   "metadata": {
    "scrolled": true,
    "slideshow": {
     "slide_type": "fragment"
    }
   },
   "outputs": [
    {
     "name": "stdout",
     "output_type": "stream",
     "text": [
      "Hola mundo\n"
     ]
    }
   ],
   "source": [
    "print(\"Hola mundo\")"
   ]
  },
  {
   "cell_type": "markdown",
   "id": "5ae90860",
   "metadata": {
    "slideshow": {
     "slide_type": "subslide"
    }
   },
   "source": [
    "## Markdown"
   ]
  },
  {
   "cell_type": "markdown",
   "id": "1ffe6d2d",
   "metadata": {
    "slideshow": {
     "slide_type": "fragment"
    }
   },
   "source": [
    "# Titulos\n",
    "## Subtitulos \n",
    "\n",
    "- Listas desordenadas\n",
    "- Listas desordenadas\n",
    "1. Listas ordenadas\n",
    "1. Listas ordenadas\n",
    "\n",
    "**Negrita**\n",
    "\n",
    "*Italica*\n",
    "\n",
    "#### Links\n",
    "[google](https://www.google.com/)\n"
   ]
  },
  {
   "cell_type": "markdown",
   "id": "1d0562de",
   "metadata": {
    "slideshow": {
     "slide_type": "subslide"
    }
   },
   "source": [
    "## Latex"
   ]
  },
  {
   "cell_type": "markdown",
   "id": "800ad970",
   "metadata": {
    "slideshow": {
     "slide_type": "fragment"
    }
   },
   "source": [
    "$$\\int_{a}^{b}f(x) dx$$"
   ]
  },
  {
   "cell_type": "markdown",
   "id": "43708198",
   "metadata": {
    "slideshow": {
     "slide_type": "notes"
    }
   },
   "source": [
    "### Modos de Edición y Comando\n",
    "\n",
    "Al seleccionar una celda, ésta puede colocarse en modo de edición (el borde izquierdo que indica la celda activa será de color verde) o en modo de comando (el color del borde izquierdo será azul). Para pasar entre un modo u otro se puede usar el teclado (*Esc* y *Return*) o el mouse (pulsando el puntero dentro de la celda o sobre el espacio vacío de la izquierda).\n",
    "\n",
    "### Atajos de teclado\n",
    "\n",
    "Hay un enorme conjunto de atajos de teclado que facilitan el uso del entorno, pueden ver la lista a través del menú *Help/Keyboard Shortcuts*. También se pueden editar y agregar combinaciones de teclas mediante el menú *Help/Edit Keyboard Shortcuts*, por ejemplo es muy util definir un *keybinding* para mover las celdas hacia arriba y otro para moverlas hacia abajo. A través del menú *Help* también se accede a un tour educativo por las diferentes partes del entorno.\n",
    "\n",
    "Principales combinaciones útiles (funcionan cuando la celda está en modo **Comando**):"
   ]
  },
  {
   "cell_type": "markdown",
   "id": "79e1ca7c",
   "metadata": {
    "slideshow": {
     "slide_type": "subslide"
    }
   },
   "source": [
    "## Atajos de teclado\n",
    "\n",
    "|Atajo de teclado|Función|\n",
    "|:---|:---|\n",
    "|Shift+Enter|Ejecuta la celda actual y pasa a la siguiente|\n",
    "|A|Inserta una celda encima de la actual|\n",
    "|B|Inserta una celda debajo de la actual|\n",
    "|DD|Borra la celda actual|\n",
    "|Y|Convierte la celda en **Code**|\n",
    "|M|Convierte la celda en **Markdown**|"
   ]
  },
  {
   "cell_type": "markdown",
   "id": "ad79642b",
   "metadata": {
    "slideshow": {
     "slide_type": "subslide"
    }
   },
   "source": [
    "## Pandas"
   ]
  },
  {
   "cell_type": "code",
   "execution_count": 2,
   "id": "910f4b0f",
   "metadata": {
    "scrolled": true,
    "slideshow": {
     "slide_type": "skip"
    }
   },
   "outputs": [],
   "source": [
    "def puntos_random(n):\n",
    "    p = []\n",
    "    x = np.random.randn(n)\n",
    "    y = np.random.randn(n)\n",
    "    p = list(zip(x,y))\n",
    "    return p"
   ]
  },
  {
   "cell_type": "code",
   "execution_count": 3,
   "id": "4b075f3a",
   "metadata": {
    "slideshow": {
     "slide_type": "skip"
    }
   },
   "outputs": [],
   "source": [
    "def dataframe_puntos_random():\n",
    "    puntos = puntos_random(100)\n",
    "    return pd.DataFrame(data = puntos, columns = ['x','y'])\n",
    "tabla = dataframe_puntos_random()"
   ]
  },
  {
   "cell_type": "code",
   "execution_count": 10,
   "id": "f1a92173",
   "metadata": {
    "slideshow": {
     "slide_type": "fragment"
    }
   },
   "outputs": [
    {
     "data": {
      "text/html": [
       "<div>\n",
       "<style scoped>\n",
       "    .dataframe tbody tr th:only-of-type {\n",
       "        vertical-align: middle;\n",
       "    }\n",
       "\n",
       "    .dataframe tbody tr th {\n",
       "        vertical-align: top;\n",
       "    }\n",
       "\n",
       "    .dataframe thead th {\n",
       "        text-align: right;\n",
       "    }\n",
       "</style>\n",
       "<table border=\"1\" class=\"dataframe\">\n",
       "  <thead>\n",
       "    <tr style=\"text-align: right;\">\n",
       "      <th></th>\n",
       "      <th>x</th>\n",
       "      <th>y</th>\n",
       "    </tr>\n",
       "  </thead>\n",
       "  <tbody>\n",
       "    <tr>\n",
       "      <th>0</th>\n",
       "      <td>-0.568916</td>\n",
       "      <td>0.010072</td>\n",
       "    </tr>\n",
       "    <tr>\n",
       "      <th>1</th>\n",
       "      <td>1.310178</td>\n",
       "      <td>-0.242908</td>\n",
       "    </tr>\n",
       "    <tr>\n",
       "      <th>2</th>\n",
       "      <td>1.290210</td>\n",
       "      <td>0.029700</td>\n",
       "    </tr>\n",
       "    <tr>\n",
       "      <th>3</th>\n",
       "      <td>-0.657240</td>\n",
       "      <td>-0.103200</td>\n",
       "    </tr>\n",
       "    <tr>\n",
       "      <th>4</th>\n",
       "      <td>-1.014031</td>\n",
       "      <td>-1.067386</td>\n",
       "    </tr>\n",
       "    <tr>\n",
       "      <th>...</th>\n",
       "      <td>...</td>\n",
       "      <td>...</td>\n",
       "    </tr>\n",
       "    <tr>\n",
       "      <th>95</th>\n",
       "      <td>1.053039</td>\n",
       "      <td>-1.729381</td>\n",
       "    </tr>\n",
       "    <tr>\n",
       "      <th>96</th>\n",
       "      <td>1.416689</td>\n",
       "      <td>-0.344683</td>\n",
       "    </tr>\n",
       "    <tr>\n",
       "      <th>97</th>\n",
       "      <td>-1.358893</td>\n",
       "      <td>-0.406492</td>\n",
       "    </tr>\n",
       "    <tr>\n",
       "      <th>98</th>\n",
       "      <td>-0.312287</td>\n",
       "      <td>-2.298634</td>\n",
       "    </tr>\n",
       "    <tr>\n",
       "      <th>99</th>\n",
       "      <td>-0.464690</td>\n",
       "      <td>-1.057979</td>\n",
       "    </tr>\n",
       "  </tbody>\n",
       "</table>\n",
       "<p>100 rows × 2 columns</p>\n",
       "</div>"
      ],
      "text/plain": [
       "           x         y\n",
       "0  -0.568916  0.010072\n",
       "1   1.310178 -0.242908\n",
       "2   1.290210  0.029700\n",
       "3  -0.657240 -0.103200\n",
       "4  -1.014031 -1.067386\n",
       "..       ...       ...\n",
       "95  1.053039 -1.729381\n",
       "96  1.416689 -0.344683\n",
       "97 -1.358893 -0.406492\n",
       "98 -0.312287 -2.298634\n",
       "99 -0.464690 -1.057979\n",
       "\n",
       "[100 rows x 2 columns]"
      ]
     },
     "execution_count": 10,
     "metadata": {},
     "output_type": "execute_result"
    }
   ],
   "source": [
    "tabla"
   ]
  },
  {
   "cell_type": "markdown",
   "id": "a3b2ba8b",
   "metadata": {
    "slideshow": {
     "slide_type": "subslide"
    }
   },
   "source": [
    "## Graficos"
   ]
  },
  {
   "cell_type": "code",
   "execution_count": 4,
   "id": "259cbe37",
   "metadata": {
    "slideshow": {
     "slide_type": "skip"
    }
   },
   "outputs": [],
   "source": [
    "def grafico_puntos_random(df):\n",
    "    plt.scatter(df.x,df.y)"
   ]
  },
  {
   "cell_type": "code",
   "execution_count": 11,
   "id": "c1724be7",
   "metadata": {
    "scrolled": true,
    "slideshow": {
     "slide_type": "fragment"
    }
   },
   "outputs": [
    {
     "data": {
      "image/png": "[encoded data removed]",
      "text/plain": [
       "<Figure size 432x288 with 1 Axes>"
      ]
     },
     "metadata": {
      "needs_background": "light"
     },
     "output_type": "display_data"
    }
   ],
   "source": [
    "grafico_puntos_random(tabla) "
   ]
  },
  {
   "cell_type": "markdown",
   "id": "117d3256",
   "metadata": {
    "slideshow": {
     "slide_type": "subslide"
    }
   },
   "source": [
    "## Gráficos 3d"
   ]
  },
  {
   "cell_type": "code",
   "execution_count": 5,
   "id": "5b2d0a82",
   "metadata": {
    "slideshow": {
     "slide_type": "skip"
    }
   },
   "outputs": [],
   "source": [
    "#codigo de https://docs.sympy.org/latest/modules/plotting.html\n",
    "def grafico3d():\n",
    "    x, y = sp.symbols('x y')\n",
    "    sp.plotting.plot3d(x*y,(x,-5,5),(y,-5,5))"
   ]
  },
  {
   "cell_type": "code",
   "execution_count": 12,
   "id": "27442a73",
   "metadata": {
    "scrolled": true,
    "slideshow": {
     "slide_type": "fragment"
    }
   },
   "outputs": [
    {
     "data": {
      "image/png": "[encoded data removed]",
      "text/plain": [
       "<Figure size 432x288 with 1 Axes>"
      ]
     },
     "metadata": {
      "needs_background": "light"
     },
     "output_type": "display_data"
    }
   ],
   "source": [
    "grafico3d()"
   ]
  },
  {
   "cell_type": "markdown",
   "id": "6492a848",
   "metadata": {
    "slideshow": {
     "slide_type": "notes"
    }
   },
   "source": [
    "Hay un grafico 3d en https://youtu.be/cxXL5A4u-D8?t=1366"
   ]
  },
  {
   "cell_type": "markdown",
   "id": "d197c4b3",
   "metadata": {
    "slideshow": {
     "slide_type": "slide"
    }
   },
   "source": [
    "# Jupyter Lab\n",
    "- Multiples notebooks.\n",
    "- Navegador de archivos propio.\n",
    "- índice.\n",
    "- Fácil instalacion de extensiones.\n",
    "- Modificar la interfaz.\n",
    "- Sensación de IDE/editor de código."
   ]
  },
  {
   "cell_type": "markdown",
   "id": "21f5d064",
   "metadata": {
    "slideshow": {
     "slide_type": "notes"
    }
   },
   "source": [
    "**Jupyter Lab (JL)** es una tecnología brindada por [Proyect Jupyter](https://jupyter.org/) que nos permite abrir multiples notebooks con distintos kernels (mas adelante en este notebook se explican los kernels) en la misma interfaz. Nos permite encontrar muy facilmente los notebooks y abrirlos en diferentes \"pestañas\" a través del navegador de archivos, a diferencia de los notebooks que se abren en pestañas independientes y tenemos que buscarlos en el dashboard (panel) de Jupyter Notebooks.\n",
    "\n",
    "Contiene un índice que nos permite saltar de un título a otro dentro del notebook sin necesidad de extensiones.\n",
    "\n",
    "Nos ofrece facilidad para el manejo de extensiones, siendo mas facil instalarlas sin tener la necesidad de ejecutar un comando por consola.\n",
    "\n",
    "Otra funcionalidad que nos ofrece **JL** es la posibilidad de modificar la interfaz a gusto, como activar el modo oscuro, activar/desactivar el autoguardado, aumentar/disminuir el tamaño del texto, aumentar/disminuir el tamaño de la interfaz y muchas cosas más.\n",
    "\n",
    "Nos da una sensación de que estamos trabajando dentro de un editor de códigom ya que su interfaz es muy parecida la de **Visual Studio Code**"
   ]
  },
  {
   "cell_type": "markdown",
   "id": "271c031e",
   "metadata": {
    "slideshow": {
     "slide_type": "slide"
    }
   },
   "source": [
    "# Ofertas laborales\n",
    "- Mercado Libre - Data Analytics. [Publicación](https://www.linkedin.com/jobs/view/2633163339/?eBP=JOB_SEARCH_ORGANIC&recommendedFlavor=ACTIVELY_HIRING_COMPANY&refId=%2BZ6KacA5ai%2BCyuBPXBOd%2Bg%3D%3D&trackingId=anEfsbuPtIxPl6iMHqNlWQ%3D%3D&trk=flagship3_search_srp_jobs)\n",
    "- Tribes.AI - Data Scientist. [Publicacón](https://www.linkedin.com/jobs/view/2644485465/?eBP=JOB_SEARCH_ORGANIC&recommendedFlavor=JOB_SEEKER_QUALIFIED&refId=%2BZ6KacA5ai%2BCyuBPXBOd%2Bg%3D%3D&trackingId=kU2Y4Ih2UBOMag9onjh4Kg%3D%3D&trk=flagship3_search_srp_jobs)\n",
    "- IBM - Data Scientist. [Publicación](https://www.linkedin.com/jobs/view/2661231372/?eBP=JOB_SEARCH_ORGANIC&recommendedFlavor=ACTIVELY_HIRING_COMPANY&refId=%2BZ6KacA5ai%2BCyuBPXBOd%2Bg%3D%3D&trackingId=VJh5wpKt5IjGH1FyFg7g%2FA%3D%3D&trk=flagship3_search_srp_jobs)\n",
    "- BRIDGE - Python Data Engineer. [Publicación](https://www.linkedin.com/jobs/view/2650054869/?eBP=JOB_SEARCH_ORGANIC&recommendedFlavor=SCHOOL_RECRUIT&refId=%2BZ6KacA5ai%2BCyuBPXBOd%2Bg%3D%3D&trackingId=tzJbXb1YCyJTEzZWz6BW6Q%3D%3D&trk=flagship3_search_srp_jobs)"
   ]
  },
  {
   "cell_type": "markdown",
   "id": "19abf248",
   "metadata": {
    "slideshow": {
     "slide_type": "notes"
    }
   },
   "source": [
    "Las publicaciones fueron tomadas el día 02/08/21, pueden no estar disponibles,"
   ]
  },
  {
   "cell_type": "markdown",
   "id": "35a777e2",
   "metadata": {
    "slideshow": {
     "slide_type": "notes"
    }
   },
   "source": [
    "widgets en https://youtu.be/cxXL5A4u-D8?t=1381"
   ]
  },
  {
   "cell_type": "markdown",
   "id": "6360b845",
   "metadata": {
    "slideshow": {
     "slide_type": "slide"
    }
   },
   "source": [
    "# Widgets"
   ]
  },
  {
   "cell_type": "markdown",
   "id": "d7c66149",
   "metadata": {
    "slideshow": {
     "slide_type": "notes"
    }
   },
   "source": [
    "Los Widgets son una funcionalidad que nos brinda Jupyter que nos permite modificar datos de funciones de forma fácil e interactiva, dandonos la salida de dicha funcion automaticamente, sin tener que modificar el código. Para esto es necesario ejecutar: `pip install ipywidgets` y `jupyter nbextension enable --py widgetsnbextension`"
   ]
  },
  {
   "cell_type": "code",
   "execution_count": 6,
   "id": "8fa0aa5e",
   "metadata": {
    "slideshow": {
     "slide_type": "skip"
    }
   },
   "outputs": [],
   "source": [
    "def slider(x):\n",
    "    return x"
   ]
  },
  {
   "cell_type": "code",
   "execution_count": 13,
   "id": "304db20c",
   "metadata": {
    "scrolled": true,
    "slideshow": {
     "slide_type": "fragment"
    }
   },
   "outputs": [
    {
     "data": {
      "application/vnd.jupyter.widget-view+json": {
       "model_id": "35fa13eef076436da60964e539b40177",
       "version_major": 2,
       "version_minor": 0
      },
      "text/plain": [
       "interactive(children=(IntSlider(value=10, description='x', max=30, min=-10), Output()), _dom_classes=('widget-…"
      ]
     },
     "metadata": {},
     "output_type": "display_data"
    },
    {
     "data": {
      "text/plain": [
       "<function __main__.slider(x)>"
      ]
     },
     "execution_count": 13,
     "metadata": {},
     "output_type": "execute_result"
    }
   ],
   "source": [
    "interact(slider,x=10)"
   ]
  },
  {
   "cell_type": "code",
   "execution_count": 7,
   "id": "3d961ae2",
   "metadata": {
    "slideshow": {
     "slide_type": "skip"
    }
   },
   "outputs": [
    {
     "data": {
      "application/vnd.jupyter.widget-view+json": {
       "model_id": "3837c06af9734a38bc3e6564335da17d",
       "version_major": 2,
       "version_minor": 0
      },
      "text/plain": [
       "interactive(children=(Checkbox(value=True, description='x'), FloatSlider(value=1.0, description='y', max=3.0, …"
      ]
     },
     "metadata": {},
     "output_type": "display_data"
    }
   ],
   "source": [
    "@interact(x=True, y=1.0)\n",
    "def g(x,y):\n",
    "    return (x,y)"
   ]
  },
  {
   "cell_type": "markdown",
   "id": "a91ccb9a",
   "metadata": {
    "slideshow": {
     "slide_type": "subslide"
    }
   },
   "source": [
    "## Interacción con gráficos"
   ]
  },
  {
   "cell_type": "code",
   "execution_count": 8,
   "id": "907134fa",
   "metadata": {
    "slideshow": {
     "slide_type": "skip"
    }
   },
   "outputs": [],
   "source": [
    "%matplotlib inline\n",
    "def f1(n):\n",
    "    x=np.arange(-100,100,0.1)\n",
    "    y=x**n\n",
    "    plt.plot(x,y)"
   ]
  },
  {
   "cell_type": "code",
   "execution_count": 14,
   "id": "f764c982",
   "metadata": {
    "scrolled": false,
    "slideshow": {
     "slide_type": "fragment"
    }
   },
   "outputs": [
    {
     "data": {
      "application/vnd.jupyter.widget-view+json": {
       "model_id": "e9152e6e2f6e486c8a0f79ce3a66f1f7",
       "version_major": 2,
       "version_minor": 0
      },
      "text/plain": [
       "interactive(children=(IntSlider(value=5, description='n', max=10, min=1), Output()), _dom_classes=('widget-int…"
      ]
     },
     "metadata": {},
     "output_type": "display_data"
    },
    {
     "data": {
      "text/plain": [
       "<function __main__.f1(n)>"
      ]
     },
     "execution_count": 14,
     "metadata": {},
     "output_type": "execute_result"
    }
   ],
   "source": [
    "interact(f1,n=(1,10,1))"
   ]
  },
  {
   "cell_type": "markdown",
   "id": "1aa6e03b",
   "metadata": {
    "slideshow": {
     "slide_type": "subslide"
    }
   },
   "source": [
    "## Interacción con mapas"
   ]
  },
  {
   "cell_type": "code",
   "execution_count": 16,
   "id": "09319cee",
   "metadata": {
    "slideshow": {
     "slide_type": "fragment"
    }
   },
   "outputs": [
    {
     "data": {
      "application/vnd.jupyter.widget-view+json": {
       "model_id": "555488bd27084a90b11399e0a957a89f",
       "version_major": 2,
       "version_minor": 0
      },
      "text/plain": [
       "Map(center=[-32.95437267097578, -60.64372798809471], controls=(ZoomControl(options=['position', 'zoom_in_text'…"
      ]
     },
     "metadata": {},
     "output_type": "display_data"
    }
   ],
   "source": [
    "Map(center=[-32.95437267097578, -60.64372798809471], zoom=100)"
   ]
  },
  {
   "cell_type": "markdown",
   "id": "f0c0a756",
   "metadata": {
    "slideshow": {
     "slide_type": "slide"
    }
   },
   "source": [
    "# Funciones mágicas\n",
    "- *%timeit* y *%%timeit*\n",
    "- *%store*\n",
    "- *%%html*\n",
    "- *%lsmagic*"
   ]
  },
  {
   "cell_type": "markdown",
   "id": "e55aea6e",
   "metadata": {
    "slideshow": {
     "slide_type": "subslide"
    }
   },
   "source": [
    "## %timeit y %%timeit\n",
    "Nos devuelve el tiempo que tarda en ejecutarse una linea/celda"
   ]
  },
  {
   "cell_type": "code",
   "execution_count": 17,
   "id": "72564d02",
   "metadata": {
    "slideshow": {
     "slide_type": "fragment"
    }
   },
   "outputs": [
    {
     "name": "stdout",
     "output_type": "stream",
     "text": [
      "194 ns ± 0.365 ns per loop (mean ± std. dev. of 7 runs, 10000000 loops each)\n"
     ]
    }
   ],
   "source": [
    "%timeit range(1000)"
   ]
  },
  {
   "cell_type": "code",
   "execution_count": 18,
   "id": "ba956eec",
   "metadata": {
    "scrolled": true,
    "slideshow": {
     "slide_type": "fragment"
    }
   },
   "outputs": [
    {
     "name": "stdout",
     "output_type": "stream",
     "text": [
      "306 µs ± 2.24 µs per loop (mean ± std. dev. of 7 runs, 1000 loops each)\n"
     ]
    }
   ],
   "source": [
    "%%timeit\n",
    "puntos_random(100)\n",
    "dataframe_puntos_random()"
   ]
  },
  {
   "cell_type": "markdown",
   "id": "5d4d79ff",
   "metadata": {
    "slideshow": {
     "slide_type": "subslide"
    }
   },
   "source": [
    "## %store\n",
    "Guarda una variable para usarla en otro notebook. `%store <variable>` para guardarla, `%store -r <variable>` para acceder desde otro notebook"
   ]
  },
  {
   "cell_type": "code",
   "execution_count": 19,
   "id": "f2047f20",
   "metadata": {
    "slideshow": {
     "slide_type": "fragment"
    }
   },
   "outputs": [
    {
     "name": "stdout",
     "output_type": "stream",
     "text": [
      "Stored 'asignatura' (dict)\n"
     ]
    }
   ],
   "source": [
    "asignatura = {'nombre':'Soporte a la gestión da datos con programación visual','profesor':'Mario'}\n",
    "%store asignatura"
   ]
  },
  {
   "cell_type": "markdown",
   "id": "93599101",
   "metadata": {
    "slideshow": {
     "slide_type": "subslide"
    }
   },
   "source": [
    "## %%html\n",
    "Convierte la celda en codigo html"
   ]
  },
  {
   "cell_type": "code",
   "execution_count": 20,
   "id": "0dcd2429",
   "metadata": {
    "slideshow": {
     "slide_type": "fragment"
    }
   },
   "outputs": [
    {
     "data": {
      "text/html": [
       "<h1>Lorem ipsum</h1>\n",
       "<p>Lorem ipsum dolor sit amet, consectetur adipiscing elit, sed do eiusmod tempor incididunt ut labore et dolore magna aliqua. Ut enim ad minim veniam, quis nostrud exercitation ullamco laboris nisi ut aliquip ex ea commodo consequat. Duis aute irure dolor in reprehenderit in voluptate velit esse cillum dolore eu fugiat nulla pariatur. Excepteur sint occaecat cupidatat non proident, sunt in culpa qui officia deserunt mollit anim id est laborum.</p>\n"
      ],
      "text/plain": [
       "<IPython.core.display.HTML object>"
      ]
     },
     "metadata": {},
     "output_type": "display_data"
    }
   ],
   "source": [
    "%%html\n",
    "<h1>Lorem ipsum</h1>\n",
    "<p>Lorem ipsum dolor sit amet, consectetur adipiscing elit, sed do eiusmod tempor incididunt ut labore et dolore magna aliqua. Ut enim ad minim veniam, quis nostrud exercitation ullamco laboris nisi ut aliquip ex ea commodo consequat. Duis aute irure dolor in reprehenderit in voluptate velit esse cillum dolore eu fugiat nulla pariatur. Excepteur sint occaecat cupidatat non proident, sunt in culpa qui officia deserunt mollit anim id est laborum.</p>\n"
   ]
  },
  {
   "cell_type": "markdown",
   "id": "9dc03651",
   "metadata": {
    "slideshow": {
     "slide_type": "subslide"
    }
   },
   "source": [
    "## %lsmagic\n",
    "Muestra todas las funciones magicas. "
   ]
  },
  {
   "cell_type": "code",
   "execution_count": 21,
   "id": "e93945b5",
   "metadata": {
    "scrolled": true,
    "slideshow": {
     "slide_type": "fragment"
    }
   },
   "outputs": [
    {
     "data": {
      "application/json": {
       "cell": {
        "!": "OSMagics",
        "HTML": "Other",
        "SVG": "Other",
        "bash": "Other",
        "capture": "ExecutionMagics",
        "cmd": "Other",
        "debug": "ExecutionMagics",
        "file": "Other",
        "html": "DisplayMagics",
        "javascript": "DisplayMagics",
        "js": "DisplayMagics",
        "latex": "DisplayMagics",
        "markdown": "DisplayMagics",
        "perl": "Other",
        "prun": "ExecutionMagics",
        "pypy": "Other",
        "python": "Other",
        "python2": "Other",
        "python3": "Other",
        "ruby": "Other",
        "script": "ScriptMagics",
        "sh": "Other",
        "svg": "DisplayMagics",
        "sx": "OSMagics",
        "system": "OSMagics",
        "time": "ExecutionMagics",
        "timeit": "ExecutionMagics",
        "writefile": "OSMagics"
       },
       "line": {
        "alias": "OSMagics",
        "alias_magic": "BasicMagics",
        "autoawait": "AsyncMagics",
        "autocall": "AutoMagics",
        "automagic": "AutoMagics",
        "autosave": "KernelMagics",
        "bookmark": "OSMagics",
        "cd": "OSMagics",
        "clear": "KernelMagics",
        "cls": "KernelMagics",
        "colors": "BasicMagics",
        "conda": "PackagingMagics",
        "config": "ConfigMagics",
        "connect_info": "KernelMagics",
        "copy": "Other",
        "ddir": "Other",
        "debug": "ExecutionMagics",
        "dhist": "OSMagics",
        "dirs": "OSMagics",
        "doctest_mode": "BasicMagics",
        "echo": "Other",
        "ed": "Other",
        "edit": "KernelMagics",
        "env": "OSMagics",
        "gui": "BasicMagics",
        "hist": "Other",
        "history": "HistoryMagics",
        "killbgscripts": "ScriptMagics",
        "ldir": "Other",
        "less": "KernelMagics",
        "load": "CodeMagics",
        "load_ext": "ExtensionMagics",
        "loadpy": "CodeMagics",
        "logoff": "LoggingMagics",
        "logon": "LoggingMagics",
        "logstart": "LoggingMagics",
        "logstate": "LoggingMagics",
        "logstop": "LoggingMagics",
        "ls": "Other",
        "lsmagic": "BasicMagics",
        "macro": "ExecutionMagics",
        "magic": "BasicMagics",
        "matplotlib": "PylabMagics",
        "mkdir": "Other",
        "more": "KernelMagics",
        "notebook": "BasicMagics",
        "page": "BasicMagics",
        "pastebin": "CodeMagics",
        "pdb": "ExecutionMagics",
        "pdef": "NamespaceMagics",
        "pdoc": "NamespaceMagics",
        "pfile": "NamespaceMagics",
        "pinfo": "NamespaceMagics",
        "pinfo2": "NamespaceMagics",
        "pip": "PackagingMagics",
        "popd": "OSMagics",
        "pprint": "BasicMagics",
        "precision": "BasicMagics",
        "prun": "ExecutionMagics",
        "psearch": "NamespaceMagics",
        "psource": "NamespaceMagics",
        "pushd": "OSMagics",
        "pwd": "OSMagics",
        "pycat": "OSMagics",
        "pylab": "PylabMagics",
        "qtconsole": "KernelMagics",
        "quickref": "BasicMagics",
        "recall": "HistoryMagics",
        "rehashx": "OSMagics",
        "reload_ext": "ExtensionMagics",
        "ren": "Other",
        "rep": "Other",
        "rerun": "HistoryMagics",
        "reset": "NamespaceMagics",
        "reset_selective": "NamespaceMagics",
        "rmdir": "Other",
        "run": "ExecutionMagics",
        "save": "CodeMagics",
        "sc": "OSMagics",
        "set_env": "OSMagics",
        "store": "StoreMagics",
        "sx": "OSMagics",
        "system": "OSMagics",
        "tb": "ExecutionMagics",
        "time": "ExecutionMagics",
        "timeit": "ExecutionMagics",
        "unalias": "OSMagics",
        "unload_ext": "ExtensionMagics",
        "who": "NamespaceMagics",
        "who_ls": "NamespaceMagics",
        "whos": "NamespaceMagics",
        "xdel": "NamespaceMagics",
        "xmode": "BasicMagics"
       }
      },
      "text/plain": [
       "Available line magics:\n",
       "%alias  %alias_magic  %autoawait  %autocall  %automagic  %autosave  %bookmark  %cd  %clear  %cls  %colors  %conda  %config  %connect_info  %copy  %ddir  %debug  %dhist  %dirs  %doctest_mode  %echo  %ed  %edit  %env  %gui  %hist  %history  %killbgscripts  %ldir  %less  %load  %load_ext  %loadpy  %logoff  %logon  %logstart  %logstate  %logstop  %ls  %lsmagic  %macro  %magic  %matplotlib  %mkdir  %more  %notebook  %page  %pastebin  %pdb  %pdef  %pdoc  %pfile  %pinfo  %pinfo2  %pip  %popd  %pprint  %precision  %prun  %psearch  %psource  %pushd  %pwd  %pycat  %pylab  %qtconsole  %quickref  %recall  %rehashx  %reload_ext  %ren  %rep  %rerun  %reset  %reset_selective  %rmdir  %run  %save  %sc  %set_env  %store  %sx  %system  %tb  %time  %timeit  %unalias  %unload_ext  %who  %who_ls  %whos  %xdel  %xmode\n",
       "\n",
       "Available cell magics:\n",
       "%%!  %%HTML  %%SVG  %%bash  %%capture  %%cmd  %%debug  %%file  %%html  %%javascript  %%js  %%latex  %%markdown  %%perl  %%prun  %%pypy  %%python  %%python2  %%python3  %%ruby  %%script  %%sh  %%svg  %%sx  %%system  %%time  %%timeit  %%writefile\n",
       "\n",
       "Automagic is ON, % prefix IS NOT needed for line magics."
      ]
     },
     "execution_count": 21,
     "metadata": {},
     "output_type": "execute_result"
    }
   ],
   "source": [
    "%lsmagic"
   ]
  },
  {
   "cell_type": "markdown",
   "id": "47f67103",
   "metadata": {
    "slideshow": {
     "slide_type": "slide"
    }
   },
   "source": [
    "# Contextual Help"
   ]
  },
  {
   "cell_type": "markdown",
   "id": "e7a02d6f",
   "metadata": {
    "slideshow": {
     "slide_type": "slide"
    }
   },
   "source": [
    "# Extensiones\n",
    "- nbextensions\n",
    "- Tabla de contenidos\n",
    "- Collapsible headings\n",
    "- Hinterland\n",
    "- RISE"
   ]
  },
  {
   "attachments": {
    "extensiones-1.png": {
     "image/png": "[encoded data removed]"
    }
   },
   "cell_type": "markdown",
   "id": "c58af3e0",
   "metadata": {
    "slideshow": {
     "slide_type": "notes"
    }
   },
   "source": [
    "Las extensiones de Notebook son complementos que pueden ayudar a agregar fácilmente el contenido / función que desea a Jupyter Notebook. La mejor manera de instalar extensiones es Jupyter NbExtensions [Documentación](https://jupyter-contrib-nbextensions.readthedocs.io/en/latest/), es un paquete que nos instala decenas de extensiones con solo ejecutar un comando.\n",
    "\n",
    "Para instalarlo hay que ejecutar el comando: \n",
    "\n",
    "`pip install jupyter_contrib_nbextensions`\n",
    "\n",
    "También podemos instalar la interfaz para configurar nuestras extensiones:\n",
    "\n",
    "`pip install jupyter_nbextensions_configurator`\n",
    "\n",
    "Es necesario instalar archivos JavaScript y CSS con el siguiente comando:\n",
    "\n",
    "`jupyter contrib nbextension install`\n",
    "\n",
    "Ahora en el dashboard nos aparecerá una nueva pestaña como la siguiente imagen.\n",
    "\n",
    "![extensiones-1.png](attachment:extensiones-1.png)\n",
    "\n",
    "Para activar una extensión, simplemente tenemos que seleccionarla y luego abrir el notebook o actualizarlo (F5)."
   ]
  },
  {
   "cell_type": "markdown",
   "id": "be8230ba",
   "metadata": {
    "slideshow": {
     "slide_type": "subslide"
    }
   },
   "source": [
    "## nbextensions\n",
    "Paquete de extensiones [Documentación](https://jupyter-contrib-nbextensions.readthedocs.io/en/latest/). Para instalar, ejecutar los siguientes comandos:\n",
    "- `pip install jupyter_contrib_nbextensions`.\n",
    "- `pip install jupyter_nbextensions_configurator`.\n",
    "- `jupyter contrib nbextension install`."
   ]
  },
  {
   "attachments": {
    "extensiones-2.png": {
     "image/png": "[encoded data removed]"
    }
   },
   "cell_type": "markdown",
   "id": "047e4ff8",
   "metadata": {
    "slideshow": {
     "slide_type": "subslide"
    }
   },
   "source": [
    "## Tabla de contenidos\n",
    "Al activarla, aparecerá una nueva opción en el menú de funciones que permite mostrar la tabla de contenidos del notebook.\n",
    "![extensiones-2.png](attachment:extensiones-2.png)\n",
    "\n",
    "## Collapsible headings\n",
    "Nos permite colapsar el contenido dentro de un título. Sirve para tener el notebook ordenado y limpio."
   ]
  },
  {
   "cell_type": "markdown",
   "id": "af49bbd4",
   "metadata": {
    "slideshow": {
     "slide_type": "subslide"
    }
   },
   "source": [
    "## Hinterland\n",
    "Autocompletado de código a medida quer escribimos."
   ]
  },
  {
   "cell_type": "code",
   "execution_count": null,
   "id": "d831023e",
   "metadata": {
    "slideshow": {
     "slide_type": "fragment"
    }
   },
   "outputs": [],
   "source": [
    "#Autocompletado de código con Hinterland"
   ]
  },
  {
   "cell_type": "markdown",
   "id": "07bafaf7",
   "metadata": {
    "slideshow": {
     "slide_type": "subslide"
    }
   },
   "source": [
    "## Rise\n",
    "- Extension para presentaciones. [Documentación](https://rise.readthedocs.io/en/stable/)\n",
    "- No incuído en nbextensions.\n",
    "- `pip install RISE`."
   ]
  },
  {
   "attachments": {},
   "cell_type": "markdown",
   "id": "5d110cff",
   "metadata": {
    "slideshow": {
     "slide_type": "notes"
    }
   },
   "source": [
    "Rise es una extension que nos permite realizar una presentación de un notebook con mucha facilidad y ejecutar celdas dentro de la misma presentación.\n",
    "Para instalarlo hay que ejecutar el comando `pip install RISE`\n",
    "### Cómo crear un slideshow\n",
    "\n",
    "#### Habilitar el modo presentación\n",
    "1. Ir a *View* en la barra de herramientas.\n",
    "1. Ir a la opción \"Cell Toolbar\".\n",
    "1. Seleccionar la opción *Slideshow*.\n",
    "\n",
    "![rise-1.png](img/rise-1.png)\n",
    "\n",
    "#### Seleccionar las diapositivas\n",
    "Ahora debemos seleccionar las celdas que queremos que se muestren como diapositivas. Para esto vamos al menu desplegable que tenemos arriba a la derecha de la celda y seleccionamos la opción que queremos para dicha celda\n",
    "\n",
    "![rise-2.png](img/rise-2.png)\n",
    "\n",
    "- **Slide**: la celda será una diapositiva.\n",
    "- **Sub-Slide**: la celda será una sub-diapositiva.\n",
    "- **Fragment**: la celda será una compilación de la diapositiva anterior (será una \"parte\" de la anterior diapositiva).\n",
    "- **Skip**: la celda no se mostrará en la presentación.\n",
    "- **Notes**: la celda es marcada como una nota que debe tener el cuenta el presentador, no se mostrará en la presentación.\n",
    "- **-**: indica que la celda debe seguir el comportamiento de la celda anterior.\n",
    "\n",
    "### Iniciar la presentación\n",
    "La presentación se puede iniciar directamente desde el Notebook. Para esto podemos usar el atajo de teclado (*alt+r* en windows) o hacer clic en el botón de RISE.|\n",
    "\n",
    "![rise-3.png](img/rise-3.png)\n",
    "\n",
    "Luego comenzará la presentación y se verá algo como esto:\n",
    "\n",
    "![rise-4.png](img/rise-4.png)"
   ]
  },
  {
   "cell_type": "markdown",
   "id": "2ad2bfc7-76a3-4d78-8713-4165c73c3640",
   "metadata": {
    "slideshow": {
     "slide_type": "slide"
    }
   },
   "source": [
    "# Buenas prácticas\n",
    "- Importación de dependencias en la primera celda.\n",
    "- Celdas simples.\n",
    "- Definir funciones.\n",
    "- Dividir el notebook en secciones."
   ]
  },
  {
   "cell_type": "markdown",
   "id": "4f318bee-2308-4015-b53b-c5b82a5840a5",
   "metadata": {
    "slideshow": {
     "slide_type": "notes"
    }
   },
   "source": [
    "### Importación de dependencias en la primera celda.\n",
    "Realiza el \"import\" de todas tus dependencias en la primera celda del notebook. Esto ayuda la legibilidad, ya que antes de meterse con funciones y análisis de datos, tienes claro cuales son las dependencias que el notebook utiliza. A su vez, cuando re-inicias el notebook se cargan nuevamente todas las dependencias. Por último, si no quieres re-ejecutar todas las celdas de nuevo, tienes todas las dependencias juntas en una única celda que re-ejecutar.\n",
    "### Celdas simples.\n",
    "Trata de mantener tus celdas simples, es decir logra un correcto balance entre cantidad de celdas y contenido en las mismas. Por ejemplo, no es una buena práctica tener una única celda con todo el contenido de tu notebook, pero tampoco es bueno tener una celda por cada comentario o línea de código que tengas.\n",
    "\n",
    "Logra un correcto balance agrupando comentarios, código, etc.\n",
    "### Definir funciones.\n",
    "Aunque esto es una buena práctica de python, es bueno definir funciones en las celdas y luego llamarlas cuando se necesiten. Esto ayuda a la legitibilidad y reutilizacion del código en el notebook.\n",
    "### Dividir el notebook en funciones.\n",
    "Es bueno dividir el contenido del notebook en secciones utilizando la expresividad del lenguaje Markdown. A su vez, siempre resulta muy útil agregar una sección de Objetivos y otra de Índice al inicio del mismo."
   ]
  }
 ],
 "metadata": {
  "celltoolbar": "Slideshow",
  "kernelspec": {
   "display_name": "Python 3",
   "language": "python",
   "name": "python3"
  },
  "language_info": {
   "codemirror_mode": {
    "name": "ipython",
    "version": 3
   },
   "file_extension": ".py",
   "mimetype": "text/x-python",
   "name": "python",
   "nbconvert_exporter": "python",
   "pygments_lexer": "ipython3",
   "version": "3.8.8"
  },
  "toc": {
   "base_numbering": 1,
   "nav_menu": {
    "height": "472px",
    "width": "304px"
   },
   "number_sections": true,
   "sideBar": true,
   "skip_h1_title": false,
   "title_cell": "Table of Contents",
   "title_sidebar": "Contents",
   "toc_cell": false,
   "toc_position": {
    "height": "calc(100% - 180px)",
    "left": "10px",
    "top": "150px",
    "width": "360px"
   },
   "toc_section_display": true,
   "toc_window_display": false
  },
  "toc-autonumbering": false,
  "toc-showmarkdowntxt": false
 },
 "nbformat": 4,
 "nbformat_minor": 5
}
